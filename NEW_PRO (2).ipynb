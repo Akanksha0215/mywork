{
  "nbformat": 4,
  "nbformat_minor": 0,
  "metadata": {
    "colab": {
      "name": "NEW_PRO.ipynb",
      "provenance": [],
      "collapsed_sections": []
    },
    "kernelspec": {
      "display_name": "Python 3",
      "name": "python3"
    }
  },
  "cells": [
    {
      "cell_type": "code",
      "metadata": {
        "id": "4IKfoqOYoQuU"
      },
      "source": [
        "# Code to read csv file into colaboratory:\n",
        "!pip install -U -q PyDrive\n",
        "from pydrive.auth import GoogleAuth\n",
        "from pydrive.drive import GoogleDrive\n",
        "from google.colab import auth\n",
        "from oauth2client.client import GoogleCredentials\n",
        "\n",
        "import pandas as pd \n",
        "%matplotlib inline\n",
        "import matplotlib.pyplot as plt\n",
        "import numpy as np\n",
        "from scipy.stats import norm\n",
        "import seaborn as sns\n",
        "\n"
      ],
      "execution_count": 756,
      "outputs": []
    },
    {
      "cell_type": "code",
      "metadata": {
        "id": "QDoU_XCxoTUo"
      },
      "source": [
        "auth.authenticate_user()\n",
        "gauth = GoogleAuth()\n",
        "gauth.credentials = GoogleCredentials.get_application_default()\n",
        "drive = GoogleDrive(gauth)"
      ],
      "execution_count": 757,
      "outputs": []
    },
    {
      "cell_type": "code",
      "metadata": {
        "id": "1FDPfz04oYEP"
      },
      "source": [
        "\n",
        "downloaded = drive.CreateFile({'id':'1HjJVhAW5ShUhjP_Te_shHfwb1SL9_g3f'}) # replace the id with id of file you want to access\n",
        "downloaded.GetContentFile('202007-capitalbikeshare-tripdata.csv')\n",
        "\n",
        "downloaded = drive.CreateFile({'id':'1JrcFOpE8pt_cW3WSRgqcphraBCeB8DHT'}) # replace the id with id of file you want to access\n",
        "downloaded.GetContentFile('202008-capitalbikeshare-tripdata.csv')\n",
        "\n",
        "downloaded = drive.CreateFile({'id':'1zu983Np-KB-wr-yY7Eg0kiaiwrtSoeBq'}) # replace the id with id of file you want to access\n",
        "downloaded.GetContentFile('202009-capitalbikeshare-tripdata.csv')\n",
        "\n",
        "downloaded = drive.CreateFile({'id':'1-kL0EZFg0sBvQt22H3hnrEYu_zlo9gLy'}) # replace the id with id of file you want to access\n",
        "downloaded.GetContentFile('202010-capitalbikeshare-tripdata.csv')\n",
        "\n",
        "downloaded = drive.CreateFile({'id':'12LPyXWsaBkfdiz3DRvy0t21dMBOzdbNP'}) # replace the id with id of file you want to access\n",
        "downloaded.GetContentFile('202011-capitalbikeshare-tripdata.csv')\n",
        "\n",
        "downloaded = drive.CreateFile({'id':'1K1igSICfeeVjMjORyURLSpFRwHTJSX4U'}) # replace the id with id of file you want to access\n",
        "downloaded.GetContentFile('202012-capitalbikeshare-tripdata.csv')\n",
        "\n",
        "downloaded = drive.CreateFile({'id':'1sn8YS229HGrSo_88xXwjtHjeMJJZTm8M'}) # replace the id with id of file you want to access\n",
        "downloaded.GetContentFile('TEMP_USA.csv')"
      ],
      "execution_count": 758,
      "outputs": []
    },
    {
      "cell_type": "code",
      "metadata": {
        "colab": {
          "base_uri": "https://localhost:8080/",
          "height": 195
        },
        "id": "BwRH-xonH1R8",
        "outputId": "6af2b40e-a2f3-4357-fffa-9d276f9b05ac"
      },
      "source": [
        "#imporing capitalbikeshare-tripdata dataset\n",
        "temp = pd.read_csv(\"TEMP_USA.csv\") \n",
        "temp.head()"
      ],
      "execution_count": 759,
      "outputs": [
        {
          "output_type": "execute_result",
          "data": {
            "text/html": [
              "<div>\n",
              "<style scoped>\n",
              "    .dataframe tbody tr th:only-of-type {\n",
              "        vertical-align: middle;\n",
              "    }\n",
              "\n",
              "    .dataframe tbody tr th {\n",
              "        vertical-align: top;\n",
              "    }\n",
              "\n",
              "    .dataframe thead th {\n",
              "        text-align: right;\n",
              "    }\n",
              "</style>\n",
              "<table border=\"1\" class=\"dataframe\">\n",
              "  <thead>\n",
              "    <tr style=\"text-align: right;\">\n",
              "      <th></th>\n",
              "      <th>LAT</th>\n",
              "      <th>LON</th>\n",
              "      <th>YEAR</th>\n",
              "      <th>MO</th>\n",
              "      <th>DY</th>\n",
              "      <th>PRECTOT</th>\n",
              "      <th>QV2M</th>\n",
              "      <th>RH2M</th>\n",
              "      <th>PS</th>\n",
              "      <th>T2M_RANGE</th>\n",
              "      <th>T2M_MAX</th>\n",
              "      <th>T2M_MIN</th>\n",
              "      <th>T2MDEW</th>\n",
              "      <th>T2M</th>\n",
              "      <th>WS50M_RANGE</th>\n",
              "    </tr>\n",
              "  </thead>\n",
              "  <tbody>\n",
              "    <tr>\n",
              "      <th>0</th>\n",
              "      <td>38.88481</td>\n",
              "      <td>-77.00609</td>\n",
              "      <td>2015</td>\n",
              "      <td>1</td>\n",
              "      <td>1</td>\n",
              "      <td>0.00</td>\n",
              "      <td>2.62</td>\n",
              "      <td>71.46</td>\n",
              "      <td>101.16</td>\n",
              "      <td>9.12</td>\n",
              "      <td>5.11</td>\n",
              "      <td>-4.02</td>\n",
              "      <td>-4.87</td>\n",
              "      <td>-0.39</td>\n",
              "      <td>3.70</td>\n",
              "    </tr>\n",
              "    <tr>\n",
              "      <th>1</th>\n",
              "      <td>38.88481</td>\n",
              "      <td>-77.00609</td>\n",
              "      <td>2015</td>\n",
              "      <td>1</td>\n",
              "      <td>2</td>\n",
              "      <td>0.00</td>\n",
              "      <td>3.16</td>\n",
              "      <td>73.91</td>\n",
              "      <td>101.57</td>\n",
              "      <td>7.84</td>\n",
              "      <td>6.07</td>\n",
              "      <td>-1.76</td>\n",
              "      <td>-2.33</td>\n",
              "      <td>1.79</td>\n",
              "      <td>4.81</td>\n",
              "    </tr>\n",
              "    <tr>\n",
              "      <th>2</th>\n",
              "      <td>38.88481</td>\n",
              "      <td>-77.00609</td>\n",
              "      <td>2015</td>\n",
              "      <td>1</td>\n",
              "      <td>3</td>\n",
              "      <td>4.49</td>\n",
              "      <td>4.18</td>\n",
              "      <td>96.42</td>\n",
              "      <td>101.75</td>\n",
              "      <td>5.26</td>\n",
              "      <td>4.38</td>\n",
              "      <td>-0.87</td>\n",
              "      <td>1.35</td>\n",
              "      <td>2.02</td>\n",
              "      <td>1.49</td>\n",
              "    </tr>\n",
              "    <tr>\n",
              "      <th>3</th>\n",
              "      <td>38.88481</td>\n",
              "      <td>-77.00609</td>\n",
              "      <td>2015</td>\n",
              "      <td>1</td>\n",
              "      <td>4</td>\n",
              "      <td>10.86</td>\n",
              "      <td>7.35</td>\n",
              "      <td>98.24</td>\n",
              "      <td>100.28</td>\n",
              "      <td>11.12</td>\n",
              "      <td>14.93</td>\n",
              "      <td>3.81</td>\n",
              "      <td>8.88</td>\n",
              "      <td>9.66</td>\n",
              "      <td>6.29</td>\n",
              "    </tr>\n",
              "    <tr>\n",
              "      <th>4</th>\n",
              "      <td>38.88481</td>\n",
              "      <td>-77.00609</td>\n",
              "      <td>2015</td>\n",
              "      <td>1</td>\n",
              "      <td>5</td>\n",
              "      <td>0.00</td>\n",
              "      <td>2.34</td>\n",
              "      <td>61.61</td>\n",
              "      <td>101.63</td>\n",
              "      <td>9.17</td>\n",
              "      <td>5.02</td>\n",
              "      <td>-4.14</td>\n",
              "      <td>-6.45</td>\n",
              "      <td>0.15</td>\n",
              "      <td>7.72</td>\n",
              "    </tr>\n",
              "  </tbody>\n",
              "</table>\n",
              "</div>"
            ],
            "text/plain": [
              "        LAT       LON  YEAR  MO  ...  T2M_MIN  T2MDEW   T2M  WS50M_RANGE\n",
              "0  38.88481 -77.00609  2015   1  ...    -4.02   -4.87 -0.39         3.70\n",
              "1  38.88481 -77.00609  2015   1  ...    -1.76   -2.33  1.79         4.81\n",
              "2  38.88481 -77.00609  2015   1  ...    -0.87    1.35  2.02         1.49\n",
              "3  38.88481 -77.00609  2015   1  ...     3.81    8.88  9.66         6.29\n",
              "4  38.88481 -77.00609  2015   1  ...    -4.14   -6.45  0.15         7.72\n",
              "\n",
              "[5 rows x 15 columns]"
            ]
          },
          "metadata": {
            "tags": []
          },
          "execution_count": 759
        }
      ]
    },
    {
      "cell_type": "code",
      "metadata": {
        "colab": {
          "base_uri": "https://localhost:8080/",
          "height": 215
        },
        "id": "Ith15szhxQsP",
        "outputId": "25d3dd9d-63cf-4441-c6cc-0fbf0b016080"
      },
      "source": [
        "station_status = pd.read_csv(\"https://raw.githubusercontent.com/Akanksha0215/mywork/master/station_status.csv\") \n",
        "station_status.head()"
      ],
      "execution_count": 760,
      "outputs": [
        {
          "output_type": "execute_result",
          "data": {
            "text/html": [
              "<div>\n",
              "<style scoped>\n",
              "    .dataframe tbody tr th:only-of-type {\n",
              "        vertical-align: middle;\n",
              "    }\n",
              "\n",
              "    .dataframe tbody tr th {\n",
              "        vertical-align: top;\n",
              "    }\n",
              "\n",
              "    .dataframe thead th {\n",
              "        text-align: right;\n",
              "    }\n",
              "</style>\n",
              "<table border=\"1\" class=\"dataframe\">\n",
              "  <thead>\n",
              "    <tr style=\"text-align: right;\">\n",
              "      <th></th>\n",
              "      <th>data__stations__is_installed</th>\n",
              "      <th>data__stations__num_bikes_disabled</th>\n",
              "      <th>data__stations__is_returning</th>\n",
              "      <th>data__stations__station_status</th>\n",
              "      <th>data__stations__last_reported</th>\n",
              "      <th>data__stations__eightd_has_available_keys</th>\n",
              "      <th>data__stations__legacy_id</th>\n",
              "      <th>data__stations__num_ebikes_available</th>\n",
              "      <th>data__stations__is_renting</th>\n",
              "      <th>data__stations__num_docks_disabled</th>\n",
              "      <th>data__stations__num_docks_available</th>\n",
              "      <th>data__stations__num_bikes_available</th>\n",
              "      <th>data__stations__station_id</th>\n",
              "      <th>last_updated</th>\n",
              "      <th>ttl</th>\n",
              "    </tr>\n",
              "  </thead>\n",
              "  <tbody>\n",
              "    <tr>\n",
              "      <th>0</th>\n",
              "      <td>1</td>\n",
              "      <td>1</td>\n",
              "      <td>1</td>\n",
              "      <td>active</td>\n",
              "      <td>1599426428</td>\n",
              "      <td>False</td>\n",
              "      <td>1</td>\n",
              "      <td>0</td>\n",
              "      <td>1</td>\n",
              "      <td>0</td>\n",
              "      <td>11</td>\n",
              "      <td>3</td>\n",
              "      <td>1</td>\n",
              "      <td>1.599427e+09</td>\n",
              "      <td>5.0</td>\n",
              "    </tr>\n",
              "    <tr>\n",
              "      <th>1</th>\n",
              "      <td>1</td>\n",
              "      <td>1</td>\n",
              "      <td>1</td>\n",
              "      <td>active</td>\n",
              "      <td>1599421244</td>\n",
              "      <td>False</td>\n",
              "      <td>2</td>\n",
              "      <td>0</td>\n",
              "      <td>1</td>\n",
              "      <td>0</td>\n",
              "      <td>9</td>\n",
              "      <td>1</td>\n",
              "      <td>2</td>\n",
              "      <td>NaN</td>\n",
              "      <td>NaN</td>\n",
              "    </tr>\n",
              "    <tr>\n",
              "      <th>2</th>\n",
              "      <td>1</td>\n",
              "      <td>0</td>\n",
              "      <td>1</td>\n",
              "      <td>active</td>\n",
              "      <td>1599424089</td>\n",
              "      <td>False</td>\n",
              "      <td>3</td>\n",
              "      <td>0</td>\n",
              "      <td>1</td>\n",
              "      <td>0</td>\n",
              "      <td>1</td>\n",
              "      <td>16</td>\n",
              "      <td>3</td>\n",
              "      <td>NaN</td>\n",
              "      <td>NaN</td>\n",
              "    </tr>\n",
              "    <tr>\n",
              "      <th>3</th>\n",
              "      <td>1</td>\n",
              "      <td>0</td>\n",
              "      <td>1</td>\n",
              "      <td>active</td>\n",
              "      <td>1599426176</td>\n",
              "      <td>False</td>\n",
              "      <td>4</td>\n",
              "      <td>0</td>\n",
              "      <td>1</td>\n",
              "      <td>0</td>\n",
              "      <td>8</td>\n",
              "      <td>3</td>\n",
              "      <td>4</td>\n",
              "      <td>NaN</td>\n",
              "      <td>NaN</td>\n",
              "    </tr>\n",
              "    <tr>\n",
              "      <th>4</th>\n",
              "      <td>1</td>\n",
              "      <td>0</td>\n",
              "      <td>1</td>\n",
              "      <td>active</td>\n",
              "      <td>1599424516</td>\n",
              "      <td>False</td>\n",
              "      <td>5</td>\n",
              "      <td>0</td>\n",
              "      <td>1</td>\n",
              "      <td>0</td>\n",
              "      <td>7</td>\n",
              "      <td>4</td>\n",
              "      <td>5</td>\n",
              "      <td>NaN</td>\n",
              "      <td>NaN</td>\n",
              "    </tr>\n",
              "  </tbody>\n",
              "</table>\n",
              "</div>"
            ],
            "text/plain": [
              "   data__stations__is_installed  ...  ttl\n",
              "0                             1  ...  5.0\n",
              "1                             1  ...  NaN\n",
              "2                             1  ...  NaN\n",
              "3                             1  ...  NaN\n",
              "4                             1  ...  NaN\n",
              "\n",
              "[5 rows x 15 columns]"
            ]
          },
          "metadata": {
            "tags": []
          },
          "execution_count": 760
        }
      ]
    },
    {
      "cell_type": "code",
      "metadata": {
        "colab": {
          "base_uri": "https://localhost:8080/",
          "height": 383
        },
        "id": "2UOjfmdZ7GlH",
        "outputId": "7b0f885f-ee83-4baa-8787-1fca89dee190"
      },
      "source": [
        "#imporing capitalbikeshare-tripdata dataset\n",
        "data1 = pd.read_csv(\"202008-capitalbikeshare-tripdata.csv\") \n",
        "data1.head()"
      ],
      "execution_count": 761,
      "outputs": [
        {
          "output_type": "execute_result",
          "data": {
            "text/html": [
              "<div>\n",
              "<style scoped>\n",
              "    .dataframe tbody tr th:only-of-type {\n",
              "        vertical-align: middle;\n",
              "    }\n",
              "\n",
              "    .dataframe tbody tr th {\n",
              "        vertical-align: top;\n",
              "    }\n",
              "\n",
              "    .dataframe thead th {\n",
              "        text-align: right;\n",
              "    }\n",
              "</style>\n",
              "<table border=\"1\" class=\"dataframe\">\n",
              "  <thead>\n",
              "    <tr style=\"text-align: right;\">\n",
              "      <th></th>\n",
              "      <th>ride_id</th>\n",
              "      <th>rideable_type</th>\n",
              "      <th>started_at</th>\n",
              "      <th>ended_at</th>\n",
              "      <th>start_station_name</th>\n",
              "      <th>start_station_id</th>\n",
              "      <th>end_station_name</th>\n",
              "      <th>end_station_id</th>\n",
              "      <th>start_lat</th>\n",
              "      <th>start_lng</th>\n",
              "      <th>end_lat</th>\n",
              "      <th>end_lng</th>\n",
              "      <th>member_casual</th>\n",
              "    </tr>\n",
              "  </thead>\n",
              "  <tbody>\n",
              "    <tr>\n",
              "      <th>0</th>\n",
              "      <td>95D0E56BC37512F2</td>\n",
              "      <td>docked_bike</td>\n",
              "      <td>2020-08-26 20:07:36</td>\n",
              "      <td>2020-08-26 20:36:16</td>\n",
              "      <td>Army Navy Dr &amp; S Joyce St</td>\n",
              "      <td>31006.0</td>\n",
              "      <td>N Lynn St &amp; Fairfax Dr</td>\n",
              "      <td>31917.0</td>\n",
              "      <td>38.863700</td>\n",
              "      <td>-77.063300</td>\n",
              "      <td>38.893860</td>\n",
              "      <td>-77.070862</td>\n",
              "      <td>member</td>\n",
              "    </tr>\n",
              "    <tr>\n",
              "      <th>1</th>\n",
              "      <td>787142FE24DA497D</td>\n",
              "      <td>docked_bike</td>\n",
              "      <td>2020-08-02 17:54:57</td>\n",
              "      <td>2020-08-02 18:12:36</td>\n",
              "      <td>22nd &amp; P ST NW</td>\n",
              "      <td>31285.0</td>\n",
              "      <td>14th &amp; Upshur St NW</td>\n",
              "      <td>31406.0</td>\n",
              "      <td>38.909394</td>\n",
              "      <td>-77.048728</td>\n",
              "      <td>38.942475</td>\n",
              "      <td>-77.032678</td>\n",
              "      <td>member</td>\n",
              "    </tr>\n",
              "    <tr>\n",
              "      <th>2</th>\n",
              "      <td>BE6C2BFB2C0A6CD6</td>\n",
              "      <td>docked_bike</td>\n",
              "      <td>2020-08-11 18:55:15</td>\n",
              "      <td>2020-08-11 19:16:30</td>\n",
              "      <td>Prince George's Plaza Metro</td>\n",
              "      <td>32420.0</td>\n",
              "      <td>Queens Chapel &amp; Hamilton St</td>\n",
              "      <td>32410.0</td>\n",
              "      <td>38.965742</td>\n",
              "      <td>-76.954803</td>\n",
              "      <td>38.954600</td>\n",
              "      <td>-76.959500</td>\n",
              "      <td>casual</td>\n",
              "    </tr>\n",
              "    <tr>\n",
              "      <th>3</th>\n",
              "      <td>7EEF58C1346E290C</td>\n",
              "      <td>docked_bike</td>\n",
              "      <td>2020-08-01 13:51:47</td>\n",
              "      <td>2020-08-01 14:09:52</td>\n",
              "      <td>Rhode Island &amp; Connecticut Ave NW</td>\n",
              "      <td>31239.0</td>\n",
              "      <td>11th &amp; Park Rd NW</td>\n",
              "      <td>31651.0</td>\n",
              "      <td>38.905995</td>\n",
              "      <td>-77.039802</td>\n",
              "      <td>38.931322</td>\n",
              "      <td>-77.028247</td>\n",
              "      <td>casual</td>\n",
              "    </tr>\n",
              "    <tr>\n",
              "      <th>4</th>\n",
              "      <td>61DE8A9F22D88C38</td>\n",
              "      <td>docked_bike</td>\n",
              "      <td>2020-08-21 19:31:56</td>\n",
              "      <td>2020-08-21 19:49:17</td>\n",
              "      <td>Market Square / King St &amp; Royal St</td>\n",
              "      <td>31042.0</td>\n",
              "      <td>King St &amp; Patrick St</td>\n",
              "      <td>31044.0</td>\n",
              "      <td>38.804718</td>\n",
              "      <td>-77.043363</td>\n",
              "      <td>38.805317</td>\n",
              "      <td>-77.049883</td>\n",
              "      <td>member</td>\n",
              "    </tr>\n",
              "  </tbody>\n",
              "</table>\n",
              "</div>"
            ],
            "text/plain": [
              "            ride_id rideable_type  ...    end_lng member_casual\n",
              "0  95D0E56BC37512F2   docked_bike  ... -77.070862        member\n",
              "1  787142FE24DA497D   docked_bike  ... -77.032678        member\n",
              "2  BE6C2BFB2C0A6CD6   docked_bike  ... -76.959500        casual\n",
              "3  7EEF58C1346E290C   docked_bike  ... -77.028247        casual\n",
              "4  61DE8A9F22D88C38   docked_bike  ... -77.049883        member\n",
              "\n",
              "[5 rows x 13 columns]"
            ]
          },
          "metadata": {
            "tags": []
          },
          "execution_count": 761
        }
      ]
    },
    {
      "cell_type": "code",
      "metadata": {
        "colab": {
          "base_uri": "https://localhost:8080/"
        },
        "id": "x3Ew8EAsAQVe",
        "outputId": "b8ce843c-f425-4298-cb87-3356d79d7505"
      },
      "source": [
        "data1['rideable_type'] = [1 if b=='docked_bike' else 0 for b in data1.rideable_type\t]\r\n",
        " \r\n",
        "data1['rideable_type'].value_counts()"
      ],
      "execution_count": 762,
      "outputs": [
        {
          "output_type": "execute_result",
          "data": {
            "text/plain": [
              "1    201992\n",
              "0     49611\n",
              "Name: rideable_type, dtype: int64"
            ]
          },
          "metadata": {
            "tags": []
          },
          "execution_count": 762
        }
      ]
    },
    {
      "cell_type": "code",
      "metadata": {
        "colab": {
          "base_uri": "https://localhost:8080/"
        },
        "id": "yUZFu6tMBnPc",
        "outputId": "80df122c-e398-43de-e6eb-af89d9db8180"
      },
      "source": [
        "# Separate majority and minority classes\r\n",
        "from sklearn.utils import resample\r\n",
        "\r\n",
        "df_majority = data1[data1.rideable_type == 1]\r\n",
        "df_minority = data1[data1.rideable_type==0]\r\n",
        " \r\n",
        "# Downsample majority class\r\n",
        "df_majority_downsampled = resample(df_majority, \r\n",
        "                                 replace=False,    # sample without replacement\r\n",
        "                                 n_samples=49611,     # to match minority class\r\n",
        "                                 random_state=50) # reproducible results\r\n",
        " \r\n",
        "# Combine minority class with downsampled majority class\r\n",
        "data1_downsampled = pd.concat([df_majority_downsampled, df_minority])\r\n",
        " \r\n",
        "# Display new class counts\r\n",
        "data1_downsampled.rideable_type.value_counts()"
      ],
      "execution_count": 763,
      "outputs": [
        {
          "output_type": "execute_result",
          "data": {
            "text/plain": [
              "1    49611\n",
              "0    49611\n",
              "Name: rideable_type, dtype: int64"
            ]
          },
          "metadata": {
            "tags": []
          },
          "execution_count": 763
        }
      ]
    },
    {
      "cell_type": "code",
      "metadata": {
        "colab": {
          "base_uri": "https://localhost:8080/"
        },
        "id": "gFDnRDz0JPGd",
        "outputId": "0e7d2c12-930f-43ab-bead-fc9343cbd76b"
      },
      "source": [
        "data1_downsampled['rideable_type'] = ['docked_bike' if b== 1 else 'electric_bike' for b in data1_downsampled.rideable_type\t]\r\n",
        " \r\n",
        "data1_downsampled['rideable_type'].value_counts()"
      ],
      "execution_count": 764,
      "outputs": [
        {
          "output_type": "execute_result",
          "data": {
            "text/plain": [
              "docked_bike      49611\n",
              "electric_bike    49611\n",
              "Name: rideable_type, dtype: int64"
            ]
          },
          "metadata": {
            "tags": []
          },
          "execution_count": 764
        }
      ]
    },
    {
      "cell_type": "code",
      "metadata": {
        "colab": {
          "base_uri": "https://localhost:8080/",
          "height": 383
        },
        "id": "anWnuRSy694c",
        "outputId": "a0f098c6-4f62-42ad-b733-bf33bce7b16f"
      },
      "source": [
        "#imporing capitalbikeshare-tripdata dataset\n",
        "data2 = pd.read_csv(\"202009-capitalbikeshare-tripdata.csv\") \n",
        "data2.head()"
      ],
      "execution_count": 765,
      "outputs": [
        {
          "output_type": "execute_result",
          "data": {
            "text/html": [
              "<div>\n",
              "<style scoped>\n",
              "    .dataframe tbody tr th:only-of-type {\n",
              "        vertical-align: middle;\n",
              "    }\n",
              "\n",
              "    .dataframe tbody tr th {\n",
              "        vertical-align: top;\n",
              "    }\n",
              "\n",
              "    .dataframe thead th {\n",
              "        text-align: right;\n",
              "    }\n",
              "</style>\n",
              "<table border=\"1\" class=\"dataframe\">\n",
              "  <thead>\n",
              "    <tr style=\"text-align: right;\">\n",
              "      <th></th>\n",
              "      <th>ride_id</th>\n",
              "      <th>rideable_type</th>\n",
              "      <th>started_at</th>\n",
              "      <th>ended_at</th>\n",
              "      <th>start_station_name</th>\n",
              "      <th>start_station_id</th>\n",
              "      <th>end_station_name</th>\n",
              "      <th>end_station_id</th>\n",
              "      <th>start_lat</th>\n",
              "      <th>start_lng</th>\n",
              "      <th>end_lat</th>\n",
              "      <th>end_lng</th>\n",
              "      <th>member_casual</th>\n",
              "    </tr>\n",
              "  </thead>\n",
              "  <tbody>\n",
              "    <tr>\n",
              "      <th>0</th>\n",
              "      <td>02C8003EE103FB10</td>\n",
              "      <td>docked_bike</td>\n",
              "      <td>2020-09-18 17:28:03</td>\n",
              "      <td>2020-09-18 18:28:31</td>\n",
              "      <td>5th St &amp; Massachusetts Ave NW</td>\n",
              "      <td>31265.0</td>\n",
              "      <td>5th St &amp; Massachusetts Ave NW</td>\n",
              "      <td>31265.0</td>\n",
              "      <td>38.90093</td>\n",
              "      <td>-77.018677</td>\n",
              "      <td>38.90093</td>\n",
              "      <td>-77.018677</td>\n",
              "      <td>casual</td>\n",
              "    </tr>\n",
              "    <tr>\n",
              "      <th>1</th>\n",
              "      <td>B3CCC49A34A718DC</td>\n",
              "      <td>electric_bike</td>\n",
              "      <td>2020-09-29 18:41:26</td>\n",
              "      <td>2020-09-29 19:05:59</td>\n",
              "      <td>NaN</td>\n",
              "      <td>NaN</td>\n",
              "      <td>NaN</td>\n",
              "      <td>NaN</td>\n",
              "      <td>38.90000</td>\n",
              "      <td>-77.050000</td>\n",
              "      <td>38.90000</td>\n",
              "      <td>-76.980000</td>\n",
              "      <td>casual</td>\n",
              "    </tr>\n",
              "    <tr>\n",
              "      <th>2</th>\n",
              "      <td>8F6A634D2E73B432</td>\n",
              "      <td>electric_bike</td>\n",
              "      <td>2020-09-29 07:47:38</td>\n",
              "      <td>2020-09-29 08:01:04</td>\n",
              "      <td>NaN</td>\n",
              "      <td>NaN</td>\n",
              "      <td>NaN</td>\n",
              "      <td>NaN</td>\n",
              "      <td>38.90000</td>\n",
              "      <td>-76.980000</td>\n",
              "      <td>38.90000</td>\n",
              "      <td>-77.000000</td>\n",
              "      <td>casual</td>\n",
              "    </tr>\n",
              "    <tr>\n",
              "      <th>3</th>\n",
              "      <td>BCF6943D9FD02C9B</td>\n",
              "      <td>electric_bike</td>\n",
              "      <td>2020-09-29 19:50:38</td>\n",
              "      <td>2020-09-29 20:08:08</td>\n",
              "      <td>NaN</td>\n",
              "      <td>NaN</td>\n",
              "      <td>NaN</td>\n",
              "      <td>NaN</td>\n",
              "      <td>38.91000</td>\n",
              "      <td>-77.030000</td>\n",
              "      <td>38.90000</td>\n",
              "      <td>-77.000000</td>\n",
              "      <td>casual</td>\n",
              "    </tr>\n",
              "    <tr>\n",
              "      <th>4</th>\n",
              "      <td>D91499AB0FB94DCF</td>\n",
              "      <td>electric_bike</td>\n",
              "      <td>2020-09-28 20:36:51</td>\n",
              "      <td>2020-09-28 21:01:34</td>\n",
              "      <td>NaN</td>\n",
              "      <td>NaN</td>\n",
              "      <td>NaN</td>\n",
              "      <td>NaN</td>\n",
              "      <td>38.92000</td>\n",
              "      <td>-77.030000</td>\n",
              "      <td>38.90000</td>\n",
              "      <td>-77.000000</td>\n",
              "      <td>casual</td>\n",
              "    </tr>\n",
              "  </tbody>\n",
              "</table>\n",
              "</div>"
            ],
            "text/plain": [
              "            ride_id  rideable_type  ...    end_lng member_casual\n",
              "0  02C8003EE103FB10    docked_bike  ... -77.018677        casual\n",
              "1  B3CCC49A34A718DC  electric_bike  ... -76.980000        casual\n",
              "2  8F6A634D2E73B432  electric_bike  ... -77.000000        casual\n",
              "3  BCF6943D9FD02C9B  electric_bike  ... -77.000000        casual\n",
              "4  D91499AB0FB94DCF  electric_bike  ... -77.000000        casual\n",
              "\n",
              "[5 rows x 13 columns]"
            ]
          },
          "metadata": {
            "tags": []
          },
          "execution_count": 765
        }
      ]
    },
    {
      "cell_type": "code",
      "metadata": {
        "colab": {
          "base_uri": "https://localhost:8080/"
        },
        "id": "OUW1TP4-FbpL",
        "outputId": "6b525f62-fb9d-4930-9c2e-dd85bc76cec9"
      },
      "source": [
        "data2['rideable_type'] = [1 if b=='docked_bike' else 0 for b in data2.rideable_type\t]\r\n",
        " \r\n",
        "data2['rideable_type'].value_counts()"
      ],
      "execution_count": 766,
      "outputs": [
        {
          "output_type": "execute_result",
          "data": {
            "text/plain": [
              "1    194225\n",
              "0     55674\n",
              "Name: rideable_type, dtype: int64"
            ]
          },
          "metadata": {
            "tags": []
          },
          "execution_count": 766
        }
      ]
    },
    {
      "cell_type": "code",
      "metadata": {
        "colab": {
          "base_uri": "https://localhost:8080/"
        },
        "id": "0Poxygo9Fbpj",
        "outputId": "e8191820-544d-4864-b15e-316003106900"
      },
      "source": [
        "# Separate majority and minority classes\r\n",
        "from sklearn.utils import resample\r\n",
        "\r\n",
        "df_majority = data2[data2.rideable_type == 1]\r\n",
        "df_minority = data2[data2.rideable_type==0]\r\n",
        " \r\n",
        "# Downsample majority class\r\n",
        "df_majority_downsampled = resample(df_majority, \r\n",
        "                                 replace=False,    # sample without replacement\r\n",
        "                                 n_samples=55674,     # to match minority class\r\n",
        "                                 random_state=50) # reproducible results\r\n",
        " \r\n",
        "# Combine minority class with downsampled majority class\r\n",
        "data2_downsampled = pd.concat([df_majority_downsampled, df_minority])\r\n",
        " \r\n",
        "# Display new class counts\r\n",
        "data2_downsampled.rideable_type.value_counts()"
      ],
      "execution_count": 767,
      "outputs": [
        {
          "output_type": "execute_result",
          "data": {
            "text/plain": [
              "1    55674\n",
              "0    55674\n",
              "Name: rideable_type, dtype: int64"
            ]
          },
          "metadata": {
            "tags": []
          },
          "execution_count": 767
        }
      ]
    },
    {
      "cell_type": "code",
      "metadata": {
        "colab": {
          "base_uri": "https://localhost:8080/"
        },
        "id": "2ts-7BJoJ4nG",
        "outputId": "73daf88a-3ea5-4321-9913-de9c47976264"
      },
      "source": [
        "data2_downsampled['rideable_type'] = ['docked_bike' if b== 1 else 'electric_bike' for b in data2_downsampled.rideable_type\t]\r\n",
        " \r\n",
        "data2_downsampled['rideable_type'].value_counts()"
      ],
      "execution_count": 768,
      "outputs": [
        {
          "output_type": "execute_result",
          "data": {
            "text/plain": [
              "docked_bike      55674\n",
              "electric_bike    55674\n",
              "Name: rideable_type, dtype: int64"
            ]
          },
          "metadata": {
            "tags": []
          },
          "execution_count": 768
        }
      ]
    },
    {
      "cell_type": "code",
      "metadata": {
        "colab": {
          "base_uri": "https://localhost:8080/",
          "height": 383
        },
        "id": "fO7M-kIb6-Gg",
        "outputId": "581ddc26-3d90-4b30-b46a-0852e4f4af0e"
      },
      "source": [
        "#imporing capitalbikeshare-tripdata dataset\n",
        "data3 = pd.read_csv(\"202010-capitalbikeshare-tripdata.csv\") \n",
        "data3.head()"
      ],
      "execution_count": 769,
      "outputs": [
        {
          "output_type": "execute_result",
          "data": {
            "text/html": [
              "<div>\n",
              "<style scoped>\n",
              "    .dataframe tbody tr th:only-of-type {\n",
              "        vertical-align: middle;\n",
              "    }\n",
              "\n",
              "    .dataframe tbody tr th {\n",
              "        vertical-align: top;\n",
              "    }\n",
              "\n",
              "    .dataframe thead th {\n",
              "        text-align: right;\n",
              "    }\n",
              "</style>\n",
              "<table border=\"1\" class=\"dataframe\">\n",
              "  <thead>\n",
              "    <tr style=\"text-align: right;\">\n",
              "      <th></th>\n",
              "      <th>ride_id</th>\n",
              "      <th>rideable_type</th>\n",
              "      <th>started_at</th>\n",
              "      <th>ended_at</th>\n",
              "      <th>start_station_name</th>\n",
              "      <th>start_station_id</th>\n",
              "      <th>end_station_name</th>\n",
              "      <th>end_station_id</th>\n",
              "      <th>start_lat</th>\n",
              "      <th>start_lng</th>\n",
              "      <th>end_lat</th>\n",
              "      <th>end_lng</th>\n",
              "      <th>member_casual</th>\n",
              "    </tr>\n",
              "  </thead>\n",
              "  <tbody>\n",
              "    <tr>\n",
              "      <th>0</th>\n",
              "      <td>5160990A29898496</td>\n",
              "      <td>electric_bike</td>\n",
              "      <td>2020-10-12 07:38:42</td>\n",
              "      <td>2020-10-12 07:52:38</td>\n",
              "      <td>NaN</td>\n",
              "      <td>NaN</td>\n",
              "      <td>NaN</td>\n",
              "      <td>NaN</td>\n",
              "      <td>38.81</td>\n",
              "      <td>-77.06</td>\n",
              "      <td>38.84000</td>\n",
              "      <td>-77.060000</td>\n",
              "      <td>casual</td>\n",
              "    </tr>\n",
              "    <tr>\n",
              "      <th>1</th>\n",
              "      <td>AB3EDB59F4D802E7</td>\n",
              "      <td>electric_bike</td>\n",
              "      <td>2020-10-02 17:58:30</td>\n",
              "      <td>2020-10-02 18:07:45</td>\n",
              "      <td>NaN</td>\n",
              "      <td>NaN</td>\n",
              "      <td>NaN</td>\n",
              "      <td>NaN</td>\n",
              "      <td>38.93</td>\n",
              "      <td>-77.00</td>\n",
              "      <td>38.91000</td>\n",
              "      <td>-77.000000</td>\n",
              "      <td>casual</td>\n",
              "    </tr>\n",
              "    <tr>\n",
              "      <th>2</th>\n",
              "      <td>238A92D9D011475D</td>\n",
              "      <td>electric_bike</td>\n",
              "      <td>2020-10-02 00:13:37</td>\n",
              "      <td>2020-10-02 00:21:10</td>\n",
              "      <td>NaN</td>\n",
              "      <td>NaN</td>\n",
              "      <td>NaN</td>\n",
              "      <td>NaN</td>\n",
              "      <td>38.91</td>\n",
              "      <td>-77.04</td>\n",
              "      <td>38.90000</td>\n",
              "      <td>-77.000000</td>\n",
              "      <td>casual</td>\n",
              "    </tr>\n",
              "    <tr>\n",
              "      <th>3</th>\n",
              "      <td>59D6EF767F57C139</td>\n",
              "      <td>electric_bike</td>\n",
              "      <td>2020-10-02 16:31:12</td>\n",
              "      <td>2020-10-02 16:42:50</td>\n",
              "      <td>NaN</td>\n",
              "      <td>NaN</td>\n",
              "      <td>NaN</td>\n",
              "      <td>NaN</td>\n",
              "      <td>38.92</td>\n",
              "      <td>-77.03</td>\n",
              "      <td>38.91000</td>\n",
              "      <td>-77.000000</td>\n",
              "      <td>casual</td>\n",
              "    </tr>\n",
              "    <tr>\n",
              "      <th>4</th>\n",
              "      <td>A94B93E9E864972A</td>\n",
              "      <td>electric_bike</td>\n",
              "      <td>2020-10-19 21:33:46</td>\n",
              "      <td>2020-10-19 21:43:55</td>\n",
              "      <td>NaN</td>\n",
              "      <td>NaN</td>\n",
              "      <td>14th &amp; V St NW</td>\n",
              "      <td>31101.0</td>\n",
              "      <td>38.91</td>\n",
              "      <td>-77.04</td>\n",
              "      <td>38.91769</td>\n",
              "      <td>-77.031821</td>\n",
              "      <td>casual</td>\n",
              "    </tr>\n",
              "  </tbody>\n",
              "</table>\n",
              "</div>"
            ],
            "text/plain": [
              "            ride_id  rideable_type  ...    end_lng member_casual\n",
              "0  5160990A29898496  electric_bike  ... -77.060000        casual\n",
              "1  AB3EDB59F4D802E7  electric_bike  ... -77.000000        casual\n",
              "2  238A92D9D011475D  electric_bike  ... -77.000000        casual\n",
              "3  59D6EF767F57C139  electric_bike  ... -77.000000        casual\n",
              "4  A94B93E9E864972A  electric_bike  ... -77.031821        casual\n",
              "\n",
              "[5 rows x 13 columns]"
            ]
          },
          "metadata": {
            "tags": []
          },
          "execution_count": 769
        }
      ]
    },
    {
      "cell_type": "code",
      "metadata": {
        "colab": {
          "base_uri": "https://localhost:8080/"
        },
        "id": "JCSKNO6kFdlG",
        "outputId": "a8c7facf-542c-42d2-aa87-488ac910b38e"
      },
      "source": [
        "data3['rideable_type'] = [1 if b=='docked_bike' else 0 for b in data3.rideable_type\t]\r\n",
        " \r\n",
        "data3['rideable_type'].value_counts()"
      ],
      "execution_count": 770,
      "outputs": [
        {
          "output_type": "execute_result",
          "data": {
            "text/plain": [
              "1    180231\n",
              "0     49601\n",
              "Name: rideable_type, dtype: int64"
            ]
          },
          "metadata": {
            "tags": []
          },
          "execution_count": 770
        }
      ]
    },
    {
      "cell_type": "code",
      "metadata": {
        "colab": {
          "base_uri": "https://localhost:8080/"
        },
        "id": "lUG5vcw4FdlH",
        "outputId": "0592831d-0d6f-4715-814f-37151c0c4ced"
      },
      "source": [
        "# Separate majority and minority classes\r\n",
        "from sklearn.utils import resample\r\n",
        "\r\n",
        "df_majority = data3[data3.rideable_type == 1]\r\n",
        "df_minority = data3[data3.rideable_type==0]\r\n",
        " \r\n",
        "# Downsample majority class\r\n",
        "df_majority_downsampled = resample(df_majority, \r\n",
        "                                 replace=False,    # sample without replacement\r\n",
        "                                 n_samples=49601,     # to match minority class\r\n",
        "                                 random_state=50) # reproducible results\r\n",
        " \r\n",
        "# Combine minority class with downsampled majority class\r\n",
        "data3_downsampled = pd.concat([df_majority_downsampled, df_minority])\r\n",
        " \r\n",
        "# Display new class counts\r\n",
        "data3_downsampled.rideable_type.value_counts()"
      ],
      "execution_count": 771,
      "outputs": [
        {
          "output_type": "execute_result",
          "data": {
            "text/plain": [
              "1    49601\n",
              "0    49601\n",
              "Name: rideable_type, dtype: int64"
            ]
          },
          "metadata": {
            "tags": []
          },
          "execution_count": 771
        }
      ]
    },
    {
      "cell_type": "code",
      "metadata": {
        "colab": {
          "base_uri": "https://localhost:8080/"
        },
        "id": "9p6zzRzzKGru",
        "outputId": "65212762-9d3d-4c44-ca5d-e238574ee33c"
      },
      "source": [
        "data3_downsampled['rideable_type'] = ['docked_bike' if b== 1 else 'electric_bike' for b in data3_downsampled.rideable_type\t]\r\n",
        " \r\n",
        "data3_downsampled['rideable_type'].value_counts()"
      ],
      "execution_count": 772,
      "outputs": [
        {
          "output_type": "execute_result",
          "data": {
            "text/plain": [
              "docked_bike      49601\n",
              "electric_bike    49601\n",
              "Name: rideable_type, dtype: int64"
            ]
          },
          "metadata": {
            "tags": []
          },
          "execution_count": 772
        }
      ]
    },
    {
      "cell_type": "code",
      "metadata": {
        "colab": {
          "base_uri": "https://localhost:8080/",
          "height": 383
        },
        "id": "2ki0aUVuokv_",
        "outputId": "3e8b6e4d-4475-486a-de4d-39f586acadbc"
      },
      "source": [
        "data4 = pd.read_csv(\"202007-capitalbikeshare-tripdata.csv\") \n",
        "data4.head()"
      ],
      "execution_count": 773,
      "outputs": [
        {
          "output_type": "execute_result",
          "data": {
            "text/html": [
              "<div>\n",
              "<style scoped>\n",
              "    .dataframe tbody tr th:only-of-type {\n",
              "        vertical-align: middle;\n",
              "    }\n",
              "\n",
              "    .dataframe tbody tr th {\n",
              "        vertical-align: top;\n",
              "    }\n",
              "\n",
              "    .dataframe thead th {\n",
              "        text-align: right;\n",
              "    }\n",
              "</style>\n",
              "<table border=\"1\" class=\"dataframe\">\n",
              "  <thead>\n",
              "    <tr style=\"text-align: right;\">\n",
              "      <th></th>\n",
              "      <th>ride_id</th>\n",
              "      <th>rideable_type</th>\n",
              "      <th>started_at</th>\n",
              "      <th>ended_at</th>\n",
              "      <th>start_station_name</th>\n",
              "      <th>start_station_id</th>\n",
              "      <th>end_station_name</th>\n",
              "      <th>end_station_id</th>\n",
              "      <th>start_lat</th>\n",
              "      <th>start_lng</th>\n",
              "      <th>end_lat</th>\n",
              "      <th>end_lng</th>\n",
              "      <th>member_casual</th>\n",
              "    </tr>\n",
              "  </thead>\n",
              "  <tbody>\n",
              "    <tr>\n",
              "      <th>0</th>\n",
              "      <td>40166AEE48DB264F</td>\n",
              "      <td>docked_bike</td>\n",
              "      <td>2020-07-10 20:00:46</td>\n",
              "      <td>2020-07-10 20:09:42</td>\n",
              "      <td>Potomac Ave &amp; Half St SW</td>\n",
              "      <td>570.0</td>\n",
              "      <td>4th &amp; M St SW</td>\n",
              "      <td>21.0</td>\n",
              "      <td>38.870201</td>\n",
              "      <td>-77.010836</td>\n",
              "      <td>38.87670</td>\n",
              "      <td>-77.017800</td>\n",
              "      <td>casual</td>\n",
              "    </tr>\n",
              "    <tr>\n",
              "      <th>1</th>\n",
              "      <td>C2D80D65DEB2C464</td>\n",
              "      <td>docked_bike</td>\n",
              "      <td>2020-07-30 22:11:33</td>\n",
              "      <td>2020-07-30 23:32:05</td>\n",
              "      <td>Maine Ave &amp; 9th St SW</td>\n",
              "      <td>548.0</td>\n",
              "      <td>Maine Ave &amp; 9th St SW</td>\n",
              "      <td>548.0</td>\n",
              "      <td>38.880440</td>\n",
              "      <td>-77.025236</td>\n",
              "      <td>38.88044</td>\n",
              "      <td>-77.025236</td>\n",
              "      <td>casual</td>\n",
              "    </tr>\n",
              "    <tr>\n",
              "      <th>2</th>\n",
              "      <td>FBE8E99BAAED0455</td>\n",
              "      <td>electric_bike</td>\n",
              "      <td>2020-07-22 09:47:52</td>\n",
              "      <td>2020-07-22 09:53:38</td>\n",
              "      <td>NaN</td>\n",
              "      <td>NaN</td>\n",
              "      <td>NaN</td>\n",
              "      <td>NaN</td>\n",
              "      <td>38.920000</td>\n",
              "      <td>-77.000000</td>\n",
              "      <td>38.92000</td>\n",
              "      <td>-77.010000</td>\n",
              "      <td>casual</td>\n",
              "    </tr>\n",
              "    <tr>\n",
              "      <th>3</th>\n",
              "      <td>E7950C376FD263E4</td>\n",
              "      <td>electric_bike</td>\n",
              "      <td>2020-07-22 10:36:55</td>\n",
              "      <td>2020-07-22 10:49:03</td>\n",
              "      <td>NaN</td>\n",
              "      <td>NaN</td>\n",
              "      <td>NaN</td>\n",
              "      <td>NaN</td>\n",
              "      <td>38.920000</td>\n",
              "      <td>-77.010000</td>\n",
              "      <td>38.92000</td>\n",
              "      <td>-77.000000</td>\n",
              "      <td>casual</td>\n",
              "    </tr>\n",
              "    <tr>\n",
              "      <th>4</th>\n",
              "      <td>0149F273572ED43F</td>\n",
              "      <td>electric_bike</td>\n",
              "      <td>2020-07-22 15:53:55</td>\n",
              "      <td>2020-07-22 15:58:47</td>\n",
              "      <td>NaN</td>\n",
              "      <td>NaN</td>\n",
              "      <td>NaN</td>\n",
              "      <td>NaN</td>\n",
              "      <td>38.910000</td>\n",
              "      <td>-77.050000</td>\n",
              "      <td>38.90000</td>\n",
              "      <td>-77.050000</td>\n",
              "      <td>casual</td>\n",
              "    </tr>\n",
              "  </tbody>\n",
              "</table>\n",
              "</div>"
            ],
            "text/plain": [
              "            ride_id  rideable_type  ...    end_lng member_casual\n",
              "0  40166AEE48DB264F    docked_bike  ... -77.017800        casual\n",
              "1  C2D80D65DEB2C464    docked_bike  ... -77.025236        casual\n",
              "2  FBE8E99BAAED0455  electric_bike  ... -77.010000        casual\n",
              "3  E7950C376FD263E4  electric_bike  ... -77.000000        casual\n",
              "4  0149F273572ED43F  electric_bike  ... -77.050000        casual\n",
              "\n",
              "[5 rows x 13 columns]"
            ]
          },
          "metadata": {
            "tags": []
          },
          "execution_count": 773
        }
      ]
    },
    {
      "cell_type": "code",
      "metadata": {
        "colab": {
          "base_uri": "https://localhost:8080/"
        },
        "id": "gwP-757tFfP_",
        "outputId": "3bbd605f-9b4d-4c3a-f949-000ddd86f88d"
      },
      "source": [
        "data4['rideable_type'] = [1 if b=='docked_bike' else 0 for b in data4.rideable_type\t]\r\n",
        " \r\n",
        "data4['rideable_type'].value_counts()"
      ],
      "execution_count": 774,
      "outputs": [
        {
          "output_type": "execute_result",
          "data": {
            "text/plain": [
              "1    212516\n",
              "0     15786\n",
              "Name: rideable_type, dtype: int64"
            ]
          },
          "metadata": {
            "tags": []
          },
          "execution_count": 774
        }
      ]
    },
    {
      "cell_type": "code",
      "metadata": {
        "colab": {
          "base_uri": "https://localhost:8080/"
        },
        "id": "Zmdo8dCjFfQB",
        "outputId": "c8b7947d-56ea-46ef-f6b7-ecdb6ed72b0a"
      },
      "source": [
        "# Separate majority and minority classes\r\n",
        "from sklearn.utils import resample\r\n",
        "\r\n",
        "df_majority = data4[data4.rideable_type == 1]\r\n",
        "df_minority = data4[data4.rideable_type==0]\r\n",
        " \r\n",
        "# Downsample majority class\r\n",
        "df_majority_downsampled = resample(df_majority, \r\n",
        "                                 replace=False,    # sample without replacement\r\n",
        "                                 n_samples=15786,     # to match minority class\r\n",
        "                                 random_state=50) # reproducible results\r\n",
        " \r\n",
        "# Combine minority class with downsampled majority class\r\n",
        "data4_downsampled = pd.concat([df_majority_downsampled, df_minority])\r\n",
        " \r\n",
        "# Display new class counts\r\n",
        "data4_downsampled.rideable_type.value_counts()"
      ],
      "execution_count": 775,
      "outputs": [
        {
          "output_type": "execute_result",
          "data": {
            "text/plain": [
              "1    15786\n",
              "0    15786\n",
              "Name: rideable_type, dtype: int64"
            ]
          },
          "metadata": {
            "tags": []
          },
          "execution_count": 775
        }
      ]
    },
    {
      "cell_type": "code",
      "metadata": {
        "colab": {
          "base_uri": "https://localhost:8080/"
        },
        "id": "NFcP-1unKsXb",
        "outputId": "138300ee-0603-48b6-ff28-6128c20046a1"
      },
      "source": [
        "data4_downsampled['rideable_type'] = ['docked_bike' if b== 1 else 'electric_bike' for b in data4_downsampled.rideable_type\t]\r\n",
        " \r\n",
        "data4_downsampled['rideable_type'].value_counts()"
      ],
      "execution_count": 776,
      "outputs": [
        {
          "output_type": "execute_result",
          "data": {
            "text/plain": [
              "docked_bike      15786\n",
              "electric_bike    15786\n",
              "Name: rideable_type, dtype: int64"
            ]
          },
          "metadata": {
            "tags": []
          },
          "execution_count": 776
        }
      ]
    },
    {
      "cell_type": "code",
      "metadata": {
        "colab": {
          "base_uri": "https://localhost:8080/",
          "height": 383
        },
        "id": "3wiWlk7E76zT",
        "outputId": "069e5d02-304c-4f01-c1e5-19e158b4107c"
      },
      "source": [
        "data5 = pd.read_csv(\"202011-capitalbikeshare-tripdata.csv\") \r\n",
        "data5.head()"
      ],
      "execution_count": 777,
      "outputs": [
        {
          "output_type": "execute_result",
          "data": {
            "text/html": [
              "<div>\n",
              "<style scoped>\n",
              "    .dataframe tbody tr th:only-of-type {\n",
              "        vertical-align: middle;\n",
              "    }\n",
              "\n",
              "    .dataframe tbody tr th {\n",
              "        vertical-align: top;\n",
              "    }\n",
              "\n",
              "    .dataframe thead th {\n",
              "        text-align: right;\n",
              "    }\n",
              "</style>\n",
              "<table border=\"1\" class=\"dataframe\">\n",
              "  <thead>\n",
              "    <tr style=\"text-align: right;\">\n",
              "      <th></th>\n",
              "      <th>ride_id</th>\n",
              "      <th>rideable_type</th>\n",
              "      <th>started_at</th>\n",
              "      <th>ended_at</th>\n",
              "      <th>start_station_name</th>\n",
              "      <th>start_station_id</th>\n",
              "      <th>end_station_name</th>\n",
              "      <th>end_station_id</th>\n",
              "      <th>start_lat</th>\n",
              "      <th>start_lng</th>\n",
              "      <th>end_lat</th>\n",
              "      <th>end_lng</th>\n",
              "      <th>member_casual</th>\n",
              "    </tr>\n",
              "  </thead>\n",
              "  <tbody>\n",
              "    <tr>\n",
              "      <th>0</th>\n",
              "      <td>EAF58AB55323A15E</td>\n",
              "      <td>docked_bike</td>\n",
              "      <td>2020-11-02 18:41:34</td>\n",
              "      <td>2020-11-02 18:49:04</td>\n",
              "      <td>17th &amp; K St NW / Farragut Square</td>\n",
              "      <td>31233.0</td>\n",
              "      <td>15th &amp; P St NW</td>\n",
              "      <td>31201.0</td>\n",
              "      <td>38.902061</td>\n",
              "      <td>-77.038322</td>\n",
              "      <td>38.909868</td>\n",
              "      <td>-77.034421</td>\n",
              "      <td>casual</td>\n",
              "    </tr>\n",
              "    <tr>\n",
              "      <th>1</th>\n",
              "      <td>DBD5BC10E1F0C019</td>\n",
              "      <td>docked_bike</td>\n",
              "      <td>2020-11-07 17:24:13</td>\n",
              "      <td>2020-11-07 17:24:48</td>\n",
              "      <td>New Jersey Ave &amp; F St NW</td>\n",
              "      <td>31655.0</td>\n",
              "      <td>New Jersey Ave &amp; F St NW</td>\n",
              "      <td>31655.0</td>\n",
              "      <td>38.897108</td>\n",
              "      <td>-77.011616</td>\n",
              "      <td>38.897108</td>\n",
              "      <td>-77.011616</td>\n",
              "      <td>member</td>\n",
              "    </tr>\n",
              "    <tr>\n",
              "      <th>2</th>\n",
              "      <td>64776A208DCED86D</td>\n",
              "      <td>docked_bike</td>\n",
              "      <td>2020-11-20 13:28:22</td>\n",
              "      <td>2020-11-20 14:19:26</td>\n",
              "      <td>Lincoln Memorial</td>\n",
              "      <td>31258.0</td>\n",
              "      <td>15th St &amp; Constitution Ave NW</td>\n",
              "      <td>31321.0</td>\n",
              "      <td>38.888255</td>\n",
              "      <td>-77.049437</td>\n",
              "      <td>38.892244</td>\n",
              "      <td>-77.033234</td>\n",
              "      <td>casual</td>\n",
              "    </tr>\n",
              "    <tr>\n",
              "      <th>3</th>\n",
              "      <td>B870C5DC875CA903</td>\n",
              "      <td>docked_bike</td>\n",
              "      <td>2020-11-25 16:02:34</td>\n",
              "      <td>2020-11-25 16:31:31</td>\n",
              "      <td>Lincoln Memorial</td>\n",
              "      <td>31258.0</td>\n",
              "      <td>15th St &amp; Constitution Ave NW</td>\n",
              "      <td>31321.0</td>\n",
              "      <td>38.888255</td>\n",
              "      <td>-77.049436</td>\n",
              "      <td>38.892244</td>\n",
              "      <td>-77.033234</td>\n",
              "      <td>casual</td>\n",
              "    </tr>\n",
              "    <tr>\n",
              "      <th>4</th>\n",
              "      <td>98DEA3EA1A85634F</td>\n",
              "      <td>docked_bike</td>\n",
              "      <td>2020-11-21 10:55:34</td>\n",
              "      <td>2020-11-21 11:12:45</td>\n",
              "      <td>Metro Center / 12th &amp; G St NW</td>\n",
              "      <td>31230.0</td>\n",
              "      <td>2nd &amp; G St NE</td>\n",
              "      <td>31639.0</td>\n",
              "      <td>38.898364</td>\n",
              "      <td>-77.027869</td>\n",
              "      <td>38.899670</td>\n",
              "      <td>-77.003666</td>\n",
              "      <td>casual</td>\n",
              "    </tr>\n",
              "  </tbody>\n",
              "</table>\n",
              "</div>"
            ],
            "text/plain": [
              "            ride_id rideable_type  ...    end_lng member_casual\n",
              "0  EAF58AB55323A15E   docked_bike  ... -77.034421        casual\n",
              "1  DBD5BC10E1F0C019   docked_bike  ... -77.011616        member\n",
              "2  64776A208DCED86D   docked_bike  ... -77.033234        casual\n",
              "3  B870C5DC875CA903   docked_bike  ... -77.033234        casual\n",
              "4  98DEA3EA1A85634F   docked_bike  ... -77.003666        casual\n",
              "\n",
              "[5 rows x 13 columns]"
            ]
          },
          "metadata": {
            "tags": []
          },
          "execution_count": 777
        }
      ]
    },
    {
      "cell_type": "code",
      "metadata": {
        "colab": {
          "base_uri": "https://localhost:8080/"
        },
        "id": "_Tbzf0QBFhGE",
        "outputId": "16ac47b9-f29e-4d6a-e320-71658507aff3"
      },
      "source": [
        "data5['rideable_type'] = [1 if b=='docked_bike' else 0 for b in data5.rideable_type\t]\r\n",
        " \r\n",
        "data5['rideable_type'].value_counts()"
      ],
      "execution_count": 778,
      "outputs": [
        {
          "output_type": "execute_result",
          "data": {
            "text/plain": [
              "1    135343\n",
              "0     40092\n",
              "Name: rideable_type, dtype: int64"
            ]
          },
          "metadata": {
            "tags": []
          },
          "execution_count": 778
        }
      ]
    },
    {
      "cell_type": "code",
      "metadata": {
        "colab": {
          "base_uri": "https://localhost:8080/"
        },
        "id": "oaJs_iUxFhGG",
        "outputId": "83d97ef5-e8be-4c25-c51c-01880f3120fb"
      },
      "source": [
        "# Separate majority and minority classes\r\n",
        "from sklearn.utils import resample\r\n",
        "\r\n",
        "df_majority = data5[data5.rideable_type == 1]\r\n",
        "df_minority = data5[data5.rideable_type==0]\r\n",
        " \r\n",
        "# Downsample majority class\r\n",
        "df_majority_downsampled = resample(df_majority, \r\n",
        "                                 replace=False,    # sample without replacement\r\n",
        "                                 n_samples=40092,     # to match minority class\r\n",
        "                                 random_state=50) # reproducible results\r\n",
        " \r\n",
        "# Combine minority class with downsampled majority class\r\n",
        "data5_downsampled = pd.concat([df_majority_downsampled, df_minority])\r\n",
        " \r\n",
        "# Display new class counts\r\n",
        "data5_downsampled.rideable_type.value_counts()"
      ],
      "execution_count": 779,
      "outputs": [
        {
          "output_type": "execute_result",
          "data": {
            "text/plain": [
              "1    40092\n",
              "0    40092\n",
              "Name: rideable_type, dtype: int64"
            ]
          },
          "metadata": {
            "tags": []
          },
          "execution_count": 779
        }
      ]
    },
    {
      "cell_type": "code",
      "metadata": {
        "colab": {
          "base_uri": "https://localhost:8080/"
        },
        "id": "KIz4F_J1Kznn",
        "outputId": "458b10b2-ae8e-4f41-f4bc-9a17b586a03b"
      },
      "source": [
        "data5_downsampled['rideable_type'] = ['docked_bike' if b== 1 else 'electric_bike' for b in data5_downsampled.rideable_type\t]\r\n",
        " \r\n",
        "data5_downsampled['rideable_type'].value_counts()"
      ],
      "execution_count": 780,
      "outputs": [
        {
          "output_type": "execute_result",
          "data": {
            "text/plain": [
              "electric_bike    40092\n",
              "docked_bike      40092\n",
              "Name: rideable_type, dtype: int64"
            ]
          },
          "metadata": {
            "tags": []
          },
          "execution_count": 780
        }
      ]
    },
    {
      "cell_type": "code",
      "metadata": {
        "colab": {
          "base_uri": "https://localhost:8080/",
          "height": 383
        },
        "id": "1dVtBzu47_x8",
        "outputId": "09a0ba54-c184-4c84-b386-362895b0efb7"
      },
      "source": [
        "data6 = pd.read_csv(\"202012-capitalbikeshare-tripdata.csv\") \r\n",
        "data6.head()"
      ],
      "execution_count": 781,
      "outputs": [
        {
          "output_type": "execute_result",
          "data": {
            "text/html": [
              "<div>\n",
              "<style scoped>\n",
              "    .dataframe tbody tr th:only-of-type {\n",
              "        vertical-align: middle;\n",
              "    }\n",
              "\n",
              "    .dataframe tbody tr th {\n",
              "        vertical-align: top;\n",
              "    }\n",
              "\n",
              "    .dataframe thead th {\n",
              "        text-align: right;\n",
              "    }\n",
              "</style>\n",
              "<table border=\"1\" class=\"dataframe\">\n",
              "  <thead>\n",
              "    <tr style=\"text-align: right;\">\n",
              "      <th></th>\n",
              "      <th>ride_id</th>\n",
              "      <th>rideable_type</th>\n",
              "      <th>started_at</th>\n",
              "      <th>ended_at</th>\n",
              "      <th>start_station_name</th>\n",
              "      <th>start_station_id</th>\n",
              "      <th>end_station_name</th>\n",
              "      <th>end_station_id</th>\n",
              "      <th>start_lat</th>\n",
              "      <th>start_lng</th>\n",
              "      <th>end_lat</th>\n",
              "      <th>end_lng</th>\n",
              "      <th>member_casual</th>\n",
              "    </tr>\n",
              "  </thead>\n",
              "  <tbody>\n",
              "    <tr>\n",
              "      <th>0</th>\n",
              "      <td>C04E20007D039277</td>\n",
              "      <td>docked_bike</td>\n",
              "      <td>2020-12-02 09:10:36</td>\n",
              "      <td>2020-12-02 09:24:12</td>\n",
              "      <td>18th St &amp; Wyoming Ave NW</td>\n",
              "      <td>31114.0</td>\n",
              "      <td>18th St &amp; Pennsylvania Ave NW</td>\n",
              "      <td>31242.0</td>\n",
              "      <td>38.918809</td>\n",
              "      <td>-77.041571</td>\n",
              "      <td>38.899680</td>\n",
              "      <td>-77.041539</td>\n",
              "      <td>casual</td>\n",
              "    </tr>\n",
              "    <tr>\n",
              "      <th>1</th>\n",
              "      <td>A488C0D9F4761D06</td>\n",
              "      <td>classic_bike</td>\n",
              "      <td>2020-12-31 12:46:29</td>\n",
              "      <td>2020-12-31 14:01:07</td>\n",
              "      <td>Potomac &amp; Pennsylvania Ave SE</td>\n",
              "      <td>31606.0</td>\n",
              "      <td>17th St &amp; Independence Ave SW</td>\n",
              "      <td>31290.0</td>\n",
              "      <td>38.880300</td>\n",
              "      <td>-76.986200</td>\n",
              "      <td>38.888097</td>\n",
              "      <td>-77.038325</td>\n",
              "      <td>casual</td>\n",
              "    </tr>\n",
              "    <tr>\n",
              "      <th>2</th>\n",
              "      <td>9E7E97A927A85552</td>\n",
              "      <td>classic_bike</td>\n",
              "      <td>2020-12-31 12:47:03</td>\n",
              "      <td>2020-12-31 14:01:04</td>\n",
              "      <td>Potomac &amp; Pennsylvania Ave SE</td>\n",
              "      <td>31606.0</td>\n",
              "      <td>17th St &amp; Independence Ave SW</td>\n",
              "      <td>31290.0</td>\n",
              "      <td>38.880300</td>\n",
              "      <td>-76.986200</td>\n",
              "      <td>38.888097</td>\n",
              "      <td>-77.038325</td>\n",
              "      <td>casual</td>\n",
              "    </tr>\n",
              "    <tr>\n",
              "      <th>3</th>\n",
              "      <td>565C5C331ABAD77B</td>\n",
              "      <td>classic_bike</td>\n",
              "      <td>2020-12-29 13:50:51</td>\n",
              "      <td>2020-12-29 14:12:22</td>\n",
              "      <td>Wakefield High School</td>\n",
              "      <td>31054.0</td>\n",
              "      <td>S Glebe Rd &amp; Potomac Ave</td>\n",
              "      <td>31010.0</td>\n",
              "      <td>38.847129</td>\n",
              "      <td>-77.112550</td>\n",
              "      <td>38.842600</td>\n",
              "      <td>-77.050200</td>\n",
              "      <td>member</td>\n",
              "    </tr>\n",
              "    <tr>\n",
              "      <th>4</th>\n",
              "      <td>7576B3F4B4D6ADFF</td>\n",
              "      <td>classic_bike</td>\n",
              "      <td>2020-12-27 12:30:28</td>\n",
              "      <td>2020-12-27 12:36:12</td>\n",
              "      <td>Washington-Liberty High School / N Stafford St...</td>\n",
              "      <td>31920.0</td>\n",
              "      <td>Virginia Square Metro / Monroe St &amp; 9th St N</td>\n",
              "      <td>31024.0</td>\n",
              "      <td>38.888282</td>\n",
              "      <td>-77.111066</td>\n",
              "      <td>38.882788</td>\n",
              "      <td>-77.103148</td>\n",
              "      <td>member</td>\n",
              "    </tr>\n",
              "  </tbody>\n",
              "</table>\n",
              "</div>"
            ],
            "text/plain": [
              "            ride_id rideable_type  ...    end_lng member_casual\n",
              "0  C04E20007D039277   docked_bike  ... -77.041539        casual\n",
              "1  A488C0D9F4761D06  classic_bike  ... -77.038325        casual\n",
              "2  9E7E97A927A85552  classic_bike  ... -77.038325        casual\n",
              "3  565C5C331ABAD77B  classic_bike  ... -77.050200        member\n",
              "4  7576B3F4B4D6ADFF  classic_bike  ... -77.103148        member\n",
              "\n",
              "[5 rows x 13 columns]"
            ]
          },
          "metadata": {
            "tags": []
          },
          "execution_count": 781
        }
      ]
    },
    {
      "cell_type": "code",
      "metadata": {
        "colab": {
          "base_uri": "https://localhost:8080/"
        },
        "id": "FgLIar1bFiUF",
        "outputId": "9d0fe4ac-3ac6-435f-d420-1cd52cca17a9"
      },
      "source": [
        "data6['rideable_type'] = [1 if b=='docked_bike' else 0 for b in data6.rideable_type\t]\r\n",
        " \r\n",
        "data6['rideable_type'].value_counts()"
      ],
      "execution_count": 782,
      "outputs": [
        {
          "output_type": "execute_result",
          "data": {
            "text/plain": [
              "0    76905\n",
              "1    28924\n",
              "Name: rideable_type, dtype: int64"
            ]
          },
          "metadata": {
            "tags": []
          },
          "execution_count": 782
        }
      ]
    },
    {
      "cell_type": "code",
      "metadata": {
        "colab": {
          "base_uri": "https://localhost:8080/"
        },
        "id": "SeaBTwdLFiUH",
        "outputId": "3bac82b8-e6a1-4526-eb50-0bbf964947b4"
      },
      "source": [
        "# Separate majority and minority classes\r\n",
        "from sklearn.utils import resample\r\n",
        "\r\n",
        "df_majority = data6[data6.rideable_type == 0]\r\n",
        "df_minority = data6[data6.rideable_type==1]\r\n",
        " \r\n",
        "# Downsample majority class\r\n",
        "df_majority_downsampled = resample(df_majority, \r\n",
        "                                 replace=False,    # sample without replacement\r\n",
        "                                 n_samples=28924,     # to match minority class\r\n",
        "                                 random_state=50) # reproducible results\r\n",
        " \r\n",
        "# Combine minority class with downsampled majority class\r\n",
        "data6_downsampled = pd.concat([df_majority_downsampled, df_minority])\r\n",
        " \r\n",
        "# Display new class counts\r\n",
        "data6_downsampled.rideable_type.value_counts()"
      ],
      "execution_count": 783,
      "outputs": [
        {
          "output_type": "execute_result",
          "data": {
            "text/plain": [
              "1    28924\n",
              "0    28924\n",
              "Name: rideable_type, dtype: int64"
            ]
          },
          "metadata": {
            "tags": []
          },
          "execution_count": 783
        }
      ]
    },
    {
      "cell_type": "code",
      "metadata": {
        "colab": {
          "base_uri": "https://localhost:8080/"
        },
        "id": "bM_SkrMtK7EG",
        "outputId": "a28a07c6-3f80-4250-ce58-3869ac6cb8af"
      },
      "source": [
        "data6_downsampled['rideable_type'] = ['docked_bike' if b== 1 else 'electric_bike' for b in data6_downsampled.rideable_type\t]\r\n",
        " \r\n",
        "data6_downsampled['rideable_type'].value_counts()"
      ],
      "execution_count": 784,
      "outputs": [
        {
          "output_type": "execute_result",
          "data": {
            "text/plain": [
              "electric_bike    28924\n",
              "docked_bike      28924\n",
              "Name: rideable_type, dtype: int64"
            ]
          },
          "metadata": {
            "tags": []
          },
          "execution_count": 784
        }
      ]
    },
    {
      "cell_type": "code",
      "metadata": {
        "id": "SQNAce5D_Xf1"
      },
      "source": [
        "class display(object):\r\n",
        "    \"\"\"Display HTML representation of multiple objects\"\"\"\r\n",
        "    template = \"\"\"<div style=\"float: left; padding: 10px;\">\r\n",
        "    <p style='font-family:\"Courier New\", Courier, monospace'>{0}</p>{1}\r\n",
        "    </div>\"\"\"\r\n",
        "    def __init__(self, *args):\r\n",
        "        self.args = args\r\n",
        "        \r\n",
        "    def _repr_html_(self):\r\n",
        "        return '\\n'.join(self.template.format(a, eval(a)._repr_html_())\r\n",
        "                         for a in self.args)\r\n",
        "    \r\n",
        "    def __repr__(self):\r\n",
        "        return '\\n\\n'.join(a + '\\n' + repr(eval(a))\r\n",
        "                           for a in self.args)\r\n",
        "    "
      ],
      "execution_count": 785,
      "outputs": []
    },
    {
      "cell_type": "code",
      "metadata": {
        "colab": {
          "base_uri": "https://localhost:8080/",
          "height": 758
        },
        "id": "rEpXGDnf9qNl",
        "outputId": "f9c6f243-b456-44ac-8bbf-2a463c262d14"
      },
      "source": [
        "data = pd.concat([data1_downsampled, data2_downsampled, data3_downsampled, data4_downsampled, data5_downsampled, data6_downsampled], ignore_index=True)\r\n",
        "data"
      ],
      "execution_count": 786,
      "outputs": [
        {
          "output_type": "execute_result",
          "data": {
            "text/html": [
              "<div>\n",
              "<style scoped>\n",
              "    .dataframe tbody tr th:only-of-type {\n",
              "        vertical-align: middle;\n",
              "    }\n",
              "\n",
              "    .dataframe tbody tr th {\n",
              "        vertical-align: top;\n",
              "    }\n",
              "\n",
              "    .dataframe thead th {\n",
              "        text-align: right;\n",
              "    }\n",
              "</style>\n",
              "<table border=\"1\" class=\"dataframe\">\n",
              "  <thead>\n",
              "    <tr style=\"text-align: right;\">\n",
              "      <th></th>\n",
              "      <th>ride_id</th>\n",
              "      <th>rideable_type</th>\n",
              "      <th>started_at</th>\n",
              "      <th>ended_at</th>\n",
              "      <th>start_station_name</th>\n",
              "      <th>start_station_id</th>\n",
              "      <th>end_station_name</th>\n",
              "      <th>end_station_id</th>\n",
              "      <th>start_lat</th>\n",
              "      <th>start_lng</th>\n",
              "      <th>end_lat</th>\n",
              "      <th>end_lng</th>\n",
              "      <th>member_casual</th>\n",
              "    </tr>\n",
              "  </thead>\n",
              "  <tbody>\n",
              "    <tr>\n",
              "      <th>0</th>\n",
              "      <td>4479E04D9D45AC6B</td>\n",
              "      <td>docked_bike</td>\n",
              "      <td>2020-08-22 17:09:39</td>\n",
              "      <td>2020-08-22 17:30:02</td>\n",
              "      <td>10th St &amp; L'Enfant Plaza SW</td>\n",
              "      <td>31287.0</td>\n",
              "      <td>13th &amp; E St SE</td>\n",
              "      <td>31607.0</td>\n",
              "      <td>38.884323</td>\n",
              "      <td>-77.026010</td>\n",
              "      <td>38.882915</td>\n",
              "      <td>-76.987907</td>\n",
              "      <td>casual</td>\n",
              "    </tr>\n",
              "    <tr>\n",
              "      <th>1</th>\n",
              "      <td>EF88DFBC1E6648EC</td>\n",
              "      <td>docked_bike</td>\n",
              "      <td>2020-08-26 13:13:54</td>\n",
              "      <td>2020-08-26 13:18:41</td>\n",
              "      <td>Constitution Ave &amp; 2nd St NW/DOL</td>\n",
              "      <td>31271.0</td>\n",
              "      <td>New Jersey Ave &amp; F St NW</td>\n",
              "      <td>31655.0</td>\n",
              "      <td>38.892275</td>\n",
              "      <td>-77.013917</td>\n",
              "      <td>38.897108</td>\n",
              "      <td>-77.011616</td>\n",
              "      <td>casual</td>\n",
              "    </tr>\n",
              "    <tr>\n",
              "      <th>2</th>\n",
              "      <td>25812556961CFABD</td>\n",
              "      <td>docked_bike</td>\n",
              "      <td>2020-08-07 16:34:41</td>\n",
              "      <td>2020-08-07 17:13:39</td>\n",
              "      <td>Friendship Hts Metro / Wisconsin Ave &amp; Wiscons...</td>\n",
              "      <td>32014.0</td>\n",
              "      <td>22nd &amp; P ST NW</td>\n",
              "      <td>31285.0</td>\n",
              "      <td>38.961763</td>\n",
              "      <td>-77.085998</td>\n",
              "      <td>38.909394</td>\n",
              "      <td>-77.048728</td>\n",
              "      <td>casual</td>\n",
              "    </tr>\n",
              "    <tr>\n",
              "      <th>3</th>\n",
              "      <td>1621384E51D38F1F</td>\n",
              "      <td>docked_bike</td>\n",
              "      <td>2020-08-07 20:32:05</td>\n",
              "      <td>2020-08-07 20:45:58</td>\n",
              "      <td>John McCormack Rd NE</td>\n",
              "      <td>31528.0</td>\n",
              "      <td>3rd &amp; M St NE</td>\n",
              "      <td>31627.0</td>\n",
              "      <td>38.938889</td>\n",
              "      <td>-76.997226</td>\n",
              "      <td>38.905470</td>\n",
              "      <td>-77.002130</td>\n",
              "      <td>casual</td>\n",
              "    </tr>\n",
              "    <tr>\n",
              "      <th>4</th>\n",
              "      <td>BC10B8C7848D1FDF</td>\n",
              "      <td>docked_bike</td>\n",
              "      <td>2020-08-18 13:40:34</td>\n",
              "      <td>2020-08-18 13:49:07</td>\n",
              "      <td>16th &amp; Irving St NW</td>\n",
              "      <td>31122.0</td>\n",
              "      <td>New Hampshire Ave &amp; T St NW</td>\n",
              "      <td>31229.0</td>\n",
              "      <td>38.928893</td>\n",
              "      <td>-77.036250</td>\n",
              "      <td>38.915544</td>\n",
              "      <td>-77.038252</td>\n",
              "      <td>member</td>\n",
              "    </tr>\n",
              "    <tr>\n",
              "      <th>...</th>\n",
              "      <td>...</td>\n",
              "      <td>...</td>\n",
              "      <td>...</td>\n",
              "      <td>...</td>\n",
              "      <td>...</td>\n",
              "      <td>...</td>\n",
              "      <td>...</td>\n",
              "      <td>...</td>\n",
              "      <td>...</td>\n",
              "      <td>...</td>\n",
              "      <td>...</td>\n",
              "      <td>...</td>\n",
              "      <td>...</td>\n",
              "    </tr>\n",
              "    <tr>\n",
              "      <th>479371</th>\n",
              "      <td>8A0B3B755E6F7EF0</td>\n",
              "      <td>docked_bike</td>\n",
              "      <td>2020-12-04 11:56:13</td>\n",
              "      <td>2020-12-04 12:42:19</td>\n",
              "      <td>Jefferson Dr &amp; 14th St SW</td>\n",
              "      <td>31247.0</td>\n",
              "      <td>4th St &amp; Madison Dr NW</td>\n",
              "      <td>31288.0</td>\n",
              "      <td>38.888553</td>\n",
              "      <td>-77.032427</td>\n",
              "      <td>38.890496</td>\n",
              "      <td>-77.017247</td>\n",
              "      <td>casual</td>\n",
              "    </tr>\n",
              "    <tr>\n",
              "      <th>479372</th>\n",
              "      <td>A10ED3D50E5AB612</td>\n",
              "      <td>docked_bike</td>\n",
              "      <td>2020-12-12 13:49:55</td>\n",
              "      <td>2020-12-12 14:17:02</td>\n",
              "      <td>Jefferson Dr &amp; 14th St SW</td>\n",
              "      <td>31247.0</td>\n",
              "      <td>19th St &amp; Constitution Ave NW</td>\n",
              "      <td>31235.0</td>\n",
              "      <td>38.888553</td>\n",
              "      <td>-77.032427</td>\n",
              "      <td>38.892300</td>\n",
              "      <td>-77.043600</td>\n",
              "      <td>casual</td>\n",
              "    </tr>\n",
              "    <tr>\n",
              "      <th>479373</th>\n",
              "      <td>F146CC9669ABF5EC</td>\n",
              "      <td>docked_bike</td>\n",
              "      <td>2020-12-03 13:43:26</td>\n",
              "      <td>2020-12-03 14:06:11</td>\n",
              "      <td>Jefferson Dr &amp; 14th St SW</td>\n",
              "      <td>31247.0</td>\n",
              "      <td>4th St &amp; Madison Dr NW</td>\n",
              "      <td>31288.0</td>\n",
              "      <td>38.888553</td>\n",
              "      <td>-77.032427</td>\n",
              "      <td>38.890496</td>\n",
              "      <td>-77.017247</td>\n",
              "      <td>casual</td>\n",
              "    </tr>\n",
              "    <tr>\n",
              "      <th>479374</th>\n",
              "      <td>614005BC98FE93F7</td>\n",
              "      <td>docked_bike</td>\n",
              "      <td>2020-12-06 07:27:47</td>\n",
              "      <td>2020-12-06 08:03:46</td>\n",
              "      <td>Jefferson Dr &amp; 14th St SW</td>\n",
              "      <td>31247.0</td>\n",
              "      <td>19th St &amp; Constitution Ave NW</td>\n",
              "      <td>31235.0</td>\n",
              "      <td>38.888552</td>\n",
              "      <td>-77.032427</td>\n",
              "      <td>38.892300</td>\n",
              "      <td>-77.043600</td>\n",
              "      <td>casual</td>\n",
              "    </tr>\n",
              "    <tr>\n",
              "      <th>479375</th>\n",
              "      <td>86783BF38F4567FA</td>\n",
              "      <td>docked_bike</td>\n",
              "      <td>2020-12-21 13:46:01</td>\n",
              "      <td>2020-12-21 14:26:59</td>\n",
              "      <td>Jefferson Dr &amp; 14th St SW</td>\n",
              "      <td>31247.0</td>\n",
              "      <td>17th &amp; G St NW</td>\n",
              "      <td>31277.0</td>\n",
              "      <td>38.888553</td>\n",
              "      <td>-77.032427</td>\n",
              "      <td>38.898283</td>\n",
              "      <td>-77.039732</td>\n",
              "      <td>casual</td>\n",
              "    </tr>\n",
              "  </tbody>\n",
              "</table>\n",
              "<p>479376 rows × 13 columns</p>\n",
              "</div>"
            ],
            "text/plain": [
              "                 ride_id rideable_type  ...    end_lng member_casual\n",
              "0       4479E04D9D45AC6B   docked_bike  ... -76.987907        casual\n",
              "1       EF88DFBC1E6648EC   docked_bike  ... -77.011616        casual\n",
              "2       25812556961CFABD   docked_bike  ... -77.048728        casual\n",
              "3       1621384E51D38F1F   docked_bike  ... -77.002130        casual\n",
              "4       BC10B8C7848D1FDF   docked_bike  ... -77.038252        member\n",
              "...                  ...           ...  ...        ...           ...\n",
              "479371  8A0B3B755E6F7EF0   docked_bike  ... -77.017247        casual\n",
              "479372  A10ED3D50E5AB612   docked_bike  ... -77.043600        casual\n",
              "479373  F146CC9669ABF5EC   docked_bike  ... -77.017247        casual\n",
              "479374  614005BC98FE93F7   docked_bike  ... -77.043600        casual\n",
              "479375  86783BF38F4567FA   docked_bike  ... -77.039732        casual\n",
              "\n",
              "[479376 rows x 13 columns]"
            ]
          },
          "metadata": {
            "tags": []
          },
          "execution_count": 786
        }
      ]
    },
    {
      "cell_type": "code",
      "metadata": {
        "colab": {
          "base_uri": "https://localhost:8080/"
        },
        "id": "7218u1uBovg3",
        "outputId": "76ed2aee-6bb1-4b0a-82b7-d89aed519af9"
      },
      "source": [
        " #attributes in capitalbikeshare-tripdata dataset\n",
        " dt_column = data.columns\n",
        " print('Primary Fields in the Bike-Sharing Dataset')\n",
        " print(dt_column)"
      ],
      "execution_count": 787,
      "outputs": [
        {
          "output_type": "stream",
          "text": [
            "Primary Fields in the Bike-Sharing Dataset\n",
            "Index(['ride_id', 'rideable_type', 'started_at', 'ended_at',\n",
            "       'start_station_name', 'start_station_id', 'end_station_name',\n",
            "       'end_station_id', 'start_lat', 'start_lng', 'end_lat', 'end_lng',\n",
            "       'member_casual'],\n",
            "      dtype='object')\n"
          ],
          "name": "stdout"
        }
      ]
    },
    {
      "cell_type": "code",
      "metadata": {
        "colab": {
          "base_uri": "https://localhost:8080/"
        },
        "id": "RkdnMSczownT",
        "outputId": "fb68cac3-6ae9-4779-cdbf-54eb939a94df"
      },
      "source": [
        "#information for Bike-sharing dataset\n",
        "print(data.info())"
      ],
      "execution_count": 788,
      "outputs": [
        {
          "output_type": "stream",
          "text": [
            "<class 'pandas.core.frame.DataFrame'>\n",
            "RangeIndex: 479376 entries, 0 to 479375\n",
            "Data columns (total 13 columns):\n",
            " #   Column              Non-Null Count   Dtype  \n",
            "---  ------              --------------   -----  \n",
            " 0   ride_id             479376 non-null  object \n",
            " 1   rideable_type       479376 non-null  object \n",
            " 2   started_at          479376 non-null  object \n",
            " 3   ended_at            479376 non-null  object \n",
            " 4   start_station_name  401686 non-null  object \n",
            " 5   start_station_id    401686 non-null  float64\n",
            " 6   end_station_name    394701 non-null  object \n",
            " 7   end_station_id      394701 non-null  float64\n",
            " 8   start_lat           479376 non-null  float64\n",
            " 9   start_lng           479376 non-null  float64\n",
            " 10  end_lat             478235 non-null  float64\n",
            " 11  end_lng             478235 non-null  float64\n",
            " 12  member_casual       479376 non-null  object \n",
            "dtypes: float64(6), object(7)\n",
            "memory usage: 47.5+ MB\n",
            "None\n"
          ],
          "name": "stdout"
        }
      ]
    },
    {
      "cell_type": "code",
      "metadata": {
        "colab": {
          "base_uri": "https://localhost:8080/"
        },
        "id": "f81_Rf_Doy4k",
        "outputId": "b4ee041c-0b5a-452d-e8a6-3e69518d384e"
      },
      "source": [
        "#types of ride available\n",
        "ride_able_no = data['rideable_type'].unique()\n",
        "print(ride_able_no)\n",
        "print(len(ride_able_no))"
      ],
      "execution_count": 789,
      "outputs": [
        {
          "output_type": "stream",
          "text": [
            "['docked_bike' 'electric_bike']\n",
            "2\n"
          ],
          "name": "stdout"
        }
      ]
    },
    {
      "cell_type": "code",
      "metadata": {
        "colab": {
          "base_uri": "https://localhost:8080/"
        },
        "id": "nDssUz-uo6go",
        "outputId": "1ac57d77-e39f-450e-a674-7212f3665896"
      },
      "source": [
        "#different start in dataset\n",
        "start_station_name_no = data['start_station_name'].unique()\n",
        "print(start_station_name_no)\n",
        "print('no. of start stations-')\n",
        "print(len(start_station_name_no))"
      ],
      "execution_count": 790,
      "outputs": [
        {
          "output_type": "stream",
          "text": [
            "[\"10th St & L'Enfant Plaza SW\" 'Constitution Ave & 2nd St NW/DOL'\n",
            " 'Friendship Hts Metro / Wisconsin Ave & Wisconsin Cir'\n",
            " 'John McCormack Rd NE' '16th & Irving St NW'\n",
            " 'California St & Florida Ave NW' '10th & E St NW' '14th & Newton St NW'\n",
            " '14th & Rhode Island Ave NW' 'Roosevelt Island' '10th & Monroe St NE'\n",
            " 'Lincoln Park / 13th & East Capitol St NE '\n",
            " 'Woodglen Dr & Executive Blvd' '18th & R St NW' 'D St & Maryland Ave NE'\n",
            " '34th & Water St NW' '24th & N St NW' '14th & Q St NW' 'Gravelly Point'\n",
            " 'Metro Center / 12th & G St NW' '17th St & Massachusetts Ave NW'\n",
            " 'Pershing Dr & N George Mason Dr' 'New Hampshire Ave & Ward Pl NW'\n",
            " '6th St & Indiana Ave NW' '14th & R St NW' 'Adams Mill & Columbia Rd NW'\n",
            " '11th & Kenyon St NW' '7th & K St NW' 'Columbus Circle / Union Station'\n",
            " '1st & Washington Hospital Center NW' 'Tanger Outlets'\n",
            " 'King St Metro North / Cameron St' 'Lincoln Memorial'\n",
            " '34th St & Wisconsin Ave NW'\n",
            " 'Ohio Dr & West Basin Dr SW / MLK & FDR Memorials' '15th & W St NW'\n",
            " '14th & D St NW / Ronald Reagan Building' '1st & M St NE'\n",
            " 'Jefferson Dr & 14th St SW' '1st & H St NW'\n",
            " '39th & Calvert St NW / Stoddert' '12th & U St NW'\n",
            " 'New Hampshire Ave & 24th St NW' '16th & Harvard St NW' '14th & V St NW'\n",
            " '2nd & G St NE' 'New Jersey Ave & F St NW' '14th & L St NW'\n",
            " 'Eckington Pl & Q St NE' '7th & E St SW' '5th St & Massachusetts Ave NW'\n",
            " '11th & Girard St NW' 'New Jersey Ave & N St NW/Dunbar HS'\n",
            " 'New Hampshire Ave & T St NW' '15th St & Constitution Ave NW'\n",
            " '3rd & D St SE' '24th & R St NE / National Arboretum'\n",
            " '19th St & Constitution Ave NW' 'Kingman Island/The Fields at RFK'\n",
            " 'Rosslyn Metro / Wilson Blvd & Ft Myer Dr' 'Crystal Dr & 15th St S'\n",
            " 'Potomac Ave & Half St SW' 'N Veitch St & Key Blvd'\n",
            " 'Calvert St & Woodley Pl NW' '4th & C St SW' 'Motivate BX Tech office'\n",
            " 'Florida Ave & R St NW' '17th & K St NW / Farragut Square'\n",
            " 'Park Rd & Holmead Pl NW' '4th & East Capitol St NE'\n",
            " 'Woodley Park Metro / Calvert St & Connecticut Ave NW' '11th & O St NW'\n",
            " 'Eads St & 12th St S' 'Army Navy Dr & S Joyce St' '13th & H St NE'\n",
            " '8th & D St NW' '17th & G St NW' '11th & C St SE' '4th & M St SW'\n",
            " 'M St & New Jersey Ave SE' '11th & M St NW' 'North Capitol St & F St NW'\n",
            " '7th & R St NW / Shaw Library' 'C & O Canal & Wisconsin Ave NW'\n",
            " '17th St & Independence Ave SW' 'Rhode Island Ave & V St NE'\n",
            " '13th & D St NE' '4th St & K St NW' 'Wisconsin Ave & Newark St NW'\n",
            " 'Bethesda Metro / Wisconsin Ave & Old Georgetown Rd'\n",
            " \"Prince George's Plaza Metro\" '7th & S St NW'\n",
            " 'Pentagon City Metro / 12th St & S Hayes St' 'M St & Pennsylvania Ave NW'\n",
            " '1st & O St NW' 'Court House Metro / 15th St & N Uhle St'\n",
            " 'Saint Asaph St & Madison St' 'Washington Blvd & 10th St N'\n",
            " '10th & K St NW' 'Eastern Market Metro / Pennsylvania Ave & 7th St SE'\n",
            " '5th & K St NW' '8th & O St NW' '3rd & H St NE'\n",
            " 'Arlington Blvd & Fillmore St' 'N Lynn St & Fairfax Dr' '23rd & M St NW'\n",
            " 'Massachusetts Ave & Dupont Circle NW' '4th St & Madison Dr NW'\n",
            " '14th St & Spring Rd NW' '8th & H St NE' '3rd St & Pennsylvania Ave SE'\n",
            " 'Pershing Dr & Wayne St' '10th & Florida Ave NW'\n",
            " 'Smithsonian-National Mall / Jefferson Dr & 12th St SW'\n",
            " '19th St & Pennsylvania Ave NW' 'Minnesota Ave Metro/DOES'\n",
            " '14th & Irving St NW' '15th & L St NW' 'Potomac & M St NW'\n",
            " '7th & F St NW / National Portrait Gallery'\n",
            " 'Harvard St & Adams Mill Rd NW' '28th St & S Meade St'\n",
            " 'Fleet St & Waterfront St' 'Columbia Rd & Georgia Ave NW'\n",
            " '19th & East Capitol St SE' '18th St & Wyoming Ave NW'\n",
            " 'Washington & Independence Ave SW/HHS' 'Castle Blvd & Castle Ln'\n",
            " '21st St & Pennsylvania Ave NW' 'Hains Point/Buckeye & Ohio Dr SW'\n",
            " '12th & Irving St NE' '1st & K St NE'\n",
            " 'Anacostia Ave & Benning Rd NE / River Terrace ' 'Union Market'\n",
            " 'Rhode Island Ave Metro' 'Lynn St & 19th St North' '15th & F St NE'\n",
            " 'Maine Ave & 9th St SW' 'Jefferson Memorial'\n",
            " 'Connecticut Ave & Newark St NW / Cleveland Park' 'Edgewood Rec Center'\n",
            " 'Maine Ave & 7th St SW' 'Van Ness Metro / UDC'\n",
            " 'Bethesda Ave & Arlington Rd' '2nd St & Massachusetts Ave NE'\n",
            " \"Independence Ave & L'Enfant Plaza SW/DOE\"\n",
            " 'Ballston Metro / Stuart St & 9th St N' '11th & F St NW'\n",
            " 'W Broad St & Little Falls St' '15th & M St NW'\n",
            " 'Wilson Blvd & N Quincy St' 'Merrilee Dr & Lauren Elizabeth Lane'\n",
            " '1st & M St SE' '17th & K St NW' 'Prince St & Union St'\n",
            " 'New York Ave & Hecht Ave NE' 'George Mason Dr & Wilson Blvd'\n",
            " '14th & Belmont St NW' '11th & Park Rd NW' '20th St & Florida Ave NW'\n",
            " 'Columbia Rd & Belmont St NW' 'Convention Center / 7th & M St NW'\n",
            " 'New Jersey Ave & R St NW' '22nd St & Constitution Ave NW'\n",
            " '25th St & Pennsylvania Ave NW' '21st & I St NW' '15th & P St NW'\n",
            " '15th & East Capitol St NE' 'Columbia & Ontario Rd NW'\n",
            " '3rd & Tingey St SE' 'Rockville Pike & Meeting St' '4th & M St SE'\n",
            " 'Gallaudet / 8th St & Florida Ave NE' 'Ballenger Ave & Dulaney St'\n",
            " '8th & H St NW' '37th & O St NW / Georgetown University'\n",
            " 'Tenleytown / Wisconsin Ave & Albemarle St NW' '19th & G St NW'\n",
            " 'Connecticut Ave & McKinley St NW' \"L'Enfant Plaza / 7th & C St SW\"\n",
            " '1st & N St  SE' '3rd & M St NE' '13th & E St SE' '47th & Elm St'\n",
            " '18th & C St NW' 'Woodmont Ave & Strathmore St' '1st & D St SE'\n",
            " 'Henry Bacon Dr & Lincoln Memorial Circle NW' '18th & M St NW'\n",
            " 'Baltimore Ave & Van Buren St / Riverdale Park Station'\n",
            " 'Spring Hill Metro' 'Reston Town Center Transit Station'\n",
            " 'Commonwealth Ave & Oak St' '7th St & Massachusetts Ave NE'\n",
            " '12th & L St NW' '1st & K St SE' '16th & R St NW'\n",
            " 'Massachusetts Ave & 6th St NE' '8th & Eye St SE / Barracks Row'\n",
            " 'Anacostia Park' 'Wisconsin Ave & O St NW'\n",
            " 'Potomac & Pennsylvania Ave SE' 'Georgia & New Hampshire Ave NW'\n",
            " 'N. Beauregard St. & Berkley St.' '20th St & Virginia Ave NW'\n",
            " 'Wilson Blvd & N Illinois St ' 'Lamont & Mt Pleasant NW'\n",
            " 'Congressional Ln & E Jefferson St' '3rd St & Riggs Rd NE'\n",
            " '14th & Girard St NW' '15th & K St NW' 'Maryland Ave & E St NE'\n",
            " 'Iwo Jima Memorial / Meade & 14th St N'\n",
            " '4th & D St NW / Judiciary Square' 'Georgetown Harbor / 30th St NW'\n",
            " 'Oklahoma Ave & D St NE' '20th & L St NW' 'Potomac Ave & Swann Ave'\n",
            " 'Merrifield Cinema & Merrifield Town Center' '8th & East Capitol St NE'\n",
            " 'Grant Circle' 'Rhode Island & Connecticut Ave NW' '4th & W St NE'\n",
            " 'S Glebe Rd & Potomac Ave' '15th St & Pennsylvania Ave NW'\n",
            " '13th St & New York Ave NW' '14th & G St NW' 'Potomac Ave & 8th St SE'\n",
            " '3rd & H St NW' 'American University East Campus'\n",
            " 'Mount Vernon Ave & Kennedy St' '20th & E St NW'\n",
            " 'Georgia & Missouri Ave NW' '14th & Upshur St NW'\n",
            " '22nd & I St NW / Foggy Bottom'\n",
            " '1301 McCormick Dr / Wayne K. Curry Admin Bldg' '8th & K St NE'\n",
            " 'Kennebec St & 11th St N' '14th St & Colorado Ave NW'\n",
            " '18th & New Hampshire Ave NW' 'Eads St & 15th St S' '10th & G St NW'\n",
            " '11th & S St NW' '31st St & S Woodrow St'\n",
            " 'Nannie Helen Burroughs Ave & 49th St NE' '4th & E St SW'\n",
            " 'Lee Hwy & N Adams St' 'Neal St & Trinidad Ave NE'\n",
            " 'Mount Vernon Ave & E Nelson Ave' 'Fairfax Dr & N Randolph St'\n",
            " 'Eastern Market / 7th & North Carolina Ave SE'\n",
            " 'Arlington Blvd & S George Mason Dr' '19th & K St NW'\n",
            " '15th St & Massachusetts Ave SE' 'Wilson Blvd & N Edgewood St'\n",
            " '36th & Calvert St NW / Glover Park' '18th & L St NW'\n",
            " 'Potomac Ave & Main Line Blvd' 'Rhode Island & Montana Ave NE'\n",
            " 'Wilson Blvd & N Uhle St' 'Crystal Dr & 23rd St S'\n",
            " 'Key Blvd & N Quinn St' 'Rhodes St & 16th St N'\n",
            " 'Clarendon Blvd & Pierce St' '14th & Harvard St NW'\n",
            " '17th & Corcoran St NW' '23rd & E St NW ' 'GMU / Fairfax Dr & Kenmore St'\n",
            " 'Connecticut Ave & Tilden St NW'\n",
            " 'Alabama Ave & Stanton Rd SE / Shops at Park Village'\n",
            " 'Reservoir Rd & 38th St NW' '1st & Rhode Island Ave NW'\n",
            " '12th St & Pennsylvania Ave SE' 'N Pitt & Wythe St'\n",
            " '18th St & Pennsylvania Ave NW' 'Columbia Pike & S Orme St'\n",
            " 'Virginia Square Metro / Monroe St & 9th St N'\n",
            " '20th & O St NW / Dupont South' 'Lee Hwy & N Cleveland St'\n",
            " '31st & Water St NW' 'River Rd & Landy Ln' '22nd & H St NW'\n",
            " 'Kansas Ave & Sherman Cr NW' 'USDA / 12th & C St SW'\n",
            " 'Norfolk Ave & Fairmont St' 'Glebe Rd & 11th St N'\n",
            " 'Arlington Blvd & N Queen St' '11th & H St NE' 'McLean Metro'\n",
            " 'King St Metro South' '14th & Otis Pl NW' '21st St & N Pierce St'\n",
            " '5th & Kennedy St NW' '22nd & P ST NW' 'Georgia Ave & Morton St NW'\n",
            " 'Arlington Mill Cmty Center / Columbia Pike & S Dinwiddie St'\n",
            " '2nd St & Seaton Pl NE' 'Wisconsin Ave & Brandywine St NW'\n",
            " 'Deanwood Rec Center' '3rd & G St SE' 'Thomas Circle'\n",
            " 'Wilson Blvd & N Franklin Rd' 'Baltimore Ave & Jefferson St'\n",
            " '5th & F St NW' 'Chillum Rd & Riggs Rd / Riggs Plaza'\n",
            " '3000 Connecticut Ave NW / National Zoo'\n",
            " 'Lincoln Rd & Seaton Pl NE/Harry Thomas Rec Center' 'Dunn Loring Metro'\n",
            " '8th & F St NE' '6th & H St NE' 'Lee Hwy & N Kirkwood Rd'\n",
            " 'New York Ave & 15th St NW' 'Madison St & Fairfax St'\n",
            " 'Connecticut Ave & R St NW' 'Vermont Ave & I St NW'\n",
            " 'Key West Ave & Diamondback Dr' 'Kennedy Center' 'Braddock Rd Metro'\n",
            " 'Clarendon Metro / Wilson Blvd & N Highland St' '14th & D St SE'\n",
            " 'Clarendon Blvd & N Fillmore St' '15th & Euclid St  NW'\n",
            " 'West Hyattsville Metro' 'Central Library / Quincy St & 10th St N'\n",
            " 'Madison St & N Henry St' 'Minnesota Ave & R St SE' 'Hamlin & 7th St NE'\n",
            " '14th St & New York Ave NW' 'Montello Ave & Holbrook Terr NE'\n",
            " 'Silver Spring Transit Center - Top Level' 'Maryland Ave & 17th St NE'\n",
            " 'Mount Vernon Ave & Four Mile Run Park'\n",
            " 'Mt Vernon Trail & S. Washington St.' 'Lee Hwy & N Woodstock St'\n",
            " 'Crystal City Metro / 18th St & S Bell St' 'Eads St & 22nd St S'\n",
            " '10th & U St NW' 'Randle Circle & Minnesota Ave SE' '19th & E Street NW'\n",
            " 'N Veitch St & 20th St N' '21st St & Constitution Ave NW'\n",
            " 'Connecticut Ave & Yuma St NW' 'Four Mile Run Dr & S Walter Reed Dr'\n",
            " '7th & T St NW' '3rd & Elm St NW' 'North Capitol St & G Pl NE'\n",
            " 'North Capitol & R St NE' 'Mount Vernon Ave & Bruce St'\n",
            " 'Veterans Pl & Pershing Dr ' 'Columbia Pike & S Courthouse Rd'\n",
            " 'Columbia Pike & S Walter Reed Dr' 'National Harbor Carousel'\n",
            " '18th St & Rhode Island Ave NE' '10th St & Constitution Ave NW'\n",
            " 'Connecticut & Nebraska Ave NW' 'Virginia Ave & 25th St NW'\n",
            " 'Pooks Hill Rd & Linden Ave' 'Columbia Pike & S Taylor St'\n",
            " 'Good Hope Rd & MLK Ave SE' '39th & Veazey St NW'\n",
            " 'E Montgomery Ave & Maryland Ave' 'Queens Chapel & Hamilton St'\n",
            " 'Good Hope & Naylor Rd SE' 'Old Georgetown Rd & Southwick St'\n",
            " 'Stewart Ln & Old Columbia Pike' 'Capitol Ave & Kendall St NE'\n",
            " 'King Farm Blvd & Pleasant Dr' 'Battery Ln & Trolley Trail'\n",
            " 'Wilson Blvd & N Troy St' 'Georgia Ave and Fairmont St NW'\n",
            " '18th St & S Eads St' 'Utah St & 11th St N' 'Calvert & Biltmore St NW'\n",
            " 'Clark St & 26th St S' 'Lee Hwy & N Scott St'\n",
            " 'US Dept of State / Virginia Ave & 21st St NW'\n",
            " 'Barcroft Community Center' 'Crystal Dr & 20th St S'\n",
            " 'Crystal Dr & Potomac Ave' 'Eisenhower Ave & Mill Race Ln'\n",
            " 'Cordell & Norfolk Ave' '18th & Monroe St NE' 'Potomac Ave & 35th St S'\n",
            " 'S Arlington Mill Dr & Campbell Ave' '17th & Upshur St NW'\n",
            " 'Oklahoma Ave & Benning Rd NE' '6th & K St NE'\n",
            " 'Falls Church City Hall / Park Ave & Little Falls St'\n",
            " 'Connecticut Ave & Chevy Chase Lake Dr' 'Trinidad Rec Center'\n",
            " 'Yuma St & Tenley Circle NW' 'Anacostia Metro' '15th St & N Scott St'\n",
            " 'King St & Patrick St'\n",
            " 'Shirlington Transit Center / Quincy St & Randolph St'\n",
            " 'N Quincy St & Glebe Rd' 'Fenton St & Gist Ave' 'Rosedale Rec Center'\n",
            " 'Fairfax Dr & Wilson Blvd'\n",
            " 'Silver Spring Metro / Colesville Rd & Wayne Ave' 'Fairfax Village'\n",
            " 'Franklin St & S Washington St' 'Pennsylvania Ave & Park Ave'\n",
            " 'Westpark Dr & Leesburg Pike' 'New Hampshire & Gallatin St NW'\n",
            " 'Livingston Rd & 3rd St SE' 'WAU / Flower Ave & Division St'\n",
            " 'Kenilworth Terrace & Hayes St. NE'\n",
            " 'TJ Cmty Ctr / 2nd St & S Old Glebe Rd' 'Pleasant St & MLK Ave SE'\n",
            " 'Market Square / King St & Royal St'\n",
            " 'Long Bridge Park / Long Bridge Dr & 6th St S'\n",
            " 'The Mall at Prince Georges' 'Wisconsin Ave & Ingomar St NW'\n",
            " 'East West Hwy & Blair Mill Rd' 'Friendship Blvd & Willard Ave'\n",
            " 'Fort Stanton Rec Center' 'Fishers Ln & Rock Creek Mill Rd'\n",
            " 'Benning Rd & East Capitol St NE / Benning Rd Metro'\n",
            " 'Ward Circle / American University' 'Washington Blvd & Walter Reed Dr '\n",
            " 'Rolfe St & 9th St S' 'Wilson Blvd. & N. Vermont St.'\n",
            " 'Frederick Ave & Horners Ln' '9th & Upshur St NW'\n",
            " 'Georgia Ave & Kennedy St NW' 'Fort Totten Metro'\n",
            " 'Sunset Hills & Old Reston Ave' 'Dennis Ave & Amherst Ave'\n",
            " 'Georgia Ave & Emerson St NW' '48th Pl & MacArthur Blvd NW'\n",
            " 'Westpark & Jones Branch Dr' 'Half & Water St SW' '14th & Luzon St NW'\n",
            " 'Monroe Ave & Leslie Ave' 'Northwestern High School'\n",
            " 'Takoma Park Rec Center' 'Army Navy Dr & S Nash St' 'Twinbrook Metro'\n",
            " 'Joyce St & 16th St S' 'Oxon Hill Park & Ride' '19th & Savannah St SE'\n",
            " 'Good Hope Rd & 14th St SE' 'Riverdale Park Town Center'\n",
            " 'S Maple Ave & S Washington St' 'Vy Reston Heights' 'Stewart & April'\n",
            " '16th & Q St SE / Anacostia HS' 'Duke St & John Carlyle St'\n",
            " 'Offutt Ln & Chevy Chase Dr' 'Fallsgrove Blvd & Fallsgrove Dr'\n",
            " '4th St & Mississippi Ave SE' 'Fenton St & New York Ave '\n",
            " 'John McCormack Dr & Michigan Ave NE' 'Windham Ln & Amherst Ave'\n",
            " 'N Oak St & W Broad St' 'The Shoppes @ Burnt Mills'\n",
            " 'Commerce St & Fayette St' 'Wakefield High School'\n",
            " 'Washington Blvd & N Frederick St' 'Saint Asaph St & Pendleton  St'\n",
            " 'Kenmore St & 24th St S' 'South Capitol & Atlantic St SW' 'Takoma Metro'\n",
            " 'Georgia Ave & Spring St' 'Fessenden St & Wisconsin Ave NW'\n",
            " 'W Columbia St & N Washington St' 'King Greenleaf Rec Center'\n",
            " 'Reston YMCA' 'Troy St & 26th St S' 'Maple & Ritchie Ave'\n",
            " 'Rockville Metro West' 'Hardy Rec Center' 'Powhatan St & Bashford Ln'\n",
            " 'New Hampshire Ave & East-West Hwy' '12th & Newton St NE'\n",
            " 'Key West Ave & Great Seneca Hwy' 'Georgia Ave & Piney Branch Rd NW'\n",
            " 'Royal St & Wilkes St' 'Perry & 35th St'\n",
            " 'Pennsylvania & Minnesota Ave SE' 'Bladensburg Rd & Benning Rd NE'\n",
            " 'Division Ave & Foote St NE' 'Fenton St & Ellsworth Dr '\n",
            " 'Eisenhower Ave & Ike Dr' 'White Flint Metro'\n",
            " 'Jones Branch Drive & Scotts Crossing Rd' 'Henry St & Pendleton St'\n",
            " 'Shady Grove Metro East' 'Montgomery Ave & Waverly St '\n",
            " '14th St Heights / 14th & Crittenden St NW'\n",
            " 'N Roosevelt St & Roosevelt Blvd' 'Sunset Hills Rd & Isaac Newton Square'\n",
            " 'Riggs Rd & East West Hwy' 'Spring St & 2nd Ave' 'Crystal Dr & 27th St S'\n",
            " 'Mount Vernon Ave & E Del Ray Ave' 'Carlin Springs Rd & N Thomas St'\n",
            " 'Wheaton Library & Community Rec Center'\n",
            " \"Largo Rd & Campus Way / Prince Georges's Comm Col\"\n",
            " 'Congress Heights Metro' 'Washington Blvd & 7th St N'\n",
            " 'Branch & Pennsylvania Ave SE' 'Anacostia Library'\n",
            " 'Radford St & Osage St' 'Barton St & 10th St N'\n",
            " '1st & S Capitol St SE / Oxon Run Trail'\n",
            " 'Aurora Hills Cmty Ctr / 18th St & S Hayes St'\n",
            " 'Lyttonsville Rd & Lyttonsville Pl'\n",
            " 'Washington-Liberty High School / N Stafford St & Generals Way'\n",
            " 'Columbus Ave & Gramercy Blvd' 'Amherst Ave & Elkins St'\n",
            " 'Carroll & Westmoreland Ave' 'Norfolk & Rugby Ave'\n",
            " 'East Falls Church Metro / Sycamore St & 19th St N'\n",
            " 'Key West Ave & Siesta Key Way' 'East West Hwy & 16th St'\n",
            " 'Needwood Rd & Eagles Head Ct'\n",
            " 'Nannie Helen Burroughs & Minnesota Ave NE' 'Carroll & Ethan Allen Ave'\n",
            " 'Town Center Pkwy & Sunset Hills Rd' 'New Dominion Pkwy & Fountain Dr'\n",
            " 'E Fairfax St & S Washington St' 'Four Mile Run Dr & S Shirlington Rd'\n",
            " 'Columbia Pike & S Oakland St' 'Mississippi Ave & 19th St SE / THEARC'\n",
            " 'Ridge Rd Community Center' 'Benning Branch Library'\n",
            " 'S George Mason & Four Mile Run Dr' 'Wiehle Ave & Reston Station Blvd'\n",
            " 'Wheaton Metro / Georgia Ave & Reedie Dr' 'Lee Hwy & N Monroe St'\n",
            " 'Potomac Greens Dr & Slaters Ln' 'Executive Blvd & E Jefferson St'\n",
            " 'Briggs Chaney Park & Ride' 'Sunset Hills Rd & Discovery Square'\n",
            " 'Rhode Island Ave & 39th St / Brentwood Arts Exchange'\n",
            " '3rd & Underwood St NW' 'State Theatre / Park Pl & N Washington St'\n",
            " 'Citadel Ave & McGrath Blvd' 'Tysons One Pl & Chain Bridge Rd'\n",
            " 'Walter Reed Dr & 8th St S' 'Montgomery & East Ln'\n",
            " 'Valley Ave & Wheeler Rd SE'\n",
            " 'Westover Library / Washington Blvd & N McKinley Rd'\n",
            " 'George Mason High School / Haycock Rd & Leesburg Pike'\n",
            " 'Capitol Heights Metro' 'Commonwealth Ave & E Monroe Ave'\n",
            " 'Medical Center Metro ' 'Traville Gateway Dr & Gudelsky Dr'\n",
            " 'Shady Grove Hospital' 'Sligo Ave & Carroll Ln' 'Monroe St & Monroe Pl'\n",
            " 'Philadelphia & Maple Ave' 'Alabama & MLK Ave SE'\n",
            " 'North Shore Dr & Village Rd' 'Tysons Corner Station'\n",
            " 'Southern Ave Metro' 'Library St & Freedom Dr' 'Stanton Square SE'\n",
            " 'Garland Ave & Walden Rd' 'Corporate Blvd & Omega Dr'\n",
            " '13th St & Eastern Ave' 'Fallsgrove Dr & W Montgomery Ave'\n",
            " 'Briggs Chaney & Castle Dr' 'Amherst Ave & Prichard Rd'\n",
            " 'Wheeler Ave & S. Floyd St.' 'New Hampshire & Lockwood'\n",
            " 'Temporary Rd & Old Reston Ave'\n",
            " 'Hyattsville Library / Adelphi Rd & Toledo Rd' '37th & Ely Pl SE'\n",
            " 'King Farm Blvd & Piccard Dr' 'Reston Regional Library' 'Campus Commons'\n",
            " 'Rockville Pike & Old Georgetown Rd' 'Greensboro & International Dr'\n",
            " 'Park Run & Onyx Dr' '61st St & Banks Pl NE' 'Lee Center'\n",
            " 'Westpark & Park Run Dr' 'Rockville Metro East'\n",
            " 'Town Center Pkwy & Bowman Towne Dr' 'White Oak Rec Center'\n",
            " 'Jones Branch & Westbranch Dr' 'White Oak Transit Center'\n",
            " 'Greensboro & Pinnacle Dr' 'Oak Leaf & Lockwood'\n",
            " 'Grandview & Blueridge Ave' 'Piccard & W Gude Dr'\n",
            " 'Fleet St & Ritchie Pkwy' 'Largo Town Center Metro'\n",
            " 'Montgomery College / W Campus Dr & Mannakee St' 'United Medical Center'\n",
            " 'Shady Grove Metro West'\n",
            " 'North Shore & Cameron Crescent Dr/Crescent Apartments' nan\n",
            " 'West Falls Church Metro' 'New Hampshire & Kirklynn Ave'\n",
            " 'Oglethorpe St & 42nd Ave' 'Blueridge Ave & Elkin St'\n",
            " 'Towers Crescent Dr & Tysons One Pl'\n",
            " 'Joliet St & MLK Ave SW/Bald Eagle Rec Ctr' '13th & U St NW'\n",
            " 'Stadium Armory Metro' 'Broadbranch & Northampton NW'\n",
            " 'Broad Branch Rd & Northampton St NW' 'Tysons West Transit Center'\n",
            " 'St Asaph & Pendleton St' 'Medical Center Dr & Key West Ave'\n",
            " '6035 Warehouse' 'Reston Pkwy & Spectrum Dr' 'St. Asaph & Montgomery St'\n",
            " 'Duke St & Strand (Robinson Terminal)'\n",
            " 'Eastern Market Metro / Pennsylvania Ave & 8th St SE' '4th St & G St SW'\n",
            " '21st St & G st NW' 'Kansas Ave & Longfellow St NW'\n",
            " '1st St & Potomac Ave SE' '2nd & V St SW / James Creek Marina'\n",
            " 'Ft Myer Dr & Arlington Blvd' 'Wilson Blvd & N Oak St' 'National Airport'\n",
            " '23rd St S & Hayes St' 'Wilson Blvd & Oak st'\n",
            " 'Arlington Blvd & Fairfax Dr' 'Fern St & Army Navy Dr']\n",
            "no. of start stations-\n",
            "626\n"
          ],
          "name": "stdout"
        }
      ]
    },
    {
      "cell_type": "code",
      "metadata": {
        "colab": {
          "base_uri": "https://localhost:8080/"
        },
        "id": "9SAF8QDXpJxY",
        "outputId": "beb9d215-cb30-4732-8b3d-516e9b329b5a"
      },
      "source": [
        "# different start station ID \n",
        "start_station_id_no = data['start_station_id'].unique()\n",
        "print(start_station_id_no)\n",
        "print('no. of start stations id-')\n",
        "print(len(start_station_id_no))"
      ],
      "execution_count": 791,
      "outputs": [
        {
          "output_type": "stream",
          "text": [
            "[31287. 31271. 32014. ... 31938. 31940. 31936.]\n",
            "no. of start stations id-\n",
            "1207\n"
          ],
          "name": "stdout"
        }
      ]
    },
    {
      "cell_type": "code",
      "metadata": {
        "colab": {
          "base_uri": "https://localhost:8080/"
        },
        "id": "GEZ43K71p0H0",
        "outputId": "6305002f-f0ff-4cfb-9602-bf057aeb8f0f"
      },
      "source": [
        "#type of member in dataset \n",
        "member_casual_no = data['member_casual'].unique()\n",
        "print(member_casual_no)\n",
        "print('no. of member_casual-')\n",
        "print(len(member_casual_no))"
      ],
      "execution_count": 792,
      "outputs": [
        {
          "output_type": "stream",
          "text": [
            "['casual' 'member']\n",
            "no. of member_casual-\n",
            "2\n"
          ],
          "name": "stdout"
        }
      ]
    },
    {
      "cell_type": "code",
      "metadata": {
        "colab": {
          "base_uri": "https://localhost:8080/"
        },
        "id": "gXB5IbLOqudm",
        "outputId": "a83a6f5e-1401-402a-cd5e-2233476f6646"
      },
      "source": [
        "#different between start ride and end ride to calculate travel time\n",
        "difference_in_ride = ( pd.to_datetime(data['ended_at']) -  pd.to_datetime(data['started_at'])) \n",
        "print(difference_in_ride[1].seconds)\n",
        "print(difference_in_ride)"
      ],
      "execution_count": 793,
      "outputs": [
        {
          "output_type": "stream",
          "text": [
            "287\n",
            "0        0 days 00:20:23\n",
            "1        0 days 00:04:47\n",
            "2        0 days 00:38:58\n",
            "3        0 days 00:13:53\n",
            "4        0 days 00:08:33\n",
            "               ...      \n",
            "479371   0 days 00:46:06\n",
            "479372   0 days 00:27:07\n",
            "479373   0 days 00:22:45\n",
            "479374   0 days 00:35:59\n",
            "479375   0 days 00:40:58\n",
            "Length: 479376, dtype: timedelta64[ns]\n"
          ],
          "name": "stdout"
        }
      ]
    },
    {
      "cell_type": "code",
      "metadata": {
        "id": "6aK3GNwyrAYV",
        "colab": {
          "base_uri": "https://localhost:8080/",
          "height": 758
        },
        "outputId": "f075ced5-9518-407e-cb53-6d000f7088bd"
      },
      "source": [
        "# dropped the null values\n",
        "data.dropna(subset = [\"start_station_name\",\"end_station_name\"], inplace=False)"
      ],
      "execution_count": 794,
      "outputs": [
        {
          "output_type": "execute_result",
          "data": {
            "text/html": [
              "<div>\n",
              "<style scoped>\n",
              "    .dataframe tbody tr th:only-of-type {\n",
              "        vertical-align: middle;\n",
              "    }\n",
              "\n",
              "    .dataframe tbody tr th {\n",
              "        vertical-align: top;\n",
              "    }\n",
              "\n",
              "    .dataframe thead th {\n",
              "        text-align: right;\n",
              "    }\n",
              "</style>\n",
              "<table border=\"1\" class=\"dataframe\">\n",
              "  <thead>\n",
              "    <tr style=\"text-align: right;\">\n",
              "      <th></th>\n",
              "      <th>ride_id</th>\n",
              "      <th>rideable_type</th>\n",
              "      <th>started_at</th>\n",
              "      <th>ended_at</th>\n",
              "      <th>start_station_name</th>\n",
              "      <th>start_station_id</th>\n",
              "      <th>end_station_name</th>\n",
              "      <th>end_station_id</th>\n",
              "      <th>start_lat</th>\n",
              "      <th>start_lng</th>\n",
              "      <th>end_lat</th>\n",
              "      <th>end_lng</th>\n",
              "      <th>member_casual</th>\n",
              "    </tr>\n",
              "  </thead>\n",
              "  <tbody>\n",
              "    <tr>\n",
              "      <th>0</th>\n",
              "      <td>4479E04D9D45AC6B</td>\n",
              "      <td>docked_bike</td>\n",
              "      <td>2020-08-22 17:09:39</td>\n",
              "      <td>2020-08-22 17:30:02</td>\n",
              "      <td>10th St &amp; L'Enfant Plaza SW</td>\n",
              "      <td>31287.0</td>\n",
              "      <td>13th &amp; E St SE</td>\n",
              "      <td>31607.0</td>\n",
              "      <td>38.884323</td>\n",
              "      <td>-77.026010</td>\n",
              "      <td>38.882915</td>\n",
              "      <td>-76.987907</td>\n",
              "      <td>casual</td>\n",
              "    </tr>\n",
              "    <tr>\n",
              "      <th>1</th>\n",
              "      <td>EF88DFBC1E6648EC</td>\n",
              "      <td>docked_bike</td>\n",
              "      <td>2020-08-26 13:13:54</td>\n",
              "      <td>2020-08-26 13:18:41</td>\n",
              "      <td>Constitution Ave &amp; 2nd St NW/DOL</td>\n",
              "      <td>31271.0</td>\n",
              "      <td>New Jersey Ave &amp; F St NW</td>\n",
              "      <td>31655.0</td>\n",
              "      <td>38.892275</td>\n",
              "      <td>-77.013917</td>\n",
              "      <td>38.897108</td>\n",
              "      <td>-77.011616</td>\n",
              "      <td>casual</td>\n",
              "    </tr>\n",
              "    <tr>\n",
              "      <th>2</th>\n",
              "      <td>25812556961CFABD</td>\n",
              "      <td>docked_bike</td>\n",
              "      <td>2020-08-07 16:34:41</td>\n",
              "      <td>2020-08-07 17:13:39</td>\n",
              "      <td>Friendship Hts Metro / Wisconsin Ave &amp; Wiscons...</td>\n",
              "      <td>32014.0</td>\n",
              "      <td>22nd &amp; P ST NW</td>\n",
              "      <td>31285.0</td>\n",
              "      <td>38.961763</td>\n",
              "      <td>-77.085998</td>\n",
              "      <td>38.909394</td>\n",
              "      <td>-77.048728</td>\n",
              "      <td>casual</td>\n",
              "    </tr>\n",
              "    <tr>\n",
              "      <th>3</th>\n",
              "      <td>1621384E51D38F1F</td>\n",
              "      <td>docked_bike</td>\n",
              "      <td>2020-08-07 20:32:05</td>\n",
              "      <td>2020-08-07 20:45:58</td>\n",
              "      <td>John McCormack Rd NE</td>\n",
              "      <td>31528.0</td>\n",
              "      <td>3rd &amp; M St NE</td>\n",
              "      <td>31627.0</td>\n",
              "      <td>38.938889</td>\n",
              "      <td>-76.997226</td>\n",
              "      <td>38.905470</td>\n",
              "      <td>-77.002130</td>\n",
              "      <td>casual</td>\n",
              "    </tr>\n",
              "    <tr>\n",
              "      <th>4</th>\n",
              "      <td>BC10B8C7848D1FDF</td>\n",
              "      <td>docked_bike</td>\n",
              "      <td>2020-08-18 13:40:34</td>\n",
              "      <td>2020-08-18 13:49:07</td>\n",
              "      <td>16th &amp; Irving St NW</td>\n",
              "      <td>31122.0</td>\n",
              "      <td>New Hampshire Ave &amp; T St NW</td>\n",
              "      <td>31229.0</td>\n",
              "      <td>38.928893</td>\n",
              "      <td>-77.036250</td>\n",
              "      <td>38.915544</td>\n",
              "      <td>-77.038252</td>\n",
              "      <td>member</td>\n",
              "    </tr>\n",
              "    <tr>\n",
              "      <th>...</th>\n",
              "      <td>...</td>\n",
              "      <td>...</td>\n",
              "      <td>...</td>\n",
              "      <td>...</td>\n",
              "      <td>...</td>\n",
              "      <td>...</td>\n",
              "      <td>...</td>\n",
              "      <td>...</td>\n",
              "      <td>...</td>\n",
              "      <td>...</td>\n",
              "      <td>...</td>\n",
              "      <td>...</td>\n",
              "      <td>...</td>\n",
              "    </tr>\n",
              "    <tr>\n",
              "      <th>479371</th>\n",
              "      <td>8A0B3B755E6F7EF0</td>\n",
              "      <td>docked_bike</td>\n",
              "      <td>2020-12-04 11:56:13</td>\n",
              "      <td>2020-12-04 12:42:19</td>\n",
              "      <td>Jefferson Dr &amp; 14th St SW</td>\n",
              "      <td>31247.0</td>\n",
              "      <td>4th St &amp; Madison Dr NW</td>\n",
              "      <td>31288.0</td>\n",
              "      <td>38.888553</td>\n",
              "      <td>-77.032427</td>\n",
              "      <td>38.890496</td>\n",
              "      <td>-77.017247</td>\n",
              "      <td>casual</td>\n",
              "    </tr>\n",
              "    <tr>\n",
              "      <th>479372</th>\n",
              "      <td>A10ED3D50E5AB612</td>\n",
              "      <td>docked_bike</td>\n",
              "      <td>2020-12-12 13:49:55</td>\n",
              "      <td>2020-12-12 14:17:02</td>\n",
              "      <td>Jefferson Dr &amp; 14th St SW</td>\n",
              "      <td>31247.0</td>\n",
              "      <td>19th St &amp; Constitution Ave NW</td>\n",
              "      <td>31235.0</td>\n",
              "      <td>38.888553</td>\n",
              "      <td>-77.032427</td>\n",
              "      <td>38.892300</td>\n",
              "      <td>-77.043600</td>\n",
              "      <td>casual</td>\n",
              "    </tr>\n",
              "    <tr>\n",
              "      <th>479373</th>\n",
              "      <td>F146CC9669ABF5EC</td>\n",
              "      <td>docked_bike</td>\n",
              "      <td>2020-12-03 13:43:26</td>\n",
              "      <td>2020-12-03 14:06:11</td>\n",
              "      <td>Jefferson Dr &amp; 14th St SW</td>\n",
              "      <td>31247.0</td>\n",
              "      <td>4th St &amp; Madison Dr NW</td>\n",
              "      <td>31288.0</td>\n",
              "      <td>38.888553</td>\n",
              "      <td>-77.032427</td>\n",
              "      <td>38.890496</td>\n",
              "      <td>-77.017247</td>\n",
              "      <td>casual</td>\n",
              "    </tr>\n",
              "    <tr>\n",
              "      <th>479374</th>\n",
              "      <td>614005BC98FE93F7</td>\n",
              "      <td>docked_bike</td>\n",
              "      <td>2020-12-06 07:27:47</td>\n",
              "      <td>2020-12-06 08:03:46</td>\n",
              "      <td>Jefferson Dr &amp; 14th St SW</td>\n",
              "      <td>31247.0</td>\n",
              "      <td>19th St &amp; Constitution Ave NW</td>\n",
              "      <td>31235.0</td>\n",
              "      <td>38.888552</td>\n",
              "      <td>-77.032427</td>\n",
              "      <td>38.892300</td>\n",
              "      <td>-77.043600</td>\n",
              "      <td>casual</td>\n",
              "    </tr>\n",
              "    <tr>\n",
              "      <th>479375</th>\n",
              "      <td>86783BF38F4567FA</td>\n",
              "      <td>docked_bike</td>\n",
              "      <td>2020-12-21 13:46:01</td>\n",
              "      <td>2020-12-21 14:26:59</td>\n",
              "      <td>Jefferson Dr &amp; 14th St SW</td>\n",
              "      <td>31247.0</td>\n",
              "      <td>17th &amp; G St NW</td>\n",
              "      <td>31277.0</td>\n",
              "      <td>38.888553</td>\n",
              "      <td>-77.032427</td>\n",
              "      <td>38.898283</td>\n",
              "      <td>-77.039732</td>\n",
              "      <td>casual</td>\n",
              "    </tr>\n",
              "  </tbody>\n",
              "</table>\n",
              "<p>366143 rows × 13 columns</p>\n",
              "</div>"
            ],
            "text/plain": [
              "                 ride_id rideable_type  ...    end_lng member_casual\n",
              "0       4479E04D9D45AC6B   docked_bike  ... -76.987907        casual\n",
              "1       EF88DFBC1E6648EC   docked_bike  ... -77.011616        casual\n",
              "2       25812556961CFABD   docked_bike  ... -77.048728        casual\n",
              "3       1621384E51D38F1F   docked_bike  ... -77.002130        casual\n",
              "4       BC10B8C7848D1FDF   docked_bike  ... -77.038252        member\n",
              "...                  ...           ...  ...        ...           ...\n",
              "479371  8A0B3B755E6F7EF0   docked_bike  ... -77.017247        casual\n",
              "479372  A10ED3D50E5AB612   docked_bike  ... -77.043600        casual\n",
              "479373  F146CC9669ABF5EC   docked_bike  ... -77.017247        casual\n",
              "479374  614005BC98FE93F7   docked_bike  ... -77.043600        casual\n",
              "479375  86783BF38F4567FA   docked_bike  ... -77.039732        casual\n",
              "\n",
              "[366143 rows x 13 columns]"
            ]
          },
          "metadata": {
            "tags": []
          },
          "execution_count": 794
        }
      ]
    },
    {
      "cell_type": "code",
      "metadata": {
        "colab": {
          "base_uri": "https://localhost:8080/"
        },
        "id": "-blK9zKKrLl7",
        "outputId": "06d16145-4628-430c-8aac-0bb5d6e88471"
      },
      "source": [
        "data['rideable_type'].value_counts()"
      ],
      "execution_count": 795,
      "outputs": [
        {
          "output_type": "execute_result",
          "data": {
            "text/plain": [
              "docked_bike      239688\n",
              "electric_bike    239688\n",
              "Name: rideable_type, dtype: int64"
            ]
          },
          "metadata": {
            "tags": []
          },
          "execution_count": 795
        }
      ]
    },
    {
      "cell_type": "code",
      "metadata": {
        "colab": {
          "base_uri": "https://localhost:8080/",
          "height": 333
        },
        "id": "Mb5RxeiTrC-L",
        "outputId": "02e39501-8748-4cda-fe3a-a115ed68b45e"
      },
      "source": [
        "# plotting different travel time of different user\n",
        "x = []\n",
        "for i in range(len(difference_in_ride)):\n",
        "  x.append(difference_in_ride[i].seconds)\n",
        "for i in range(len(difference_in_ride)):\n",
        "  difference_in_ride[i]=x[i]\n",
        "\n",
        "y = [i for i in range(0,len(difference_in_ride),500)]\n",
        "j=0\n",
        "k = []\n",
        "for i in range(0,len(difference_in_ride),500):\n",
        "  if j < len(difference_in_ride):\n",
        "    k.append(x[j]) \n",
        "    j = j+500\n",
        "print(y)\n",
        "print(k)\n",
        "\n",
        "plt.plot(y, k, label='Travel Time')\n",
        "plt.xlabel('User') \n",
        "plt.ylabel('Time travel(in sec)') \n",
        "plt.legend()\n",
        "plt.show()"
      ],
      "execution_count": 796,
      "outputs": [
        {
          "output_type": "stream",
          "text": [
            "[0, 500, 1000, 1500, 2000, 2500, 3000, 3500, 4000, 4500, 5000, 5500, 6000, 6500, 7000, 7500, 8000, 8500, 9000, 9500, 10000, 10500, 11000, 11500, 12000, 12500, 13000, 13500, 14000, 14500, 15000, 15500, 16000, 16500, 17000, 17500, 18000, 18500, 19000, 19500, 20000, 20500, 21000, 21500, 22000, 22500, 23000, 23500, 24000, 24500, 25000, 25500, 26000, 26500, 27000, 27500, 28000, 28500, 29000, 29500, 30000, 30500, 31000, 31500, 32000, 32500, 33000, 33500, 34000, 34500, 35000, 35500, 36000, 36500, 37000, 37500, 38000, 38500, 39000, 39500, 40000, 40500, 41000, 41500, 42000, 42500, 43000, 43500, 44000, 44500, 45000, 45500, 46000, 46500, 47000, 47500, 48000, 48500, 49000, 49500, 50000, 50500, 51000, 51500, 52000, 52500, 53000, 53500, 54000, 54500, 55000, 55500, 56000, 56500, 57000, 57500, 58000, 58500, 59000, 59500, 60000, 60500, 61000, 61500, 62000, 62500, 63000, 63500, 64000, 64500, 65000, 65500, 66000, 66500, 67000, 67500, 68000, 68500, 69000, 69500, 70000, 70500, 71000, 71500, 72000, 72500, 73000, 73500, 74000, 74500, 75000, 75500, 76000, 76500, 77000, 77500, 78000, 78500, 79000, 79500, 80000, 80500, 81000, 81500, 82000, 82500, 83000, 83500, 84000, 84500, 85000, 85500, 86000, 86500, 87000, 87500, 88000, 88500, 89000, 89500, 90000, 90500, 91000, 91500, 92000, 92500, 93000, 93500, 94000, 94500, 95000, 95500, 96000, 96500, 97000, 97500, 98000, 98500, 99000, 99500, 100000, 100500, 101000, 101500, 102000, 102500, 103000, 103500, 104000, 104500, 105000, 105500, 106000, 106500, 107000, 107500, 108000, 108500, 109000, 109500, 110000, 110500, 111000, 111500, 112000, 112500, 113000, 113500, 114000, 114500, 115000, 115500, 116000, 116500, 117000, 117500, 118000, 118500, 119000, 119500, 120000, 120500, 121000, 121500, 122000, 122500, 123000, 123500, 124000, 124500, 125000, 125500, 126000, 126500, 127000, 127500, 128000, 128500, 129000, 129500, 130000, 130500, 131000, 131500, 132000, 132500, 133000, 133500, 134000, 134500, 135000, 135500, 136000, 136500, 137000, 137500, 138000, 138500, 139000, 139500, 140000, 140500, 141000, 141500, 142000, 142500, 143000, 143500, 144000, 144500, 145000, 145500, 146000, 146500, 147000, 147500, 148000, 148500, 149000, 149500, 150000, 150500, 151000, 151500, 152000, 152500, 153000, 153500, 154000, 154500, 155000, 155500, 156000, 156500, 157000, 157500, 158000, 158500, 159000, 159500, 160000, 160500, 161000, 161500, 162000, 162500, 163000, 163500, 164000, 164500, 165000, 165500, 166000, 166500, 167000, 167500, 168000, 168500, 169000, 169500, 170000, 170500, 171000, 171500, 172000, 172500, 173000, 173500, 174000, 174500, 175000, 175500, 176000, 176500, 177000, 177500, 178000, 178500, 179000, 179500, 180000, 180500, 181000, 181500, 182000, 182500, 183000, 183500, 184000, 184500, 185000, 185500, 186000, 186500, 187000, 187500, 188000, 188500, 189000, 189500, 190000, 190500, 191000, 191500, 192000, 192500, 193000, 193500, 194000, 194500, 195000, 195500, 196000, 196500, 197000, 197500, 198000, 198500, 199000, 199500, 200000, 200500, 201000, 201500, 202000, 202500, 203000, 203500, 204000, 204500, 205000, 205500, 206000, 206500, 207000, 207500, 208000, 208500, 209000, 209500, 210000, 210500, 211000, 211500, 212000, 212500, 213000, 213500, 214000, 214500, 215000, 215500, 216000, 216500, 217000, 217500, 218000, 218500, 219000, 219500, 220000, 220500, 221000, 221500, 222000, 222500, 223000, 223500, 224000, 224500, 225000, 225500, 226000, 226500, 227000, 227500, 228000, 228500, 229000, 229500, 230000, 230500, 231000, 231500, 232000, 232500, 233000, 233500, 234000, 234500, 235000, 235500, 236000, 236500, 237000, 237500, 238000, 238500, 239000, 239500, 240000, 240500, 241000, 241500, 242000, 242500, 243000, 243500, 244000, 244500, 245000, 245500, 246000, 246500, 247000, 247500, 248000, 248500, 249000, 249500, 250000, 250500, 251000, 251500, 252000, 252500, 253000, 253500, 254000, 254500, 255000, 255500, 256000, 256500, 257000, 257500, 258000, 258500, 259000, 259500, 260000, 260500, 261000, 261500, 262000, 262500, 263000, 263500, 264000, 264500, 265000, 265500, 266000, 266500, 267000, 267500, 268000, 268500, 269000, 269500, 270000, 270500, 271000, 271500, 272000, 272500, 273000, 273500, 274000, 274500, 275000, 275500, 276000, 276500, 277000, 277500, 278000, 278500, 279000, 279500, 280000, 280500, 281000, 281500, 282000, 282500, 283000, 283500, 284000, 284500, 285000, 285500, 286000, 286500, 287000, 287500, 288000, 288500, 289000, 289500, 290000, 290500, 291000, 291500, 292000, 292500, 293000, 293500, 294000, 294500, 295000, 295500, 296000, 296500, 297000, 297500, 298000, 298500, 299000, 299500, 300000, 300500, 301000, 301500, 302000, 302500, 303000, 303500, 304000, 304500, 305000, 305500, 306000, 306500, 307000, 307500, 308000, 308500, 309000, 309500, 310000, 310500, 311000, 311500, 312000, 312500, 313000, 313500, 314000, 314500, 315000, 315500, 316000, 316500, 317000, 317500, 318000, 318500, 319000, 319500, 320000, 320500, 321000, 321500, 322000, 322500, 323000, 323500, 324000, 324500, 325000, 325500, 326000, 326500, 327000, 327500, 328000, 328500, 329000, 329500, 330000, 330500, 331000, 331500, 332000, 332500, 333000, 333500, 334000, 334500, 335000, 335500, 336000, 336500, 337000, 337500, 338000, 338500, 339000, 339500, 340000, 340500, 341000, 341500, 342000, 342500, 343000, 343500, 344000, 344500, 345000, 345500, 346000, 346500, 347000, 347500, 348000, 348500, 349000, 349500, 350000, 350500, 351000, 351500, 352000, 352500, 353000, 353500, 354000, 354500, 355000, 355500, 356000, 356500, 357000, 357500, 358000, 358500, 359000, 359500, 360000, 360500, 361000, 361500, 362000, 362500, 363000, 363500, 364000, 364500, 365000, 365500, 366000, 366500, 367000, 367500, 368000, 368500, 369000, 369500, 370000, 370500, 371000, 371500, 372000, 372500, 373000, 373500, 374000, 374500, 375000, 375500, 376000, 376500, 377000, 377500, 378000, 378500, 379000, 379500, 380000, 380500, 381000, 381500, 382000, 382500, 383000, 383500, 384000, 384500, 385000, 385500, 386000, 386500, 387000, 387500, 388000, 388500, 389000, 389500, 390000, 390500, 391000, 391500, 392000, 392500, 393000, 393500, 394000, 394500, 395000, 395500, 396000, 396500, 397000, 397500, 398000, 398500, 399000, 399500, 400000, 400500, 401000, 401500, 402000, 402500, 403000, 403500, 404000, 404500, 405000, 405500, 406000, 406500, 407000, 407500, 408000, 408500, 409000, 409500, 410000, 410500, 411000, 411500, 412000, 412500, 413000, 413500, 414000, 414500, 415000, 415500, 416000, 416500, 417000, 417500, 418000, 418500, 419000, 419500, 420000, 420500, 421000, 421500, 422000, 422500, 423000, 423500, 424000, 424500, 425000, 425500, 426000, 426500, 427000, 427500, 428000, 428500, 429000, 429500, 430000, 430500, 431000, 431500, 432000, 432500, 433000, 433500, 434000, 434500, 435000, 435500, 436000, 436500, 437000, 437500, 438000, 438500, 439000, 439500, 440000, 440500, 441000, 441500, 442000, 442500, 443000, 443500, 444000, 444500, 445000, 445500, 446000, 446500, 447000, 447500, 448000, 448500, 449000, 449500, 450000, 450500, 451000, 451500, 452000, 452500, 453000, 453500, 454000, 454500, 455000, 455500, 456000, 456500, 457000, 457500, 458000, 458500, 459000, 459500, 460000, 460500, 461000, 461500, 462000, 462500, 463000, 463500, 464000, 464500, 465000, 465500, 466000, 466500, 467000, 467500, 468000, 468500, 469000, 469500, 470000, 470500, 471000, 471500, 472000, 472500, 473000, 473500, 474000, 474500, 475000, 475500, 476000, 476500, 477000, 477500, 478000, 478500, 479000]\n",
            "[1223, 7133, 1319, 4238, 1023, 832, 973, 243, 568, 969, 1799, 2480, 948, 576, 285, 5504, 1577, 696, 1535, 802, 5811, 714, 657, 958, 615, 224, 94, 537, 1168, 1251, 313, 1571, 898, 735, 371, 451, 355, 8780, 2374, 2476, 86380, 506, 285, 679, 1573, 1006, 749, 920, 589, 1003, 1227, 1410, 793, 1466, 2451, 1317, 3058, 1439, 1079, 641, 417, 703, 270, 252, 423, 1623, 624, 1577, 564, 481, 1385, 520, 1241, 899, 451, 9167, 1127, 458, 985, 254, 339, 1145, 4241, 1050, 1078, 1176, 1146, 24, 1756, 597, 261, 749, 314, 3932, 2487, 13, 3006, 463, 8607, 1286, 571, 447, 1270, 1638, 3496, 617, 814, 602, 2908, 3039, 66, 1659, 326, 1207, 849, 1705, 1138, 534, 3848, 416, 785, 470, 1240, 880, 2242, 805, 387, 1506, 19, 584, 1545, 287, 1376, 644, 545, 796, 893, 859, 1085, 521, 1507, 657, 1273, 474, 1154, 700, 1237, 1566, 815, 2182, 1678, 2575, 1594, 645, 2182, 904, 269, 822, 866, 873, 1308, 3893, 1082, 601, 374, 1141, 728, 827, 516, 451, 820, 284, 2234, 375, 319, 553, 640, 378, 2986, 410, 2241, 1073, 1555, 903, 845, 4578, 3895, 1897, 71, 642, 6854, 841, 599, 3894, 370, 1494, 856, 2137, 857, 1031, 4188, 1028, 184, 333, 496, 529, 1083, 790, 13824, 326, 569, 1240, 391, 367, 1668, 731, 323, 1729, 315, 1652, 1444, 937, 283, 3480, 7911, 1310, 3306, 1132, 338, 570, 1710, 337, 1059, 266, 2449, 3928, 3853, 337, 1184, 399, 1055, 1173, 553, 2123, 891, 26, 613, 1695, 1934, 1943, 1461, 612, 1096, 175, 340, 205, 1278, 2798, 4982, 369, 415, 640, 3866, 1023, 484, 612, 846, 1147, 2410, 1383, 862, 5032, 247, 2064, 1400, 385, 1218, 2525, 473, 138, 287, 756, 287, 1808, 3442, 576, 3379, 297, 948, 720, 1275, 2194, 410, 50, 1939, 1296, 796, 2125, 1168, 484, 659, 1003, 1122, 1489, 622, 2086, 662, 777, 595, 739, 578, 1735, 157, 495, 1410, 59, 49, 648, 1934, 1371, 482, 553, 791, 1781, 1824, 813, 728, 407, 406, 51, 1267, 478, 97, 1006, 470, 13, 638, 487, 665, 953, 1592, 805, 1902, 2408, 2689, 739, 1807, 3967, 588, 3584, 565, 1541, 2099, 2653, 380, 310, 4278, 6712, 1759, 1584, 1647, 986, 1204, 3900, 3408, 7904, 474, 1227, 666, 406, 2618, 425, 667, 1060, 51, 188, 497, 474, 596, 700, 380, 749, 1232, 1369, 415, 1698, 2289, 2003, 1559, 1030, 1447, 567, 875, 222, 358, 352, 832, 1157, 1687, 483, 1459, 1606, 1906, 360, 3658, 426, 1111, 2206, 869, 753, 1342, 709, 1041, 656, 577, 347, 376, 393, 1488, 442, 443, 318, 539, 436, 751, 268, 622, 1096, 1868, 942, 195, 817, 4773, 1737, 823, 1934, 1389, 620, 427, 4461, 352, 725, 8822, 3460, 2708, 1688, 757, 1363, 1333, 12960, 654, 972, 1137, 1299, 1521, 1291, 1441, 975, 365, 2767, 183, 1897, 1612, 428, 777, 1303, 510, 819, 36853, 546, 377, 429, 246, 406, 20, 468, 192, 216, 858, 612, 3666, 2215, 1396, 515, 1164, 1765, 905, 378, 659, 5521, 1998, 148, 863, 921, 86318, 542, 2930, 1276, 1474, 585, 436, 2596, 86372, 2233, 1494, 307, 231, 379, 1465, 546, 414, 3594, 656, 805, 1040, 1131, 5151, 497, 747, 1004, 5873, 1067, 310, 1098, 1238, 141, 142, 1343, 924, 867, 887, 1325, 422, 326, 789, 435, 3399, 468, 3814, 2851, 682, 468, 1537, 680, 3220, 307, 907, 491, 451, 1137, 1557, 328, 874, 405, 556, 3500, 756, 499, 817, 1063, 493, 399, 2194, 587, 521, 1346, 977, 4193, 4, 1811, 1082, 1220, 845, 1839, 1322, 585, 560, 236, 3604, 1257, 692, 475, 445, 1185, 4786, 1656, 605, 1814, 837, 8167, 4228, 942, 238, 590, 1561, 940, 1031, 1134, 828, 376, 3279, 302, 1534, 704, 3972, 666, 6503, 1314, 2243, 766, 1567, 1021, 739, 401, 2363, 219, 4177, 1691, 451, 400, 1682, 223, 1032, 2403, 447, 2192, 399, 371, 715, 435, 1566, 208, 229, 815, 2542, 1395, 1411, 6463, 497, 466, 784, 398, 1212, 886, 921, 1542, 651, 739, 2469, 1295, 356, 814, 238, 1568, 1956, 5442, 1884, 260, 839, 2805, 1745, 256, 3952, 222, 1983, 820, 368, 1608, 1157, 1153, 914, 1608, 1517, 734, 1510, 688, 679, 465, 428, 285, 873, 800, 866, 221, 1289, 120, 3510, 515, 109, 270, 838, 117, 931, 595, 1809, 360, 542, 388, 168, 479, 389, 120, 1123, 757, 1063, 961, 282, 520, 3150, 7755, 1845, 6690, 475, 577, 1257, 742, 450, 1452, 1555, 1777, 4765, 291, 190, 301, 2455, 891, 1190, 6352, 1530, 810, 431, 444, 5301, 670, 682, 1425, 1772, 1536, 3391, 223, 2296, 700, 1293, 1216, 591, 869, 289, 128, 136, 6335, 706, 893, 1361, 778, 560, 280, 713, 2337, 292, 2981, 887, 118, 518, 960, 864, 1168, 1743, 1317, 842, 1925, 1675, 643, 1766, 388, 1196, 756, 57, 399, 1786, 749, 578, 729, 346, 489, 3613, 276, 1974, 782, 586, 790, 2396, 115, 371, 1805, 488, 0, 918, 1308, 454, 1384, 154, 1659, 580, 1904, 2113, 712, 1338, 2231, 3329, 159, 5331, 1380, 5467, 447, 335, 1215, 1042, 1304, 1175, 840, 478, 529, 308, 3154, 1087, 340, 395, 1815, 1176, 512, 425, 373, 510, 512, 360, 938, 1033, 2005, 1707, 490, 4, 1855, 484, 588, 768, 249, 4533, 246, 672, 1839, 755, 1765, 545, 933, 962, 524, 195, 4169, 548, 1972, 639, 860, 1099, 833, 670, 1208, 735, 62, 1362, 2025, 617, 372, 994, 270, 1242, 716, 698, 1158, 2388, 8, 692, 936, 777, 540, 204, 791, 837, 2026, 39, 5098, 1072, 447, 232, 272, 828, 651, 116, 1559, 524, 1187, 1746, 304, 370, 8, 1504, 2987, 928, 8, 301, 1152, 582, 358, 262, 1408, 965, 1664, 2513, 1239, 857, 871, 981, 625, 362, 1820, 9623, 325, 701, 1454, 233, 862, 470, 870, 528, 401, 1308, 645, 230, 349, 484, 1829, 679, 1483, 362, 1403, 912, 1714, 1693, 269, 1966, 2615, 667, 368, 1089, 608, 726, 692, 245, 615, 310]\n"
          ],
          "name": "stdout"
        },
        {
          "output_type": "display_data",
          "data": {
            "image/png": "[encoded data removed]",
            "text/plain": [
              "<Figure size 432x288 with 1 Axes>"
            ]
          },
          "metadata": {
            "tags": [],
            "needs_background": "light"
          }
        }
      ]
    },
    {
      "cell_type": "code",
      "metadata": {
        "id": "ZRnvQVhIrPng"
      },
      "source": [
        "data['time_to_travel'] = difference_in_ride\n",
        "data.head();"
      ],
      "execution_count": 797,
      "outputs": []
    },
    {
      "cell_type": "code",
      "metadata": {
        "colab": {
          "base_uri": "https://localhost:8080/",
          "height": 383
        },
        "id": "HWPwKIXpraJW",
        "outputId": "c03f041e-6083-4989-bb12-7cbf28d73e25"
      },
      "source": [
        "data9 = data[data['time_to_travel'] >= 120]\n",
        "data9.head()"
      ],
      "execution_count": 798,
      "outputs": [
        {
          "output_type": "execute_result",
          "data": {
            "text/html": [
              "<div>\n",
              "<style scoped>\n",
              "    .dataframe tbody tr th:only-of-type {\n",
              "        vertical-align: middle;\n",
              "    }\n",
              "\n",
              "    .dataframe tbody tr th {\n",
              "        vertical-align: top;\n",
              "    }\n",
              "\n",
              "    .dataframe thead th {\n",
              "        text-align: right;\n",
              "    }\n",
              "</style>\n",
              "<table border=\"1\" class=\"dataframe\">\n",
              "  <thead>\n",
              "    <tr style=\"text-align: right;\">\n",
              "      <th></th>\n",
              "      <th>ride_id</th>\n",
              "      <th>rideable_type</th>\n",
              "      <th>started_at</th>\n",
              "      <th>ended_at</th>\n",
              "      <th>start_station_name</th>\n",
              "      <th>start_station_id</th>\n",
              "      <th>end_station_name</th>\n",
              "      <th>end_station_id</th>\n",
              "      <th>start_lat</th>\n",
              "      <th>start_lng</th>\n",
              "      <th>end_lat</th>\n",
              "      <th>end_lng</th>\n",
              "      <th>member_casual</th>\n",
              "      <th>time_to_travel</th>\n",
              "    </tr>\n",
              "  </thead>\n",
              "  <tbody>\n",
              "    <tr>\n",
              "      <th>0</th>\n",
              "      <td>4479E04D9D45AC6B</td>\n",
              "      <td>docked_bike</td>\n",
              "      <td>2020-08-22 17:09:39</td>\n",
              "      <td>2020-08-22 17:30:02</td>\n",
              "      <td>10th St &amp; L'Enfant Plaza SW</td>\n",
              "      <td>31287.0</td>\n",
              "      <td>13th &amp; E St SE</td>\n",
              "      <td>31607.0</td>\n",
              "      <td>38.884323</td>\n",
              "      <td>-77.026010</td>\n",
              "      <td>38.882915</td>\n",
              "      <td>-76.987907</td>\n",
              "      <td>casual</td>\n",
              "      <td>1223</td>\n",
              "    </tr>\n",
              "    <tr>\n",
              "      <th>1</th>\n",
              "      <td>EF88DFBC1E6648EC</td>\n",
              "      <td>docked_bike</td>\n",
              "      <td>2020-08-26 13:13:54</td>\n",
              "      <td>2020-08-26 13:18:41</td>\n",
              "      <td>Constitution Ave &amp; 2nd St NW/DOL</td>\n",
              "      <td>31271.0</td>\n",
              "      <td>New Jersey Ave &amp; F St NW</td>\n",
              "      <td>31655.0</td>\n",
              "      <td>38.892275</td>\n",
              "      <td>-77.013917</td>\n",
              "      <td>38.897108</td>\n",
              "      <td>-77.011616</td>\n",
              "      <td>casual</td>\n",
              "      <td>287</td>\n",
              "    </tr>\n",
              "    <tr>\n",
              "      <th>2</th>\n",
              "      <td>25812556961CFABD</td>\n",
              "      <td>docked_bike</td>\n",
              "      <td>2020-08-07 16:34:41</td>\n",
              "      <td>2020-08-07 17:13:39</td>\n",
              "      <td>Friendship Hts Metro / Wisconsin Ave &amp; Wiscons...</td>\n",
              "      <td>32014.0</td>\n",
              "      <td>22nd &amp; P ST NW</td>\n",
              "      <td>31285.0</td>\n",
              "      <td>38.961763</td>\n",
              "      <td>-77.085998</td>\n",
              "      <td>38.909394</td>\n",
              "      <td>-77.048728</td>\n",
              "      <td>casual</td>\n",
              "      <td>2338</td>\n",
              "    </tr>\n",
              "    <tr>\n",
              "      <th>3</th>\n",
              "      <td>1621384E51D38F1F</td>\n",
              "      <td>docked_bike</td>\n",
              "      <td>2020-08-07 20:32:05</td>\n",
              "      <td>2020-08-07 20:45:58</td>\n",
              "      <td>John McCormack Rd NE</td>\n",
              "      <td>31528.0</td>\n",
              "      <td>3rd &amp; M St NE</td>\n",
              "      <td>31627.0</td>\n",
              "      <td>38.938889</td>\n",
              "      <td>-76.997226</td>\n",
              "      <td>38.905470</td>\n",
              "      <td>-77.002130</td>\n",
              "      <td>casual</td>\n",
              "      <td>833</td>\n",
              "    </tr>\n",
              "    <tr>\n",
              "      <th>4</th>\n",
              "      <td>BC10B8C7848D1FDF</td>\n",
              "      <td>docked_bike</td>\n",
              "      <td>2020-08-18 13:40:34</td>\n",
              "      <td>2020-08-18 13:49:07</td>\n",
              "      <td>16th &amp; Irving St NW</td>\n",
              "      <td>31122.0</td>\n",
              "      <td>New Hampshire Ave &amp; T St NW</td>\n",
              "      <td>31229.0</td>\n",
              "      <td>38.928893</td>\n",
              "      <td>-77.036250</td>\n",
              "      <td>38.915544</td>\n",
              "      <td>-77.038252</td>\n",
              "      <td>member</td>\n",
              "      <td>513</td>\n",
              "    </tr>\n",
              "  </tbody>\n",
              "</table>\n",
              "</div>"
            ],
            "text/plain": [
              "            ride_id rideable_type  ... member_casual time_to_travel\n",
              "0  4479E04D9D45AC6B   docked_bike  ...        casual           1223\n",
              "1  EF88DFBC1E6648EC   docked_bike  ...        casual            287\n",
              "2  25812556961CFABD   docked_bike  ...        casual           2338\n",
              "3  1621384E51D38F1F   docked_bike  ...        casual            833\n",
              "4  BC10B8C7848D1FDF   docked_bike  ...        member            513\n",
              "\n",
              "[5 rows x 14 columns]"
            ]
          },
          "metadata": {
            "tags": []
          },
          "execution_count": 798
        }
      ]
    },
    {
      "cell_type": "code",
      "metadata": {
        "colab": {
          "base_uri": "https://localhost:8080/"
        },
        "id": "3GJN2EZOWF_4",
        "outputId": "db804d34-1c46-4d46-b617-9b0c92fa3eb0"
      },
      "source": [
        "data9['rideable_type'].value_counts()"
      ],
      "execution_count": 799,
      "outputs": [
        {
          "output_type": "execute_result",
          "data": {
            "text/plain": [
              "docked_bike      234141\n",
              "electric_bike    231737\n",
              "Name: rideable_type, dtype: int64"
            ]
          },
          "metadata": {
            "tags": []
          },
          "execution_count": 799
        }
      ]
    },
    {
      "cell_type": "code",
      "metadata": {
        "colab": {
          "base_uri": "https://localhost:8080/"
        },
        "id": "cRlCuLDY0H47",
        "outputId": "76e3dfba-4765-4f5f-c6a2-b9e8945960b9"
      },
      "source": [
        "import calendar\n",
        "v = pd.Series([i for i in range(len(data1))])\n",
        "data9 = data9.reindex(v)\n",
        "s = pd.to_datetime(data1['ended_at'])\n",
        "\n",
        "print(s)\n",
        "print(s[0].month)\n",
        "print(s[0].year)\n",
        "print(s[0].day)\n",
        "print(s[1].weekday())\n",
        "print(calendar.day_name[s[1].weekday()])\n",
        "m1 = []\n",
        "m2 = []\n",
        "m3 = []\n",
        "m4 = []\n",
        "v=0\n",
        "for k in range(len(s)):\n",
        "  m1.append(s[k].month)\n",
        "for k in range(len(s)):\n",
        "  m2.append(s[k].year)\n",
        "for k in range(len(s)):\n",
        "  m3.append(s[k].day)\n",
        "#for k in range(len(s)):\n",
        " # if s[k] is not None:\n",
        "  #  m4.append(calendar.day_name[s[k].weekday()])\n",
        "  #else :\n",
        "   # m4.append([s[0].weekday()])\n"
      ],
      "execution_count": 800,
      "outputs": [
        {
          "output_type": "stream",
          "text": [
            "0        2020-08-26 20:36:16\n",
            "1        2020-08-02 18:12:36\n",
            "2        2020-08-11 19:16:30\n",
            "3        2020-08-01 14:09:52\n",
            "4        2020-08-21 19:49:17\n",
            "                 ...        \n",
            "251598   2020-08-22 17:27:39\n",
            "251599   2020-08-19 12:27:17\n",
            "251600   2020-08-25 11:42:48\n",
            "251601   2020-08-14 18:00:46\n",
            "251602   2020-08-28 16:46:34\n",
            "Name: ended_at, Length: 251603, dtype: datetime64[ns]\n",
            "8\n",
            "2020\n",
            "26\n",
            "6\n",
            "Sunday\n"
          ],
          "name": "stdout"
        }
      ]
    },
    {
      "cell_type": "code",
      "metadata": {
        "id": "WISC8E1_0vpR",
        "colab": {
          "base_uri": "https://localhost:8080/",
          "height": 402
        },
        "outputId": "44a29878-f004-42d4-812c-cc9649d0004f"
      },
      "source": [
        "dc = {'ride_id': data9['ride_id'], 'rideable_type': data9['rideable_type'], 'started_at': data9['started_at'], 'MO' : m1, 'YEAR':m2, 'DY':m3, 'start_station_id': data9['start_station_id'], 'end_station_name': data9['end_station_name'], 'end_station_id': data9['end_station_id'], 'time_to_travel': data9['time_to_travel'] } \n",
        "df = pd.DataFrame(dc)\n",
        "df "
      ],
      "execution_count": 801,
      "outputs": [
        {
          "output_type": "execute_result",
          "data": {
            "text/html": [
              "<div>\n",
              "<style scoped>\n",
              "    .dataframe tbody tr th:only-of-type {\n",
              "        vertical-align: middle;\n",
              "    }\n",
              "\n",
              "    .dataframe tbody tr th {\n",
              "        vertical-align: top;\n",
              "    }\n",
              "\n",
              "    .dataframe thead th {\n",
              "        text-align: right;\n",
              "    }\n",
              "</style>\n",
              "<table border=\"1\" class=\"dataframe\">\n",
              "  <thead>\n",
              "    <tr style=\"text-align: right;\">\n",
              "      <th></th>\n",
              "      <th>ride_id</th>\n",
              "      <th>rideable_type</th>\n",
              "      <th>started_at</th>\n",
              "      <th>MO</th>\n",
              "      <th>YEAR</th>\n",
              "      <th>DY</th>\n",
              "      <th>start_station_id</th>\n",
              "      <th>end_station_name</th>\n",
              "      <th>end_station_id</th>\n",
              "      <th>time_to_travel</th>\n",
              "    </tr>\n",
              "  </thead>\n",
              "  <tbody>\n",
              "    <tr>\n",
              "      <th>0</th>\n",
              "      <td>4479E04D9D45AC6B</td>\n",
              "      <td>docked_bike</td>\n",
              "      <td>2020-08-22 17:09:39</td>\n",
              "      <td>8</td>\n",
              "      <td>2020</td>\n",
              "      <td>26</td>\n",
              "      <td>31287.0</td>\n",
              "      <td>13th &amp; E St SE</td>\n",
              "      <td>31607.0</td>\n",
              "      <td>1223</td>\n",
              "    </tr>\n",
              "    <tr>\n",
              "      <th>1</th>\n",
              "      <td>EF88DFBC1E6648EC</td>\n",
              "      <td>docked_bike</td>\n",
              "      <td>2020-08-26 13:13:54</td>\n",
              "      <td>8</td>\n",
              "      <td>2020</td>\n",
              "      <td>2</td>\n",
              "      <td>31271.0</td>\n",
              "      <td>New Jersey Ave &amp; F St NW</td>\n",
              "      <td>31655.0</td>\n",
              "      <td>287</td>\n",
              "    </tr>\n",
              "    <tr>\n",
              "      <th>2</th>\n",
              "      <td>25812556961CFABD</td>\n",
              "      <td>docked_bike</td>\n",
              "      <td>2020-08-07 16:34:41</td>\n",
              "      <td>8</td>\n",
              "      <td>2020</td>\n",
              "      <td>11</td>\n",
              "      <td>32014.0</td>\n",
              "      <td>22nd &amp; P ST NW</td>\n",
              "      <td>31285.0</td>\n",
              "      <td>2338</td>\n",
              "    </tr>\n",
              "    <tr>\n",
              "      <th>3</th>\n",
              "      <td>1621384E51D38F1F</td>\n",
              "      <td>docked_bike</td>\n",
              "      <td>2020-08-07 20:32:05</td>\n",
              "      <td>8</td>\n",
              "      <td>2020</td>\n",
              "      <td>1</td>\n",
              "      <td>31528.0</td>\n",
              "      <td>3rd &amp; M St NE</td>\n",
              "      <td>31627.0</td>\n",
              "      <td>833</td>\n",
              "    </tr>\n",
              "    <tr>\n",
              "      <th>4</th>\n",
              "      <td>BC10B8C7848D1FDF</td>\n",
              "      <td>docked_bike</td>\n",
              "      <td>2020-08-18 13:40:34</td>\n",
              "      <td>8</td>\n",
              "      <td>2020</td>\n",
              "      <td>21</td>\n",
              "      <td>31122.0</td>\n",
              "      <td>New Hampshire Ave &amp; T St NW</td>\n",
              "      <td>31229.0</td>\n",
              "      <td>513</td>\n",
              "    </tr>\n",
              "    <tr>\n",
              "      <th>...</th>\n",
              "      <td>...</td>\n",
              "      <td>...</td>\n",
              "      <td>...</td>\n",
              "      <td>...</td>\n",
              "      <td>...</td>\n",
              "      <td>...</td>\n",
              "      <td>...</td>\n",
              "      <td>...</td>\n",
              "      <td>...</td>\n",
              "      <td>...</td>\n",
              "    </tr>\n",
              "    <tr>\n",
              "      <th>251598</th>\n",
              "      <td>AA052EB2F6361DDB</td>\n",
              "      <td>docked_bike</td>\n",
              "      <td>2020-10-27 13:53:17</td>\n",
              "      <td>8</td>\n",
              "      <td>2020</td>\n",
              "      <td>22</td>\n",
              "      <td>31506.0</td>\n",
              "      <td>11th &amp; S St NW</td>\n",
              "      <td>31280.0</td>\n",
              "      <td>478</td>\n",
              "    </tr>\n",
              "    <tr>\n",
              "      <th>251599</th>\n",
              "      <td>C0F6AFB0F23029D0</td>\n",
              "      <td>docked_bike</td>\n",
              "      <td>2020-10-30 16:47:03</td>\n",
              "      <td>8</td>\n",
              "      <td>2020</td>\n",
              "      <td>19</td>\n",
              "      <td>31288.0</td>\n",
              "      <td>Henry Bacon Dr &amp; Lincoln Memorial Circle NW</td>\n",
              "      <td>31289.0</td>\n",
              "      <td>2667</td>\n",
              "    </tr>\n",
              "    <tr>\n",
              "      <th>251600</th>\n",
              "      <td>2CAF1626BA51A5EC</td>\n",
              "      <td>docked_bike</td>\n",
              "      <td>2020-10-03 12:56:26</td>\n",
              "      <td>8</td>\n",
              "      <td>2020</td>\n",
              "      <td>25</td>\n",
              "      <td>31602.0</td>\n",
              "      <td>Edgewood Rec Center</td>\n",
              "      <td>31529.0</td>\n",
              "      <td>86395</td>\n",
              "    </tr>\n",
              "    <tr>\n",
              "      <th>251601</th>\n",
              "      <td>C7527C57BBBB2C5B</td>\n",
              "      <td>docked_bike</td>\n",
              "      <td>2020-10-23 11:37:46</td>\n",
              "      <td>8</td>\n",
              "      <td>2020</td>\n",
              "      <td>14</td>\n",
              "      <td>31238.0</td>\n",
              "      <td>14th &amp; D St NW / Ronald Reagan Building</td>\n",
              "      <td>31231.0</td>\n",
              "      <td>86347</td>\n",
              "    </tr>\n",
              "    <tr>\n",
              "      <th>251602</th>\n",
              "      <td>96DCE51887DF8391</td>\n",
              "      <td>docked_bike</td>\n",
              "      <td>2020-10-31 14:13:29</td>\n",
              "      <td>8</td>\n",
              "      <td>2020</td>\n",
              "      <td>28</td>\n",
              "      <td>31089.0</td>\n",
              "      <td>C &amp; O Canal &amp; Wisconsin Ave NW</td>\n",
              "      <td>31225.0</td>\n",
              "      <td>1691</td>\n",
              "    </tr>\n",
              "  </tbody>\n",
              "</table>\n",
              "<p>251603 rows × 10 columns</p>\n",
              "</div>"
            ],
            "text/plain": [
              "                 ride_id rideable_type  ... end_station_id  time_to_travel\n",
              "0       4479E04D9D45AC6B   docked_bike  ...        31607.0            1223\n",
              "1       EF88DFBC1E6648EC   docked_bike  ...        31655.0             287\n",
              "2       25812556961CFABD   docked_bike  ...        31285.0            2338\n",
              "3       1621384E51D38F1F   docked_bike  ...        31627.0             833\n",
              "4       BC10B8C7848D1FDF   docked_bike  ...        31229.0             513\n",
              "...                  ...           ...  ...            ...             ...\n",
              "251598  AA052EB2F6361DDB   docked_bike  ...        31280.0             478\n",
              "251599  C0F6AFB0F23029D0   docked_bike  ...        31289.0            2667\n",
              "251600  2CAF1626BA51A5EC   docked_bike  ...        31529.0           86395\n",
              "251601  C7527C57BBBB2C5B   docked_bike  ...        31231.0           86347\n",
              "251602  96DCE51887DF8391   docked_bike  ...        31225.0            1691\n",
              "\n",
              "[251603 rows x 10 columns]"
            ]
          },
          "metadata": {
            "tags": []
          },
          "execution_count": 801
        }
      ]
    },
    {
      "cell_type": "code",
      "metadata": {
        "id": "6KNSkHYlTgfm",
        "colab": {
          "base_uri": "https://localhost:8080/",
          "height": 623
        },
        "outputId": "9d9584a7-11b1-441c-c380-0a44f20d63eb"
      },
      "source": [
        "result = pd.merge(df, temp, how='left', on=['DY', 'MO','YEAR'])\n",
        "result\n"
      ],
      "execution_count": 802,
      "outputs": [
        {
          "output_type": "execute_result",
          "data": {
            "text/html": [
              "<div>\n",
              "<style scoped>\n",
              "    .dataframe tbody tr th:only-of-type {\n",
              "        vertical-align: middle;\n",
              "    }\n",
              "\n",
              "    .dataframe tbody tr th {\n",
              "        vertical-align: top;\n",
              "    }\n",
              "\n",
              "    .dataframe thead th {\n",
              "        text-align: right;\n",
              "    }\n",
              "</style>\n",
              "<table border=\"1\" class=\"dataframe\">\n",
              "  <thead>\n",
              "    <tr style=\"text-align: right;\">\n",
              "      <th></th>\n",
              "      <th>ride_id</th>\n",
              "      <th>rideable_type</th>\n",
              "      <th>started_at</th>\n",
              "      <th>MO</th>\n",
              "      <th>YEAR</th>\n",
              "      <th>DY</th>\n",
              "      <th>start_station_id</th>\n",
              "      <th>end_station_name</th>\n",
              "      <th>end_station_id</th>\n",
              "      <th>time_to_travel</th>\n",
              "      <th>LAT</th>\n",
              "      <th>LON</th>\n",
              "      <th>PRECTOT</th>\n",
              "      <th>QV2M</th>\n",
              "      <th>RH2M</th>\n",
              "      <th>PS</th>\n",
              "      <th>T2M_RANGE</th>\n",
              "      <th>T2M_MAX</th>\n",
              "      <th>T2M_MIN</th>\n",
              "      <th>T2MDEW</th>\n",
              "      <th>T2M</th>\n",
              "      <th>WS50M_RANGE</th>\n",
              "    </tr>\n",
              "  </thead>\n",
              "  <tbody>\n",
              "    <tr>\n",
              "      <th>0</th>\n",
              "      <td>4479E04D9D45AC6B</td>\n",
              "      <td>docked_bike</td>\n",
              "      <td>2020-08-22 17:09:39</td>\n",
              "      <td>8</td>\n",
              "      <td>2020</td>\n",
              "      <td>26</td>\n",
              "      <td>31287.0</td>\n",
              "      <td>13th &amp; E St SE</td>\n",
              "      <td>31607.0</td>\n",
              "      <td>1223</td>\n",
              "      <td>38.88481</td>\n",
              "      <td>-77.00609</td>\n",
              "      <td>0.04</td>\n",
              "      <td>13.29</td>\n",
              "      <td>69.37</td>\n",
              "      <td>100.53</td>\n",
              "      <td>11.61</td>\n",
              "      <td>30.09</td>\n",
              "      <td>18.48</td>\n",
              "      <td>18.61</td>\n",
              "      <td>24.47</td>\n",
              "      <td>3.54</td>\n",
              "    </tr>\n",
              "    <tr>\n",
              "      <th>1</th>\n",
              "      <td>EF88DFBC1E6648EC</td>\n",
              "      <td>docked_bike</td>\n",
              "      <td>2020-08-26 13:13:54</td>\n",
              "      <td>8</td>\n",
              "      <td>2020</td>\n",
              "      <td>2</td>\n",
              "      <td>31271.0</td>\n",
              "      <td>New Jersey Ave &amp; F St NW</td>\n",
              "      <td>31655.0</td>\n",
              "      <td>287</td>\n",
              "      <td>38.88481</td>\n",
              "      <td>-77.00609</td>\n",
              "      <td>2.01</td>\n",
              "      <td>15.99</td>\n",
              "      <td>64.55</td>\n",
              "      <td>100.21</td>\n",
              "      <td>11.56</td>\n",
              "      <td>34.91</td>\n",
              "      <td>23.35</td>\n",
              "      <td>21.56</td>\n",
              "      <td>28.76</td>\n",
              "      <td>4.67</td>\n",
              "    </tr>\n",
              "    <tr>\n",
              "      <th>2</th>\n",
              "      <td>25812556961CFABD</td>\n",
              "      <td>docked_bike</td>\n",
              "      <td>2020-08-07 16:34:41</td>\n",
              "      <td>8</td>\n",
              "      <td>2020</td>\n",
              "      <td>11</td>\n",
              "      <td>32014.0</td>\n",
              "      <td>22nd &amp; P ST NW</td>\n",
              "      <td>31285.0</td>\n",
              "      <td>2338</td>\n",
              "      <td>38.88481</td>\n",
              "      <td>-77.00609</td>\n",
              "      <td>3.19</td>\n",
              "      <td>16.48</td>\n",
              "      <td>74.50</td>\n",
              "      <td>100.41</td>\n",
              "      <td>11.00</td>\n",
              "      <td>32.45</td>\n",
              "      <td>21.45</td>\n",
              "      <td>22.04</td>\n",
              "      <td>26.85</td>\n",
              "      <td>3.85</td>\n",
              "    </tr>\n",
              "    <tr>\n",
              "      <th>3</th>\n",
              "      <td>1621384E51D38F1F</td>\n",
              "      <td>docked_bike</td>\n",
              "      <td>2020-08-07 20:32:05</td>\n",
              "      <td>8</td>\n",
              "      <td>2020</td>\n",
              "      <td>1</td>\n",
              "      <td>31528.0</td>\n",
              "      <td>3rd &amp; M St NE</td>\n",
              "      <td>31627.0</td>\n",
              "      <td>833</td>\n",
              "      <td>38.88481</td>\n",
              "      <td>-77.00609</td>\n",
              "      <td>0.79</td>\n",
              "      <td>16.02</td>\n",
              "      <td>71.38</td>\n",
              "      <td>100.29</td>\n",
              "      <td>10.49</td>\n",
              "      <td>32.45</td>\n",
              "      <td>21.97</td>\n",
              "      <td>21.57</td>\n",
              "      <td>27.07</td>\n",
              "      <td>4.17</td>\n",
              "    </tr>\n",
              "    <tr>\n",
              "      <th>4</th>\n",
              "      <td>BC10B8C7848D1FDF</td>\n",
              "      <td>docked_bike</td>\n",
              "      <td>2020-08-18 13:40:34</td>\n",
              "      <td>8</td>\n",
              "      <td>2020</td>\n",
              "      <td>21</td>\n",
              "      <td>31122.0</td>\n",
              "      <td>New Hampshire Ave &amp; T St NW</td>\n",
              "      <td>31229.0</td>\n",
              "      <td>513</td>\n",
              "      <td>38.88481</td>\n",
              "      <td>-77.00609</td>\n",
              "      <td>0.74</td>\n",
              "      <td>15.06</td>\n",
              "      <td>85.52</td>\n",
              "      <td>100.52</td>\n",
              "      <td>6.42</td>\n",
              "      <td>26.45</td>\n",
              "      <td>20.03</td>\n",
              "      <td>20.51</td>\n",
              "      <td>23.05</td>\n",
              "      <td>2.41</td>\n",
              "    </tr>\n",
              "    <tr>\n",
              "      <th>...</th>\n",
              "      <td>...</td>\n",
              "      <td>...</td>\n",
              "      <td>...</td>\n",
              "      <td>...</td>\n",
              "      <td>...</td>\n",
              "      <td>...</td>\n",
              "      <td>...</td>\n",
              "      <td>...</td>\n",
              "      <td>...</td>\n",
              "      <td>...</td>\n",
              "      <td>...</td>\n",
              "      <td>...</td>\n",
              "      <td>...</td>\n",
              "      <td>...</td>\n",
              "      <td>...</td>\n",
              "      <td>...</td>\n",
              "      <td>...</td>\n",
              "      <td>...</td>\n",
              "      <td>...</td>\n",
              "      <td>...</td>\n",
              "      <td>...</td>\n",
              "      <td>...</td>\n",
              "    </tr>\n",
              "    <tr>\n",
              "      <th>251598</th>\n",
              "      <td>AA052EB2F6361DDB</td>\n",
              "      <td>docked_bike</td>\n",
              "      <td>2020-10-27 13:53:17</td>\n",
              "      <td>8</td>\n",
              "      <td>2020</td>\n",
              "      <td>22</td>\n",
              "      <td>31506.0</td>\n",
              "      <td>11th &amp; S St NW</td>\n",
              "      <td>31280.0</td>\n",
              "      <td>478</td>\n",
              "      <td>38.88481</td>\n",
              "      <td>-77.00609</td>\n",
              "      <td>2.13</td>\n",
              "      <td>15.86</td>\n",
              "      <td>83.04</td>\n",
              "      <td>100.50</td>\n",
              "      <td>8.05</td>\n",
              "      <td>29.19</td>\n",
              "      <td>21.14</td>\n",
              "      <td>21.36</td>\n",
              "      <td>24.40</td>\n",
              "      <td>3.61</td>\n",
              "    </tr>\n",
              "    <tr>\n",
              "      <th>251599</th>\n",
              "      <td>C0F6AFB0F23029D0</td>\n",
              "      <td>docked_bike</td>\n",
              "      <td>2020-10-30 16:47:03</td>\n",
              "      <td>8</td>\n",
              "      <td>2020</td>\n",
              "      <td>19</td>\n",
              "      <td>31288.0</td>\n",
              "      <td>Henry Bacon Dr &amp; Lincoln Memorial Circle NW</td>\n",
              "      <td>31289.0</td>\n",
              "      <td>2667</td>\n",
              "      <td>38.88481</td>\n",
              "      <td>-77.00609</td>\n",
              "      <td>4.52</td>\n",
              "      <td>12.76</td>\n",
              "      <td>74.36</td>\n",
              "      <td>100.37</td>\n",
              "      <td>9.10</td>\n",
              "      <td>27.56</td>\n",
              "      <td>18.46</td>\n",
              "      <td>17.91</td>\n",
              "      <td>22.62</td>\n",
              "      <td>3.72</td>\n",
              "    </tr>\n",
              "    <tr>\n",
              "      <th>251600</th>\n",
              "      <td>2CAF1626BA51A5EC</td>\n",
              "      <td>docked_bike</td>\n",
              "      <td>2020-10-03 12:56:26</td>\n",
              "      <td>8</td>\n",
              "      <td>2020</td>\n",
              "      <td>25</td>\n",
              "      <td>31602.0</td>\n",
              "      <td>Edgewood Rec Center</td>\n",
              "      <td>31529.0</td>\n",
              "      <td>86395</td>\n",
              "      <td>38.88481</td>\n",
              "      <td>-77.00609</td>\n",
              "      <td>2.37</td>\n",
              "      <td>16.36</td>\n",
              "      <td>76.17</td>\n",
              "      <td>100.31</td>\n",
              "      <td>11.06</td>\n",
              "      <td>32.19</td>\n",
              "      <td>21.14</td>\n",
              "      <td>21.89</td>\n",
              "      <td>26.33</td>\n",
              "      <td>2.98</td>\n",
              "    </tr>\n",
              "    <tr>\n",
              "      <th>251601</th>\n",
              "      <td>C7527C57BBBB2C5B</td>\n",
              "      <td>docked_bike</td>\n",
              "      <td>2020-10-23 11:37:46</td>\n",
              "      <td>8</td>\n",
              "      <td>2020</td>\n",
              "      <td>14</td>\n",
              "      <td>31238.0</td>\n",
              "      <td>14th &amp; D St NW / Ronald Reagan Building</td>\n",
              "      <td>31231.0</td>\n",
              "      <td>86347</td>\n",
              "      <td>38.88481</td>\n",
              "      <td>-77.00609</td>\n",
              "      <td>7.17</td>\n",
              "      <td>16.98</td>\n",
              "      <td>85.78</td>\n",
              "      <td>100.48</td>\n",
              "      <td>6.77</td>\n",
              "      <td>28.99</td>\n",
              "      <td>22.22</td>\n",
              "      <td>22.45</td>\n",
              "      <td>24.98</td>\n",
              "      <td>0.88</td>\n",
              "    </tr>\n",
              "    <tr>\n",
              "      <th>251602</th>\n",
              "      <td>96DCE51887DF8391</td>\n",
              "      <td>docked_bike</td>\n",
              "      <td>2020-10-31 14:13:29</td>\n",
              "      <td>8</td>\n",
              "      <td>2020</td>\n",
              "      <td>28</td>\n",
              "      <td>31089.0</td>\n",
              "      <td>C &amp; O Canal &amp; Wisconsin Ave NW</td>\n",
              "      <td>31225.0</td>\n",
              "      <td>1691</td>\n",
              "      <td>38.88481</td>\n",
              "      <td>-77.00609</td>\n",
              "      <td>8.56</td>\n",
              "      <td>17.32</td>\n",
              "      <td>79.96</td>\n",
              "      <td>100.17</td>\n",
              "      <td>8.54</td>\n",
              "      <td>31.34</td>\n",
              "      <td>22.80</td>\n",
              "      <td>22.77</td>\n",
              "      <td>26.44</td>\n",
              "      <td>3.49</td>\n",
              "    </tr>\n",
              "  </tbody>\n",
              "</table>\n",
              "<p>251603 rows × 22 columns</p>\n",
              "</div>"
            ],
            "text/plain": [
              "                 ride_id rideable_type  ...    T2M  WS50M_RANGE\n",
              "0       4479E04D9D45AC6B   docked_bike  ...  24.47         3.54\n",
              "1       EF88DFBC1E6648EC   docked_bike  ...  28.76         4.67\n",
              "2       25812556961CFABD   docked_bike  ...  26.85         3.85\n",
              "3       1621384E51D38F1F   docked_bike  ...  27.07         4.17\n",
              "4       BC10B8C7848D1FDF   docked_bike  ...  23.05         2.41\n",
              "...                  ...           ...  ...    ...          ...\n",
              "251598  AA052EB2F6361DDB   docked_bike  ...  24.40         3.61\n",
              "251599  C0F6AFB0F23029D0   docked_bike  ...  22.62         3.72\n",
              "251600  2CAF1626BA51A5EC   docked_bike  ...  26.33         2.98\n",
              "251601  C7527C57BBBB2C5B   docked_bike  ...  24.98         0.88\n",
              "251602  96DCE51887DF8391   docked_bike  ...  26.44         3.49\n",
              "\n",
              "[251603 rows x 22 columns]"
            ]
          },
          "metadata": {
            "tags": []
          },
          "execution_count": 802
        }
      ]
    },
    {
      "cell_type": "code",
      "metadata": {
        "id": "pY8rdOMUySX0",
        "colab": {
          "base_uri": "https://localhost:8080/",
          "height": 316
        },
        "outputId": "7012f137-b4d9-40c7-ed00-d7c31ebc13b5"
      },
      "source": [
        "s1 = result.query('start_station_id == 31131')\n",
        "s1 = s1.sort_values(by=['DY'])\n",
        "s1.head()"
      ],
      "execution_count": 803,
      "outputs": [
        {
          "output_type": "execute_result",
          "data": {
            "text/html": [
              "<div>\n",
              "<style scoped>\n",
              "    .dataframe tbody tr th:only-of-type {\n",
              "        vertical-align: middle;\n",
              "    }\n",
              "\n",
              "    .dataframe tbody tr th {\n",
              "        vertical-align: top;\n",
              "    }\n",
              "\n",
              "    .dataframe thead th {\n",
              "        text-align: right;\n",
              "    }\n",
              "</style>\n",
              "<table border=\"1\" class=\"dataframe\">\n",
              "  <thead>\n",
              "    <tr style=\"text-align: right;\">\n",
              "      <th></th>\n",
              "      <th>ride_id</th>\n",
              "      <th>rideable_type</th>\n",
              "      <th>started_at</th>\n",
              "      <th>MO</th>\n",
              "      <th>YEAR</th>\n",
              "      <th>DY</th>\n",
              "      <th>start_station_id</th>\n",
              "      <th>end_station_name</th>\n",
              "      <th>end_station_id</th>\n",
              "      <th>time_to_travel</th>\n",
              "      <th>LAT</th>\n",
              "      <th>LON</th>\n",
              "      <th>PRECTOT</th>\n",
              "      <th>QV2M</th>\n",
              "      <th>RH2M</th>\n",
              "      <th>PS</th>\n",
              "      <th>T2M_RANGE</th>\n",
              "      <th>T2M_MAX</th>\n",
              "      <th>T2M_MIN</th>\n",
              "      <th>T2MDEW</th>\n",
              "      <th>T2M</th>\n",
              "      <th>WS50M_RANGE</th>\n",
              "    </tr>\n",
              "  </thead>\n",
              "  <tbody>\n",
              "    <tr>\n",
              "      <th>251328</th>\n",
              "      <td>0CA8BEAD7EE1446A</td>\n",
              "      <td>docked_bike</td>\n",
              "      <td>2020-10-15 18:34:40</td>\n",
              "      <td>8</td>\n",
              "      <td>2020</td>\n",
              "      <td>1</td>\n",
              "      <td>31131.0</td>\n",
              "      <td>18th &amp; New Hampshire Ave NW</td>\n",
              "      <td>31324.0</td>\n",
              "      <td>736</td>\n",
              "      <td>38.88481</td>\n",
              "      <td>-77.00609</td>\n",
              "      <td>0.79</td>\n",
              "      <td>16.02</td>\n",
              "      <td>71.38</td>\n",
              "      <td>100.29</td>\n",
              "      <td>10.49</td>\n",
              "      <td>32.45</td>\n",
              "      <td>21.97</td>\n",
              "      <td>21.57</td>\n",
              "      <td>27.07</td>\n",
              "      <td>4.17</td>\n",
              "    </tr>\n",
              "    <tr>\n",
              "      <th>116217</th>\n",
              "      <td>FCD87632A3FFDA73</td>\n",
              "      <td>docked_bike</td>\n",
              "      <td>2020-09-04 17:11:31</td>\n",
              "      <td>8</td>\n",
              "      <td>2020</td>\n",
              "      <td>1</td>\n",
              "      <td>31131.0</td>\n",
              "      <td>14th &amp; Otis Pl NW</td>\n",
              "      <td>31131.0</td>\n",
              "      <td>261</td>\n",
              "      <td>38.88481</td>\n",
              "      <td>-77.00609</td>\n",
              "      <td>0.79</td>\n",
              "      <td>16.02</td>\n",
              "      <td>71.38</td>\n",
              "      <td>100.29</td>\n",
              "      <td>10.49</td>\n",
              "      <td>32.45</td>\n",
              "      <td>21.97</td>\n",
              "      <td>21.57</td>\n",
              "      <td>27.07</td>\n",
              "      <td>4.17</td>\n",
              "    </tr>\n",
              "    <tr>\n",
              "      <th>78451</th>\n",
              "      <td>C960C0DF6AF006D7</td>\n",
              "      <td>electric_bike</td>\n",
              "      <td>2020-08-15 15:36:49</td>\n",
              "      <td>8</td>\n",
              "      <td>2020</td>\n",
              "      <td>1</td>\n",
              "      <td>31131.0</td>\n",
              "      <td>Massachusetts Ave &amp; Dupont Circle NW</td>\n",
              "      <td>31200.0</td>\n",
              "      <td>693</td>\n",
              "      <td>38.88481</td>\n",
              "      <td>-77.00609</td>\n",
              "      <td>0.79</td>\n",
              "      <td>16.02</td>\n",
              "      <td>71.38</td>\n",
              "      <td>100.29</td>\n",
              "      <td>10.49</td>\n",
              "      <td>32.45</td>\n",
              "      <td>21.97</td>\n",
              "      <td>21.57</td>\n",
              "      <td>27.07</td>\n",
              "      <td>4.17</td>\n",
              "    </tr>\n",
              "    <tr>\n",
              "      <th>46706</th>\n",
              "      <td>CDB50FDF86964537</td>\n",
              "      <td>docked_bike</td>\n",
              "      <td>2020-08-11 19:40:34</td>\n",
              "      <td>8</td>\n",
              "      <td>2020</td>\n",
              "      <td>1</td>\n",
              "      <td>31131.0</td>\n",
              "      <td>14th &amp; Belmont St NW</td>\n",
              "      <td>31119.0</td>\n",
              "      <td>420</td>\n",
              "      <td>38.88481</td>\n",
              "      <td>-77.00609</td>\n",
              "      <td>0.79</td>\n",
              "      <td>16.02</td>\n",
              "      <td>71.38</td>\n",
              "      <td>100.29</td>\n",
              "      <td>10.49</td>\n",
              "      <td>32.45</td>\n",
              "      <td>21.97</td>\n",
              "      <td>21.57</td>\n",
              "      <td>27.07</td>\n",
              "      <td>4.17</td>\n",
              "    </tr>\n",
              "    <tr>\n",
              "      <th>100073</th>\n",
              "      <td>252AB935154FC635</td>\n",
              "      <td>docked_bike</td>\n",
              "      <td>2020-09-14 17:13:51</td>\n",
              "      <td>8</td>\n",
              "      <td>2020</td>\n",
              "      <td>1</td>\n",
              "      <td>31131.0</td>\n",
              "      <td>14th &amp; Otis Pl NW</td>\n",
              "      <td>31131.0</td>\n",
              "      <td>2430</td>\n",
              "      <td>38.88481</td>\n",
              "      <td>-77.00609</td>\n",
              "      <td>0.79</td>\n",
              "      <td>16.02</td>\n",
              "      <td>71.38</td>\n",
              "      <td>100.29</td>\n",
              "      <td>10.49</td>\n",
              "      <td>32.45</td>\n",
              "      <td>21.97</td>\n",
              "      <td>21.57</td>\n",
              "      <td>27.07</td>\n",
              "      <td>4.17</td>\n",
              "    </tr>\n",
              "  </tbody>\n",
              "</table>\n",
              "</div>"
            ],
            "text/plain": [
              "                 ride_id  rideable_type  ...    T2M  WS50M_RANGE\n",
              "251328  0CA8BEAD7EE1446A    docked_bike  ...  27.07         4.17\n",
              "116217  FCD87632A3FFDA73    docked_bike  ...  27.07         4.17\n",
              "78451   C960C0DF6AF006D7  electric_bike  ...  27.07         4.17\n",
              "46706   CDB50FDF86964537    docked_bike  ...  27.07         4.17\n",
              "100073  252AB935154FC635    docked_bike  ...  27.07         4.17\n",
              "\n",
              "[5 rows x 22 columns]"
            ]
          },
          "metadata": {
            "tags": []
          },
          "execution_count": 803
        }
      ]
    },
    {
      "cell_type": "code",
      "metadata": {
        "id": "nlosRnWmzatX",
        "colab": {
          "base_uri": "https://localhost:8080/"
        },
        "outputId": "f9b36d05-ee8b-4487-c613-3a3e9e8e6879"
      },
      "source": [
        "s6 =s1.groupby([\"rideable_type\",\"DY\"])\r\n",
        "s6"
      ],
      "execution_count": 804,
      "outputs": [
        {
          "output_type": "execute_result",
          "data": {
            "text/plain": [
              "<pandas.core.groupby.generic.DataFrameGroupBy object at 0x7f0702ade610>"
            ]
          },
          "metadata": {
            "tags": []
          },
          "execution_count": 804
        }
      ]
    },
    {
      "cell_type": "code",
      "metadata": {
        "id": "rli4sSwsROvX",
        "colab": {
          "base_uri": "https://localhost:8080/",
          "height": 195
        },
        "outputId": "0a61a157-10fe-441f-ff6e-27d201bc730b"
      },
      "source": [
        "s4 = temp.query('YEAR == 2020 and MO == 4')\n",
        "s4 = s4.sort_values(by=['MO'])\n",
        "s4.head()"
      ],
      "execution_count": 805,
      "outputs": [
        {
          "output_type": "execute_result",
          "data": {
            "text/html": [
              "<div>\n",
              "<style scoped>\n",
              "    .dataframe tbody tr th:only-of-type {\n",
              "        vertical-align: middle;\n",
              "    }\n",
              "\n",
              "    .dataframe tbody tr th {\n",
              "        vertical-align: top;\n",
              "    }\n",
              "\n",
              "    .dataframe thead th {\n",
              "        text-align: right;\n",
              "    }\n",
              "</style>\n",
              "<table border=\"1\" class=\"dataframe\">\n",
              "  <thead>\n",
              "    <tr style=\"text-align: right;\">\n",
              "      <th></th>\n",
              "      <th>LAT</th>\n",
              "      <th>LON</th>\n",
              "      <th>YEAR</th>\n",
              "      <th>MO</th>\n",
              "      <th>DY</th>\n",
              "      <th>PRECTOT</th>\n",
              "      <th>QV2M</th>\n",
              "      <th>RH2M</th>\n",
              "      <th>PS</th>\n",
              "      <th>T2M_RANGE</th>\n",
              "      <th>T2M_MAX</th>\n",
              "      <th>T2M_MIN</th>\n",
              "      <th>T2MDEW</th>\n",
              "      <th>T2M</th>\n",
              "      <th>WS50M_RANGE</th>\n",
              "    </tr>\n",
              "  </thead>\n",
              "  <tbody>\n",
              "    <tr>\n",
              "      <th>1917</th>\n",
              "      <td>38.88481</td>\n",
              "      <td>-77.00609</td>\n",
              "      <td>2020</td>\n",
              "      <td>4</td>\n",
              "      <td>1</td>\n",
              "      <td>0.68</td>\n",
              "      <td>5.14</td>\n",
              "      <td>76.67</td>\n",
              "      <td>100.00</td>\n",
              "      <td>8.51</td>\n",
              "      <td>12.53</td>\n",
              "      <td>4.01</td>\n",
              "      <td>4.20</td>\n",
              "      <td>8.02</td>\n",
              "      <td>3.69</td>\n",
              "    </tr>\n",
              "    <tr>\n",
              "      <th>1944</th>\n",
              "      <td>38.88481</td>\n",
              "      <td>-77.00609</td>\n",
              "      <td>2020</td>\n",
              "      <td>4</td>\n",
              "      <td>28</td>\n",
              "      <td>0.55</td>\n",
              "      <td>6.28</td>\n",
              "      <td>77.54</td>\n",
              "      <td>101.10</td>\n",
              "      <td>9.14</td>\n",
              "      <td>15.40</td>\n",
              "      <td>6.25</td>\n",
              "      <td>7.22</td>\n",
              "      <td>10.96</td>\n",
              "      <td>4.05</td>\n",
              "    </tr>\n",
              "    <tr>\n",
              "      <th>1943</th>\n",
              "      <td>38.88481</td>\n",
              "      <td>-77.00609</td>\n",
              "      <td>2020</td>\n",
              "      <td>4</td>\n",
              "      <td>27</td>\n",
              "      <td>1.12</td>\n",
              "      <td>5.39</td>\n",
              "      <td>72.23</td>\n",
              "      <td>100.64</td>\n",
              "      <td>9.56</td>\n",
              "      <td>15.10</td>\n",
              "      <td>5.54</td>\n",
              "      <td>4.97</td>\n",
              "      <td>9.68</td>\n",
              "      <td>4.03</td>\n",
              "    </tr>\n",
              "    <tr>\n",
              "      <th>1942</th>\n",
              "      <td>38.88481</td>\n",
              "      <td>-77.00609</td>\n",
              "      <td>2020</td>\n",
              "      <td>4</td>\n",
              "      <td>26</td>\n",
              "      <td>11.27</td>\n",
              "      <td>7.75</td>\n",
              "      <td>90.66</td>\n",
              "      <td>99.82</td>\n",
              "      <td>6.22</td>\n",
              "      <td>14.69</td>\n",
              "      <td>8.47</td>\n",
              "      <td>10.09</td>\n",
              "      <td>11.59</td>\n",
              "      <td>5.19</td>\n",
              "    </tr>\n",
              "    <tr>\n",
              "      <th>1941</th>\n",
              "      <td>38.88481</td>\n",
              "      <td>-77.00609</td>\n",
              "      <td>2020</td>\n",
              "      <td>4</td>\n",
              "      <td>25</td>\n",
              "      <td>3.82</td>\n",
              "      <td>7.28</td>\n",
              "      <td>83.55</td>\n",
              "      <td>100.59</td>\n",
              "      <td>8.58</td>\n",
              "      <td>16.52</td>\n",
              "      <td>7.94</td>\n",
              "      <td>9.30</td>\n",
              "      <td>11.99</td>\n",
              "      <td>4.42</td>\n",
              "    </tr>\n",
              "  </tbody>\n",
              "</table>\n",
              "</div>"
            ],
            "text/plain": [
              "           LAT       LON  YEAR  MO  ...  T2M_MIN  T2MDEW    T2M  WS50M_RANGE\n",
              "1917  38.88481 -77.00609  2020   4  ...     4.01    4.20   8.02         3.69\n",
              "1944  38.88481 -77.00609  2020   4  ...     6.25    7.22  10.96         4.05\n",
              "1943  38.88481 -77.00609  2020   4  ...     5.54    4.97   9.68         4.03\n",
              "1942  38.88481 -77.00609  2020   4  ...     8.47   10.09  11.59         5.19\n",
              "1941  38.88481 -77.00609  2020   4  ...     7.94    9.30  11.99         4.42\n",
              "\n",
              "[5 rows x 15 columns]"
            ]
          },
          "metadata": {
            "tags": []
          },
          "execution_count": 805
        }
      ]
    },
    {
      "cell_type": "code",
      "metadata": {
        "id": "sLuJhVyky92H",
        "colab": {
          "base_uri": "https://localhost:8080/",
          "height": 455
        },
        "outputId": "bfb02309-230c-46e8-8e86-8da5c82f4eb7"
      },
      "source": [
        "sa =s1.groupby([\"DY\",\"MO\",\"PS\",\"T2M_RANGE\",\"T2M_MAX\",\"T2M_MIN\",\"RH2M\",\"rideable_type\"]).size()\n",
        "s5 = []\n",
        "s6 = []\n",
        "sa = pd.DataFrame(sa,columns=['count'])\n",
        "modified = sa.reset_index()\n",
        "a = 0\n",
        "for i in range(len(modified)):\n",
        "  if(modified['rideable_type'][i] == 'docked_bike'):\n",
        "    s5.append(modified['count'][i])\n",
        "    s6.append(a)\n",
        "  else:\n",
        "    s6.append(modified['count'][i])\n",
        "    s5.append(a)\n",
        "print(s6)\n",
        "print(s5)\n",
        "modified['docked_b'] = s5\n",
        "modified['electric_b'] = s6\n",
        "modified"
      ],
      "execution_count": 806,
      "outputs": [
        {
          "output_type": "stream",
          "text": [
            "[0, 14, 0, 0, 18, 0, 10, 0, 6, 0, 17, 0, 9, 0, 12, 0, 9, 0, 12, 0, 9, 0, 11, 0, 7, 0, 6, 0, 10, 0, 17, 0, 12, 0, 7, 0, 9, 0, 8, 0, 6, 0, 8, 0, 21, 0, 17, 0, 10, 0, 12, 0, 15, 0, 17, 0, 14, 0, 13, 0, 22, 0, 7]\n",
            "[15, 0, 1, 18, 0, 7, 0, 8, 0, 15, 0, 9, 0, 10, 0, 16, 0, 22, 0, 5, 0, 14, 0, 8, 0, 10, 0, 17, 0, 15, 0, 15, 0, 12, 0, 9, 0, 7, 0, 10, 0, 14, 0, 25, 0, 21, 0, 6, 0, 11, 0, 16, 0, 18, 0, 14, 0, 11, 0, 20, 0, 5, 0]\n"
          ],
          "name": "stdout"
        },
        {
          "output_type": "execute_result",
          "data": {
            "text/html": [
              "<div>\n",
              "<style scoped>\n",
              "    .dataframe tbody tr th:only-of-type {\n",
              "        vertical-align: middle;\n",
              "    }\n",
              "\n",
              "    .dataframe tbody tr th {\n",
              "        vertical-align: top;\n",
              "    }\n",
              "\n",
              "    .dataframe thead th {\n",
              "        text-align: right;\n",
              "    }\n",
              "</style>\n",
              "<table border=\"1\" class=\"dataframe\">\n",
              "  <thead>\n",
              "    <tr style=\"text-align: right;\">\n",
              "      <th></th>\n",
              "      <th>DY</th>\n",
              "      <th>MO</th>\n",
              "      <th>PS</th>\n",
              "      <th>T2M_RANGE</th>\n",
              "      <th>T2M_MAX</th>\n",
              "      <th>T2M_MIN</th>\n",
              "      <th>RH2M</th>\n",
              "      <th>rideable_type</th>\n",
              "      <th>count</th>\n",
              "      <th>docked_b</th>\n",
              "      <th>electric_b</th>\n",
              "    </tr>\n",
              "  </thead>\n",
              "  <tbody>\n",
              "    <tr>\n",
              "      <th>0</th>\n",
              "      <td>1</td>\n",
              "      <td>8</td>\n",
              "      <td>100.29</td>\n",
              "      <td>10.49</td>\n",
              "      <td>32.45</td>\n",
              "      <td>21.97</td>\n",
              "      <td>71.38</td>\n",
              "      <td>docked_bike</td>\n",
              "      <td>15</td>\n",
              "      <td>15</td>\n",
              "      <td>0</td>\n",
              "    </tr>\n",
              "    <tr>\n",
              "      <th>1</th>\n",
              "      <td>1</td>\n",
              "      <td>8</td>\n",
              "      <td>100.29</td>\n",
              "      <td>10.49</td>\n",
              "      <td>32.45</td>\n",
              "      <td>21.97</td>\n",
              "      <td>71.38</td>\n",
              "      <td>electric_bike</td>\n",
              "      <td>14</td>\n",
              "      <td>0</td>\n",
              "      <td>14</td>\n",
              "    </tr>\n",
              "    <tr>\n",
              "      <th>2</th>\n",
              "      <td>1</td>\n",
              "      <td>9</td>\n",
              "      <td>100.68</td>\n",
              "      <td>7.61</td>\n",
              "      <td>26.50</td>\n",
              "      <td>18.89</td>\n",
              "      <td>90.53</td>\n",
              "      <td>docked_bike</td>\n",
              "      <td>1</td>\n",
              "      <td>1</td>\n",
              "      <td>0</td>\n",
              "    </tr>\n",
              "    <tr>\n",
              "      <th>3</th>\n",
              "      <td>2</td>\n",
              "      <td>8</td>\n",
              "      <td>100.21</td>\n",
              "      <td>11.56</td>\n",
              "      <td>34.91</td>\n",
              "      <td>23.35</td>\n",
              "      <td>64.55</td>\n",
              "      <td>docked_bike</td>\n",
              "      <td>18</td>\n",
              "      <td>18</td>\n",
              "      <td>0</td>\n",
              "    </tr>\n",
              "    <tr>\n",
              "      <th>4</th>\n",
              "      <td>2</td>\n",
              "      <td>8</td>\n",
              "      <td>100.21</td>\n",
              "      <td>11.56</td>\n",
              "      <td>34.91</td>\n",
              "      <td>23.35</td>\n",
              "      <td>64.55</td>\n",
              "      <td>electric_bike</td>\n",
              "      <td>18</td>\n",
              "      <td>0</td>\n",
              "      <td>18</td>\n",
              "    </tr>\n",
              "    <tr>\n",
              "      <th>...</th>\n",
              "      <td>...</td>\n",
              "      <td>...</td>\n",
              "      <td>...</td>\n",
              "      <td>...</td>\n",
              "      <td>...</td>\n",
              "      <td>...</td>\n",
              "      <td>...</td>\n",
              "      <td>...</td>\n",
              "      <td>...</td>\n",
              "      <td>...</td>\n",
              "      <td>...</td>\n",
              "    </tr>\n",
              "    <tr>\n",
              "      <th>58</th>\n",
              "      <td>29</td>\n",
              "      <td>8</td>\n",
              "      <td>99.37</td>\n",
              "      <td>7.90</td>\n",
              "      <td>29.25</td>\n",
              "      <td>21.35</td>\n",
              "      <td>87.34</td>\n",
              "      <td>electric_bike</td>\n",
              "      <td>13</td>\n",
              "      <td>0</td>\n",
              "      <td>13</td>\n",
              "    </tr>\n",
              "    <tr>\n",
              "      <th>59</th>\n",
              "      <td>30</td>\n",
              "      <td>8</td>\n",
              "      <td>100.00</td>\n",
              "      <td>10.58</td>\n",
              "      <td>27.55</td>\n",
              "      <td>16.97</td>\n",
              "      <td>64.46</td>\n",
              "      <td>docked_bike</td>\n",
              "      <td>20</td>\n",
              "      <td>20</td>\n",
              "      <td>0</td>\n",
              "    </tr>\n",
              "    <tr>\n",
              "      <th>60</th>\n",
              "      <td>30</td>\n",
              "      <td>8</td>\n",
              "      <td>100.00</td>\n",
              "      <td>10.58</td>\n",
              "      <td>27.55</td>\n",
              "      <td>16.97</td>\n",
              "      <td>64.46</td>\n",
              "      <td>electric_bike</td>\n",
              "      <td>22</td>\n",
              "      <td>0</td>\n",
              "      <td>22</td>\n",
              "    </tr>\n",
              "    <tr>\n",
              "      <th>61</th>\n",
              "      <td>31</td>\n",
              "      <td>8</td>\n",
              "      <td>100.63</td>\n",
              "      <td>5.06</td>\n",
              "      <td>23.49</td>\n",
              "      <td>18.43</td>\n",
              "      <td>85.73</td>\n",
              "      <td>docked_bike</td>\n",
              "      <td>5</td>\n",
              "      <td>5</td>\n",
              "      <td>0</td>\n",
              "    </tr>\n",
              "    <tr>\n",
              "      <th>62</th>\n",
              "      <td>31</td>\n",
              "      <td>8</td>\n",
              "      <td>100.63</td>\n",
              "      <td>5.06</td>\n",
              "      <td>23.49</td>\n",
              "      <td>18.43</td>\n",
              "      <td>85.73</td>\n",
              "      <td>electric_bike</td>\n",
              "      <td>7</td>\n",
              "      <td>0</td>\n",
              "      <td>7</td>\n",
              "    </tr>\n",
              "  </tbody>\n",
              "</table>\n",
              "<p>63 rows × 11 columns</p>\n",
              "</div>"
            ],
            "text/plain": [
              "    DY  MO      PS  T2M_RANGE  ...  rideable_type  count  docked_b electric_b\n",
              "0    1   8  100.29      10.49  ...    docked_bike     15        15          0\n",
              "1    1   8  100.29      10.49  ...  electric_bike     14         0         14\n",
              "2    1   9  100.68       7.61  ...    docked_bike      1         1          0\n",
              "3    2   8  100.21      11.56  ...    docked_bike     18        18          0\n",
              "4    2   8  100.21      11.56  ...  electric_bike     18         0         18\n",
              "..  ..  ..     ...        ...  ...            ...    ...       ...        ...\n",
              "58  29   8   99.37       7.90  ...  electric_bike     13         0         13\n",
              "59  30   8  100.00      10.58  ...    docked_bike     20        20          0\n",
              "60  30   8  100.00      10.58  ...  electric_bike     22         0         22\n",
              "61  31   8  100.63       5.06  ...    docked_bike      5         5          0\n",
              "62  31   8  100.63       5.06  ...  electric_bike      7         0          7\n",
              "\n",
              "[63 rows x 11 columns]"
            ]
          },
          "metadata": {
            "tags": []
          },
          "execution_count": 806
        }
      ]
    },
    {
      "cell_type": "code",
      "metadata": {
        "id": "2xfbWLcuyvxm",
        "colab": {
          "base_uri": "https://localhost:8080/",
          "height": 455
        },
        "outputId": "1e089388-5f02-406e-de75-533e0372dace"
      },
      "source": [
        "sa =s1.groupby([\"DY\",\"MO\",\"PS\",\"T2M_RANGE\",\"T2M_MAX\",\"T2M_MIN\",\"RH2M\",\"rideable_type\",\"LAT\",\"LON\"]).size()\r\n",
        "s5 = []\r\n",
        "s6 = []\r\n",
        "sa = pd.DataFrame(sa,columns=['count'])\r\n",
        "modified = sa.reset_index()\r\n",
        "a = 0\r\n",
        "for i in range(len(modified)):\r\n",
        "  if(modified['rideable_type'][i] == 'docked_bike'):\r\n",
        "    s5.append(modified['count'][i])\r\n",
        "    s6.append(a)\r\n",
        "  else:\r\n",
        "    s6.append(modified['count'][i])\r\n",
        "    s5.append(a)\r\n",
        "print(s6)\r\n",
        "print(s5)\r\n",
        "modified['docked_b'] = s5\r\n",
        "modified['electric_b'] = s6\r\n",
        "modified"
      ],
      "execution_count": 807,
      "outputs": [
        {
          "output_type": "stream",
          "text": [
            "[0, 14, 0, 0, 18, 0, 10, 0, 6, 0, 17, 0, 9, 0, 12, 0, 9, 0, 12, 0, 9, 0, 11, 0, 7, 0, 6, 0, 10, 0, 17, 0, 12, 0, 7, 0, 9, 0, 8, 0, 6, 0, 8, 0, 21, 0, 17, 0, 10, 0, 12, 0, 15, 0, 17, 0, 14, 0, 13, 0, 22, 0, 7]\n",
            "[15, 0, 1, 18, 0, 7, 0, 8, 0, 15, 0, 9, 0, 10, 0, 16, 0, 22, 0, 5, 0, 14, 0, 8, 0, 10, 0, 17, 0, 15, 0, 15, 0, 12, 0, 9, 0, 7, 0, 10, 0, 14, 0, 25, 0, 21, 0, 6, 0, 11, 0, 16, 0, 18, 0, 14, 0, 11, 0, 20, 0, 5, 0]\n"
          ],
          "name": "stdout"
        },
        {
          "output_type": "execute_result",
          "data": {
            "text/html": [
              "<div>\n",
              "<style scoped>\n",
              "    .dataframe tbody tr th:only-of-type {\n",
              "        vertical-align: middle;\n",
              "    }\n",
              "\n",
              "    .dataframe tbody tr th {\n",
              "        vertical-align: top;\n",
              "    }\n",
              "\n",
              "    .dataframe thead th {\n",
              "        text-align: right;\n",
              "    }\n",
              "</style>\n",
              "<table border=\"1\" class=\"dataframe\">\n",
              "  <thead>\n",
              "    <tr style=\"text-align: right;\">\n",
              "      <th></th>\n",
              "      <th>DY</th>\n",
              "      <th>MO</th>\n",
              "      <th>PS</th>\n",
              "      <th>T2M_RANGE</th>\n",
              "      <th>T2M_MAX</th>\n",
              "      <th>T2M_MIN</th>\n",
              "      <th>RH2M</th>\n",
              "      <th>rideable_type</th>\n",
              "      <th>LAT</th>\n",
              "      <th>LON</th>\n",
              "      <th>count</th>\n",
              "      <th>docked_b</th>\n",
              "      <th>electric_b</th>\n",
              "    </tr>\n",
              "  </thead>\n",
              "  <tbody>\n",
              "    <tr>\n",
              "      <th>0</th>\n",
              "      <td>1</td>\n",
              "      <td>8</td>\n",
              "      <td>100.29</td>\n",
              "      <td>10.49</td>\n",
              "      <td>32.45</td>\n",
              "      <td>21.97</td>\n",
              "      <td>71.38</td>\n",
              "      <td>docked_bike</td>\n",
              "      <td>38.88481</td>\n",
              "      <td>-77.00609</td>\n",
              "      <td>15</td>\n",
              "      <td>15</td>\n",
              "      <td>0</td>\n",
              "    </tr>\n",
              "    <tr>\n",
              "      <th>1</th>\n",
              "      <td>1</td>\n",
              "      <td>8</td>\n",
              "      <td>100.29</td>\n",
              "      <td>10.49</td>\n",
              "      <td>32.45</td>\n",
              "      <td>21.97</td>\n",
              "      <td>71.38</td>\n",
              "      <td>electric_bike</td>\n",
              "      <td>38.88481</td>\n",
              "      <td>-77.00609</td>\n",
              "      <td>14</td>\n",
              "      <td>0</td>\n",
              "      <td>14</td>\n",
              "    </tr>\n",
              "    <tr>\n",
              "      <th>2</th>\n",
              "      <td>1</td>\n",
              "      <td>9</td>\n",
              "      <td>100.68</td>\n",
              "      <td>7.61</td>\n",
              "      <td>26.50</td>\n",
              "      <td>18.89</td>\n",
              "      <td>90.53</td>\n",
              "      <td>docked_bike</td>\n",
              "      <td>38.88481</td>\n",
              "      <td>-77.00609</td>\n",
              "      <td>1</td>\n",
              "      <td>1</td>\n",
              "      <td>0</td>\n",
              "    </tr>\n",
              "    <tr>\n",
              "      <th>3</th>\n",
              "      <td>2</td>\n",
              "      <td>8</td>\n",
              "      <td>100.21</td>\n",
              "      <td>11.56</td>\n",
              "      <td>34.91</td>\n",
              "      <td>23.35</td>\n",
              "      <td>64.55</td>\n",
              "      <td>docked_bike</td>\n",
              "      <td>38.88481</td>\n",
              "      <td>-77.00609</td>\n",
              "      <td>18</td>\n",
              "      <td>18</td>\n",
              "      <td>0</td>\n",
              "    </tr>\n",
              "    <tr>\n",
              "      <th>4</th>\n",
              "      <td>2</td>\n",
              "      <td>8</td>\n",
              "      <td>100.21</td>\n",
              "      <td>11.56</td>\n",
              "      <td>34.91</td>\n",
              "      <td>23.35</td>\n",
              "      <td>64.55</td>\n",
              "      <td>electric_bike</td>\n",
              "      <td>38.88481</td>\n",
              "      <td>-77.00609</td>\n",
              "      <td>18</td>\n",
              "      <td>0</td>\n",
              "      <td>18</td>\n",
              "    </tr>\n",
              "    <tr>\n",
              "      <th>...</th>\n",
              "      <td>...</td>\n",
              "      <td>...</td>\n",
              "      <td>...</td>\n",
              "      <td>...</td>\n",
              "      <td>...</td>\n",
              "      <td>...</td>\n",
              "      <td>...</td>\n",
              "      <td>...</td>\n",
              "      <td>...</td>\n",
              "      <td>...</td>\n",
              "      <td>...</td>\n",
              "      <td>...</td>\n",
              "      <td>...</td>\n",
              "    </tr>\n",
              "    <tr>\n",
              "      <th>58</th>\n",
              "      <td>29</td>\n",
              "      <td>8</td>\n",
              "      <td>99.37</td>\n",
              "      <td>7.90</td>\n",
              "      <td>29.25</td>\n",
              "      <td>21.35</td>\n",
              "      <td>87.34</td>\n",
              "      <td>electric_bike</td>\n",
              "      <td>38.88481</td>\n",
              "      <td>-77.00609</td>\n",
              "      <td>13</td>\n",
              "      <td>0</td>\n",
              "      <td>13</td>\n",
              "    </tr>\n",
              "    <tr>\n",
              "      <th>59</th>\n",
              "      <td>30</td>\n",
              "      <td>8</td>\n",
              "      <td>100.00</td>\n",
              "      <td>10.58</td>\n",
              "      <td>27.55</td>\n",
              "      <td>16.97</td>\n",
              "      <td>64.46</td>\n",
              "      <td>docked_bike</td>\n",
              "      <td>38.88481</td>\n",
              "      <td>-77.00609</td>\n",
              "      <td>20</td>\n",
              "      <td>20</td>\n",
              "      <td>0</td>\n",
              "    </tr>\n",
              "    <tr>\n",
              "      <th>60</th>\n",
              "      <td>30</td>\n",
              "      <td>8</td>\n",
              "      <td>100.00</td>\n",
              "      <td>10.58</td>\n",
              "      <td>27.55</td>\n",
              "      <td>16.97</td>\n",
              "      <td>64.46</td>\n",
              "      <td>electric_bike</td>\n",
              "      <td>38.88481</td>\n",
              "      <td>-77.00609</td>\n",
              "      <td>22</td>\n",
              "      <td>0</td>\n",
              "      <td>22</td>\n",
              "    </tr>\n",
              "    <tr>\n",
              "      <th>61</th>\n",
              "      <td>31</td>\n",
              "      <td>8</td>\n",
              "      <td>100.63</td>\n",
              "      <td>5.06</td>\n",
              "      <td>23.49</td>\n",
              "      <td>18.43</td>\n",
              "      <td>85.73</td>\n",
              "      <td>docked_bike</td>\n",
              "      <td>38.88481</td>\n",
              "      <td>-77.00609</td>\n",
              "      <td>5</td>\n",
              "      <td>5</td>\n",
              "      <td>0</td>\n",
              "    </tr>\n",
              "    <tr>\n",
              "      <th>62</th>\n",
              "      <td>31</td>\n",
              "      <td>8</td>\n",
              "      <td>100.63</td>\n",
              "      <td>5.06</td>\n",
              "      <td>23.49</td>\n",
              "      <td>18.43</td>\n",
              "      <td>85.73</td>\n",
              "      <td>electric_bike</td>\n",
              "      <td>38.88481</td>\n",
              "      <td>-77.00609</td>\n",
              "      <td>7</td>\n",
              "      <td>0</td>\n",
              "      <td>7</td>\n",
              "    </tr>\n",
              "  </tbody>\n",
              "</table>\n",
              "<p>63 rows × 13 columns</p>\n",
              "</div>"
            ],
            "text/plain": [
              "    DY  MO      PS  T2M_RANGE  ...       LON  count  docked_b electric_b\n",
              "0    1   8  100.29      10.49  ... -77.00609     15        15          0\n",
              "1    1   8  100.29      10.49  ... -77.00609     14         0         14\n",
              "2    1   9  100.68       7.61  ... -77.00609      1         1          0\n",
              "3    2   8  100.21      11.56  ... -77.00609     18        18          0\n",
              "4    2   8  100.21      11.56  ... -77.00609     18         0         18\n",
              "..  ..  ..     ...        ...  ...       ...    ...       ...        ...\n",
              "58  29   8   99.37       7.90  ... -77.00609     13         0         13\n",
              "59  30   8  100.00      10.58  ... -77.00609     20        20          0\n",
              "60  30   8  100.00      10.58  ... -77.00609     22         0         22\n",
              "61  31   8  100.63       5.06  ... -77.00609      5         5          0\n",
              "62  31   8  100.63       5.06  ... -77.00609      7         0          7\n",
              "\n",
              "[63 rows x 13 columns]"
            ]
          },
          "metadata": {
            "tags": []
          },
          "execution_count": 807
        }
      ]
    },
    {
      "cell_type": "code",
      "metadata": {
        "id": "3SCyjlRVeVkc",
        "colab": {
          "base_uri": "https://localhost:8080/",
          "height": 994
        },
        "outputId": "1df867b1-b2c6-44b7-d5cd-4422da3d35cd"
      },
      "source": [
        "aggregation_functions = { 'DY': 'first','docked_b': 'sum', 'electric_b': 'sum','count':'sum'}\n",
        "df_new = modified.groupby([\"DY\"]).aggregate(aggregation_functions)\n",
        "df_new['MO'] = modified['MO']\n",
        "df_new['PS'] = modified['PS']\n",
        "df_new['T2M_RANGE'] = modified['T2M_RANGE']\n",
        "df_new['T2M_MAX'] = modified['T2M_MAX']\n",
        "df_new['T2M_MIN'] = modified['T2M_MIN']\n",
        "df_new['RH2M'] = modified['RH2M']\n",
        "modified = df_new\n",
        "modified"
      ],
      "execution_count": 808,
      "outputs": [
        {
          "output_type": "execute_result",
          "data": {
            "text/html": [
              "<div>\n",
              "<style scoped>\n",
              "    .dataframe tbody tr th:only-of-type {\n",
              "        vertical-align: middle;\n",
              "    }\n",
              "\n",
              "    .dataframe tbody tr th {\n",
              "        vertical-align: top;\n",
              "    }\n",
              "\n",
              "    .dataframe thead th {\n",
              "        text-align: right;\n",
              "    }\n",
              "</style>\n",
              "<table border=\"1\" class=\"dataframe\">\n",
              "  <thead>\n",
              "    <tr style=\"text-align: right;\">\n",
              "      <th></th>\n",
              "      <th>DY</th>\n",
              "      <th>docked_b</th>\n",
              "      <th>electric_b</th>\n",
              "      <th>count</th>\n",
              "      <th>MO</th>\n",
              "      <th>PS</th>\n",
              "      <th>T2M_RANGE</th>\n",
              "      <th>T2M_MAX</th>\n",
              "      <th>T2M_MIN</th>\n",
              "      <th>RH2M</th>\n",
              "    </tr>\n",
              "    <tr>\n",
              "      <th>DY</th>\n",
              "      <th></th>\n",
              "      <th></th>\n",
              "      <th></th>\n",
              "      <th></th>\n",
              "      <th></th>\n",
              "      <th></th>\n",
              "      <th></th>\n",
              "      <th></th>\n",
              "      <th></th>\n",
              "      <th></th>\n",
              "    </tr>\n",
              "  </thead>\n",
              "  <tbody>\n",
              "    <tr>\n",
              "      <th>1</th>\n",
              "      <td>1</td>\n",
              "      <td>16</td>\n",
              "      <td>14</td>\n",
              "      <td>30</td>\n",
              "      <td>8</td>\n",
              "      <td>100.29</td>\n",
              "      <td>10.49</td>\n",
              "      <td>32.45</td>\n",
              "      <td>21.97</td>\n",
              "      <td>71.38</td>\n",
              "    </tr>\n",
              "    <tr>\n",
              "      <th>2</th>\n",
              "      <td>2</td>\n",
              "      <td>18</td>\n",
              "      <td>18</td>\n",
              "      <td>36</td>\n",
              "      <td>9</td>\n",
              "      <td>100.68</td>\n",
              "      <td>7.61</td>\n",
              "      <td>26.50</td>\n",
              "      <td>18.89</td>\n",
              "      <td>90.53</td>\n",
              "    </tr>\n",
              "    <tr>\n",
              "      <th>3</th>\n",
              "      <td>3</td>\n",
              "      <td>7</td>\n",
              "      <td>10</td>\n",
              "      <td>17</td>\n",
              "      <td>8</td>\n",
              "      <td>100.21</td>\n",
              "      <td>11.56</td>\n",
              "      <td>34.91</td>\n",
              "      <td>23.35</td>\n",
              "      <td>64.55</td>\n",
              "    </tr>\n",
              "    <tr>\n",
              "      <th>4</th>\n",
              "      <td>4</td>\n",
              "      <td>8</td>\n",
              "      <td>6</td>\n",
              "      <td>14</td>\n",
              "      <td>8</td>\n",
              "      <td>100.21</td>\n",
              "      <td>11.56</td>\n",
              "      <td>34.91</td>\n",
              "      <td>23.35</td>\n",
              "      <td>64.55</td>\n",
              "    </tr>\n",
              "    <tr>\n",
              "      <th>5</th>\n",
              "      <td>5</td>\n",
              "      <td>15</td>\n",
              "      <td>17</td>\n",
              "      <td>32</td>\n",
              "      <td>8</td>\n",
              "      <td>100.66</td>\n",
              "      <td>8.73</td>\n",
              "      <td>30.86</td>\n",
              "      <td>22.14</td>\n",
              "      <td>75.05</td>\n",
              "    </tr>\n",
              "    <tr>\n",
              "      <th>6</th>\n",
              "      <td>6</td>\n",
              "      <td>9</td>\n",
              "      <td>9</td>\n",
              "      <td>18</td>\n",
              "      <td>8</td>\n",
              "      <td>100.66</td>\n",
              "      <td>8.73</td>\n",
              "      <td>30.86</td>\n",
              "      <td>22.14</td>\n",
              "      <td>75.05</td>\n",
              "    </tr>\n",
              "    <tr>\n",
              "      <th>7</th>\n",
              "      <td>7</td>\n",
              "      <td>10</td>\n",
              "      <td>12</td>\n",
              "      <td>22</td>\n",
              "      <td>8</td>\n",
              "      <td>100.03</td>\n",
              "      <td>8.87</td>\n",
              "      <td>30.34</td>\n",
              "      <td>21.47</td>\n",
              "      <td>79.56</td>\n",
              "    </tr>\n",
              "    <tr>\n",
              "      <th>8</th>\n",
              "      <td>8</td>\n",
              "      <td>16</td>\n",
              "      <td>9</td>\n",
              "      <td>25</td>\n",
              "      <td>8</td>\n",
              "      <td>100.03</td>\n",
              "      <td>8.87</td>\n",
              "      <td>30.34</td>\n",
              "      <td>21.47</td>\n",
              "      <td>79.56</td>\n",
              "    </tr>\n",
              "    <tr>\n",
              "      <th>9</th>\n",
              "      <td>9</td>\n",
              "      <td>22</td>\n",
              "      <td>12</td>\n",
              "      <td>34</td>\n",
              "      <td>8</td>\n",
              "      <td>100.69</td>\n",
              "      <td>10.48</td>\n",
              "      <td>30.07</td>\n",
              "      <td>19.60</td>\n",
              "      <td>69.00</td>\n",
              "    </tr>\n",
              "    <tr>\n",
              "      <th>10</th>\n",
              "      <td>10</td>\n",
              "      <td>5</td>\n",
              "      <td>9</td>\n",
              "      <td>14</td>\n",
              "      <td>8</td>\n",
              "      <td>100.69</td>\n",
              "      <td>10.48</td>\n",
              "      <td>30.07</td>\n",
              "      <td>19.60</td>\n",
              "      <td>69.00</td>\n",
              "    </tr>\n",
              "    <tr>\n",
              "      <th>11</th>\n",
              "      <td>11</td>\n",
              "      <td>14</td>\n",
              "      <td>11</td>\n",
              "      <td>25</td>\n",
              "      <td>8</td>\n",
              "      <td>100.75</td>\n",
              "      <td>5.30</td>\n",
              "      <td>27.11</td>\n",
              "      <td>21.81</td>\n",
              "      <td>85.73</td>\n",
              "    </tr>\n",
              "    <tr>\n",
              "      <th>12</th>\n",
              "      <td>12</td>\n",
              "      <td>8</td>\n",
              "      <td>7</td>\n",
              "      <td>15</td>\n",
              "      <td>8</td>\n",
              "      <td>100.75</td>\n",
              "      <td>5.30</td>\n",
              "      <td>27.11</td>\n",
              "      <td>21.81</td>\n",
              "      <td>85.73</td>\n",
              "    </tr>\n",
              "    <tr>\n",
              "      <th>13</th>\n",
              "      <td>13</td>\n",
              "      <td>10</td>\n",
              "      <td>6</td>\n",
              "      <td>16</td>\n",
              "      <td>8</td>\n",
              "      <td>100.78</td>\n",
              "      <td>7.03</td>\n",
              "      <td>29.09</td>\n",
              "      <td>22.05</td>\n",
              "      <td>83.77</td>\n",
              "    </tr>\n",
              "    <tr>\n",
              "      <th>14</th>\n",
              "      <td>14</td>\n",
              "      <td>17</td>\n",
              "      <td>10</td>\n",
              "      <td>27</td>\n",
              "      <td>8</td>\n",
              "      <td>100.78</td>\n",
              "      <td>7.03</td>\n",
              "      <td>29.09</td>\n",
              "      <td>22.05</td>\n",
              "      <td>83.77</td>\n",
              "    </tr>\n",
              "    <tr>\n",
              "      <th>15</th>\n",
              "      <td>15</td>\n",
              "      <td>15</td>\n",
              "      <td>17</td>\n",
              "      <td>32</td>\n",
              "      <td>8</td>\n",
              "      <td>100.98</td>\n",
              "      <td>8.73</td>\n",
              "      <td>29.82</td>\n",
              "      <td>21.09</td>\n",
              "      <td>77.21</td>\n",
              "    </tr>\n",
              "    <tr>\n",
              "      <th>16</th>\n",
              "      <td>16</td>\n",
              "      <td>15</td>\n",
              "      <td>12</td>\n",
              "      <td>27</td>\n",
              "      <td>8</td>\n",
              "      <td>100.98</td>\n",
              "      <td>8.73</td>\n",
              "      <td>29.82</td>\n",
              "      <td>21.09</td>\n",
              "      <td>77.21</td>\n",
              "    </tr>\n",
              "    <tr>\n",
              "      <th>17</th>\n",
              "      <td>17</td>\n",
              "      <td>12</td>\n",
              "      <td>7</td>\n",
              "      <td>19</td>\n",
              "      <td>8</td>\n",
              "      <td>100.93</td>\n",
              "      <td>10.73</td>\n",
              "      <td>31.56</td>\n",
              "      <td>20.83</td>\n",
              "      <td>75.20</td>\n",
              "    </tr>\n",
              "    <tr>\n",
              "      <th>18</th>\n",
              "      <td>18</td>\n",
              "      <td>9</td>\n",
              "      <td>9</td>\n",
              "      <td>18</td>\n",
              "      <td>8</td>\n",
              "      <td>100.93</td>\n",
              "      <td>10.73</td>\n",
              "      <td>31.56</td>\n",
              "      <td>20.83</td>\n",
              "      <td>75.20</td>\n",
              "    </tr>\n",
              "    <tr>\n",
              "      <th>19</th>\n",
              "      <td>19</td>\n",
              "      <td>7</td>\n",
              "      <td>8</td>\n",
              "      <td>15</td>\n",
              "      <td>8</td>\n",
              "      <td>100.69</td>\n",
              "      <td>11.50</td>\n",
              "      <td>32.61</td>\n",
              "      <td>21.11</td>\n",
              "      <td>69.76</td>\n",
              "    </tr>\n",
              "    <tr>\n",
              "      <th>20</th>\n",
              "      <td>20</td>\n",
              "      <td>10</td>\n",
              "      <td>6</td>\n",
              "      <td>16</td>\n",
              "      <td>8</td>\n",
              "      <td>100.69</td>\n",
              "      <td>11.50</td>\n",
              "      <td>32.61</td>\n",
              "      <td>21.11</td>\n",
              "      <td>69.76</td>\n",
              "    </tr>\n",
              "    <tr>\n",
              "      <th>21</th>\n",
              "      <td>21</td>\n",
              "      <td>14</td>\n",
              "      <td>8</td>\n",
              "      <td>22</td>\n",
              "      <td>8</td>\n",
              "      <td>100.41</td>\n",
              "      <td>11.00</td>\n",
              "      <td>32.45</td>\n",
              "      <td>21.45</td>\n",
              "      <td>74.50</td>\n",
              "    </tr>\n",
              "    <tr>\n",
              "      <th>22</th>\n",
              "      <td>22</td>\n",
              "      <td>25</td>\n",
              "      <td>21</td>\n",
              "      <td>46</td>\n",
              "      <td>8</td>\n",
              "      <td>100.41</td>\n",
              "      <td>11.00</td>\n",
              "      <td>32.45</td>\n",
              "      <td>21.45</td>\n",
              "      <td>74.50</td>\n",
              "    </tr>\n",
              "    <tr>\n",
              "      <th>23</th>\n",
              "      <td>23</td>\n",
              "      <td>21</td>\n",
              "      <td>17</td>\n",
              "      <td>38</td>\n",
              "      <td>8</td>\n",
              "      <td>100.60</td>\n",
              "      <td>9.55</td>\n",
              "      <td>32.42</td>\n",
              "      <td>22.87</td>\n",
              "      <td>76.83</td>\n",
              "    </tr>\n",
              "    <tr>\n",
              "      <th>24</th>\n",
              "      <td>24</td>\n",
              "      <td>6</td>\n",
              "      <td>10</td>\n",
              "      <td>16</td>\n",
              "      <td>8</td>\n",
              "      <td>100.60</td>\n",
              "      <td>9.55</td>\n",
              "      <td>32.42</td>\n",
              "      <td>22.87</td>\n",
              "      <td>76.83</td>\n",
              "    </tr>\n",
              "    <tr>\n",
              "      <th>25</th>\n",
              "      <td>25</td>\n",
              "      <td>11</td>\n",
              "      <td>12</td>\n",
              "      <td>23</td>\n",
              "      <td>8</td>\n",
              "      <td>100.64</td>\n",
              "      <td>4.04</td>\n",
              "      <td>27.23</td>\n",
              "      <td>23.19</td>\n",
              "      <td>90.15</td>\n",
              "    </tr>\n",
              "    <tr>\n",
              "      <th>26</th>\n",
              "      <td>26</td>\n",
              "      <td>16</td>\n",
              "      <td>15</td>\n",
              "      <td>31</td>\n",
              "      <td>8</td>\n",
              "      <td>100.64</td>\n",
              "      <td>4.04</td>\n",
              "      <td>27.23</td>\n",
              "      <td>23.19</td>\n",
              "      <td>90.15</td>\n",
              "    </tr>\n",
              "    <tr>\n",
              "      <th>27</th>\n",
              "      <td>27</td>\n",
              "      <td>18</td>\n",
              "      <td>17</td>\n",
              "      <td>35</td>\n",
              "      <td>8</td>\n",
              "      <td>100.48</td>\n",
              "      <td>6.77</td>\n",
              "      <td>28.99</td>\n",
              "      <td>22.22</td>\n",
              "      <td>85.78</td>\n",
              "    </tr>\n",
              "    <tr>\n",
              "      <th>28</th>\n",
              "      <td>28</td>\n",
              "      <td>14</td>\n",
              "      <td>14</td>\n",
              "      <td>28</td>\n",
              "      <td>8</td>\n",
              "      <td>100.48</td>\n",
              "      <td>6.77</td>\n",
              "      <td>28.99</td>\n",
              "      <td>22.22</td>\n",
              "      <td>85.78</td>\n",
              "    </tr>\n",
              "    <tr>\n",
              "      <th>29</th>\n",
              "      <td>29</td>\n",
              "      <td>11</td>\n",
              "      <td>13</td>\n",
              "      <td>24</td>\n",
              "      <td>8</td>\n",
              "      <td>100.46</td>\n",
              "      <td>4.13</td>\n",
              "      <td>24.76</td>\n",
              "      <td>20.64</td>\n",
              "      <td>86.14</td>\n",
              "    </tr>\n",
              "    <tr>\n",
              "      <th>30</th>\n",
              "      <td>30</td>\n",
              "      <td>20</td>\n",
              "      <td>22</td>\n",
              "      <td>42</td>\n",
              "      <td>8</td>\n",
              "      <td>100.46</td>\n",
              "      <td>4.13</td>\n",
              "      <td>24.76</td>\n",
              "      <td>20.64</td>\n",
              "      <td>86.14</td>\n",
              "    </tr>\n",
              "    <tr>\n",
              "      <th>31</th>\n",
              "      <td>31</td>\n",
              "      <td>5</td>\n",
              "      <td>7</td>\n",
              "      <td>12</td>\n",
              "      <td>8</td>\n",
              "      <td>100.30</td>\n",
              "      <td>5.55</td>\n",
              "      <td>25.31</td>\n",
              "      <td>19.76</td>\n",
              "      <td>83.04</td>\n",
              "    </tr>\n",
              "  </tbody>\n",
              "</table>\n",
              "</div>"
            ],
            "text/plain": [
              "    DY  docked_b  electric_b  count  ...  T2M_RANGE  T2M_MAX  T2M_MIN   RH2M\n",
              "DY                                   ...                                    \n",
              "1    1        16          14     30  ...      10.49    32.45    21.97  71.38\n",
              "2    2        18          18     36  ...       7.61    26.50    18.89  90.53\n",
              "3    3         7          10     17  ...      11.56    34.91    23.35  64.55\n",
              "4    4         8           6     14  ...      11.56    34.91    23.35  64.55\n",
              "5    5        15          17     32  ...       8.73    30.86    22.14  75.05\n",
              "6    6         9           9     18  ...       8.73    30.86    22.14  75.05\n",
              "7    7        10          12     22  ...       8.87    30.34    21.47  79.56\n",
              "8    8        16           9     25  ...       8.87    30.34    21.47  79.56\n",
              "9    9        22          12     34  ...      10.48    30.07    19.60  69.00\n",
              "10  10         5           9     14  ...      10.48    30.07    19.60  69.00\n",
              "11  11        14          11     25  ...       5.30    27.11    21.81  85.73\n",
              "12  12         8           7     15  ...       5.30    27.11    21.81  85.73\n",
              "13  13        10           6     16  ...       7.03    29.09    22.05  83.77\n",
              "14  14        17          10     27  ...       7.03    29.09    22.05  83.77\n",
              "15  15        15          17     32  ...       8.73    29.82    21.09  77.21\n",
              "16  16        15          12     27  ...       8.73    29.82    21.09  77.21\n",
              "17  17        12           7     19  ...      10.73    31.56    20.83  75.20\n",
              "18  18         9           9     18  ...      10.73    31.56    20.83  75.20\n",
              "19  19         7           8     15  ...      11.50    32.61    21.11  69.76\n",
              "20  20        10           6     16  ...      11.50    32.61    21.11  69.76\n",
              "21  21        14           8     22  ...      11.00    32.45    21.45  74.50\n",
              "22  22        25          21     46  ...      11.00    32.45    21.45  74.50\n",
              "23  23        21          17     38  ...       9.55    32.42    22.87  76.83\n",
              "24  24         6          10     16  ...       9.55    32.42    22.87  76.83\n",
              "25  25        11          12     23  ...       4.04    27.23    23.19  90.15\n",
              "26  26        16          15     31  ...       4.04    27.23    23.19  90.15\n",
              "27  27        18          17     35  ...       6.77    28.99    22.22  85.78\n",
              "28  28        14          14     28  ...       6.77    28.99    22.22  85.78\n",
              "29  29        11          13     24  ...       4.13    24.76    20.64  86.14\n",
              "30  30        20          22     42  ...       4.13    24.76    20.64  86.14\n",
              "31  31         5           7     12  ...       5.55    25.31    19.76  83.04\n",
              "\n",
              "[31 rows x 10 columns]"
            ]
          },
          "metadata": {
            "tags": []
          },
          "execution_count": 808
        }
      ]
    },
    {
      "cell_type": "code",
      "metadata": {
        "id": "gr4wB5w9Xl_F",
        "colab": {
          "base_uri": "https://localhost:8080/",
          "height": 343
        },
        "outputId": "70d4edeb-38a8-42db-acb5-2e64649537aa"
      },
      "source": [
        "modified.corr()"
      ],
      "execution_count": 809,
      "outputs": [
        {
          "output_type": "execute_result",
          "data": {
            "text/html": [
              "<div>\n",
              "<style scoped>\n",
              "    .dataframe tbody tr th:only-of-type {\n",
              "        vertical-align: middle;\n",
              "    }\n",
              "\n",
              "    .dataframe tbody tr th {\n",
              "        vertical-align: top;\n",
              "    }\n",
              "\n",
              "    .dataframe thead th {\n",
              "        text-align: right;\n",
              "    }\n",
              "</style>\n",
              "<table border=\"1\" class=\"dataframe\">\n",
              "  <thead>\n",
              "    <tr style=\"text-align: right;\">\n",
              "      <th></th>\n",
              "      <th>DY</th>\n",
              "      <th>docked_b</th>\n",
              "      <th>electric_b</th>\n",
              "      <th>count</th>\n",
              "      <th>MO</th>\n",
              "      <th>PS</th>\n",
              "      <th>T2M_RANGE</th>\n",
              "      <th>T2M_MAX</th>\n",
              "      <th>T2M_MIN</th>\n",
              "      <th>RH2M</th>\n",
              "    </tr>\n",
              "  </thead>\n",
              "  <tbody>\n",
              "    <tr>\n",
              "      <th>DY</th>\n",
              "      <td>1.000000</td>\n",
              "      <td>0.078878</td>\n",
              "      <td>0.193886</td>\n",
              "      <td>0.141155</td>\n",
              "      <td>-0.285774</td>\n",
              "      <td>0.103502</td>\n",
              "      <td>-0.450636</td>\n",
              "      <td>-0.411414</td>\n",
              "      <td>0.014406</td>\n",
              "      <td>0.439748</td>\n",
              "    </tr>\n",
              "    <tr>\n",
              "      <th>docked_b</th>\n",
              "      <td>0.078878</td>\n",
              "      <td>1.000000</td>\n",
              "      <td>0.746476</td>\n",
              "      <td>0.944494</td>\n",
              "      <td>0.177110</td>\n",
              "      <td>0.023806</td>\n",
              "      <td>-0.091114</td>\n",
              "      <td>-0.118277</td>\n",
              "      <td>-0.080398</td>\n",
              "      <td>0.222040</td>\n",
              "    </tr>\n",
              "    <tr>\n",
              "      <th>electric_b</th>\n",
              "      <td>0.193886</td>\n",
              "      <td>0.746476</td>\n",
              "      <td>1.000000</td>\n",
              "      <td>0.923649</td>\n",
              "      <td>0.258926</td>\n",
              "      <td>-0.038592</td>\n",
              "      <td>-0.271903</td>\n",
              "      <td>-0.274216</td>\n",
              "      <td>-0.051595</td>\n",
              "      <td>0.330797</td>\n",
              "    </tr>\n",
              "    <tr>\n",
              "      <th>count</th>\n",
              "      <td>0.141155</td>\n",
              "      <td>0.944494</td>\n",
              "      <td>0.923649</td>\n",
              "      <td>1.000000</td>\n",
              "      <td>0.229843</td>\n",
              "      <td>-0.005343</td>\n",
              "      <td>-0.186721</td>\n",
              "      <td>-0.203508</td>\n",
              "      <td>-0.071778</td>\n",
              "      <td>0.291204</td>\n",
              "    </tr>\n",
              "    <tr>\n",
              "      <th>MO</th>\n",
              "      <td>-0.285774</td>\n",
              "      <td>0.177110</td>\n",
              "      <td>0.258926</td>\n",
              "      <td>0.229843</td>\n",
              "      <td>1.000000</td>\n",
              "      <td>0.075303</td>\n",
              "      <td>-0.058225</td>\n",
              "      <td>-0.235362</td>\n",
              "      <td>-0.433146</td>\n",
              "      <td>0.299903</td>\n",
              "    </tr>\n",
              "    <tr>\n",
              "      <th>PS</th>\n",
              "      <td>0.103502</td>\n",
              "      <td>0.023806</td>\n",
              "      <td>-0.038592</td>\n",
              "      <td>-0.005343</td>\n",
              "      <td>0.075303</td>\n",
              "      <td>1.000000</td>\n",
              "      <td>-0.065900</td>\n",
              "      <td>-0.146473</td>\n",
              "      <td>-0.204397</td>\n",
              "      <td>0.126554</td>\n",
              "    </tr>\n",
              "    <tr>\n",
              "      <th>T2M_RANGE</th>\n",
              "      <td>-0.450636</td>\n",
              "      <td>-0.091114</td>\n",
              "      <td>-0.271903</td>\n",
              "      <td>-0.186721</td>\n",
              "      <td>-0.058225</td>\n",
              "      <td>-0.065900</td>\n",
              "      <td>1.000000</td>\n",
              "      <td>0.907909</td>\n",
              "      <td>-0.045109</td>\n",
              "      <td>-0.900538</td>\n",
              "    </tr>\n",
              "    <tr>\n",
              "      <th>T2M_MAX</th>\n",
              "      <td>-0.411414</td>\n",
              "      <td>-0.118277</td>\n",
              "      <td>-0.274216</td>\n",
              "      <td>-0.203508</td>\n",
              "      <td>-0.235362</td>\n",
              "      <td>-0.146473</td>\n",
              "      <td>0.907909</td>\n",
              "      <td>1.000000</td>\n",
              "      <td>0.377781</td>\n",
              "      <td>-0.846304</td>\n",
              "    </tr>\n",
              "    <tr>\n",
              "      <th>T2M_MIN</th>\n",
              "      <td>0.014406</td>\n",
              "      <td>-0.080398</td>\n",
              "      <td>-0.051595</td>\n",
              "      <td>-0.071778</td>\n",
              "      <td>-0.433146</td>\n",
              "      <td>-0.204397</td>\n",
              "      <td>-0.045109</td>\n",
              "      <td>0.377781</td>\n",
              "      <td>1.000000</td>\n",
              "      <td>-0.028836</td>\n",
              "    </tr>\n",
              "    <tr>\n",
              "      <th>RH2M</th>\n",
              "      <td>0.439748</td>\n",
              "      <td>0.222040</td>\n",
              "      <td>0.330797</td>\n",
              "      <td>0.291204</td>\n",
              "      <td>0.299903</td>\n",
              "      <td>0.126554</td>\n",
              "      <td>-0.900538</td>\n",
              "      <td>-0.846304</td>\n",
              "      <td>-0.028836</td>\n",
              "      <td>1.000000</td>\n",
              "    </tr>\n",
              "  </tbody>\n",
              "</table>\n",
              "</div>"
            ],
            "text/plain": [
              "                  DY  docked_b  electric_b  ...   T2M_MAX   T2M_MIN      RH2M\n",
              "DY          1.000000  0.078878    0.193886  ... -0.411414  0.014406  0.439748\n",
              "docked_b    0.078878  1.000000    0.746476  ... -0.118277 -0.080398  0.222040\n",
              "electric_b  0.193886  0.746476    1.000000  ... -0.274216 -0.051595  0.330797\n",
              "count       0.141155  0.944494    0.923649  ... -0.203508 -0.071778  0.291204\n",
              "MO         -0.285774  0.177110    0.258926  ... -0.235362 -0.433146  0.299903\n",
              "PS          0.103502  0.023806   -0.038592  ... -0.146473 -0.204397  0.126554\n",
              "T2M_RANGE  -0.450636 -0.091114   -0.271903  ...  0.907909 -0.045109 -0.900538\n",
              "T2M_MAX    -0.411414 -0.118277   -0.274216  ...  1.000000  0.377781 -0.846304\n",
              "T2M_MIN     0.014406 -0.080398   -0.051595  ...  0.377781  1.000000 -0.028836\n",
              "RH2M        0.439748  0.222040    0.330797  ... -0.846304 -0.028836  1.000000\n",
              "\n",
              "[10 rows x 10 columns]"
            ]
          },
          "metadata": {
            "tags": []
          },
          "execution_count": 809
        }
      ]
    },
    {
      "cell_type": "code",
      "metadata": {
        "id": "HtWcsYBPX5en",
        "colab": {
          "base_uri": "https://localhost:8080/",
          "height": 596
        },
        "outputId": "0653c68e-9a56-4426-c256-43be7d712359"
      },
      "source": [
        "plt.figure(figsize=(16,10))\r\n",
        "sns.heatmap(modified.corr(), annot=True)\r\n",
        "plt.show()"
      ],
      "execution_count": 810,
      "outputs": [
        {
          "output_type": "display_data",
          "data": {
            "image/png": "[encoded data removed]",
            "text/plain": [
              "<Figure size 1152x720 with 2 Axes>"
            ]
          },
          "metadata": {
            "tags": [],
            "needs_background": "light"
          }
        }
      ]
    },
    {
      "cell_type": "code",
      "metadata": {
        "id": "PzALkvPMwWB0",
        "colab": {
          "base_uri": "https://localhost:8080/"
        },
        "outputId": "042deab8-d629-4cf9-f9c6-a1c579f774db"
      },
      "source": [
        "docked_count = modified['docked_b'].sum()\n",
        "print (docked_count)\n",
        "electric_count = modified['electric_b'].sum()\n",
        "print (electric_count)\n"
      ],
      "execution_count": 811,
      "outputs": [
        {
          "output_type": "stream",
          "text": [
            "404\n",
            "365\n"
          ],
          "name": "stdout"
        }
      ]
    },
    {
      "cell_type": "code",
      "metadata": {
        "id": "-m_8SUIUwzaX",
        "colab": {
          "base_uri": "https://localhost:8080/"
        },
        "outputId": "9e34a6cb-7bf7-4d03-d0c9-79668837c048"
      },
      "source": [
        "from sklearn.svm import SVC\n",
        "!pip3 install quandl\n",
        "!pip3 install sklearn\n",
        "import quandl, math\n",
        "from sklearn.model_selection import cross_validate\n",
        "from sklearn.model_selection import train_test_split\n",
        "from sklearn import preprocessing, svm\n",
        "from sklearn.linear_model import LinearRegression\n",
        "\n",
        "X = np.array(modified.drop(['count','docked_b','electric_b'], 1))\n",
        "y = np.array(modified['docked_b'])\n",
        "svclassifier = SVC(kernel='poly', degree=8)\n",
        "X_train, X_test, y_train, y_test = train_test_split(X, y, test_size=0.2)\n",
        "svclassifier.fit(X_train, y_train)\n"
      ],
      "execution_count": 812,
      "outputs": [
        {
          "output_type": "stream",
          "text": [
            "Requirement already satisfied: quandl in /usr/local/lib/python3.7/dist-packages (3.6.1)\n",
            "Requirement already satisfied: numpy>=1.8 in /usr/local/lib/python3.7/dist-packages (from quandl) (1.19.5)\n",
            "Requirement already satisfied: requests>=2.7.0 in /usr/local/lib/python3.7/dist-packages (from quandl) (2.23.0)\n",
            "Requirement already satisfied: inflection>=0.3.1 in /usr/local/lib/python3.7/dist-packages (from quandl) (0.5.1)\n",
            "Requirement already satisfied: six in /usr/local/lib/python3.7/dist-packages (from quandl) (1.15.0)\n",
            "Requirement already satisfied: pandas>=0.14 in /usr/local/lib/python3.7/dist-packages (from quandl) (1.1.5)\n",
            "Requirement already satisfied: python-dateutil in /usr/local/lib/python3.7/dist-packages (from quandl) (2.8.1)\n",
            "Requirement already satisfied: more-itertools in /usr/local/lib/python3.7/dist-packages (from quandl) (8.7.0)\n",
            "Requirement already satisfied: idna<3,>=2.5 in /usr/local/lib/python3.7/dist-packages (from requests>=2.7.0->quandl) (2.10)\n",
            "Requirement already satisfied: certifi>=2017.4.17 in /usr/local/lib/python3.7/dist-packages (from requests>=2.7.0->quandl) (2020.12.5)\n",
            "Requirement already satisfied: urllib3!=1.25.0,!=1.25.1,<1.26,>=1.21.1 in /usr/local/lib/python3.7/dist-packages (from requests>=2.7.0->quandl) (1.24.3)\n",
            "Requirement already satisfied: chardet<4,>=3.0.2 in /usr/local/lib/python3.7/dist-packages (from requests>=2.7.0->quandl) (3.0.4)\n",
            "Requirement already satisfied: pytz>=2017.2 in /usr/local/lib/python3.7/dist-packages (from pandas>=0.14->quandl) (2018.9)\n",
            "Requirement already satisfied: sklearn in /usr/local/lib/python3.7/dist-packages (0.0)\n",
            "Requirement already satisfied: scikit-learn in /usr/local/lib/python3.7/dist-packages (from sklearn) (0.22.2.post1)\n",
            "Requirement already satisfied: joblib>=0.11 in /usr/local/lib/python3.7/dist-packages (from scikit-learn->sklearn) (1.0.1)\n",
            "Requirement already satisfied: numpy>=1.11.0 in /usr/local/lib/python3.7/dist-packages (from scikit-learn->sklearn) (1.19.5)\n",
            "Requirement already satisfied: scipy>=0.17.0 in /usr/local/lib/python3.7/dist-packages (from scikit-learn->sklearn) (1.4.1)\n"
          ],
          "name": "stdout"
        },
        {
          "output_type": "execute_result",
          "data": {
            "text/plain": [
              "SVC(C=1.0, break_ties=False, cache_size=200, class_weight=None, coef0=0.0,\n",
              "    decision_function_shape='ovr', degree=8, gamma='scale', kernel='poly',\n",
              "    max_iter=-1, probability=False, random_state=None, shrinking=True,\n",
              "    tol=0.001, verbose=False)"
            ]
          },
          "metadata": {
            "tags": []
          },
          "execution_count": 812
        }
      ]
    },
    {
      "cell_type": "code",
      "metadata": {
        "id": "Ee2Wtl7Bw0ez"
      },
      "source": [
        "y_pred = svclassifier.predict(X_test)\n"
      ],
      "execution_count": 813,
      "outputs": []
    },
    {
      "cell_type": "code",
      "metadata": {
        "id": "f5EwHY4bw7Bo",
        "colab": {
          "base_uri": "https://localhost:8080/"
        },
        "outputId": "8d775f65-e047-4eb9-8114-8a8fe8c2dc2c"
      },
      "source": [
        "from sklearn.metrics import classification_report, confusion_matrix\n",
        "print(confusion_matrix(y_test, y_pred))\n",
        "print(classification_report(y_test, y_pred))"
      ],
      "execution_count": 814,
      "outputs": [
        {
          "output_type": "stream",
          "text": [
            "[[0 0 0 0 0 0 0 0 1]\n",
            " [0 0 0 0 0 0 0 0 0]\n",
            " [0 0 0 0 1 0 0 0 0]\n",
            " [0 1 0 0 0 0 0 0 0]\n",
            " [0 0 0 0 0 0 0 0 1]\n",
            " [0 0 0 1 0 0 0 0 0]\n",
            " [0 0 0 0 1 0 0 0 0]\n",
            " [0 0 0 0 0 0 0 0 1]\n",
            " [0 0 0 0 0 0 0 0 0]]\n",
            "              precision    recall  f1-score   support\n",
            "\n",
            "           6       0.00      0.00      0.00       1.0\n",
            "           7       0.00      0.00      0.00       0.0\n",
            "           8       0.00      0.00      0.00       1.0\n",
            "          10       0.00      0.00      0.00       1.0\n",
            "          14       0.00      0.00      0.00       1.0\n",
            "          16       0.00      0.00      0.00       1.0\n",
            "          18       0.00      0.00      0.00       1.0\n",
            "          21       0.00      0.00      0.00       1.0\n",
            "          25       0.00      0.00      0.00       0.0\n",
            "\n",
            "    accuracy                           0.00       7.0\n",
            "   macro avg       0.00      0.00      0.00       7.0\n",
            "weighted avg       0.00      0.00      0.00       7.0\n",
            "\n"
          ],
          "name": "stdout"
        },
        {
          "output_type": "stream",
          "text": [
            "/usr/local/lib/python3.7/dist-packages/sklearn/metrics/_classification.py:1272: UndefinedMetricWarning: Precision and F-score are ill-defined and being set to 0.0 in labels with no predicted samples. Use `zero_division` parameter to control this behavior.\n",
            "  _warn_prf(average, modifier, msg_start, len(result))\n",
            "/usr/local/lib/python3.7/dist-packages/sklearn/metrics/_classification.py:1272: UndefinedMetricWarning: Recall and F-score are ill-defined and being set to 0.0 in labels with no true samples. Use `zero_division` parameter to control this behavior.\n",
            "  _warn_prf(average, modifier, msg_start, len(result))\n"
          ],
          "name": "stderr"
        }
      ]
    },
    {
      "cell_type": "code",
      "metadata": {
        "id": "yazVW9f2y3yg",
        "colab": {
          "base_uri": "https://localhost:8080/"
        },
        "outputId": "45f3357c-677c-42f0-e94e-e361ce67b91d"
      },
      "source": [
        "print(y_pred)\n",
        "print(y_test)"
      ],
      "execution_count": 815,
      "outputs": [
        {
          "output_type": "stream",
          "text": [
            "[25 14 14 25  7 25 10]\n",
            "[ 6  8 18 14 10 21 16]\n"
          ],
          "name": "stdout"
        }
      ]
    },
    {
      "cell_type": "code",
      "metadata": {
        "id": "5urHQ9ckcZWu",
        "colab": {
          "base_uri": "https://localhost:8080/",
          "height": 406
        },
        "outputId": "346068e2-447a-43f8-8be5-6859aed73450"
      },
      "source": [
        "# visualize the relationship between the features and the response using scatterplots\r\n",
        "sns.pairplot(modified, x_vars=['DY','MO','PS','T2M_RANGE','T2M_MIN','RH2M'], y_vars='docked_b', size=7, aspect=0.7)"
      ],
      "execution_count": 816,
      "outputs": [
        {
          "output_type": "stream",
          "text": [
            "/usr/local/lib/python3.7/dist-packages/seaborn/axisgrid.py:1969: UserWarning: The `size` parameter has been renamed to `height`; please update your code.\n",
            "  warnings.warn(msg, UserWarning)\n"
          ],
          "name": "stderr"
        },
        {
          "output_type": "execute_result",
          "data": {
            "text/plain": [
              "<seaborn.axisgrid.PairGrid at 0x7f06fe44a490>"
            ]
          },
          "metadata": {
            "tags": []
          },
          "execution_count": 816
        },
        {
          "output_type": "display_data",
          "data": {
            "image/png": "[encoded data removed]",
            "text/plain": [
              "<Figure size 2116.8x504 with 6 Axes>"
            ]
          },
          "metadata": {
            "tags": [],
            "needs_background": "light"
          }
        }
      ]
    },
    {
      "cell_type": "code",
      "metadata": {
        "colab": {
          "base_uri": "https://localhost:8080/",
          "height": 406
        },
        "id": "KsWhVY1gfJVG",
        "outputId": "8c6a15ae-7aa9-47ee-88a7-c6a00325765a"
      },
      "source": [
        "# visualize the relationship between the features and the response using scatterplots\r\n",
        "sns.pairplot(modified, x_vars=['DY','MO','PS','T2M_RANGE','T2M_MIN','RH2M'], y_vars='electric_b', size=7, aspect=0.7)"
      ],
      "execution_count": 817,
      "outputs": [
        {
          "output_type": "stream",
          "text": [
            "/usr/local/lib/python3.7/dist-packages/seaborn/axisgrid.py:1969: UserWarning: The `size` parameter has been renamed to `height`; please update your code.\n",
            "  warnings.warn(msg, UserWarning)\n"
          ],
          "name": "stderr"
        },
        {
          "output_type": "execute_result",
          "data": {
            "text/plain": [
              "<seaborn.axisgrid.PairGrid at 0x7f06eb5fcb50>"
            ]
          },
          "metadata": {
            "tags": []
          },
          "execution_count": 817
        },
        {
          "output_type": "display_data",
          "data": {
            "image/png": "[encoded data removed]",
            "text/plain": [
              "<Figure size 2116.8x504 with 6 Axes>"
            ]
          },
          "metadata": {
            "tags": [],
            "needs_background": "light"
          }
        }
      ]
    },
    {
      "cell_type": "code",
      "metadata": {
        "id": "eavCdbkDxcCn"
      },
      "source": [
        "\n",
        "X = np.array(modified.drop(['PS','docked_b','count'], 1))\n",
        "y = np.array(modified['docked_b'])"
      ],
      "execution_count": 818,
      "outputs": []
    },
    {
      "cell_type": "code",
      "metadata": {
        "id": "pyo6K5ys2-mJ"
      },
      "source": [
        "X = preprocessing.scale(X)"
      ],
      "execution_count": 819,
      "outputs": []
    },
    {
      "cell_type": "code",
      "metadata": {
        "id": "eLdP8E-J3Frs"
      },
      "source": [
        "y = np.array(modified['docked_b'])"
      ],
      "execution_count": 820,
      "outputs": []
    },
    {
      "cell_type": "code",
      "metadata": {
        "id": "A3N7O-fl3Gg5"
      },
      "source": [
        "X_train, X_test, y_train, y_test = train_test_split(X, y, test_size=0.2)"
      ],
      "execution_count": 821,
      "outputs": []
    },
    {
      "cell_type": "code",
      "metadata": {
        "id": "pF6clCVG3LxE"
      },
      "source": [
        "clf = LinearRegression()"
      ],
      "execution_count": 822,
      "outputs": []
    },
    {
      "cell_type": "code",
      "metadata": {
        "id": "4m-grhQT3OW5",
        "colab": {
          "base_uri": "https://localhost:8080/"
        },
        "outputId": "48f8d326-9bcc-41a7-a90a-9bc455dee749"
      },
      "source": [
        "clf.fit(X_train, y_train)\n",
        "y_pred=clf.predict(X_test)\n",
        "y_pred\n"
      ],
      "execution_count": 823,
      "outputs": [
        {
          "output_type": "execute_result",
          "data": {
            "text/plain": [
              "array([11.36203519,  7.43491965, 11.01416751, 10.01116262, 10.28647762,\n",
              "        8.01922223, 21.56639756])"
            ]
          },
          "metadata": {
            "tags": []
          },
          "execution_count": 823
        }
      ]
    },
    {
      "cell_type": "code",
      "metadata": {
        "id": "3pFT0oXyhhst",
        "colab": {
          "base_uri": "https://localhost:8080/"
        },
        "outputId": "14578b89-5ca5-4245-80be-ba89e60e1679"
      },
      "source": [
        "y_test"
      ],
      "execution_count": 824,
      "outputs": [
        {
          "output_type": "execute_result",
          "data": {
            "text/plain": [
              "array([16,  9,  7, 10,  5,  8, 20])"
            ]
          },
          "metadata": {
            "tags": []
          },
          "execution_count": 824
        }
      ]
    },
    {
      "cell_type": "code",
      "metadata": {
        "colab": {
          "base_uri": "https://localhost:8080/"
        },
        "id": "1H9xCLQwuSD8",
        "outputId": "93703f1b-58dd-4f71-d13e-df82852a49fd"
      },
      "source": [
        "clf.fit(X_train, y_train)\r\n",
        "confidence = clf.score(X_test, y_test)\r\n",
        "print(confidence)"
      ],
      "execution_count": 825,
      "outputs": [
        {
          "output_type": "stream",
          "text": [
            "0.5888977243829674\n"
          ],
          "name": "stdout"
        }
      ]
    },
    {
      "cell_type": "code",
      "metadata": {
        "id": "Gcum_8hmBRGR",
        "colab": {
          "base_uri": "https://localhost:8080/"
        },
        "outputId": "44af8e59-05c9-49ea-a722-5add22506a64"
      },
      "source": [
        "#To retrieve the intercept:\r\n",
        "print(clf.intercept_)\r\n",
        "\r\n",
        "#For retrieving the slope:\r\n",
        "print(clf.coef_)"
      ],
      "execution_count": 826,
      "outputs": [
        {
          "output_type": "stream",
          "text": [
            "13.183689754125009\n",
            "[-1.45661417e-01  4.56906883e+00 -1.07025759e+00 -7.33100875e+02\n",
            "  7.91653266e+02 -3.33152028e+02  2.06351734e-01]\n"
          ],
          "name": "stdout"
        }
      ]
    },
    {
      "cell_type": "code",
      "metadata": {
        "id": "WABMQxekFGxr",
        "colab": {
          "base_uri": "https://localhost:8080/",
          "height": 254
        },
        "outputId": "7db04c96-22cd-4aeb-b73a-79fd5769ddeb"
      },
      "source": [
        "df2 = pd.DataFrame({'Actual': y_test.flatten(), 'Predicted': y_pred.flatten()})\r\n",
        "df2\r\n"
      ],
      "execution_count": 827,
      "outputs": [
        {
          "output_type": "execute_result",
          "data": {
            "text/html": [
              "<div>\n",
              "<style scoped>\n",
              "    .dataframe tbody tr th:only-of-type {\n",
              "        vertical-align: middle;\n",
              "    }\n",
              "\n",
              "    .dataframe tbody tr th {\n",
              "        vertical-align: top;\n",
              "    }\n",
              "\n",
              "    .dataframe thead th {\n",
              "        text-align: right;\n",
              "    }\n",
              "</style>\n",
              "<table border=\"1\" class=\"dataframe\">\n",
              "  <thead>\n",
              "    <tr style=\"text-align: right;\">\n",
              "      <th></th>\n",
              "      <th>Actual</th>\n",
              "      <th>Predicted</th>\n",
              "    </tr>\n",
              "  </thead>\n",
              "  <tbody>\n",
              "    <tr>\n",
              "      <th>0</th>\n",
              "      <td>16</td>\n",
              "      <td>11.362035</td>\n",
              "    </tr>\n",
              "    <tr>\n",
              "      <th>1</th>\n",
              "      <td>9</td>\n",
              "      <td>7.434920</td>\n",
              "    </tr>\n",
              "    <tr>\n",
              "      <th>2</th>\n",
              "      <td>7</td>\n",
              "      <td>11.014168</td>\n",
              "    </tr>\n",
              "    <tr>\n",
              "      <th>3</th>\n",
              "      <td>10</td>\n",
              "      <td>10.011163</td>\n",
              "    </tr>\n",
              "    <tr>\n",
              "      <th>4</th>\n",
              "      <td>5</td>\n",
              "      <td>10.286478</td>\n",
              "    </tr>\n",
              "    <tr>\n",
              "      <th>5</th>\n",
              "      <td>8</td>\n",
              "      <td>8.019222</td>\n",
              "    </tr>\n",
              "    <tr>\n",
              "      <th>6</th>\n",
              "      <td>20</td>\n",
              "      <td>21.566398</td>\n",
              "    </tr>\n",
              "  </tbody>\n",
              "</table>\n",
              "</div>"
            ],
            "text/plain": [
              "   Actual  Predicted\n",
              "0      16  11.362035\n",
              "1       9   7.434920\n",
              "2       7  11.014168\n",
              "3      10  10.011163\n",
              "4       5  10.286478\n",
              "5       8   8.019222\n",
              "6      20  21.566398"
            ]
          },
          "metadata": {
            "tags": []
          },
          "execution_count": 827
        }
      ]
    },
    {
      "cell_type": "code",
      "metadata": {
        "id": "5DmsX38dUBoi"
      },
      "source": [
        "y_test1 = y_test\r\n",
        "y_pred1 = y_pred"
      ],
      "execution_count": 828,
      "outputs": []
    },
    {
      "cell_type": "code",
      "metadata": {
        "colab": {
          "base_uri": "https://localhost:8080/"
        },
        "id": "UT4OTMJfSnrG",
        "outputId": "a6fa6dee-ad0a-492b-c786-3040a5c8b651"
      },
      "source": [
        "from sklearn.metrics import mean_squared_error\r\n",
        "mse1 = mean_squared_error(y_test1, y_pred1)\r\n",
        "mse1"
      ],
      "execution_count": 829,
      "outputs": [
        {
          "output_type": "execute_result",
          "data": {
            "text/plain": [
              "10.067810831437535"
            ]
          },
          "metadata": {
            "tags": []
          },
          "execution_count": 829
        }
      ]
    },
    {
      "cell_type": "code",
      "metadata": {
        "id": "AoX8qZv7eJuZ"
      },
      "source": [
        "X = np.array(modified.drop(['PS','electric_b','count'], 1))\r\n",
        "y = np.array(modified['electric_b'])"
      ],
      "execution_count": 830,
      "outputs": []
    },
    {
      "cell_type": "code",
      "metadata": {
        "id": "U8Gu9O_sejY-"
      },
      "source": [
        "#X = preprocessing.scale(X)\r\n",
        "y = np.array(modified['electric_b'])\r\n",
        "X_train, X_test, y_train, y_test = train_test_split(X, y, test_size=0.2)\r\n",
        "clf = LinearRegression()"
      ],
      "execution_count": 831,
      "outputs": []
    },
    {
      "cell_type": "code",
      "metadata": {
        "id": "jk5iRQNQejlD",
        "colab": {
          "base_uri": "https://localhost:8080/"
        },
        "outputId": "eb417975-4934-4afe-9789-246bd6c56b59"
      },
      "source": [
        "clf.fit(X_train, y_train)\r\n",
        "confidence = clf.score(X_test, y_test)\r\n",
        "print(confidence)\r\n"
      ],
      "execution_count": 832,
      "outputs": [
        {
          "output_type": "stream",
          "text": [
            "0.44174186851363073\n"
          ],
          "name": "stdout"
        }
      ]
    },
    {
      "cell_type": "code",
      "metadata": {
        "id": "huMRJyJUej09",
        "colab": {
          "base_uri": "https://localhost:8080/"
        },
        "outputId": "1e72ec17-8059-413a-98ad-8125caa95677"
      },
      "source": [
        "U=clf.predict(X_test)\r\n",
        "U"
      ],
      "execution_count": 833,
      "outputs": [
        {
          "output_type": "execute_result",
          "data": {
            "text/plain": [
              "array([ 6.9967857 , 14.9538647 , 10.14090966, 12.53219501, 14.26638277,\n",
              "       12.37198641, 16.19051573])"
            ]
          },
          "metadata": {
            "tags": []
          },
          "execution_count": 833
        }
      ]
    },
    {
      "cell_type": "code",
      "metadata": {
        "id": "gDWlpqaHgM6v",
        "colab": {
          "base_uri": "https://localhost:8080/"
        },
        "outputId": "db45a8e6-c98b-46f1-e9b8-2a119b2eb8da"
      },
      "source": [
        "y_test"
      ],
      "execution_count": 834,
      "outputs": [
        {
          "output_type": "execute_result",
          "data": {
            "text/plain": [
              "array([ 8, 14,  7,  9, 14, 18, 15])"
            ]
          },
          "metadata": {
            "tags": []
          },
          "execution_count": 834
        }
      ]
    },
    {
      "cell_type": "code",
      "metadata": {
        "id": "tp_cTCoagSNL",
        "colab": {
          "base_uri": "https://localhost:8080/"
        },
        "outputId": "1b83c3cb-c54c-41ab-f967-2236dc452059"
      },
      "source": [
        "clf.score(X_test,y_test)"
      ],
      "execution_count": 835,
      "outputs": [
        {
          "output_type": "execute_result",
          "data": {
            "text/plain": [
              "0.44174186851363073"
            ]
          },
          "metadata": {
            "tags": []
          },
          "execution_count": 835
        }
      ]
    },
    {
      "cell_type": "code",
      "metadata": {
        "id": "OXxRXMasUxgJ"
      },
      "source": [
        "y_test2 = y_test\r\n",
        "y_pred2 = U"
      ],
      "execution_count": 836,
      "outputs": []
    },
    {
      "cell_type": "code",
      "metadata": {
        "colab": {
          "base_uri": "https://localhost:8080/"
        },
        "id": "VY8yptyzch-Z",
        "outputId": "4e4ae832-4dc5-4adb-d240-4831006dbc0d"
      },
      "source": [
        "from sklearn.metrics import mean_squared_error\r\n",
        "mse2 = mean_squared_error(y_test2, y_pred2)\r\n",
        "mse2"
      ],
      "execution_count": 837,
      "outputs": [
        {
          "output_type": "execute_result",
          "data": {
            "text/plain": [
              "8.202976625922162"
            ]
          },
          "metadata": {
            "tags": []
          },
          "execution_count": 837
        }
      ]
    },
    {
      "cell_type": "code",
      "metadata": {
        "colab": {
          "base_uri": "https://localhost:8080/"
        },
        "id": "0FyIbN9d_ziZ",
        "outputId": "a501e203-8e3f-4c21-e072-442c33f385cb"
      },
      "source": [
        "ls = []\r\n",
        "mse_list = []\r\n",
        "for i in range(0,30):\r\n",
        "  u = (i)%31\r\n",
        "  v = (26+i)%31\r\n",
        "  if v >= 26:\r\n",
        "    x = modified[u:v]\r\n",
        "    y = modified[v:]\r\n",
        "    z = modified[:u]\r\n",
        "    y = y.append(z)\r\n",
        "  else:\r\n",
        "    x = modified[v:u]\r\n",
        "    y = modified[u:]\r\n",
        "    z = modified[:v]\r\n",
        "    y = y.append(z)\r\n",
        "  y = pd.DataFrame(y)\r\n",
        "  x = pd.DataFrame(x)\r\n",
        "  X_train = np.array(x.drop(['PS','docked_b','count'], 1))\r\n",
        "  y_train = np.array(x['docked_b'])\r\n",
        "  X_test = np.array(y.drop(['PS','docked_b','count'], 1))\r\n",
        "  y_test = np.array(y['docked_b'])\r\n",
        "  clf = LinearRegression()\r\n",
        "  clf.fit(X_train, y_train)\r\n",
        "  y_pred = clf.predict(X_test)\r\n",
        "  confidence = clf.score(X_test, y_test)\r\n",
        "  mse_reg = mean_squared_error(y_test, y_pred)\r\n",
        "  ls.append(confidence)\r\n",
        "  mse_list.append(mse_reg)\r\n",
        "mean_regression_d = np.mean(ls)\r\n",
        "max_reg_d = np.max(ls)\r\n",
        "mean_mse_reg_d = np.mean(mse_reg)\r\n",
        "mean_regression_d"
      ],
      "execution_count": 838,
      "outputs": [
        {
          "output_type": "execute_result",
          "data": {
            "text/plain": [
              "0.6840322089350314"
            ]
          },
          "metadata": {
            "tags": []
          },
          "execution_count": 838
        }
      ]
    },
    {
      "cell_type": "code",
      "metadata": {
        "colab": {
          "base_uri": "https://localhost:8080/"
        },
        "id": "Bu7TPXSap8P3",
        "outputId": "3a4fe90c-0ea1-477f-9870-88e26bf47bb5"
      },
      "source": [
        "ls = []\r\n",
        "for i in range(0,30):\r\n",
        "  u = (i)%31\r\n",
        "  v = (26+i)%31\r\n",
        "  if v >= 26:\r\n",
        "    x = modified[u:v]\r\n",
        "    y = modified[v:]\r\n",
        "    z = modified[:u]\r\n",
        "    y = y.append(z)\r\n",
        "  else:\r\n",
        "    x = modified[v:u]\r\n",
        "    y = modified[u:]\r\n",
        "    z = modified[:v]\r\n",
        "    y = y.append(z)\r\n",
        "  y = pd.DataFrame(y)\r\n",
        "  x = pd.DataFrame(x)\r\n",
        "  X_train = np.array(x.drop(['PS','electric_b','count'], 1))\r\n",
        "  y_train = np.array(x['electric_b'])\r\n",
        "  X_test = np.array(y.drop(['PS','electric_b','count'], 1))\r\n",
        "  y_test = np.array(y['electric_b'])\r\n",
        "  clf = LinearRegression()\r\n",
        "  clf.fit(X_train, y_train)\r\n",
        "  y_pred = clf.predict(X_test)\r\n",
        "  confidence = clf.score(X_test, y_test)\r\n",
        "  mse_reg = mean_squared_error(y_test, y_pred)\r\n",
        "  ls.append(confidence)\r\n",
        "  mse_list.append(mse_reg)\r\n",
        "mean_regression_e = np.mean(ls)\r\n",
        "max_reg_e = np.max(ls)\r\n",
        "mean_mse_reg_e = np.mean(mse_reg)\r\n",
        "print(mean_regression_e)"
      ],
      "execution_count": 839,
      "outputs": [
        {
          "output_type": "stream",
          "text": [
            "0.6610074603471698\n"
          ],
          "name": "stdout"
        }
      ]
    },
    {
      "cell_type": "code",
      "metadata": {
        "colab": {
          "base_uri": "https://localhost:8080/"
        },
        "id": "HOqgmrvPE7Xg",
        "outputId": "fa7f884b-2b7a-4e97-a5da-5abc03efa169"
      },
      "source": [
        "from sklearn.preprocessing import StandardScaler\r\n",
        "from sklearn.ensemble import RandomForestRegressor\r\n",
        "ls = []\r\n",
        "for i in range(0,15):\r\n",
        "  u = (i)%31\r\n",
        "  v = (26+i)%31\r\n",
        "  if v >= 26:\r\n",
        "    x = modified[u:v]\r\n",
        "    y = modified[v:]\r\n",
        "    z = modified[:u]\r\n",
        "    y = y.append(z)\r\n",
        "  else:\r\n",
        "    x = modified[v:u]\r\n",
        "    y = modified[u:]\r\n",
        "    z = modified[:v]\r\n",
        "    y = y.append(z)\r\n",
        "  y = pd.DataFrame(y)\r\n",
        "  x = pd.DataFrame(x)\r\n",
        "  X_train = np.array(x.drop(['PS','docked_b','count'], 1))\r\n",
        "  y_train = np.array(x['docked_b'])\r\n",
        "  X_test = np.array(y.drop(['PS','docked_b','count'], 1))\r\n",
        "  y_test = np.array(y['docked_b'])\r\n",
        "  sc = StandardScaler()\r\n",
        "  X_train = sc.fit_transform(X_train)\r\n",
        "  X_test = sc.transform(X_test)\r\n",
        "  regressor = RandomForestRegressor(n_estimators=10, random_state=20)\r\n",
        "  regressor.fit(X_train, y_train)\r\n",
        "  y_pred = regressor.predict(X_test)\r\n",
        "  confidence = regressor.score(X_test, y_test)\r\n",
        "  mse_reg = mean_squared_error(y_test, y_pred)\r\n",
        "  ls.append(confidence)\r\n",
        "  mse_list.append(mse_reg)\r\n",
        "Random_forest_max_d = np.max(ls)\r\n",
        "Random_forest_mean_d = np.mean(ls)\r\n",
        "mean_mse_rand_d = np.mean(mse_reg)\r\n",
        "Random_forest_mean_d"
      ],
      "execution_count": 840,
      "outputs": [
        {
          "output_type": "execute_result",
          "data": {
            "text/plain": [
              "0.6716335102748"
            ]
          },
          "metadata": {
            "tags": []
          },
          "execution_count": 840
        }
      ]
    },
    {
      "cell_type": "code",
      "metadata": {
        "colab": {
          "base_uri": "https://localhost:8080/"
        },
        "id": "cfuPfrp-rJZ9",
        "outputId": "f2fc9345-3669-41b8-f3d5-105399259e30"
      },
      "source": [
        "from sklearn.preprocessing import StandardScaler\r\n",
        "from sklearn.ensemble import RandomForestRegressor\r\n",
        "ls = []\r\n",
        "for i in range(0,30):\r\n",
        "  u = (i)%31\r\n",
        "  v = (26+i)%31\r\n",
        "  if v >= 26:\r\n",
        "    x = modified[u:v]\r\n",
        "    y = modified[v:]\r\n",
        "    z = modified[:u]\r\n",
        "    y = y.append(z)\r\n",
        "  else:\r\n",
        "    x = modified[v:u]\r\n",
        "    y = modified[u:]\r\n",
        "    z = modified[:v]\r\n",
        "    y = y.append(z)\r\n",
        "  y = pd.DataFrame(y)\r\n",
        "  x = pd.DataFrame(x)\r\n",
        "  X_train = np.array(x.drop(['PS','electric_b','count'], 1))\r\n",
        "  y_train = np.array(x['electric_b'])\r\n",
        "  X_test = np.array(y.drop(['PS','electric_b','count'], 1))\r\n",
        "  y_test = np.array(y['electric_b'])\r\n",
        "  sc = StandardScaler()\r\n",
        "  X_train = sc.fit_transform(X_train)\r\n",
        "  X_test = sc.transform(X_test)\r\n",
        "  regressor = RandomForestRegressor(n_estimators=10, random_state=20)\r\n",
        "  regressor.fit(X_train, y_train)\r\n",
        "  y_pred = regressor.predict(X_test)\r\n",
        "  mse_reg = mean_squared_error(y_test, y_pred)\r\n",
        "  confidence = regressor.score(X_test, y_test)\r\n",
        "  ls.append(confidence)\r\n",
        "  mse_list.append(mse_reg)\r\n",
        "Random_forest_max_e = np.max(ls)\r\n",
        "Random_regression_e = np.mean(ls)\r\n",
        "mean_mse_forest_e = np.mean(mse_reg)\r\n",
        "Random_regression_e"
      ],
      "execution_count": 841,
      "outputs": [
        {
          "output_type": "execute_result",
          "data": {
            "text/plain": [
              "0.649678947368421"
            ]
          },
          "metadata": {
            "tags": []
          },
          "execution_count": 841
        }
      ]
    },
    {
      "cell_type": "markdown",
      "metadata": {
        "id": "-tELNmQElXRO"
      },
      "source": [
        "***Results -------------------//////***\r\n",
        "\r\n",
        "\r\n"
      ]
    },
    {
      "cell_type": "code",
      "metadata": {
        "id": "xdXJuCoaa0pe",
        "colab": {
          "base_uri": "https://localhost:8080/",
          "height": 271
        },
        "outputId": "e069f05b-4332-43b3-a027-ace30db9b9d6"
      },
      "source": [
        "#linear regression Electric bike\r\n",
        "print(\"Actual and predicted value of Electric bike\")\r\n",
        "df1 = pd.DataFrame({'Actual': y_test1.flatten(), 'Predicted': y_pred1.flatten()})\r\n",
        "df1"
      ],
      "execution_count": 842,
      "outputs": [
        {
          "output_type": "stream",
          "text": [
            "Actual and predicted value of Electric bike\n"
          ],
          "name": "stdout"
        },
        {
          "output_type": "execute_result",
          "data": {
            "text/html": [
              "<div>\n",
              "<style scoped>\n",
              "    .dataframe tbody tr th:only-of-type {\n",
              "        vertical-align: middle;\n",
              "    }\n",
              "\n",
              "    .dataframe tbody tr th {\n",
              "        vertical-align: top;\n",
              "    }\n",
              "\n",
              "    .dataframe thead th {\n",
              "        text-align: right;\n",
              "    }\n",
              "</style>\n",
              "<table border=\"1\" class=\"dataframe\">\n",
              "  <thead>\n",
              "    <tr style=\"text-align: right;\">\n",
              "      <th></th>\n",
              "      <th>Actual</th>\n",
              "      <th>Predicted</th>\n",
              "    </tr>\n",
              "  </thead>\n",
              "  <tbody>\n",
              "    <tr>\n",
              "      <th>0</th>\n",
              "      <td>16</td>\n",
              "      <td>11.362035</td>\n",
              "    </tr>\n",
              "    <tr>\n",
              "      <th>1</th>\n",
              "      <td>9</td>\n",
              "      <td>7.434920</td>\n",
              "    </tr>\n",
              "    <tr>\n",
              "      <th>2</th>\n",
              "      <td>7</td>\n",
              "      <td>11.014168</td>\n",
              "    </tr>\n",
              "    <tr>\n",
              "      <th>3</th>\n",
              "      <td>10</td>\n",
              "      <td>10.011163</td>\n",
              "    </tr>\n",
              "    <tr>\n",
              "      <th>4</th>\n",
              "      <td>5</td>\n",
              "      <td>10.286478</td>\n",
              "    </tr>\n",
              "    <tr>\n",
              "      <th>5</th>\n",
              "      <td>8</td>\n",
              "      <td>8.019222</td>\n",
              "    </tr>\n",
              "    <tr>\n",
              "      <th>6</th>\n",
              "      <td>20</td>\n",
              "      <td>21.566398</td>\n",
              "    </tr>\n",
              "  </tbody>\n",
              "</table>\n",
              "</div>"
            ],
            "text/plain": [
              "   Actual  Predicted\n",
              "0      16  11.362035\n",
              "1       9   7.434920\n",
              "2       7  11.014168\n",
              "3      10  10.011163\n",
              "4       5  10.286478\n",
              "5       8   8.019222\n",
              "6      20  21.566398"
            ]
          },
          "metadata": {
            "tags": []
          },
          "execution_count": 842
        }
      ]
    },
    {
      "cell_type": "code",
      "metadata": {
        "colab": {
          "base_uri": "https://localhost:8080/",
          "height": 271
        },
        "id": "NlTVHc2BYgb8",
        "outputId": "c0d4f754-e9b7-4905-930a-1c94fb2a9ef8"
      },
      "source": [
        "#linear regression Docked bike\r\n",
        "print(\"Actual and predicted value of Docked bike\")\r\n",
        "df2 = pd.DataFrame({'Actual': y_test2.flatten(), 'Predicted': y_pred2.flatten()})\r\n",
        "df2"
      ],
      "execution_count": 843,
      "outputs": [
        {
          "output_type": "stream",
          "text": [
            "Actual and predicted value of Docked bike\n"
          ],
          "name": "stdout"
        },
        {
          "output_type": "execute_result",
          "data": {
            "text/html": [
              "<div>\n",
              "<style scoped>\n",
              "    .dataframe tbody tr th:only-of-type {\n",
              "        vertical-align: middle;\n",
              "    }\n",
              "\n",
              "    .dataframe tbody tr th {\n",
              "        vertical-align: top;\n",
              "    }\n",
              "\n",
              "    .dataframe thead th {\n",
              "        text-align: right;\n",
              "    }\n",
              "</style>\n",
              "<table border=\"1\" class=\"dataframe\">\n",
              "  <thead>\n",
              "    <tr style=\"text-align: right;\">\n",
              "      <th></th>\n",
              "      <th>Actual</th>\n",
              "      <th>Predicted</th>\n",
              "    </tr>\n",
              "  </thead>\n",
              "  <tbody>\n",
              "    <tr>\n",
              "      <th>0</th>\n",
              "      <td>8</td>\n",
              "      <td>6.996786</td>\n",
              "    </tr>\n",
              "    <tr>\n",
              "      <th>1</th>\n",
              "      <td>14</td>\n",
              "      <td>14.953865</td>\n",
              "    </tr>\n",
              "    <tr>\n",
              "      <th>2</th>\n",
              "      <td>7</td>\n",
              "      <td>10.140910</td>\n",
              "    </tr>\n",
              "    <tr>\n",
              "      <th>3</th>\n",
              "      <td>9</td>\n",
              "      <td>12.532195</td>\n",
              "    </tr>\n",
              "    <tr>\n",
              "      <th>4</th>\n",
              "      <td>14</td>\n",
              "      <td>14.266383</td>\n",
              "    </tr>\n",
              "    <tr>\n",
              "      <th>5</th>\n",
              "      <td>18</td>\n",
              "      <td>12.371986</td>\n",
              "    </tr>\n",
              "    <tr>\n",
              "      <th>6</th>\n",
              "      <td>15</td>\n",
              "      <td>16.190516</td>\n",
              "    </tr>\n",
              "  </tbody>\n",
              "</table>\n",
              "</div>"
            ],
            "text/plain": [
              "   Actual  Predicted\n",
              "0       8   6.996786\n",
              "1      14  14.953865\n",
              "2       7  10.140910\n",
              "3       9  12.532195\n",
              "4      14  14.266383\n",
              "5      18  12.371986\n",
              "6      15  16.190516"
            ]
          },
          "metadata": {
            "tags": []
          },
          "execution_count": 843
        }
      ]
    },
    {
      "cell_type": "code",
      "metadata": {
        "colab": {
          "base_uri": "https://localhost:8080/"
        },
        "id": "6gDIxuhfcOwM",
        "outputId": "b0f9c9c2-b2e6-4371-8227-70c29ab2f6cb"
      },
      "source": [
        "from prettytable import PrettyTable\r\n",
        "print('Accuracy of Docked and Electric (with cross validation) using Linear Regression')\r\n",
        "t = PrettyTable(['Bike', 'Means Square Error'])\r\n",
        "t.add_row(['Docked', mse1])\r\n",
        "t.add_row(['Electric', mse2])\r\n",
        "print(t)"
      ],
      "execution_count": 844,
      "outputs": [
        {
          "output_type": "stream",
          "text": [
            "Accuracy of Docked and Electric (with cross validation) using Linear Regression\n",
            "+----------+--------------------+\n",
            "|   Bike   | Means Square Error |\n",
            "+----------+--------------------+\n",
            "|  Docked  | 10.067810831437535 |\n",
            "| Electric | 8.202976625922162  |\n",
            "+----------+--------------------+\n"
          ],
          "name": "stdout"
        }
      ]
    },
    {
      "cell_type": "code",
      "metadata": {
        "colab": {
          "base_uri": "https://localhost:8080/"
        },
        "id": "7DUfEVg6Zl_k",
        "outputId": "0ea516bb-9b1b-493d-ccc8-207ef28f682d"
      },
      "source": [
        "from prettytable import PrettyTable\r\n",
        "print('Accuracy of Docked and Electric (with cross validation) using Linear Regression')\r\n",
        "t = PrettyTable(['Bike','Avg. Mean Square Error','Max Accuracy', 'Accuracy'])\r\n",
        "t.add_row(['Docked',mean_mse_reg_d,max_reg_d, mean_regression_d])\r\n",
        "t.add_row(['Electric',mean_mse_reg_e,max_reg_e, mean_regression_e])\r\n",
        "print(t)"
      ],
      "execution_count": 845,
      "outputs": [
        {
          "output_type": "stream",
          "text": [
            "Accuracy of Docked and Electric (with cross validation) using Linear Regression\n",
            "+----------+------------------------+--------------------+--------------------+\n",
            "|   Bike   | Avg. Mean Square Error |    Max Accuracy    |      Accuracy      |\n",
            "+----------+------------------------+--------------------+--------------------+\n",
            "|  Docked  |   109.91580985300067   | 0.8246901056785432 | 0.6840322089350314 |\n",
            "| Electric |    46.8707925192216    | 0.8302879276997592 | 0.6610074603471698 |\n",
            "+----------+------------------------+--------------------+--------------------+\n"
          ],
          "name": "stdout"
        }
      ]
    },
    {
      "cell_type": "code",
      "metadata": {
        "colab": {
          "base_uri": "https://localhost:8080/"
        },
        "id": "5PVxntRRbqsv",
        "outputId": "8d287092-5285-4c3e-f0c7-faeb7beac222"
      },
      "source": [
        "from prettytable import PrettyTable\r\n",
        "print('Accuracy of Docked and Electric (with cross validation) using Random Forest')\r\n",
        "t = PrettyTable(['Bike','Avg. Mean Square Error','Max Accuracy', 'Mean Accuracy'])\r\n",
        "t.add_row(['Docked',mean_mse_rand_d, Random_forest_max_d ,Random_forest_mean_d])\r\n",
        "t.add_row(['Electric',mean_mse_forest_e, Random_forest_max_e, Random_regression_e])\r\n",
        "print(t)"
      ],
      "execution_count": 846,
      "outputs": [
        {
          "output_type": "stream",
          "text": [
            "Accuracy of Docked and Electric (with cross validation) using Random Forest\n",
            "+----------+------------------------+--------------------+-------------------+\n",
            "|   Bike   | Avg. Mean Square Error |    Max Accuracy    |   Mean Accuracy   |\n",
            "+----------+------------------------+--------------------+-------------------+\n",
            "|  Docked  |   23.11884615384616    | 0.7066739606126915 |  0.6716335102748  |\n",
            "| Electric |   27.918076923076924   |       0.7962       | 0.649678947368421 |\n",
            "+----------+------------------------+--------------------+-------------------+\n"
          ],
          "name": "stdout"
        }
      ]
    },
    {
      "cell_type": "code",
      "metadata": {
        "id": "jV80XHn9bAWU"
      },
      "source": [
        ""
      ],
      "execution_count": 846,
      "outputs": []
    }
  ]
}