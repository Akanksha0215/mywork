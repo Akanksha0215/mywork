{
  "nbformat": 4,
  "nbformat_minor": 0,
  "metadata": {
    "colab": {
      "name": "pro(3) (2).ipynb",
      "provenance": [],
      "collapsed_sections": []
    },
    "kernelspec": {
      "display_name": "Python 3",
      "name": "python3"
    }
  },
  "cells": [
    {
      "cell_type": "code",
      "metadata": {
        "id": "4IKfoqOYoQuU"
      },
      "source": [
        "# Importing Library -------------%%%%\n",
        "\n",
        "!pip install -U -q PyDrive\n",
        "from pydrive.auth import GoogleAuth\n",
        "from pydrive.drive import GoogleDrive\n",
        "from google.colab import auth\n",
        "from oauth2client.client import GoogleCredentials\n",
        "\n",
        "import pandas as pd \n",
        "%matplotlib inline\n",
        "import matplotlib.pyplot as plt\n",
        "import numpy as np\n",
        "from scipy.stats import norm\n",
        "import seaborn as sns\n",
        "\n"
      ],
      "execution_count": 92,
      "outputs": []
    },
    {
      "cell_type": "code",
      "metadata": {
        "id": "QDoU_XCxoTUo"
      },
      "source": [
        "# Authenticating Users ------------%%%%%%\n",
        "auth.authenticate_user()\n",
        "gauth = GoogleAuth()\n",
        "gauth.credentials = GoogleCredentials.get_application_default()\n",
        "drive = GoogleDrive(gauth)\n"
      ],
      "execution_count": 93,
      "outputs": []
    },
    {
      "cell_type": "code",
      "metadata": {
        "id": "1FDPfz04oYEP"
      },
      "source": [
        "\n",
        "\n",
        "\n",
        "downloaded = drive.CreateFile({'id':'1H3Dpt2nkyFhpap7CuATl_YGi2dXJFS7z'}) # replace the id with id of file you want to access\n",
        "downloaded.GetContentFile('tv.csv')\n",
        "\n",
        "downloaded = drive.CreateFile({'id':'1sn8YS229HGrSo_88xXwjtHjeMJJZTm8M'}) # replace the id with id of file you want to access\n",
        "downloaded.GetContentFile('TEMP_USA.csv')"
      ],
      "execution_count": 94,
      "outputs": []
    },
    {
      "cell_type": "code",
      "metadata": {
        "id": "BwRH-xonH1R8",
        "colab": {
          "base_uri": "https://localhost:8080/",
          "height": 195
        },
        "outputId": "ebf20a8a-ccfd-47ae-dbc8-e3942a815d4b"
      },
      "source": [
        "#imporing capitalbikeshare-tripdata dataset\n",
        "temp = pd.read_csv(\"TEMP_USA.csv\") \n",
        "temp.head()"
      ],
      "execution_count": 95,
      "outputs": [
        {
          "output_type": "execute_result",
          "data": {
            "text/html": [
              "<div>\n",
              "<style scoped>\n",
              "    .dataframe tbody tr th:only-of-type {\n",
              "        vertical-align: middle;\n",
              "    }\n",
              "\n",
              "    .dataframe tbody tr th {\n",
              "        vertical-align: top;\n",
              "    }\n",
              "\n",
              "    .dataframe thead th {\n",
              "        text-align: right;\n",
              "    }\n",
              "</style>\n",
              "<table border=\"1\" class=\"dataframe\">\n",
              "  <thead>\n",
              "    <tr style=\"text-align: right;\">\n",
              "      <th></th>\n",
              "      <th>LAT</th>\n",
              "      <th>LON</th>\n",
              "      <th>YEAR</th>\n",
              "      <th>MO</th>\n",
              "      <th>DY</th>\n",
              "      <th>PRECTOT</th>\n",
              "      <th>QV2M</th>\n",
              "      <th>RH2M</th>\n",
              "      <th>PS</th>\n",
              "      <th>T2M_RANGE</th>\n",
              "      <th>T2M_MAX</th>\n",
              "      <th>T2M_MIN</th>\n",
              "      <th>T2MDEW</th>\n",
              "      <th>T2M</th>\n",
              "      <th>WS50M_RANGE</th>\n",
              "    </tr>\n",
              "  </thead>\n",
              "  <tbody>\n",
              "    <tr>\n",
              "      <th>0</th>\n",
              "      <td>38.88481</td>\n",
              "      <td>-77.00609</td>\n",
              "      <td>2015</td>\n",
              "      <td>1</td>\n",
              "      <td>1</td>\n",
              "      <td>0.00</td>\n",
              "      <td>2.62</td>\n",
              "      <td>71.46</td>\n",
              "      <td>101.16</td>\n",
              "      <td>9.12</td>\n",
              "      <td>5.11</td>\n",
              "      <td>-4.02</td>\n",
              "      <td>-4.87</td>\n",
              "      <td>-0.39</td>\n",
              "      <td>3.70</td>\n",
              "    </tr>\n",
              "    <tr>\n",
              "      <th>1</th>\n",
              "      <td>38.88481</td>\n",
              "      <td>-77.00609</td>\n",
              "      <td>2015</td>\n",
              "      <td>1</td>\n",
              "      <td>2</td>\n",
              "      <td>0.00</td>\n",
              "      <td>3.16</td>\n",
              "      <td>73.91</td>\n",
              "      <td>101.57</td>\n",
              "      <td>7.84</td>\n",
              "      <td>6.07</td>\n",
              "      <td>-1.76</td>\n",
              "      <td>-2.33</td>\n",
              "      <td>1.79</td>\n",
              "      <td>4.81</td>\n",
              "    </tr>\n",
              "    <tr>\n",
              "      <th>2</th>\n",
              "      <td>38.88481</td>\n",
              "      <td>-77.00609</td>\n",
              "      <td>2015</td>\n",
              "      <td>1</td>\n",
              "      <td>3</td>\n",
              "      <td>4.49</td>\n",
              "      <td>4.18</td>\n",
              "      <td>96.42</td>\n",
              "      <td>101.75</td>\n",
              "      <td>5.26</td>\n",
              "      <td>4.38</td>\n",
              "      <td>-0.87</td>\n",
              "      <td>1.35</td>\n",
              "      <td>2.02</td>\n",
              "      <td>1.49</td>\n",
              "    </tr>\n",
              "    <tr>\n",
              "      <th>3</th>\n",
              "      <td>38.88481</td>\n",
              "      <td>-77.00609</td>\n",
              "      <td>2015</td>\n",
              "      <td>1</td>\n",
              "      <td>4</td>\n",
              "      <td>10.86</td>\n",
              "      <td>7.35</td>\n",
              "      <td>98.24</td>\n",
              "      <td>100.28</td>\n",
              "      <td>11.12</td>\n",
              "      <td>14.93</td>\n",
              "      <td>3.81</td>\n",
              "      <td>8.88</td>\n",
              "      <td>9.66</td>\n",
              "      <td>6.29</td>\n",
              "    </tr>\n",
              "    <tr>\n",
              "      <th>4</th>\n",
              "      <td>38.88481</td>\n",
              "      <td>-77.00609</td>\n",
              "      <td>2015</td>\n",
              "      <td>1</td>\n",
              "      <td>5</td>\n",
              "      <td>0.00</td>\n",
              "      <td>2.34</td>\n",
              "      <td>61.61</td>\n",
              "      <td>101.63</td>\n",
              "      <td>9.17</td>\n",
              "      <td>5.02</td>\n",
              "      <td>-4.14</td>\n",
              "      <td>-6.45</td>\n",
              "      <td>0.15</td>\n",
              "      <td>7.72</td>\n",
              "    </tr>\n",
              "  </tbody>\n",
              "</table>\n",
              "</div>"
            ],
            "text/plain": [
              "        LAT       LON  YEAR  MO  ...  T2M_MIN  T2MDEW   T2M  WS50M_RANGE\n",
              "0  38.88481 -77.00609  2015   1  ...    -4.02   -4.87 -0.39         3.70\n",
              "1  38.88481 -77.00609  2015   1  ...    -1.76   -2.33  1.79         4.81\n",
              "2  38.88481 -77.00609  2015   1  ...    -0.87    1.35  2.02         1.49\n",
              "3  38.88481 -77.00609  2015   1  ...     3.81    8.88  9.66         6.29\n",
              "4  38.88481 -77.00609  2015   1  ...    -4.14   -6.45  0.15         7.72\n",
              "\n",
              "[5 rows x 15 columns]"
            ]
          },
          "metadata": {
            "tags": []
          },
          "execution_count": 95
        }
      ]
    },
    {
      "cell_type": "code",
      "metadata": {
        "colab": {
          "base_uri": "https://localhost:8080/",
          "height": 195
        },
        "id": "Z5ORIWhUes_l",
        "outputId": "e9e1094e-6299-4884-b22f-bdb284d759a2"
      },
      "source": [
        "#imporing capitalbikeshare-tripdata dataset\n",
        "df = pd.read_csv(\"tv.csv\") \n",
        "df.head()"
      ],
      "execution_count": 96,
      "outputs": [
        {
          "output_type": "execute_result",
          "data": {
            "text/html": [
              "<div>\n",
              "<style scoped>\n",
              "    .dataframe tbody tr th:only-of-type {\n",
              "        vertical-align: middle;\n",
              "    }\n",
              "\n",
              "    .dataframe tbody tr th {\n",
              "        vertical-align: top;\n",
              "    }\n",
              "\n",
              "    .dataframe thead th {\n",
              "        text-align: right;\n",
              "    }\n",
              "</style>\n",
              "<table border=\"1\" class=\"dataframe\">\n",
              "  <thead>\n",
              "    <tr style=\"text-align: right;\">\n",
              "      <th></th>\n",
              "      <th>Unnamed: 0</th>\n",
              "      <th>ride_id</th>\n",
              "      <th>rideable_type</th>\n",
              "      <th>started_at</th>\n",
              "      <th>start_station_id</th>\n",
              "      <th>time_to_travel</th>\n",
              "      <th>DY</th>\n",
              "      <th>MO</th>\n",
              "      <th>YEAR</th>\n",
              "    </tr>\n",
              "  </thead>\n",
              "  <tbody>\n",
              "    <tr>\n",
              "      <th>0</th>\n",
              "      <td>0</td>\n",
              "      <td>4479E04D9D45AC6B</td>\n",
              "      <td>docked_bike</td>\n",
              "      <td>2020-08-22 17:09:39</td>\n",
              "      <td>31287.0</td>\n",
              "      <td>1223.0</td>\n",
              "      <td>22.0</td>\n",
              "      <td>8.0</td>\n",
              "      <td>2020.0</td>\n",
              "    </tr>\n",
              "    <tr>\n",
              "      <th>1</th>\n",
              "      <td>1</td>\n",
              "      <td>EF88DFBC1E6648EC</td>\n",
              "      <td>docked_bike</td>\n",
              "      <td>2020-08-26 13:13:54</td>\n",
              "      <td>31271.0</td>\n",
              "      <td>287.0</td>\n",
              "      <td>26.0</td>\n",
              "      <td>8.0</td>\n",
              "      <td>2020.0</td>\n",
              "    </tr>\n",
              "    <tr>\n",
              "      <th>2</th>\n",
              "      <td>2</td>\n",
              "      <td>25812556961CFABD</td>\n",
              "      <td>docked_bike</td>\n",
              "      <td>2020-08-07 16:34:41</td>\n",
              "      <td>32014.0</td>\n",
              "      <td>2338.0</td>\n",
              "      <td>7.0</td>\n",
              "      <td>8.0</td>\n",
              "      <td>2020.0</td>\n",
              "    </tr>\n",
              "    <tr>\n",
              "      <th>3</th>\n",
              "      <td>3</td>\n",
              "      <td>1621384E51D38F1F</td>\n",
              "      <td>docked_bike</td>\n",
              "      <td>2020-08-07 20:32:05</td>\n",
              "      <td>31528.0</td>\n",
              "      <td>833.0</td>\n",
              "      <td>7.0</td>\n",
              "      <td>8.0</td>\n",
              "      <td>2020.0</td>\n",
              "    </tr>\n",
              "    <tr>\n",
              "      <th>4</th>\n",
              "      <td>4</td>\n",
              "      <td>BC10B8C7848D1FDF</td>\n",
              "      <td>docked_bike</td>\n",
              "      <td>2020-08-18 13:40:34</td>\n",
              "      <td>31122.0</td>\n",
              "      <td>513.0</td>\n",
              "      <td>18.0</td>\n",
              "      <td>8.0</td>\n",
              "      <td>2020.0</td>\n",
              "    </tr>\n",
              "  </tbody>\n",
              "</table>\n",
              "</div>"
            ],
            "text/plain": [
              "   Unnamed: 0           ride_id rideable_type  ...    DY   MO    YEAR\n",
              "0           0  4479E04D9D45AC6B   docked_bike  ...  22.0  8.0  2020.0\n",
              "1           1  EF88DFBC1E6648EC   docked_bike  ...  26.0  8.0  2020.0\n",
              "2           2  25812556961CFABD   docked_bike  ...   7.0  8.0  2020.0\n",
              "3           3  1621384E51D38F1F   docked_bike  ...   7.0  8.0  2020.0\n",
              "4           4  BC10B8C7848D1FDF   docked_bike  ...  18.0  8.0  2020.0\n",
              "\n",
              "[5 rows x 9 columns]"
            ]
          },
          "metadata": {
            "tags": []
          },
          "execution_count": 96
        }
      ]
    },
    {
      "cell_type": "code",
      "metadata": {
        "id": "sd2rN2PNqEy6",
        "colab": {
          "base_uri": "https://localhost:8080/",
          "height": 195
        },
        "outputId": "5e76a567-a144-4798-ee45-f7150e6e5f82"
      },
      "source": [
        "s1 = df.query('start_station_id == 31100')\n",
        "s1 = s1.sort_values(by=['DY'])\n",
        "s1 = pd.DataFrame(s1)\n",
        "s1 = s1.reset_index()\n",
        "s1.head()"
      ],
      "execution_count": 97,
      "outputs": [
        {
          "output_type": "execute_result",
          "data": {
            "text/html": [
              "<div>\n",
              "<style scoped>\n",
              "    .dataframe tbody tr th:only-of-type {\n",
              "        vertical-align: middle;\n",
              "    }\n",
              "\n",
              "    .dataframe tbody tr th {\n",
              "        vertical-align: top;\n",
              "    }\n",
              "\n",
              "    .dataframe thead th {\n",
              "        text-align: right;\n",
              "    }\n",
              "</style>\n",
              "<table border=\"1\" class=\"dataframe\">\n",
              "  <thead>\n",
              "    <tr style=\"text-align: right;\">\n",
              "      <th></th>\n",
              "      <th>index</th>\n",
              "      <th>Unnamed: 0</th>\n",
              "      <th>ride_id</th>\n",
              "      <th>rideable_type</th>\n",
              "      <th>started_at</th>\n",
              "      <th>start_station_id</th>\n",
              "      <th>time_to_travel</th>\n",
              "      <th>DY</th>\n",
              "      <th>MO</th>\n",
              "      <th>YEAR</th>\n",
              "    </tr>\n",
              "  </thead>\n",
              "  <tbody>\n",
              "    <tr>\n",
              "      <th>0</th>\n",
              "      <td>39959869</td>\n",
              "      <td>39959869</td>\n",
              "      <td>366898A27EFA72A6</td>\n",
              "      <td>docked_bike</td>\n",
              "      <td>2020-10-01 09:10:15</td>\n",
              "      <td>31100.0</td>\n",
              "      <td>1646.0</td>\n",
              "      <td>1.0</td>\n",
              "      <td>10.0</td>\n",
              "      <td>2020.0</td>\n",
              "    </tr>\n",
              "    <tr>\n",
              "      <th>1</th>\n",
              "      <td>36597133</td>\n",
              "      <td>36597133</td>\n",
              "      <td>23AC78E5F83D0FE3</td>\n",
              "      <td>electric_bike</td>\n",
              "      <td>2020-09-01 17:47:12</td>\n",
              "      <td>31100.0</td>\n",
              "      <td>379.0</td>\n",
              "      <td>1.0</td>\n",
              "      <td>9.0</td>\n",
              "      <td>2020.0</td>\n",
              "    </tr>\n",
              "    <tr>\n",
              "      <th>2</th>\n",
              "      <td>37399863</td>\n",
              "      <td>37399863</td>\n",
              "      <td>CF282FF39CC62DB8</td>\n",
              "      <td>electric_bike</td>\n",
              "      <td>2020-09-01 15:10:58</td>\n",
              "      <td>31100.0</td>\n",
              "      <td>1196.0</td>\n",
              "      <td>1.0</td>\n",
              "      <td>9.0</td>\n",
              "      <td>2020.0</td>\n",
              "    </tr>\n",
              "    <tr>\n",
              "      <th>3</th>\n",
              "      <td>5837606</td>\n",
              "      <td>5837606</td>\n",
              "      <td>568E56DAF2A642E0</td>\n",
              "      <td>docked_bike</td>\n",
              "      <td>2020-08-01 23:32:38</td>\n",
              "      <td>31100.0</td>\n",
              "      <td>760.0</td>\n",
              "      <td>1.0</td>\n",
              "      <td>8.0</td>\n",
              "      <td>2020.0</td>\n",
              "    </tr>\n",
              "    <tr>\n",
              "      <th>4</th>\n",
              "      <td>24130948</td>\n",
              "      <td>24130948</td>\n",
              "      <td>2DCAF57573AB01D4</td>\n",
              "      <td>docked_bike</td>\n",
              "      <td>2020-09-01 13:33:02</td>\n",
              "      <td>31100.0</td>\n",
              "      <td>414.0</td>\n",
              "      <td>1.0</td>\n",
              "      <td>9.0</td>\n",
              "      <td>2020.0</td>\n",
              "    </tr>\n",
              "  </tbody>\n",
              "</table>\n",
              "</div>"
            ],
            "text/plain": [
              "      index  Unnamed: 0           ride_id  ...   DY    MO    YEAR\n",
              "0  39959869    39959869  366898A27EFA72A6  ...  1.0  10.0  2020.0\n",
              "1  36597133    36597133  23AC78E5F83D0FE3  ...  1.0   9.0  2020.0\n",
              "2  37399863    37399863  CF282FF39CC62DB8  ...  1.0   9.0  2020.0\n",
              "3   5837606     5837606  568E56DAF2A642E0  ...  1.0   8.0  2020.0\n",
              "4  24130948    24130948  2DCAF57573AB01D4  ...  1.0   9.0  2020.0\n",
              "\n",
              "[5 rows x 10 columns]"
            ]
          },
          "metadata": {
            "tags": []
          },
          "execution_count": 97
        }
      ]
    },
    {
      "cell_type": "code",
      "metadata": {
        "colab": {
          "base_uri": "https://localhost:8080/",
          "height": 606
        },
        "id": "6KNSkHYlTgfm",
        "outputId": "9e6bbec5-e9c1-4235-86a5-41ddd4e8083a"
      },
      "source": [
        "result = pd.merge(s1, temp, how='left', on=['DY', 'MO','YEAR'])\n",
        "result\n"
      ],
      "execution_count": 98,
      "outputs": [
        {
          "output_type": "execute_result",
          "data": {
            "text/html": [
              "<div>\n",
              "<style scoped>\n",
              "    .dataframe tbody tr th:only-of-type {\n",
              "        vertical-align: middle;\n",
              "    }\n",
              "\n",
              "    .dataframe tbody tr th {\n",
              "        vertical-align: top;\n",
              "    }\n",
              "\n",
              "    .dataframe thead th {\n",
              "        text-align: right;\n",
              "    }\n",
              "</style>\n",
              "<table border=\"1\" class=\"dataframe\">\n",
              "  <thead>\n",
              "    <tr style=\"text-align: right;\">\n",
              "      <th></th>\n",
              "      <th>index</th>\n",
              "      <th>Unnamed: 0</th>\n",
              "      <th>ride_id</th>\n",
              "      <th>rideable_type</th>\n",
              "      <th>started_at</th>\n",
              "      <th>start_station_id</th>\n",
              "      <th>time_to_travel</th>\n",
              "      <th>DY</th>\n",
              "      <th>MO</th>\n",
              "      <th>YEAR</th>\n",
              "      <th>LAT</th>\n",
              "      <th>LON</th>\n",
              "      <th>PRECTOT</th>\n",
              "      <th>QV2M</th>\n",
              "      <th>RH2M</th>\n",
              "      <th>PS</th>\n",
              "      <th>T2M_RANGE</th>\n",
              "      <th>T2M_MAX</th>\n",
              "      <th>T2M_MIN</th>\n",
              "      <th>T2MDEW</th>\n",
              "      <th>T2M</th>\n",
              "      <th>WS50M_RANGE</th>\n",
              "    </tr>\n",
              "  </thead>\n",
              "  <tbody>\n",
              "    <tr>\n",
              "      <th>0</th>\n",
              "      <td>39959869</td>\n",
              "      <td>39959869</td>\n",
              "      <td>366898A27EFA72A6</td>\n",
              "      <td>docked_bike</td>\n",
              "      <td>2020-10-01 09:10:15</td>\n",
              "      <td>31100.0</td>\n",
              "      <td>1646.0</td>\n",
              "      <td>1.0</td>\n",
              "      <td>10.0</td>\n",
              "      <td>2020.0</td>\n",
              "      <td>38.88481</td>\n",
              "      <td>-77.00609</td>\n",
              "      <td>7.64</td>\n",
              "      <td>9.23</td>\n",
              "      <td>80.90</td>\n",
              "      <td>100.35</td>\n",
              "      <td>10.66</td>\n",
              "      <td>21.91</td>\n",
              "      <td>11.24</td>\n",
              "      <td>12.84</td>\n",
              "      <td>16.09</td>\n",
              "      <td>4.20</td>\n",
              "    </tr>\n",
              "    <tr>\n",
              "      <th>1</th>\n",
              "      <td>36597133</td>\n",
              "      <td>36597133</td>\n",
              "      <td>23AC78E5F83D0FE3</td>\n",
              "      <td>electric_bike</td>\n",
              "      <td>2020-09-01 17:47:12</td>\n",
              "      <td>31100.0</td>\n",
              "      <td>379.0</td>\n",
              "      <td>1.0</td>\n",
              "      <td>9.0</td>\n",
              "      <td>2020.0</td>\n",
              "      <td>38.88481</td>\n",
              "      <td>-77.00609</td>\n",
              "      <td>5.66</td>\n",
              "      <td>15.29</td>\n",
              "      <td>90.53</td>\n",
              "      <td>100.68</td>\n",
              "      <td>7.61</td>\n",
              "      <td>26.50</td>\n",
              "      <td>18.89</td>\n",
              "      <td>20.75</td>\n",
              "      <td>22.39</td>\n",
              "      <td>2.11</td>\n",
              "    </tr>\n",
              "    <tr>\n",
              "      <th>2</th>\n",
              "      <td>37399863</td>\n",
              "      <td>37399863</td>\n",
              "      <td>CF282FF39CC62DB8</td>\n",
              "      <td>electric_bike</td>\n",
              "      <td>2020-09-01 15:10:58</td>\n",
              "      <td>31100.0</td>\n",
              "      <td>1196.0</td>\n",
              "      <td>1.0</td>\n",
              "      <td>9.0</td>\n",
              "      <td>2020.0</td>\n",
              "      <td>38.88481</td>\n",
              "      <td>-77.00609</td>\n",
              "      <td>5.66</td>\n",
              "      <td>15.29</td>\n",
              "      <td>90.53</td>\n",
              "      <td>100.68</td>\n",
              "      <td>7.61</td>\n",
              "      <td>26.50</td>\n",
              "      <td>18.89</td>\n",
              "      <td>20.75</td>\n",
              "      <td>22.39</td>\n",
              "      <td>2.11</td>\n",
              "    </tr>\n",
              "    <tr>\n",
              "      <th>3</th>\n",
              "      <td>5837606</td>\n",
              "      <td>5837606</td>\n",
              "      <td>568E56DAF2A642E0</td>\n",
              "      <td>docked_bike</td>\n",
              "      <td>2020-08-01 23:32:38</td>\n",
              "      <td>31100.0</td>\n",
              "      <td>760.0</td>\n",
              "      <td>1.0</td>\n",
              "      <td>8.0</td>\n",
              "      <td>2020.0</td>\n",
              "      <td>38.88481</td>\n",
              "      <td>-77.00609</td>\n",
              "      <td>0.79</td>\n",
              "      <td>16.02</td>\n",
              "      <td>71.38</td>\n",
              "      <td>100.29</td>\n",
              "      <td>10.49</td>\n",
              "      <td>32.45</td>\n",
              "      <td>21.97</td>\n",
              "      <td>21.57</td>\n",
              "      <td>27.07</td>\n",
              "      <td>4.17</td>\n",
              "    </tr>\n",
              "    <tr>\n",
              "      <th>4</th>\n",
              "      <td>24130948</td>\n",
              "      <td>24130948</td>\n",
              "      <td>2DCAF57573AB01D4</td>\n",
              "      <td>docked_bike</td>\n",
              "      <td>2020-09-01 13:33:02</td>\n",
              "      <td>31100.0</td>\n",
              "      <td>414.0</td>\n",
              "      <td>1.0</td>\n",
              "      <td>9.0</td>\n",
              "      <td>2020.0</td>\n",
              "      <td>38.88481</td>\n",
              "      <td>-77.00609</td>\n",
              "      <td>5.66</td>\n",
              "      <td>15.29</td>\n",
              "      <td>90.53</td>\n",
              "      <td>100.68</td>\n",
              "      <td>7.61</td>\n",
              "      <td>26.50</td>\n",
              "      <td>18.89</td>\n",
              "      <td>20.75</td>\n",
              "      <td>22.39</td>\n",
              "      <td>2.11</td>\n",
              "    </tr>\n",
              "    <tr>\n",
              "      <th>...</th>\n",
              "      <td>...</td>\n",
              "      <td>...</td>\n",
              "      <td>...</td>\n",
              "      <td>...</td>\n",
              "      <td>...</td>\n",
              "      <td>...</td>\n",
              "      <td>...</td>\n",
              "      <td>...</td>\n",
              "      <td>...</td>\n",
              "      <td>...</td>\n",
              "      <td>...</td>\n",
              "      <td>...</td>\n",
              "      <td>...</td>\n",
              "      <td>...</td>\n",
              "      <td>...</td>\n",
              "      <td>...</td>\n",
              "      <td>...</td>\n",
              "      <td>...</td>\n",
              "      <td>...</td>\n",
              "      <td>...</td>\n",
              "      <td>...</td>\n",
              "      <td>...</td>\n",
              "    </tr>\n",
              "    <tr>\n",
              "      <th>243</th>\n",
              "      <td>4862624</td>\n",
              "      <td>4862624</td>\n",
              "      <td>422DA1CA6A01ED60</td>\n",
              "      <td>docked_bike</td>\n",
              "      <td>2020-08-30 11:31:07</td>\n",
              "      <td>31100.0</td>\n",
              "      <td>475.0</td>\n",
              "      <td>30.0</td>\n",
              "      <td>8.0</td>\n",
              "      <td>2020.0</td>\n",
              "      <td>38.88481</td>\n",
              "      <td>-77.00609</td>\n",
              "      <td>0.41</td>\n",
              "      <td>11.16</td>\n",
              "      <td>64.46</td>\n",
              "      <td>100.00</td>\n",
              "      <td>10.58</td>\n",
              "      <td>27.55</td>\n",
              "      <td>16.97</td>\n",
              "      <td>15.80</td>\n",
              "      <td>22.73</td>\n",
              "      <td>6.12</td>\n",
              "    </tr>\n",
              "    <tr>\n",
              "      <th>244</th>\n",
              "      <td>41338404</td>\n",
              "      <td>41338404</td>\n",
              "      <td>DE7A5E3ADAA0720D</td>\n",
              "      <td>docked_bike</td>\n",
              "      <td>2020-10-30 18:18:34</td>\n",
              "      <td>31100.0</td>\n",
              "      <td>1149.0</td>\n",
              "      <td>30.0</td>\n",
              "      <td>10.0</td>\n",
              "      <td>2020.0</td>\n",
              "      <td>38.88481</td>\n",
              "      <td>-77.00609</td>\n",
              "      <td>4.09</td>\n",
              "      <td>6.13</td>\n",
              "      <td>84.17</td>\n",
              "      <td>100.42</td>\n",
              "      <td>6.81</td>\n",
              "      <td>12.70</td>\n",
              "      <td>5.89</td>\n",
              "      <td>6.75</td>\n",
              "      <td>9.28</td>\n",
              "      <td>2.95</td>\n",
              "    </tr>\n",
              "    <tr>\n",
              "      <th>245</th>\n",
              "      <td>23686230</td>\n",
              "      <td>23686230</td>\n",
              "      <td>A4470CF74932D126</td>\n",
              "      <td>docked_bike</td>\n",
              "      <td>2020-09-30 21:25:06</td>\n",
              "      <td>31100.0</td>\n",
              "      <td>1570.0</td>\n",
              "      <td>30.0</td>\n",
              "      <td>9.0</td>\n",
              "      <td>2020.0</td>\n",
              "      <td>38.88481</td>\n",
              "      <td>-77.00609</td>\n",
              "      <td>3.33</td>\n",
              "      <td>8.70</td>\n",
              "      <td>78.07</td>\n",
              "      <td>99.95</td>\n",
              "      <td>8.75</td>\n",
              "      <td>20.64</td>\n",
              "      <td>11.89</td>\n",
              "      <td>11.89</td>\n",
              "      <td>15.66</td>\n",
              "      <td>3.26</td>\n",
              "    </tr>\n",
              "    <tr>\n",
              "      <th>246</th>\n",
              "      <td>21062594</td>\n",
              "      <td>21062594</td>\n",
              "      <td>17DA7848149C7BE3</td>\n",
              "      <td>docked_bike</td>\n",
              "      <td>2020-09-30 18:33:20</td>\n",
              "      <td>31100.0</td>\n",
              "      <td>765.0</td>\n",
              "      <td>30.0</td>\n",
              "      <td>9.0</td>\n",
              "      <td>2020.0</td>\n",
              "      <td>38.88481</td>\n",
              "      <td>-77.00609</td>\n",
              "      <td>3.33</td>\n",
              "      <td>8.70</td>\n",
              "      <td>78.07</td>\n",
              "      <td>99.95</td>\n",
              "      <td>8.75</td>\n",
              "      <td>20.64</td>\n",
              "      <td>11.89</td>\n",
              "      <td>11.89</td>\n",
              "      <td>15.66</td>\n",
              "      <td>3.26</td>\n",
              "    </tr>\n",
              "    <tr>\n",
              "      <th>247</th>\n",
              "      <td>41668282</td>\n",
              "      <td>41668282</td>\n",
              "      <td>19759AE1F49EDA88</td>\n",
              "      <td>docked_bike</td>\n",
              "      <td>2020-10-31 13:05:49</td>\n",
              "      <td>31100.0</td>\n",
              "      <td>2600.0</td>\n",
              "      <td>31.0</td>\n",
              "      <td>10.0</td>\n",
              "      <td>2020.0</td>\n",
              "      <td>38.88481</td>\n",
              "      <td>-77.00609</td>\n",
              "      <td>0.10</td>\n",
              "      <td>4.79</td>\n",
              "      <td>78.20</td>\n",
              "      <td>102.02</td>\n",
              "      <td>7.43</td>\n",
              "      <td>11.22</td>\n",
              "      <td>3.80</td>\n",
              "      <td>3.46</td>\n",
              "      <td>6.98</td>\n",
              "      <td>4.63</td>\n",
              "    </tr>\n",
              "  </tbody>\n",
              "</table>\n",
              "<p>248 rows × 22 columns</p>\n",
              "</div>"
            ],
            "text/plain": [
              "        index  Unnamed: 0           ride_id  ... T2MDEW    T2M  WS50M_RANGE\n",
              "0    39959869    39959869  366898A27EFA72A6  ...  12.84  16.09         4.20\n",
              "1    36597133    36597133  23AC78E5F83D0FE3  ...  20.75  22.39         2.11\n",
              "2    37399863    37399863  CF282FF39CC62DB8  ...  20.75  22.39         2.11\n",
              "3     5837606     5837606  568E56DAF2A642E0  ...  21.57  27.07         4.17\n",
              "4    24130948    24130948  2DCAF57573AB01D4  ...  20.75  22.39         2.11\n",
              "..        ...         ...               ...  ...    ...    ...          ...\n",
              "243   4862624     4862624  422DA1CA6A01ED60  ...  15.80  22.73         6.12\n",
              "244  41338404    41338404  DE7A5E3ADAA0720D  ...   6.75   9.28         2.95\n",
              "245  23686230    23686230  A4470CF74932D126  ...  11.89  15.66         3.26\n",
              "246  21062594    21062594  17DA7848149C7BE3  ...  11.89  15.66         3.26\n",
              "247  41668282    41668282  19759AE1F49EDA88  ...   3.46   6.98         4.63\n",
              "\n",
              "[248 rows x 22 columns]"
            ]
          },
          "metadata": {
            "tags": []
          },
          "execution_count": 98
        }
      ]
    },
    {
      "cell_type": "code",
      "metadata": {
        "id": "2crL3ateZ9AJ",
        "colab": {
          "base_uri": "https://localhost:8080/",
          "height": 195
        },
        "outputId": "04fbc40d-63e2-450f-877c-81986fab5654"
      },
      "source": [
        "s10 = df.query('start_station_id == 31233')\n",
        "s10 = s10.sort_values(by=['DY'])\n",
        "s10 = pd.DataFrame(s10)\n",
        "s10 = s10.reset_index()\n",
        "s10.head()"
      ],
      "execution_count": 99,
      "outputs": [
        {
          "output_type": "execute_result",
          "data": {
            "text/html": [
              "<div>\n",
              "<style scoped>\n",
              "    .dataframe tbody tr th:only-of-type {\n",
              "        vertical-align: middle;\n",
              "    }\n",
              "\n",
              "    .dataframe tbody tr th {\n",
              "        vertical-align: top;\n",
              "    }\n",
              "\n",
              "    .dataframe thead th {\n",
              "        text-align: right;\n",
              "    }\n",
              "</style>\n",
              "<table border=\"1\" class=\"dataframe\">\n",
              "  <thead>\n",
              "    <tr style=\"text-align: right;\">\n",
              "      <th></th>\n",
              "      <th>index</th>\n",
              "      <th>Unnamed: 0</th>\n",
              "      <th>ride_id</th>\n",
              "      <th>rideable_type</th>\n",
              "      <th>started_at</th>\n",
              "      <th>start_station_id</th>\n",
              "      <th>time_to_travel</th>\n",
              "      <th>DY</th>\n",
              "      <th>MO</th>\n",
              "      <th>YEAR</th>\n",
              "    </tr>\n",
              "  </thead>\n",
              "  <tbody>\n",
              "    <tr>\n",
              "      <th>0</th>\n",
              "      <td>37494555</td>\n",
              "      <td>37494555</td>\n",
              "      <td>2D0664BD2C7F5422</td>\n",
              "      <td>electric_bike</td>\n",
              "      <td>2020-09-01 14:46:22</td>\n",
              "      <td>31233.0</td>\n",
              "      <td>761.0</td>\n",
              "      <td>1.0</td>\n",
              "      <td>9.0</td>\n",
              "      <td>2020.0</td>\n",
              "    </tr>\n",
              "    <tr>\n",
              "      <th>1</th>\n",
              "      <td>40652617</td>\n",
              "      <td>40652617</td>\n",
              "      <td>697981EAFF0D7E90</td>\n",
              "      <td>docked_bike</td>\n",
              "      <td>2020-10-01 15:32:56</td>\n",
              "      <td>31233.0</td>\n",
              "      <td>487.0</td>\n",
              "      <td>1.0</td>\n",
              "      <td>10.0</td>\n",
              "      <td>2020.0</td>\n",
              "    </tr>\n",
              "    <tr>\n",
              "      <th>2</th>\n",
              "      <td>22152506</td>\n",
              "      <td>22152506</td>\n",
              "      <td>CCAE8ECC7860399C</td>\n",
              "      <td>docked_bike</td>\n",
              "      <td>2020-09-01 22:07:18</td>\n",
              "      <td>31233.0</td>\n",
              "      <td>1736.0</td>\n",
              "      <td>1.0</td>\n",
              "      <td>9.0</td>\n",
              "      <td>2020.0</td>\n",
              "    </tr>\n",
              "    <tr>\n",
              "      <th>3</th>\n",
              "      <td>39926205</td>\n",
              "      <td>39926205</td>\n",
              "      <td>6AD712B029974936</td>\n",
              "      <td>docked_bike</td>\n",
              "      <td>2020-10-01 14:49:22</td>\n",
              "      <td>31233.0</td>\n",
              "      <td>1531.0</td>\n",
              "      <td>1.0</td>\n",
              "      <td>10.0</td>\n",
              "      <td>2020.0</td>\n",
              "    </tr>\n",
              "    <tr>\n",
              "      <th>4</th>\n",
              "      <td>44176417</td>\n",
              "      <td>44176417</td>\n",
              "      <td>EDAC85D8DC5DEA56</td>\n",
              "      <td>docked_bike</td>\n",
              "      <td>2020-10-01 17:53:20</td>\n",
              "      <td>31233.0</td>\n",
              "      <td>1079.0</td>\n",
              "      <td>1.0</td>\n",
              "      <td>10.0</td>\n",
              "      <td>2020.0</td>\n",
              "    </tr>\n",
              "  </tbody>\n",
              "</table>\n",
              "</div>"
            ],
            "text/plain": [
              "      index  Unnamed: 0           ride_id  ...   DY    MO    YEAR\n",
              "0  37494555    37494555  2D0664BD2C7F5422  ...  1.0   9.0  2020.0\n",
              "1  40652617    40652617  697981EAFF0D7E90  ...  1.0  10.0  2020.0\n",
              "2  22152506    22152506  CCAE8ECC7860399C  ...  1.0   9.0  2020.0\n",
              "3  39926205    39926205  6AD712B029974936  ...  1.0  10.0  2020.0\n",
              "4  44176417    44176417  EDAC85D8DC5DEA56  ...  1.0  10.0  2020.0\n",
              "\n",
              "[5 rows x 10 columns]"
            ]
          },
          "metadata": {
            "tags": []
          },
          "execution_count": 99
        }
      ]
    },
    {
      "cell_type": "code",
      "metadata": {
        "id": "nlosRnWmzatX",
        "colab": {
          "base_uri": "https://localhost:8080/"
        },
        "outputId": "3bede49d-50be-4b29-8383-92c40e223562"
      },
      "source": [
        "s6 =s1.groupby([\"rideable_type\",\"DY\"])\n",
        "s6"
      ],
      "execution_count": 100,
      "outputs": [
        {
          "output_type": "execute_result",
          "data": {
            "text/plain": [
              "<pandas.core.groupby.generic.DataFrameGroupBy object at 0x7f32dd99d510>"
            ]
          },
          "metadata": {
            "tags": []
          },
          "execution_count": 100
        }
      ]
    },
    {
      "cell_type": "code",
      "metadata": {
        "colab": {
          "base_uri": "https://localhost:8080/",
          "height": 195
        },
        "id": "rli4sSwsROvX",
        "outputId": "58b7833d-854b-495a-b558-65e01ccfd949"
      },
      "source": [
        "s4 = temp.query('YEAR == 2020 and MO == 4')\n",
        "s4 = s4.sort_values(by=['MO'])\n",
        "s4.head()"
      ],
      "execution_count": 101,
      "outputs": [
        {
          "output_type": "execute_result",
          "data": {
            "text/html": [
              "<div>\n",
              "<style scoped>\n",
              "    .dataframe tbody tr th:only-of-type {\n",
              "        vertical-align: middle;\n",
              "    }\n",
              "\n",
              "    .dataframe tbody tr th {\n",
              "        vertical-align: top;\n",
              "    }\n",
              "\n",
              "    .dataframe thead th {\n",
              "        text-align: right;\n",
              "    }\n",
              "</style>\n",
              "<table border=\"1\" class=\"dataframe\">\n",
              "  <thead>\n",
              "    <tr style=\"text-align: right;\">\n",
              "      <th></th>\n",
              "      <th>LAT</th>\n",
              "      <th>LON</th>\n",
              "      <th>YEAR</th>\n",
              "      <th>MO</th>\n",
              "      <th>DY</th>\n",
              "      <th>PRECTOT</th>\n",
              "      <th>QV2M</th>\n",
              "      <th>RH2M</th>\n",
              "      <th>PS</th>\n",
              "      <th>T2M_RANGE</th>\n",
              "      <th>T2M_MAX</th>\n",
              "      <th>T2M_MIN</th>\n",
              "      <th>T2MDEW</th>\n",
              "      <th>T2M</th>\n",
              "      <th>WS50M_RANGE</th>\n",
              "    </tr>\n",
              "  </thead>\n",
              "  <tbody>\n",
              "    <tr>\n",
              "      <th>1917</th>\n",
              "      <td>38.88481</td>\n",
              "      <td>-77.00609</td>\n",
              "      <td>2020</td>\n",
              "      <td>4</td>\n",
              "      <td>1</td>\n",
              "      <td>0.68</td>\n",
              "      <td>5.14</td>\n",
              "      <td>76.67</td>\n",
              "      <td>100.00</td>\n",
              "      <td>8.51</td>\n",
              "      <td>12.53</td>\n",
              "      <td>4.01</td>\n",
              "      <td>4.20</td>\n",
              "      <td>8.02</td>\n",
              "      <td>3.69</td>\n",
              "    </tr>\n",
              "    <tr>\n",
              "      <th>1944</th>\n",
              "      <td>38.88481</td>\n",
              "      <td>-77.00609</td>\n",
              "      <td>2020</td>\n",
              "      <td>4</td>\n",
              "      <td>28</td>\n",
              "      <td>0.55</td>\n",
              "      <td>6.28</td>\n",
              "      <td>77.54</td>\n",
              "      <td>101.10</td>\n",
              "      <td>9.14</td>\n",
              "      <td>15.40</td>\n",
              "      <td>6.25</td>\n",
              "      <td>7.22</td>\n",
              "      <td>10.96</td>\n",
              "      <td>4.05</td>\n",
              "    </tr>\n",
              "    <tr>\n",
              "      <th>1943</th>\n",
              "      <td>38.88481</td>\n",
              "      <td>-77.00609</td>\n",
              "      <td>2020</td>\n",
              "      <td>4</td>\n",
              "      <td>27</td>\n",
              "      <td>1.12</td>\n",
              "      <td>5.39</td>\n",
              "      <td>72.23</td>\n",
              "      <td>100.64</td>\n",
              "      <td>9.56</td>\n",
              "      <td>15.10</td>\n",
              "      <td>5.54</td>\n",
              "      <td>4.97</td>\n",
              "      <td>9.68</td>\n",
              "      <td>4.03</td>\n",
              "    </tr>\n",
              "    <tr>\n",
              "      <th>1942</th>\n",
              "      <td>38.88481</td>\n",
              "      <td>-77.00609</td>\n",
              "      <td>2020</td>\n",
              "      <td>4</td>\n",
              "      <td>26</td>\n",
              "      <td>11.27</td>\n",
              "      <td>7.75</td>\n",
              "      <td>90.66</td>\n",
              "      <td>99.82</td>\n",
              "      <td>6.22</td>\n",
              "      <td>14.69</td>\n",
              "      <td>8.47</td>\n",
              "      <td>10.09</td>\n",
              "      <td>11.59</td>\n",
              "      <td>5.19</td>\n",
              "    </tr>\n",
              "    <tr>\n",
              "      <th>1941</th>\n",
              "      <td>38.88481</td>\n",
              "      <td>-77.00609</td>\n",
              "      <td>2020</td>\n",
              "      <td>4</td>\n",
              "      <td>25</td>\n",
              "      <td>3.82</td>\n",
              "      <td>7.28</td>\n",
              "      <td>83.55</td>\n",
              "      <td>100.59</td>\n",
              "      <td>8.58</td>\n",
              "      <td>16.52</td>\n",
              "      <td>7.94</td>\n",
              "      <td>9.30</td>\n",
              "      <td>11.99</td>\n",
              "      <td>4.42</td>\n",
              "    </tr>\n",
              "  </tbody>\n",
              "</table>\n",
              "</div>"
            ],
            "text/plain": [
              "           LAT       LON  YEAR  MO  ...  T2M_MIN  T2MDEW    T2M  WS50M_RANGE\n",
              "1917  38.88481 -77.00609  2020   4  ...     4.01    4.20   8.02         3.69\n",
              "1944  38.88481 -77.00609  2020   4  ...     6.25    7.22  10.96         4.05\n",
              "1943  38.88481 -77.00609  2020   4  ...     5.54    4.97   9.68         4.03\n",
              "1942  38.88481 -77.00609  2020   4  ...     8.47   10.09  11.59         5.19\n",
              "1941  38.88481 -77.00609  2020   4  ...     7.94    9.30  11.99         4.42\n",
              "\n",
              "[5 rows x 15 columns]"
            ]
          },
          "metadata": {
            "tags": []
          },
          "execution_count": 101
        }
      ]
    },
    {
      "cell_type": "code",
      "metadata": {
        "colab": {
          "base_uri": "https://localhost:8080/",
          "height": 455
        },
        "id": "sLuJhVyky92H",
        "outputId": "5f8bf25d-45bb-4cf1-bb61-05ff421e773b"
      },
      "source": [
        "sa =result.groupby([\"DY\",\"MO\",\"PS\",\"T2M_RANGE\",\"T2M_MAX\",\"T2M_MIN\",\"RH2M\",\"rideable_type\",\"WS50M_RANGE\",\"T2MDEW\",\"T2M\",\"QV2M\"]).size()\n",
        "s5 = []\n",
        "s6 = []\n",
        "sa = pd.DataFrame(sa,columns=['count'])\n",
        "modified = sa.reset_index()\n",
        "a = 0\n",
        "for i in range(len(modified)):\n",
        "  if(modified['rideable_type'][i] == 'docked_bike'):\n",
        "    s5.append(modified['count'][i])\n",
        "    s6.append(a)\n",
        "  else:\n",
        "    s6.append(modified['count'][i])\n",
        "    s5.append(a)\n",
        "print(s6)\n",
        "print(s5)\n",
        "sb = s1[['DY','MO','time_to_travel']]\n",
        "modified['docked_b'] = s5\n",
        "modified['electric_b'] = s6\n",
        "#modified = pd.merge(modified, sb, how=\"left\", on=[\"DY\", \"MO\"])\n",
        "#sb\n",
        "modified"
      ],
      "execution_count": 102,
      "outputs": [
        {
          "output_type": "stream",
          "text": [
            "[0, 2, 0, 2, 0, 0, 0, 3, 0, 0, 1, 0, 1, 0, 0, 1, 2, 0, 0, 2, 0, 2, 0, 0, 2, 0, 1, 0, 0, 3, 0, 2, 0, 0, 3, 0, 0, 0, 0, 0, 1, 0, 0, 2, 0, 2, 0, 0, 0, 0, 0, 2, 0, 0, 2, 0, 0, 0, 4, 0, 2, 0, 3, 0, 0, 4, 0, 1, 0, 0, 1, 0, 0, 0, 1, 0, 0, 2, 0, 0, 3, 0, 0, 0, 2, 0, 2, 0, 0, 3, 3, 3, 0, 1, 0, 0, 1, 0, 2, 0, 2, 0, 0, 2, 0, 0, 0, 1, 0, 0]\n",
            "[2, 0, 7, 0, 1, 1, 1, 0, 1, 2, 0, 1, 0, 4, 1, 0, 0, 2, 3, 0, 1, 0, 5, 3, 0, 1, 0, 2, 2, 0, 6, 0, 1, 3, 0, 3, 2, 1, 2, 1, 0, 3, 4, 0, 1, 0, 9, 1, 2, 2, 5, 0, 3, 1, 0, 3, 5, 1, 0, 1, 0, 2, 0, 3, 5, 0, 4, 0, 1, 1, 0, 1, 2, 2, 0, 1, 2, 0, 1, 3, 0, 2, 1, 3, 0, 3, 0, 2, 1, 0, 0, 0, 1, 0, 1, 4, 0, 2, 0, 5, 0, 3, 1, 0, 2, 3, 5, 0, 1, 1]\n"
          ],
          "name": "stdout"
        },
        {
          "output_type": "execute_result",
          "data": {
            "text/html": [
              "<div>\n",
              "<style scoped>\n",
              "    .dataframe tbody tr th:only-of-type {\n",
              "        vertical-align: middle;\n",
              "    }\n",
              "\n",
              "    .dataframe tbody tr th {\n",
              "        vertical-align: top;\n",
              "    }\n",
              "\n",
              "    .dataframe thead th {\n",
              "        text-align: right;\n",
              "    }\n",
              "</style>\n",
              "<table border=\"1\" class=\"dataframe\">\n",
              "  <thead>\n",
              "    <tr style=\"text-align: right;\">\n",
              "      <th></th>\n",
              "      <th>DY</th>\n",
              "      <th>MO</th>\n",
              "      <th>PS</th>\n",
              "      <th>T2M_RANGE</th>\n",
              "      <th>T2M_MAX</th>\n",
              "      <th>T2M_MIN</th>\n",
              "      <th>RH2M</th>\n",
              "      <th>rideable_type</th>\n",
              "      <th>WS50M_RANGE</th>\n",
              "      <th>T2MDEW</th>\n",
              "      <th>T2M</th>\n",
              "      <th>QV2M</th>\n",
              "      <th>count</th>\n",
              "      <th>docked_b</th>\n",
              "      <th>electric_b</th>\n",
              "    </tr>\n",
              "  </thead>\n",
              "  <tbody>\n",
              "    <tr>\n",
              "      <th>0</th>\n",
              "      <td>1.0</td>\n",
              "      <td>8.0</td>\n",
              "      <td>100.29</td>\n",
              "      <td>10.49</td>\n",
              "      <td>32.45</td>\n",
              "      <td>21.97</td>\n",
              "      <td>71.38</td>\n",
              "      <td>docked_bike</td>\n",
              "      <td>4.17</td>\n",
              "      <td>21.57</td>\n",
              "      <td>27.07</td>\n",
              "      <td>16.02</td>\n",
              "      <td>2</td>\n",
              "      <td>2</td>\n",
              "      <td>0</td>\n",
              "    </tr>\n",
              "    <tr>\n",
              "      <th>1</th>\n",
              "      <td>1.0</td>\n",
              "      <td>8.0</td>\n",
              "      <td>100.29</td>\n",
              "      <td>10.49</td>\n",
              "      <td>32.45</td>\n",
              "      <td>21.97</td>\n",
              "      <td>71.38</td>\n",
              "      <td>electric_bike</td>\n",
              "      <td>4.17</td>\n",
              "      <td>21.57</td>\n",
              "      <td>27.07</td>\n",
              "      <td>16.02</td>\n",
              "      <td>2</td>\n",
              "      <td>0</td>\n",
              "      <td>2</td>\n",
              "    </tr>\n",
              "    <tr>\n",
              "      <th>2</th>\n",
              "      <td>1.0</td>\n",
              "      <td>9.0</td>\n",
              "      <td>100.68</td>\n",
              "      <td>7.61</td>\n",
              "      <td>26.50</td>\n",
              "      <td>18.89</td>\n",
              "      <td>90.53</td>\n",
              "      <td>docked_bike</td>\n",
              "      <td>2.11</td>\n",
              "      <td>20.75</td>\n",
              "      <td>22.39</td>\n",
              "      <td>15.29</td>\n",
              "      <td>7</td>\n",
              "      <td>7</td>\n",
              "      <td>0</td>\n",
              "    </tr>\n",
              "    <tr>\n",
              "      <th>3</th>\n",
              "      <td>1.0</td>\n",
              "      <td>9.0</td>\n",
              "      <td>100.68</td>\n",
              "      <td>7.61</td>\n",
              "      <td>26.50</td>\n",
              "      <td>18.89</td>\n",
              "      <td>90.53</td>\n",
              "      <td>electric_bike</td>\n",
              "      <td>2.11</td>\n",
              "      <td>20.75</td>\n",
              "      <td>22.39</td>\n",
              "      <td>15.29</td>\n",
              "      <td>2</td>\n",
              "      <td>0</td>\n",
              "      <td>2</td>\n",
              "    </tr>\n",
              "    <tr>\n",
              "      <th>4</th>\n",
              "      <td>1.0</td>\n",
              "      <td>10.0</td>\n",
              "      <td>100.35</td>\n",
              "      <td>10.66</td>\n",
              "      <td>21.91</td>\n",
              "      <td>11.24</td>\n",
              "      <td>80.90</td>\n",
              "      <td>docked_bike</td>\n",
              "      <td>4.20</td>\n",
              "      <td>12.84</td>\n",
              "      <td>16.09</td>\n",
              "      <td>9.23</td>\n",
              "      <td>1</td>\n",
              "      <td>1</td>\n",
              "      <td>0</td>\n",
              "    </tr>\n",
              "    <tr>\n",
              "      <th>...</th>\n",
              "      <td>...</td>\n",
              "      <td>...</td>\n",
              "      <td>...</td>\n",
              "      <td>...</td>\n",
              "      <td>...</td>\n",
              "      <td>...</td>\n",
              "      <td>...</td>\n",
              "      <td>...</td>\n",
              "      <td>...</td>\n",
              "      <td>...</td>\n",
              "      <td>...</td>\n",
              "      <td>...</td>\n",
              "      <td>...</td>\n",
              "      <td>...</td>\n",
              "      <td>...</td>\n",
              "    </tr>\n",
              "    <tr>\n",
              "      <th>105</th>\n",
              "      <td>30.0</td>\n",
              "      <td>8.0</td>\n",
              "      <td>100.00</td>\n",
              "      <td>10.58</td>\n",
              "      <td>27.55</td>\n",
              "      <td>16.97</td>\n",
              "      <td>64.46</td>\n",
              "      <td>docked_bike</td>\n",
              "      <td>6.12</td>\n",
              "      <td>15.80</td>\n",
              "      <td>22.73</td>\n",
              "      <td>11.16</td>\n",
              "      <td>3</td>\n",
              "      <td>3</td>\n",
              "      <td>0</td>\n",
              "    </tr>\n",
              "    <tr>\n",
              "      <th>106</th>\n",
              "      <td>30.0</td>\n",
              "      <td>9.0</td>\n",
              "      <td>99.95</td>\n",
              "      <td>8.75</td>\n",
              "      <td>20.64</td>\n",
              "      <td>11.89</td>\n",
              "      <td>78.07</td>\n",
              "      <td>docked_bike</td>\n",
              "      <td>3.26</td>\n",
              "      <td>11.89</td>\n",
              "      <td>15.66</td>\n",
              "      <td>8.70</td>\n",
              "      <td>5</td>\n",
              "      <td>5</td>\n",
              "      <td>0</td>\n",
              "    </tr>\n",
              "    <tr>\n",
              "      <th>107</th>\n",
              "      <td>30.0</td>\n",
              "      <td>9.0</td>\n",
              "      <td>99.95</td>\n",
              "      <td>8.75</td>\n",
              "      <td>20.64</td>\n",
              "      <td>11.89</td>\n",
              "      <td>78.07</td>\n",
              "      <td>electric_bike</td>\n",
              "      <td>3.26</td>\n",
              "      <td>11.89</td>\n",
              "      <td>15.66</td>\n",
              "      <td>8.70</td>\n",
              "      <td>1</td>\n",
              "      <td>0</td>\n",
              "      <td>1</td>\n",
              "    </tr>\n",
              "    <tr>\n",
              "      <th>108</th>\n",
              "      <td>30.0</td>\n",
              "      <td>10.0</td>\n",
              "      <td>100.42</td>\n",
              "      <td>6.81</td>\n",
              "      <td>12.70</td>\n",
              "      <td>5.89</td>\n",
              "      <td>84.17</td>\n",
              "      <td>docked_bike</td>\n",
              "      <td>2.95</td>\n",
              "      <td>6.75</td>\n",
              "      <td>9.28</td>\n",
              "      <td>6.13</td>\n",
              "      <td>1</td>\n",
              "      <td>1</td>\n",
              "      <td>0</td>\n",
              "    </tr>\n",
              "    <tr>\n",
              "      <th>109</th>\n",
              "      <td>31.0</td>\n",
              "      <td>10.0</td>\n",
              "      <td>102.02</td>\n",
              "      <td>7.43</td>\n",
              "      <td>11.22</td>\n",
              "      <td>3.80</td>\n",
              "      <td>78.20</td>\n",
              "      <td>docked_bike</td>\n",
              "      <td>4.63</td>\n",
              "      <td>3.46</td>\n",
              "      <td>6.98</td>\n",
              "      <td>4.79</td>\n",
              "      <td>1</td>\n",
              "      <td>1</td>\n",
              "      <td>0</td>\n",
              "    </tr>\n",
              "  </tbody>\n",
              "</table>\n",
              "<p>110 rows × 15 columns</p>\n",
              "</div>"
            ],
            "text/plain": [
              "       DY    MO      PS  T2M_RANGE  ...   QV2M  count  docked_b electric_b\n",
              "0     1.0   8.0  100.29      10.49  ...  16.02      2         2          0\n",
              "1     1.0   8.0  100.29      10.49  ...  16.02      2         0          2\n",
              "2     1.0   9.0  100.68       7.61  ...  15.29      7         7          0\n",
              "3     1.0   9.0  100.68       7.61  ...  15.29      2         0          2\n",
              "4     1.0  10.0  100.35      10.66  ...   9.23      1         1          0\n",
              "..    ...   ...     ...        ...  ...    ...    ...       ...        ...\n",
              "105  30.0   8.0  100.00      10.58  ...  11.16      3         3          0\n",
              "106  30.0   9.0   99.95       8.75  ...   8.70      5         5          0\n",
              "107  30.0   9.0   99.95       8.75  ...   8.70      1         0          1\n",
              "108  30.0  10.0  100.42       6.81  ...   6.13      1         1          0\n",
              "109  31.0  10.0  102.02       7.43  ...   4.79      1         1          0\n",
              "\n",
              "[110 rows x 15 columns]"
            ]
          },
          "metadata": {
            "tags": []
          },
          "execution_count": 102
        }
      ]
    },
    {
      "cell_type": "code",
      "metadata": {
        "colab": {
          "base_uri": "https://localhost:8080/",
          "height": 402
        },
        "id": "BA0tpEssfDUL",
        "outputId": "0fa58dfe-ecf3-4f18-ebfa-938f6c07de23"
      },
      "source": [
        " modified.reset_index(inplace=True, drop=True)\n",
        "modified.sort_values(['DY', 'MO'], ascending=[True, False])\n"
      ],
      "execution_count": 103,
      "outputs": [
        {
          "output_type": "execute_result",
          "data": {
            "text/html": [
              "<div>\n",
              "<style scoped>\n",
              "    .dataframe tbody tr th:only-of-type {\n",
              "        vertical-align: middle;\n",
              "    }\n",
              "\n",
              "    .dataframe tbody tr th {\n",
              "        vertical-align: top;\n",
              "    }\n",
              "\n",
              "    .dataframe thead th {\n",
              "        text-align: right;\n",
              "    }\n",
              "</style>\n",
              "<table border=\"1\" class=\"dataframe\">\n",
              "  <thead>\n",
              "    <tr style=\"text-align: right;\">\n",
              "      <th></th>\n",
              "      <th>DY</th>\n",
              "      <th>MO</th>\n",
              "      <th>PS</th>\n",
              "      <th>T2M_RANGE</th>\n",
              "      <th>T2M_MAX</th>\n",
              "      <th>T2M_MIN</th>\n",
              "      <th>RH2M</th>\n",
              "      <th>rideable_type</th>\n",
              "      <th>WS50M_RANGE</th>\n",
              "      <th>T2MDEW</th>\n",
              "      <th>T2M</th>\n",
              "      <th>QV2M</th>\n",
              "      <th>count</th>\n",
              "      <th>docked_b</th>\n",
              "      <th>electric_b</th>\n",
              "    </tr>\n",
              "  </thead>\n",
              "  <tbody>\n",
              "    <tr>\n",
              "      <th>4</th>\n",
              "      <td>1.0</td>\n",
              "      <td>10.0</td>\n",
              "      <td>100.35</td>\n",
              "      <td>10.66</td>\n",
              "      <td>21.91</td>\n",
              "      <td>11.24</td>\n",
              "      <td>80.90</td>\n",
              "      <td>docked_bike</td>\n",
              "      <td>4.20</td>\n",
              "      <td>12.84</td>\n",
              "      <td>16.09</td>\n",
              "      <td>9.23</td>\n",
              "      <td>1</td>\n",
              "      <td>1</td>\n",
              "      <td>0</td>\n",
              "    </tr>\n",
              "    <tr>\n",
              "      <th>2</th>\n",
              "      <td>1.0</td>\n",
              "      <td>9.0</td>\n",
              "      <td>100.68</td>\n",
              "      <td>7.61</td>\n",
              "      <td>26.50</td>\n",
              "      <td>18.89</td>\n",
              "      <td>90.53</td>\n",
              "      <td>docked_bike</td>\n",
              "      <td>2.11</td>\n",
              "      <td>20.75</td>\n",
              "      <td>22.39</td>\n",
              "      <td>15.29</td>\n",
              "      <td>7</td>\n",
              "      <td>7</td>\n",
              "      <td>0</td>\n",
              "    </tr>\n",
              "    <tr>\n",
              "      <th>3</th>\n",
              "      <td>1.0</td>\n",
              "      <td>9.0</td>\n",
              "      <td>100.68</td>\n",
              "      <td>7.61</td>\n",
              "      <td>26.50</td>\n",
              "      <td>18.89</td>\n",
              "      <td>90.53</td>\n",
              "      <td>electric_bike</td>\n",
              "      <td>2.11</td>\n",
              "      <td>20.75</td>\n",
              "      <td>22.39</td>\n",
              "      <td>15.29</td>\n",
              "      <td>2</td>\n",
              "      <td>0</td>\n",
              "      <td>2</td>\n",
              "    </tr>\n",
              "    <tr>\n",
              "      <th>0</th>\n",
              "      <td>1.0</td>\n",
              "      <td>8.0</td>\n",
              "      <td>100.29</td>\n",
              "      <td>10.49</td>\n",
              "      <td>32.45</td>\n",
              "      <td>21.97</td>\n",
              "      <td>71.38</td>\n",
              "      <td>docked_bike</td>\n",
              "      <td>4.17</td>\n",
              "      <td>21.57</td>\n",
              "      <td>27.07</td>\n",
              "      <td>16.02</td>\n",
              "      <td>2</td>\n",
              "      <td>2</td>\n",
              "      <td>0</td>\n",
              "    </tr>\n",
              "    <tr>\n",
              "      <th>1</th>\n",
              "      <td>1.0</td>\n",
              "      <td>8.0</td>\n",
              "      <td>100.29</td>\n",
              "      <td>10.49</td>\n",
              "      <td>32.45</td>\n",
              "      <td>21.97</td>\n",
              "      <td>71.38</td>\n",
              "      <td>electric_bike</td>\n",
              "      <td>4.17</td>\n",
              "      <td>21.57</td>\n",
              "      <td>27.07</td>\n",
              "      <td>16.02</td>\n",
              "      <td>2</td>\n",
              "      <td>0</td>\n",
              "      <td>2</td>\n",
              "    </tr>\n",
              "    <tr>\n",
              "      <th>...</th>\n",
              "      <td>...</td>\n",
              "      <td>...</td>\n",
              "      <td>...</td>\n",
              "      <td>...</td>\n",
              "      <td>...</td>\n",
              "      <td>...</td>\n",
              "      <td>...</td>\n",
              "      <td>...</td>\n",
              "      <td>...</td>\n",
              "      <td>...</td>\n",
              "      <td>...</td>\n",
              "      <td>...</td>\n",
              "      <td>...</td>\n",
              "      <td>...</td>\n",
              "      <td>...</td>\n",
              "    </tr>\n",
              "    <tr>\n",
              "      <th>108</th>\n",
              "      <td>30.0</td>\n",
              "      <td>10.0</td>\n",
              "      <td>100.42</td>\n",
              "      <td>6.81</td>\n",
              "      <td>12.70</td>\n",
              "      <td>5.89</td>\n",
              "      <td>84.17</td>\n",
              "      <td>docked_bike</td>\n",
              "      <td>2.95</td>\n",
              "      <td>6.75</td>\n",
              "      <td>9.28</td>\n",
              "      <td>6.13</td>\n",
              "      <td>1</td>\n",
              "      <td>1</td>\n",
              "      <td>0</td>\n",
              "    </tr>\n",
              "    <tr>\n",
              "      <th>106</th>\n",
              "      <td>30.0</td>\n",
              "      <td>9.0</td>\n",
              "      <td>99.95</td>\n",
              "      <td>8.75</td>\n",
              "      <td>20.64</td>\n",
              "      <td>11.89</td>\n",
              "      <td>78.07</td>\n",
              "      <td>docked_bike</td>\n",
              "      <td>3.26</td>\n",
              "      <td>11.89</td>\n",
              "      <td>15.66</td>\n",
              "      <td>8.70</td>\n",
              "      <td>5</td>\n",
              "      <td>5</td>\n",
              "      <td>0</td>\n",
              "    </tr>\n",
              "    <tr>\n",
              "      <th>107</th>\n",
              "      <td>30.0</td>\n",
              "      <td>9.0</td>\n",
              "      <td>99.95</td>\n",
              "      <td>8.75</td>\n",
              "      <td>20.64</td>\n",
              "      <td>11.89</td>\n",
              "      <td>78.07</td>\n",
              "      <td>electric_bike</td>\n",
              "      <td>3.26</td>\n",
              "      <td>11.89</td>\n",
              "      <td>15.66</td>\n",
              "      <td>8.70</td>\n",
              "      <td>1</td>\n",
              "      <td>0</td>\n",
              "      <td>1</td>\n",
              "    </tr>\n",
              "    <tr>\n",
              "      <th>105</th>\n",
              "      <td>30.0</td>\n",
              "      <td>8.0</td>\n",
              "      <td>100.00</td>\n",
              "      <td>10.58</td>\n",
              "      <td>27.55</td>\n",
              "      <td>16.97</td>\n",
              "      <td>64.46</td>\n",
              "      <td>docked_bike</td>\n",
              "      <td>6.12</td>\n",
              "      <td>15.80</td>\n",
              "      <td>22.73</td>\n",
              "      <td>11.16</td>\n",
              "      <td>3</td>\n",
              "      <td>3</td>\n",
              "      <td>0</td>\n",
              "    </tr>\n",
              "    <tr>\n",
              "      <th>109</th>\n",
              "      <td>31.0</td>\n",
              "      <td>10.0</td>\n",
              "      <td>102.02</td>\n",
              "      <td>7.43</td>\n",
              "      <td>11.22</td>\n",
              "      <td>3.80</td>\n",
              "      <td>78.20</td>\n",
              "      <td>docked_bike</td>\n",
              "      <td>4.63</td>\n",
              "      <td>3.46</td>\n",
              "      <td>6.98</td>\n",
              "      <td>4.79</td>\n",
              "      <td>1</td>\n",
              "      <td>1</td>\n",
              "      <td>0</td>\n",
              "    </tr>\n",
              "  </tbody>\n",
              "</table>\n",
              "<p>110 rows × 15 columns</p>\n",
              "</div>"
            ],
            "text/plain": [
              "       DY    MO      PS  T2M_RANGE  ...   QV2M  count  docked_b electric_b\n",
              "4     1.0  10.0  100.35      10.66  ...   9.23      1         1          0\n",
              "2     1.0   9.0  100.68       7.61  ...  15.29      7         7          0\n",
              "3     1.0   9.0  100.68       7.61  ...  15.29      2         0          2\n",
              "0     1.0   8.0  100.29      10.49  ...  16.02      2         2          0\n",
              "1     1.0   8.0  100.29      10.49  ...  16.02      2         0          2\n",
              "..    ...   ...     ...        ...  ...    ...    ...       ...        ...\n",
              "108  30.0  10.0  100.42       6.81  ...   6.13      1         1          0\n",
              "106  30.0   9.0   99.95       8.75  ...   8.70      5         5          0\n",
              "107  30.0   9.0   99.95       8.75  ...   8.70      1         0          1\n",
              "105  30.0   8.0  100.00      10.58  ...  11.16      3         3          0\n",
              "109  31.0  10.0  102.02       7.43  ...   4.79      1         1          0\n",
              "\n",
              "[110 rows x 15 columns]"
            ]
          },
          "metadata": {
            "tags": []
          },
          "execution_count": 103
        }
      ]
    },
    {
      "cell_type": "code",
      "metadata": {
        "colab": {
          "base_uri": "https://localhost:8080/",
          "height": 402
        },
        "id": "7nO-1tHvkS-u",
        "outputId": "37b13330-8600-48cd-cfd8-784b9ee6ee79"
      },
      "source": [
        "df1 = modified[modified['rideable_type'] == 'docked_bike']\n",
        "df1 = df1.drop(['rideable_type','count', 'electric_b'], axis=1)\n",
        "df1"
      ],
      "execution_count": 104,
      "outputs": [
        {
          "output_type": "execute_result",
          "data": {
            "text/html": [
              "<div>\n",
              "<style scoped>\n",
              "    .dataframe tbody tr th:only-of-type {\n",
              "        vertical-align: middle;\n",
              "    }\n",
              "\n",
              "    .dataframe tbody tr th {\n",
              "        vertical-align: top;\n",
              "    }\n",
              "\n",
              "    .dataframe thead th {\n",
              "        text-align: right;\n",
              "    }\n",
              "</style>\n",
              "<table border=\"1\" class=\"dataframe\">\n",
              "  <thead>\n",
              "    <tr style=\"text-align: right;\">\n",
              "      <th></th>\n",
              "      <th>DY</th>\n",
              "      <th>MO</th>\n",
              "      <th>PS</th>\n",
              "      <th>T2M_RANGE</th>\n",
              "      <th>T2M_MAX</th>\n",
              "      <th>T2M_MIN</th>\n",
              "      <th>RH2M</th>\n",
              "      <th>WS50M_RANGE</th>\n",
              "      <th>T2MDEW</th>\n",
              "      <th>T2M</th>\n",
              "      <th>QV2M</th>\n",
              "      <th>docked_b</th>\n",
              "    </tr>\n",
              "  </thead>\n",
              "  <tbody>\n",
              "    <tr>\n",
              "      <th>0</th>\n",
              "      <td>1.0</td>\n",
              "      <td>8.0</td>\n",
              "      <td>100.29</td>\n",
              "      <td>10.49</td>\n",
              "      <td>32.45</td>\n",
              "      <td>21.97</td>\n",
              "      <td>71.38</td>\n",
              "      <td>4.17</td>\n",
              "      <td>21.57</td>\n",
              "      <td>27.07</td>\n",
              "      <td>16.02</td>\n",
              "      <td>2</td>\n",
              "    </tr>\n",
              "    <tr>\n",
              "      <th>2</th>\n",
              "      <td>1.0</td>\n",
              "      <td>9.0</td>\n",
              "      <td>100.68</td>\n",
              "      <td>7.61</td>\n",
              "      <td>26.50</td>\n",
              "      <td>18.89</td>\n",
              "      <td>90.53</td>\n",
              "      <td>2.11</td>\n",
              "      <td>20.75</td>\n",
              "      <td>22.39</td>\n",
              "      <td>15.29</td>\n",
              "      <td>7</td>\n",
              "    </tr>\n",
              "    <tr>\n",
              "      <th>4</th>\n",
              "      <td>1.0</td>\n",
              "      <td>10.0</td>\n",
              "      <td>100.35</td>\n",
              "      <td>10.66</td>\n",
              "      <td>21.91</td>\n",
              "      <td>11.24</td>\n",
              "      <td>80.90</td>\n",
              "      <td>4.20</td>\n",
              "      <td>12.84</td>\n",
              "      <td>16.09</td>\n",
              "      <td>9.23</td>\n",
              "      <td>1</td>\n",
              "    </tr>\n",
              "    <tr>\n",
              "      <th>5</th>\n",
              "      <td>2.0</td>\n",
              "      <td>8.0</td>\n",
              "      <td>100.21</td>\n",
              "      <td>11.56</td>\n",
              "      <td>34.91</td>\n",
              "      <td>23.35</td>\n",
              "      <td>64.55</td>\n",
              "      <td>4.67</td>\n",
              "      <td>21.56</td>\n",
              "      <td>28.76</td>\n",
              "      <td>15.99</td>\n",
              "      <td>1</td>\n",
              "    </tr>\n",
              "    <tr>\n",
              "      <th>6</th>\n",
              "      <td>2.0</td>\n",
              "      <td>9.0</td>\n",
              "      <td>100.18</td>\n",
              "      <td>8.17</td>\n",
              "      <td>30.00</td>\n",
              "      <td>21.83</td>\n",
              "      <td>87.85</td>\n",
              "      <td>1.28</td>\n",
              "      <td>23.46</td>\n",
              "      <td>25.62</td>\n",
              "      <td>18.13</td>\n",
              "      <td>1</td>\n",
              "    </tr>\n",
              "    <tr>\n",
              "      <th>...</th>\n",
              "      <td>...</td>\n",
              "      <td>...</td>\n",
              "      <td>...</td>\n",
              "      <td>...</td>\n",
              "      <td>...</td>\n",
              "      <td>...</td>\n",
              "      <td>...</td>\n",
              "      <td>...</td>\n",
              "      <td>...</td>\n",
              "      <td>...</td>\n",
              "      <td>...</td>\n",
              "      <td>...</td>\n",
              "    </tr>\n",
              "    <tr>\n",
              "      <th>104</th>\n",
              "      <td>29.0</td>\n",
              "      <td>9.0</td>\n",
              "      <td>99.85</td>\n",
              "      <td>12.49</td>\n",
              "      <td>26.54</td>\n",
              "      <td>14.06</td>\n",
              "      <td>89.15</td>\n",
              "      <td>4.77</td>\n",
              "      <td>18.71</td>\n",
              "      <td>20.57</td>\n",
              "      <td>13.57</td>\n",
              "      <td>2</td>\n",
              "    </tr>\n",
              "    <tr>\n",
              "      <th>105</th>\n",
              "      <td>30.0</td>\n",
              "      <td>8.0</td>\n",
              "      <td>100.00</td>\n",
              "      <td>10.58</td>\n",
              "      <td>27.55</td>\n",
              "      <td>16.97</td>\n",
              "      <td>64.46</td>\n",
              "      <td>6.12</td>\n",
              "      <td>15.80</td>\n",
              "      <td>22.73</td>\n",
              "      <td>11.16</td>\n",
              "      <td>3</td>\n",
              "    </tr>\n",
              "    <tr>\n",
              "      <th>106</th>\n",
              "      <td>30.0</td>\n",
              "      <td>9.0</td>\n",
              "      <td>99.95</td>\n",
              "      <td>8.75</td>\n",
              "      <td>20.64</td>\n",
              "      <td>11.89</td>\n",
              "      <td>78.07</td>\n",
              "      <td>3.26</td>\n",
              "      <td>11.89</td>\n",
              "      <td>15.66</td>\n",
              "      <td>8.70</td>\n",
              "      <td>5</td>\n",
              "    </tr>\n",
              "    <tr>\n",
              "      <th>108</th>\n",
              "      <td>30.0</td>\n",
              "      <td>10.0</td>\n",
              "      <td>100.42</td>\n",
              "      <td>6.81</td>\n",
              "      <td>12.70</td>\n",
              "      <td>5.89</td>\n",
              "      <td>84.17</td>\n",
              "      <td>2.95</td>\n",
              "      <td>6.75</td>\n",
              "      <td>9.28</td>\n",
              "      <td>6.13</td>\n",
              "      <td>1</td>\n",
              "    </tr>\n",
              "    <tr>\n",
              "      <th>109</th>\n",
              "      <td>31.0</td>\n",
              "      <td>10.0</td>\n",
              "      <td>102.02</td>\n",
              "      <td>7.43</td>\n",
              "      <td>11.22</td>\n",
              "      <td>3.80</td>\n",
              "      <td>78.20</td>\n",
              "      <td>4.63</td>\n",
              "      <td>3.46</td>\n",
              "      <td>6.98</td>\n",
              "      <td>4.79</td>\n",
              "      <td>1</td>\n",
              "    </tr>\n",
              "  </tbody>\n",
              "</table>\n",
              "<p>71 rows × 12 columns</p>\n",
              "</div>"
            ],
            "text/plain": [
              "       DY    MO      PS  T2M_RANGE  ...  T2MDEW    T2M   QV2M  docked_b\n",
              "0     1.0   8.0  100.29      10.49  ...   21.57  27.07  16.02         2\n",
              "2     1.0   9.0  100.68       7.61  ...   20.75  22.39  15.29         7\n",
              "4     1.0  10.0  100.35      10.66  ...   12.84  16.09   9.23         1\n",
              "5     2.0   8.0  100.21      11.56  ...   21.56  28.76  15.99         1\n",
              "6     2.0   9.0  100.18       8.17  ...   23.46  25.62  18.13         1\n",
              "..    ...   ...     ...        ...  ...     ...    ...    ...       ...\n",
              "104  29.0   9.0   99.85      12.49  ...   18.71  20.57  13.57         2\n",
              "105  30.0   8.0  100.00      10.58  ...   15.80  22.73  11.16         3\n",
              "106  30.0   9.0   99.95       8.75  ...   11.89  15.66   8.70         5\n",
              "108  30.0  10.0  100.42       6.81  ...    6.75   9.28   6.13         1\n",
              "109  31.0  10.0  102.02       7.43  ...    3.46   6.98   4.79         1\n",
              "\n",
              "[71 rows x 12 columns]"
            ]
          },
          "metadata": {
            "tags": []
          },
          "execution_count": 104
        }
      ]
    },
    {
      "cell_type": "code",
      "metadata": {
        "colab": {
          "base_uri": "https://localhost:8080/",
          "height": 1000
        },
        "id": "8xmydOfYkh_h",
        "outputId": "98315781-d976-4047-ea44-89245efa0349"
      },
      "source": [
        "df2 = modified[modified['rideable_type'] == 'electric_bike']\n",
        "df2 = df2.drop(['rideable_type','count', 'docked_b'], axis=1)\n",
        "df2"
      ],
      "execution_count": 105,
      "outputs": [
        {
          "output_type": "execute_result",
          "data": {
            "text/html": [
              "<div>\n",
              "<style scoped>\n",
              "    .dataframe tbody tr th:only-of-type {\n",
              "        vertical-align: middle;\n",
              "    }\n",
              "\n",
              "    .dataframe tbody tr th {\n",
              "        vertical-align: top;\n",
              "    }\n",
              "\n",
              "    .dataframe thead th {\n",
              "        text-align: right;\n",
              "    }\n",
              "</style>\n",
              "<table border=\"1\" class=\"dataframe\">\n",
              "  <thead>\n",
              "    <tr style=\"text-align: right;\">\n",
              "      <th></th>\n",
              "      <th>DY</th>\n",
              "      <th>MO</th>\n",
              "      <th>PS</th>\n",
              "      <th>T2M_RANGE</th>\n",
              "      <th>T2M_MAX</th>\n",
              "      <th>T2M_MIN</th>\n",
              "      <th>RH2M</th>\n",
              "      <th>WS50M_RANGE</th>\n",
              "      <th>T2MDEW</th>\n",
              "      <th>T2M</th>\n",
              "      <th>QV2M</th>\n",
              "      <th>electric_b</th>\n",
              "    </tr>\n",
              "  </thead>\n",
              "  <tbody>\n",
              "    <tr>\n",
              "      <th>1</th>\n",
              "      <td>1.0</td>\n",
              "      <td>8.0</td>\n",
              "      <td>100.29</td>\n",
              "      <td>10.49</td>\n",
              "      <td>32.45</td>\n",
              "      <td>21.97</td>\n",
              "      <td>71.38</td>\n",
              "      <td>4.17</td>\n",
              "      <td>21.57</td>\n",
              "      <td>27.07</td>\n",
              "      <td>16.02</td>\n",
              "      <td>2</td>\n",
              "    </tr>\n",
              "    <tr>\n",
              "      <th>3</th>\n",
              "      <td>1.0</td>\n",
              "      <td>9.0</td>\n",
              "      <td>100.68</td>\n",
              "      <td>7.61</td>\n",
              "      <td>26.50</td>\n",
              "      <td>18.89</td>\n",
              "      <td>90.53</td>\n",
              "      <td>2.11</td>\n",
              "      <td>20.75</td>\n",
              "      <td>22.39</td>\n",
              "      <td>15.29</td>\n",
              "      <td>2</td>\n",
              "    </tr>\n",
              "    <tr>\n",
              "      <th>7</th>\n",
              "      <td>2.0</td>\n",
              "      <td>9.0</td>\n",
              "      <td>100.18</td>\n",
              "      <td>8.17</td>\n",
              "      <td>30.00</td>\n",
              "      <td>21.83</td>\n",
              "      <td>87.85</td>\n",
              "      <td>1.28</td>\n",
              "      <td>23.46</td>\n",
              "      <td>25.62</td>\n",
              "      <td>18.13</td>\n",
              "      <td>3</td>\n",
              "    </tr>\n",
              "    <tr>\n",
              "      <th>10</th>\n",
              "      <td>3.0</td>\n",
              "      <td>8.0</td>\n",
              "      <td>100.66</td>\n",
              "      <td>8.73</td>\n",
              "      <td>30.86</td>\n",
              "      <td>22.14</td>\n",
              "      <td>75.05</td>\n",
              "      <td>3.79</td>\n",
              "      <td>20.99</td>\n",
              "      <td>25.64</td>\n",
              "      <td>15.41</td>\n",
              "      <td>1</td>\n",
              "    </tr>\n",
              "    <tr>\n",
              "      <th>12</th>\n",
              "      <td>3.0</td>\n",
              "      <td>9.0</td>\n",
              "      <td>99.97</td>\n",
              "      <td>9.43</td>\n",
              "      <td>31.38</td>\n",
              "      <td>21.95</td>\n",
              "      <td>80.77</td>\n",
              "      <td>4.56</td>\n",
              "      <td>23.10</td>\n",
              "      <td>26.62</td>\n",
              "      <td>17.72</td>\n",
              "      <td>1</td>\n",
              "    </tr>\n",
              "    <tr>\n",
              "      <th>15</th>\n",
              "      <td>4.0</td>\n",
              "      <td>8.0</td>\n",
              "      <td>100.03</td>\n",
              "      <td>8.87</td>\n",
              "      <td>30.34</td>\n",
              "      <td>21.47</td>\n",
              "      <td>79.56</td>\n",
              "      <td>6.94</td>\n",
              "      <td>21.22</td>\n",
              "      <td>24.94</td>\n",
              "      <td>15.77</td>\n",
              "      <td>1</td>\n",
              "    </tr>\n",
              "    <tr>\n",
              "      <th>16</th>\n",
              "      <td>4.0</td>\n",
              "      <td>9.0</td>\n",
              "      <td>100.34</td>\n",
              "      <td>10.66</td>\n",
              "      <td>30.02</td>\n",
              "      <td>19.36</td>\n",
              "      <td>81.24</td>\n",
              "      <td>3.79</td>\n",
              "      <td>21.71</td>\n",
              "      <td>25.11</td>\n",
              "      <td>16.22</td>\n",
              "      <td>2</td>\n",
              "    </tr>\n",
              "    <tr>\n",
              "      <th>19</th>\n",
              "      <td>5.0</td>\n",
              "      <td>8.0</td>\n",
              "      <td>100.69</td>\n",
              "      <td>10.48</td>\n",
              "      <td>30.07</td>\n",
              "      <td>19.60</td>\n",
              "      <td>69.00</td>\n",
              "      <td>4.43</td>\n",
              "      <td>19.17</td>\n",
              "      <td>25.14</td>\n",
              "      <td>13.74</td>\n",
              "      <td>2</td>\n",
              "    </tr>\n",
              "    <tr>\n",
              "      <th>21</th>\n",
              "      <td>5.0</td>\n",
              "      <td>9.0</td>\n",
              "      <td>101.23</td>\n",
              "      <td>11.14</td>\n",
              "      <td>25.78</td>\n",
              "      <td>14.64</td>\n",
              "      <td>61.30</td>\n",
              "      <td>6.08</td>\n",
              "      <td>12.82</td>\n",
              "      <td>20.43</td>\n",
              "      <td>9.10</td>\n",
              "      <td>2</td>\n",
              "    </tr>\n",
              "    <tr>\n",
              "      <th>24</th>\n",
              "      <td>6.0</td>\n",
              "      <td>8.0</td>\n",
              "      <td>100.75</td>\n",
              "      <td>5.30</td>\n",
              "      <td>27.11</td>\n",
              "      <td>21.81</td>\n",
              "      <td>85.73</td>\n",
              "      <td>3.59</td>\n",
              "      <td>21.77</td>\n",
              "      <td>24.30</td>\n",
              "      <td>16.24</td>\n",
              "      <td>2</td>\n",
              "    </tr>\n",
              "    <tr>\n",
              "      <th>26</th>\n",
              "      <td>6.0</td>\n",
              "      <td>9.0</td>\n",
              "      <td>101.13</td>\n",
              "      <td>12.68</td>\n",
              "      <td>27.68</td>\n",
              "      <td>15.00</td>\n",
              "      <td>64.67</td>\n",
              "      <td>6.03</td>\n",
              "      <td>14.12</td>\n",
              "      <td>20.92</td>\n",
              "      <td>9.91</td>\n",
              "      <td>1</td>\n",
              "    </tr>\n",
              "    <tr>\n",
              "      <th>29</th>\n",
              "      <td>7.0</td>\n",
              "      <td>8.0</td>\n",
              "      <td>100.78</td>\n",
              "      <td>7.03</td>\n",
              "      <td>29.09</td>\n",
              "      <td>22.05</td>\n",
              "      <td>83.77</td>\n",
              "      <td>3.35</td>\n",
              "      <td>22.27</td>\n",
              "      <td>25.18</td>\n",
              "      <td>16.73</td>\n",
              "      <td>3</td>\n",
              "    </tr>\n",
              "    <tr>\n",
              "      <th>31</th>\n",
              "      <td>7.0</td>\n",
              "      <td>9.0</td>\n",
              "      <td>100.78</td>\n",
              "      <td>12.38</td>\n",
              "      <td>27.44</td>\n",
              "      <td>15.07</td>\n",
              "      <td>69.31</td>\n",
              "      <td>2.81</td>\n",
              "      <td>15.17</td>\n",
              "      <td>20.90</td>\n",
              "      <td>10.65</td>\n",
              "      <td>2</td>\n",
              "    </tr>\n",
              "    <tr>\n",
              "      <th>34</th>\n",
              "      <td>8.0</td>\n",
              "      <td>8.0</td>\n",
              "      <td>100.98</td>\n",
              "      <td>8.73</td>\n",
              "      <td>29.82</td>\n",
              "      <td>21.09</td>\n",
              "      <td>77.21</td>\n",
              "      <td>4.27</td>\n",
              "      <td>21.15</td>\n",
              "      <td>25.35</td>\n",
              "      <td>15.53</td>\n",
              "      <td>3</td>\n",
              "    </tr>\n",
              "    <tr>\n",
              "      <th>40</th>\n",
              "      <td>10.0</td>\n",
              "      <td>8.0</td>\n",
              "      <td>100.69</td>\n",
              "      <td>11.50</td>\n",
              "      <td>32.61</td>\n",
              "      <td>21.11</td>\n",
              "      <td>69.76</td>\n",
              "      <td>5.07</td>\n",
              "      <td>20.98</td>\n",
              "      <td>26.85</td>\n",
              "      <td>15.38</td>\n",
              "      <td>1</td>\n",
              "    </tr>\n",
              "    <tr>\n",
              "      <th>43</th>\n",
              "      <td>11.0</td>\n",
              "      <td>8.0</td>\n",
              "      <td>100.41</td>\n",
              "      <td>11.00</td>\n",
              "      <td>32.45</td>\n",
              "      <td>21.45</td>\n",
              "      <td>74.50</td>\n",
              "      <td>3.85</td>\n",
              "      <td>22.04</td>\n",
              "      <td>26.85</td>\n",
              "      <td>16.48</td>\n",
              "      <td>2</td>\n",
              "    </tr>\n",
              "    <tr>\n",
              "      <th>45</th>\n",
              "      <td>12.0</td>\n",
              "      <td>8.0</td>\n",
              "      <td>100.60</td>\n",
              "      <td>9.55</td>\n",
              "      <td>32.42</td>\n",
              "      <td>22.87</td>\n",
              "      <td>76.83</td>\n",
              "      <td>3.47</td>\n",
              "      <td>23.00</td>\n",
              "      <td>27.33</td>\n",
              "      <td>17.46</td>\n",
              "      <td>2</td>\n",
              "    </tr>\n",
              "    <tr>\n",
              "      <th>51</th>\n",
              "      <td>14.0</td>\n",
              "      <td>8.0</td>\n",
              "      <td>100.48</td>\n",
              "      <td>6.77</td>\n",
              "      <td>28.99</td>\n",
              "      <td>22.22</td>\n",
              "      <td>85.78</td>\n",
              "      <td>0.88</td>\n",
              "      <td>22.45</td>\n",
              "      <td>24.98</td>\n",
              "      <td>16.98</td>\n",
              "      <td>2</td>\n",
              "    </tr>\n",
              "    <tr>\n",
              "      <th>54</th>\n",
              "      <td>15.0</td>\n",
              "      <td>8.0</td>\n",
              "      <td>100.46</td>\n",
              "      <td>4.13</td>\n",
              "      <td>24.76</td>\n",
              "      <td>20.64</td>\n",
              "      <td>86.14</td>\n",
              "      <td>2.72</td>\n",
              "      <td>20.31</td>\n",
              "      <td>22.73</td>\n",
              "      <td>14.88</td>\n",
              "      <td>2</td>\n",
              "    </tr>\n",
              "    <tr>\n",
              "      <th>58</th>\n",
              "      <td>17.0</td>\n",
              "      <td>8.0</td>\n",
              "      <td>100.32</td>\n",
              "      <td>11.16</td>\n",
              "      <td>28.49</td>\n",
              "      <td>17.32</td>\n",
              "      <td>76.59</td>\n",
              "      <td>4.50</td>\n",
              "      <td>18.76</td>\n",
              "      <td>23.03</td>\n",
              "      <td>13.48</td>\n",
              "      <td>4</td>\n",
              "    </tr>\n",
              "    <tr>\n",
              "      <th>60</th>\n",
              "      <td>18.0</td>\n",
              "      <td>8.0</td>\n",
              "      <td>100.20</td>\n",
              "      <td>13.63</td>\n",
              "      <td>29.53</td>\n",
              "      <td>15.90</td>\n",
              "      <td>67.64</td>\n",
              "      <td>3.38</td>\n",
              "      <td>16.88</td>\n",
              "      <td>23.08</td>\n",
              "      <td>11.95</td>\n",
              "      <td>2</td>\n",
              "    </tr>\n",
              "    <tr>\n",
              "      <th>62</th>\n",
              "      <td>18.0</td>\n",
              "      <td>9.0</td>\n",
              "      <td>100.51</td>\n",
              "      <td>10.21</td>\n",
              "      <td>23.07</td>\n",
              "      <td>12.86</td>\n",
              "      <td>78.16</td>\n",
              "      <td>5.89</td>\n",
              "      <td>14.21</td>\n",
              "      <td>18.02</td>\n",
              "      <td>10.06</td>\n",
              "      <td>3</td>\n",
              "    </tr>\n",
              "    <tr>\n",
              "      <th>65</th>\n",
              "      <td>19.0</td>\n",
              "      <td>8.0</td>\n",
              "      <td>100.37</td>\n",
              "      <td>9.10</td>\n",
              "      <td>27.56</td>\n",
              "      <td>18.46</td>\n",
              "      <td>74.36</td>\n",
              "      <td>3.72</td>\n",
              "      <td>17.91</td>\n",
              "      <td>22.62</td>\n",
              "      <td>12.76</td>\n",
              "      <td>4</td>\n",
              "    </tr>\n",
              "    <tr>\n",
              "      <th>67</th>\n",
              "      <td>19.0</td>\n",
              "      <td>9.0</td>\n",
              "      <td>101.60</td>\n",
              "      <td>10.24</td>\n",
              "      <td>18.10</td>\n",
              "      <td>7.86</td>\n",
              "      <td>54.77</td>\n",
              "      <td>4.05</td>\n",
              "      <td>3.51</td>\n",
              "      <td>12.32</td>\n",
              "      <td>4.82</td>\n",
              "      <td>1</td>\n",
              "    </tr>\n",
              "    <tr>\n",
              "      <th>70</th>\n",
              "      <td>20.0</td>\n",
              "      <td>8.0</td>\n",
              "      <td>100.67</td>\n",
              "      <td>10.12</td>\n",
              "      <td>27.87</td>\n",
              "      <td>17.75</td>\n",
              "      <td>76.31</td>\n",
              "      <td>3.99</td>\n",
              "      <td>18.49</td>\n",
              "      <td>22.80</td>\n",
              "      <td>13.20</td>\n",
              "      <td>1</td>\n",
              "    </tr>\n",
              "    <tr>\n",
              "      <th>74</th>\n",
              "      <td>21.0</td>\n",
              "      <td>8.0</td>\n",
              "      <td>100.52</td>\n",
              "      <td>6.42</td>\n",
              "      <td>26.45</td>\n",
              "      <td>20.03</td>\n",
              "      <td>85.52</td>\n",
              "      <td>2.41</td>\n",
              "      <td>20.51</td>\n",
              "      <td>23.05</td>\n",
              "      <td>15.06</td>\n",
              "      <td>1</td>\n",
              "    </tr>\n",
              "    <tr>\n",
              "      <th>77</th>\n",
              "      <td>22.0</td>\n",
              "      <td>8.0</td>\n",
              "      <td>100.50</td>\n",
              "      <td>8.05</td>\n",
              "      <td>29.19</td>\n",
              "      <td>21.14</td>\n",
              "      <td>83.04</td>\n",
              "      <td>3.61</td>\n",
              "      <td>21.36</td>\n",
              "      <td>24.40</td>\n",
              "      <td>15.86</td>\n",
              "      <td>2</td>\n",
              "    </tr>\n",
              "    <tr>\n",
              "      <th>80</th>\n",
              "      <td>23.0</td>\n",
              "      <td>8.0</td>\n",
              "      <td>100.67</td>\n",
              "      <td>10.19</td>\n",
              "      <td>31.32</td>\n",
              "      <td>21.14</td>\n",
              "      <td>78.66</td>\n",
              "      <td>4.04</td>\n",
              "      <td>22.02</td>\n",
              "      <td>25.94</td>\n",
              "      <td>16.45</td>\n",
              "      <td>3</td>\n",
              "    </tr>\n",
              "    <tr>\n",
              "      <th>84</th>\n",
              "      <td>24.0</td>\n",
              "      <td>8.0</td>\n",
              "      <td>100.65</td>\n",
              "      <td>9.74</td>\n",
              "      <td>31.24</td>\n",
              "      <td>21.50</td>\n",
              "      <td>79.61</td>\n",
              "      <td>3.51</td>\n",
              "      <td>22.52</td>\n",
              "      <td>26.26</td>\n",
              "      <td>16.98</td>\n",
              "      <td>2</td>\n",
              "    </tr>\n",
              "    <tr>\n",
              "      <th>86</th>\n",
              "      <td>24.0</td>\n",
              "      <td>9.0</td>\n",
              "      <td>100.65</td>\n",
              "      <td>7.87</td>\n",
              "      <td>22.03</td>\n",
              "      <td>14.16</td>\n",
              "      <td>80.77</td>\n",
              "      <td>4.05</td>\n",
              "      <td>14.05</td>\n",
              "      <td>17.35</td>\n",
              "      <td>9.96</td>\n",
              "      <td>2</td>\n",
              "    </tr>\n",
              "    <tr>\n",
              "      <th>89</th>\n",
              "      <td>25.0</td>\n",
              "      <td>8.0</td>\n",
              "      <td>100.31</td>\n",
              "      <td>11.06</td>\n",
              "      <td>32.19</td>\n",
              "      <td>21.14</td>\n",
              "      <td>76.17</td>\n",
              "      <td>2.98</td>\n",
              "      <td>21.89</td>\n",
              "      <td>26.33</td>\n",
              "      <td>16.36</td>\n",
              "      <td>3</td>\n",
              "    </tr>\n",
              "    <tr>\n",
              "      <th>90</th>\n",
              "      <td>25.0</td>\n",
              "      <td>9.0</td>\n",
              "      <td>100.89</td>\n",
              "      <td>5.29</td>\n",
              "      <td>19.09</td>\n",
              "      <td>13.80</td>\n",
              "      <td>92.18</td>\n",
              "      <td>2.94</td>\n",
              "      <td>15.35</td>\n",
              "      <td>16.64</td>\n",
              "      <td>10.84</td>\n",
              "      <td>3</td>\n",
              "    </tr>\n",
              "    <tr>\n",
              "      <th>91</th>\n",
              "      <td>26.0</td>\n",
              "      <td>8.0</td>\n",
              "      <td>100.53</td>\n",
              "      <td>11.61</td>\n",
              "      <td>30.09</td>\n",
              "      <td>18.48</td>\n",
              "      <td>69.37</td>\n",
              "      <td>3.54</td>\n",
              "      <td>18.61</td>\n",
              "      <td>24.47</td>\n",
              "      <td>13.29</td>\n",
              "      <td>3</td>\n",
              "    </tr>\n",
              "    <tr>\n",
              "      <th>93</th>\n",
              "      <td>26.0</td>\n",
              "      <td>9.0</td>\n",
              "      <td>100.58</td>\n",
              "      <td>8.97</td>\n",
              "      <td>24.85</td>\n",
              "      <td>15.87</td>\n",
              "      <td>85.22</td>\n",
              "      <td>4.14</td>\n",
              "      <td>17.22</td>\n",
              "      <td>19.77</td>\n",
              "      <td>12.24</td>\n",
              "      <td>1</td>\n",
              "    </tr>\n",
              "    <tr>\n",
              "      <th>96</th>\n",
              "      <td>27.0</td>\n",
              "      <td>8.0</td>\n",
              "      <td>100.20</td>\n",
              "      <td>11.35</td>\n",
              "      <td>32.59</td>\n",
              "      <td>21.24</td>\n",
              "      <td>73.26</td>\n",
              "      <td>3.65</td>\n",
              "      <td>21.69</td>\n",
              "      <td>26.76</td>\n",
              "      <td>16.16</td>\n",
              "      <td>1</td>\n",
              "    </tr>\n",
              "    <tr>\n",
              "      <th>98</th>\n",
              "      <td>27.0</td>\n",
              "      <td>9.0</td>\n",
              "      <td>100.36</td>\n",
              "      <td>11.44</td>\n",
              "      <td>26.33</td>\n",
              "      <td>14.89</td>\n",
              "      <td>83.14</td>\n",
              "      <td>4.26</td>\n",
              "      <td>17.34</td>\n",
              "      <td>20.27</td>\n",
              "      <td>12.35</td>\n",
              "      <td>2</td>\n",
              "    </tr>\n",
              "    <tr>\n",
              "      <th>100</th>\n",
              "      <td>28.0</td>\n",
              "      <td>8.0</td>\n",
              "      <td>100.17</td>\n",
              "      <td>8.54</td>\n",
              "      <td>31.34</td>\n",
              "      <td>22.80</td>\n",
              "      <td>79.96</td>\n",
              "      <td>3.49</td>\n",
              "      <td>22.77</td>\n",
              "      <td>26.44</td>\n",
              "      <td>17.32</td>\n",
              "      <td>2</td>\n",
              "    </tr>\n",
              "    <tr>\n",
              "      <th>103</th>\n",
              "      <td>29.0</td>\n",
              "      <td>8.0</td>\n",
              "      <td>99.37</td>\n",
              "      <td>7.90</td>\n",
              "      <td>29.25</td>\n",
              "      <td>21.35</td>\n",
              "      <td>87.34</td>\n",
              "      <td>3.42</td>\n",
              "      <td>22.92</td>\n",
              "      <td>25.17</td>\n",
              "      <td>17.69</td>\n",
              "      <td>2</td>\n",
              "    </tr>\n",
              "    <tr>\n",
              "      <th>107</th>\n",
              "      <td>30.0</td>\n",
              "      <td>9.0</td>\n",
              "      <td>99.95</td>\n",
              "      <td>8.75</td>\n",
              "      <td>20.64</td>\n",
              "      <td>11.89</td>\n",
              "      <td>78.07</td>\n",
              "      <td>3.26</td>\n",
              "      <td>11.89</td>\n",
              "      <td>15.66</td>\n",
              "      <td>8.70</td>\n",
              "      <td>1</td>\n",
              "    </tr>\n",
              "  </tbody>\n",
              "</table>\n",
              "</div>"
            ],
            "text/plain": [
              "       DY   MO      PS  T2M_RANGE  ...  T2MDEW    T2M   QV2M  electric_b\n",
              "1     1.0  8.0  100.29      10.49  ...   21.57  27.07  16.02           2\n",
              "3     1.0  9.0  100.68       7.61  ...   20.75  22.39  15.29           2\n",
              "7     2.0  9.0  100.18       8.17  ...   23.46  25.62  18.13           3\n",
              "10    3.0  8.0  100.66       8.73  ...   20.99  25.64  15.41           1\n",
              "12    3.0  9.0   99.97       9.43  ...   23.10  26.62  17.72           1\n",
              "15    4.0  8.0  100.03       8.87  ...   21.22  24.94  15.77           1\n",
              "16    4.0  9.0  100.34      10.66  ...   21.71  25.11  16.22           2\n",
              "19    5.0  8.0  100.69      10.48  ...   19.17  25.14  13.74           2\n",
              "21    5.0  9.0  101.23      11.14  ...   12.82  20.43   9.10           2\n",
              "24    6.0  8.0  100.75       5.30  ...   21.77  24.30  16.24           2\n",
              "26    6.0  9.0  101.13      12.68  ...   14.12  20.92   9.91           1\n",
              "29    7.0  8.0  100.78       7.03  ...   22.27  25.18  16.73           3\n",
              "31    7.0  9.0  100.78      12.38  ...   15.17  20.90  10.65           2\n",
              "34    8.0  8.0  100.98       8.73  ...   21.15  25.35  15.53           3\n",
              "40   10.0  8.0  100.69      11.50  ...   20.98  26.85  15.38           1\n",
              "43   11.0  8.0  100.41      11.00  ...   22.04  26.85  16.48           2\n",
              "45   12.0  8.0  100.60       9.55  ...   23.00  27.33  17.46           2\n",
              "51   14.0  8.0  100.48       6.77  ...   22.45  24.98  16.98           2\n",
              "54   15.0  8.0  100.46       4.13  ...   20.31  22.73  14.88           2\n",
              "58   17.0  8.0  100.32      11.16  ...   18.76  23.03  13.48           4\n",
              "60   18.0  8.0  100.20      13.63  ...   16.88  23.08  11.95           2\n",
              "62   18.0  9.0  100.51      10.21  ...   14.21  18.02  10.06           3\n",
              "65   19.0  8.0  100.37       9.10  ...   17.91  22.62  12.76           4\n",
              "67   19.0  9.0  101.60      10.24  ...    3.51  12.32   4.82           1\n",
              "70   20.0  8.0  100.67      10.12  ...   18.49  22.80  13.20           1\n",
              "74   21.0  8.0  100.52       6.42  ...   20.51  23.05  15.06           1\n",
              "77   22.0  8.0  100.50       8.05  ...   21.36  24.40  15.86           2\n",
              "80   23.0  8.0  100.67      10.19  ...   22.02  25.94  16.45           3\n",
              "84   24.0  8.0  100.65       9.74  ...   22.52  26.26  16.98           2\n",
              "86   24.0  9.0  100.65       7.87  ...   14.05  17.35   9.96           2\n",
              "89   25.0  8.0  100.31      11.06  ...   21.89  26.33  16.36           3\n",
              "90   25.0  9.0  100.89       5.29  ...   15.35  16.64  10.84           3\n",
              "91   26.0  8.0  100.53      11.61  ...   18.61  24.47  13.29           3\n",
              "93   26.0  9.0  100.58       8.97  ...   17.22  19.77  12.24           1\n",
              "96   27.0  8.0  100.20      11.35  ...   21.69  26.76  16.16           1\n",
              "98   27.0  9.0  100.36      11.44  ...   17.34  20.27  12.35           2\n",
              "100  28.0  8.0  100.17       8.54  ...   22.77  26.44  17.32           2\n",
              "103  29.0  8.0   99.37       7.90  ...   22.92  25.17  17.69           2\n",
              "107  30.0  9.0   99.95       8.75  ...   11.89  15.66   8.70           1\n",
              "\n",
              "[39 rows x 12 columns]"
            ]
          },
          "metadata": {
            "tags": []
          },
          "execution_count": 105
        }
      ]
    },
    {
      "cell_type": "code",
      "metadata": {
        "colab": {
          "base_uri": "https://localhost:8080/",
          "height": 402
        },
        "id": "3SCyjlRVeVkc",
        "outputId": "2d58b008-d38e-451d-fe12-82bf600299b5"
      },
      "source": [
        "df1['PS'] = df1['PS'] - 100\n",
        "modified = df1\n",
        "modified"
      ],
      "execution_count": 106,
      "outputs": [
        {
          "output_type": "execute_result",
          "data": {
            "text/html": [
              "<div>\n",
              "<style scoped>\n",
              "    .dataframe tbody tr th:only-of-type {\n",
              "        vertical-align: middle;\n",
              "    }\n",
              "\n",
              "    .dataframe tbody tr th {\n",
              "        vertical-align: top;\n",
              "    }\n",
              "\n",
              "    .dataframe thead th {\n",
              "        text-align: right;\n",
              "    }\n",
              "</style>\n",
              "<table border=\"1\" class=\"dataframe\">\n",
              "  <thead>\n",
              "    <tr style=\"text-align: right;\">\n",
              "      <th></th>\n",
              "      <th>DY</th>\n",
              "      <th>MO</th>\n",
              "      <th>PS</th>\n",
              "      <th>T2M_RANGE</th>\n",
              "      <th>T2M_MAX</th>\n",
              "      <th>T2M_MIN</th>\n",
              "      <th>RH2M</th>\n",
              "      <th>WS50M_RANGE</th>\n",
              "      <th>T2MDEW</th>\n",
              "      <th>T2M</th>\n",
              "      <th>QV2M</th>\n",
              "      <th>docked_b</th>\n",
              "    </tr>\n",
              "  </thead>\n",
              "  <tbody>\n",
              "    <tr>\n",
              "      <th>0</th>\n",
              "      <td>1.0</td>\n",
              "      <td>8.0</td>\n",
              "      <td>0.29</td>\n",
              "      <td>10.49</td>\n",
              "      <td>32.45</td>\n",
              "      <td>21.97</td>\n",
              "      <td>71.38</td>\n",
              "      <td>4.17</td>\n",
              "      <td>21.57</td>\n",
              "      <td>27.07</td>\n",
              "      <td>16.02</td>\n",
              "      <td>2</td>\n",
              "    </tr>\n",
              "    <tr>\n",
              "      <th>2</th>\n",
              "      <td>1.0</td>\n",
              "      <td>9.0</td>\n",
              "      <td>0.68</td>\n",
              "      <td>7.61</td>\n",
              "      <td>26.50</td>\n",
              "      <td>18.89</td>\n",
              "      <td>90.53</td>\n",
              "      <td>2.11</td>\n",
              "      <td>20.75</td>\n",
              "      <td>22.39</td>\n",
              "      <td>15.29</td>\n",
              "      <td>7</td>\n",
              "    </tr>\n",
              "    <tr>\n",
              "      <th>4</th>\n",
              "      <td>1.0</td>\n",
              "      <td>10.0</td>\n",
              "      <td>0.35</td>\n",
              "      <td>10.66</td>\n",
              "      <td>21.91</td>\n",
              "      <td>11.24</td>\n",
              "      <td>80.90</td>\n",
              "      <td>4.20</td>\n",
              "      <td>12.84</td>\n",
              "      <td>16.09</td>\n",
              "      <td>9.23</td>\n",
              "      <td>1</td>\n",
              "    </tr>\n",
              "    <tr>\n",
              "      <th>5</th>\n",
              "      <td>2.0</td>\n",
              "      <td>8.0</td>\n",
              "      <td>0.21</td>\n",
              "      <td>11.56</td>\n",
              "      <td>34.91</td>\n",
              "      <td>23.35</td>\n",
              "      <td>64.55</td>\n",
              "      <td>4.67</td>\n",
              "      <td>21.56</td>\n",
              "      <td>28.76</td>\n",
              "      <td>15.99</td>\n",
              "      <td>1</td>\n",
              "    </tr>\n",
              "    <tr>\n",
              "      <th>6</th>\n",
              "      <td>2.0</td>\n",
              "      <td>9.0</td>\n",
              "      <td>0.18</td>\n",
              "      <td>8.17</td>\n",
              "      <td>30.00</td>\n",
              "      <td>21.83</td>\n",
              "      <td>87.85</td>\n",
              "      <td>1.28</td>\n",
              "      <td>23.46</td>\n",
              "      <td>25.62</td>\n",
              "      <td>18.13</td>\n",
              "      <td>1</td>\n",
              "    </tr>\n",
              "    <tr>\n",
              "      <th>...</th>\n",
              "      <td>...</td>\n",
              "      <td>...</td>\n",
              "      <td>...</td>\n",
              "      <td>...</td>\n",
              "      <td>...</td>\n",
              "      <td>...</td>\n",
              "      <td>...</td>\n",
              "      <td>...</td>\n",
              "      <td>...</td>\n",
              "      <td>...</td>\n",
              "      <td>...</td>\n",
              "      <td>...</td>\n",
              "    </tr>\n",
              "    <tr>\n",
              "      <th>104</th>\n",
              "      <td>29.0</td>\n",
              "      <td>9.0</td>\n",
              "      <td>-0.15</td>\n",
              "      <td>12.49</td>\n",
              "      <td>26.54</td>\n",
              "      <td>14.06</td>\n",
              "      <td>89.15</td>\n",
              "      <td>4.77</td>\n",
              "      <td>18.71</td>\n",
              "      <td>20.57</td>\n",
              "      <td>13.57</td>\n",
              "      <td>2</td>\n",
              "    </tr>\n",
              "    <tr>\n",
              "      <th>105</th>\n",
              "      <td>30.0</td>\n",
              "      <td>8.0</td>\n",
              "      <td>0.00</td>\n",
              "      <td>10.58</td>\n",
              "      <td>27.55</td>\n",
              "      <td>16.97</td>\n",
              "      <td>64.46</td>\n",
              "      <td>6.12</td>\n",
              "      <td>15.80</td>\n",
              "      <td>22.73</td>\n",
              "      <td>11.16</td>\n",
              "      <td>3</td>\n",
              "    </tr>\n",
              "    <tr>\n",
              "      <th>106</th>\n",
              "      <td>30.0</td>\n",
              "      <td>9.0</td>\n",
              "      <td>-0.05</td>\n",
              "      <td>8.75</td>\n",
              "      <td>20.64</td>\n",
              "      <td>11.89</td>\n",
              "      <td>78.07</td>\n",
              "      <td>3.26</td>\n",
              "      <td>11.89</td>\n",
              "      <td>15.66</td>\n",
              "      <td>8.70</td>\n",
              "      <td>5</td>\n",
              "    </tr>\n",
              "    <tr>\n",
              "      <th>108</th>\n",
              "      <td>30.0</td>\n",
              "      <td>10.0</td>\n",
              "      <td>0.42</td>\n",
              "      <td>6.81</td>\n",
              "      <td>12.70</td>\n",
              "      <td>5.89</td>\n",
              "      <td>84.17</td>\n",
              "      <td>2.95</td>\n",
              "      <td>6.75</td>\n",
              "      <td>9.28</td>\n",
              "      <td>6.13</td>\n",
              "      <td>1</td>\n",
              "    </tr>\n",
              "    <tr>\n",
              "      <th>109</th>\n",
              "      <td>31.0</td>\n",
              "      <td>10.0</td>\n",
              "      <td>2.02</td>\n",
              "      <td>7.43</td>\n",
              "      <td>11.22</td>\n",
              "      <td>3.80</td>\n",
              "      <td>78.20</td>\n",
              "      <td>4.63</td>\n",
              "      <td>3.46</td>\n",
              "      <td>6.98</td>\n",
              "      <td>4.79</td>\n",
              "      <td>1</td>\n",
              "    </tr>\n",
              "  </tbody>\n",
              "</table>\n",
              "<p>71 rows × 12 columns</p>\n",
              "</div>"
            ],
            "text/plain": [
              "       DY    MO    PS  T2M_RANGE  ...  T2MDEW    T2M   QV2M  docked_b\n",
              "0     1.0   8.0  0.29      10.49  ...   21.57  27.07  16.02         2\n",
              "2     1.0   9.0  0.68       7.61  ...   20.75  22.39  15.29         7\n",
              "4     1.0  10.0  0.35      10.66  ...   12.84  16.09   9.23         1\n",
              "5     2.0   8.0  0.21      11.56  ...   21.56  28.76  15.99         1\n",
              "6     2.0   9.0  0.18       8.17  ...   23.46  25.62  18.13         1\n",
              "..    ...   ...   ...        ...  ...     ...    ...    ...       ...\n",
              "104  29.0   9.0 -0.15      12.49  ...   18.71  20.57  13.57         2\n",
              "105  30.0   8.0  0.00      10.58  ...   15.80  22.73  11.16         3\n",
              "106  30.0   9.0 -0.05       8.75  ...   11.89  15.66   8.70         5\n",
              "108  30.0  10.0  0.42       6.81  ...    6.75   9.28   6.13         1\n",
              "109  31.0  10.0  2.02       7.43  ...    3.46   6.98   4.79         1\n",
              "\n",
              "[71 rows x 12 columns]"
            ]
          },
          "metadata": {
            "tags": []
          },
          "execution_count": 106
        }
      ]
    },
    {
      "cell_type": "code",
      "metadata": {
        "colab": {
          "base_uri": "https://localhost:8080/",
          "height": 402
        },
        "id": "gr4wB5w9Xl_F",
        "outputId": "6f5aa780-be80-475e-d79c-0953c2840730"
      },
      "source": [
        "modified.corr()"
      ],
      "execution_count": 107,
      "outputs": [
        {
          "output_type": "execute_result",
          "data": {
            "text/html": [
              "<div>\n",
              "<style scoped>\n",
              "    .dataframe tbody tr th:only-of-type {\n",
              "        vertical-align: middle;\n",
              "    }\n",
              "\n",
              "    .dataframe tbody tr th {\n",
              "        vertical-align: top;\n",
              "    }\n",
              "\n",
              "    .dataframe thead th {\n",
              "        text-align: right;\n",
              "    }\n",
              "</style>\n",
              "<table border=\"1\" class=\"dataframe\">\n",
              "  <thead>\n",
              "    <tr style=\"text-align: right;\">\n",
              "      <th></th>\n",
              "      <th>DY</th>\n",
              "      <th>MO</th>\n",
              "      <th>PS</th>\n",
              "      <th>T2M_RANGE</th>\n",
              "      <th>T2M_MAX</th>\n",
              "      <th>T2M_MIN</th>\n",
              "      <th>RH2M</th>\n",
              "      <th>WS50M_RANGE</th>\n",
              "      <th>T2MDEW</th>\n",
              "      <th>T2M</th>\n",
              "      <th>QV2M</th>\n",
              "      <th>docked_b</th>\n",
              "    </tr>\n",
              "  </thead>\n",
              "  <tbody>\n",
              "    <tr>\n",
              "      <th>DY</th>\n",
              "      <td>1.000000</td>\n",
              "      <td>-0.037726</td>\n",
              "      <td>-0.070136</td>\n",
              "      <td>0.032097</td>\n",
              "      <td>-0.183260</td>\n",
              "      <td>-0.177483</td>\n",
              "      <td>0.133130</td>\n",
              "      <td>-0.078938</td>\n",
              "      <td>-0.134393</td>\n",
              "      <td>-0.194486</td>\n",
              "      <td>-0.125713</td>\n",
              "      <td>-0.035373</td>\n",
              "    </tr>\n",
              "    <tr>\n",
              "      <th>MO</th>\n",
              "      <td>-0.037726</td>\n",
              "      <td>1.000000</td>\n",
              "      <td>0.364889</td>\n",
              "      <td>0.273812</td>\n",
              "      <td>-0.798673</td>\n",
              "      <td>-0.831190</td>\n",
              "      <td>0.197391</td>\n",
              "      <td>-0.014793</td>\n",
              "      <td>-0.699675</td>\n",
              "      <td>-0.837882</td>\n",
              "      <td>-0.739173</td>\n",
              "      <td>-0.104512</td>\n",
              "    </tr>\n",
              "    <tr>\n",
              "      <th>PS</th>\n",
              "      <td>-0.070136</td>\n",
              "      <td>0.364889</td>\n",
              "      <td>1.000000</td>\n",
              "      <td>0.185413</td>\n",
              "      <td>-0.520904</td>\n",
              "      <td>-0.545056</td>\n",
              "      <td>-0.309355</td>\n",
              "      <td>0.004755</td>\n",
              "      <td>-0.612606</td>\n",
              "      <td>-0.552276</td>\n",
              "      <td>-0.583751</td>\n",
              "      <td>-0.007952</td>\n",
              "    </tr>\n",
              "    <tr>\n",
              "      <th>T2M_RANGE</th>\n",
              "      <td>0.032097</td>\n",
              "      <td>0.273812</td>\n",
              "      <td>0.185413</td>\n",
              "      <td>1.000000</td>\n",
              "      <td>-0.022245</td>\n",
              "      <td>-0.450131</td>\n",
              "      <td>-0.515068</td>\n",
              "      <td>0.297388</td>\n",
              "      <td>-0.407731</td>\n",
              "      <td>-0.252845</td>\n",
              "      <td>-0.427184</td>\n",
              "      <td>-0.038763</td>\n",
              "    </tr>\n",
              "    <tr>\n",
              "      <th>T2M_MAX</th>\n",
              "      <td>-0.183260</td>\n",
              "      <td>-0.798673</td>\n",
              "      <td>-0.520904</td>\n",
              "      <td>-0.022245</td>\n",
              "      <td>1.000000</td>\n",
              "      <td>0.902754</td>\n",
              "      <td>-0.039401</td>\n",
              "      <td>-0.049486</td>\n",
              "      <td>0.874915</td>\n",
              "      <td>0.970965</td>\n",
              "      <td>0.875520</td>\n",
              "      <td>0.087909</td>\n",
              "    </tr>\n",
              "    <tr>\n",
              "      <th>T2M_MIN</th>\n",
              "      <td>-0.177483</td>\n",
              "      <td>-0.831190</td>\n",
              "      <td>-0.545056</td>\n",
              "      <td>-0.450131</td>\n",
              "      <td>0.902754</td>\n",
              "      <td>1.000000</td>\n",
              "      <td>0.186466</td>\n",
              "      <td>-0.172091</td>\n",
              "      <td>0.956912</td>\n",
              "      <td>0.976049</td>\n",
              "      <td>0.965818</td>\n",
              "      <td>0.095188</td>\n",
              "    </tr>\n",
              "    <tr>\n",
              "      <th>RH2M</th>\n",
              "      <td>0.133130</td>\n",
              "      <td>0.197391</td>\n",
              "      <td>-0.309355</td>\n",
              "      <td>-0.515068</td>\n",
              "      <td>-0.039401</td>\n",
              "      <td>0.186466</td>\n",
              "      <td>1.000000</td>\n",
              "      <td>-0.446849</td>\n",
              "      <td>0.408103</td>\n",
              "      <td>0.074507</td>\n",
              "      <td>0.364128</td>\n",
              "      <td>-0.040842</td>\n",
              "    </tr>\n",
              "    <tr>\n",
              "      <th>WS50M_RANGE</th>\n",
              "      <td>-0.078938</td>\n",
              "      <td>-0.014793</td>\n",
              "      <td>0.004755</td>\n",
              "      <td>0.297388</td>\n",
              "      <td>-0.049486</td>\n",
              "      <td>-0.172091</td>\n",
              "      <td>-0.446849</td>\n",
              "      <td>1.000000</td>\n",
              "      <td>-0.248001</td>\n",
              "      <td>-0.104150</td>\n",
              "      <td>-0.257759</td>\n",
              "      <td>-0.266033</td>\n",
              "    </tr>\n",
              "    <tr>\n",
              "      <th>T2MDEW</th>\n",
              "      <td>-0.134393</td>\n",
              "      <td>-0.699675</td>\n",
              "      <td>-0.612606</td>\n",
              "      <td>-0.407731</td>\n",
              "      <td>0.874915</td>\n",
              "      <td>0.956912</td>\n",
              "      <td>0.408103</td>\n",
              "      <td>-0.248001</td>\n",
              "      <td>1.000000</td>\n",
              "      <td>0.940528</td>\n",
              "      <td>0.989228</td>\n",
              "      <td>0.078648</td>\n",
              "    </tr>\n",
              "    <tr>\n",
              "      <th>T2M</th>\n",
              "      <td>-0.194486</td>\n",
              "      <td>-0.837882</td>\n",
              "      <td>-0.552276</td>\n",
              "      <td>-0.252845</td>\n",
              "      <td>0.970965</td>\n",
              "      <td>0.976049</td>\n",
              "      <td>0.074507</td>\n",
              "      <td>-0.104150</td>\n",
              "      <td>0.940528</td>\n",
              "      <td>1.000000</td>\n",
              "      <td>0.944833</td>\n",
              "      <td>0.096383</td>\n",
              "    </tr>\n",
              "    <tr>\n",
              "      <th>QV2M</th>\n",
              "      <td>-0.125713</td>\n",
              "      <td>-0.739173</td>\n",
              "      <td>-0.583751</td>\n",
              "      <td>-0.427184</td>\n",
              "      <td>0.875520</td>\n",
              "      <td>0.965818</td>\n",
              "      <td>0.364128</td>\n",
              "      <td>-0.257759</td>\n",
              "      <td>0.989228</td>\n",
              "      <td>0.944833</td>\n",
              "      <td>1.000000</td>\n",
              "      <td>0.063260</td>\n",
              "    </tr>\n",
              "    <tr>\n",
              "      <th>docked_b</th>\n",
              "      <td>-0.035373</td>\n",
              "      <td>-0.104512</td>\n",
              "      <td>-0.007952</td>\n",
              "      <td>-0.038763</td>\n",
              "      <td>0.087909</td>\n",
              "      <td>0.095188</td>\n",
              "      <td>-0.040842</td>\n",
              "      <td>-0.266033</td>\n",
              "      <td>0.078648</td>\n",
              "      <td>0.096383</td>\n",
              "      <td>0.063260</td>\n",
              "      <td>1.000000</td>\n",
              "    </tr>\n",
              "  </tbody>\n",
              "</table>\n",
              "</div>"
            ],
            "text/plain": [
              "                   DY        MO        PS  ...       T2M      QV2M  docked_b\n",
              "DY           1.000000 -0.037726 -0.070136  ... -0.194486 -0.125713 -0.035373\n",
              "MO          -0.037726  1.000000  0.364889  ... -0.837882 -0.739173 -0.104512\n",
              "PS          -0.070136  0.364889  1.000000  ... -0.552276 -0.583751 -0.007952\n",
              "T2M_RANGE    0.032097  0.273812  0.185413  ... -0.252845 -0.427184 -0.038763\n",
              "T2M_MAX     -0.183260 -0.798673 -0.520904  ...  0.970965  0.875520  0.087909\n",
              "T2M_MIN     -0.177483 -0.831190 -0.545056  ...  0.976049  0.965818  0.095188\n",
              "RH2M         0.133130  0.197391 -0.309355  ...  0.074507  0.364128 -0.040842\n",
              "WS50M_RANGE -0.078938 -0.014793  0.004755  ... -0.104150 -0.257759 -0.266033\n",
              "T2MDEW      -0.134393 -0.699675 -0.612606  ...  0.940528  0.989228  0.078648\n",
              "T2M         -0.194486 -0.837882 -0.552276  ...  1.000000  0.944833  0.096383\n",
              "QV2M        -0.125713 -0.739173 -0.583751  ...  0.944833  1.000000  0.063260\n",
              "docked_b    -0.035373 -0.104512 -0.007952  ...  0.096383  0.063260  1.000000\n",
              "\n",
              "[12 rows x 12 columns]"
            ]
          },
          "metadata": {
            "tags": []
          },
          "execution_count": 107
        }
      ]
    },
    {
      "cell_type": "code",
      "metadata": {
        "colab": {
          "base_uri": "https://localhost:8080/",
          "height": 663
        },
        "id": "HtWcsYBPX5en",
        "outputId": "9b34e18e-4a23-49e2-fa66-b604fd1ca6c5"
      },
      "source": [
        "plt.figure(figsize=(16,10))\n",
        "sns.heatmap(modified.corr(), annot=True)\n",
        "plt.show()"
      ],
      "execution_count": 108,
      "outputs": [
        {
          "output_type": "display_data",
          "data": {
            "image/png": "[encoded data removed]",
            "text/plain": [
              "<Figure size 1152x720 with 2 Axes>"
            ]
          },
          "metadata": {
            "tags": [],
            "needs_background": "light"
          }
        }
      ]
    },
    {
      "cell_type": "code",
      "metadata": {
        "colab": {
          "base_uri": "https://localhost:8080/"
        },
        "id": "PzALkvPMwWB0",
        "outputId": "03325053-d9ce-4b93-8356-f1ebcfca0292"
      },
      "source": [
        "docked_count = modified['docked_b'].sum()\n",
        "print (docked_count)\n",
        "#electric_count = modified['electric_b'].sum()\n",
        "#print (electric_count)\n"
      ],
      "execution_count": 109,
      "outputs": [
        {
          "output_type": "stream",
          "text": [
            "169\n"
          ],
          "name": "stdout"
        }
      ]
    },
    {
      "cell_type": "code",
      "metadata": {
        "colab": {
          "base_uri": "https://localhost:8080/"
        },
        "id": "-m_8SUIUwzaX",
        "outputId": "fabe2a7d-318a-4855-f622-926fe971815a"
      },
      "source": [
        "from sklearn.svm import SVC\n",
        "!pip3 install quandl\n",
        "!pip3 install sklearn\n",
        "import quandl, math\n",
        "from sklearn.model_selection import cross_validate\n",
        "from sklearn.model_selection import train_test_split\n",
        "from sklearn import preprocessing, svm\n",
        "from sklearn.linear_model import LinearRegression\n",
        "\n",
        "X = np.array(modified.drop(['docked_b'], 1))\n",
        "y = np.array(modified['docked_b'])\n",
        "X = preprocessing.scale(X)\n",
        "\n",
        "svclassifier = SVC(kernel='poly', degree=6)\n",
        "X_train, X_test, y_train, y_test = train_test_split(X, y, test_size=0.2)\n",
        "svclassifier.fit(X_train, y_train)\n"
      ],
      "execution_count": 110,
      "outputs": [
        {
          "output_type": "stream",
          "text": [
            "Requirement already satisfied: quandl in /usr/local/lib/python3.7/dist-packages (3.6.1)\n",
            "Requirement already satisfied: pandas>=0.14 in /usr/local/lib/python3.7/dist-packages (from quandl) (1.1.5)\n",
            "Requirement already satisfied: inflection>=0.3.1 in /usr/local/lib/python3.7/dist-packages (from quandl) (0.5.1)\n",
            "Requirement already satisfied: more-itertools in /usr/local/lib/python3.7/dist-packages (from quandl) (8.7.0)\n",
            "Requirement already satisfied: python-dateutil in /usr/local/lib/python3.7/dist-packages (from quandl) (2.8.1)\n",
            "Requirement already satisfied: six in /usr/local/lib/python3.7/dist-packages (from quandl) (1.15.0)\n",
            "Requirement already satisfied: numpy>=1.8 in /usr/local/lib/python3.7/dist-packages (from quandl) (1.19.5)\n",
            "Requirement already satisfied: requests>=2.7.0 in /usr/local/lib/python3.7/dist-packages (from quandl) (2.23.0)\n",
            "Requirement already satisfied: pytz>=2017.2 in /usr/local/lib/python3.7/dist-packages (from pandas>=0.14->quandl) (2018.9)\n",
            "Requirement already satisfied: certifi>=2017.4.17 in /usr/local/lib/python3.7/dist-packages (from requests>=2.7.0->quandl) (2020.12.5)\n",
            "Requirement already satisfied: chardet<4,>=3.0.2 in /usr/local/lib/python3.7/dist-packages (from requests>=2.7.0->quandl) (3.0.4)\n",
            "Requirement already satisfied: idna<3,>=2.5 in /usr/local/lib/python3.7/dist-packages (from requests>=2.7.0->quandl) (2.10)\n",
            "Requirement already satisfied: urllib3!=1.25.0,!=1.25.1,<1.26,>=1.21.1 in /usr/local/lib/python3.7/dist-packages (from requests>=2.7.0->quandl) (1.24.3)\n",
            "Requirement already satisfied: sklearn in /usr/local/lib/python3.7/dist-packages (0.0)\n",
            "Requirement already satisfied: scikit-learn in /usr/local/lib/python3.7/dist-packages (from sklearn) (0.22.2.post1)\n",
            "Requirement already satisfied: scipy>=0.17.0 in /usr/local/lib/python3.7/dist-packages (from scikit-learn->sklearn) (1.4.1)\n",
            "Requirement already satisfied: numpy>=1.11.0 in /usr/local/lib/python3.7/dist-packages (from scikit-learn->sklearn) (1.19.5)\n",
            "Requirement already satisfied: joblib>=0.11 in /usr/local/lib/python3.7/dist-packages (from scikit-learn->sklearn) (1.0.1)\n"
          ],
          "name": "stdout"
        },
        {
          "output_type": "execute_result",
          "data": {
            "text/plain": [
              "SVC(C=1.0, break_ties=False, cache_size=200, class_weight=None, coef0=0.0,\n",
              "    decision_function_shape='ovr', degree=6, gamma='scale', kernel='poly',\n",
              "    max_iter=-1, probability=False, random_state=None, shrinking=True,\n",
              "    tol=0.001, verbose=False)"
            ]
          },
          "metadata": {
            "tags": []
          },
          "execution_count": 110
        }
      ]
    },
    {
      "cell_type": "code",
      "metadata": {
        "id": "Ee2Wtl7Bw0ez"
      },
      "source": [
        "y_pred = svclassifier.predict(X_test)\n"
      ],
      "execution_count": 111,
      "outputs": []
    },
    {
      "cell_type": "code",
      "metadata": {
        "colab": {
          "base_uri": "https://localhost:8080/"
        },
        "id": "f5EwHY4bw7Bo",
        "outputId": "f5f99ece-99ea-4de0-edee-ea0818603139"
      },
      "source": [
        "from sklearn.metrics import classification_report, confusion_matrix\n",
        "print(confusion_matrix(y_test, y_pred))\n",
        "print(classification_report(y_test, y_pred))"
      ],
      "execution_count": 112,
      "outputs": [
        {
          "output_type": "stream",
          "text": [
            "[[2 3 1 0 0 0 0]\n",
            " [0 1 0 0 0 0 0]\n",
            " [2 3 0 0 0 0 0]\n",
            " [0 0 0 0 1 0 0]\n",
            " [0 0 0 0 0 0 0]\n",
            " [0 1 0 0 0 0 0]\n",
            " [0 1 0 0 0 0 0]]\n",
            "              precision    recall  f1-score   support\n",
            "\n",
            "           1       0.50      0.33      0.40         6\n",
            "           2       0.11      1.00      0.20         1\n",
            "           3       0.00      0.00      0.00         5\n",
            "           4       0.00      0.00      0.00         1\n",
            "           5       0.00      0.00      0.00         0\n",
            "           6       0.00      0.00      0.00         1\n",
            "           9       0.00      0.00      0.00         1\n",
            "\n",
            "    accuracy                           0.20        15\n",
            "   macro avg       0.09      0.19      0.09        15\n",
            "weighted avg       0.21      0.20      0.17        15\n",
            "\n"
          ],
          "name": "stdout"
        },
        {
          "output_type": "stream",
          "text": [
            "/usr/local/lib/python3.7/dist-packages/sklearn/metrics/_classification.py:1272: UndefinedMetricWarning: Precision and F-score are ill-defined and being set to 0.0 in labels with no predicted samples. Use `zero_division` parameter to control this behavior.\n",
            "  _warn_prf(average, modifier, msg_start, len(result))\n",
            "/usr/local/lib/python3.7/dist-packages/sklearn/metrics/_classification.py:1272: UndefinedMetricWarning: Recall and F-score are ill-defined and being set to 0.0 in labels with no true samples. Use `zero_division` parameter to control this behavior.\n",
            "  _warn_prf(average, modifier, msg_start, len(result))\n"
          ],
          "name": "stderr"
        }
      ]
    },
    {
      "cell_type": "code",
      "metadata": {
        "id": "TFZUy-Sn6Yll"
      },
      "source": [
        ""
      ],
      "execution_count": 112,
      "outputs": []
    },
    {
      "cell_type": "code",
      "metadata": {
        "colab": {
          "base_uri": "https://localhost:8080/"
        },
        "id": "yazVW9f2y3yg",
        "outputId": "61453a1d-4887-4c7e-b33a-79287f447817"
      },
      "source": [
        "print(y_pred)\n",
        "print(y_test)"
      ],
      "execution_count": 113,
      "outputs": [
        {
          "output_type": "stream",
          "text": [
            "[2 2 2 2 1 1 1 2 2 5 1 3 2 2 2]\n",
            "[3 6 3 1 3 3 1 1 1 4 1 1 2 3 9]\n"
          ],
          "name": "stdout"
        }
      ]
    },
    {
      "cell_type": "code",
      "metadata": {
        "colab": {
          "base_uri": "https://localhost:8080/"
        },
        "id": "jugvJOxg7cyP",
        "outputId": "8803cc17-ccb4-4b1d-ef95-6170bb7a6996"
      },
      "source": [
        "from sklearn import metrics\n",
        "scores_regr = metrics.mean_squared_error(y_test, y_pred)\n",
        "scores_regr"
      ],
      "execution_count": 114,
      "outputs": [
        {
          "output_type": "execute_result",
          "data": {
            "text/plain": [
              "5.6"
            ]
          },
          "metadata": {
            "tags": []
          },
          "execution_count": 114
        }
      ]
    },
    {
      "cell_type": "code",
      "metadata": {
        "id": "eavCdbkDxcCn"
      },
      "source": [
        "\n",
        "X = modified.drop(['docked_b'], 1)\n",
        "y = modified['docked_b']"
      ],
      "execution_count": 115,
      "outputs": []
    },
    {
      "cell_type": "code",
      "metadata": {
        "colab": {
          "base_uri": "https://localhost:8080/",
          "height": 663
        },
        "id": "fCJW_PynjKRU",
        "outputId": "fbdad0de-4c6d-495f-c995-4ee2cabdd0f8"
      },
      "source": [
        "import seaborn as sns\n",
        "#Using Pearson Correlation\n",
        "plt.figure(figsize=(12,10))\n",
        "cor = X.corr()\n",
        "sns.heatmap(cor, annot=True, cmap=plt.cm.CMRmap_r)\n",
        "plt.show()"
      ],
      "execution_count": 116,
      "outputs": [
        {
          "output_type": "display_data",
          "data": {
            "image/png": "[encoded data removed]",
            "text/plain": [
              "<Figure size 864x720 with 2 Axes>"
            ]
          },
          "metadata": {
            "tags": [],
            "needs_background": "light"
          }
        }
      ]
    },
    {
      "cell_type": "code",
      "metadata": {
        "id": "XmADMWWRjUdI"
      },
      "source": [
        "# with the following function we can select highly correlated features\n",
        "# it will remove the first feature that is correlated with anything other feature\n",
        "\n",
        "def correlation(dataset, threshold):\n",
        "    col_corr = set()  # Set of all the names of correlated columns\n",
        "    corr_matrix = dataset.corr()\n",
        "    for i in range(len(corr_matrix.columns)):\n",
        "        for j in range(i):\n",
        "            if abs(corr_matrix.iloc[i, j]) > threshold: # we are interested in absolute coeff value\n",
        "                colname = corr_matrix.columns[i]  # getting the name of column\n",
        "                col_corr.add(colname)\n",
        "    return col_corr"
      ],
      "execution_count": 117,
      "outputs": []
    },
    {
      "cell_type": "code",
      "metadata": {
        "id": "sMf9jbzYjdHC"
      },
      "source": [
        "#corr_features = correlation(X, 0.7)\n",
        "#h = X.keys()\n",
        "#h = set(h);\n",
        "#corr_features = h - corr_features\n",
        "#print(corr_features)\n",
        "#len(set(corr_features))"
      ],
      "execution_count": 118,
      "outputs": []
    },
    {
      "cell_type": "code",
      "metadata": {
        "id": "VybdNSemj5F-"
      },
      "source": [
        "#X.drop(corr_features,axis=1)"
      ],
      "execution_count": 119,
      "outputs": []
    },
    {
      "cell_type": "code",
      "metadata": {
        "id": "IbIzh3Qcjwt5"
      },
      "source": [
        "#corr_features"
      ],
      "execution_count": 120,
      "outputs": []
    },
    {
      "cell_type": "code",
      "metadata": {
        "id": "7cuW5NAZ7nKz"
      },
      "source": [
        "X = np.array(X)\n",
        "y = np.array(y)"
      ],
      "execution_count": 121,
      "outputs": []
    },
    {
      "cell_type": "code",
      "metadata": {
        "id": "pFwqmt0Rf9y4"
      },
      "source": [
        "from sklearn.model_selection import train_test_split\n",
        "\n",
        "X_train, X_test, y_train, y_test = train_test_split(X, y, test_size=0.2, random_state=0)"
      ],
      "execution_count": 122,
      "outputs": []
    },
    {
      "cell_type": "code",
      "metadata": {
        "id": "YLguCmauf_LM"
      },
      "source": [
        "from sklearn.preprocessing import StandardScaler\n",
        "\n",
        "sc = StandardScaler()\n",
        "X_train = sc.fit_transform(X_train)\n",
        "X_test = sc.transform(X_test)"
      ],
      "execution_count": 123,
      "outputs": []
    },
    {
      "cell_type": "code",
      "metadata": {
        "id": "9HAOsDs1gCuN"
      },
      "source": [
        "from sklearn.ensemble import RandomForestRegressor\n",
        "\n",
        "regressor = RandomForestRegressor(n_estimators=10, random_state=20)\n",
        "regressor.fit(X_train, y_train)\n",
        "y_pred = regressor.predict(X_test)"
      ],
      "execution_count": 124,
      "outputs": []
    },
    {
      "cell_type": "code",
      "metadata": {
        "colab": {
          "base_uri": "https://localhost:8080/"
        },
        "id": "GvuxzML-gGsH",
        "outputId": "7eed1513-984e-458f-a883-5cc3c1c6cfc5"
      },
      "source": [
        "from sklearn import metrics\n",
        "\n",
        "print('Mean Absolute Error:', metrics.mean_absolute_error(y_test, y_pred))\n",
        "print('Mean Squared Error:', metrics.mean_squared_error(y_test, y_pred))\n",
        "print('Root Mean Squared Error:', np.sqrt(metrics.mean_squared_error(y_test, y_pred)))\n",
        "print(metrics.r2_score(y_test,y_pred))"
      ],
      "execution_count": 125,
      "outputs": [
        {
          "output_type": "stream",
          "text": [
            "Mean Absolute Error: 1.4133333333333336\n",
            "Mean Squared Error: 2.7079999999999997\n",
            "Root Mean Squared Error: 1.6456001944579368\n",
            "-0.38477272727272704\n"
          ],
          "name": "stdout"
        }
      ]
    },
    {
      "cell_type": "code",
      "metadata": {
        "id": "pyo6K5ys2-mJ"
      },
      "source": [
        "X = preprocessing.scale(X)"
      ],
      "execution_count": 126,
      "outputs": []
    },
    {
      "cell_type": "code",
      "metadata": {
        "id": "A3N7O-fl3Gg5"
      },
      "source": [
        "X_train, X_test, y_train, y_test = train_test_split(X, y, test_size=0.2,random_state=20)"
      ],
      "execution_count": 127,
      "outputs": []
    },
    {
      "cell_type": "code",
      "metadata": {
        "id": "pF6clCVG3LxE"
      },
      "source": [
        "clf = LinearRegression()"
      ],
      "execution_count": 128,
      "outputs": []
    },
    {
      "cell_type": "code",
      "metadata": {
        "colab": {
          "base_uri": "https://localhost:8080/"
        },
        "id": "4m-grhQT3OW5",
        "outputId": "e5e160f7-7639-4ca1-bf45-c8628386fa2c"
      },
      "source": [
        "clf.fit(X_train, y_train)\n",
        "y_pred=clf.predict(X_test)\n",
        "y_pred = np.ceil(y_pred)\n",
        "y_pred"
      ],
      "execution_count": 129,
      "outputs": [
        {
          "output_type": "execute_result",
          "data": {
            "text/plain": [
              "array([3., 3., 3., 3., 4., 3., 4., 4., 3., 3., 3., 3., 2., 3., 4.])"
            ]
          },
          "metadata": {
            "tags": []
          },
          "execution_count": 129
        }
      ]
    },
    {
      "cell_type": "code",
      "metadata": {
        "colab": {
          "base_uri": "https://localhost:8080/"
        },
        "id": "sBfGf8ukNi_A",
        "outputId": "8165445d-b3ad-4028-ad34-48c49089f6be"
      },
      "source": [
        "confidence = clf.score(X_test, y_test)\n",
        "print(confidence)"
      ],
      "execution_count": 130,
      "outputs": [
        {
          "output_type": "stream",
          "text": [
            "-0.25022327540382316\n"
          ],
          "name": "stdout"
        }
      ]
    },
    {
      "cell_type": "code",
      "metadata": {
        "colab": {
          "base_uri": "https://localhost:8080/"
        },
        "id": "EyBDOVBGTDM0",
        "outputId": "17d97b6c-222c-4549-f0c7-418c4b352146"
      },
      "source": [
        "con = 1 + confidence\n",
        "con"
      ],
      "execution_count": 131,
      "outputs": [
        {
          "output_type": "execute_result",
          "data": {
            "text/plain": [
              "0.7497767245961768"
            ]
          },
          "metadata": {
            "tags": []
          },
          "execution_count": 131
        }
      ]
    },
    {
      "cell_type": "code",
      "metadata": {
        "colab": {
          "base_uri": "https://localhost:8080/"
        },
        "id": "w4t4ZiZ9Ra4h",
        "outputId": "c7f7b8c1-c49b-443b-f36d-20ea53e8c167"
      },
      "source": [
        "from sklearn.metrics import r2_score\n",
        "ls = r2_score(y_test,y_pred)\n",
        "ls"
      ],
      "execution_count": 132,
      "outputs": [
        {
          "output_type": "execute_result",
          "data": {
            "text/plain": [
              "-0.5924657534246576"
            ]
          },
          "metadata": {
            "tags": []
          },
          "execution_count": 132
        }
      ]
    },
    {
      "cell_type": "code",
      "metadata": {
        "colab": {
          "base_uri": "https://localhost:8080/"
        },
        "id": "3pFT0oXyhhst",
        "outputId": "e8470051-84bd-45cc-97b3-7a0fd9198ea1"
      },
      "source": [
        "y_test"
      ],
      "execution_count": 133,
      "outputs": [
        {
          "output_type": "execute_result",
          "data": {
            "text/plain": [
              "array([3, 1, 4, 1, 1, 2, 1, 2, 1, 1, 1, 5, 5, 1, 5])"
            ]
          },
          "metadata": {
            "tags": []
          },
          "execution_count": 133
        }
      ]
    },
    {
      "cell_type": "code",
      "metadata": {
        "colab": {
          "base_uri": "https://localhost:8080/"
        },
        "id": "Gcum_8hmBRGR",
        "outputId": "5f4e850c-110b-499e-c078-180854ca83c6"
      },
      "source": [
        "#To retrieve the intercept:\n",
        "print(clf.intercept_)\n",
        "\n",
        "#For retrieving the slope:\n",
        "print(clf.coef_)"
      ],
      "execution_count": 134,
      "outputs": [
        {
          "output_type": "stream",
          "text": [
            "2.4734346056261\n",
            "[ -0.22373923  -0.47045341   0.15103584   3.98310254 -10.60638252\n",
            "   7.25166288  -3.43490219  -0.67834892  12.95101596  -4.342944\n",
            "  -3.82985945]\n"
          ],
          "name": "stdout"
        }
      ]
    },
    {
      "cell_type": "code",
      "metadata": {
        "colab": {
          "base_uri": "https://localhost:8080/"
        },
        "id": "BTS_JvWklXmj",
        "outputId": "d279673f-087b-41bb-e86f-1ba06c40f1e7"
      },
      "source": [
        "from sklearn.metrics import mean_squared_log_error\n",
        "msleDT=mean_squared_log_error(y_pred,y_test)\n",
        "rmsleLR=np.sqrt(msleDT)\n",
        "print('RMLSE for the data:',rmsleLR)"
      ],
      "execution_count": 135,
      "outputs": [
        {
          "output_type": "stream",
          "text": [
            "RMLSE for the data: 0.6128343141626714\n"
          ],
          "name": "stdout"
        }
      ]
    },
    {
      "cell_type": "code",
      "metadata": {
        "colab": {
          "base_uri": "https://localhost:8080/"
        },
        "id": "_h38JcduwXLK",
        "outputId": "ad5a42e7-2e6a-4141-ba9d-8f4cccdee376"
      },
      "source": [
        "\n",
        "# evaluate  regression model using k-fold cross-validation\n",
        "from numpy import mean\n",
        "from numpy import std\n",
        "from sklearn.datasets import make_classification\n",
        "from sklearn.model_selection import KFold\n",
        "from sklearn.model_selection import cross_val_score\n",
        "from sklearn.linear_model import LogisticRegression\n",
        "# create dataset\n",
        "\n",
        "#X = np.array(modified.drop(['PS','docked_b','count'], 1))\n",
        "#y = np.array(modified['docked_b'])\n",
        "# prepare the cross-validation procedure\n",
        "cv = KFold(n_splits=10, random_state=5, shuffle=True)\n",
        "# create model\n",
        "model = LinearRegression()\n",
        "# evaluate model\n",
        "scores = cross_val_score(model, X, y, scoring='neg_mean_squared_error', cv=cv)\n",
        "# report performance\n",
        "print(scores)\n",
        "print('MSE: %.3f (%.3f)' % (mean(scores), std(scores)))"
      ],
      "execution_count": 136,
      "outputs": [
        {
          "output_type": "stream",
          "text": [
            "[-2.39812552 -5.41602107 -4.69226069 -1.99563157 -2.44711123 -1.66752971\n",
            " -2.93063739 -5.7036238  -1.14421557 -1.44201245]\n",
            "MSE: -2.984 (1.592)\n"
          ],
          "name": "stdout"
        }
      ]
    },
    {
      "cell_type": "code",
      "metadata": {
        "colab": {
          "base_uri": "https://localhost:8080/"
        },
        "id": "xESPO6qkKwAS",
        "outputId": "1cdec9d4-8c28-45f4-e8d8-086c1f5a0171"
      },
      "source": [
        "# evaluate  regression model using k-fold cross-validation\n",
        "from numpy import mean\n",
        "from numpy import std\n",
        "from sklearn.datasets import make_classification\n",
        "from sklearn.model_selection import KFold\n",
        "from sklearn.model_selection import cross_val_score\n",
        "from sklearn.linear_model import LinearRegression\n",
        "# create dataset\n",
        "\n",
        "#X = np.array(modified.drop(['PS','docked_b','count'], 1))\n",
        "#y = np.array(modified['docked_b'])\n",
        "# prepare the cross-validation procedure\n",
        "cv = KFold(n_splits=10, random_state=5, shuffle=True)\n",
        "# create model\n",
        "model = LogisticRegression()\n",
        "# evaluate model\n",
        "scores = cross_val_score(model, X, y, scoring='accuracy', cv=cv, n_jobs=-1)\n",
        "# report performance\n",
        "print(scores)\n",
        "print('Accuracy: %.3f (%.3f)' % (mean(scores), std(scores)))"
      ],
      "execution_count": 137,
      "outputs": [
        {
          "output_type": "stream",
          "text": [
            "[0.125      0.28571429 0.28571429 0.14285714 0.14285714 0.28571429\n",
            " 0.14285714 0.14285714 0.14285714 0.28571429]\n",
            "Accuracy: 0.198 (0.072)\n"
          ],
          "name": "stdout"
        }
      ]
    },
    {
      "cell_type": "code",
      "metadata": {
        "colab": {
          "base_uri": "https://localhost:8080/"
        },
        "id": "qTfeG66E-EfJ",
        "outputId": "8f50a010-8311-464a-8da1-55b64511f0e0"
      },
      "source": [
        "from sklearn.tree import DecisionTreeRegressor\n",
        "#DecisionTreeRegressor class has many parameters. Input only #random_state=0 or 42.\n",
        "regressor = DecisionTreeRegressor(random_state=0)\n",
        "#Fit the regressor object to the dataset.\n",
        "regressor.fit(X_train, y_train)\n",
        "y_pred = regressor.predict(X_test)\n",
        "confidence = regressor.score(X_test, y_test)\n",
        "print(confidence)"
      ],
      "execution_count": 138,
      "outputs": [
        {
          "output_type": "stream",
          "text": [
            "-5.39554794520548\n"
          ],
          "name": "stdout"
        }
      ]
    },
    {
      "cell_type": "code",
      "metadata": {
        "colab": {
          "base_uri": "https://localhost:8080/"
        },
        "id": "FACWpH7MJuKH",
        "outputId": "5c02deff-ee68-4936-b2bd-6f47db802707"
      },
      "source": [
        "from sklearn.metrics import mean_squared_log_error\n",
        "msleDT=mean_squared_log_error(y_pred,y_test)\n",
        "rmsleDT=np.sqrt(msleDT)\n",
        "print('RMLSE for the data:',rmsleDT)"
      ],
      "execution_count": 139,
      "outputs": [
        {
          "output_type": "stream",
          "text": [
            "RMLSE for the data: 0.8965348952131073\n"
          ],
          "name": "stdout"
        }
      ]
    },
    {
      "cell_type": "code",
      "metadata": {
        "colab": {
          "base_uri": "https://localhost:8080/"
        },
        "id": "lnIuotWrGf8r",
        "outputId": "254c387f-e504-48ec-826e-df19dba188f7"
      },
      "source": [
        "# evaluate  regression model using k-fold cross-validation\n",
        "from numpy import mean\n",
        "from numpy import std\n",
        "from sklearn.datasets import make_classification\n",
        "from sklearn.model_selection import KFold\n",
        "from sklearn.model_selection import cross_val_score\n",
        "from sklearn.linear_model import LinearRegression\n",
        "# create dataset\n",
        "\n",
        "#X = np.array(modified.drop(['PS','docked_b','count'], 1))\n",
        "#y = np.array(modified['docked_b'])\n",
        "# prepare the cross-validation procedure\n",
        "cv = KFold(n_splits=10, random_state=5, shuffle=True)\n",
        "# evaluate model\n",
        "scores = cross_val_score(regressor, X, y, scoring='accuracy', cv=cv, n_jobs=-1)\n",
        "# report performance\n",
        "print(scores)\n",
        "print('Accuracy: %.3f (%.3f)' % (mean(scores), std(scores)))"
      ],
      "execution_count": 140,
      "outputs": [
        {
          "output_type": "stream",
          "text": [
            "[0.125      0.14285714 0.28571429 0.         0.28571429 0.42857143\n",
            " 0.         0.14285714 0.28571429 0.28571429]\n",
            "Accuracy: 0.198 (0.132)\n"
          ],
          "name": "stdout"
        }
      ]
    },
    {
      "cell_type": "code",
      "metadata": {
        "colab": {
          "base_uri": "https://localhost:8080/"
        },
        "id": "g4ibD40nBEr6",
        "outputId": "58243946-da6d-4381-aec5-4223b13bf345"
      },
      "source": [
        "from sklearn.preprocessing import StandardScaler\n",
        "\n",
        "sc = StandardScaler()\n",
        "#X_train = sc.fit_transform(X_train)\n",
        "#X_test = sc.transform(X_test)\n",
        "from sklearn.ensemble import RandomForestRegressor\n",
        "\n",
        "regressor = RandomForestRegressor(n_estimators=20, random_state=0)\n",
        "regressor.fit(X_train, y_train)\n",
        "y_pred = regressor.predict(X_test)\n",
        "confidence = regressor.score(X_test, y_test)\n",
        "print(confidence)"
      ],
      "execution_count": 141,
      "outputs": [
        {
          "output_type": "stream",
          "text": [
            "-2.4525042808219184\n"
          ],
          "name": "stdout"
        }
      ]
    },
    {
      "cell_type": "code",
      "metadata": {
        "colab": {
          "base_uri": "https://localhost:8080/"
        },
        "id": "2E-ZW_8gJrCg",
        "outputId": "23997b2a-27e4-4774-ef0d-b2871746ec97"
      },
      "source": [
        "from sklearn.metrics import mean_squared_log_error\n",
        "msle=mean_squared_log_error(y_pred,y_test)\n",
        "rmsleRF=np.sqrt(msle)\n",
        "print('RMLSE for the data:',rmsleRF)"
      ],
      "execution_count": 142,
      "outputs": [
        {
          "output_type": "stream",
          "text": [
            "RMLSE for the data: 0.7158041092856727\n"
          ],
          "name": "stdout"
        }
      ]
    },
    {
      "cell_type": "code",
      "metadata": {
        "colab": {
          "base_uri": "https://localhost:8080/"
        },
        "id": "oDh-mBdOEC29",
        "outputId": "16b46fa2-167e-42d8-b795-11a9947a26da"
      },
      "source": [
        "# Load libraries\n",
        "from sklearn.ensemble import AdaBoostClassifier\n",
        "from sklearn import datasets\n",
        "# Import train_test_split function\n",
        "from sklearn.model_selection import train_test_split\n",
        "#Import scikit-learn metrics module for accuracy calculation\n",
        "from sklearn import metrics\n",
        "\n",
        "X_train, X_test, y_train, y_test = train_test_split(X, y, test_size=0.3)\n",
        "abc = AdaBoostClassifier(n_estimators=50,\n",
        "                         learning_rate=1)\n",
        "# Train Adaboost Classifer\n",
        "model = abc.fit(X_train, y_train)\n",
        "y_pred = abc.predict(X_test)\n",
        "confidence = abc.score(X_test, y_test)\n",
        "print(confidence)\n"
      ],
      "execution_count": 143,
      "outputs": [
        {
          "output_type": "stream",
          "text": [
            "0.3181818181818182\n"
          ],
          "name": "stdout"
        }
      ]
    },
    {
      "cell_type": "code",
      "metadata": {
        "colab": {
          "base_uri": "https://localhost:8080/"
        },
        "id": "0UTL-B6pFRQ1",
        "outputId": "f0ce7e15-2b54-47f5-9f51-7981926c8801"
      },
      "source": [
        "from sklearn.metrics import mean_squared_log_error\n",
        "msle=mean_squared_log_error(y_pred,y_test)\n",
        "rmsleADB=np.sqrt(msle)\n",
        "print('RMLSE for the data:',rmsleADB)"
      ],
      "execution_count": 144,
      "outputs": [
        {
          "output_type": "stream",
          "text": [
            "RMLSE for the data: 0.5608750520367111\n"
          ],
          "name": "stdout"
        }
      ]
    },
    {
      "cell_type": "code",
      "metadata": {
        "colab": {
          "base_uri": "https://localhost:8080/"
        },
        "id": "v2cxnr-KHbtt",
        "outputId": "e78048f5-9214-4a61-d867-fb0598184a38"
      },
      "source": [
        "# evaluate  regression model using k-fold cross-validation\n",
        "from numpy import mean\n",
        "from numpy import std\n",
        "from sklearn.datasets import make_classification\n",
        "from sklearn.model_selection import KFold\n",
        "from sklearn.model_selection import cross_val_score\n",
        "from sklearn.linear_model import LinearRegression\n",
        "# create dataset\n",
        "\n",
        "#X = np.array(modified.drop(['PS','docked_b','count'], 1))\n",
        "#y = np.array(modified['docked_b'])\n",
        "# prepare the cross-validation procedure\n",
        "cv = KFold(n_splits=10, random_state=5, shuffle=True)\n",
        "# evaluate model\n",
        "scores = cross_val_score(abc, X, y, scoring='accuracy', cv=cv, n_jobs=-1)\n",
        "# report performance\n",
        "print(scores)\n",
        "print('Accuracy: %.3f (%.3f)' % (mean(scores), std(scores)))"
      ],
      "execution_count": 145,
      "outputs": [
        {
          "output_type": "stream",
          "text": [
            "[0.25       0.28571429 0.28571429 0.14285714 0.28571429 0.42857143\n",
            " 0.42857143 0.28571429 0.57142857 0.28571429]\n",
            "Accuracy: 0.325 (0.113)\n"
          ],
          "name": "stdout"
        }
      ]
    },
    {
      "cell_type": "code",
      "metadata": {
        "id": "moFU-diSA0mJ"
      },
      "source": [
        "modified = df2"
      ],
      "execution_count": 146,
      "outputs": []
    },
    {
      "cell_type": "code",
      "metadata": {
        "id": "AoX8qZv7eJuZ"
      },
      "source": [
        "X = modified.drop(['electric_b'], 1)\n",
        "y = modified['electric_b']"
      ],
      "execution_count": 147,
      "outputs": []
    },
    {
      "cell_type": "code",
      "metadata": {
        "colab": {
          "base_uri": "https://localhost:8080/",
          "height": 663
        },
        "id": "CvPHWcYMOrCT",
        "outputId": "6748c492-dde8-4368-f59c-601a25883a8d"
      },
      "source": [
        "import seaborn as sns\n",
        "#Using Pearson Correlation\n",
        "plt.figure(figsize=(12,10))\n",
        "cor = X.corr()\n",
        "sns.heatmap(cor, annot=True, cmap=plt.cm.CMRmap_r)\n",
        "plt.show()"
      ],
      "execution_count": 148,
      "outputs": [
        {
          "output_type": "display_data",
          "data": {
            "image/png": "[encoded data removed]",
            "text/plain": [
              "<Figure size 864x720 with 2 Axes>"
            ]
          },
          "metadata": {
            "tags": [],
            "needs_background": "light"
          }
        }
      ]
    },
    {
      "cell_type": "code",
      "metadata": {
        "id": "qhjRLWMtOrCX"
      },
      "source": [
        "# with the following function we can select highly correlated features\n",
        "# it will remove the first feature that is correlated with anything other feature\n",
        "\n",
        "def correlation(dataset, threshold):\n",
        "    col_corr = set()  # Set of all the names of correlated columns\n",
        "    corr_matrix = dataset.corr()\n",
        "    for i in range(len(corr_matrix.columns)):\n",
        "        for j in range(i):\n",
        "            if abs(corr_matrix.iloc[i, j]) > threshold: # we are interested in absolute coeff value\n",
        "                colname = corr_matrix.columns[i]  # getting the name of column\n",
        "                col_corr.add(colname)\n",
        "    return col_corr"
      ],
      "execution_count": 149,
      "outputs": []
    },
    {
      "cell_type": "code",
      "metadata": {
        "id": "M1DdkuhlOrCZ"
      },
      "source": [
        "#corr_features = correlation(X, 0.7)\n",
        "#len(set(corr_features))"
      ],
      "execution_count": 150,
      "outputs": []
    },
    {
      "cell_type": "code",
      "metadata": {
        "id": "GCZFOGbcOrCa"
      },
      "source": [
        "#X.drop(corr_features,axis=1)"
      ],
      "execution_count": 151,
      "outputs": []
    },
    {
      "cell_type": "code",
      "metadata": {
        "id": "aBhsfHmROrCc"
      },
      "source": [
        "#corr_features"
      ],
      "execution_count": 152,
      "outputs": []
    },
    {
      "cell_type": "code",
      "metadata": {
        "id": "U8Gu9O_sejY-"
      },
      "source": [
        "X = preprocessing.scale(X)\n",
        "X_train, X_test, y_train, y_test = train_test_split(X, y, test_size=0.2)\n",
        "clf = LinearRegression()"
      ],
      "execution_count": 153,
      "outputs": []
    },
    {
      "cell_type": "code",
      "metadata": {
        "colab": {
          "base_uri": "https://localhost:8080/"
        },
        "id": "jk5iRQNQejlD",
        "outputId": "add5af95-d285-464b-9abc-682d9decc026"
      },
      "source": [
        "clf.fit(X_train, y_train)\n",
        "confidence = clf.score(X_test, y_test)\n",
        "print(confidence)\n"
      ],
      "execution_count": 154,
      "outputs": [
        {
          "output_type": "stream",
          "text": [
            "-0.5804256605028366\n"
          ],
          "name": "stdout"
        }
      ]
    },
    {
      "cell_type": "code",
      "metadata": {
        "colab": {
          "base_uri": "https://localhost:8080/"
        },
        "id": "huMRJyJUej09",
        "outputId": "a6e9e456-4893-46b7-cda8-2c9e956ba887"
      },
      "source": [
        "U=clf.predict(X_test)\n",
        "U"
      ],
      "execution_count": 155,
      "outputs": [
        {
          "output_type": "execute_result",
          "data": {
            "text/plain": [
              "array([1.38071642, 2.40300851, 1.77152439, 0.99302366, 2.05288219,\n",
              "       2.17016806, 2.5083524 , 2.61690303])"
            ]
          },
          "metadata": {
            "tags": []
          },
          "execution_count": 155
        }
      ]
    },
    {
      "cell_type": "code",
      "metadata": {
        "colab": {
          "base_uri": "https://localhost:8080/"
        },
        "id": "gDWlpqaHgM6v",
        "outputId": "2da1bd4d-ae73-44bc-825a-4a43f4beb01a"
      },
      "source": [
        "y_test"
      ],
      "execution_count": 156,
      "outputs": [
        {
          "output_type": "execute_result",
          "data": {
            "text/plain": [
              "7      3\n",
              "91     3\n",
              "40     1\n",
              "21     2\n",
              "96     1\n",
              "107    1\n",
              "54     2\n",
              "84     2\n",
              "Name: electric_b, dtype: int64"
            ]
          },
          "metadata": {
            "tags": []
          },
          "execution_count": 156
        }
      ]
    },
    {
      "cell_type": "code",
      "metadata": {
        "colab": {
          "base_uri": "https://localhost:8080/"
        },
        "id": "tp_cTCoagSNL",
        "outputId": "4e3e1cfe-8c24-4e1d-ce36-7beb2bba3372"
      },
      "source": [
        "clf.score(X_test,y_test)"
      ],
      "execution_count": 157,
      "outputs": [
        {
          "output_type": "execute_result",
          "data": {
            "text/plain": [
              "-0.5804256605028366"
            ]
          },
          "metadata": {
            "tags": []
          },
          "execution_count": 157
        }
      ]
    },
    {
      "cell_type": "code",
      "metadata": {
        "colab": {
          "base_uri": "https://localhost:8080/"
        },
        "id": "4jUiVWQNqWbJ",
        "outputId": "2b3172ab-519f-4038-d166-4b67e6c3ae0d"
      },
      "source": [
        "from sklearn.model_selection import KFold # import KFold\n",
        "#X = np.array([[1, 2], [3, 4], [1, 2], [3, 4]]) # create an array\n",
        "#y = np.array([1, 2, 3, 4]) # Create another array\n",
        "#X = modified.drop(['PS','electric_b','count'], 1)\n",
        "#y = modified['electric_b']\n",
        "kf = KFold(n_splits=5) # Define the split - into 2 folds \n",
        "kf.get_n_splits(X) # returns the number of splitting iterations in the cross-validator\n",
        "print(kf) \n",
        "KFold(n_splits=5, random_state=None, shuffle=False)"
      ],
      "execution_count": 158,
      "outputs": [
        {
          "output_type": "stream",
          "text": [
            "KFold(n_splits=5, random_state=None, shuffle=False)\n"
          ],
          "name": "stdout"
        },
        {
          "output_type": "execute_result",
          "data": {
            "text/plain": [
              "KFold(n_splits=5, random_state=None, shuffle=False)"
            ]
          },
          "metadata": {
            "tags": []
          },
          "execution_count": 158
        }
      ]
    },
    {
      "cell_type": "code",
      "metadata": {
        "id": "rK77HWQhqXow"
      },
      "source": [
        "\n"
      ],
      "execution_count": 158,
      "outputs": []
    },
    {
      "cell_type": "code",
      "metadata": {
        "id": "SQiqeZprqafm"
      },
      "source": [
        "# Necessary imports: \n",
        "from sklearn.model_selection import cross_val_score, cross_val_predict\n",
        "from sklearn import metrics"
      ],
      "execution_count": 159,
      "outputs": []
    },
    {
      "cell_type": "code",
      "metadata": {
        "colab": {
          "base_uri": "https://localhost:8080/"
        },
        "id": "I3o_0mWtq5-t",
        "outputId": "06d004b2-99cd-47d3-98ed-34eebaf660e5"
      },
      "source": [
        "# Perform 6-fold cross validation\n",
        "cv_4_results = cross_val_score(clf, X, y, cv=25,)\n",
        "cv_4_results = abs(cv_4_results)\n",
        "print ('Cross-validated scores:', abs(cv_4_results))\n",
        "print('mean score', mean(cv_4_results))\n"
      ],
      "execution_count": 160,
      "outputs": [
        {
          "output_type": "stream",
          "text": [
            "Cross-validated scores: [0.         0.71405384 0.         0.         0.         0.48564132\n",
            " 0.15321209 1.48520273 0.         1.34434818 3.36426786 6.99626351\n",
            " 0.         2.33449125        nan        nan        nan        nan\n",
            "        nan        nan        nan        nan        nan        nan\n",
            "        nan]\n",
            "mean score nan\n"
          ],
          "name": "stdout"
        },
        {
          "output_type": "stream",
          "text": [
            "/usr/local/lib/python3.7/dist-packages/sklearn/metrics/_regression.py:582: UndefinedMetricWarning: R^2 score is not well-defined with less than two samples.\n",
            "  warnings.warn(msg, UndefinedMetricWarning)\n",
            "/usr/local/lib/python3.7/dist-packages/sklearn/metrics/_regression.py:582: UndefinedMetricWarning: R^2 score is not well-defined with less than two samples.\n",
            "  warnings.warn(msg, UndefinedMetricWarning)\n",
            "/usr/local/lib/python3.7/dist-packages/sklearn/metrics/_regression.py:582: UndefinedMetricWarning: R^2 score is not well-defined with less than two samples.\n",
            "  warnings.warn(msg, UndefinedMetricWarning)\n",
            "/usr/local/lib/python3.7/dist-packages/sklearn/metrics/_regression.py:582: UndefinedMetricWarning: R^2 score is not well-defined with less than two samples.\n",
            "  warnings.warn(msg, UndefinedMetricWarning)\n",
            "/usr/local/lib/python3.7/dist-packages/sklearn/metrics/_regression.py:582: UndefinedMetricWarning: R^2 score is not well-defined with less than two samples.\n",
            "  warnings.warn(msg, UndefinedMetricWarning)\n",
            "/usr/local/lib/python3.7/dist-packages/sklearn/metrics/_regression.py:582: UndefinedMetricWarning: R^2 score is not well-defined with less than two samples.\n",
            "  warnings.warn(msg, UndefinedMetricWarning)\n",
            "/usr/local/lib/python3.7/dist-packages/sklearn/metrics/_regression.py:582: UndefinedMetricWarning: R^2 score is not well-defined with less than two samples.\n",
            "  warnings.warn(msg, UndefinedMetricWarning)\n",
            "/usr/local/lib/python3.7/dist-packages/sklearn/metrics/_regression.py:582: UndefinedMetricWarning: R^2 score is not well-defined with less than two samples.\n",
            "  warnings.warn(msg, UndefinedMetricWarning)\n",
            "/usr/local/lib/python3.7/dist-packages/sklearn/metrics/_regression.py:582: UndefinedMetricWarning: R^2 score is not well-defined with less than two samples.\n",
            "  warnings.warn(msg, UndefinedMetricWarning)\n",
            "/usr/local/lib/python3.7/dist-packages/sklearn/metrics/_regression.py:582: UndefinedMetricWarning: R^2 score is not well-defined with less than two samples.\n",
            "  warnings.warn(msg, UndefinedMetricWarning)\n",
            "/usr/local/lib/python3.7/dist-packages/sklearn/metrics/_regression.py:582: UndefinedMetricWarning: R^2 score is not well-defined with less than two samples.\n",
            "  warnings.warn(msg, UndefinedMetricWarning)\n"
          ],
          "name": "stderr"
        }
      ]
    },
    {
      "cell_type": "code",
      "metadata": {
        "id": "qUsHM606wB6Q"
      },
      "source": [
        "import pandas\n",
        "from sklearn.model_selection import KFold\n",
        "from sklearn.preprocessing import MinMaxScaler\n",
        "from sklearn.svm import SVR\n",
        "import numpy as np"
      ],
      "execution_count": 161,
      "outputs": []
    },
    {
      "cell_type": "code",
      "metadata": {
        "id": "T5HmX9cMUePY"
      },
      "source": [
        "\n",
        "X = modified.drop(['electric_b'], 1)\n",
        "y = modified['electric_b']"
      ],
      "execution_count": 162,
      "outputs": []
    },
    {
      "cell_type": "code",
      "metadata": {
        "colab": {
          "base_uri": "https://localhost:8080/",
          "height": 663
        },
        "id": "oCjO0HG0VURP",
        "outputId": "c51ee1d1-d07f-4f56-9c56-04321a997176"
      },
      "source": [
        "import seaborn as sns\n",
        "#Using Pearson Correlation\n",
        "plt.figure(figsize=(12,10))\n",
        "cor = X.corr()\n",
        "sns.heatmap(cor, annot=True, cmap=plt.cm.CMRmap_r)\n",
        "plt.show()"
      ],
      "execution_count": 163,
      "outputs": [
        {
          "output_type": "display_data",
          "data": {
            "image/png": "[encoded data removed]",
            "text/plain": [
              "<Figure size 864x720 with 2 Axes>"
            ]
          },
          "metadata": {
            "tags": [],
            "needs_background": "light"
          }
        }
      ]
    },
    {
      "cell_type": "code",
      "metadata": {
        "id": "_UHQafUhVURX"
      },
      "source": [
        "# with the following function we can select highly correlated features\n",
        "# it will remove the first feature that is correlated with anything other feature\n",
        "\n",
        "def correlation(dataset, threshold):\n",
        "    col_corr = set()  # Set of all the names of correlated columns\n",
        "    corr_matrix = dataset.corr()\n",
        "    for i in range(len(corr_matrix.columns)):\n",
        "        for j in range(i):\n",
        "            if abs(corr_matrix.iloc[i, j]) > threshold: # we are interested in absolute coeff value\n",
        "                colname = corr_matrix.columns[i]  # getting the name of column\n",
        "                col_corr.add(colname)\n",
        "    return col_corr"
      ],
      "execution_count": 164,
      "outputs": []
    },
    {
      "cell_type": "code",
      "metadata": {
        "id": "EmUoCquoVURY"
      },
      "source": [
        "#corr_features = correlation(X, 0.8)\n",
        "#len(set(corr_features))"
      ],
      "execution_count": 165,
      "outputs": []
    },
    {
      "cell_type": "code",
      "metadata": {
        "id": "iR0BDlbLVURY"
      },
      "source": [
        "#X.drop(corr_features,axis=1)"
      ],
      "execution_count": 166,
      "outputs": []
    },
    {
      "cell_type": "code",
      "metadata": {
        "id": "dMeqM5VVVURZ"
      },
      "source": [
        "#corr_features"
      ],
      "execution_count": 167,
      "outputs": []
    },
    {
      "cell_type": "code",
      "metadata": {
        "id": "InKsiE2UwdxT"
      },
      "source": [
        "\n",
        "X = np.array(X)\n",
        "y = np.array(y)"
      ],
      "execution_count": 168,
      "outputs": []
    },
    {
      "cell_type": "code",
      "metadata": {
        "id": "7co3VsKBl1V8"
      },
      "source": [
        "X = preprocessing.scale(X)\n",
        "X_train, X_test, y_train, y_test = train_test_split(X, y, test_size=0.2)\n",
        "clf = LinearRegression()"
      ],
      "execution_count": 169,
      "outputs": []
    },
    {
      "cell_type": "code",
      "metadata": {
        "colab": {
          "base_uri": "https://localhost:8080/"
        },
        "id": "379g6Rt0l1V-",
        "outputId": "7b4ac2be-62b9-44b5-b2e0-002164c51578"
      },
      "source": [
        "clf.fit(X_train, y_train)\n",
        "confidence = clf.score(X_test, y_test)\n",
        "print(confidence)\n"
      ],
      "execution_count": 170,
      "outputs": [
        {
          "output_type": "stream",
          "text": [
            "-0.6176795585746704\n"
          ],
          "name": "stdout"
        }
      ]
    },
    {
      "cell_type": "code",
      "metadata": {
        "id": "Y2eQia26mRvL"
      },
      "source": [
        "y_pred = clf.predict(X_test)"
      ],
      "execution_count": 171,
      "outputs": []
    },
    {
      "cell_type": "code",
      "metadata": {
        "colab": {
          "base_uri": "https://localhost:8080/"
        },
        "id": "FLqXzoZbmQAs",
        "outputId": "4d9fa2a2-cd69-4001-8fe6-161e2a13ebe0"
      },
      "source": [
        "from sklearn.metrics import mean_squared_log_error\n",
        "msle=mean_squared_log_error(y_pred,y_test)\n",
        "rmsleLR1=np.sqrt(msle)\n",
        "print('RMLSE for the data:',rmsleLR1)"
      ],
      "execution_count": 172,
      "outputs": [
        {
          "output_type": "stream",
          "text": [
            "RMLSE for the data: 0.4094374061435444\n"
          ],
          "name": "stdout"
        }
      ]
    },
    {
      "cell_type": "code",
      "metadata": {
        "colab": {
          "base_uri": "https://localhost:8080/"
        },
        "id": "qUz3qRtKePRW",
        "outputId": "9b8c4671-bd76-4cf4-e51e-2f18e57cc3fb"
      },
      "source": [
        "\n",
        "# evaluate  regression model using k-fold cross-validation\n",
        "from numpy import mean\n",
        "from numpy import std\n",
        "from sklearn.datasets import make_classification\n",
        "from sklearn.model_selection import KFold\n",
        "from sklearn.model_selection import cross_val_score\n",
        "from sklearn.linear_model import LogisticRegression\n",
        "# create dataset\n",
        "\n",
        "#X = np.array(modified.drop(['PS','docked_b','count'], 1))\n",
        "#y = np.array(modified['docked_b'])\n",
        "# prepare the cross-validation procedure\n",
        "cv = KFold(n_splits=10, random_state=5, shuffle=True)\n",
        "# create model\n",
        "model = LinearRegression()\n",
        "# evaluate model\n",
        "scores = cross_val_score(model, X, y, scoring='neg_mean_squared_error', cv=cv)\n",
        "# report performance\n",
        "print(scores)\n",
        "print('MSE: %.3f (%.3f)' % (mean(scores), std(scores)))"
      ],
      "execution_count": 173,
      "outputs": [
        {
          "output_type": "stream",
          "text": [
            "[-0.95026123 -3.65212182 -2.01535392 -1.52955691 -0.65084675 -0.51448516\n",
            " -1.07544076 -0.1156546  -1.60215891 -0.39029937]\n",
            "MSE: -1.250 (0.980)\n"
          ],
          "name": "stdout"
        }
      ]
    },
    {
      "cell_type": "code",
      "metadata": {
        "id": "-LH2FQCWePRm"
      },
      "source": [
        ""
      ],
      "execution_count": 173,
      "outputs": []
    },
    {
      "cell_type": "code",
      "metadata": {
        "colab": {
          "base_uri": "https://localhost:8080/"
        },
        "id": "ur5s5yG5ePRn",
        "outputId": "1f8d6464-d473-4a32-a2d3-85644a75dee1"
      },
      "source": [
        "from sklearn.tree import DecisionTreeRegressor\n",
        "#DecisionTreeRegressor class has many parameters. Input only #random_state=0 or 42.\n",
        "regressor = DecisionTreeRegressor(random_state=0)\n",
        "#Fit the regressor object to the dataset.\n",
        "regressor.fit(X_train, y_train)\n",
        "y_pred = regressor.predict(X_test)\n",
        "confidence = regressor.score(X_test, y_test)\n",
        "print(confidence)"
      ],
      "execution_count": 174,
      "outputs": [
        {
          "output_type": "stream",
          "text": [
            "-1.75\n"
          ],
          "name": "stdout"
        }
      ]
    },
    {
      "cell_type": "code",
      "metadata": {
        "colab": {
          "base_uri": "https://localhost:8080/"
        },
        "id": "iMvQcM7TePRn",
        "outputId": "37fd701e-b145-42e9-e94b-db38f3f55b37"
      },
      "source": [
        "from sklearn.metrics import mean_squared_log_error\n",
        "msle=mean_squared_log_error(y_pred,y_test)\n",
        "rmsleDT1=np.sqrt(msle)\n",
        "print('RMLSE for the data:',rmsleDT1)"
      ],
      "execution_count": 175,
      "outputs": [
        {
          "output_type": "stream",
          "text": [
            "RMLSE for the data: 0.5528731433346898\n"
          ],
          "name": "stdout"
        }
      ]
    },
    {
      "cell_type": "code",
      "metadata": {
        "colab": {
          "base_uri": "https://localhost:8080/"
        },
        "id": "Tx0UQ8CmePRo",
        "outputId": "b4a979d8-4e2f-430e-d1bb-1d9ffcbcb97e"
      },
      "source": [
        "# evaluate  regression model using k-fold cross-validation\n",
        "from numpy import mean\n",
        "from numpy import std\n",
        "from sklearn.datasets import make_classification\n",
        "from sklearn.model_selection import KFold\n",
        "from sklearn.model_selection import cross_val_score\n",
        "from sklearn.linear_model import LinearRegression\n",
        "# create dataset\n",
        "\n",
        "#X = np.array(modified.drop(['PS','docked_b','count'], 1))\n",
        "#y = np.array(modified['docked_b'])\n",
        "# prepare the cross-validation procedure\n",
        "cv = KFold(n_splits=10, random_state=5, shuffle=True)\n",
        "# evaluate model\n",
        "scores = cross_val_score(regressor, X, y, scoring='accuracy', cv=cv, n_jobs=-1)\n",
        "# report performance\n",
        "print(scores)\n",
        "print('Accuracy: %.3f (%.3f)' % (mean(scores), std(scores)))"
      ],
      "execution_count": 176,
      "outputs": [
        {
          "output_type": "stream",
          "text": [
            "[0.         0.25       0.25       0.25       0.         0.\n",
            " 0.         0.25       0.         0.33333333]\n",
            "Accuracy: 0.133 (0.135)\n"
          ],
          "name": "stdout"
        }
      ]
    },
    {
      "cell_type": "code",
      "metadata": {
        "colab": {
          "base_uri": "https://localhost:8080/"
        },
        "id": "ABGCmM0QePRo",
        "outputId": "1a7f681c-c1bb-4eb7-825e-d2b3cf44a3cd"
      },
      "source": [
        "from sklearn.preprocessing import StandardScaler\n",
        "\n",
        "sc = StandardScaler()\n",
        "#X_train = sc.fit_transform(X_train)\n",
        "#X_test = sc.transform(X_test)\n",
        "from sklearn.ensemble import RandomForestRegressor\n",
        "\n",
        "regressor = RandomForestRegressor(n_estimators=20, random_state=0)\n",
        "regressor.fit(X_train, y_train)\n",
        "y_pred = regressor.predict(X_test)\n",
        "confidence = regressor.score(X_test, y_test)\n",
        "print(confidence)"
      ],
      "execution_count": 177,
      "outputs": [
        {
          "output_type": "stream",
          "text": [
            "-0.4337500000000001\n"
          ],
          "name": "stdout"
        }
      ]
    },
    {
      "cell_type": "code",
      "metadata": {
        "colab": {
          "base_uri": "https://localhost:8080/"
        },
        "id": "oWC2Hp3SePRp",
        "outputId": "1855e7f8-cb64-4f70-f165-6a0908b7be91"
      },
      "source": [
        "from sklearn.metrics import mean_squared_log_error\n",
        "msle=mean_squared_log_error(y_pred,y_test)\n",
        "rmsleRF1=np.sqrt(msle)\n",
        "print('RMLSE for the data:',rmsleRF1)"
      ],
      "execution_count": 178,
      "outputs": [
        {
          "output_type": "stream",
          "text": [
            "RMLSE for the data: 0.3938337892819097\n"
          ],
          "name": "stdout"
        }
      ]
    },
    {
      "cell_type": "code",
      "metadata": {
        "colab": {
          "base_uri": "https://localhost:8080/"
        },
        "id": "J1YDO3KCePRp",
        "outputId": "87f87563-8b4d-4255-e14d-90885f3dc3b2"
      },
      "source": [
        "# Load libraries\n",
        "from sklearn.ensemble import AdaBoostClassifier\n",
        "from sklearn import datasets\n",
        "# Import train_test_split function\n",
        "from sklearn.model_selection import train_test_split\n",
        "#Import scikit-learn metrics module for accuracy calculation\n",
        "from sklearn import metrics\n",
        "\n",
        "X_train, X_test, y_train, y_test = train_test_split(X, y, test_size=0.3)\n",
        "abc = AdaBoostClassifier(n_estimators=50,\n",
        "                         learning_rate=1)\n",
        "# Train Adaboost Classifer\n",
        "model = abc.fit(X_train, y_train)\n",
        "y_pred = abc.predict(X_test)\n",
        "confidence = abc.score(X_test, y_test)\n",
        "print(confidence)\n"
      ],
      "execution_count": 179,
      "outputs": [
        {
          "output_type": "stream",
          "text": [
            "0.25\n"
          ],
          "name": "stdout"
        }
      ]
    },
    {
      "cell_type": "code",
      "metadata": {
        "colab": {
          "base_uri": "https://localhost:8080/"
        },
        "id": "FdO6T1hlePRq",
        "outputId": "cca5e0bf-4968-4aa6-aadf-222b3794b5b1"
      },
      "source": [
        "from sklearn.metrics import mean_squared_log_error\n",
        "msle=mean_squared_log_error(y_pred,y_test)\n",
        "rmsleADB1=np.sqrt(msle)\n",
        "print('RMLSE for the data:',rmsleADB1)"
      ],
      "execution_count": 180,
      "outputs": [
        {
          "output_type": "stream",
          "text": [
            "RMLSE for the data: 0.4128133770165078\n"
          ],
          "name": "stdout"
        }
      ]
    },
    {
      "cell_type": "code",
      "metadata": {
        "colab": {
          "base_uri": "https://localhost:8080/"
        },
        "id": "3-Ye02T9ePRq",
        "outputId": "3ad561ad-6073-460e-b6f0-e9bf5f49b0fc"
      },
      "source": [
        "# evaluate  regression model using k-fold cross-validation\n",
        "from numpy import mean\n",
        "from numpy import std\n",
        "from sklearn.datasets import make_classification\n",
        "from sklearn.model_selection import KFold\n",
        "from sklearn.model_selection import cross_val_score\n",
        "from sklearn.linear_model import LinearRegression\n",
        "# create dataset\n",
        "\n",
        "#X = np.array(modified.drop(['PS','docked_b','count'], 1))\n",
        "#y = np.array(modified['docked_b'])\n",
        "# prepare the cross-validation procedure\n",
        "cv = KFold(n_splits=10, random_state=5, shuffle=True)\n",
        "# evaluate model\n",
        "scores = cross_val_score(abc, X, y, scoring='accuracy', cv=cv, n_jobs=-1)\n",
        "# report performance\n",
        "print(scores)\n",
        "print('Accuracy: %.3f (%.3f)' % (mean(scores), std(scores)))"
      ],
      "execution_count": 181,
      "outputs": [
        {
          "output_type": "stream",
          "text": [
            "[0.75 0.   0.25 0.25 0.25 0.25 0.25 0.25 0.5  1.  ]\n",
            "Accuracy: 0.375 (0.280)\n"
          ],
          "name": "stdout"
        }
      ]
    },
    {
      "cell_type": "code",
      "metadata": {
        "id": "eUgl3iVDxAoS",
        "colab": {
          "base_uri": "https://localhost:8080/",
          "height": 166
        },
        "outputId": "68a56130-53d9-43c5-969b-011e4da8600a"
      },
      "source": [
        "import pandas as pd\n",
        "\n",
        "cars = {'type': ['Linear Regression', 'Decision Tree','Random Forest','ADA Boost'],\n",
        "        'RMSLE(Docked Bike)': [rmsleLR,rmsleDT,rmsleRF,rmsleADB],\n",
        "        'RMSLE(Electric Bike]' : [rmsleLR1,rmsleDT1,rmsleRF1,rmsleADB1]\n",
        "        }\n",
        "\n",
        "df = pd.DataFrame(cars, columns = ['type', 'RMSLE(Docked Bike)','RMSLE(Electric Bike]'])\n",
        "df"
      ],
      "execution_count": 183,
      "outputs": [
        {
          "output_type": "execute_result",
          "data": {
            "text/html": [
              "<div>\n",
              "<style scoped>\n",
              "    .dataframe tbody tr th:only-of-type {\n",
              "        vertical-align: middle;\n",
              "    }\n",
              "\n",
              "    .dataframe tbody tr th {\n",
              "        vertical-align: top;\n",
              "    }\n",
              "\n",
              "    .dataframe thead th {\n",
              "        text-align: right;\n",
              "    }\n",
              "</style>\n",
              "<table border=\"1\" class=\"dataframe\">\n",
              "  <thead>\n",
              "    <tr style=\"text-align: right;\">\n",
              "      <th></th>\n",
              "      <th>type</th>\n",
              "      <th>RMSLE(Docked Bike)</th>\n",
              "      <th>RMSLE(Electric Bike]</th>\n",
              "    </tr>\n",
              "  </thead>\n",
              "  <tbody>\n",
              "    <tr>\n",
              "      <th>0</th>\n",
              "      <td>Linear Regression</td>\n",
              "      <td>0.612834</td>\n",
              "      <td>0.409437</td>\n",
              "    </tr>\n",
              "    <tr>\n",
              "      <th>1</th>\n",
              "      <td>Decision Tree</td>\n",
              "      <td>0.896535</td>\n",
              "      <td>0.552873</td>\n",
              "    </tr>\n",
              "    <tr>\n",
              "      <th>2</th>\n",
              "      <td>Random Forest</td>\n",
              "      <td>0.715804</td>\n",
              "      <td>0.393834</td>\n",
              "    </tr>\n",
              "    <tr>\n",
              "      <th>3</th>\n",
              "      <td>ADA Boost</td>\n",
              "      <td>0.560875</td>\n",
              "      <td>0.412813</td>\n",
              "    </tr>\n",
              "  </tbody>\n",
              "</table>\n",
              "</div>"
            ],
            "text/plain": [
              "                type  RMSLE(Docked Bike)  RMSLE(Electric Bike]\n",
              "0  Linear Regression            0.612834              0.409437\n",
              "1      Decision Tree            0.896535              0.552873\n",
              "2      Random Forest            0.715804              0.393834\n",
              "3          ADA Boost            0.560875              0.412813"
            ]
          },
          "metadata": {
            "tags": []
          },
          "execution_count": 183
        }
      ]
    },
    {
      "cell_type": "code",
      "metadata": {
        "id": "uzhNMNg992Qq"
      },
      "source": [
        ""
      ],
      "execution_count": 182,
      "outputs": []
    }
  ]
}