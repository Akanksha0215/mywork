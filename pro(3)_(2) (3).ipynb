{
  "nbformat": 4,
  "nbformat_minor": 0,
  "metadata": {
    "colab": {
      "name": "pro(3) (2).ipynb",
      "provenance": [],
      "collapsed_sections": []
    },
    "kernelspec": {
      "display_name": "Python 3",
      "name": "python3"
    }
  },
  "cells": [
    {
      "cell_type": "code",
      "metadata": {
        "id": "4IKfoqOYoQuU"
      },
      "source": [
        "# Importing Library -------------%%%%\n",
        "\n",
        "!pip install -U -q PyDrive\n",
        "from pydrive.auth import GoogleAuth\n",
        "from pydrive.drive import GoogleDrive\n",
        "from google.colab import auth\n",
        "from oauth2client.client import GoogleCredentials\n",
        "\n",
        "import pandas as pd \n",
        "%matplotlib inline\n",
        "import matplotlib.pyplot as plt\n",
        "import numpy as np\n",
        "from scipy.stats import norm\n",
        "import seaborn as sns\n",
        "\n"
      ],
      "execution_count": 89,
      "outputs": []
    },
    {
      "cell_type": "code",
      "metadata": {
        "id": "QDoU_XCxoTUo"
      },
      "source": [
        "# Authenticating Users ------------%%%%%%\n",
        "auth.authenticate_user()\n",
        "gauth = GoogleAuth()\n",
        "gauth.credentials = GoogleCredentials.get_application_default()\n",
        "drive = GoogleDrive(gauth)\n"
      ],
      "execution_count": 90,
      "outputs": []
    },
    {
      "cell_type": "code",
      "metadata": {
        "id": "1FDPfz04oYEP"
      },
      "source": [
        "\n",
        "\n",
        "\n",
        "downloaded = drive.CreateFile({'id':'1H3Dpt2nkyFhpap7CuATl_YGi2dXJFS7z'}) # replace the id with id of file you want to access\n",
        "downloaded.GetContentFile('tv.csv')\n",
        "\n",
        "downloaded = drive.CreateFile({'id':'1sYMrQB_ViWlhUAkBA_znHSZLxDPHIQBh'}) # replace the id with id of file you want to access\n",
        "downloaded.GetContentFile('temp_data.csv')"
      ],
      "execution_count": 91,
      "outputs": []
    },
    {
      "cell_type": "code",
      "metadata": {
        "colab": {
          "base_uri": "https://localhost:8080/",
          "height": 195
        },
        "id": "BwRH-xonH1R8",
        "outputId": "a5352b2f-8e8b-4109-88b9-86f481ad3bdf"
      },
      "source": [
        "#imporing capitalbikeshare-tripdata dataset\n",
        "temp = pd.read_csv(\"temp_data.csv\") \n",
        "temp.head()"
      ],
      "execution_count": 92,
      "outputs": [
        {
          "output_type": "execute_result",
          "data": {
            "text/html": [
              "<div>\n",
              "<style scoped>\n",
              "    .dataframe tbody tr th:only-of-type {\n",
              "        vertical-align: middle;\n",
              "    }\n",
              "\n",
              "    .dataframe tbody tr th {\n",
              "        vertical-align: top;\n",
              "    }\n",
              "\n",
              "    .dataframe thead th {\n",
              "        text-align: right;\n",
              "    }\n",
              "</style>\n",
              "<table border=\"1\" class=\"dataframe\">\n",
              "  <thead>\n",
              "    <tr style=\"text-align: right;\">\n",
              "      <th></th>\n",
              "      <th>LAT</th>\n",
              "      <th>LON</th>\n",
              "      <th>YEAR</th>\n",
              "      <th>MO</th>\n",
              "      <th>DY</th>\n",
              "      <th>PRECTOT</th>\n",
              "      <th>QV2M</th>\n",
              "      <th>RH2M</th>\n",
              "      <th>PS</th>\n",
              "      <th>T2M_RANGE</th>\n",
              "      <th>TS</th>\n",
              "      <th>T2MDEW</th>\n",
              "      <th>T2MWET</th>\n",
              "      <th>T2M_MAX</th>\n",
              "      <th>T2M_MIN</th>\n",
              "      <th>T2M</th>\n",
              "      <th>WS50M_RANGE</th>\n",
              "      <th>WS10M_RANGE</th>\n",
              "    </tr>\n",
              "  </thead>\n",
              "  <tbody>\n",
              "    <tr>\n",
              "      <th>0</th>\n",
              "      <td>39.07271</td>\n",
              "      <td>-76.98409</td>\n",
              "      <td>2020</td>\n",
              "      <td>1</td>\n",
              "      <td>1</td>\n",
              "      <td>0.00</td>\n",
              "      <td>3.12</td>\n",
              "      <td>70.76</td>\n",
              "      <td>99.90</td>\n",
              "      <td>8.02</td>\n",
              "      <td>1.35</td>\n",
              "      <td>-2.70</td>\n",
              "      <td>-2.64</td>\n",
              "      <td>7.11</td>\n",
              "      <td>-0.91</td>\n",
              "      <td>2.02</td>\n",
              "      <td>4.67</td>\n",
              "      <td>4.39</td>\n",
              "    </tr>\n",
              "    <tr>\n",
              "      <th>1</th>\n",
              "      <td>39.07271</td>\n",
              "      <td>-76.98409</td>\n",
              "      <td>2020</td>\n",
              "      <td>1</td>\n",
              "      <td>2</td>\n",
              "      <td>0.01</td>\n",
              "      <td>4.09</td>\n",
              "      <td>86.33</td>\n",
              "      <td>100.20</td>\n",
              "      <td>9.68</td>\n",
              "      <td>2.23</td>\n",
              "      <td>0.97</td>\n",
              "      <td>0.77</td>\n",
              "      <td>7.90</td>\n",
              "      <td>-1.78</td>\n",
              "      <td>3.05</td>\n",
              "      <td>5.88</td>\n",
              "      <td>1.73</td>\n",
              "    </tr>\n",
              "    <tr>\n",
              "      <th>2</th>\n",
              "      <td>39.07271</td>\n",
              "      <td>-76.98409</td>\n",
              "      <td>2020</td>\n",
              "      <td>1</td>\n",
              "      <td>3</td>\n",
              "      <td>6.28</td>\n",
              "      <td>6.55</td>\n",
              "      <td>96.38</td>\n",
              "      <td>99.80</td>\n",
              "      <td>6.49</td>\n",
              "      <td>7.72</td>\n",
              "      <td>7.61</td>\n",
              "      <td>7.59</td>\n",
              "      <td>12.00</td>\n",
              "      <td>5.51</td>\n",
              "      <td>8.17</td>\n",
              "      <td>5.32</td>\n",
              "      <td>2.81</td>\n",
              "    </tr>\n",
              "    <tr>\n",
              "      <th>3</th>\n",
              "      <td>39.07271</td>\n",
              "      <td>-76.98409</td>\n",
              "      <td>2020</td>\n",
              "      <td>1</td>\n",
              "      <td>4</td>\n",
              "      <td>6.11</td>\n",
              "      <td>7.00</td>\n",
              "      <td>95.56</td>\n",
              "      <td>99.33</td>\n",
              "      <td>10.09</td>\n",
              "      <td>8.64</td>\n",
              "      <td>8.51</td>\n",
              "      <td>8.33</td>\n",
              "      <td>14.77</td>\n",
              "      <td>4.68</td>\n",
              "      <td>9.20</td>\n",
              "      <td>7.27</td>\n",
              "      <td>5.43</td>\n",
              "    </tr>\n",
              "    <tr>\n",
              "      <th>4</th>\n",
              "      <td>39.07271</td>\n",
              "      <td>-76.98409</td>\n",
              "      <td>2020</td>\n",
              "      <td>1</td>\n",
              "      <td>5</td>\n",
              "      <td>0.03</td>\n",
              "      <td>3.03</td>\n",
              "      <td>69.01</td>\n",
              "      <td>100.38</td>\n",
              "      <td>5.19</td>\n",
              "      <td>1.67</td>\n",
              "      <td>-3.04</td>\n",
              "      <td>-3.02</td>\n",
              "      <td>4.63</td>\n",
              "      <td>-0.56</td>\n",
              "      <td>2.01</td>\n",
              "      <td>11.63</td>\n",
              "      <td>8.55</td>\n",
              "    </tr>\n",
              "  </tbody>\n",
              "</table>\n",
              "</div>"
            ],
            "text/plain": [
              "        LAT       LON  YEAR  MO  ...  T2M_MIN   T2M  WS50M_RANGE  WS10M_RANGE\n",
              "0  39.07271 -76.98409  2020   1  ...    -0.91  2.02         4.67         4.39\n",
              "1  39.07271 -76.98409  2020   1  ...    -1.78  3.05         5.88         1.73\n",
              "2  39.07271 -76.98409  2020   1  ...     5.51  8.17         5.32         2.81\n",
              "3  39.07271 -76.98409  2020   1  ...     4.68  9.20         7.27         5.43\n",
              "4  39.07271 -76.98409  2020   1  ...    -0.56  2.01        11.63         8.55\n",
              "\n",
              "[5 rows x 18 columns]"
            ]
          },
          "metadata": {
            "tags": []
          },
          "execution_count": 92
        }
      ]
    },
    {
      "cell_type": "code",
      "metadata": {
        "colab": {
          "base_uri": "https://localhost:8080/",
          "height": 195
        },
        "id": "Z5ORIWhUes_l",
        "outputId": "c020ac33-1a78-451f-c51e-5d8a79f04eed"
      },
      "source": [
        "#imporing capitalbikeshare-tripdata dataset\n",
        "df = pd.read_csv(\"tv.csv\") \n",
        "df.head()"
      ],
      "execution_count": 93,
      "outputs": [
        {
          "output_type": "execute_result",
          "data": {
            "text/html": [
              "<div>\n",
              "<style scoped>\n",
              "    .dataframe tbody tr th:only-of-type {\n",
              "        vertical-align: middle;\n",
              "    }\n",
              "\n",
              "    .dataframe tbody tr th {\n",
              "        vertical-align: top;\n",
              "    }\n",
              "\n",
              "    .dataframe thead th {\n",
              "        text-align: right;\n",
              "    }\n",
              "</style>\n",
              "<table border=\"1\" class=\"dataframe\">\n",
              "  <thead>\n",
              "    <tr style=\"text-align: right;\">\n",
              "      <th></th>\n",
              "      <th>Unnamed: 0</th>\n",
              "      <th>ride_id</th>\n",
              "      <th>rideable_type</th>\n",
              "      <th>started_at</th>\n",
              "      <th>start_station_id</th>\n",
              "      <th>time_to_travel</th>\n",
              "      <th>DY</th>\n",
              "      <th>MO</th>\n",
              "      <th>YEAR</th>\n",
              "    </tr>\n",
              "  </thead>\n",
              "  <tbody>\n",
              "    <tr>\n",
              "      <th>0</th>\n",
              "      <td>0</td>\n",
              "      <td>4479E04D9D45AC6B</td>\n",
              "      <td>docked_bike</td>\n",
              "      <td>2020-08-22 17:09:39</td>\n",
              "      <td>31287.0</td>\n",
              "      <td>1223.0</td>\n",
              "      <td>22.0</td>\n",
              "      <td>8.0</td>\n",
              "      <td>2020.0</td>\n",
              "    </tr>\n",
              "    <tr>\n",
              "      <th>1</th>\n",
              "      <td>1</td>\n",
              "      <td>EF88DFBC1E6648EC</td>\n",
              "      <td>docked_bike</td>\n",
              "      <td>2020-08-26 13:13:54</td>\n",
              "      <td>31271.0</td>\n",
              "      <td>287.0</td>\n",
              "      <td>26.0</td>\n",
              "      <td>8.0</td>\n",
              "      <td>2020.0</td>\n",
              "    </tr>\n",
              "    <tr>\n",
              "      <th>2</th>\n",
              "      <td>2</td>\n",
              "      <td>25812556961CFABD</td>\n",
              "      <td>docked_bike</td>\n",
              "      <td>2020-08-07 16:34:41</td>\n",
              "      <td>32014.0</td>\n",
              "      <td>2338.0</td>\n",
              "      <td>7.0</td>\n",
              "      <td>8.0</td>\n",
              "      <td>2020.0</td>\n",
              "    </tr>\n",
              "    <tr>\n",
              "      <th>3</th>\n",
              "      <td>3</td>\n",
              "      <td>1621384E51D38F1F</td>\n",
              "      <td>docked_bike</td>\n",
              "      <td>2020-08-07 20:32:05</td>\n",
              "      <td>31528.0</td>\n",
              "      <td>833.0</td>\n",
              "      <td>7.0</td>\n",
              "      <td>8.0</td>\n",
              "      <td>2020.0</td>\n",
              "    </tr>\n",
              "    <tr>\n",
              "      <th>4</th>\n",
              "      <td>4</td>\n",
              "      <td>BC10B8C7848D1FDF</td>\n",
              "      <td>docked_bike</td>\n",
              "      <td>2020-08-18 13:40:34</td>\n",
              "      <td>31122.0</td>\n",
              "      <td>513.0</td>\n",
              "      <td>18.0</td>\n",
              "      <td>8.0</td>\n",
              "      <td>2020.0</td>\n",
              "    </tr>\n",
              "  </tbody>\n",
              "</table>\n",
              "</div>"
            ],
            "text/plain": [
              "   Unnamed: 0           ride_id rideable_type  ...    DY   MO    YEAR\n",
              "0           0  4479E04D9D45AC6B   docked_bike  ...  22.0  8.0  2020.0\n",
              "1           1  EF88DFBC1E6648EC   docked_bike  ...  26.0  8.0  2020.0\n",
              "2           2  25812556961CFABD   docked_bike  ...   7.0  8.0  2020.0\n",
              "3           3  1621384E51D38F1F   docked_bike  ...   7.0  8.0  2020.0\n",
              "4           4  BC10B8C7848D1FDF   docked_bike  ...  18.0  8.0  2020.0\n",
              "\n",
              "[5 rows x 9 columns]"
            ]
          },
          "metadata": {
            "tags": []
          },
          "execution_count": 93
        }
      ]
    },
    {
      "cell_type": "code",
      "metadata": {
        "colab": {
          "base_uri": "https://localhost:8080/",
          "height": 195
        },
        "id": "sd2rN2PNqEy6",
        "outputId": "de464a5d-22db-48b1-dbf9-39f2ae1df454"
      },
      "source": [
        "s1 = df.query('start_station_id == 31131')\n",
        "s1 = s1.sort_values(by=['DY'])\n",
        "s1 = pd.DataFrame(s1)\n",
        "s1 = s1.reset_index()\n",
        "s1.head()"
      ],
      "execution_count": 94,
      "outputs": [
        {
          "output_type": "execute_result",
          "data": {
            "text/html": [
              "<div>\n",
              "<style scoped>\n",
              "    .dataframe tbody tr th:only-of-type {\n",
              "        vertical-align: middle;\n",
              "    }\n",
              "\n",
              "    .dataframe tbody tr th {\n",
              "        vertical-align: top;\n",
              "    }\n",
              "\n",
              "    .dataframe thead th {\n",
              "        text-align: right;\n",
              "    }\n",
              "</style>\n",
              "<table border=\"1\" class=\"dataframe\">\n",
              "  <thead>\n",
              "    <tr style=\"text-align: right;\">\n",
              "      <th></th>\n",
              "      <th>index</th>\n",
              "      <th>Unnamed: 0</th>\n",
              "      <th>ride_id</th>\n",
              "      <th>rideable_type</th>\n",
              "      <th>started_at</th>\n",
              "      <th>start_station_id</th>\n",
              "      <th>time_to_travel</th>\n",
              "      <th>DY</th>\n",
              "      <th>MO</th>\n",
              "      <th>YEAR</th>\n",
              "    </tr>\n",
              "  </thead>\n",
              "  <tbody>\n",
              "    <tr>\n",
              "      <th>0</th>\n",
              "      <td>39247076</td>\n",
              "      <td>39247076</td>\n",
              "      <td>5353FF6B298080A3</td>\n",
              "      <td>docked_bike</td>\n",
              "      <td>2020-10-01 08:22:30</td>\n",
              "      <td>31131.0</td>\n",
              "      <td>1007.0</td>\n",
              "      <td>1.0</td>\n",
              "      <td>10.0</td>\n",
              "      <td>2020.0</td>\n",
              "    </tr>\n",
              "    <tr>\n",
              "      <th>1</th>\n",
              "      <td>5649483</td>\n",
              "      <td>5649483</td>\n",
              "      <td>E43D340103773E59</td>\n",
              "      <td>docked_bike</td>\n",
              "      <td>2020-08-01 21:42:15</td>\n",
              "      <td>31131.0</td>\n",
              "      <td>2295.0</td>\n",
              "      <td>1.0</td>\n",
              "      <td>8.0</td>\n",
              "      <td>2020.0</td>\n",
              "    </tr>\n",
              "    <tr>\n",
              "      <th>2</th>\n",
              "      <td>18526263</td>\n",
              "      <td>18526263</td>\n",
              "      <td>F1255779A5D65C31</td>\n",
              "      <td>docked_bike</td>\n",
              "      <td>2020-09-01 22:55:45</td>\n",
              "      <td>31131.0</td>\n",
              "      <td>236.0</td>\n",
              "      <td>1.0</td>\n",
              "      <td>9.0</td>\n",
              "      <td>2020.0</td>\n",
              "    </tr>\n",
              "    <tr>\n",
              "      <th>3</th>\n",
              "      <td>42831679</td>\n",
              "      <td>42831679</td>\n",
              "      <td>BFF20119F0FCEBB9</td>\n",
              "      <td>docked_bike</td>\n",
              "      <td>2020-10-01 07:42:00</td>\n",
              "      <td>31131.0</td>\n",
              "      <td>592.0</td>\n",
              "      <td>1.0</td>\n",
              "      <td>10.0</td>\n",
              "      <td>2020.0</td>\n",
              "    </tr>\n",
              "    <tr>\n",
              "      <th>4</th>\n",
              "      <td>8973844</td>\n",
              "      <td>8973844</td>\n",
              "      <td>88AEB2387543B67B</td>\n",
              "      <td>electric_bike</td>\n",
              "      <td>2020-08-01 18:36:31</td>\n",
              "      <td>31131.0</td>\n",
              "      <td>517.0</td>\n",
              "      <td>1.0</td>\n",
              "      <td>8.0</td>\n",
              "      <td>2020.0</td>\n",
              "    </tr>\n",
              "  </tbody>\n",
              "</table>\n",
              "</div>"
            ],
            "text/plain": [
              "      index  Unnamed: 0           ride_id  ...   DY    MO    YEAR\n",
              "0  39247076    39247076  5353FF6B298080A3  ...  1.0  10.0  2020.0\n",
              "1   5649483     5649483  E43D340103773E59  ...  1.0   8.0  2020.0\n",
              "2  18526263    18526263  F1255779A5D65C31  ...  1.0   9.0  2020.0\n",
              "3  42831679    42831679  BFF20119F0FCEBB9  ...  1.0  10.0  2020.0\n",
              "4   8973844     8973844  88AEB2387543B67B  ...  1.0   8.0  2020.0\n",
              "\n",
              "[5 rows x 10 columns]"
            ]
          },
          "metadata": {
            "tags": []
          },
          "execution_count": 94
        }
      ]
    },
    {
      "cell_type": "code",
      "metadata": {
        "colab": {
          "base_uri": "https://localhost:8080/",
          "height": 606
        },
        "id": "6KNSkHYlTgfm",
        "outputId": "4ac4afac-36ae-4346-d04a-cf8824553699"
      },
      "source": [
        "result = pd.merge(s1, temp, how='left', on=['DY', 'MO','YEAR'])\n",
        "result\n"
      ],
      "execution_count": 95,
      "outputs": [
        {
          "output_type": "execute_result",
          "data": {
            "text/html": [
              "<div>\n",
              "<style scoped>\n",
              "    .dataframe tbody tr th:only-of-type {\n",
              "        vertical-align: middle;\n",
              "    }\n",
              "\n",
              "    .dataframe tbody tr th {\n",
              "        vertical-align: top;\n",
              "    }\n",
              "\n",
              "    .dataframe thead th {\n",
              "        text-align: right;\n",
              "    }\n",
              "</style>\n",
              "<table border=\"1\" class=\"dataframe\">\n",
              "  <thead>\n",
              "    <tr style=\"text-align: right;\">\n",
              "      <th></th>\n",
              "      <th>index</th>\n",
              "      <th>Unnamed: 0</th>\n",
              "      <th>ride_id</th>\n",
              "      <th>rideable_type</th>\n",
              "      <th>started_at</th>\n",
              "      <th>start_station_id</th>\n",
              "      <th>time_to_travel</th>\n",
              "      <th>DY</th>\n",
              "      <th>MO</th>\n",
              "      <th>YEAR</th>\n",
              "      <th>LAT</th>\n",
              "      <th>LON</th>\n",
              "      <th>PRECTOT</th>\n",
              "      <th>QV2M</th>\n",
              "      <th>RH2M</th>\n",
              "      <th>PS</th>\n",
              "      <th>T2M_RANGE</th>\n",
              "      <th>TS</th>\n",
              "      <th>T2MDEW</th>\n",
              "      <th>T2MWET</th>\n",
              "      <th>T2M_MAX</th>\n",
              "      <th>T2M_MIN</th>\n",
              "      <th>T2M</th>\n",
              "      <th>WS50M_RANGE</th>\n",
              "      <th>WS10M_RANGE</th>\n",
              "    </tr>\n",
              "  </thead>\n",
              "  <tbody>\n",
              "    <tr>\n",
              "      <th>0</th>\n",
              "      <td>39247076</td>\n",
              "      <td>39247076</td>\n",
              "      <td>5353FF6B298080A3</td>\n",
              "      <td>docked_bike</td>\n",
              "      <td>2020-10-01 08:22:30</td>\n",
              "      <td>31131.0</td>\n",
              "      <td>1007.0</td>\n",
              "      <td>1.0</td>\n",
              "      <td>10.0</td>\n",
              "      <td>2020.0</td>\n",
              "      <td>39.07271</td>\n",
              "      <td>-76.98409</td>\n",
              "      <td>2.51</td>\n",
              "      <td>8.18</td>\n",
              "      <td>68.46</td>\n",
              "      <td>100.16</td>\n",
              "      <td>10.40</td>\n",
              "      <td>17.06</td>\n",
              "      <td>11.04</td>\n",
              "      <td>10.78</td>\n",
              "      <td>22.21</td>\n",
              "      <td>11.81</td>\n",
              "      <td>16.79</td>\n",
              "      <td>6.68</td>\n",
              "      <td>4.02</td>\n",
              "    </tr>\n",
              "    <tr>\n",
              "      <th>1</th>\n",
              "      <td>5649483</td>\n",
              "      <td>5649483</td>\n",
              "      <td>E43D340103773E59</td>\n",
              "      <td>docked_bike</td>\n",
              "      <td>2020-08-01 21:42:15</td>\n",
              "      <td>31131.0</td>\n",
              "      <td>2295.0</td>\n",
              "      <td>1.0</td>\n",
              "      <td>8.0</td>\n",
              "      <td>2020.0</td>\n",
              "      <td>39.07271</td>\n",
              "      <td>-76.98409</td>\n",
              "      <td>1.71</td>\n",
              "      <td>15.53</td>\n",
              "      <td>70.06</td>\n",
              "      <td>100.14</td>\n",
              "      <td>9.68</td>\n",
              "      <td>27.89</td>\n",
              "      <td>21.05</td>\n",
              "      <td>20.91</td>\n",
              "      <td>31.55</td>\n",
              "      <td>21.88</td>\n",
              "      <td>26.85</td>\n",
              "      <td>6.75</td>\n",
              "      <td>4.50</td>\n",
              "    </tr>\n",
              "    <tr>\n",
              "      <th>2</th>\n",
              "      <td>18526263</td>\n",
              "      <td>18526263</td>\n",
              "      <td>F1255779A5D65C31</td>\n",
              "      <td>docked_bike</td>\n",
              "      <td>2020-09-01 22:55:45</td>\n",
              "      <td>31131.0</td>\n",
              "      <td>236.0</td>\n",
              "      <td>1.0</td>\n",
              "      <td>9.0</td>\n",
              "      <td>2020.0</td>\n",
              "      <td>39.07271</td>\n",
              "      <td>-76.98409</td>\n",
              "      <td>2.49</td>\n",
              "      <td>14.35</td>\n",
              "      <td>85.16</td>\n",
              "      <td>100.56</td>\n",
              "      <td>7.80</td>\n",
              "      <td>22.62</td>\n",
              "      <td>19.74</td>\n",
              "      <td>19.71</td>\n",
              "      <td>26.47</td>\n",
              "      <td>18.67</td>\n",
              "      <td>22.34</td>\n",
              "      <td>2.27</td>\n",
              "      <td>1.88</td>\n",
              "    </tr>\n",
              "    <tr>\n",
              "      <th>3</th>\n",
              "      <td>42831679</td>\n",
              "      <td>42831679</td>\n",
              "      <td>BFF20119F0FCEBB9</td>\n",
              "      <td>docked_bike</td>\n",
              "      <td>2020-10-01 07:42:00</td>\n",
              "      <td>31131.0</td>\n",
              "      <td>592.0</td>\n",
              "      <td>1.0</td>\n",
              "      <td>10.0</td>\n",
              "      <td>2020.0</td>\n",
              "      <td>39.07271</td>\n",
              "      <td>-76.98409</td>\n",
              "      <td>2.51</td>\n",
              "      <td>8.18</td>\n",
              "      <td>68.46</td>\n",
              "      <td>100.16</td>\n",
              "      <td>10.40</td>\n",
              "      <td>17.06</td>\n",
              "      <td>11.04</td>\n",
              "      <td>10.78</td>\n",
              "      <td>22.21</td>\n",
              "      <td>11.81</td>\n",
              "      <td>16.79</td>\n",
              "      <td>6.68</td>\n",
              "      <td>4.02</td>\n",
              "    </tr>\n",
              "    <tr>\n",
              "      <th>4</th>\n",
              "      <td>8973844</td>\n",
              "      <td>8973844</td>\n",
              "      <td>88AEB2387543B67B</td>\n",
              "      <td>electric_bike</td>\n",
              "      <td>2020-08-01 18:36:31</td>\n",
              "      <td>31131.0</td>\n",
              "      <td>517.0</td>\n",
              "      <td>1.0</td>\n",
              "      <td>8.0</td>\n",
              "      <td>2020.0</td>\n",
              "      <td>39.07271</td>\n",
              "      <td>-76.98409</td>\n",
              "      <td>1.71</td>\n",
              "      <td>15.53</td>\n",
              "      <td>70.06</td>\n",
              "      <td>100.14</td>\n",
              "      <td>9.68</td>\n",
              "      <td>27.89</td>\n",
              "      <td>21.05</td>\n",
              "      <td>20.91</td>\n",
              "      <td>31.55</td>\n",
              "      <td>21.88</td>\n",
              "      <td>26.85</td>\n",
              "      <td>6.75</td>\n",
              "      <td>4.50</td>\n",
              "    </tr>\n",
              "    <tr>\n",
              "      <th>...</th>\n",
              "      <td>...</td>\n",
              "      <td>...</td>\n",
              "      <td>...</td>\n",
              "      <td>...</td>\n",
              "      <td>...</td>\n",
              "      <td>...</td>\n",
              "      <td>...</td>\n",
              "      <td>...</td>\n",
              "      <td>...</td>\n",
              "      <td>...</td>\n",
              "      <td>...</td>\n",
              "      <td>...</td>\n",
              "      <td>...</td>\n",
              "      <td>...</td>\n",
              "      <td>...</td>\n",
              "      <td>...</td>\n",
              "      <td>...</td>\n",
              "      <td>...</td>\n",
              "      <td>...</td>\n",
              "      <td>...</td>\n",
              "      <td>...</td>\n",
              "      <td>...</td>\n",
              "      <td>...</td>\n",
              "      <td>...</td>\n",
              "      <td>...</td>\n",
              "    </tr>\n",
              "    <tr>\n",
              "      <th>800</th>\n",
              "      <td>43994370</td>\n",
              "      <td>43994370</td>\n",
              "      <td>3352CFAEFC8ACD69</td>\n",
              "      <td>docked_bike</td>\n",
              "      <td>2020-10-31 16:29:27</td>\n",
              "      <td>31131.0</td>\n",
              "      <td>1098.0</td>\n",
              "      <td>31.0</td>\n",
              "      <td>10.0</td>\n",
              "      <td>2020.0</td>\n",
              "      <td>39.07271</td>\n",
              "      <td>-76.98409</td>\n",
              "      <td>0.14</td>\n",
              "      <td>4.10</td>\n",
              "      <td>72.50</td>\n",
              "      <td>101.85</td>\n",
              "      <td>8.58</td>\n",
              "      <td>6.87</td>\n",
              "      <td>1.30</td>\n",
              "      <td>1.18</td>\n",
              "      <td>10.13</td>\n",
              "      <td>1.55</td>\n",
              "      <td>5.82</td>\n",
              "      <td>7.18</td>\n",
              "      <td>3.44</td>\n",
              "    </tr>\n",
              "    <tr>\n",
              "      <th>801</th>\n",
              "      <td>40215232</td>\n",
              "      <td>40215232</td>\n",
              "      <td>0EC08F98DCFEE551</td>\n",
              "      <td>docked_bike</td>\n",
              "      <td>2020-10-31 22:57:50</td>\n",
              "      <td>31131.0</td>\n",
              "      <td>822.0</td>\n",
              "      <td>31.0</td>\n",
              "      <td>10.0</td>\n",
              "      <td>2020.0</td>\n",
              "      <td>39.07271</td>\n",
              "      <td>-76.98409</td>\n",
              "      <td>0.14</td>\n",
              "      <td>4.10</td>\n",
              "      <td>72.50</td>\n",
              "      <td>101.85</td>\n",
              "      <td>8.58</td>\n",
              "      <td>6.87</td>\n",
              "      <td>1.30</td>\n",
              "      <td>1.18</td>\n",
              "      <td>10.13</td>\n",
              "      <td>1.55</td>\n",
              "      <td>5.82</td>\n",
              "      <td>7.18</td>\n",
              "      <td>3.44</td>\n",
              "    </tr>\n",
              "    <tr>\n",
              "      <th>802</th>\n",
              "      <td>7277382</td>\n",
              "      <td>7277382</td>\n",
              "      <td>AD4CA8A69A35D4B7</td>\n",
              "      <td>docked_bike</td>\n",
              "      <td>2020-08-31 10:53:13</td>\n",
              "      <td>31131.0</td>\n",
              "      <td>1545.0</td>\n",
              "      <td>31.0</td>\n",
              "      <td>8.0</td>\n",
              "      <td>2020.0</td>\n",
              "      <td>39.07271</td>\n",
              "      <td>-76.98409</td>\n",
              "      <td>7.10</td>\n",
              "      <td>12.33</td>\n",
              "      <td>80.48</td>\n",
              "      <td>100.51</td>\n",
              "      <td>5.10</td>\n",
              "      <td>20.75</td>\n",
              "      <td>17.36</td>\n",
              "      <td>17.29</td>\n",
              "      <td>23.45</td>\n",
              "      <td>18.35</td>\n",
              "      <td>20.80</td>\n",
              "      <td>2.39</td>\n",
              "      <td>1.63</td>\n",
              "    </tr>\n",
              "    <tr>\n",
              "      <th>803</th>\n",
              "      <td>8542878</td>\n",
              "      <td>8542878</td>\n",
              "      <td>26EDA0FBF42675CC</td>\n",
              "      <td>electric_bike</td>\n",
              "      <td>2020-08-31 05:42:19</td>\n",
              "      <td>31131.0</td>\n",
              "      <td>646.0</td>\n",
              "      <td>31.0</td>\n",
              "      <td>8.0</td>\n",
              "      <td>2020.0</td>\n",
              "      <td>39.07271</td>\n",
              "      <td>-76.98409</td>\n",
              "      <td>7.10</td>\n",
              "      <td>12.33</td>\n",
              "      <td>80.48</td>\n",
              "      <td>100.51</td>\n",
              "      <td>5.10</td>\n",
              "      <td>20.75</td>\n",
              "      <td>17.36</td>\n",
              "      <td>17.29</td>\n",
              "      <td>23.45</td>\n",
              "      <td>18.35</td>\n",
              "      <td>20.80</td>\n",
              "      <td>2.39</td>\n",
              "      <td>1.63</td>\n",
              "    </tr>\n",
              "    <tr>\n",
              "      <th>804</th>\n",
              "      <td>13390048</td>\n",
              "      <td>13390048</td>\n",
              "      <td>DC66CE150EF786A5</td>\n",
              "      <td>electric_bike</td>\n",
              "      <td>2020-08-31 13:04:51</td>\n",
              "      <td>31131.0</td>\n",
              "      <td>423.0</td>\n",
              "      <td>31.0</td>\n",
              "      <td>8.0</td>\n",
              "      <td>2020.0</td>\n",
              "      <td>39.07271</td>\n",
              "      <td>-76.98409</td>\n",
              "      <td>7.10</td>\n",
              "      <td>12.33</td>\n",
              "      <td>80.48</td>\n",
              "      <td>100.51</td>\n",
              "      <td>5.10</td>\n",
              "      <td>20.75</td>\n",
              "      <td>17.36</td>\n",
              "      <td>17.29</td>\n",
              "      <td>23.45</td>\n",
              "      <td>18.35</td>\n",
              "      <td>20.80</td>\n",
              "      <td>2.39</td>\n",
              "      <td>1.63</td>\n",
              "    </tr>\n",
              "  </tbody>\n",
              "</table>\n",
              "<p>805 rows × 25 columns</p>\n",
              "</div>"
            ],
            "text/plain": [
              "        index  Unnamed: 0           ride_id  ...    T2M WS50M_RANGE  WS10M_RANGE\n",
              "0    39247076    39247076  5353FF6B298080A3  ...  16.79        6.68         4.02\n",
              "1     5649483     5649483  E43D340103773E59  ...  26.85        6.75         4.50\n",
              "2    18526263    18526263  F1255779A5D65C31  ...  22.34        2.27         1.88\n",
              "3    42831679    42831679  BFF20119F0FCEBB9  ...  16.79        6.68         4.02\n",
              "4     8973844     8973844  88AEB2387543B67B  ...  26.85        6.75         4.50\n",
              "..        ...         ...               ...  ...    ...         ...          ...\n",
              "800  43994370    43994370  3352CFAEFC8ACD69  ...   5.82        7.18         3.44\n",
              "801  40215232    40215232  0EC08F98DCFEE551  ...   5.82        7.18         3.44\n",
              "802   7277382     7277382  AD4CA8A69A35D4B7  ...  20.80        2.39         1.63\n",
              "803   8542878     8542878  26EDA0FBF42675CC  ...  20.80        2.39         1.63\n",
              "804  13390048    13390048  DC66CE150EF786A5  ...  20.80        2.39         1.63\n",
              "\n",
              "[805 rows x 25 columns]"
            ]
          },
          "metadata": {
            "tags": []
          },
          "execution_count": 95
        }
      ]
    },
    {
      "cell_type": "code",
      "metadata": {
        "colab": {
          "base_uri": "https://localhost:8080/",
          "height": 195
        },
        "id": "2crL3ateZ9AJ",
        "outputId": "57991f8b-f69a-4939-889b-2b25cbff41e8"
      },
      "source": [
        "s10 = df.query('start_station_id == 31233')\n",
        "s10 = s10.sort_values(by=['DY'])\n",
        "s10 = pd.DataFrame(s10)\n",
        "s10 = s10.reset_index()\n",
        "s10.head()"
      ],
      "execution_count": 96,
      "outputs": [
        {
          "output_type": "execute_result",
          "data": {
            "text/html": [
              "<div>\n",
              "<style scoped>\n",
              "    .dataframe tbody tr th:only-of-type {\n",
              "        vertical-align: middle;\n",
              "    }\n",
              "\n",
              "    .dataframe tbody tr th {\n",
              "        vertical-align: top;\n",
              "    }\n",
              "\n",
              "    .dataframe thead th {\n",
              "        text-align: right;\n",
              "    }\n",
              "</style>\n",
              "<table border=\"1\" class=\"dataframe\">\n",
              "  <thead>\n",
              "    <tr style=\"text-align: right;\">\n",
              "      <th></th>\n",
              "      <th>index</th>\n",
              "      <th>Unnamed: 0</th>\n",
              "      <th>ride_id</th>\n",
              "      <th>rideable_type</th>\n",
              "      <th>started_at</th>\n",
              "      <th>start_station_id</th>\n",
              "      <th>time_to_travel</th>\n",
              "      <th>DY</th>\n",
              "      <th>MO</th>\n",
              "      <th>YEAR</th>\n",
              "    </tr>\n",
              "  </thead>\n",
              "  <tbody>\n",
              "    <tr>\n",
              "      <th>0</th>\n",
              "      <td>37494555</td>\n",
              "      <td>37494555</td>\n",
              "      <td>2D0664BD2C7F5422</td>\n",
              "      <td>electric_bike</td>\n",
              "      <td>2020-09-01 14:46:22</td>\n",
              "      <td>31233.0</td>\n",
              "      <td>761.0</td>\n",
              "      <td>1.0</td>\n",
              "      <td>9.0</td>\n",
              "      <td>2020.0</td>\n",
              "    </tr>\n",
              "    <tr>\n",
              "      <th>1</th>\n",
              "      <td>40652617</td>\n",
              "      <td>40652617</td>\n",
              "      <td>697981EAFF0D7E90</td>\n",
              "      <td>docked_bike</td>\n",
              "      <td>2020-10-01 15:32:56</td>\n",
              "      <td>31233.0</td>\n",
              "      <td>487.0</td>\n",
              "      <td>1.0</td>\n",
              "      <td>10.0</td>\n",
              "      <td>2020.0</td>\n",
              "    </tr>\n",
              "    <tr>\n",
              "      <th>2</th>\n",
              "      <td>22152506</td>\n",
              "      <td>22152506</td>\n",
              "      <td>CCAE8ECC7860399C</td>\n",
              "      <td>docked_bike</td>\n",
              "      <td>2020-09-01 22:07:18</td>\n",
              "      <td>31233.0</td>\n",
              "      <td>1736.0</td>\n",
              "      <td>1.0</td>\n",
              "      <td>9.0</td>\n",
              "      <td>2020.0</td>\n",
              "    </tr>\n",
              "    <tr>\n",
              "      <th>3</th>\n",
              "      <td>39926205</td>\n",
              "      <td>39926205</td>\n",
              "      <td>6AD712B029974936</td>\n",
              "      <td>docked_bike</td>\n",
              "      <td>2020-10-01 14:49:22</td>\n",
              "      <td>31233.0</td>\n",
              "      <td>1531.0</td>\n",
              "      <td>1.0</td>\n",
              "      <td>10.0</td>\n",
              "      <td>2020.0</td>\n",
              "    </tr>\n",
              "    <tr>\n",
              "      <th>4</th>\n",
              "      <td>44176417</td>\n",
              "      <td>44176417</td>\n",
              "      <td>EDAC85D8DC5DEA56</td>\n",
              "      <td>docked_bike</td>\n",
              "      <td>2020-10-01 17:53:20</td>\n",
              "      <td>31233.0</td>\n",
              "      <td>1079.0</td>\n",
              "      <td>1.0</td>\n",
              "      <td>10.0</td>\n",
              "      <td>2020.0</td>\n",
              "    </tr>\n",
              "  </tbody>\n",
              "</table>\n",
              "</div>"
            ],
            "text/plain": [
              "      index  Unnamed: 0           ride_id  ...   DY    MO    YEAR\n",
              "0  37494555    37494555  2D0664BD2C7F5422  ...  1.0   9.0  2020.0\n",
              "1  40652617    40652617  697981EAFF0D7E90  ...  1.0  10.0  2020.0\n",
              "2  22152506    22152506  CCAE8ECC7860399C  ...  1.0   9.0  2020.0\n",
              "3  39926205    39926205  6AD712B029974936  ...  1.0  10.0  2020.0\n",
              "4  44176417    44176417  EDAC85D8DC5DEA56  ...  1.0  10.0  2020.0\n",
              "\n",
              "[5 rows x 10 columns]"
            ]
          },
          "metadata": {
            "tags": []
          },
          "execution_count": 96
        }
      ]
    },
    {
      "cell_type": "code",
      "metadata": {
        "colab": {
          "base_uri": "https://localhost:8080/"
        },
        "id": "nlosRnWmzatX",
        "outputId": "e26724fd-a6ce-42d6-8349-7d0b7168bc79"
      },
      "source": [
        "s6 =s1.groupby([\"rideable_type\",\"DY\"])\n",
        "s6"
      ],
      "execution_count": 97,
      "outputs": [
        {
          "output_type": "execute_result",
          "data": {
            "text/plain": [
              "<pandas.core.groupby.generic.DataFrameGroupBy object at 0x7f718ccbec10>"
            ]
          },
          "metadata": {
            "tags": []
          },
          "execution_count": 97
        }
      ]
    },
    {
      "cell_type": "code",
      "metadata": {
        "colab": {
          "base_uri": "https://localhost:8080/",
          "height": 455
        },
        "id": "sLuJhVyky92H",
        "outputId": "e6277c0e-d088-4be4-e6cf-8f649f2920cd"
      },
      "source": [
        "sa =result.groupby([\"DY\",\"MO\",\"PS\",\"T2M_RANGE\",\"T2M_MAX\",\"T2M_MIN\",\"RH2M\",\"rideable_type\",\"WS50M_RANGE\",\"T2MDEW\",\"T2M\",\"QV2M\"]).size()\n",
        "s5 = []\n",
        "s6 = []\n",
        "sa = pd.DataFrame(sa,columns=['count'])\n",
        "modified = sa.reset_index()\n",
        "a = 0\n",
        "for i in range(len(modified)):\n",
        "  if(modified['rideable_type'][i] == 'docked_bike'):\n",
        "    s5.append(modified['count'][i])\n",
        "    s6.append(a)\n",
        "  else:\n",
        "    s6.append(modified['count'][i])\n",
        "    s5.append(a)\n",
        "print(s6)\n",
        "print(s5)\n",
        "sb = s1[['DY','MO','time_to_travel']]\n",
        "modified['docked_b'] = s5\n",
        "modified['electric_b'] = s6\n",
        "#modified = pd.merge(modified, sb, how=\"left\", on=[\"DY\", \"MO\"])\n",
        "#sb\n",
        "modified"
      ],
      "execution_count": 98,
      "outputs": [
        {
          "output_type": "stream",
          "text": [
            "[0, 5, 0, 4, 0, 0, 6, 0, 3, 0, 0, 7, 0, 2, 0, 0, 5, 0, 3, 0, 0, 4, 0, 8, 0, 0, 1, 0, 11, 0, 0, 10, 0, 7, 0, 0, 24, 0, 7, 0, 0, 5, 12, 0, 0, 9, 0, 5, 0, 0, 6, 0, 3, 0, 0, 10, 0, 4, 0, 0, 6, 0, 9, 0, 0, 8, 0, 2, 0, 0, 11, 0, 8, 0, 0, 4, 0, 9, 0, 0, 6, 0, 6, 0, 0, 6, 0, 4, 0, 0, 1, 0, 7, 0, 0, 5, 0, 18, 0, 3, 0, 5, 0, 0, 4, 0, 10, 0, 0, 2, 0, 11, 0, 0, 6, 0, 2, 0, 0, 7, 0, 4, 0, 5, 0, 7, 0, 0, 3, 0, 4, 0, 0, 6, 0, 5, 0, 0, 5, 0, 5, 0, 0, 6, 0, 8, 0, 0, 3, 0]\n",
            "[7, 0, 6, 0, 6, 5, 0, 5, 0, 3, 3, 0, 5, 0, 8, 2, 0, 4, 0, 2, 8, 0, 9, 0, 3, 3, 0, 6, 0, 11, 3, 0, 7, 0, 7, 6, 0, 5, 0, 6, 2, 0, 0, 5, 3, 0, 1, 0, 6, 7, 0, 7, 0, 3, 6, 0, 7, 0, 5, 4, 0, 11, 0, 3, 7, 0, 8, 0, 5, 4, 0, 4, 0, 5, 3, 0, 3, 0, 5, 1, 0, 1, 0, 8, 4, 0, 6, 0, 5, 6, 0, 11, 0, 3, 1, 0, 8, 0, 2, 0, 3, 0, 1, 9, 0, 6, 0, 5, 5, 0, 3, 0, 6, 3, 0, 4, 0, 6, 1, 0, 4, 0, 4, 0, 6, 0, 3, 4, 0, 9, 0, 3, 2, 0, 1, 0, 5, 2, 0, 3, 0, 2, 8, 0, 7, 0, 5, 1, 0, 2]\n"
          ],
          "name": "stdout"
        },
        {
          "output_type": "execute_result",
          "data": {
            "text/html": [
              "<div>\n",
              "<style scoped>\n",
              "    .dataframe tbody tr th:only-of-type {\n",
              "        vertical-align: middle;\n",
              "    }\n",
              "\n",
              "    .dataframe tbody tr th {\n",
              "        vertical-align: top;\n",
              "    }\n",
              "\n",
              "    .dataframe thead th {\n",
              "        text-align: right;\n",
              "    }\n",
              "</style>\n",
              "<table border=\"1\" class=\"dataframe\">\n",
              "  <thead>\n",
              "    <tr style=\"text-align: right;\">\n",
              "      <th></th>\n",
              "      <th>DY</th>\n",
              "      <th>MO</th>\n",
              "      <th>PS</th>\n",
              "      <th>T2M_RANGE</th>\n",
              "      <th>T2M_MAX</th>\n",
              "      <th>T2M_MIN</th>\n",
              "      <th>RH2M</th>\n",
              "      <th>rideable_type</th>\n",
              "      <th>WS50M_RANGE</th>\n",
              "      <th>T2MDEW</th>\n",
              "      <th>T2M</th>\n",
              "      <th>QV2M</th>\n",
              "      <th>count</th>\n",
              "      <th>docked_b</th>\n",
              "      <th>electric_b</th>\n",
              "    </tr>\n",
              "  </thead>\n",
              "  <tbody>\n",
              "    <tr>\n",
              "      <th>0</th>\n",
              "      <td>1.0</td>\n",
              "      <td>8.0</td>\n",
              "      <td>100.14</td>\n",
              "      <td>9.68</td>\n",
              "      <td>31.55</td>\n",
              "      <td>21.88</td>\n",
              "      <td>70.06</td>\n",
              "      <td>docked_bike</td>\n",
              "      <td>6.75</td>\n",
              "      <td>21.05</td>\n",
              "      <td>26.85</td>\n",
              "      <td>15.53</td>\n",
              "      <td>7</td>\n",
              "      <td>7</td>\n",
              "      <td>0</td>\n",
              "    </tr>\n",
              "    <tr>\n",
              "      <th>1</th>\n",
              "      <td>1.0</td>\n",
              "      <td>8.0</td>\n",
              "      <td>100.14</td>\n",
              "      <td>9.68</td>\n",
              "      <td>31.55</td>\n",
              "      <td>21.88</td>\n",
              "      <td>70.06</td>\n",
              "      <td>electric_bike</td>\n",
              "      <td>6.75</td>\n",
              "      <td>21.05</td>\n",
              "      <td>26.85</td>\n",
              "      <td>15.53</td>\n",
              "      <td>5</td>\n",
              "      <td>0</td>\n",
              "      <td>5</td>\n",
              "    </tr>\n",
              "    <tr>\n",
              "      <th>2</th>\n",
              "      <td>1.0</td>\n",
              "      <td>9.0</td>\n",
              "      <td>100.56</td>\n",
              "      <td>7.80</td>\n",
              "      <td>26.47</td>\n",
              "      <td>18.67</td>\n",
              "      <td>85.16</td>\n",
              "      <td>docked_bike</td>\n",
              "      <td>2.27</td>\n",
              "      <td>19.74</td>\n",
              "      <td>22.34</td>\n",
              "      <td>14.35</td>\n",
              "      <td>6</td>\n",
              "      <td>6</td>\n",
              "      <td>0</td>\n",
              "    </tr>\n",
              "    <tr>\n",
              "      <th>3</th>\n",
              "      <td>1.0</td>\n",
              "      <td>9.0</td>\n",
              "      <td>100.56</td>\n",
              "      <td>7.80</td>\n",
              "      <td>26.47</td>\n",
              "      <td>18.67</td>\n",
              "      <td>85.16</td>\n",
              "      <td>electric_bike</td>\n",
              "      <td>2.27</td>\n",
              "      <td>19.74</td>\n",
              "      <td>22.34</td>\n",
              "      <td>14.35</td>\n",
              "      <td>4</td>\n",
              "      <td>0</td>\n",
              "      <td>4</td>\n",
              "    </tr>\n",
              "    <tr>\n",
              "      <th>4</th>\n",
              "      <td>1.0</td>\n",
              "      <td>10.0</td>\n",
              "      <td>100.16</td>\n",
              "      <td>10.40</td>\n",
              "      <td>22.21</td>\n",
              "      <td>11.81</td>\n",
              "      <td>68.46</td>\n",
              "      <td>docked_bike</td>\n",
              "      <td>6.68</td>\n",
              "      <td>11.04</td>\n",
              "      <td>16.79</td>\n",
              "      <td>8.18</td>\n",
              "      <td>6</td>\n",
              "      <td>6</td>\n",
              "      <td>0</td>\n",
              "    </tr>\n",
              "    <tr>\n",
              "      <th>...</th>\n",
              "      <td>...</td>\n",
              "      <td>...</td>\n",
              "      <td>...</td>\n",
              "      <td>...</td>\n",
              "      <td>...</td>\n",
              "      <td>...</td>\n",
              "      <td>...</td>\n",
              "      <td>...</td>\n",
              "      <td>...</td>\n",
              "      <td>...</td>\n",
              "      <td>...</td>\n",
              "      <td>...</td>\n",
              "      <td>...</td>\n",
              "      <td>...</td>\n",
              "      <td>...</td>\n",
              "    </tr>\n",
              "    <tr>\n",
              "      <th>145</th>\n",
              "      <td>30.0</td>\n",
              "      <td>9.0</td>\n",
              "      <td>99.73</td>\n",
              "      <td>9.32</td>\n",
              "      <td>21.10</td>\n",
              "      <td>11.78</td>\n",
              "      <td>72.31</td>\n",
              "      <td>electric_bike</td>\n",
              "      <td>3.46</td>\n",
              "      <td>11.06</td>\n",
              "      <td>15.97</td>\n",
              "      <td>8.23</td>\n",
              "      <td>8</td>\n",
              "      <td>0</td>\n",
              "      <td>8</td>\n",
              "    </tr>\n",
              "    <tr>\n",
              "      <th>146</th>\n",
              "      <td>30.0</td>\n",
              "      <td>10.0</td>\n",
              "      <td>100.21</td>\n",
              "      <td>5.72</td>\n",
              "      <td>11.62</td>\n",
              "      <td>5.90</td>\n",
              "      <td>83.46</td>\n",
              "      <td>docked_bike</td>\n",
              "      <td>4.29</td>\n",
              "      <td>5.96</td>\n",
              "      <td>8.61</td>\n",
              "      <td>5.82</td>\n",
              "      <td>5</td>\n",
              "      <td>5</td>\n",
              "      <td>0</td>\n",
              "    </tr>\n",
              "    <tr>\n",
              "      <th>147</th>\n",
              "      <td>31.0</td>\n",
              "      <td>8.0</td>\n",
              "      <td>100.51</td>\n",
              "      <td>5.10</td>\n",
              "      <td>23.45</td>\n",
              "      <td>18.35</td>\n",
              "      <td>80.48</td>\n",
              "      <td>docked_bike</td>\n",
              "      <td>2.39</td>\n",
              "      <td>17.36</td>\n",
              "      <td>20.80</td>\n",
              "      <td>12.33</td>\n",
              "      <td>1</td>\n",
              "      <td>1</td>\n",
              "      <td>0</td>\n",
              "    </tr>\n",
              "    <tr>\n",
              "      <th>148</th>\n",
              "      <td>31.0</td>\n",
              "      <td>8.0</td>\n",
              "      <td>100.51</td>\n",
              "      <td>5.10</td>\n",
              "      <td>23.45</td>\n",
              "      <td>18.35</td>\n",
              "      <td>80.48</td>\n",
              "      <td>electric_bike</td>\n",
              "      <td>2.39</td>\n",
              "      <td>17.36</td>\n",
              "      <td>20.80</td>\n",
              "      <td>12.33</td>\n",
              "      <td>3</td>\n",
              "      <td>0</td>\n",
              "      <td>3</td>\n",
              "    </tr>\n",
              "    <tr>\n",
              "      <th>149</th>\n",
              "      <td>31.0</td>\n",
              "      <td>10.0</td>\n",
              "      <td>101.85</td>\n",
              "      <td>8.58</td>\n",
              "      <td>10.13</td>\n",
              "      <td>1.55</td>\n",
              "      <td>72.50</td>\n",
              "      <td>docked_bike</td>\n",
              "      <td>7.18</td>\n",
              "      <td>1.30</td>\n",
              "      <td>5.82</td>\n",
              "      <td>4.10</td>\n",
              "      <td>2</td>\n",
              "      <td>2</td>\n",
              "      <td>0</td>\n",
              "    </tr>\n",
              "  </tbody>\n",
              "</table>\n",
              "<p>150 rows × 15 columns</p>\n",
              "</div>"
            ],
            "text/plain": [
              "       DY    MO      PS  T2M_RANGE  ...   QV2M  count  docked_b electric_b\n",
              "0     1.0   8.0  100.14       9.68  ...  15.53      7         7          0\n",
              "1     1.0   8.0  100.14       9.68  ...  15.53      5         0          5\n",
              "2     1.0   9.0  100.56       7.80  ...  14.35      6         6          0\n",
              "3     1.0   9.0  100.56       7.80  ...  14.35      4         0          4\n",
              "4     1.0  10.0  100.16      10.40  ...   8.18      6         6          0\n",
              "..    ...   ...     ...        ...  ...    ...    ...       ...        ...\n",
              "145  30.0   9.0   99.73       9.32  ...   8.23      8         0          8\n",
              "146  30.0  10.0  100.21       5.72  ...   5.82      5         5          0\n",
              "147  31.0   8.0  100.51       5.10  ...  12.33      1         1          0\n",
              "148  31.0   8.0  100.51       5.10  ...  12.33      3         0          3\n",
              "149  31.0  10.0  101.85       8.58  ...   4.10      2         2          0\n",
              "\n",
              "[150 rows x 15 columns]"
            ]
          },
          "metadata": {
            "tags": []
          },
          "execution_count": 98
        }
      ]
    },
    {
      "cell_type": "code",
      "metadata": {
        "colab": {
          "base_uri": "https://localhost:8080/",
          "height": 402
        },
        "id": "BA0tpEssfDUL",
        "outputId": "4bbf99a0-8660-402d-cda4-58d67198a98c"
      },
      "source": [
        " modified.reset_index(inplace=True, drop=True)\n",
        "modified.sort_values(['DY', 'MO'], ascending=[True, False])\n"
      ],
      "execution_count": 99,
      "outputs": [
        {
          "output_type": "execute_result",
          "data": {
            "text/html": [
              "<div>\n",
              "<style scoped>\n",
              "    .dataframe tbody tr th:only-of-type {\n",
              "        vertical-align: middle;\n",
              "    }\n",
              "\n",
              "    .dataframe tbody tr th {\n",
              "        vertical-align: top;\n",
              "    }\n",
              "\n",
              "    .dataframe thead th {\n",
              "        text-align: right;\n",
              "    }\n",
              "</style>\n",
              "<table border=\"1\" class=\"dataframe\">\n",
              "  <thead>\n",
              "    <tr style=\"text-align: right;\">\n",
              "      <th></th>\n",
              "      <th>DY</th>\n",
              "      <th>MO</th>\n",
              "      <th>PS</th>\n",
              "      <th>T2M_RANGE</th>\n",
              "      <th>T2M_MAX</th>\n",
              "      <th>T2M_MIN</th>\n",
              "      <th>RH2M</th>\n",
              "      <th>rideable_type</th>\n",
              "      <th>WS50M_RANGE</th>\n",
              "      <th>T2MDEW</th>\n",
              "      <th>T2M</th>\n",
              "      <th>QV2M</th>\n",
              "      <th>count</th>\n",
              "      <th>docked_b</th>\n",
              "      <th>electric_b</th>\n",
              "    </tr>\n",
              "  </thead>\n",
              "  <tbody>\n",
              "    <tr>\n",
              "      <th>4</th>\n",
              "      <td>1.0</td>\n",
              "      <td>10.0</td>\n",
              "      <td>100.16</td>\n",
              "      <td>10.40</td>\n",
              "      <td>22.21</td>\n",
              "      <td>11.81</td>\n",
              "      <td>68.46</td>\n",
              "      <td>docked_bike</td>\n",
              "      <td>6.68</td>\n",
              "      <td>11.04</td>\n",
              "      <td>16.79</td>\n",
              "      <td>8.18</td>\n",
              "      <td>6</td>\n",
              "      <td>6</td>\n",
              "      <td>0</td>\n",
              "    </tr>\n",
              "    <tr>\n",
              "      <th>2</th>\n",
              "      <td>1.0</td>\n",
              "      <td>9.0</td>\n",
              "      <td>100.56</td>\n",
              "      <td>7.80</td>\n",
              "      <td>26.47</td>\n",
              "      <td>18.67</td>\n",
              "      <td>85.16</td>\n",
              "      <td>docked_bike</td>\n",
              "      <td>2.27</td>\n",
              "      <td>19.74</td>\n",
              "      <td>22.34</td>\n",
              "      <td>14.35</td>\n",
              "      <td>6</td>\n",
              "      <td>6</td>\n",
              "      <td>0</td>\n",
              "    </tr>\n",
              "    <tr>\n",
              "      <th>3</th>\n",
              "      <td>1.0</td>\n",
              "      <td>9.0</td>\n",
              "      <td>100.56</td>\n",
              "      <td>7.80</td>\n",
              "      <td>26.47</td>\n",
              "      <td>18.67</td>\n",
              "      <td>85.16</td>\n",
              "      <td>electric_bike</td>\n",
              "      <td>2.27</td>\n",
              "      <td>19.74</td>\n",
              "      <td>22.34</td>\n",
              "      <td>14.35</td>\n",
              "      <td>4</td>\n",
              "      <td>0</td>\n",
              "      <td>4</td>\n",
              "    </tr>\n",
              "    <tr>\n",
              "      <th>0</th>\n",
              "      <td>1.0</td>\n",
              "      <td>8.0</td>\n",
              "      <td>100.14</td>\n",
              "      <td>9.68</td>\n",
              "      <td>31.55</td>\n",
              "      <td>21.88</td>\n",
              "      <td>70.06</td>\n",
              "      <td>docked_bike</td>\n",
              "      <td>6.75</td>\n",
              "      <td>21.05</td>\n",
              "      <td>26.85</td>\n",
              "      <td>15.53</td>\n",
              "      <td>7</td>\n",
              "      <td>7</td>\n",
              "      <td>0</td>\n",
              "    </tr>\n",
              "    <tr>\n",
              "      <th>1</th>\n",
              "      <td>1.0</td>\n",
              "      <td>8.0</td>\n",
              "      <td>100.14</td>\n",
              "      <td>9.68</td>\n",
              "      <td>31.55</td>\n",
              "      <td>21.88</td>\n",
              "      <td>70.06</td>\n",
              "      <td>electric_bike</td>\n",
              "      <td>6.75</td>\n",
              "      <td>21.05</td>\n",
              "      <td>26.85</td>\n",
              "      <td>15.53</td>\n",
              "      <td>5</td>\n",
              "      <td>0</td>\n",
              "      <td>5</td>\n",
              "    </tr>\n",
              "    <tr>\n",
              "      <th>...</th>\n",
              "      <td>...</td>\n",
              "      <td>...</td>\n",
              "      <td>...</td>\n",
              "      <td>...</td>\n",
              "      <td>...</td>\n",
              "      <td>...</td>\n",
              "      <td>...</td>\n",
              "      <td>...</td>\n",
              "      <td>...</td>\n",
              "      <td>...</td>\n",
              "      <td>...</td>\n",
              "      <td>...</td>\n",
              "      <td>...</td>\n",
              "      <td>...</td>\n",
              "      <td>...</td>\n",
              "    </tr>\n",
              "    <tr>\n",
              "      <th>142</th>\n",
              "      <td>30.0</td>\n",
              "      <td>8.0</td>\n",
              "      <td>99.79</td>\n",
              "      <td>10.16</td>\n",
              "      <td>27.15</td>\n",
              "      <td>17.00</td>\n",
              "      <td>61.54</td>\n",
              "      <td>docked_bike</td>\n",
              "      <td>7.52</td>\n",
              "      <td>14.97</td>\n",
              "      <td>22.62</td>\n",
              "      <td>10.61</td>\n",
              "      <td>8</td>\n",
              "      <td>8</td>\n",
              "      <td>0</td>\n",
              "    </tr>\n",
              "    <tr>\n",
              "      <th>143</th>\n",
              "      <td>30.0</td>\n",
              "      <td>8.0</td>\n",
              "      <td>99.79</td>\n",
              "      <td>10.16</td>\n",
              "      <td>27.15</td>\n",
              "      <td>17.00</td>\n",
              "      <td>61.54</td>\n",
              "      <td>electric_bike</td>\n",
              "      <td>7.52</td>\n",
              "      <td>14.97</td>\n",
              "      <td>22.62</td>\n",
              "      <td>10.61</td>\n",
              "      <td>6</td>\n",
              "      <td>0</td>\n",
              "      <td>6</td>\n",
              "    </tr>\n",
              "    <tr>\n",
              "      <th>149</th>\n",
              "      <td>31.0</td>\n",
              "      <td>10.0</td>\n",
              "      <td>101.85</td>\n",
              "      <td>8.58</td>\n",
              "      <td>10.13</td>\n",
              "      <td>1.55</td>\n",
              "      <td>72.50</td>\n",
              "      <td>docked_bike</td>\n",
              "      <td>7.18</td>\n",
              "      <td>1.30</td>\n",
              "      <td>5.82</td>\n",
              "      <td>4.10</td>\n",
              "      <td>2</td>\n",
              "      <td>2</td>\n",
              "      <td>0</td>\n",
              "    </tr>\n",
              "    <tr>\n",
              "      <th>147</th>\n",
              "      <td>31.0</td>\n",
              "      <td>8.0</td>\n",
              "      <td>100.51</td>\n",
              "      <td>5.10</td>\n",
              "      <td>23.45</td>\n",
              "      <td>18.35</td>\n",
              "      <td>80.48</td>\n",
              "      <td>docked_bike</td>\n",
              "      <td>2.39</td>\n",
              "      <td>17.36</td>\n",
              "      <td>20.80</td>\n",
              "      <td>12.33</td>\n",
              "      <td>1</td>\n",
              "      <td>1</td>\n",
              "      <td>0</td>\n",
              "    </tr>\n",
              "    <tr>\n",
              "      <th>148</th>\n",
              "      <td>31.0</td>\n",
              "      <td>8.0</td>\n",
              "      <td>100.51</td>\n",
              "      <td>5.10</td>\n",
              "      <td>23.45</td>\n",
              "      <td>18.35</td>\n",
              "      <td>80.48</td>\n",
              "      <td>electric_bike</td>\n",
              "      <td>2.39</td>\n",
              "      <td>17.36</td>\n",
              "      <td>20.80</td>\n",
              "      <td>12.33</td>\n",
              "      <td>3</td>\n",
              "      <td>0</td>\n",
              "      <td>3</td>\n",
              "    </tr>\n",
              "  </tbody>\n",
              "</table>\n",
              "<p>150 rows × 15 columns</p>\n",
              "</div>"
            ],
            "text/plain": [
              "       DY    MO      PS  T2M_RANGE  ...   QV2M  count  docked_b electric_b\n",
              "4     1.0  10.0  100.16      10.40  ...   8.18      6         6          0\n",
              "2     1.0   9.0  100.56       7.80  ...  14.35      6         6          0\n",
              "3     1.0   9.0  100.56       7.80  ...  14.35      4         0          4\n",
              "0     1.0   8.0  100.14       9.68  ...  15.53      7         7          0\n",
              "1     1.0   8.0  100.14       9.68  ...  15.53      5         0          5\n",
              "..    ...   ...     ...        ...  ...    ...    ...       ...        ...\n",
              "142  30.0   8.0   99.79      10.16  ...  10.61      8         8          0\n",
              "143  30.0   8.0   99.79      10.16  ...  10.61      6         0          6\n",
              "149  31.0  10.0  101.85       8.58  ...   4.10      2         2          0\n",
              "147  31.0   8.0  100.51       5.10  ...  12.33      1         1          0\n",
              "148  31.0   8.0  100.51       5.10  ...  12.33      3         0          3\n",
              "\n",
              "[150 rows x 15 columns]"
            ]
          },
          "metadata": {
            "tags": []
          },
          "execution_count": 99
        }
      ]
    },
    {
      "cell_type": "code",
      "metadata": {
        "colab": {
          "base_uri": "https://localhost:8080/",
          "height": 402
        },
        "id": "7nO-1tHvkS-u",
        "outputId": "071bc680-f588-4818-b74c-76cafcc79e5a"
      },
      "source": [
        "df1 = modified[modified['rideable_type'] == 'docked_bike']\n",
        "df1 = df1.drop(['rideable_type','count', 'electric_b'], axis=1)\n",
        "df1"
      ],
      "execution_count": 100,
      "outputs": [
        {
          "output_type": "execute_result",
          "data": {
            "text/html": [
              "<div>\n",
              "<style scoped>\n",
              "    .dataframe tbody tr th:only-of-type {\n",
              "        vertical-align: middle;\n",
              "    }\n",
              "\n",
              "    .dataframe tbody tr th {\n",
              "        vertical-align: top;\n",
              "    }\n",
              "\n",
              "    .dataframe thead th {\n",
              "        text-align: right;\n",
              "    }\n",
              "</style>\n",
              "<table border=\"1\" class=\"dataframe\">\n",
              "  <thead>\n",
              "    <tr style=\"text-align: right;\">\n",
              "      <th></th>\n",
              "      <th>DY</th>\n",
              "      <th>MO</th>\n",
              "      <th>PS</th>\n",
              "      <th>T2M_RANGE</th>\n",
              "      <th>T2M_MAX</th>\n",
              "      <th>T2M_MIN</th>\n",
              "      <th>RH2M</th>\n",
              "      <th>WS50M_RANGE</th>\n",
              "      <th>T2MDEW</th>\n",
              "      <th>T2M</th>\n",
              "      <th>QV2M</th>\n",
              "      <th>docked_b</th>\n",
              "    </tr>\n",
              "  </thead>\n",
              "  <tbody>\n",
              "    <tr>\n",
              "      <th>0</th>\n",
              "      <td>1.0</td>\n",
              "      <td>8.0</td>\n",
              "      <td>100.14</td>\n",
              "      <td>9.68</td>\n",
              "      <td>31.55</td>\n",
              "      <td>21.88</td>\n",
              "      <td>70.06</td>\n",
              "      <td>6.75</td>\n",
              "      <td>21.05</td>\n",
              "      <td>26.85</td>\n",
              "      <td>15.53</td>\n",
              "      <td>7</td>\n",
              "    </tr>\n",
              "    <tr>\n",
              "      <th>2</th>\n",
              "      <td>1.0</td>\n",
              "      <td>9.0</td>\n",
              "      <td>100.56</td>\n",
              "      <td>7.80</td>\n",
              "      <td>26.47</td>\n",
              "      <td>18.67</td>\n",
              "      <td>85.16</td>\n",
              "      <td>2.27</td>\n",
              "      <td>19.74</td>\n",
              "      <td>22.34</td>\n",
              "      <td>14.35</td>\n",
              "      <td>6</td>\n",
              "    </tr>\n",
              "    <tr>\n",
              "      <th>4</th>\n",
              "      <td>1.0</td>\n",
              "      <td>10.0</td>\n",
              "      <td>100.16</td>\n",
              "      <td>10.40</td>\n",
              "      <td>22.21</td>\n",
              "      <td>11.81</td>\n",
              "      <td>68.46</td>\n",
              "      <td>6.68</td>\n",
              "      <td>11.04</td>\n",
              "      <td>16.79</td>\n",
              "      <td>8.18</td>\n",
              "      <td>6</td>\n",
              "    </tr>\n",
              "    <tr>\n",
              "      <th>5</th>\n",
              "      <td>2.0</td>\n",
              "      <td>8.0</td>\n",
              "      <td>100.03</td>\n",
              "      <td>10.09</td>\n",
              "      <td>34.01</td>\n",
              "      <td>23.92</td>\n",
              "      <td>66.16</td>\n",
              "      <td>4.90</td>\n",
              "      <td>21.85</td>\n",
              "      <td>28.65</td>\n",
              "      <td>16.31</td>\n",
              "      <td>5</td>\n",
              "    </tr>\n",
              "    <tr>\n",
              "      <th>7</th>\n",
              "      <td>2.0</td>\n",
              "      <td>9.0</td>\n",
              "      <td>100.01</td>\n",
              "      <td>8.21</td>\n",
              "      <td>29.40</td>\n",
              "      <td>21.18</td>\n",
              "      <td>87.59</td>\n",
              "      <td>1.60</td>\n",
              "      <td>23.00</td>\n",
              "      <td>25.20</td>\n",
              "      <td>17.66</td>\n",
              "      <td>5</td>\n",
              "    </tr>\n",
              "    <tr>\n",
              "      <th>...</th>\n",
              "      <td>...</td>\n",
              "      <td>...</td>\n",
              "      <td>...</td>\n",
              "      <td>...</td>\n",
              "      <td>...</td>\n",
              "      <td>...</td>\n",
              "      <td>...</td>\n",
              "      <td>...</td>\n",
              "      <td>...</td>\n",
              "      <td>...</td>\n",
              "      <td>...</td>\n",
              "      <td>...</td>\n",
              "    </tr>\n",
              "    <tr>\n",
              "      <th>142</th>\n",
              "      <td>30.0</td>\n",
              "      <td>8.0</td>\n",
              "      <td>99.79</td>\n",
              "      <td>10.16</td>\n",
              "      <td>27.15</td>\n",
              "      <td>17.00</td>\n",
              "      <td>61.54</td>\n",
              "      <td>7.52</td>\n",
              "      <td>14.97</td>\n",
              "      <td>22.62</td>\n",
              "      <td>10.61</td>\n",
              "      <td>8</td>\n",
              "    </tr>\n",
              "    <tr>\n",
              "      <th>144</th>\n",
              "      <td>30.0</td>\n",
              "      <td>9.0</td>\n",
              "      <td>99.73</td>\n",
              "      <td>9.32</td>\n",
              "      <td>21.10</td>\n",
              "      <td>11.78</td>\n",
              "      <td>72.31</td>\n",
              "      <td>3.46</td>\n",
              "      <td>11.06</td>\n",
              "      <td>15.97</td>\n",
              "      <td>8.23</td>\n",
              "      <td>7</td>\n",
              "    </tr>\n",
              "    <tr>\n",
              "      <th>146</th>\n",
              "      <td>30.0</td>\n",
              "      <td>10.0</td>\n",
              "      <td>100.21</td>\n",
              "      <td>5.72</td>\n",
              "      <td>11.62</td>\n",
              "      <td>5.90</td>\n",
              "      <td>83.46</td>\n",
              "      <td>4.29</td>\n",
              "      <td>5.96</td>\n",
              "      <td>8.61</td>\n",
              "      <td>5.82</td>\n",
              "      <td>5</td>\n",
              "    </tr>\n",
              "    <tr>\n",
              "      <th>147</th>\n",
              "      <td>31.0</td>\n",
              "      <td>8.0</td>\n",
              "      <td>100.51</td>\n",
              "      <td>5.10</td>\n",
              "      <td>23.45</td>\n",
              "      <td>18.35</td>\n",
              "      <td>80.48</td>\n",
              "      <td>2.39</td>\n",
              "      <td>17.36</td>\n",
              "      <td>20.80</td>\n",
              "      <td>12.33</td>\n",
              "      <td>1</td>\n",
              "    </tr>\n",
              "    <tr>\n",
              "      <th>149</th>\n",
              "      <td>31.0</td>\n",
              "      <td>10.0</td>\n",
              "      <td>101.85</td>\n",
              "      <td>8.58</td>\n",
              "      <td>10.13</td>\n",
              "      <td>1.55</td>\n",
              "      <td>72.50</td>\n",
              "      <td>7.18</td>\n",
              "      <td>1.30</td>\n",
              "      <td>5.82</td>\n",
              "      <td>4.10</td>\n",
              "      <td>2</td>\n",
              "    </tr>\n",
              "  </tbody>\n",
              "</table>\n",
              "<p>89 rows × 12 columns</p>\n",
              "</div>"
            ],
            "text/plain": [
              "       DY    MO      PS  T2M_RANGE  ...  T2MDEW    T2M   QV2M  docked_b\n",
              "0     1.0   8.0  100.14       9.68  ...   21.05  26.85  15.53         7\n",
              "2     1.0   9.0  100.56       7.80  ...   19.74  22.34  14.35         6\n",
              "4     1.0  10.0  100.16      10.40  ...   11.04  16.79   8.18         6\n",
              "5     2.0   8.0  100.03      10.09  ...   21.85  28.65  16.31         5\n",
              "7     2.0   9.0  100.01       8.21  ...   23.00  25.20  17.66         5\n",
              "..    ...   ...     ...        ...  ...     ...    ...    ...       ...\n",
              "142  30.0   8.0   99.79      10.16  ...   14.97  22.62  10.61         8\n",
              "144  30.0   9.0   99.73       9.32  ...   11.06  15.97   8.23         7\n",
              "146  30.0  10.0  100.21       5.72  ...    5.96   8.61   5.82         5\n",
              "147  31.0   8.0  100.51       5.10  ...   17.36  20.80  12.33         1\n",
              "149  31.0  10.0  101.85       8.58  ...    1.30   5.82   4.10         2\n",
              "\n",
              "[89 rows x 12 columns]"
            ]
          },
          "metadata": {
            "tags": []
          },
          "execution_count": 100
        }
      ]
    },
    {
      "cell_type": "code",
      "metadata": {
        "colab": {
          "base_uri": "https://localhost:8080/",
          "height": 402
        },
        "id": "8xmydOfYkh_h",
        "outputId": "23038b5c-a213-4c3e-fcef-39aef1787179"
      },
      "source": [
        "df2 = modified[modified['rideable_type'] == 'electric_bike']\n",
        "df2 = df2.drop(['rideable_type','count', 'docked_b'], axis=1)\n",
        "df2"
      ],
      "execution_count": 101,
      "outputs": [
        {
          "output_type": "execute_result",
          "data": {
            "text/html": [
              "<div>\n",
              "<style scoped>\n",
              "    .dataframe tbody tr th:only-of-type {\n",
              "        vertical-align: middle;\n",
              "    }\n",
              "\n",
              "    .dataframe tbody tr th {\n",
              "        vertical-align: top;\n",
              "    }\n",
              "\n",
              "    .dataframe thead th {\n",
              "        text-align: right;\n",
              "    }\n",
              "</style>\n",
              "<table border=\"1\" class=\"dataframe\">\n",
              "  <thead>\n",
              "    <tr style=\"text-align: right;\">\n",
              "      <th></th>\n",
              "      <th>DY</th>\n",
              "      <th>MO</th>\n",
              "      <th>PS</th>\n",
              "      <th>T2M_RANGE</th>\n",
              "      <th>T2M_MAX</th>\n",
              "      <th>T2M_MIN</th>\n",
              "      <th>RH2M</th>\n",
              "      <th>WS50M_RANGE</th>\n",
              "      <th>T2MDEW</th>\n",
              "      <th>T2M</th>\n",
              "      <th>QV2M</th>\n",
              "      <th>electric_b</th>\n",
              "    </tr>\n",
              "  </thead>\n",
              "  <tbody>\n",
              "    <tr>\n",
              "      <th>1</th>\n",
              "      <td>1.0</td>\n",
              "      <td>8.0</td>\n",
              "      <td>100.14</td>\n",
              "      <td>9.68</td>\n",
              "      <td>31.55</td>\n",
              "      <td>21.88</td>\n",
              "      <td>70.06</td>\n",
              "      <td>6.75</td>\n",
              "      <td>21.05</td>\n",
              "      <td>26.85</td>\n",
              "      <td>15.53</td>\n",
              "      <td>5</td>\n",
              "    </tr>\n",
              "    <tr>\n",
              "      <th>3</th>\n",
              "      <td>1.0</td>\n",
              "      <td>9.0</td>\n",
              "      <td>100.56</td>\n",
              "      <td>7.80</td>\n",
              "      <td>26.47</td>\n",
              "      <td>18.67</td>\n",
              "      <td>85.16</td>\n",
              "      <td>2.27</td>\n",
              "      <td>19.74</td>\n",
              "      <td>22.34</td>\n",
              "      <td>14.35</td>\n",
              "      <td>4</td>\n",
              "    </tr>\n",
              "    <tr>\n",
              "      <th>6</th>\n",
              "      <td>2.0</td>\n",
              "      <td>8.0</td>\n",
              "      <td>100.03</td>\n",
              "      <td>10.09</td>\n",
              "      <td>34.01</td>\n",
              "      <td>23.92</td>\n",
              "      <td>66.16</td>\n",
              "      <td>4.90</td>\n",
              "      <td>21.85</td>\n",
              "      <td>28.65</td>\n",
              "      <td>16.31</td>\n",
              "      <td>6</td>\n",
              "    </tr>\n",
              "    <tr>\n",
              "      <th>8</th>\n",
              "      <td>2.0</td>\n",
              "      <td>9.0</td>\n",
              "      <td>100.01</td>\n",
              "      <td>8.21</td>\n",
              "      <td>29.40</td>\n",
              "      <td>21.18</td>\n",
              "      <td>87.59</td>\n",
              "      <td>1.60</td>\n",
              "      <td>23.00</td>\n",
              "      <td>25.20</td>\n",
              "      <td>17.66</td>\n",
              "      <td>3</td>\n",
              "    </tr>\n",
              "    <tr>\n",
              "      <th>11</th>\n",
              "      <td>3.0</td>\n",
              "      <td>8.0</td>\n",
              "      <td>100.50</td>\n",
              "      <td>9.03</td>\n",
              "      <td>31.14</td>\n",
              "      <td>22.11</td>\n",
              "      <td>68.29</td>\n",
              "      <td>4.94</td>\n",
              "      <td>19.64</td>\n",
              "      <td>25.80</td>\n",
              "      <td>14.17</td>\n",
              "      <td>7</td>\n",
              "    </tr>\n",
              "    <tr>\n",
              "      <th>...</th>\n",
              "      <td>...</td>\n",
              "      <td>...</td>\n",
              "      <td>...</td>\n",
              "      <td>...</td>\n",
              "      <td>...</td>\n",
              "      <td>...</td>\n",
              "      <td>...</td>\n",
              "      <td>...</td>\n",
              "      <td>...</td>\n",
              "      <td>...</td>\n",
              "      <td>...</td>\n",
              "      <td>...</td>\n",
              "    </tr>\n",
              "    <tr>\n",
              "      <th>138</th>\n",
              "      <td>29.0</td>\n",
              "      <td>8.0</td>\n",
              "      <td>99.16</td>\n",
              "      <td>7.51</td>\n",
              "      <td>28.85</td>\n",
              "      <td>21.34</td>\n",
              "      <td>83.94</td>\n",
              "      <td>5.55</td>\n",
              "      <td>22.34</td>\n",
              "      <td>25.22</td>\n",
              "      <td>17.08</td>\n",
              "      <td>5</td>\n",
              "    </tr>\n",
              "    <tr>\n",
              "      <th>140</th>\n",
              "      <td>29.0</td>\n",
              "      <td>9.0</td>\n",
              "      <td>99.67</td>\n",
              "      <td>11.55</td>\n",
              "      <td>26.35</td>\n",
              "      <td>14.80</td>\n",
              "      <td>88.15</td>\n",
              "      <td>6.01</td>\n",
              "      <td>18.92</td>\n",
              "      <td>20.96</td>\n",
              "      <td>13.77</td>\n",
              "      <td>5</td>\n",
              "    </tr>\n",
              "    <tr>\n",
              "      <th>143</th>\n",
              "      <td>30.0</td>\n",
              "      <td>8.0</td>\n",
              "      <td>99.79</td>\n",
              "      <td>10.16</td>\n",
              "      <td>27.15</td>\n",
              "      <td>17.00</td>\n",
              "      <td>61.54</td>\n",
              "      <td>7.52</td>\n",
              "      <td>14.97</td>\n",
              "      <td>22.62</td>\n",
              "      <td>10.61</td>\n",
              "      <td>6</td>\n",
              "    </tr>\n",
              "    <tr>\n",
              "      <th>145</th>\n",
              "      <td>30.0</td>\n",
              "      <td>9.0</td>\n",
              "      <td>99.73</td>\n",
              "      <td>9.32</td>\n",
              "      <td>21.10</td>\n",
              "      <td>11.78</td>\n",
              "      <td>72.31</td>\n",
              "      <td>3.46</td>\n",
              "      <td>11.06</td>\n",
              "      <td>15.97</td>\n",
              "      <td>8.23</td>\n",
              "      <td>8</td>\n",
              "    </tr>\n",
              "    <tr>\n",
              "      <th>148</th>\n",
              "      <td>31.0</td>\n",
              "      <td>8.0</td>\n",
              "      <td>100.51</td>\n",
              "      <td>5.10</td>\n",
              "      <td>23.45</td>\n",
              "      <td>18.35</td>\n",
              "      <td>80.48</td>\n",
              "      <td>2.39</td>\n",
              "      <td>17.36</td>\n",
              "      <td>20.80</td>\n",
              "      <td>12.33</td>\n",
              "      <td>3</td>\n",
              "    </tr>\n",
              "  </tbody>\n",
              "</table>\n",
              "<p>61 rows × 12 columns</p>\n",
              "</div>"
            ],
            "text/plain": [
              "       DY   MO      PS  T2M_RANGE  ...  T2MDEW    T2M   QV2M  electric_b\n",
              "1     1.0  8.0  100.14       9.68  ...   21.05  26.85  15.53           5\n",
              "3     1.0  9.0  100.56       7.80  ...   19.74  22.34  14.35           4\n",
              "6     2.0  8.0  100.03      10.09  ...   21.85  28.65  16.31           6\n",
              "8     2.0  9.0  100.01       8.21  ...   23.00  25.20  17.66           3\n",
              "11    3.0  8.0  100.50       9.03  ...   19.64  25.80  14.17           7\n",
              "..    ...  ...     ...        ...  ...     ...    ...    ...         ...\n",
              "138  29.0  8.0   99.16       7.51  ...   22.34  25.22  17.08           5\n",
              "140  29.0  9.0   99.67      11.55  ...   18.92  20.96  13.77           5\n",
              "143  30.0  8.0   99.79      10.16  ...   14.97  22.62  10.61           6\n",
              "145  30.0  9.0   99.73       9.32  ...   11.06  15.97   8.23           8\n",
              "148  31.0  8.0  100.51       5.10  ...   17.36  20.80  12.33           3\n",
              "\n",
              "[61 rows x 12 columns]"
            ]
          },
          "metadata": {
            "tags": []
          },
          "execution_count": 101
        }
      ]
    },
    {
      "cell_type": "code",
      "metadata": {
        "colab": {
          "base_uri": "https://localhost:8080/",
          "height": 402
        },
        "id": "3SCyjlRVeVkc",
        "outputId": "90aef270-80cf-4084-94d6-c9785b22504f"
      },
      "source": [
        "df1['PS'] = df1['PS'] - 100\n",
        "modified = df1\n",
        "modified"
      ],
      "execution_count": 102,
      "outputs": [
        {
          "output_type": "execute_result",
          "data": {
            "text/html": [
              "<div>\n",
              "<style scoped>\n",
              "    .dataframe tbody tr th:only-of-type {\n",
              "        vertical-align: middle;\n",
              "    }\n",
              "\n",
              "    .dataframe tbody tr th {\n",
              "        vertical-align: top;\n",
              "    }\n",
              "\n",
              "    .dataframe thead th {\n",
              "        text-align: right;\n",
              "    }\n",
              "</style>\n",
              "<table border=\"1\" class=\"dataframe\">\n",
              "  <thead>\n",
              "    <tr style=\"text-align: right;\">\n",
              "      <th></th>\n",
              "      <th>DY</th>\n",
              "      <th>MO</th>\n",
              "      <th>PS</th>\n",
              "      <th>T2M_RANGE</th>\n",
              "      <th>T2M_MAX</th>\n",
              "      <th>T2M_MIN</th>\n",
              "      <th>RH2M</th>\n",
              "      <th>WS50M_RANGE</th>\n",
              "      <th>T2MDEW</th>\n",
              "      <th>T2M</th>\n",
              "      <th>QV2M</th>\n",
              "      <th>docked_b</th>\n",
              "    </tr>\n",
              "  </thead>\n",
              "  <tbody>\n",
              "    <tr>\n",
              "      <th>0</th>\n",
              "      <td>1.0</td>\n",
              "      <td>8.0</td>\n",
              "      <td>0.14</td>\n",
              "      <td>9.68</td>\n",
              "      <td>31.55</td>\n",
              "      <td>21.88</td>\n",
              "      <td>70.06</td>\n",
              "      <td>6.75</td>\n",
              "      <td>21.05</td>\n",
              "      <td>26.85</td>\n",
              "      <td>15.53</td>\n",
              "      <td>7</td>\n",
              "    </tr>\n",
              "    <tr>\n",
              "      <th>2</th>\n",
              "      <td>1.0</td>\n",
              "      <td>9.0</td>\n",
              "      <td>0.56</td>\n",
              "      <td>7.80</td>\n",
              "      <td>26.47</td>\n",
              "      <td>18.67</td>\n",
              "      <td>85.16</td>\n",
              "      <td>2.27</td>\n",
              "      <td>19.74</td>\n",
              "      <td>22.34</td>\n",
              "      <td>14.35</td>\n",
              "      <td>6</td>\n",
              "    </tr>\n",
              "    <tr>\n",
              "      <th>4</th>\n",
              "      <td>1.0</td>\n",
              "      <td>10.0</td>\n",
              "      <td>0.16</td>\n",
              "      <td>10.40</td>\n",
              "      <td>22.21</td>\n",
              "      <td>11.81</td>\n",
              "      <td>68.46</td>\n",
              "      <td>6.68</td>\n",
              "      <td>11.04</td>\n",
              "      <td>16.79</td>\n",
              "      <td>8.18</td>\n",
              "      <td>6</td>\n",
              "    </tr>\n",
              "    <tr>\n",
              "      <th>5</th>\n",
              "      <td>2.0</td>\n",
              "      <td>8.0</td>\n",
              "      <td>0.03</td>\n",
              "      <td>10.09</td>\n",
              "      <td>34.01</td>\n",
              "      <td>23.92</td>\n",
              "      <td>66.16</td>\n",
              "      <td>4.90</td>\n",
              "      <td>21.85</td>\n",
              "      <td>28.65</td>\n",
              "      <td>16.31</td>\n",
              "      <td>5</td>\n",
              "    </tr>\n",
              "    <tr>\n",
              "      <th>7</th>\n",
              "      <td>2.0</td>\n",
              "      <td>9.0</td>\n",
              "      <td>0.01</td>\n",
              "      <td>8.21</td>\n",
              "      <td>29.40</td>\n",
              "      <td>21.18</td>\n",
              "      <td>87.59</td>\n",
              "      <td>1.60</td>\n",
              "      <td>23.00</td>\n",
              "      <td>25.20</td>\n",
              "      <td>17.66</td>\n",
              "      <td>5</td>\n",
              "    </tr>\n",
              "    <tr>\n",
              "      <th>...</th>\n",
              "      <td>...</td>\n",
              "      <td>...</td>\n",
              "      <td>...</td>\n",
              "      <td>...</td>\n",
              "      <td>...</td>\n",
              "      <td>...</td>\n",
              "      <td>...</td>\n",
              "      <td>...</td>\n",
              "      <td>...</td>\n",
              "      <td>...</td>\n",
              "      <td>...</td>\n",
              "      <td>...</td>\n",
              "    </tr>\n",
              "    <tr>\n",
              "      <th>142</th>\n",
              "      <td>30.0</td>\n",
              "      <td>8.0</td>\n",
              "      <td>-0.21</td>\n",
              "      <td>10.16</td>\n",
              "      <td>27.15</td>\n",
              "      <td>17.00</td>\n",
              "      <td>61.54</td>\n",
              "      <td>7.52</td>\n",
              "      <td>14.97</td>\n",
              "      <td>22.62</td>\n",
              "      <td>10.61</td>\n",
              "      <td>8</td>\n",
              "    </tr>\n",
              "    <tr>\n",
              "      <th>144</th>\n",
              "      <td>30.0</td>\n",
              "      <td>9.0</td>\n",
              "      <td>-0.27</td>\n",
              "      <td>9.32</td>\n",
              "      <td>21.10</td>\n",
              "      <td>11.78</td>\n",
              "      <td>72.31</td>\n",
              "      <td>3.46</td>\n",
              "      <td>11.06</td>\n",
              "      <td>15.97</td>\n",
              "      <td>8.23</td>\n",
              "      <td>7</td>\n",
              "    </tr>\n",
              "    <tr>\n",
              "      <th>146</th>\n",
              "      <td>30.0</td>\n",
              "      <td>10.0</td>\n",
              "      <td>0.21</td>\n",
              "      <td>5.72</td>\n",
              "      <td>11.62</td>\n",
              "      <td>5.90</td>\n",
              "      <td>83.46</td>\n",
              "      <td>4.29</td>\n",
              "      <td>5.96</td>\n",
              "      <td>8.61</td>\n",
              "      <td>5.82</td>\n",
              "      <td>5</td>\n",
              "    </tr>\n",
              "    <tr>\n",
              "      <th>147</th>\n",
              "      <td>31.0</td>\n",
              "      <td>8.0</td>\n",
              "      <td>0.51</td>\n",
              "      <td>5.10</td>\n",
              "      <td>23.45</td>\n",
              "      <td>18.35</td>\n",
              "      <td>80.48</td>\n",
              "      <td>2.39</td>\n",
              "      <td>17.36</td>\n",
              "      <td>20.80</td>\n",
              "      <td>12.33</td>\n",
              "      <td>1</td>\n",
              "    </tr>\n",
              "    <tr>\n",
              "      <th>149</th>\n",
              "      <td>31.0</td>\n",
              "      <td>10.0</td>\n",
              "      <td>1.85</td>\n",
              "      <td>8.58</td>\n",
              "      <td>10.13</td>\n",
              "      <td>1.55</td>\n",
              "      <td>72.50</td>\n",
              "      <td>7.18</td>\n",
              "      <td>1.30</td>\n",
              "      <td>5.82</td>\n",
              "      <td>4.10</td>\n",
              "      <td>2</td>\n",
              "    </tr>\n",
              "  </tbody>\n",
              "</table>\n",
              "<p>89 rows × 12 columns</p>\n",
              "</div>"
            ],
            "text/plain": [
              "       DY    MO    PS  T2M_RANGE  ...  T2MDEW    T2M   QV2M  docked_b\n",
              "0     1.0   8.0  0.14       9.68  ...   21.05  26.85  15.53         7\n",
              "2     1.0   9.0  0.56       7.80  ...   19.74  22.34  14.35         6\n",
              "4     1.0  10.0  0.16      10.40  ...   11.04  16.79   8.18         6\n",
              "5     2.0   8.0  0.03      10.09  ...   21.85  28.65  16.31         5\n",
              "7     2.0   9.0  0.01       8.21  ...   23.00  25.20  17.66         5\n",
              "..    ...   ...   ...        ...  ...     ...    ...    ...       ...\n",
              "142  30.0   8.0 -0.21      10.16  ...   14.97  22.62  10.61         8\n",
              "144  30.0   9.0 -0.27       9.32  ...   11.06  15.97   8.23         7\n",
              "146  30.0  10.0  0.21       5.72  ...    5.96   8.61   5.82         5\n",
              "147  31.0   8.0  0.51       5.10  ...   17.36  20.80  12.33         1\n",
              "149  31.0  10.0  1.85       8.58  ...    1.30   5.82   4.10         2\n",
              "\n",
              "[89 rows x 12 columns]"
            ]
          },
          "metadata": {
            "tags": []
          },
          "execution_count": 102
        }
      ]
    },
    {
      "cell_type": "code",
      "metadata": {
        "colab": {
          "base_uri": "https://localhost:8080/",
          "height": 402
        },
        "id": "gr4wB5w9Xl_F",
        "outputId": "d939ad6c-ee5d-43e7-9f72-960c521ff65d"
      },
      "source": [
        "modified.corr()"
      ],
      "execution_count": 103,
      "outputs": [
        {
          "output_type": "execute_result",
          "data": {
            "text/html": [
              "<div>\n",
              "<style scoped>\n",
              "    .dataframe tbody tr th:only-of-type {\n",
              "        vertical-align: middle;\n",
              "    }\n",
              "\n",
              "    .dataframe tbody tr th {\n",
              "        vertical-align: top;\n",
              "    }\n",
              "\n",
              "    .dataframe thead th {\n",
              "        text-align: right;\n",
              "    }\n",
              "</style>\n",
              "<table border=\"1\" class=\"dataframe\">\n",
              "  <thead>\n",
              "    <tr style=\"text-align: right;\">\n",
              "      <th></th>\n",
              "      <th>DY</th>\n",
              "      <th>MO</th>\n",
              "      <th>PS</th>\n",
              "      <th>T2M_RANGE</th>\n",
              "      <th>T2M_MAX</th>\n",
              "      <th>T2M_MIN</th>\n",
              "      <th>RH2M</th>\n",
              "      <th>WS50M_RANGE</th>\n",
              "      <th>T2MDEW</th>\n",
              "      <th>T2M</th>\n",
              "      <th>QV2M</th>\n",
              "      <th>docked_b</th>\n",
              "    </tr>\n",
              "  </thead>\n",
              "  <tbody>\n",
              "    <tr>\n",
              "      <th>DY</th>\n",
              "      <td>1.000000</td>\n",
              "      <td>-0.020701</td>\n",
              "      <td>-0.103862</td>\n",
              "      <td>-0.022936</td>\n",
              "      <td>-0.222472</td>\n",
              "      <td>-0.183190</td>\n",
              "      <td>0.196525</td>\n",
              "      <td>-0.114184</td>\n",
              "      <td>-0.109702</td>\n",
              "      <td>-0.215147</td>\n",
              "      <td>-0.118516</td>\n",
              "      <td>-0.208536</td>\n",
              "    </tr>\n",
              "    <tr>\n",
              "      <th>MO</th>\n",
              "      <td>-0.020701</td>\n",
              "      <td>1.000000</td>\n",
              "      <td>0.329416</td>\n",
              "      <td>0.287184</td>\n",
              "      <td>-0.766831</td>\n",
              "      <td>-0.801369</td>\n",
              "      <td>0.038574</td>\n",
              "      <td>0.090055</td>\n",
              "      <td>-0.677416</td>\n",
              "      <td>-0.814233</td>\n",
              "      <td>-0.710756</td>\n",
              "      <td>0.115408</td>\n",
              "    </tr>\n",
              "    <tr>\n",
              "      <th>PS</th>\n",
              "      <td>-0.103862</td>\n",
              "      <td>0.329416</td>\n",
              "      <td>1.000000</td>\n",
              "      <td>0.204841</td>\n",
              "      <td>-0.472013</td>\n",
              "      <td>-0.506195</td>\n",
              "      <td>-0.320133</td>\n",
              "      <td>-0.038013</td>\n",
              "      <td>-0.551187</td>\n",
              "      <td>-0.503600</td>\n",
              "      <td>-0.517231</td>\n",
              "      <td>0.152145</td>\n",
              "    </tr>\n",
              "    <tr>\n",
              "      <th>T2M_RANGE</th>\n",
              "      <td>-0.022936</td>\n",
              "      <td>0.287184</td>\n",
              "      <td>0.204841</td>\n",
              "      <td>1.000000</td>\n",
              "      <td>-0.031804</td>\n",
              "      <td>-0.491570</td>\n",
              "      <td>-0.609422</td>\n",
              "      <td>0.087059</td>\n",
              "      <td>-0.471238</td>\n",
              "      <td>-0.277714</td>\n",
              "      <td>-0.482162</td>\n",
              "      <td>0.246168</td>\n",
              "    </tr>\n",
              "    <tr>\n",
              "      <th>T2M_MAX</th>\n",
              "      <td>-0.222472</td>\n",
              "      <td>-0.766831</td>\n",
              "      <td>-0.472013</td>\n",
              "      <td>-0.031804</td>\n",
              "      <td>1.000000</td>\n",
              "      <td>0.886031</td>\n",
              "      <td>0.055945</td>\n",
              "      <td>-0.155574</td>\n",
              "      <td>0.842098</td>\n",
              "      <td>0.966262</td>\n",
              "      <td>0.842680</td>\n",
              "      <td>-0.048893</td>\n",
              "    </tr>\n",
              "    <tr>\n",
              "      <th>T2M_MIN</th>\n",
              "      <td>-0.183190</td>\n",
              "      <td>-0.801369</td>\n",
              "      <td>-0.506195</td>\n",
              "      <td>-0.491570</td>\n",
              "      <td>0.886031</td>\n",
              "      <td>1.000000</td>\n",
              "      <td>0.331405</td>\n",
              "      <td>-0.175866</td>\n",
              "      <td>0.952286</td>\n",
              "      <td>0.970713</td>\n",
              "      <td>0.957845</td>\n",
              "      <td>-0.156732</td>\n",
              "    </tr>\n",
              "    <tr>\n",
              "      <th>RH2M</th>\n",
              "      <td>0.196525</td>\n",
              "      <td>0.038574</td>\n",
              "      <td>-0.320133</td>\n",
              "      <td>-0.609422</td>\n",
              "      <td>0.055945</td>\n",
              "      <td>0.331405</td>\n",
              "      <td>1.000000</td>\n",
              "      <td>-0.214730</td>\n",
              "      <td>0.552849</td>\n",
              "      <td>0.199174</td>\n",
              "      <td>0.511704</td>\n",
              "      <td>-0.340242</td>\n",
              "    </tr>\n",
              "    <tr>\n",
              "      <th>WS50M_RANGE</th>\n",
              "      <td>-0.114184</td>\n",
              "      <td>0.090055</td>\n",
              "      <td>-0.038013</td>\n",
              "      <td>0.087059</td>\n",
              "      <td>-0.155574</td>\n",
              "      <td>-0.175866</td>\n",
              "      <td>-0.214730</td>\n",
              "      <td>1.000000</td>\n",
              "      <td>-0.228428</td>\n",
              "      <td>-0.170072</td>\n",
              "      <td>-0.222761</td>\n",
              "      <td>0.005528</td>\n",
              "    </tr>\n",
              "    <tr>\n",
              "      <th>T2MDEW</th>\n",
              "      <td>-0.109702</td>\n",
              "      <td>-0.677416</td>\n",
              "      <td>-0.551187</td>\n",
              "      <td>-0.471238</td>\n",
              "      <td>0.842098</td>\n",
              "      <td>0.952286</td>\n",
              "      <td>0.552849</td>\n",
              "      <td>-0.228428</td>\n",
              "      <td>1.000000</td>\n",
              "      <td>0.926225</td>\n",
              "      <td>0.986773</td>\n",
              "      <td>-0.215206</td>\n",
              "    </tr>\n",
              "    <tr>\n",
              "      <th>T2M</th>\n",
              "      <td>-0.215147</td>\n",
              "      <td>-0.814233</td>\n",
              "      <td>-0.503600</td>\n",
              "      <td>-0.277714</td>\n",
              "      <td>0.966262</td>\n",
              "      <td>0.970713</td>\n",
              "      <td>0.199174</td>\n",
              "      <td>-0.170072</td>\n",
              "      <td>0.926225</td>\n",
              "      <td>1.000000</td>\n",
              "      <td>0.929435</td>\n",
              "      <td>-0.100458</td>\n",
              "    </tr>\n",
              "    <tr>\n",
              "      <th>QV2M</th>\n",
              "      <td>-0.118516</td>\n",
              "      <td>-0.710756</td>\n",
              "      <td>-0.517231</td>\n",
              "      <td>-0.482162</td>\n",
              "      <td>0.842680</td>\n",
              "      <td>0.957845</td>\n",
              "      <td>0.511704</td>\n",
              "      <td>-0.222761</td>\n",
              "      <td>0.986773</td>\n",
              "      <td>0.929435</td>\n",
              "      <td>1.000000</td>\n",
              "      <td>-0.217602</td>\n",
              "    </tr>\n",
              "    <tr>\n",
              "      <th>docked_b</th>\n",
              "      <td>-0.208536</td>\n",
              "      <td>0.115408</td>\n",
              "      <td>0.152145</td>\n",
              "      <td>0.246168</td>\n",
              "      <td>-0.048893</td>\n",
              "      <td>-0.156732</td>\n",
              "      <td>-0.340242</td>\n",
              "      <td>0.005528</td>\n",
              "      <td>-0.215206</td>\n",
              "      <td>-0.100458</td>\n",
              "      <td>-0.217602</td>\n",
              "      <td>1.000000</td>\n",
              "    </tr>\n",
              "  </tbody>\n",
              "</table>\n",
              "</div>"
            ],
            "text/plain": [
              "                   DY        MO        PS  ...       T2M      QV2M  docked_b\n",
              "DY           1.000000 -0.020701 -0.103862  ... -0.215147 -0.118516 -0.208536\n",
              "MO          -0.020701  1.000000  0.329416  ... -0.814233 -0.710756  0.115408\n",
              "PS          -0.103862  0.329416  1.000000  ... -0.503600 -0.517231  0.152145\n",
              "T2M_RANGE   -0.022936  0.287184  0.204841  ... -0.277714 -0.482162  0.246168\n",
              "T2M_MAX     -0.222472 -0.766831 -0.472013  ...  0.966262  0.842680 -0.048893\n",
              "T2M_MIN     -0.183190 -0.801369 -0.506195  ...  0.970713  0.957845 -0.156732\n",
              "RH2M         0.196525  0.038574 -0.320133  ...  0.199174  0.511704 -0.340242\n",
              "WS50M_RANGE -0.114184  0.090055 -0.038013  ... -0.170072 -0.222761  0.005528\n",
              "T2MDEW      -0.109702 -0.677416 -0.551187  ...  0.926225  0.986773 -0.215206\n",
              "T2M         -0.215147 -0.814233 -0.503600  ...  1.000000  0.929435 -0.100458\n",
              "QV2M        -0.118516 -0.710756 -0.517231  ...  0.929435  1.000000 -0.217602\n",
              "docked_b    -0.208536  0.115408  0.152145  ... -0.100458 -0.217602  1.000000\n",
              "\n",
              "[12 rows x 12 columns]"
            ]
          },
          "metadata": {
            "tags": []
          },
          "execution_count": 103
        }
      ]
    },
    {
      "cell_type": "code",
      "metadata": {
        "colab": {
          "base_uri": "https://localhost:8080/",
          "height": 663
        },
        "id": "HtWcsYBPX5en",
        "outputId": "241fb783-b3bf-4afa-db1a-283fcb21bc49"
      },
      "source": [
        "plt.figure(figsize=(16,10))\n",
        "sns.heatmap(modified.corr(), annot=True)\n",
        "plt.show()"
      ],
      "execution_count": 104,
      "outputs": [
        {
          "output_type": "display_data",
          "data": {
            "image/png": "[encoded data removed]",
            "text/plain": [
              "<Figure size 1152x720 with 2 Axes>"
            ]
          },
          "metadata": {
            "tags": [],
            "needs_background": "light"
          }
        }
      ]
    },
    {
      "cell_type": "code",
      "metadata": {
        "colab": {
          "base_uri": "https://localhost:8080/"
        },
        "id": "PzALkvPMwWB0",
        "outputId": "f2177b60-eaa2-44d9-df3a-9cd6ec3b836b"
      },
      "source": [
        "docked_count = modified['docked_b'].sum()\n",
        "print (docked_count)\n",
        "electric_count = df2['electric_b'].sum()\n",
        "print (electric_count)\n"
      ],
      "execution_count": 105,
      "outputs": [
        {
          "output_type": "stream",
          "text": [
            "423\n",
            "382\n"
          ],
          "name": "stdout"
        }
      ]
    },
    {
      "cell_type": "code",
      "metadata": {
        "colab": {
          "base_uri": "https://localhost:8080/"
        },
        "id": "qXHQbUwH-rBk",
        "outputId": "771d4d0e-8f6a-4255-8d94-25c2bdc41a84"
      },
      "source": [
        "index = modified.index\n",
        "number_of_rows = len(index)\n",
        "number_of_rows"
      ],
      "execution_count": 106,
      "outputs": [
        {
          "output_type": "execute_result",
          "data": {
            "text/plain": [
              "89"
            ]
          },
          "metadata": {
            "tags": []
          },
          "execution_count": 106
        }
      ]
    },
    {
      "cell_type": "code",
      "metadata": {
        "colab": {
          "base_uri": "https://localhost:8080/"
        },
        "id": "mf2UoKUTRJCL",
        "outputId": "2996d556-bd70-4954-9f75-e2fa9aa6d2fe"
      },
      "source": [
        "from sklearn.svm import SVC\n",
        "!pip3 install quandl\n",
        "!pip3 install sklearn\n",
        "import quandl, math\n",
        "from sklearn.model_selection import cross_validate\n",
        "from sklearn.model_selection import train_test_split\n",
        "from sklearn import preprocessing, svm\n",
        "from sklearn.linear_model import LinearRegression"
      ],
      "execution_count": 107,
      "outputs": [
        {
          "output_type": "stream",
          "text": [
            "Requirement already satisfied: quandl in /usr/local/lib/python3.7/dist-packages (3.6.1)\n",
            "Requirement already satisfied: pandas>=0.14 in /usr/local/lib/python3.7/dist-packages (from quandl) (1.1.5)\n",
            "Requirement already satisfied: requests>=2.7.0 in /usr/local/lib/python3.7/dist-packages (from quandl) (2.23.0)\n",
            "Requirement already satisfied: python-dateutil in /usr/local/lib/python3.7/dist-packages (from quandl) (2.8.1)\n",
            "Requirement already satisfied: numpy>=1.8 in /usr/local/lib/python3.7/dist-packages (from quandl) (1.19.5)\n",
            "Requirement already satisfied: six in /usr/local/lib/python3.7/dist-packages (from quandl) (1.15.0)\n",
            "Requirement already satisfied: more-itertools in /usr/local/lib/python3.7/dist-packages (from quandl) (8.7.0)\n",
            "Requirement already satisfied: inflection>=0.3.1 in /usr/local/lib/python3.7/dist-packages (from quandl) (0.5.1)\n",
            "Requirement already satisfied: pytz>=2017.2 in /usr/local/lib/python3.7/dist-packages (from pandas>=0.14->quandl) (2018.9)\n",
            "Requirement already satisfied: chardet<4,>=3.0.2 in /usr/local/lib/python3.7/dist-packages (from requests>=2.7.0->quandl) (3.0.4)\n",
            "Requirement already satisfied: urllib3!=1.25.0,!=1.25.1,<1.26,>=1.21.1 in /usr/local/lib/python3.7/dist-packages (from requests>=2.7.0->quandl) (1.24.3)\n",
            "Requirement already satisfied: idna<3,>=2.5 in /usr/local/lib/python3.7/dist-packages (from requests>=2.7.0->quandl) (2.10)\n",
            "Requirement already satisfied: certifi>=2017.4.17 in /usr/local/lib/python3.7/dist-packages (from requests>=2.7.0->quandl) (2020.12.5)\n",
            "Requirement already satisfied: sklearn in /usr/local/lib/python3.7/dist-packages (0.0)\n",
            "Requirement already satisfied: scikit-learn in /usr/local/lib/python3.7/dist-packages (from sklearn) (0.22.2.post1)\n",
            "Requirement already satisfied: numpy>=1.11.0 in /usr/local/lib/python3.7/dist-packages (from scikit-learn->sklearn) (1.19.5)\n",
            "Requirement already satisfied: scipy>=0.17.0 in /usr/local/lib/python3.7/dist-packages (from scikit-learn->sklearn) (1.4.1)\n",
            "Requirement already satisfied: joblib>=0.11 in /usr/local/lib/python3.7/dist-packages (from scikit-learn->sklearn) (1.0.1)\n"
          ],
          "name": "stdout"
        }
      ]
    },
    {
      "cell_type": "code",
      "metadata": {
        "id": "eavCdbkDxcCn"
      },
      "source": [
        "\n",
        "X = modified.drop(['docked_b'], 1)\n",
        "y = modified['docked_b']"
      ],
      "execution_count": 108,
      "outputs": []
    },
    {
      "cell_type": "code",
      "metadata": {
        "id": "7cuW5NAZ7nKz"
      },
      "source": [
        "X = np.array(X)\n",
        "y = np.array(y)"
      ],
      "execution_count": 109,
      "outputs": []
    },
    {
      "cell_type": "code",
      "metadata": {
        "id": "pFwqmt0Rf9y4"
      },
      "source": [
        "from sklearn.model_selection import train_test_split\n",
        "\n",
        "X_train, X_test, y_train, y_test = train_test_split(X, y, test_size=0.2, random_state=0)"
      ],
      "execution_count": 110,
      "outputs": []
    },
    {
      "cell_type": "code",
      "metadata": {
        "id": "YLguCmauf_LM"
      },
      "source": [
        "from sklearn.preprocessing import StandardScaler\n",
        "\n",
        "sc = StandardScaler()\n",
        "X_train = sc.fit_transform(X_train)\n",
        "X_test = sc.transform(X_test)"
      ],
      "execution_count": 111,
      "outputs": []
    },
    {
      "cell_type": "code",
      "metadata": {
        "id": "9HAOsDs1gCuN"
      },
      "source": [
        "from sklearn.ensemble import RandomForestRegressor\n",
        "\n",
        "regressor = RandomForestRegressor(n_estimators=10, random_state=20)\n",
        "regressor.fit(X_train, y_train)\n",
        "y_pred = regressor.predict(X_test)"
      ],
      "execution_count": 112,
      "outputs": []
    },
    {
      "cell_type": "code",
      "metadata": {
        "colab": {
          "base_uri": "https://localhost:8080/"
        },
        "id": "GvuxzML-gGsH",
        "outputId": "45c82b81-68af-475f-fdcf-da399d029766"
      },
      "source": [
        "from sklearn import metrics\n",
        "\n",
        "print('Mean Absolute Error:', metrics.mean_absolute_error(y_test, y_pred))\n",
        "print('Mean Squared Error:', metrics.mean_squared_error(y_test, y_pred))\n",
        "print('Root Mean Squared Error:', np.sqrt(metrics.mean_squared_error(y_test, y_pred)))"
      ],
      "execution_count": 113,
      "outputs": [
        {
          "output_type": "stream",
          "text": [
            "Mean Absolute Error: 2.25\n",
            "Mean Squared Error: 8.175\n",
            "Root Mean Squared Error: 2.8591956910991594\n"
          ],
          "name": "stdout"
        }
      ]
    },
    {
      "cell_type": "code",
      "metadata": {
        "id": "pyo6K5ys2-mJ"
      },
      "source": [
        "#X = preprocessing.scale(X)"
      ],
      "execution_count": 114,
      "outputs": []
    },
    {
      "cell_type": "code",
      "metadata": {
        "id": "A3N7O-fl3Gg5"
      },
      "source": [
        "X_train, X_test, y_train, y_test = train_test_split(X, y, test_size=0.2,random_state=20)"
      ],
      "execution_count": 115,
      "outputs": []
    },
    {
      "cell_type": "code",
      "metadata": {
        "id": "pF6clCVG3LxE"
      },
      "source": [
        "clf = LinearRegression()"
      ],
      "execution_count": 116,
      "outputs": []
    },
    {
      "cell_type": "code",
      "metadata": {
        "colab": {
          "base_uri": "https://localhost:8080/"
        },
        "id": "4m-grhQT3OW5",
        "outputId": "4829b6f7-8de3-411e-e34c-6a706d65a1d3"
      },
      "source": [
        "clf.fit(X_train, y_train)\n",
        "y_pred=clf.predict(X_test)\n",
        "y_pred = np.ceil(y_pred)\n",
        "y_pred"
      ],
      "execution_count": 117,
      "outputs": [
        {
          "output_type": "execute_result",
          "data": {
            "text/plain": [
              "array([6., 7., 6., 4., 4., 3., 5., 7., 3., 6., 5., 4., 5., 6., 5., 4., 4.,\n",
              "       5.])"
            ]
          },
          "metadata": {
            "tags": []
          },
          "execution_count": 117
        }
      ]
    },
    {
      "cell_type": "code",
      "metadata": {
        "colab": {
          "base_uri": "https://localhost:8080/"
        },
        "id": "3pFT0oXyhhst",
        "outputId": "1c6b98f7-29ed-4f83-b712-b6b226d1f2ab"
      },
      "source": [
        "y_test"
      ],
      "execution_count": 118,
      "outputs": [
        {
          "output_type": "execute_result",
          "data": {
            "text/plain": [
              "array([5, 6, 8, 7, 5, 3, 3, 6, 2, 3, 1, 3, 5, 7, 3, 4, 4, 5])"
            ]
          },
          "metadata": {
            "tags": []
          },
          "execution_count": 118
        }
      ]
    },
    {
      "cell_type": "code",
      "metadata": {
        "colab": {
          "base_uri": "https://localhost:8080/"
        },
        "id": "Gcum_8hmBRGR",
        "outputId": "8fa30d19-ebe0-4d62-9a98-a38575cd6cbd"
      },
      "source": [
        "#To retrieve the intercept:\n",
        "print(clf.intercept_)\n",
        "\n",
        "#For retrieving the slope:\n",
        "print(clf.coef_)"
      ],
      "execution_count": 119,
      "outputs": [
        {
          "output_type": "stream",
          "text": [
            "-8.011911115633712\n",
            "[-0.01949416  1.19237061  0.53501696  0.10491599 -0.27882076 -0.08531615\n",
            " -0.01882522 -0.07676622 -0.13622431  0.79951085 -0.22655872]\n"
          ],
          "name": "stdout"
        }
      ]
    },
    {
      "cell_type": "code",
      "metadata": {
        "colab": {
          "base_uri": "https://localhost:8080/"
        },
        "id": "BTS_JvWklXmj",
        "outputId": "3a2bad41-395f-4001-95fc-de783f1c8b77"
      },
      "source": [
        "from sklearn.metrics import mean_squared_log_error\n",
        "msleDT=mean_squared_log_error(y_pred,y_test)\n",
        "rmsleLR=np.sqrt(msleDT)\n",
        "print('RMLSE for the data:',rmsleLR)"
      ],
      "execution_count": 120,
      "outputs": [
        {
          "output_type": "stream",
          "text": [
            "RMLSE for the data: 0.3633206841824755\n"
          ],
          "name": "stdout"
        }
      ]
    },
    {
      "cell_type": "code",
      "metadata": {
        "colab": {
          "base_uri": "https://localhost:8080/"
        },
        "id": "HjSm4CErenuX",
        "outputId": "75654593-d3cd-4dac-c16d-c99879f96bd7"
      },
      "source": [
        "from sklearn.preprocessing import StandardScaler\n",
        "from sklearn.ensemble import RandomForestRegressor\n",
        "from sklearn.metrics import mean_squared_error\n",
        "from sklearn.metrics import mean_squared_log_error\n",
        "ls = []\n",
        "mse_list=[]\n",
        "num_test = (number_of_rows*20)//100\n",
        "for i in range(0,number_of_rows):\n",
        "  u = (i)%number_of_rows\n",
        "  v = (num_test+i)%number_of_rows\n",
        "  if v >= num_test:\n",
        "    x = modified[u:v]\n",
        "    y = modified[v:]\n",
        "    z = modified[:u]\n",
        "    y = y.append(z)\n",
        "  else:\n",
        "    x = modified[v:u]\n",
        "    y = modified[u:]\n",
        "    z = modified[:v]\n",
        "    y = y.append(z)\n",
        "  y = pd.DataFrame(y)\n",
        "  x = pd.DataFrame(x)\n",
        "  X_train = np.array(x.drop(['docked_b'], 1))\n",
        "  y_train = np.array(x['docked_b'])\n",
        "  X_test = np.array(y.drop(['docked_b'], 1))\n",
        "  y_test = np.array(y['docked_b'])\n",
        "  sc = StandardScaler()\n",
        "  X_train = sc.fit_transform(X_train)\n",
        "  X_test = sc.transform(X_test)\n",
        "  regressor = LinearRegression()\n",
        "  regressor.fit(X_train, y_train)\n",
        "  y_pred = regressor.predict(X_test)\n",
        "  mse_reg = mean_squared_error(y_test, y_pred)\n",
        "  rmsleRF=np.sqrt(mse_reg)\n",
        "  ls.append(rmsleRF)\n",
        "  mse_list.append(mse_reg)\n",
        "LinearRegression_max_e = np.max(ls)\n",
        "LinearRegression_e = np.mean(ls)\n",
        "mean_mse_LinearRegression_e = np.mean(mse_reg)\n",
        "LinearRegression_max_e"
      ],
      "execution_count": 121,
      "outputs": [
        {
          "output_type": "execute_result",
          "data": {
            "text/plain": [
              "20.18578209098203"
            ]
          },
          "metadata": {
            "tags": []
          },
          "execution_count": 121
        }
      ]
    },
    {
      "cell_type": "code",
      "metadata": {
        "id": "qTfeG66E-EfJ"
      },
      "source": [
        "from sklearn.tree import DecisionTreeRegressor\n",
        "#DecisionTreeRegressor class has many parameters. Input only #random_state=0 or 42.\n",
        "regressor = DecisionTreeRegressor(random_state=0)\n",
        "#Fit the regressor object to the dataset.\n",
        "regressor.fit(X_train, y_train)\n",
        "y_pred = regressor.predict(X_test)\n",
        "confidence = regressor.score(X_test, y_test)"
      ],
      "execution_count": 122,
      "outputs": []
    },
    {
      "cell_type": "code",
      "metadata": {
        "colab": {
          "base_uri": "https://localhost:8080/"
        },
        "id": "FACWpH7MJuKH",
        "outputId": "7b3ef1f1-6fd5-4fb9-a2f2-80f366835a15"
      },
      "source": [
        "from sklearn.metrics import mean_squared_log_error\n",
        "msleDT=mean_squared_log_error(y_pred,y_test)\n",
        "rmsleDT=np.sqrt(msleDT)\n",
        "print('RMLSE for the data:',rmsleDT)"
      ],
      "execution_count": 123,
      "outputs": [
        {
          "output_type": "stream",
          "text": [
            "RMLSE for the data: 0.6912271821367183\n"
          ],
          "name": "stdout"
        }
      ]
    },
    {
      "cell_type": "code",
      "metadata": {
        "colab": {
          "base_uri": "https://localhost:8080/"
        },
        "id": "eSqFg_dSZMrF",
        "outputId": "348c7b40-8d33-400f-e752-b6f9d30fb0a9"
      },
      "source": [
        "from sklearn.preprocessing import StandardScaler\n",
        "from sklearn.ensemble import RandomForestRegressor\n",
        "from sklearn.metrics import mean_squared_error\n",
        "ls = []\n",
        "mse_list=[]\n",
        "num_test = (number_of_rows*20)//100\n",
        "for i in range(0,number_of_rows):\n",
        "  u = (i)%number_of_rows\n",
        "  v = (num_test+i)%number_of_rows\n",
        "  if v >= num_test:\n",
        "    x = modified[u:v]\n",
        "    y = modified[v:]\n",
        "    z = modified[:u]\n",
        "    y = y.append(z)\n",
        "  else:\n",
        "    x = modified[v:u]\n",
        "    y = modified[u:]\n",
        "    z = modified[:v]\n",
        "    y = y.append(z)\n",
        "  y = pd.DataFrame(y)\n",
        "  x = pd.DataFrame(x)\n",
        "  X_train = np.array(x.drop(['docked_b'], 1))\n",
        "  y_train = np.array(x['docked_b'])\n",
        "  X_test = np.array(y.drop(['docked_b'], 1))\n",
        "  y_test = np.array(y['docked_b'])\n",
        "  sc = StandardScaler()\n",
        "  X_train = sc.fit_transform(X_train)\n",
        "  X_test = sc.transform(X_test)\n",
        "  regressor = DecisionTreeRegressor(random_state=0)\n",
        "  regressor.fit(X_train, y_train)\n",
        "  y_pred = regressor.predict(X_test)\n",
        "  mse_reg = mean_squared_error(y_test, y_pred)\n",
        "  msleDT=mean_squared_log_error(y_pred,y_test)\n",
        "  rmsleRF=np.sqrt(msleDT)\n",
        "  ls.append(rmsleRF)\n",
        "  mse_list.append(mse_reg)\n",
        "Decision_tree_max_e = np.max(ls)\n",
        "Decision_tree_e = np.mean(ls)\n",
        "mean_mse_Decision_tree_e = np.mean(mse_reg)\n",
        "Decision_tree_max_e"
      ],
      "execution_count": 124,
      "outputs": [
        {
          "output_type": "execute_result",
          "data": {
            "text/plain": [
              "0.8257395874766414"
            ]
          },
          "metadata": {
            "tags": []
          },
          "execution_count": 124
        }
      ]
    },
    {
      "cell_type": "code",
      "metadata": {
        "colab": {
          "base_uri": "https://localhost:8080/"
        },
        "id": "g4ibD40nBEr6",
        "outputId": "6734b689-70fe-40c8-be59-767fdaa30272"
      },
      "source": [
        "from sklearn.preprocessing import StandardScaler\n",
        "\n",
        "sc = StandardScaler()\n",
        "#X_train = sc.fit_transform(X_train)\n",
        "#X_test = sc.transform(X_test)\n",
        "from sklearn.ensemble import RandomForestRegressor\n",
        "\n",
        "regressor = RandomForestRegressor(n_estimators=20, random_state=0)\n",
        "regressor.fit(X_train, y_train)\n",
        "y_pred = regressor.predict(X_test)\n",
        "confidence = regressor.score(X_test, y_test)\n",
        "print(confidence)"
      ],
      "execution_count": 125,
      "outputs": [
        {
          "output_type": "stream",
          "text": [
            "-0.2073371104815864\n"
          ],
          "name": "stdout"
        }
      ]
    },
    {
      "cell_type": "code",
      "metadata": {
        "colab": {
          "base_uri": "https://localhost:8080/"
        },
        "id": "2E-ZW_8gJrCg",
        "outputId": "5c5a3cc9-a8fc-4b9f-c57f-eab73f39a298"
      },
      "source": [
        "from sklearn.metrics import mean_squared_log_error\n",
        "msle=mean_squared_log_error(y_pred,y_test)\n",
        "rmsleRF=np.sqrt(msle)\n",
        "print('RMLSE for the data:',rmsleRF)"
      ],
      "execution_count": 126,
      "outputs": [
        {
          "output_type": "stream",
          "text": [
            "RMLSE for the data: 0.4599176960921846\n"
          ],
          "name": "stdout"
        }
      ]
    },
    {
      "cell_type": "code",
      "metadata": {
        "colab": {
          "base_uri": "https://localhost:8080/"
        },
        "id": "cfuPfrp-rJZ9",
        "outputId": "205464ef-8907-48e1-dc11-1303311b4e8f"
      },
      "source": [
        "from sklearn.preprocessing import StandardScaler\n",
        "from sklearn.ensemble import RandomForestRegressor\n",
        "from sklearn.metrics import mean_squared_error\n",
        "ls = []\n",
        "mse_list=[]\n",
        "num_test = (number_of_rows*20)//100\n",
        "for i in range(0,number_of_rows):\n",
        "  u = (i)%number_of_rows\n",
        "  v = (num_test+i)%number_of_rows\n",
        "  if v >= num_test:\n",
        "    x = modified[u:v]\n",
        "    y = modified[v:]\n",
        "    z = modified[:u]\n",
        "    y = y.append(z)\n",
        "  else:\n",
        "    x = modified[v:u]\n",
        "    y = modified[u:]\n",
        "    z = modified[:v]\n",
        "    y = y.append(z)\n",
        "  y = pd.DataFrame(y)\n",
        "  x = pd.DataFrame(x)\n",
        "  X_train = np.array(x.drop(['docked_b'], 1))\n",
        "  y_train = np.array(x['docked_b'])\n",
        "  X_test = np.array(y.drop(['docked_b'], 1))\n",
        "  y_test = np.array(y['docked_b'])\n",
        "  sc = StandardScaler()\n",
        "  X_train = sc.fit_transform(X_train)\n",
        "  X_test = sc.transform(X_test)\n",
        "  regressor = RandomForestRegressor(n_estimators=10, random_state=20)\n",
        "  regressor.fit(X_train, y_train)\n",
        "  y_pred = regressor.predict(X_test)\n",
        "  mse_reg = mean_squared_error(y_test, y_pred)\n",
        "  msleDT=mean_squared_log_error(y_pred,y_test)\n",
        "  rmsleRF=np.sqrt(msleDT)\n",
        "  ls.append(rmsleRF)\n",
        "  mse_list.append(mse_reg)\n",
        "Random_forest_max_e = np.max(ls)\n",
        "Random_regression_e = np.mean(ls)\n",
        "mean_mse_forest_e = np.mean(mse_reg)\n",
        "Random_forest_max_e"
      ],
      "execution_count": 127,
      "outputs": [
        {
          "output_type": "execute_result",
          "data": {
            "text/plain": [
              "0.6443274276425437"
            ]
          },
          "metadata": {
            "tags": []
          },
          "execution_count": 127
        }
      ]
    },
    {
      "cell_type": "code",
      "metadata": {
        "id": "oDh-mBdOEC29"
      },
      "source": [
        "# Load libraries\n",
        "from sklearn.ensemble import AdaBoostRegressor\n",
        "# Import train_test_split function\n",
        "from sklearn.model_selection import train_test_split\n",
        "from sklearn.datasets import make_regression\n",
        "#Import scikit-learn metrics module for accuracy calculation\n",
        "from sklearn import metrics\n",
        "X = modified.drop(['docked_b'], 1)\n",
        "y = modified['docked_b']\n",
        "X_train, X_test, y_train, y_test = train_test_split(X, y, test_size=0.3)\n",
        "X, y = make_regression(n_features=4, n_informative=2, random_state=0, shuffle=False)\n",
        "abc = AdaBoostRegressor(random_state=0, n_estimators=100)\n",
        "# Train Adaboost Classifer\n",
        "model = abc.fit(X_train, y_train)\n",
        "y_pred = abc.predict(X_test)\n",
        "confidence = abc.score(X_test, y_test)"
      ],
      "execution_count": 128,
      "outputs": []
    },
    {
      "cell_type": "code",
      "metadata": {
        "colab": {
          "base_uri": "https://localhost:8080/"
        },
        "id": "0UTL-B6pFRQ1",
        "outputId": "617db95a-1b2a-4f1e-fba8-cd288d07e153"
      },
      "source": [
        "from sklearn.metrics import mean_squared_log_error\n",
        "msle=mean_squared_log_error(y_pred,y_test)\n",
        "rmsleADB=np.sqrt(msle)\n",
        "print('RMLSE for the data:',rmsleADB)"
      ],
      "execution_count": 129,
      "outputs": [
        {
          "output_type": "stream",
          "text": [
            "RMLSE for the data: 0.5288182813505202\n"
          ],
          "name": "stdout"
        }
      ]
    },
    {
      "cell_type": "code",
      "metadata": {
        "id": "Iwt-bFVkc5JA",
        "colab": {
          "base_uri": "https://localhost:8080/"
        },
        "outputId": "8464a2fb-b6c1-42b7-9066-ab920e04e23e"
      },
      "source": [
        "from sklearn.preprocessing import StandardScaler\n",
        "from sklearn.ensemble import RandomForestRegressor\n",
        "from sklearn.metrics import mean_squared_error\n",
        "ls = []\n",
        "mse_list=[]\n",
        "num_test = (number_of_rows*20)//100\n",
        "for i in range(0,number_of_rows):\n",
        "  u = (i)%number_of_rows\n",
        "  v = (num_test+i)%number_of_rows\n",
        "  if v >= num_test:\n",
        "    x = modified[u:v]\n",
        "    y = modified[v:]\n",
        "    z = modified[:u]\n",
        "    y = y.append(z)\n",
        "  else:\n",
        "    x = modified[v:u]\n",
        "    y = modified[u:]\n",
        "    z = modified[:v]\n",
        "    y = y.append(z)\n",
        "  y = pd.DataFrame(y)\n",
        "  x = pd.DataFrame(x)\n",
        "  X_train = np.array(x.drop(['docked_b'], 1))\n",
        "  y_train = np.array(x['docked_b'])\n",
        "  X_test = np.array(y.drop(['docked_b'], 1))\n",
        "  y_test = np.array(y['docked_b'])\n",
        "  sc = StandardScaler()\n",
        "  X_train = sc.fit_transform(X_train)\n",
        "  X_test = sc.transform(X_test)\n",
        "  regressor = AdaBoostRegressor(random_state=0, n_estimators=100)\n",
        "  regressor.fit(X_train, y_train)\n",
        "  y_pred = regressor.predict(X_test)\n",
        "  mse_reg = mean_squared_error(y_test, y_pred)\n",
        "  msleDT=mean_squared_log_error(y_pred,y_test)\n",
        "  rmsleRF=np.sqrt(msleDT)\n",
        "  ls.append(rmsleRF)\n",
        "  mse_list.append(mse_reg)\n",
        "AdaBoostClassifier_max_e = np.max(ls)\n",
        "AdaBoostClassifier_e = np.mean(ls)\n",
        "mean_mse_AdaBoostClassifier_e = np.mean(mse_reg)\n",
        "AdaBoostClassifier_max_e"
      ],
      "execution_count": 130,
      "outputs": [
        {
          "output_type": "execute_result",
          "data": {
            "text/plain": [
              "0.6625452268688119"
            ]
          },
          "metadata": {
            "tags": []
          },
          "execution_count": 130
        }
      ]
    },
    {
      "cell_type": "markdown",
      "metadata": {
        "id": "MwAGOkSZxrLv"
      },
      "source": [
        "-------------------Electric Bike--------------------"
      ]
    },
    {
      "cell_type": "code",
      "metadata": {
        "id": "moFU-diSA0mJ"
      },
      "source": [
        "modified = df2"
      ],
      "execution_count": 131,
      "outputs": []
    },
    {
      "cell_type": "code",
      "metadata": {
        "id": "AoX8qZv7eJuZ"
      },
      "source": [
        "X = modified.drop(['electric_b'], 1)\n",
        "y = modified['electric_b']"
      ],
      "execution_count": 132,
      "outputs": []
    },
    {
      "cell_type": "code",
      "metadata": {
        "id": "CvPHWcYMOrCT",
        "colab": {
          "base_uri": "https://localhost:8080/",
          "height": 663
        },
        "outputId": "150a0b5f-c3fd-4e96-c935-c389baa342d4"
      },
      "source": [
        "import seaborn as sns\n",
        "#Using Pearson Correlation\n",
        "plt.figure(figsize=(12,10))\n",
        "cor = X.corr()\n",
        "sns.heatmap(cor, annot=True, cmap=plt.cm.CMRmap_r)\n",
        "plt.show()"
      ],
      "execution_count": 133,
      "outputs": [
        {
          "output_type": "display_data",
          "data": {
            "image/png": "[encoded data removed]",
            "text/plain": [
              "<Figure size 864x720 with 2 Axes>"
            ]
          },
          "metadata": {
            "tags": [],
            "needs_background": "light"
          }
        }
      ]
    },
    {
      "cell_type": "code",
      "metadata": {
        "id": "qhjRLWMtOrCX"
      },
      "source": [
        "# with the following function we can select highly correlated features\n",
        "# it will remove the first feature that is correlated with anything other feature\n",
        "\n",
        "def correlation(dataset, threshold):\n",
        "    col_corr = set()  # Set of all the names of correlated columns\n",
        "    corr_matrix = dataset.corr()\n",
        "    for i in range(len(corr_matrix.columns)):\n",
        "        for j in range(i):\n",
        "            if abs(corr_matrix.iloc[i, j]) > threshold: # we are interested in absolute coeff value\n",
        "                colname = corr_matrix.columns[i]  # getting the name of column\n",
        "                col_corr.add(colname)\n",
        "    return col_corr"
      ],
      "execution_count": 134,
      "outputs": []
    },
    {
      "cell_type": "code",
      "metadata": {
        "id": "M1DdkuhlOrCZ"
      },
      "source": [
        "#corr_features = correlation(X, 0.7)\n",
        "#len(set(corr_features))"
      ],
      "execution_count": 135,
      "outputs": []
    },
    {
      "cell_type": "code",
      "metadata": {
        "id": "GCZFOGbcOrCa"
      },
      "source": [
        "#X.drop(corr_features,axis=1)"
      ],
      "execution_count": 136,
      "outputs": []
    },
    {
      "cell_type": "code",
      "metadata": {
        "id": "aBhsfHmROrCc"
      },
      "source": [
        "#corr_features"
      ],
      "execution_count": 137,
      "outputs": []
    },
    {
      "cell_type": "code",
      "metadata": {
        "id": "U8Gu9O_sejY-"
      },
      "source": [
        "X = preprocessing.scale(X)\n",
        "X_train, X_test, y_train, y_test = train_test_split(X, y, test_size=0.2)\n",
        "clf = LinearRegression()"
      ],
      "execution_count": 138,
      "outputs": []
    },
    {
      "cell_type": "code",
      "metadata": {
        "id": "jk5iRQNQejlD",
        "colab": {
          "base_uri": "https://localhost:8080/"
        },
        "outputId": "6416944f-3aaf-4733-8be7-433bb4bebd34"
      },
      "source": [
        "clf.fit(X_train, y_train)\n",
        "confidence = clf.score(X_test, y_test)\n",
        "print(confidence)\n"
      ],
      "execution_count": 139,
      "outputs": [
        {
          "output_type": "stream",
          "text": [
            "0.2047877033281822\n"
          ],
          "name": "stdout"
        }
      ]
    },
    {
      "cell_type": "code",
      "metadata": {
        "id": "huMRJyJUej09",
        "colab": {
          "base_uri": "https://localhost:8080/"
        },
        "outputId": "dc5e0a36-ae94-4fe8-875f-4cc10e05af9c"
      },
      "source": [
        "U=clf.predict(X_test)\n",
        "U"
      ],
      "execution_count": 140,
      "outputs": [
        {
          "output_type": "execute_result",
          "data": {
            "text/plain": [
              "array([ 6.36424435,  5.05828052, 10.01250632,  7.91143065,  6.85660386,\n",
              "        7.14165117,  6.4818758 ,  6.84037327,  5.3144093 ,  3.44320619,\n",
              "        4.65709864,  7.30037182,  6.21596003])"
            ]
          },
          "metadata": {
            "tags": []
          },
          "execution_count": 140
        }
      ]
    },
    {
      "cell_type": "code",
      "metadata": {
        "id": "gDWlpqaHgM6v",
        "colab": {
          "base_uri": "https://localhost:8080/"
        },
        "outputId": "ff7ffccf-c943-4aca-b7ab-76d3b1bbd84d"
      },
      "source": [
        "y_test"
      ],
      "execution_count": 141,
      "outputs": [
        {
          "output_type": "execute_result",
          "data": {
            "text/plain": [
              "99      3\n",
              "70     11\n",
              "97     18\n",
              "109     2\n",
              "28     11\n",
              "62      9\n",
              "85      6\n",
              "38      7\n",
              "82      6\n",
              "67      2\n",
              "72      8\n",
              "6       6\n",
              "47      5\n",
              "Name: electric_b, dtype: int64"
            ]
          },
          "metadata": {
            "tags": []
          },
          "execution_count": 141
        }
      ]
    },
    {
      "cell_type": "code",
      "metadata": {
        "id": "tp_cTCoagSNL",
        "colab": {
          "base_uri": "https://localhost:8080/"
        },
        "outputId": "e6239780-100b-425a-983a-605ff893bf71"
      },
      "source": [
        "clf.score(X_test,y_test)"
      ],
      "execution_count": 142,
      "outputs": [
        {
          "output_type": "execute_result",
          "data": {
            "text/plain": [
              "0.2047877033281822"
            ]
          },
          "metadata": {
            "tags": []
          },
          "execution_count": 142
        }
      ]
    },
    {
      "cell_type": "code",
      "metadata": {
        "id": "4jUiVWQNqWbJ",
        "colab": {
          "base_uri": "https://localhost:8080/"
        },
        "outputId": "5105a1ab-793a-4c7a-c65e-a88cbd12270c"
      },
      "source": [
        "from sklearn.model_selection import KFold # import KFold\n",
        "#X = np.array([[1, 2], [3, 4], [1, 2], [3, 4]]) # create an array\n",
        "#y = np.array([1, 2, 3, 4]) # Create another array\n",
        "#X = modified.drop(['PS','electric_b','count'], 1)\n",
        "#y = modified['electric_b']\n",
        "kf = KFold(n_splits=5) # Define the split - into 2 folds \n",
        "kf.get_n_splits(X) # returns the number of splitting iterations in the cross-validator\n",
        "print(kf) \n",
        "KFold(n_splits=5, random_state=None, shuffle=False)"
      ],
      "execution_count": 143,
      "outputs": [
        {
          "output_type": "stream",
          "text": [
            "KFold(n_splits=5, random_state=None, shuffle=False)\n"
          ],
          "name": "stdout"
        },
        {
          "output_type": "execute_result",
          "data": {
            "text/plain": [
              "KFold(n_splits=5, random_state=None, shuffle=False)"
            ]
          },
          "metadata": {
            "tags": []
          },
          "execution_count": 143
        }
      ]
    },
    {
      "cell_type": "code",
      "metadata": {
        "id": "SQiqeZprqafm"
      },
      "source": [
        "# Necessary imports: \n",
        "from sklearn.model_selection import cross_val_score, cross_val_predict\n",
        "from sklearn import metrics"
      ],
      "execution_count": 144,
      "outputs": []
    },
    {
      "cell_type": "code",
      "metadata": {
        "id": "I3o_0mWtq5-t",
        "colab": {
          "base_uri": "https://localhost:8080/"
        },
        "outputId": "25e6ea65-8300-4352-88bc-51a61d23c380"
      },
      "source": [
        "# Perform 6-fold cross validation\n",
        "cv_4_results = cross_val_score(clf, X, y, cv=25,)\n",
        "cv_4_results = abs(cv_4_results)\n",
        "print ('Cross-validated scores:', abs(cv_4_results))\n",
        "#print('mean score', mean(cv_4_results))\n"
      ],
      "execution_count": 145,
      "outputs": [
        {
          "output_type": "stream",
          "text": [
            "Cross-validated scores: [7.21883994e+00 1.08701609e+00 3.25880948e+00 2.00071255e-01\n",
            " 9.70597154e-01 2.48901750e-01 3.25949779e-01 3.65065942e-01\n",
            " 1.37459466e+00 9.07787234e-02 6.86657908e-01 0.00000000e+00\n",
            " 1.16357650e+01 9.73789435e+00 3.67059411e-01 1.13828518e+02\n",
            " 1.67963808e-01 7.33259832e-01 2.14521861e-01 1.49319878e+01\n",
            " 1.21740233e-01 1.95884745e-01 0.00000000e+00 1.03777611e+02\n",
            " 1.70435755e+00]\n"
          ],
          "name": "stdout"
        }
      ]
    },
    {
      "cell_type": "code",
      "metadata": {
        "id": "qUsHM606wB6Q"
      },
      "source": [
        "import pandas\n",
        "from sklearn.model_selection import KFold\n",
        "from sklearn.preprocessing import MinMaxScaler\n",
        "from sklearn.svm import SVR\n",
        "import numpy as np"
      ],
      "execution_count": 146,
      "outputs": []
    },
    {
      "cell_type": "code",
      "metadata": {
        "id": "T5HmX9cMUePY"
      },
      "source": [
        "\n",
        "X = modified.drop(['electric_b'], 1)\n",
        "y = modified['electric_b']"
      ],
      "execution_count": 147,
      "outputs": []
    },
    {
      "cell_type": "code",
      "metadata": {
        "id": "7lAdBLPYFBj3",
        "colab": {
          "base_uri": "https://localhost:8080/"
        },
        "outputId": "dafb0ffd-a3b0-4728-d3b0-ff6fa4ef538b"
      },
      "source": [
        "index = modified.index\n",
        "number_of_rows = len(index)\n",
        "number_of_rows"
      ],
      "execution_count": 148,
      "outputs": [
        {
          "output_type": "execute_result",
          "data": {
            "text/plain": [
              "61"
            ]
          },
          "metadata": {
            "tags": []
          },
          "execution_count": 148
        }
      ]
    },
    {
      "cell_type": "code",
      "metadata": {
        "id": "oCjO0HG0VURP",
        "colab": {
          "base_uri": "https://localhost:8080/",
          "height": 663
        },
        "outputId": "8eef50b9-8289-4e82-b58e-11ddc534e54b"
      },
      "source": [
        "import seaborn as sns\n",
        "#Using Pearson Correlation\n",
        "plt.figure(figsize=(12,10))\n",
        "cor = X.corr()\n",
        "sns.heatmap(cor, annot=True, cmap=plt.cm.CMRmap_r)\n",
        "plt.show()"
      ],
      "execution_count": 149,
      "outputs": [
        {
          "output_type": "display_data",
          "data": {
            "image/png": "[encoded data removed]",
            "text/plain": [
              "<Figure size 864x720 with 2 Axes>"
            ]
          },
          "metadata": {
            "tags": [],
            "needs_background": "light"
          }
        }
      ]
    },
    {
      "cell_type": "code",
      "metadata": {
        "id": "InKsiE2UwdxT"
      },
      "source": [
        "\n",
        "X = np.array(X)\n",
        "y = np.array(y)"
      ],
      "execution_count": 150,
      "outputs": []
    },
    {
      "cell_type": "code",
      "metadata": {
        "id": "7co3VsKBl1V8"
      },
      "source": [
        "X = preprocessing.scale(X)\n",
        "X_train, X_test, y_train, y_test = train_test_split(X, y, test_size=0.2)\n",
        "clf = LinearRegression()"
      ],
      "execution_count": 151,
      "outputs": []
    },
    {
      "cell_type": "code",
      "metadata": {
        "id": "379g6Rt0l1V-"
      },
      "source": [
        "clf.fit(X_train, y_train)\n",
        "confidence = clf.score(X_test, y_test)"
      ],
      "execution_count": 152,
      "outputs": []
    },
    {
      "cell_type": "code",
      "metadata": {
        "id": "Y2eQia26mRvL"
      },
      "source": [
        "y_pred = clf.predict(X_test)"
      ],
      "execution_count": 153,
      "outputs": []
    },
    {
      "cell_type": "code",
      "metadata": {
        "id": "FLqXzoZbmQAs",
        "colab": {
          "base_uri": "https://localhost:8080/"
        },
        "outputId": "5165ff52-655a-44af-febc-8914adcb6728"
      },
      "source": [
        "from sklearn.metrics import mean_squared_log_error\n",
        "msle=mean_squared_log_error(y_pred,y_test)\n",
        "rmsleLR1=np.sqrt(msle)\n",
        "print('RMLSE for the data:',rmsleLR1)"
      ],
      "execution_count": 154,
      "outputs": [
        {
          "output_type": "stream",
          "text": [
            "RMLSE for the data: 0.4303516585958453\n"
          ],
          "name": "stdout"
        }
      ]
    },
    {
      "cell_type": "code",
      "metadata": {
        "id": "kw25ZD0Kuv_2",
        "colab": {
          "base_uri": "https://localhost:8080/"
        },
        "outputId": "8586f264-1eed-4053-8cd0-1b61d2e06d09"
      },
      "source": [
        "from sklearn.preprocessing import StandardScaler\n",
        "from sklearn.metrics import mean_squared_error\n",
        "from sklearn.metrics import mean_squared_log_error\n",
        "ls = []\n",
        "mse_list=[]\n",
        "num_test = (number_of_rows*20)//100\n",
        "for i in range(0,number_of_rows):\n",
        "  u = (i)%number_of_rows\n",
        "  v = (num_test+i)%number_of_rows\n",
        "  if v >= num_test:\n",
        "    x = modified[u:v]\n",
        "    y = modified[v:]\n",
        "    z = modified[:u]\n",
        "    y = y.append(z)\n",
        "  else:\n",
        "    x = modified[v:u]\n",
        "    y = modified[u:]\n",
        "    z = modified[:v]\n",
        "    y = y.append(z)\n",
        "  y = pd.DataFrame(y)\n",
        "  x = pd.DataFrame(x)\n",
        "  X_train = np.array(x.drop(['electric_b'], 1))\n",
        "  y_train = np.array(x['electric_b'])\n",
        "  X_test = np.array(y.drop(['electric_b'], 1))\n",
        "  y_test = np.array(y['electric_b'])\n",
        "  sc = StandardScaler()\n",
        "  X_train = sc.fit_transform(X_train)\n",
        "  X_test = sc.transform(X_test)\n",
        "  regressor = LinearRegression()\n",
        "  regressor.fit(X_train, y_train)\n",
        "  y_pred = regressor.predict(X_test)\n",
        "  mse_reg = mean_squared_error(y_test, y_pred)\n",
        "  rmsleRF=np.sqrt(mse_reg)\n",
        "  ls.append(rmsleRF)\n",
        "  mse_list.append(mse_reg)\n",
        "LinearRegression_max_e1 = np.max(ls)\n",
        "LinearRegression_e1 = np.mean(ls)\n",
        "mean_mse_LinearRegression_e1 = np.mean(mse_reg)\n",
        "LinearRegression_max_e1"
      ],
      "execution_count": 155,
      "outputs": [
        {
          "output_type": "execute_result",
          "data": {
            "text/plain": [
              "7439.74965361398"
            ]
          },
          "metadata": {
            "tags": []
          },
          "execution_count": 155
        }
      ]
    },
    {
      "cell_type": "code",
      "metadata": {
        "id": "ur5s5yG5ePRn",
        "colab": {
          "base_uri": "https://localhost:8080/"
        },
        "outputId": "672cc225-2042-43ea-c804-761f7d8cf577"
      },
      "source": [
        "from sklearn.tree import DecisionTreeRegressor\n",
        "#DecisionTreeRegressor class has many parameters. Input only #random_state=0 or 42.\n",
        "regressor = DecisionTreeRegressor(random_state=0)\n",
        "#Fit the regressor object to the dataset.\n",
        "regressor.fit(X_train, y_train)\n",
        "y_pred = regressor.predict(X_test)\n",
        "confidence = regressor.score(X_test, y_test)\n",
        "print(confidence)"
      ],
      "execution_count": 156,
      "outputs": [
        {
          "output_type": "stream",
          "text": [
            "-59.972972972972975\n"
          ],
          "name": "stdout"
        }
      ]
    },
    {
      "cell_type": "code",
      "metadata": {
        "id": "iMvQcM7TePRn",
        "colab": {
          "base_uri": "https://localhost:8080/"
        },
        "outputId": "9c78517a-6724-49d4-c229-7f9f16675e71"
      },
      "source": [
        "from sklearn.metrics import mean_squared_log_error\n",
        "msle=mean_squared_log_error(y_pred,y_test)\n",
        "rmsleDT1=np.sqrt(msle)\n",
        "print('RMLSE for the data:',rmsleDT1)"
      ],
      "execution_count": 157,
      "outputs": [
        {
          "output_type": "stream",
          "text": [
            "RMLSE for the data: 1.3354337868384494\n"
          ],
          "name": "stdout"
        }
      ]
    },
    {
      "cell_type": "code",
      "metadata": {
        "id": "Wnjrrh7dvCKI",
        "colab": {
          "base_uri": "https://localhost:8080/"
        },
        "outputId": "678d0716-885f-43df-da97-18b9df0f8cd2"
      },
      "source": [
        "from sklearn.preprocessing import StandardScaler\n",
        "from sklearn.metrics import mean_squared_error\n",
        "ls = []\n",
        "mse_list=[]\n",
        "num_test = (number_of_rows*20)//100\n",
        "for i in range(0,number_of_rows):\n",
        "  u = (i)%number_of_rows\n",
        "  v = (num_test+i)%number_of_rows\n",
        "  if v >= num_test:\n",
        "    x = modified[u:v]\n",
        "    y = modified[v:]\n",
        "    z = modified[:u]\n",
        "    y = y.append(z)\n",
        "  else:\n",
        "    x = modified[v:u]\n",
        "    y = modified[u:]\n",
        "    z = modified[:v]\n",
        "    y = y.append(z)\n",
        "  y = pd.DataFrame(y)\n",
        "  x = pd.DataFrame(x)\n",
        "  X_train = np.array(x.drop(['electric_b'], 1))\n",
        "  y_train = np.array(x['electric_b'])\n",
        "  X_test = np.array(y.drop(['electric_b'], 1))\n",
        "  y_test = np.array(y['electric_b'])\n",
        "  sc = StandardScaler()\n",
        "  X_train = sc.fit_transform(X_train)\n",
        "  X_test = sc.transform(X_test)\n",
        "  regressor = DecisionTreeRegressor(random_state=0)\n",
        "  regressor.fit(X_train, y_train)\n",
        "  y_pred = regressor.predict(X_test)\n",
        "  mse_reg = mean_squared_error(y_test, y_pred)\n",
        "  msleDT=mean_squared_log_error(y_pred,y_test)\n",
        "  rmsleRF=np.sqrt(msleDT)\n",
        "  ls.append(rmsleRF)\n",
        "  mse_list.append(mse_reg)\n",
        "Decision_tree_max_e1 = np.max(ls)\n",
        "Decision_tree_e1 = np.mean(ls)\n",
        "mean_mse_Decision_tree_e1 = np.mean(mse_reg)\n",
        "Decision_tree_max_e1"
      ],
      "execution_count": 158,
      "outputs": [
        {
          "output_type": "execute_result",
          "data": {
            "text/plain": [
              "1.3821792905780206"
            ]
          },
          "metadata": {
            "tags": []
          },
          "execution_count": 158
        }
      ]
    },
    {
      "cell_type": "code",
      "metadata": {
        "id": "ABGCmM0QePRo"
      },
      "source": [
        "from sklearn.preprocessing import StandardScaler\n",
        "\n",
        "sc = StandardScaler()\n",
        "#X_train = sc.fit_transform(X_train)\n",
        "#X_test = sc.transform(X_test)\n",
        "from sklearn.ensemble import RandomForestRegressor\n",
        "\n",
        "regressor = RandomForestRegressor(n_estimators=20, random_state=0)\n",
        "regressor.fit(X_train, y_train)\n",
        "y_pred = regressor.predict(X_test)\n"
      ],
      "execution_count": 159,
      "outputs": []
    },
    {
      "cell_type": "code",
      "metadata": {
        "id": "oWC2Hp3SePRp",
        "colab": {
          "base_uri": "https://localhost:8080/"
        },
        "outputId": "ef097610-b332-45b7-91ec-4d26155101f1"
      },
      "source": [
        "from sklearn.metrics import mean_squared_log_error\n",
        "msle=mean_squared_log_error(y_pred,y_test)\n",
        "rmsleRF1=np.sqrt(msle)\n",
        "print('RMLSE for the data:',rmsleRF1)"
      ],
      "execution_count": 160,
      "outputs": [
        {
          "output_type": "stream",
          "text": [
            "RMLSE for the data: 1.042391214379238\n"
          ],
          "name": "stdout"
        }
      ]
    },
    {
      "cell_type": "code",
      "metadata": {
        "id": "lB18ywYxvQdA",
        "colab": {
          "base_uri": "https://localhost:8080/"
        },
        "outputId": "6821c58b-e29b-4104-9138-539ddd3aca91"
      },
      "source": [
        "from sklearn.preprocessing import StandardScaler\n",
        "from sklearn.metrics import mean_squared_error\n",
        "ls = []\n",
        "mse_list=[]\n",
        "num_test = (number_of_rows*20)//100\n",
        "for i in range(0,number_of_rows):\n",
        "  u = (i)%number_of_rows\n",
        "  v = (num_test+i)%number_of_rows\n",
        "  if v >= num_test:\n",
        "    x = modified[u:v]\n",
        "    y = modified[v:]\n",
        "    z = modified[:u]\n",
        "    y = y.append(z)\n",
        "  else:\n",
        "    x = modified[v:u]\n",
        "    y = modified[u:]\n",
        "    z = modified[:v]\n",
        "    y = y.append(z)\n",
        "  y = pd.DataFrame(y)\n",
        "  x = pd.DataFrame(x)\n",
        "  X_train = np.array(x.drop(['electric_b'], 1))\n",
        "  y_train = np.array(x['electric_b'])\n",
        "  X_test = np.array(y.drop(['electric_b'], 1))\n",
        "  y_test = np.array(y['electric_b'])\n",
        "  sc = StandardScaler()\n",
        "  X_train = sc.fit_transform(X_train)\n",
        "  X_test = sc.transform(X_test)\n",
        "  regressor = RandomForestRegressor(n_estimators=10, random_state=20)\n",
        "  regressor.fit(X_train, y_train)\n",
        "  y_pred = regressor.predict(X_test)\n",
        "  mse_reg = mean_squared_error(y_test, y_pred)\n",
        "  msleDT=mean_squared_log_error(y_pred,y_test)\n",
        "  rmsleRF=np.sqrt(msleDT)\n",
        "  ls.append(rmsleRF)\n",
        "  mse_list.append(mse_reg)\n",
        "Random_forest_max_e1 = np.max(ls)\n",
        "Random_regression_e1 = np.mean(ls)\n",
        "mean_mse_forest_e1 = np.mean(mse_reg)\n",
        "Random_forest_max_e1"
      ],
      "execution_count": 161,
      "outputs": [
        {
          "output_type": "execute_result",
          "data": {
            "text/plain": [
              "1.179594471466341"
            ]
          },
          "metadata": {
            "tags": []
          },
          "execution_count": 161
        }
      ]
    },
    {
      "cell_type": "code",
      "metadata": {
        "id": "J1YDO3KCePRp"
      },
      "source": [
        "# Load libraries\n",
        "from sklearn.ensemble import AdaBoostRegressor\n",
        "# Import train_test_split function\n",
        "from sklearn.model_selection import train_test_split\n",
        "from sklearn.datasets import make_regression\n",
        "#Import scikit-learn metrics module for accuracy calculation\n",
        "from sklearn import metrics\n",
        "X = modified.drop(['electric_b'], 1)\n",
        "y = modified['electric_b']\n",
        "X_train, X_test, y_train, y_test = train_test_split(X, y, test_size=0.3)\n",
        "X, y = make_regression(n_features=4, n_informative=2, random_state=0, shuffle=False)\n",
        "abc = AdaBoostRegressor(random_state=0, n_estimators=100)\n",
        "# Train Adaboost Classifer\n",
        "model = abc.fit(X_train, y_train)\n",
        "y_pred = abc.predict(X_test)\n",
        "confidence = abc.score(X_test, y_test)"
      ],
      "execution_count": 162,
      "outputs": []
    },
    {
      "cell_type": "code",
      "metadata": {
        "id": "FdO6T1hlePRq",
        "colab": {
          "base_uri": "https://localhost:8080/"
        },
        "outputId": "9fccc882-8e6b-449a-e0c3-9e5a5b69f55b"
      },
      "source": [
        "from sklearn.metrics import mean_squared_log_error\n",
        "msle=mean_squared_log_error(y_pred,y_test)\n",
        "rmsleADB1=np.sqrt(msle)\n",
        "print('RMLSE for the data:',rmsleADB1)"
      ],
      "execution_count": 163,
      "outputs": [
        {
          "output_type": "stream",
          "text": [
            "RMLSE for the data: 0.6053890641827487\n"
          ],
          "name": "stdout"
        }
      ]
    },
    {
      "cell_type": "code",
      "metadata": {
        "id": "rgI7Fyuevkml",
        "colab": {
          "base_uri": "https://localhost:8080/"
        },
        "outputId": "be00f677-52c4-4bb9-dd32-5a628c944395"
      },
      "source": [
        "from sklearn.preprocessing import StandardScaler\n",
        "from sklearn.metrics import mean_squared_error\n",
        "ls = []\n",
        "mse_list=[]\n",
        "num_test = (number_of_rows*20)//100\n",
        "for i in range(0,number_of_rows):\n",
        "  u = (i)%number_of_rows\n",
        "  v = (num_test+i)%number_of_rows\n",
        "  if v >= num_test:\n",
        "    x = modified[u:v]\n",
        "    y = modified[v:]\n",
        "    z = modified[:u]\n",
        "    y = y.append(z)\n",
        "  else:\n",
        "    x = modified[v:u]\n",
        "    y = modified[u:]\n",
        "    z = modified[:v]\n",
        "    y = y.append(z)\n",
        "  y = pd.DataFrame(y)\n",
        "  x = pd.DataFrame(x)\n",
        "  X_train = np.array(x.drop(['electric_b'], 1))\n",
        "  y_train = np.array(x['electric_b'])\n",
        "  X_test = np.array(y.drop(['electric_b'], 1))\n",
        "  y_test = np.array(y['electric_b'])\n",
        "  sc = StandardScaler()\n",
        "  X_train = sc.fit_transform(X_train)\n",
        "  X_test = sc.transform(X_test)\n",
        "  regressor = AdaBoostRegressor(random_state=0, n_estimators=100)\n",
        "  regressor.fit(X_train, y_train)\n",
        "  y_pred = regressor.predict(X_test)\n",
        "  mse_reg = mean_squared_error(y_test, y_pred)\n",
        "  msleDT=mean_squared_log_error(y_pred,y_test)\n",
        "  rmsleRF=np.sqrt(msleDT)\n",
        "  ls.append(rmsleRF)\n",
        "  mse_list.append(mse_reg)\n",
        "AdaBoostClassifier_max_e1 = np.max(ls)\n",
        "AdaBoostClassifier_e1 = np.mean(ls)\n",
        "mean_mse_AdaBoostClassifier_e1 = np.mean(mse_reg)\n",
        "AdaBoostClassifier_max_e1"
      ],
      "execution_count": 164,
      "outputs": [
        {
          "output_type": "execute_result",
          "data": {
            "text/plain": [
              "1.37002933751838"
            ]
          },
          "metadata": {
            "tags": []
          },
          "execution_count": 164
        }
      ]
    },
    {
      "cell_type": "code",
      "metadata": {
        "id": "eUgl3iVDxAoS",
        "colab": {
          "base_uri": "https://localhost:8080/",
          "height": 166
        },
        "outputId": "303e68dc-1b81-4dcc-f801-fa14ac14f19a"
      },
      "source": [
        "import pandas as pd\n",
        "\n",
        "cars = {'type': ['Linear Regression', 'Decision Tree','Random Forest','ADA Boost'],\n",
        "        'RMSLE(Docked Bike)': [rmsleLR,rmsleDT,rmsleRF,rmsleADB],\n",
        "        'RMSLE(Electric Bike]' : [rmsleLR1,rmsleDT1,rmsleRF1,rmsleADB1]\n",
        "        }\n",
        "\n",
        "df = pd.DataFrame(cars, columns = ['type', 'RMSLE(Docked Bike)','RMSLE(Electric Bike]'])\n",
        "df"
      ],
      "execution_count": 165,
      "outputs": [
        {
          "output_type": "execute_result",
          "data": {
            "text/html": [
              "<div>\n",
              "<style scoped>\n",
              "    .dataframe tbody tr th:only-of-type {\n",
              "        vertical-align: middle;\n",
              "    }\n",
              "\n",
              "    .dataframe tbody tr th {\n",
              "        vertical-align: top;\n",
              "    }\n",
              "\n",
              "    .dataframe thead th {\n",
              "        text-align: right;\n",
              "    }\n",
              "</style>\n",
              "<table border=\"1\" class=\"dataframe\">\n",
              "  <thead>\n",
              "    <tr style=\"text-align: right;\">\n",
              "      <th></th>\n",
              "      <th>type</th>\n",
              "      <th>RMSLE(Docked Bike)</th>\n",
              "      <th>RMSLE(Electric Bike]</th>\n",
              "    </tr>\n",
              "  </thead>\n",
              "  <tbody>\n",
              "    <tr>\n",
              "      <th>0</th>\n",
              "      <td>Linear Regression</td>\n",
              "      <td>0.363321</td>\n",
              "      <td>0.430352</td>\n",
              "    </tr>\n",
              "    <tr>\n",
              "      <th>1</th>\n",
              "      <td>Decision Tree</td>\n",
              "      <td>0.691227</td>\n",
              "      <td>1.335434</td>\n",
              "    </tr>\n",
              "    <tr>\n",
              "      <th>2</th>\n",
              "      <td>Random Forest</td>\n",
              "      <td>0.851912</td>\n",
              "      <td>1.042391</td>\n",
              "    </tr>\n",
              "    <tr>\n",
              "      <th>3</th>\n",
              "      <td>ADA Boost</td>\n",
              "      <td>0.528818</td>\n",
              "      <td>0.605389</td>\n",
              "    </tr>\n",
              "  </tbody>\n",
              "</table>\n",
              "</div>"
            ],
            "text/plain": [
              "                type  RMSLE(Docked Bike)  RMSLE(Electric Bike]\n",
              "0  Linear Regression            0.363321              0.430352\n",
              "1      Decision Tree            0.691227              1.335434\n",
              "2      Random Forest            0.851912              1.042391\n",
              "3          ADA Boost            0.528818              0.605389"
            ]
          },
          "metadata": {
            "tags": []
          },
          "execution_count": 165
        }
      ]
    },
    {
      "cell_type": "code",
      "metadata": {
        "id": "uzhNMNg992Qq",
        "colab": {
          "base_uri": "https://localhost:8080/",
          "height": 166
        },
        "outputId": "e75b4566-7cac-4231-f0e8-0229970be7e1"
      },
      "source": [
        "# after cross validation\n",
        "import pandas as pd\n",
        "\n",
        "cars = {'type': ['Linear Regression', 'Decision Tree','Random Forest','ADA Boost'],\n",
        "        'RMSLE(Docked Bike)': [LinearRegression_e,Decision_tree_e,Random_regression_e,AdaBoostClassifier_e],\n",
        "        'RMSLE(Docked Bike)(Max)': [LinearRegression_max_e,Decision_tree_max_e,Random_forest_max_e,AdaBoostClassifier_max_e],\n",
        "        'Mean MSE(Docked Bike)' : [mean_mse_LinearRegression_e,mean_mse_Decision_tree_e,mean_mse_forest_e,mean_mse_AdaBoostClassifier_e],\n",
        "        'RMSLE(Electric Bike)' : [LinearRegression_e1,Decision_tree_e1,Random_regression_e1,AdaBoostClassifier_e1],\n",
        "        'RMSLE(Electric Bike)(Max)' : [LinearRegression_max_e1,Decision_tree_max_e1,Random_forest_max_e1,AdaBoostClassifier_max_e1],\n",
        "        'Mean MSE(Electric Bike)' : [mean_mse_LinearRegression_e1,mean_mse_Decision_tree_e1,mean_mse_forest_e1,mean_mse_AdaBoostClassifier_e1]\n",
        "        }\n",
        "\n",
        "df = pd.DataFrame(cars, columns = ['type', 'RMSLE(Docked Bike)','RMSLE(Docked Bike)(Max)','Mean MSE(Docked Bike)','RMSLE(Electric Bike)','RMSLE(Electric Bike)(Max)','Mean MSE(Electric Bike)'])\n",
        "df"
      ],
      "execution_count": 180,
      "outputs": [
        {
          "output_type": "execute_result",
          "data": {
            "text/html": [
              "<div>\n",
              "<style scoped>\n",
              "    .dataframe tbody tr th:only-of-type {\n",
              "        vertical-align: middle;\n",
              "    }\n",
              "\n",
              "    .dataframe tbody tr th {\n",
              "        vertical-align: top;\n",
              "    }\n",
              "\n",
              "    .dataframe thead th {\n",
              "        text-align: right;\n",
              "    }\n",
              "</style>\n",
              "<table border=\"1\" class=\"dataframe\">\n",
              "  <thead>\n",
              "    <tr style=\"text-align: right;\">\n",
              "      <th></th>\n",
              "      <th>type</th>\n",
              "      <th>RMSLE(Docked Bike)</th>\n",
              "      <th>RMSLE(Docked Bike)(Max)</th>\n",
              "      <th>Mean MSE(Docked Bike)</th>\n",
              "      <th>RMSLE(Electric Bike)</th>\n",
              "      <th>RMSLE(Electric Bike)(Max)</th>\n",
              "      <th>Mean MSE(Electric Bike)</th>\n",
              "    </tr>\n",
              "  </thead>\n",
              "  <tbody>\n",
              "    <tr>\n",
              "      <th>0</th>\n",
              "      <td>Linear Regression</td>\n",
              "      <td>7.842142</td>\n",
              "      <td>20.185782</td>\n",
              "      <td>8.337871</td>\n",
              "      <td>244.258642</td>\n",
              "      <td>7439.749654</td>\n",
              "      <td>32.271901</td>\n",
              "    </tr>\n",
              "    <tr>\n",
              "      <th>1</th>\n",
              "      <td>Decision Tree</td>\n",
              "      <td>0.643148</td>\n",
              "      <td>0.825740</td>\n",
              "      <td>19.529412</td>\n",
              "      <td>0.715730</td>\n",
              "      <td>1.382179</td>\n",
              "      <td>235.000000</td>\n",
              "    </tr>\n",
              "    <tr>\n",
              "      <th>2</th>\n",
              "      <td>Random Forest</td>\n",
              "      <td>0.538670</td>\n",
              "      <td>0.644327</td>\n",
              "      <td>8.967059</td>\n",
              "      <td>0.567308</td>\n",
              "      <td>1.179594</td>\n",
              "      <td>102.400000</td>\n",
              "    </tr>\n",
              "    <tr>\n",
              "      <th>3</th>\n",
              "      <td>ADA Boost</td>\n",
              "      <td>0.551789</td>\n",
              "      <td>0.662545</td>\n",
              "      <td>6.062789</td>\n",
              "      <td>0.558339</td>\n",
              "      <td>1.370029</td>\n",
              "      <td>30.233317</td>\n",
              "    </tr>\n",
              "  </tbody>\n",
              "</table>\n",
              "</div>"
            ],
            "text/plain": [
              "                type  ...  Mean MSE(Electric Bike)\n",
              "0  Linear Regression  ...                32.271901\n",
              "1      Decision Tree  ...               235.000000\n",
              "2      Random Forest  ...               102.400000\n",
              "3          ADA Boost  ...                30.233317\n",
              "\n",
              "[4 rows x 7 columns]"
            ]
          },
          "metadata": {
            "tags": []
          },
          "execution_count": 180
        }
      ]
    },
    {
      "cell_type": "code",
      "metadata": {
        "id": "dxBJxj5ihiTB"
      },
      "source": [
        "modified = df1"
      ],
      "execution_count": 166,
      "outputs": []
    },
    {
      "cell_type": "code",
      "metadata": {
        "id": "jjJOA7Q0hwiC"
      },
      "source": [
        "\n",
        "X = modified.drop(['docked_b'], 1)\n",
        "y = modified['docked_b']"
      ],
      "execution_count": 167,
      "outputs": []
    },
    {
      "cell_type": "code",
      "metadata": {
        "id": "JqAVNq2ehwiD"
      },
      "source": [
        "X = np.array(X)\n",
        "y = np.array(y)"
      ],
      "execution_count": 168,
      "outputs": []
    },
    {
      "cell_type": "code",
      "metadata": {
        "id": "13lTXgMCiEEf"
      },
      "source": [
        "X_train, X_test, y_train, y_test = train_test_split(X, y, test_size=0.2,random_state=20)"
      ],
      "execution_count": 169,
      "outputs": []
    },
    {
      "cell_type": "code",
      "metadata": {
        "id": "LaWhUTc21duQ",
        "colab": {
          "base_uri": "https://localhost:8080/",
          "height": 597
        },
        "outputId": "a699f900-63bc-49d2-b567-b52f6f2cb939"
      },
      "source": [
        "from sklearn.preprocessing import StandardScaler\n",
        "\n",
        "sc = StandardScaler()\n",
        "#X_train = sc.fit_transform(X_train)\n",
        "#X_test = sc.transform(X_test)\n",
        "from sklearn.ensemble import RandomForestRegressor\n",
        "\n",
        "regressor = RandomForestRegressor(n_estimators=20, random_state=20)\n",
        "regressor.fit(X_train, y_train)\n",
        "y_pred = regressor.predict(X_test)\n",
        "print(\"Actual and predicted value of Electric bike\")\n",
        "dfd = pd.DataFrame({'Actual': y_test.flatten(), 'Predicted': y_pred.flatten()})\n",
        "dfd"
      ],
      "execution_count": 170,
      "outputs": [
        {
          "output_type": "stream",
          "text": [
            "Actual and predicted value of Electric bike\n"
          ],
          "name": "stdout"
        },
        {
          "output_type": "execute_result",
          "data": {
            "text/html": [
              "<div>\n",
              "<style scoped>\n",
              "    .dataframe tbody tr th:only-of-type {\n",
              "        vertical-align: middle;\n",
              "    }\n",
              "\n",
              "    .dataframe tbody tr th {\n",
              "        vertical-align: top;\n",
              "    }\n",
              "\n",
              "    .dataframe thead th {\n",
              "        text-align: right;\n",
              "    }\n",
              "</style>\n",
              "<table border=\"1\" class=\"dataframe\">\n",
              "  <thead>\n",
              "    <tr style=\"text-align: right;\">\n",
              "      <th></th>\n",
              "      <th>Actual</th>\n",
              "      <th>Predicted</th>\n",
              "    </tr>\n",
              "  </thead>\n",
              "  <tbody>\n",
              "    <tr>\n",
              "      <th>0</th>\n",
              "      <td>5</td>\n",
              "      <td>7.25</td>\n",
              "    </tr>\n",
              "    <tr>\n",
              "      <th>1</th>\n",
              "      <td>6</td>\n",
              "      <td>5.35</td>\n",
              "    </tr>\n",
              "    <tr>\n",
              "      <th>2</th>\n",
              "      <td>8</td>\n",
              "      <td>3.55</td>\n",
              "    </tr>\n",
              "    <tr>\n",
              "      <th>3</th>\n",
              "      <td>7</td>\n",
              "      <td>4.40</td>\n",
              "    </tr>\n",
              "    <tr>\n",
              "      <th>4</th>\n",
              "      <td>5</td>\n",
              "      <td>3.00</td>\n",
              "    </tr>\n",
              "    <tr>\n",
              "      <th>5</th>\n",
              "      <td>3</td>\n",
              "      <td>3.15</td>\n",
              "    </tr>\n",
              "    <tr>\n",
              "      <th>6</th>\n",
              "      <td>3</td>\n",
              "      <td>4.00</td>\n",
              "    </tr>\n",
              "    <tr>\n",
              "      <th>7</th>\n",
              "      <td>6</td>\n",
              "      <td>4.80</td>\n",
              "    </tr>\n",
              "    <tr>\n",
              "      <th>8</th>\n",
              "      <td>2</td>\n",
              "      <td>3.95</td>\n",
              "    </tr>\n",
              "    <tr>\n",
              "      <th>9</th>\n",
              "      <td>3</td>\n",
              "      <td>4.45</td>\n",
              "    </tr>\n",
              "    <tr>\n",
              "      <th>10</th>\n",
              "      <td>1</td>\n",
              "      <td>5.90</td>\n",
              "    </tr>\n",
              "    <tr>\n",
              "      <th>11</th>\n",
              "      <td>3</td>\n",
              "      <td>4.75</td>\n",
              "    </tr>\n",
              "    <tr>\n",
              "      <th>12</th>\n",
              "      <td>5</td>\n",
              "      <td>3.35</td>\n",
              "    </tr>\n",
              "    <tr>\n",
              "      <th>13</th>\n",
              "      <td>7</td>\n",
              "      <td>4.40</td>\n",
              "    </tr>\n",
              "    <tr>\n",
              "      <th>14</th>\n",
              "      <td>3</td>\n",
              "      <td>4.50</td>\n",
              "    </tr>\n",
              "    <tr>\n",
              "      <th>15</th>\n",
              "      <td>4</td>\n",
              "      <td>4.70</td>\n",
              "    </tr>\n",
              "    <tr>\n",
              "      <th>16</th>\n",
              "      <td>4</td>\n",
              "      <td>4.00</td>\n",
              "    </tr>\n",
              "    <tr>\n",
              "      <th>17</th>\n",
              "      <td>5</td>\n",
              "      <td>4.35</td>\n",
              "    </tr>\n",
              "  </tbody>\n",
              "</table>\n",
              "</div>"
            ],
            "text/plain": [
              "    Actual  Predicted\n",
              "0        5       7.25\n",
              "1        6       5.35\n",
              "2        8       3.55\n",
              "3        7       4.40\n",
              "4        5       3.00\n",
              "5        3       3.15\n",
              "6        3       4.00\n",
              "7        6       4.80\n",
              "8        2       3.95\n",
              "9        3       4.45\n",
              "10       1       5.90\n",
              "11       3       4.75\n",
              "12       5       3.35\n",
              "13       7       4.40\n",
              "14       3       4.50\n",
              "15       4       4.70\n",
              "16       4       4.00\n",
              "17       5       4.35"
            ]
          },
          "metadata": {
            "tags": []
          },
          "execution_count": 170
        }
      ]
    },
    {
      "cell_type": "code",
      "metadata": {
        "id": "uFLJBOFRiUPV"
      },
      "source": [
        "modified = df2"
      ],
      "execution_count": 171,
      "outputs": []
    },
    {
      "cell_type": "code",
      "metadata": {
        "id": "epXPUQDoiUPW"
      },
      "source": [
        "\n",
        "X = modified.drop(['electric_b'], 1)\n",
        "y = modified['electric_b']"
      ],
      "execution_count": 172,
      "outputs": []
    },
    {
      "cell_type": "code",
      "metadata": {
        "id": "NEfyWY4RiUPX"
      },
      "source": [
        "X = np.array(X)\n",
        "y = np.array(y)"
      ],
      "execution_count": 173,
      "outputs": []
    },
    {
      "cell_type": "code",
      "metadata": {
        "id": "PNBAyMwKiUPY"
      },
      "source": [
        "X_train, X_test, y_train, y_test = train_test_split(X, y, test_size=0.2,random_state=20)"
      ],
      "execution_count": 174,
      "outputs": []
    },
    {
      "cell_type": "code",
      "metadata": {
        "id": "HvofMr2jiUPZ",
        "colab": {
          "base_uri": "https://localhost:8080/",
          "height": 449
        },
        "outputId": "906ed46d-bba2-4488-f517-7c4899a1470f"
      },
      "source": [
        "from sklearn.preprocessing import StandardScaler\n",
        "\n",
        "sc = StandardScaler()\n",
        "#X_train = sc.fit_transform(X_train)\n",
        "#X_test = sc.transform(X_test)\n",
        "from sklearn.ensemble import RandomForestRegressor\n",
        "\n",
        "regressor = RandomForestRegressor(n_estimators=20, random_state=20)\n",
        "regressor.fit(X_train, y_train)\n",
        "y_pred = regressor.predict(X_test)\n",
        "print(\"Actual and predicted value of Electric bike\")\n",
        "dfe = pd.DataFrame({'Actual': y_test.flatten(), 'Predicted': y_pred.flatten()})\n",
        "dfe"
      ],
      "execution_count": 175,
      "outputs": [
        {
          "output_type": "stream",
          "text": [
            "Actual and predicted value of Electric bike\n"
          ],
          "name": "stdout"
        },
        {
          "output_type": "execute_result",
          "data": {
            "text/html": [
              "<div>\n",
              "<style scoped>\n",
              "    .dataframe tbody tr th:only-of-type {\n",
              "        vertical-align: middle;\n",
              "    }\n",
              "\n",
              "    .dataframe tbody tr th {\n",
              "        vertical-align: top;\n",
              "    }\n",
              "\n",
              "    .dataframe thead th {\n",
              "        text-align: right;\n",
              "    }\n",
              "</style>\n",
              "<table border=\"1\" class=\"dataframe\">\n",
              "  <thead>\n",
              "    <tr style=\"text-align: right;\">\n",
              "      <th></th>\n",
              "      <th>Actual</th>\n",
              "      <th>Predicted</th>\n",
              "    </tr>\n",
              "  </thead>\n",
              "  <tbody>\n",
              "    <tr>\n",
              "      <th>0</th>\n",
              "      <td>7</td>\n",
              "      <td>10.55</td>\n",
              "    </tr>\n",
              "    <tr>\n",
              "      <th>1</th>\n",
              "      <td>6</td>\n",
              "      <td>5.05</td>\n",
              "    </tr>\n",
              "    <tr>\n",
              "      <th>2</th>\n",
              "      <td>12</td>\n",
              "      <td>4.35</td>\n",
              "    </tr>\n",
              "    <tr>\n",
              "      <th>3</th>\n",
              "      <td>6</td>\n",
              "      <td>3.95</td>\n",
              "    </tr>\n",
              "    <tr>\n",
              "      <th>4</th>\n",
              "      <td>18</td>\n",
              "      <td>7.30</td>\n",
              "    </tr>\n",
              "    <tr>\n",
              "      <th>5</th>\n",
              "      <td>10</td>\n",
              "      <td>6.15</td>\n",
              "    </tr>\n",
              "    <tr>\n",
              "      <th>6</th>\n",
              "      <td>6</td>\n",
              "      <td>8.45</td>\n",
              "    </tr>\n",
              "    <tr>\n",
              "      <th>7</th>\n",
              "      <td>2</td>\n",
              "      <td>4.90</td>\n",
              "    </tr>\n",
              "    <tr>\n",
              "      <th>8</th>\n",
              "      <td>4</td>\n",
              "      <td>4.40</td>\n",
              "    </tr>\n",
              "    <tr>\n",
              "      <th>9</th>\n",
              "      <td>2</td>\n",
              "      <td>6.40</td>\n",
              "    </tr>\n",
              "    <tr>\n",
              "      <th>10</th>\n",
              "      <td>7</td>\n",
              "      <td>4.55</td>\n",
              "    </tr>\n",
              "    <tr>\n",
              "      <th>11</th>\n",
              "      <td>6</td>\n",
              "      <td>8.75</td>\n",
              "    </tr>\n",
              "    <tr>\n",
              "      <th>12</th>\n",
              "      <td>4</td>\n",
              "      <td>4.45</td>\n",
              "    </tr>\n",
              "  </tbody>\n",
              "</table>\n",
              "</div>"
            ],
            "text/plain": [
              "    Actual  Predicted\n",
              "0        7      10.55\n",
              "1        6       5.05\n",
              "2       12       4.35\n",
              "3        6       3.95\n",
              "4       18       7.30\n",
              "5       10       6.15\n",
              "6        6       8.45\n",
              "7        2       4.90\n",
              "8        4       4.40\n",
              "9        2       6.40\n",
              "10       7       4.55\n",
              "11       6       8.75\n",
              "12       4       4.45"
            ]
          },
          "metadata": {
            "tags": []
          },
          "execution_count": 175
        }
      ]
    },
    {
      "cell_type": "code",
      "metadata": {
        "id": "5iTI1goqjxn4"
      },
      "source": [
        ""
      ],
      "execution_count": 175,
      "outputs": []
    }
  ]
}