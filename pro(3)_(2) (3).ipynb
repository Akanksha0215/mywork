{
  "nbformat": 4,
  "nbformat_minor": 0,
  "metadata": {
    "colab": {
      "name": "pro(3) (2).ipynb",
      "provenance": [],
      "collapsed_sections": []
    },
    "kernelspec": {
      "display_name": "Python 3",
      "name": "python3"
    }
  },
  "cells": [
    {
      "cell_type": "code",
      "metadata": {
        "id": "4IKfoqOYoQuU"
      },
      "source": [
        "# Importing Library -------------%%%%\n",
        "\n",
        "!pip install -U -q PyDrive\n",
        "from pydrive.auth import GoogleAuth\n",
        "from pydrive.drive import GoogleDrive\n",
        "from google.colab import auth\n",
        "from oauth2client.client import GoogleCredentials\n",
        "\n",
        "import pandas as pd \n",
        "%matplotlib inline\n",
        "import matplotlib.pyplot as plt\n",
        "import numpy as np\n",
        "from scipy.stats import norm\n",
        "import seaborn as sns\n",
        "\n"
      ],
      "execution_count": 865,
      "outputs": []
    },
    {
      "cell_type": "code",
      "metadata": {
        "id": "QDoU_XCxoTUo"
      },
      "source": [
        "# Authenticating Users ------------%%%%%%\n",
        "auth.authenticate_user()\n",
        "gauth = GoogleAuth()\n",
        "gauth.credentials = GoogleCredentials.get_application_default()\n",
        "drive = GoogleDrive(gauth)"
      ],
      "execution_count": 866,
      "outputs": []
    },
    {
      "cell_type": "code",
      "metadata": {
        "id": "1FDPfz04oYEP"
      },
      "source": [
        "# Impoting datasets ----------%%%%%\n",
        "\n",
        "\n",
        "downloaded = drive.CreateFile({'id':'1HjJVhAW5ShUhjP_Te_shHfwb1SL9_g3f'}) # replace the id with id of file you want to access\n",
        "downloaded.GetContentFile('202007-capitalbikeshare-tripdata.csv')\n",
        "\n",
        "downloaded = drive.CreateFile({'id':'1JrcFOpE8pt_cW3WSRgqcphraBCeB8DHT'}) # replace the id with id of file you want to access\n",
        "downloaded.GetContentFile('202008-capitalbikeshare-tripdata.csv')\n",
        "\n",
        "downloaded = drive.CreateFile({'id':'1zu983Np-KB-wr-yY7Eg0kiaiwrtSoeBq'}) # replace the id with id of file you want to access\n",
        "downloaded.GetContentFile('202009-capitalbikeshare-tripdata.csv')\n",
        "\n",
        "downloaded = drive.CreateFile({'id':'1-kL0EZFg0sBvQt22H3hnrEYu_zlo9gLy'}) # replace the id with id of file you want to access\n",
        "downloaded.GetContentFile('202010-capitalbikeshare-tripdata.csv')\n",
        "\n",
        "downloaded = drive.CreateFile({'id':'12LPyXWsaBkfdiz3DRvy0t21dMBOzdbNP'}) # replace the id with id of file you want to access\n",
        "downloaded.GetContentFile('202011-capitalbikeshare-tripdata.csv')\n",
        "\n",
        "downloaded = drive.CreateFile({'id':'1K1igSICfeeVjMjORyURLSpFRwHTJSX4U'}) # replace the id with id of file you want to access\n",
        "downloaded.GetContentFile('202012-capitalbikeshare-tripdata.csv')\n",
        "\n",
        "downloaded = drive.CreateFile({'id':'1qJBayETBuDdfsBFsS2BHbsyDh7LDx6Ov'}) # replace the id with id of file you want to access\n",
        "downloaded.GetContentFile('TEMP_USA.csv')"
      ],
      "execution_count": 867,
      "outputs": []
    },
    {
      "cell_type": "code",
      "metadata": {
        "id": "BwRH-xonH1R8",
        "colab": {
          "base_uri": "https://localhost:8080/",
          "height": 198
        },
        "outputId": "9ad7e679-6c1f-401c-ad99-6c056b1befc1"
      },
      "source": [
        "#importing Temperature dataset \n",
        "temp = pd.read_csv(\"TEMP_USA.csv\") \n",
        "temp.head()"
      ],
      "execution_count": 868,
      "outputs": [
        {
          "output_type": "execute_result",
          "data": {
            "text/html": [
              "<div>\n",
              "<style scoped>\n",
              "    .dataframe tbody tr th:only-of-type {\n",
              "        vertical-align: middle;\n",
              "    }\n",
              "\n",
              "    .dataframe tbody tr th {\n",
              "        vertical-align: top;\n",
              "    }\n",
              "\n",
              "    .dataframe thead th {\n",
              "        text-align: right;\n",
              "    }\n",
              "</style>\n",
              "<table border=\"1\" class=\"dataframe\">\n",
              "  <thead>\n",
              "    <tr style=\"text-align: right;\">\n",
              "      <th></th>\n",
              "      <th>LAT</th>\n",
              "      <th>LON</th>\n",
              "      <th>YEAR</th>\n",
              "      <th>MO</th>\n",
              "      <th>DY</th>\n",
              "      <th>PRECTOT</th>\n",
              "      <th>QV2M</th>\n",
              "      <th>PS</th>\n",
              "      <th>T2M_MAX</th>\n",
              "      <th>T2M_MIN</th>\n",
              "      <th>T2M_RANGE</th>\n",
              "    </tr>\n",
              "  </thead>\n",
              "  <tbody>\n",
              "    <tr>\n",
              "      <th>0</th>\n",
              "      <td>38.91041</td>\n",
              "      <td>-76.83579</td>\n",
              "      <td>2017</td>\n",
              "      <td>1</td>\n",
              "      <td>1</td>\n",
              "      <td>0.01</td>\n",
              "      <td>4.11</td>\n",
              "      <td>101.72</td>\n",
              "      <td>11.38</td>\n",
              "      <td>-0.01</td>\n",
              "      <td>11.39</td>\n",
              "    </tr>\n",
              "    <tr>\n",
              "      <th>1</th>\n",
              "      <td>38.91041</td>\n",
              "      <td>-76.83579</td>\n",
              "      <td>2017</td>\n",
              "      <td>1</td>\n",
              "      <td>2</td>\n",
              "      <td>8.00</td>\n",
              "      <td>5.24</td>\n",
              "      <td>101.99</td>\n",
              "      <td>6.64</td>\n",
              "      <td>4.19</td>\n",
              "      <td>2.45</td>\n",
              "    </tr>\n",
              "    <tr>\n",
              "      <th>2</th>\n",
              "      <td>38.91041</td>\n",
              "      <td>-76.83579</td>\n",
              "      <td>2017</td>\n",
              "      <td>1</td>\n",
              "      <td>3</td>\n",
              "      <td>18.74</td>\n",
              "      <td>5.72</td>\n",
              "      <td>100.38</td>\n",
              "      <td>8.02</td>\n",
              "      <td>5.30</td>\n",
              "      <td>2.72</td>\n",
              "    </tr>\n",
              "    <tr>\n",
              "      <th>3</th>\n",
              "      <td>38.91041</td>\n",
              "      <td>-76.83579</td>\n",
              "      <td>2017</td>\n",
              "      <td>1</td>\n",
              "      <td>4</td>\n",
              "      <td>0.20</td>\n",
              "      <td>4.57</td>\n",
              "      <td>99.94</td>\n",
              "      <td>12.05</td>\n",
              "      <td>-0.93</td>\n",
              "      <td>12.98</td>\n",
              "    </tr>\n",
              "    <tr>\n",
              "      <th>4</th>\n",
              "      <td>38.91041</td>\n",
              "      <td>-76.83579</td>\n",
              "      <td>2017</td>\n",
              "      <td>1</td>\n",
              "      <td>5</td>\n",
              "      <td>0.24</td>\n",
              "      <td>2.49</td>\n",
              "      <td>100.99</td>\n",
              "      <td>0.82</td>\n",
              "      <td>-2.88</td>\n",
              "      <td>3.70</td>\n",
              "    </tr>\n",
              "  </tbody>\n",
              "</table>\n",
              "</div>"
            ],
            "text/plain": [
              "        LAT       LON  YEAR  MO  DY  ...  QV2M      PS  T2M_MAX  T2M_MIN  T2M_RANGE\n",
              "0  38.91041 -76.83579  2017   1   1  ...  4.11  101.72    11.38    -0.01      11.39\n",
              "1  38.91041 -76.83579  2017   1   2  ...  5.24  101.99     6.64     4.19       2.45\n",
              "2  38.91041 -76.83579  2017   1   3  ...  5.72  100.38     8.02     5.30       2.72\n",
              "3  38.91041 -76.83579  2017   1   4  ...  4.57   99.94    12.05    -0.93      12.98\n",
              "4  38.91041 -76.83579  2017   1   5  ...  2.49  100.99     0.82    -2.88       3.70\n",
              "\n",
              "[5 rows x 11 columns]"
            ]
          },
          "metadata": {
            "tags": []
          },
          "execution_count": 868
        }
      ]
    },
    {
      "cell_type": "code",
      "metadata": {
        "id": "Ith15szhxQsP",
        "colab": {
          "base_uri": "https://localhost:8080/",
          "height": 218
        },
        "outputId": "cef49aa7-a7da-4d0e-a382-082a55afe3f7"
      },
      "source": [
        "# Station status dataset ---------%%%%%%%%%\n",
        "station_status = pd.read_csv(\"https://raw.githubusercontent.com/Akanksha0215/mywork/master/station_status.csv\") \n",
        "station_status.head()"
      ],
      "execution_count": 869,
      "outputs": [
        {
          "output_type": "execute_result",
          "data": {
            "text/html": [
              "<div>\n",
              "<style scoped>\n",
              "    .dataframe tbody tr th:only-of-type {\n",
              "        vertical-align: middle;\n",
              "    }\n",
              "\n",
              "    .dataframe tbody tr th {\n",
              "        vertical-align: top;\n",
              "    }\n",
              "\n",
              "    .dataframe thead th {\n",
              "        text-align: right;\n",
              "    }\n",
              "</style>\n",
              "<table border=\"1\" class=\"dataframe\">\n",
              "  <thead>\n",
              "    <tr style=\"text-align: right;\">\n",
              "      <th></th>\n",
              "      <th>data__stations__is_installed</th>\n",
              "      <th>data__stations__num_bikes_disabled</th>\n",
              "      <th>data__stations__is_returning</th>\n",
              "      <th>data__stations__station_status</th>\n",
              "      <th>data__stations__last_reported</th>\n",
              "      <th>data__stations__eightd_has_available_keys</th>\n",
              "      <th>data__stations__legacy_id</th>\n",
              "      <th>data__stations__num_ebikes_available</th>\n",
              "      <th>data__stations__is_renting</th>\n",
              "      <th>data__stations__num_docks_disabled</th>\n",
              "      <th>data__stations__num_docks_available</th>\n",
              "      <th>data__stations__num_bikes_available</th>\n",
              "      <th>data__stations__station_id</th>\n",
              "      <th>last_updated</th>\n",
              "      <th>ttl</th>\n",
              "    </tr>\n",
              "  </thead>\n",
              "  <tbody>\n",
              "    <tr>\n",
              "      <th>0</th>\n",
              "      <td>1</td>\n",
              "      <td>1</td>\n",
              "      <td>1</td>\n",
              "      <td>active</td>\n",
              "      <td>1599426428</td>\n",
              "      <td>False</td>\n",
              "      <td>1</td>\n",
              "      <td>0</td>\n",
              "      <td>1</td>\n",
              "      <td>0</td>\n",
              "      <td>11</td>\n",
              "      <td>3</td>\n",
              "      <td>1</td>\n",
              "      <td>1.599427e+09</td>\n",
              "      <td>5.0</td>\n",
              "    </tr>\n",
              "    <tr>\n",
              "      <th>1</th>\n",
              "      <td>1</td>\n",
              "      <td>1</td>\n",
              "      <td>1</td>\n",
              "      <td>active</td>\n",
              "      <td>1599421244</td>\n",
              "      <td>False</td>\n",
              "      <td>2</td>\n",
              "      <td>0</td>\n",
              "      <td>1</td>\n",
              "      <td>0</td>\n",
              "      <td>9</td>\n",
              "      <td>1</td>\n",
              "      <td>2</td>\n",
              "      <td>NaN</td>\n",
              "      <td>NaN</td>\n",
              "    </tr>\n",
              "    <tr>\n",
              "      <th>2</th>\n",
              "      <td>1</td>\n",
              "      <td>0</td>\n",
              "      <td>1</td>\n",
              "      <td>active</td>\n",
              "      <td>1599424089</td>\n",
              "      <td>False</td>\n",
              "      <td>3</td>\n",
              "      <td>0</td>\n",
              "      <td>1</td>\n",
              "      <td>0</td>\n",
              "      <td>1</td>\n",
              "      <td>16</td>\n",
              "      <td>3</td>\n",
              "      <td>NaN</td>\n",
              "      <td>NaN</td>\n",
              "    </tr>\n",
              "    <tr>\n",
              "      <th>3</th>\n",
              "      <td>1</td>\n",
              "      <td>0</td>\n",
              "      <td>1</td>\n",
              "      <td>active</td>\n",
              "      <td>1599426176</td>\n",
              "      <td>False</td>\n",
              "      <td>4</td>\n",
              "      <td>0</td>\n",
              "      <td>1</td>\n",
              "      <td>0</td>\n",
              "      <td>8</td>\n",
              "      <td>3</td>\n",
              "      <td>4</td>\n",
              "      <td>NaN</td>\n",
              "      <td>NaN</td>\n",
              "    </tr>\n",
              "    <tr>\n",
              "      <th>4</th>\n",
              "      <td>1</td>\n",
              "      <td>0</td>\n",
              "      <td>1</td>\n",
              "      <td>active</td>\n",
              "      <td>1599424516</td>\n",
              "      <td>False</td>\n",
              "      <td>5</td>\n",
              "      <td>0</td>\n",
              "      <td>1</td>\n",
              "      <td>0</td>\n",
              "      <td>7</td>\n",
              "      <td>4</td>\n",
              "      <td>5</td>\n",
              "      <td>NaN</td>\n",
              "      <td>NaN</td>\n",
              "    </tr>\n",
              "  </tbody>\n",
              "</table>\n",
              "</div>"
            ],
            "text/plain": [
              "   data__stations__is_installed  ...  ttl\n",
              "0                             1  ...  5.0\n",
              "1                             1  ...  NaN\n",
              "2                             1  ...  NaN\n",
              "3                             1  ...  NaN\n",
              "4                             1  ...  NaN\n",
              "\n",
              "[5 rows x 15 columns]"
            ]
          },
          "metadata": {
            "tags": []
          },
          "execution_count": 869
        }
      ]
    },
    {
      "cell_type": "code",
      "metadata": {
        "id": "2UOjfmdZ7GlH",
        "colab": {
          "base_uri": "https://localhost:8080/",
          "height": 391
        },
        "outputId": "24e3b87e-3927-4215-8542-1f25a0845596"
      },
      "source": [
        "# Importing capitalbikeshare-tripdata dataset\n",
        "data1 = pd.read_csv(\"202008-capitalbikeshare-tripdata.csv\") \n",
        "data1.head()"
      ],
      "execution_count": 870,
      "outputs": [
        {
          "output_type": "execute_result",
          "data": {
            "text/html": [
              "<div>\n",
              "<style scoped>\n",
              "    .dataframe tbody tr th:only-of-type {\n",
              "        vertical-align: middle;\n",
              "    }\n",
              "\n",
              "    .dataframe tbody tr th {\n",
              "        vertical-align: top;\n",
              "    }\n",
              "\n",
              "    .dataframe thead th {\n",
              "        text-align: right;\n",
              "    }\n",
              "</style>\n",
              "<table border=\"1\" class=\"dataframe\">\n",
              "  <thead>\n",
              "    <tr style=\"text-align: right;\">\n",
              "      <th></th>\n",
              "      <th>ride_id</th>\n",
              "      <th>rideable_type</th>\n",
              "      <th>started_at</th>\n",
              "      <th>ended_at</th>\n",
              "      <th>start_station_name</th>\n",
              "      <th>start_station_id</th>\n",
              "      <th>end_station_name</th>\n",
              "      <th>end_station_id</th>\n",
              "      <th>start_lat</th>\n",
              "      <th>start_lng</th>\n",
              "      <th>end_lat</th>\n",
              "      <th>end_lng</th>\n",
              "      <th>member_casual</th>\n",
              "    </tr>\n",
              "  </thead>\n",
              "  <tbody>\n",
              "    <tr>\n",
              "      <th>0</th>\n",
              "      <td>95D0E56BC37512F2</td>\n",
              "      <td>docked_bike</td>\n",
              "      <td>2020-08-26 20:07:36</td>\n",
              "      <td>2020-08-26 20:36:16</td>\n",
              "      <td>Army Navy Dr &amp; S Joyce St</td>\n",
              "      <td>31006.0</td>\n",
              "      <td>N Lynn St &amp; Fairfax Dr</td>\n",
              "      <td>31917.0</td>\n",
              "      <td>38.863700</td>\n",
              "      <td>-77.063300</td>\n",
              "      <td>38.893860</td>\n",
              "      <td>-77.070862</td>\n",
              "      <td>member</td>\n",
              "    </tr>\n",
              "    <tr>\n",
              "      <th>1</th>\n",
              "      <td>787142FE24DA497D</td>\n",
              "      <td>docked_bike</td>\n",
              "      <td>2020-08-02 17:54:57</td>\n",
              "      <td>2020-08-02 18:12:36</td>\n",
              "      <td>22nd &amp; P ST NW</td>\n",
              "      <td>31285.0</td>\n",
              "      <td>14th &amp; Upshur St NW</td>\n",
              "      <td>31406.0</td>\n",
              "      <td>38.909394</td>\n",
              "      <td>-77.048728</td>\n",
              "      <td>38.942475</td>\n",
              "      <td>-77.032678</td>\n",
              "      <td>member</td>\n",
              "    </tr>\n",
              "    <tr>\n",
              "      <th>2</th>\n",
              "      <td>BE6C2BFB2C0A6CD6</td>\n",
              "      <td>docked_bike</td>\n",
              "      <td>2020-08-11 18:55:15</td>\n",
              "      <td>2020-08-11 19:16:30</td>\n",
              "      <td>Prince George's Plaza Metro</td>\n",
              "      <td>32420.0</td>\n",
              "      <td>Queens Chapel &amp; Hamilton St</td>\n",
              "      <td>32410.0</td>\n",
              "      <td>38.965742</td>\n",
              "      <td>-76.954803</td>\n",
              "      <td>38.954600</td>\n",
              "      <td>-76.959500</td>\n",
              "      <td>casual</td>\n",
              "    </tr>\n",
              "    <tr>\n",
              "      <th>3</th>\n",
              "      <td>7EEF58C1346E290C</td>\n",
              "      <td>docked_bike</td>\n",
              "      <td>2020-08-01 13:51:47</td>\n",
              "      <td>2020-08-01 14:09:52</td>\n",
              "      <td>Rhode Island &amp; Connecticut Ave NW</td>\n",
              "      <td>31239.0</td>\n",
              "      <td>11th &amp; Park Rd NW</td>\n",
              "      <td>31651.0</td>\n",
              "      <td>38.905995</td>\n",
              "      <td>-77.039802</td>\n",
              "      <td>38.931322</td>\n",
              "      <td>-77.028247</td>\n",
              "      <td>casual</td>\n",
              "    </tr>\n",
              "    <tr>\n",
              "      <th>4</th>\n",
              "      <td>61DE8A9F22D88C38</td>\n",
              "      <td>docked_bike</td>\n",
              "      <td>2020-08-21 19:31:56</td>\n",
              "      <td>2020-08-21 19:49:17</td>\n",
              "      <td>Market Square / King St &amp; Royal St</td>\n",
              "      <td>31042.0</td>\n",
              "      <td>King St &amp; Patrick St</td>\n",
              "      <td>31044.0</td>\n",
              "      <td>38.804718</td>\n",
              "      <td>-77.043363</td>\n",
              "      <td>38.805317</td>\n",
              "      <td>-77.049883</td>\n",
              "      <td>member</td>\n",
              "    </tr>\n",
              "  </tbody>\n",
              "</table>\n",
              "</div>"
            ],
            "text/plain": [
              "            ride_id rideable_type  ...    end_lng member_casual\n",
              "0  95D0E56BC37512F2   docked_bike  ... -77.070862        member\n",
              "1  787142FE24DA497D   docked_bike  ... -77.032678        member\n",
              "2  BE6C2BFB2C0A6CD6   docked_bike  ... -76.959500        casual\n",
              "3  7EEF58C1346E290C   docked_bike  ... -77.028247        casual\n",
              "4  61DE8A9F22D88C38   docked_bike  ... -77.049883        member\n",
              "\n",
              "[5 rows x 13 columns]"
            ]
          },
          "metadata": {
            "tags": []
          },
          "execution_count": 870
        }
      ]
    },
    {
      "cell_type": "code",
      "metadata": {
        "id": "x3Ew8EAsAQVe",
        "colab": {
          "base_uri": "https://localhost:8080/"
        },
        "outputId": "0dbe28a2-fc8b-4e6a-e129-e64d06dfe527"
      },
      "source": [
        "# Balancing dataset\r\n",
        "\r\n",
        "data1['rideable_type'] = [1 if b=='docked_bike' else 0 for b in data1.rideable_type\t]\r\n",
        " \r\n",
        "data1['rideable_type'].value_counts()"
      ],
      "execution_count": 871,
      "outputs": [
        {
          "output_type": "execute_result",
          "data": {
            "text/plain": [
              "1    201992\n",
              "0     49611\n",
              "Name: rideable_type, dtype: int64"
            ]
          },
          "metadata": {
            "tags": []
          },
          "execution_count": 871
        }
      ]
    },
    {
      "cell_type": "code",
      "metadata": {
        "id": "yUZFu6tMBnPc",
        "colab": {
          "base_uri": "https://localhost:8080/"
        },
        "outputId": "b365edfb-300b-40d2-a10d-bd112121ada3"
      },
      "source": [
        "# Separate majority and minority classes\r\n",
        "from sklearn.utils import resample\r\n",
        "\r\n",
        "df_majority = data1[data1.rideable_type == 1]\r\n",
        "df_minority = data1[data1.rideable_type==0]\r\n",
        " \r\n",
        "# Downsample majority class\r\n",
        "df_majority_downsampled = resample(df_majority, \r\n",
        "                                 replace=False,    # sample without replacement\r\n",
        "                                 n_samples=49611,     # to match minority class\r\n",
        "                                 random_state=50) # reproducible results\r\n",
        " \r\n",
        "# Combine minority class with downsampled majority class\r\n",
        "data1_downsampled = pd.concat([df_majority_downsampled, df_minority])\r\n",
        " \r\n",
        "# Display new class counts\r\n",
        "data1_downsampled.rideable_type.value_counts()"
      ],
      "execution_count": 872,
      "outputs": [
        {
          "output_type": "execute_result",
          "data": {
            "text/plain": [
              "1    49611\n",
              "0    49611\n",
              "Name: rideable_type, dtype: int64"
            ]
          },
          "metadata": {
            "tags": []
          },
          "execution_count": 872
        }
      ]
    },
    {
      "cell_type": "code",
      "metadata": {
        "id": "gFDnRDz0JPGd",
        "colab": {
          "base_uri": "https://localhost:8080/"
        },
        "outputId": "7259f366-a1e4-4270-b115-8c5f84418ba6"
      },
      "source": [
        "# Balanced Dataset\r\n",
        "\r\n",
        "data1_downsampled['rideable_type'] = ['docked_bike' if b== 1 else 'electric_bike' for b in data1_downsampled.rideable_type\t]\r\n",
        " \r\n",
        "data1_downsampled['rideable_type'].value_counts()"
      ],
      "execution_count": 873,
      "outputs": [
        {
          "output_type": "execute_result",
          "data": {
            "text/plain": [
              "docked_bike      49611\n",
              "electric_bike    49611\n",
              "Name: rideable_type, dtype: int64"
            ]
          },
          "metadata": {
            "tags": []
          },
          "execution_count": 873
        }
      ]
    },
    {
      "cell_type": "code",
      "metadata": {
        "id": "anWnuRSy694c",
        "colab": {
          "base_uri": "https://localhost:8080/",
          "height": 391
        },
        "outputId": "77a2b9ff-5eaf-4953-ae55-382e0cb46aff"
      },
      "source": [
        "# Importing capitalbikeshare-tripdata dataset\n",
        "\n",
        "data2 = pd.read_csv(\"202009-capitalbikeshare-tripdata.csv\") \n",
        "data2.head()"
      ],
      "execution_count": 874,
      "outputs": [
        {
          "output_type": "execute_result",
          "data": {
            "text/html": [
              "<div>\n",
              "<style scoped>\n",
              "    .dataframe tbody tr th:only-of-type {\n",
              "        vertical-align: middle;\n",
              "    }\n",
              "\n",
              "    .dataframe tbody tr th {\n",
              "        vertical-align: top;\n",
              "    }\n",
              "\n",
              "    .dataframe thead th {\n",
              "        text-align: right;\n",
              "    }\n",
              "</style>\n",
              "<table border=\"1\" class=\"dataframe\">\n",
              "  <thead>\n",
              "    <tr style=\"text-align: right;\">\n",
              "      <th></th>\n",
              "      <th>ride_id</th>\n",
              "      <th>rideable_type</th>\n",
              "      <th>started_at</th>\n",
              "      <th>ended_at</th>\n",
              "      <th>start_station_name</th>\n",
              "      <th>start_station_id</th>\n",
              "      <th>end_station_name</th>\n",
              "      <th>end_station_id</th>\n",
              "      <th>start_lat</th>\n",
              "      <th>start_lng</th>\n",
              "      <th>end_lat</th>\n",
              "      <th>end_lng</th>\n",
              "      <th>member_casual</th>\n",
              "    </tr>\n",
              "  </thead>\n",
              "  <tbody>\n",
              "    <tr>\n",
              "      <th>0</th>\n",
              "      <td>02C8003EE103FB10</td>\n",
              "      <td>docked_bike</td>\n",
              "      <td>2020-09-18 17:28:03</td>\n",
              "      <td>2020-09-18 18:28:31</td>\n",
              "      <td>5th St &amp; Massachusetts Ave NW</td>\n",
              "      <td>31265.0</td>\n",
              "      <td>5th St &amp; Massachusetts Ave NW</td>\n",
              "      <td>31265.0</td>\n",
              "      <td>38.90093</td>\n",
              "      <td>-77.018677</td>\n",
              "      <td>38.90093</td>\n",
              "      <td>-77.018677</td>\n",
              "      <td>casual</td>\n",
              "    </tr>\n",
              "    <tr>\n",
              "      <th>1</th>\n",
              "      <td>B3CCC49A34A718DC</td>\n",
              "      <td>electric_bike</td>\n",
              "      <td>2020-09-29 18:41:26</td>\n",
              "      <td>2020-09-29 19:05:59</td>\n",
              "      <td>NaN</td>\n",
              "      <td>NaN</td>\n",
              "      <td>NaN</td>\n",
              "      <td>NaN</td>\n",
              "      <td>38.90000</td>\n",
              "      <td>-77.050000</td>\n",
              "      <td>38.90000</td>\n",
              "      <td>-76.980000</td>\n",
              "      <td>casual</td>\n",
              "    </tr>\n",
              "    <tr>\n",
              "      <th>2</th>\n",
              "      <td>8F6A634D2E73B432</td>\n",
              "      <td>electric_bike</td>\n",
              "      <td>2020-09-29 07:47:38</td>\n",
              "      <td>2020-09-29 08:01:04</td>\n",
              "      <td>NaN</td>\n",
              "      <td>NaN</td>\n",
              "      <td>NaN</td>\n",
              "      <td>NaN</td>\n",
              "      <td>38.90000</td>\n",
              "      <td>-76.980000</td>\n",
              "      <td>38.90000</td>\n",
              "      <td>-77.000000</td>\n",
              "      <td>casual</td>\n",
              "    </tr>\n",
              "    <tr>\n",
              "      <th>3</th>\n",
              "      <td>BCF6943D9FD02C9B</td>\n",
              "      <td>electric_bike</td>\n",
              "      <td>2020-09-29 19:50:38</td>\n",
              "      <td>2020-09-29 20:08:08</td>\n",
              "      <td>NaN</td>\n",
              "      <td>NaN</td>\n",
              "      <td>NaN</td>\n",
              "      <td>NaN</td>\n",
              "      <td>38.91000</td>\n",
              "      <td>-77.030000</td>\n",
              "      <td>38.90000</td>\n",
              "      <td>-77.000000</td>\n",
              "      <td>casual</td>\n",
              "    </tr>\n",
              "    <tr>\n",
              "      <th>4</th>\n",
              "      <td>D91499AB0FB94DCF</td>\n",
              "      <td>electric_bike</td>\n",
              "      <td>2020-09-28 20:36:51</td>\n",
              "      <td>2020-09-28 21:01:34</td>\n",
              "      <td>NaN</td>\n",
              "      <td>NaN</td>\n",
              "      <td>NaN</td>\n",
              "      <td>NaN</td>\n",
              "      <td>38.92000</td>\n",
              "      <td>-77.030000</td>\n",
              "      <td>38.90000</td>\n",
              "      <td>-77.000000</td>\n",
              "      <td>casual</td>\n",
              "    </tr>\n",
              "  </tbody>\n",
              "</table>\n",
              "</div>"
            ],
            "text/plain": [
              "            ride_id  rideable_type  ...    end_lng member_casual\n",
              "0  02C8003EE103FB10    docked_bike  ... -77.018677        casual\n",
              "1  B3CCC49A34A718DC  electric_bike  ... -76.980000        casual\n",
              "2  8F6A634D2E73B432  electric_bike  ... -77.000000        casual\n",
              "3  BCF6943D9FD02C9B  electric_bike  ... -77.000000        casual\n",
              "4  D91499AB0FB94DCF  electric_bike  ... -77.000000        casual\n",
              "\n",
              "[5 rows x 13 columns]"
            ]
          },
          "metadata": {
            "tags": []
          },
          "execution_count": 874
        }
      ]
    },
    {
      "cell_type": "code",
      "metadata": {
        "id": "OUW1TP4-FbpL",
        "colab": {
          "base_uri": "https://localhost:8080/"
        },
        "outputId": "503fe89f-e192-46e4-ec8e-a80ca74476c8"
      },
      "source": [
        "data2['rideable_type'] = [1 if b=='docked_bike' else 0 for b in data2.rideable_type\t]\r\n",
        " \r\n",
        "data2['rideable_type'].value_counts()"
      ],
      "execution_count": 875,
      "outputs": [
        {
          "output_type": "execute_result",
          "data": {
            "text/plain": [
              "1    194225\n",
              "0     55674\n",
              "Name: rideable_type, dtype: int64"
            ]
          },
          "metadata": {
            "tags": []
          },
          "execution_count": 875
        }
      ]
    },
    {
      "cell_type": "code",
      "metadata": {
        "id": "0Poxygo9Fbpj",
        "colab": {
          "base_uri": "https://localhost:8080/"
        },
        "outputId": "c634863a-84eb-4263-f092-dbf54a52c11c"
      },
      "source": [
        "# Separate majority and minority classes\r\n",
        "from sklearn.utils import resample\r\n",
        "\r\n",
        "df_majority = data2[data2.rideable_type == 1]\r\n",
        "df_minority = data2[data2.rideable_type==0]\r\n",
        " \r\n",
        "# Downsample majority class\r\n",
        "df_majority_downsampled = resample(df_majority, \r\n",
        "                                 replace=False,    # sample without replacement\r\n",
        "                                 n_samples=55674,     # to match minority class\r\n",
        "                                 random_state=50) # reproducible results\r\n",
        " \r\n",
        "# Combine minority class with downsampled majority class\r\n",
        "data2_downsampled = pd.concat([df_majority_downsampled, df_minority])\r\n",
        " \r\n",
        "# Display new class counts\r\n",
        "data2_downsampled.rideable_type.value_counts()"
      ],
      "execution_count": 876,
      "outputs": [
        {
          "output_type": "execute_result",
          "data": {
            "text/plain": [
              "1    55674\n",
              "0    55674\n",
              "Name: rideable_type, dtype: int64"
            ]
          },
          "metadata": {
            "tags": []
          },
          "execution_count": 876
        }
      ]
    },
    {
      "cell_type": "code",
      "metadata": {
        "id": "2ts-7BJoJ4nG",
        "colab": {
          "base_uri": "https://localhost:8080/"
        },
        "outputId": "76f77cf5-e911-45cb-a589-42a649306a37"
      },
      "source": [
        "# Balanced Dataset\r\n",
        "\r\n",
        "data2_downsampled['rideable_type'] = ['docked_bike' if b== 1 else 'electric_bike' for b in data2_downsampled.rideable_type\t]\r\n",
        " \r\n",
        "data2_downsampled['rideable_type'].value_counts()"
      ],
      "execution_count": 877,
      "outputs": [
        {
          "output_type": "execute_result",
          "data": {
            "text/plain": [
              "docked_bike      55674\n",
              "electric_bike    55674\n",
              "Name: rideable_type, dtype: int64"
            ]
          },
          "metadata": {
            "tags": []
          },
          "execution_count": 877
        }
      ]
    },
    {
      "cell_type": "code",
      "metadata": {
        "id": "fO7M-kIb6-Gg",
        "colab": {
          "base_uri": "https://localhost:8080/",
          "height": 391
        },
        "outputId": "efd66c13-cd26-4cb1-d01b-8c12762adda2"
      },
      "source": [
        "# Importing capitalbikeshare-tripdata dataset\n",
        "data3 = pd.read_csv(\"202010-capitalbikeshare-tripdata.csv\") \n",
        "data3.head()"
      ],
      "execution_count": 878,
      "outputs": [
        {
          "output_type": "execute_result",
          "data": {
            "text/html": [
              "<div>\n",
              "<style scoped>\n",
              "    .dataframe tbody tr th:only-of-type {\n",
              "        vertical-align: middle;\n",
              "    }\n",
              "\n",
              "    .dataframe tbody tr th {\n",
              "        vertical-align: top;\n",
              "    }\n",
              "\n",
              "    .dataframe thead th {\n",
              "        text-align: right;\n",
              "    }\n",
              "</style>\n",
              "<table border=\"1\" class=\"dataframe\">\n",
              "  <thead>\n",
              "    <tr style=\"text-align: right;\">\n",
              "      <th></th>\n",
              "      <th>ride_id</th>\n",
              "      <th>rideable_type</th>\n",
              "      <th>started_at</th>\n",
              "      <th>ended_at</th>\n",
              "      <th>start_station_name</th>\n",
              "      <th>start_station_id</th>\n",
              "      <th>end_station_name</th>\n",
              "      <th>end_station_id</th>\n",
              "      <th>start_lat</th>\n",
              "      <th>start_lng</th>\n",
              "      <th>end_lat</th>\n",
              "      <th>end_lng</th>\n",
              "      <th>member_casual</th>\n",
              "    </tr>\n",
              "  </thead>\n",
              "  <tbody>\n",
              "    <tr>\n",
              "      <th>0</th>\n",
              "      <td>5160990A29898496</td>\n",
              "      <td>electric_bike</td>\n",
              "      <td>2020-10-12 07:38:42</td>\n",
              "      <td>2020-10-12 07:52:38</td>\n",
              "      <td>NaN</td>\n",
              "      <td>NaN</td>\n",
              "      <td>NaN</td>\n",
              "      <td>NaN</td>\n",
              "      <td>38.81</td>\n",
              "      <td>-77.06</td>\n",
              "      <td>38.84000</td>\n",
              "      <td>-77.060000</td>\n",
              "      <td>casual</td>\n",
              "    </tr>\n",
              "    <tr>\n",
              "      <th>1</th>\n",
              "      <td>AB3EDB59F4D802E7</td>\n",
              "      <td>electric_bike</td>\n",
              "      <td>2020-10-02 17:58:30</td>\n",
              "      <td>2020-10-02 18:07:45</td>\n",
              "      <td>NaN</td>\n",
              "      <td>NaN</td>\n",
              "      <td>NaN</td>\n",
              "      <td>NaN</td>\n",
              "      <td>38.93</td>\n",
              "      <td>-77.00</td>\n",
              "      <td>38.91000</td>\n",
              "      <td>-77.000000</td>\n",
              "      <td>casual</td>\n",
              "    </tr>\n",
              "    <tr>\n",
              "      <th>2</th>\n",
              "      <td>238A92D9D011475D</td>\n",
              "      <td>electric_bike</td>\n",
              "      <td>2020-10-02 00:13:37</td>\n",
              "      <td>2020-10-02 00:21:10</td>\n",
              "      <td>NaN</td>\n",
              "      <td>NaN</td>\n",
              "      <td>NaN</td>\n",
              "      <td>NaN</td>\n",
              "      <td>38.91</td>\n",
              "      <td>-77.04</td>\n",
              "      <td>38.90000</td>\n",
              "      <td>-77.000000</td>\n",
              "      <td>casual</td>\n",
              "    </tr>\n",
              "    <tr>\n",
              "      <th>3</th>\n",
              "      <td>59D6EF767F57C139</td>\n",
              "      <td>electric_bike</td>\n",
              "      <td>2020-10-02 16:31:12</td>\n",
              "      <td>2020-10-02 16:42:50</td>\n",
              "      <td>NaN</td>\n",
              "      <td>NaN</td>\n",
              "      <td>NaN</td>\n",
              "      <td>NaN</td>\n",
              "      <td>38.92</td>\n",
              "      <td>-77.03</td>\n",
              "      <td>38.91000</td>\n",
              "      <td>-77.000000</td>\n",
              "      <td>casual</td>\n",
              "    </tr>\n",
              "    <tr>\n",
              "      <th>4</th>\n",
              "      <td>A94B93E9E864972A</td>\n",
              "      <td>electric_bike</td>\n",
              "      <td>2020-10-19 21:33:46</td>\n",
              "      <td>2020-10-19 21:43:55</td>\n",
              "      <td>NaN</td>\n",
              "      <td>NaN</td>\n",
              "      <td>14th &amp; V St NW</td>\n",
              "      <td>31101.0</td>\n",
              "      <td>38.91</td>\n",
              "      <td>-77.04</td>\n",
              "      <td>38.91769</td>\n",
              "      <td>-77.031821</td>\n",
              "      <td>casual</td>\n",
              "    </tr>\n",
              "  </tbody>\n",
              "</table>\n",
              "</div>"
            ],
            "text/plain": [
              "            ride_id  rideable_type  ...    end_lng member_casual\n",
              "0  5160990A29898496  electric_bike  ... -77.060000        casual\n",
              "1  AB3EDB59F4D802E7  electric_bike  ... -77.000000        casual\n",
              "2  238A92D9D011475D  electric_bike  ... -77.000000        casual\n",
              "3  59D6EF767F57C139  electric_bike  ... -77.000000        casual\n",
              "4  A94B93E9E864972A  electric_bike  ... -77.031821        casual\n",
              "\n",
              "[5 rows x 13 columns]"
            ]
          },
          "metadata": {
            "tags": []
          },
          "execution_count": 878
        }
      ]
    },
    {
      "cell_type": "code",
      "metadata": {
        "id": "JCSKNO6kFdlG",
        "colab": {
          "base_uri": "https://localhost:8080/"
        },
        "outputId": "8827e7e5-b223-470d-c89a-b857c6e9bfe5"
      },
      "source": [
        "data3['rideable_type'] = [1 if b=='docked_bike' else 0 for b in data3.rideable_type\t]\r\n",
        " \r\n",
        "data3['rideable_type'].value_counts()"
      ],
      "execution_count": 879,
      "outputs": [
        {
          "output_type": "execute_result",
          "data": {
            "text/plain": [
              "1    180231\n",
              "0     49601\n",
              "Name: rideable_type, dtype: int64"
            ]
          },
          "metadata": {
            "tags": []
          },
          "execution_count": 879
        }
      ]
    },
    {
      "cell_type": "code",
      "metadata": {
        "id": "lUG5vcw4FdlH",
        "colab": {
          "base_uri": "https://localhost:8080/"
        },
        "outputId": "1ce6097f-8653-488e-a28c-e92dfbd6d851"
      },
      "source": [
        "# Separate majority and minority classes\r\n",
        "from sklearn.utils import resample\r\n",
        "\r\n",
        "df_majority = data3[data3.rideable_type == 1]\r\n",
        "df_minority = data3[data3.rideable_type==0]\r\n",
        " \r\n",
        "# Downsample majority class\r\n",
        "df_majority_downsampled = resample(df_majority, \r\n",
        "                                 replace=False,    # sample without replacement\r\n",
        "                                 n_samples=49601,     # to match minority class\r\n",
        "                                 random_state=50) # reproducible results\r\n",
        " \r\n",
        "# Combine minority class with downsampled majority class\r\n",
        "data3_downsampled = pd.concat([df_majority_downsampled, df_minority])\r\n",
        " \r\n",
        "# Display new class counts\r\n",
        "data3_downsampled.rideable_type.value_counts()"
      ],
      "execution_count": 880,
      "outputs": [
        {
          "output_type": "execute_result",
          "data": {
            "text/plain": [
              "1    49601\n",
              "0    49601\n",
              "Name: rideable_type, dtype: int64"
            ]
          },
          "metadata": {
            "tags": []
          },
          "execution_count": 880
        }
      ]
    },
    {
      "cell_type": "code",
      "metadata": {
        "id": "9p6zzRzzKGru",
        "colab": {
          "base_uri": "https://localhost:8080/"
        },
        "outputId": "afaf41ff-4996-416f-9c8e-1284c4d77fc1"
      },
      "source": [
        "# Balanced Dataset\r\n",
        "\r\n",
        "data3_downsampled['rideable_type'] = ['docked_bike' if b== 1 else 'electric_bike' for b in data3_downsampled.rideable_type\t]\r\n",
        " \r\n",
        "data3_downsampled['rideable_type'].value_counts()"
      ],
      "execution_count": 881,
      "outputs": [
        {
          "output_type": "execute_result",
          "data": {
            "text/plain": [
              "docked_bike      49601\n",
              "electric_bike    49601\n",
              "Name: rideable_type, dtype: int64"
            ]
          },
          "metadata": {
            "tags": []
          },
          "execution_count": 881
        }
      ]
    },
    {
      "cell_type": "code",
      "metadata": {
        "id": "2ki0aUVuokv_",
        "colab": {
          "base_uri": "https://localhost:8080/",
          "height": 391
        },
        "outputId": "023eb41c-be9d-4fd3-d267-0cdec7cae565"
      },
      "source": [
        "# Importing capitalbikeshare-tripdata dataset\n",
        "\n",
        "data4 = pd.read_csv(\"202007-capitalbikeshare-tripdata.csv\") \n",
        "data4.head()"
      ],
      "execution_count": 882,
      "outputs": [
        {
          "output_type": "execute_result",
          "data": {
            "text/html": [
              "<div>\n",
              "<style scoped>\n",
              "    .dataframe tbody tr th:only-of-type {\n",
              "        vertical-align: middle;\n",
              "    }\n",
              "\n",
              "    .dataframe tbody tr th {\n",
              "        vertical-align: top;\n",
              "    }\n",
              "\n",
              "    .dataframe thead th {\n",
              "        text-align: right;\n",
              "    }\n",
              "</style>\n",
              "<table border=\"1\" class=\"dataframe\">\n",
              "  <thead>\n",
              "    <tr style=\"text-align: right;\">\n",
              "      <th></th>\n",
              "      <th>ride_id</th>\n",
              "      <th>rideable_type</th>\n",
              "      <th>started_at</th>\n",
              "      <th>ended_at</th>\n",
              "      <th>start_station_name</th>\n",
              "      <th>start_station_id</th>\n",
              "      <th>end_station_name</th>\n",
              "      <th>end_station_id</th>\n",
              "      <th>start_lat</th>\n",
              "      <th>start_lng</th>\n",
              "      <th>end_lat</th>\n",
              "      <th>end_lng</th>\n",
              "      <th>member_casual</th>\n",
              "    </tr>\n",
              "  </thead>\n",
              "  <tbody>\n",
              "    <tr>\n",
              "      <th>0</th>\n",
              "      <td>40166AEE48DB264F</td>\n",
              "      <td>docked_bike</td>\n",
              "      <td>2020-07-10 20:00:46</td>\n",
              "      <td>2020-07-10 20:09:42</td>\n",
              "      <td>Potomac Ave &amp; Half St SW</td>\n",
              "      <td>570.0</td>\n",
              "      <td>4th &amp; M St SW</td>\n",
              "      <td>21.0</td>\n",
              "      <td>38.870201</td>\n",
              "      <td>-77.010836</td>\n",
              "      <td>38.87670</td>\n",
              "      <td>-77.017800</td>\n",
              "      <td>casual</td>\n",
              "    </tr>\n",
              "    <tr>\n",
              "      <th>1</th>\n",
              "      <td>C2D80D65DEB2C464</td>\n",
              "      <td>docked_bike</td>\n",
              "      <td>2020-07-30 22:11:33</td>\n",
              "      <td>2020-07-30 23:32:05</td>\n",
              "      <td>Maine Ave &amp; 9th St SW</td>\n",
              "      <td>548.0</td>\n",
              "      <td>Maine Ave &amp; 9th St SW</td>\n",
              "      <td>548.0</td>\n",
              "      <td>38.880440</td>\n",
              "      <td>-77.025236</td>\n",
              "      <td>38.88044</td>\n",
              "      <td>-77.025236</td>\n",
              "      <td>casual</td>\n",
              "    </tr>\n",
              "    <tr>\n",
              "      <th>2</th>\n",
              "      <td>FBE8E99BAAED0455</td>\n",
              "      <td>electric_bike</td>\n",
              "      <td>2020-07-22 09:47:52</td>\n",
              "      <td>2020-07-22 09:53:38</td>\n",
              "      <td>NaN</td>\n",
              "      <td>NaN</td>\n",
              "      <td>NaN</td>\n",
              "      <td>NaN</td>\n",
              "      <td>38.920000</td>\n",
              "      <td>-77.000000</td>\n",
              "      <td>38.92000</td>\n",
              "      <td>-77.010000</td>\n",
              "      <td>casual</td>\n",
              "    </tr>\n",
              "    <tr>\n",
              "      <th>3</th>\n",
              "      <td>E7950C376FD263E4</td>\n",
              "      <td>electric_bike</td>\n",
              "      <td>2020-07-22 10:36:55</td>\n",
              "      <td>2020-07-22 10:49:03</td>\n",
              "      <td>NaN</td>\n",
              "      <td>NaN</td>\n",
              "      <td>NaN</td>\n",
              "      <td>NaN</td>\n",
              "      <td>38.920000</td>\n",
              "      <td>-77.010000</td>\n",
              "      <td>38.92000</td>\n",
              "      <td>-77.000000</td>\n",
              "      <td>casual</td>\n",
              "    </tr>\n",
              "    <tr>\n",
              "      <th>4</th>\n",
              "      <td>0149F273572ED43F</td>\n",
              "      <td>electric_bike</td>\n",
              "      <td>2020-07-22 15:53:55</td>\n",
              "      <td>2020-07-22 15:58:47</td>\n",
              "      <td>NaN</td>\n",
              "      <td>NaN</td>\n",
              "      <td>NaN</td>\n",
              "      <td>NaN</td>\n",
              "      <td>38.910000</td>\n",
              "      <td>-77.050000</td>\n",
              "      <td>38.90000</td>\n",
              "      <td>-77.050000</td>\n",
              "      <td>casual</td>\n",
              "    </tr>\n",
              "  </tbody>\n",
              "</table>\n",
              "</div>"
            ],
            "text/plain": [
              "            ride_id  rideable_type  ...    end_lng member_casual\n",
              "0  40166AEE48DB264F    docked_bike  ... -77.017800        casual\n",
              "1  C2D80D65DEB2C464    docked_bike  ... -77.025236        casual\n",
              "2  FBE8E99BAAED0455  electric_bike  ... -77.010000        casual\n",
              "3  E7950C376FD263E4  electric_bike  ... -77.000000        casual\n",
              "4  0149F273572ED43F  electric_bike  ... -77.050000        casual\n",
              "\n",
              "[5 rows x 13 columns]"
            ]
          },
          "metadata": {
            "tags": []
          },
          "execution_count": 882
        }
      ]
    },
    {
      "cell_type": "code",
      "metadata": {
        "id": "gwP-757tFfP_",
        "colab": {
          "base_uri": "https://localhost:8080/"
        },
        "outputId": "3c65a2bb-fd7e-455f-ef91-2341f073b06e"
      },
      "source": [
        "data4['rideable_type'] = [1 if b=='docked_bike' else 0 for b in data4.rideable_type\t]\r\n",
        " \r\n",
        "data4['rideable_type'].value_counts()"
      ],
      "execution_count": 883,
      "outputs": [
        {
          "output_type": "execute_result",
          "data": {
            "text/plain": [
              "1    212516\n",
              "0     15786\n",
              "Name: rideable_type, dtype: int64"
            ]
          },
          "metadata": {
            "tags": []
          },
          "execution_count": 883
        }
      ]
    },
    {
      "cell_type": "code",
      "metadata": {
        "id": "Zmdo8dCjFfQB",
        "colab": {
          "base_uri": "https://localhost:8080/"
        },
        "outputId": "5749b6ce-3f39-4a43-c6e4-e0327315e1b0"
      },
      "source": [
        "# Separate majority and minority classes\r\n",
        "from sklearn.utils import resample\r\n",
        "\r\n",
        "df_majority = data4[data4.rideable_type == 1]\r\n",
        "df_minority = data4[data4.rideable_type==0]\r\n",
        " \r\n",
        "# Downsample majority class\r\n",
        "df_majority_downsampled = resample(df_majority, \r\n",
        "                                 replace=False,    # sample without replacement\r\n",
        "                                 n_samples=15786,     # to match minority class\r\n",
        "                                 random_state=50) # reproducible results\r\n",
        " \r\n",
        "# Combine minority class with downsampled majority class\r\n",
        "data4_downsampled = pd.concat([df_majority_downsampled, df_minority])\r\n",
        " \r\n",
        "# Display new class counts\r\n",
        "data4_downsampled.rideable_type.value_counts()"
      ],
      "execution_count": 884,
      "outputs": [
        {
          "output_type": "execute_result",
          "data": {
            "text/plain": [
              "1    15786\n",
              "0    15786\n",
              "Name: rideable_type, dtype: int64"
            ]
          },
          "metadata": {
            "tags": []
          },
          "execution_count": 884
        }
      ]
    },
    {
      "cell_type": "code",
      "metadata": {
        "id": "NFcP-1unKsXb",
        "colab": {
          "base_uri": "https://localhost:8080/"
        },
        "outputId": "3fe47466-8659-407a-b607-794c2c442479"
      },
      "source": [
        "# Balanced Dataset\r\n",
        "\r\n",
        "data4_downsampled['rideable_type'] = ['docked_bike' if b== 1 else 'electric_bike' for b in data4_downsampled.rideable_type\t]\r\n",
        " \r\n",
        "data4_downsampled['rideable_type'].value_counts()"
      ],
      "execution_count": 885,
      "outputs": [
        {
          "output_type": "execute_result",
          "data": {
            "text/plain": [
              "docked_bike      15786\n",
              "electric_bike    15786\n",
              "Name: rideable_type, dtype: int64"
            ]
          },
          "metadata": {
            "tags": []
          },
          "execution_count": 885
        }
      ]
    },
    {
      "cell_type": "code",
      "metadata": {
        "id": "3wiWlk7E76zT",
        "colab": {
          "base_uri": "https://localhost:8080/",
          "height": 391
        },
        "outputId": "11c99433-4dc3-4a47-bf8e-311cd35a9352"
      },
      "source": [
        "# Importing capitalbikeshare-tripdata dataset\r\n",
        "\r\n",
        "data5 = pd.read_csv(\"202011-capitalbikeshare-tripdata.csv\") \r\n",
        "data5.head()"
      ],
      "execution_count": 886,
      "outputs": [
        {
          "output_type": "execute_result",
          "data": {
            "text/html": [
              "<div>\n",
              "<style scoped>\n",
              "    .dataframe tbody tr th:only-of-type {\n",
              "        vertical-align: middle;\n",
              "    }\n",
              "\n",
              "    .dataframe tbody tr th {\n",
              "        vertical-align: top;\n",
              "    }\n",
              "\n",
              "    .dataframe thead th {\n",
              "        text-align: right;\n",
              "    }\n",
              "</style>\n",
              "<table border=\"1\" class=\"dataframe\">\n",
              "  <thead>\n",
              "    <tr style=\"text-align: right;\">\n",
              "      <th></th>\n",
              "      <th>ride_id</th>\n",
              "      <th>rideable_type</th>\n",
              "      <th>started_at</th>\n",
              "      <th>ended_at</th>\n",
              "      <th>start_station_name</th>\n",
              "      <th>start_station_id</th>\n",
              "      <th>end_station_name</th>\n",
              "      <th>end_station_id</th>\n",
              "      <th>start_lat</th>\n",
              "      <th>start_lng</th>\n",
              "      <th>end_lat</th>\n",
              "      <th>end_lng</th>\n",
              "      <th>member_casual</th>\n",
              "    </tr>\n",
              "  </thead>\n",
              "  <tbody>\n",
              "    <tr>\n",
              "      <th>0</th>\n",
              "      <td>EAF58AB55323A15E</td>\n",
              "      <td>docked_bike</td>\n",
              "      <td>2020-11-02 18:41:34</td>\n",
              "      <td>2020-11-02 18:49:04</td>\n",
              "      <td>17th &amp; K St NW / Farragut Square</td>\n",
              "      <td>31233.0</td>\n",
              "      <td>15th &amp; P St NW</td>\n",
              "      <td>31201.0</td>\n",
              "      <td>38.902061</td>\n",
              "      <td>-77.038322</td>\n",
              "      <td>38.909868</td>\n",
              "      <td>-77.034421</td>\n",
              "      <td>casual</td>\n",
              "    </tr>\n",
              "    <tr>\n",
              "      <th>1</th>\n",
              "      <td>DBD5BC10E1F0C019</td>\n",
              "      <td>docked_bike</td>\n",
              "      <td>2020-11-07 17:24:13</td>\n",
              "      <td>2020-11-07 17:24:48</td>\n",
              "      <td>New Jersey Ave &amp; F St NW</td>\n",
              "      <td>31655.0</td>\n",
              "      <td>New Jersey Ave &amp; F St NW</td>\n",
              "      <td>31655.0</td>\n",
              "      <td>38.897108</td>\n",
              "      <td>-77.011616</td>\n",
              "      <td>38.897108</td>\n",
              "      <td>-77.011616</td>\n",
              "      <td>member</td>\n",
              "    </tr>\n",
              "    <tr>\n",
              "      <th>2</th>\n",
              "      <td>64776A208DCED86D</td>\n",
              "      <td>docked_bike</td>\n",
              "      <td>2020-11-20 13:28:22</td>\n",
              "      <td>2020-11-20 14:19:26</td>\n",
              "      <td>Lincoln Memorial</td>\n",
              "      <td>31258.0</td>\n",
              "      <td>15th St &amp; Constitution Ave NW</td>\n",
              "      <td>31321.0</td>\n",
              "      <td>38.888255</td>\n",
              "      <td>-77.049437</td>\n",
              "      <td>38.892244</td>\n",
              "      <td>-77.033234</td>\n",
              "      <td>casual</td>\n",
              "    </tr>\n",
              "    <tr>\n",
              "      <th>3</th>\n",
              "      <td>B870C5DC875CA903</td>\n",
              "      <td>docked_bike</td>\n",
              "      <td>2020-11-25 16:02:34</td>\n",
              "      <td>2020-11-25 16:31:31</td>\n",
              "      <td>Lincoln Memorial</td>\n",
              "      <td>31258.0</td>\n",
              "      <td>15th St &amp; Constitution Ave NW</td>\n",
              "      <td>31321.0</td>\n",
              "      <td>38.888255</td>\n",
              "      <td>-77.049436</td>\n",
              "      <td>38.892244</td>\n",
              "      <td>-77.033234</td>\n",
              "      <td>casual</td>\n",
              "    </tr>\n",
              "    <tr>\n",
              "      <th>4</th>\n",
              "      <td>98DEA3EA1A85634F</td>\n",
              "      <td>docked_bike</td>\n",
              "      <td>2020-11-21 10:55:34</td>\n",
              "      <td>2020-11-21 11:12:45</td>\n",
              "      <td>Metro Center / 12th &amp; G St NW</td>\n",
              "      <td>31230.0</td>\n",
              "      <td>2nd &amp; G St NE</td>\n",
              "      <td>31639.0</td>\n",
              "      <td>38.898364</td>\n",
              "      <td>-77.027869</td>\n",
              "      <td>38.899670</td>\n",
              "      <td>-77.003666</td>\n",
              "      <td>casual</td>\n",
              "    </tr>\n",
              "  </tbody>\n",
              "</table>\n",
              "</div>"
            ],
            "text/plain": [
              "            ride_id rideable_type  ...    end_lng member_casual\n",
              "0  EAF58AB55323A15E   docked_bike  ... -77.034421        casual\n",
              "1  DBD5BC10E1F0C019   docked_bike  ... -77.011616        member\n",
              "2  64776A208DCED86D   docked_bike  ... -77.033234        casual\n",
              "3  B870C5DC875CA903   docked_bike  ... -77.033234        casual\n",
              "4  98DEA3EA1A85634F   docked_bike  ... -77.003666        casual\n",
              "\n",
              "[5 rows x 13 columns]"
            ]
          },
          "metadata": {
            "tags": []
          },
          "execution_count": 886
        }
      ]
    },
    {
      "cell_type": "code",
      "metadata": {
        "id": "_Tbzf0QBFhGE",
        "colab": {
          "base_uri": "https://localhost:8080/"
        },
        "outputId": "3260dc54-ba25-489a-fb8e-76c437a12093"
      },
      "source": [
        "data5['rideable_type'] = [1 if b=='docked_bike' else 0 for b in data5.rideable_type\t]\r\n",
        " \r\n",
        "data5['rideable_type'].value_counts()"
      ],
      "execution_count": 887,
      "outputs": [
        {
          "output_type": "execute_result",
          "data": {
            "text/plain": [
              "1    135343\n",
              "0     40092\n",
              "Name: rideable_type, dtype: int64"
            ]
          },
          "metadata": {
            "tags": []
          },
          "execution_count": 887
        }
      ]
    },
    {
      "cell_type": "code",
      "metadata": {
        "id": "oaJs_iUxFhGG",
        "colab": {
          "base_uri": "https://localhost:8080/"
        },
        "outputId": "5346cc9d-8bea-444b-e8f5-496be5c85298"
      },
      "source": [
        "# Separate majority and minority classes\r\n",
        "from sklearn.utils import resample\r\n",
        "\r\n",
        "df_majority = data5[data5.rideable_type == 1]\r\n",
        "df_minority = data5[data5.rideable_type==0]\r\n",
        " \r\n",
        "# Downsample majority class\r\n",
        "df_majority_downsampled = resample(df_majority, \r\n",
        "                                 replace=False,    # sample without replacement\r\n",
        "                                 n_samples=40092,     # to match minority class\r\n",
        "                                 random_state=50) # reproducible results\r\n",
        " \r\n",
        "# Combine minority class with downsampled majority class\r\n",
        "data5_downsampled = pd.concat([df_majority_downsampled, df_minority])\r\n",
        " \r\n",
        "# Display new class counts\r\n",
        "data5_downsampled.rideable_type.value_counts()"
      ],
      "execution_count": 888,
      "outputs": [
        {
          "output_type": "execute_result",
          "data": {
            "text/plain": [
              "1    40092\n",
              "0    40092\n",
              "Name: rideable_type, dtype: int64"
            ]
          },
          "metadata": {
            "tags": []
          },
          "execution_count": 888
        }
      ]
    },
    {
      "cell_type": "code",
      "metadata": {
        "id": "KIz4F_J1Kznn",
        "colab": {
          "base_uri": "https://localhost:8080/"
        },
        "outputId": "9876310a-a44d-44dc-e298-8e77518feca0"
      },
      "source": [
        "# Balanced Dataset\r\n",
        "\r\n",
        "data5_downsampled['rideable_type'] = ['docked_bike' if b== 1 else 'electric_bike' for b in data5_downsampled.rideable_type\t]\r\n",
        " \r\n",
        "data5_downsampled['rideable_type'].value_counts()"
      ],
      "execution_count": 889,
      "outputs": [
        {
          "output_type": "execute_result",
          "data": {
            "text/plain": [
              "docked_bike      40092\n",
              "electric_bike    40092\n",
              "Name: rideable_type, dtype: int64"
            ]
          },
          "metadata": {
            "tags": []
          },
          "execution_count": 889
        }
      ]
    },
    {
      "cell_type": "code",
      "metadata": {
        "id": "1dVtBzu47_x8",
        "colab": {
          "base_uri": "https://localhost:8080/",
          "height": 391
        },
        "outputId": "980ad99e-60d7-43f2-8549-2f40d5f91963"
      },
      "source": [
        "# Importing capitalbikeshare-tripdata dataset\r\n",
        "\r\n",
        "data6 = pd.read_csv(\"202012-capitalbikeshare-tripdata.csv\") \r\n",
        "data6.head()"
      ],
      "execution_count": 890,
      "outputs": [
        {
          "output_type": "execute_result",
          "data": {
            "text/html": [
              "<div>\n",
              "<style scoped>\n",
              "    .dataframe tbody tr th:only-of-type {\n",
              "        vertical-align: middle;\n",
              "    }\n",
              "\n",
              "    .dataframe tbody tr th {\n",
              "        vertical-align: top;\n",
              "    }\n",
              "\n",
              "    .dataframe thead th {\n",
              "        text-align: right;\n",
              "    }\n",
              "</style>\n",
              "<table border=\"1\" class=\"dataframe\">\n",
              "  <thead>\n",
              "    <tr style=\"text-align: right;\">\n",
              "      <th></th>\n",
              "      <th>ride_id</th>\n",
              "      <th>rideable_type</th>\n",
              "      <th>started_at</th>\n",
              "      <th>ended_at</th>\n",
              "      <th>start_station_name</th>\n",
              "      <th>start_station_id</th>\n",
              "      <th>end_station_name</th>\n",
              "      <th>end_station_id</th>\n",
              "      <th>start_lat</th>\n",
              "      <th>start_lng</th>\n",
              "      <th>end_lat</th>\n",
              "      <th>end_lng</th>\n",
              "      <th>member_casual</th>\n",
              "    </tr>\n",
              "  </thead>\n",
              "  <tbody>\n",
              "    <tr>\n",
              "      <th>0</th>\n",
              "      <td>C04E20007D039277</td>\n",
              "      <td>docked_bike</td>\n",
              "      <td>2020-12-02 09:10:36</td>\n",
              "      <td>2020-12-02 09:24:12</td>\n",
              "      <td>18th St &amp; Wyoming Ave NW</td>\n",
              "      <td>31114.0</td>\n",
              "      <td>18th St &amp; Pennsylvania Ave NW</td>\n",
              "      <td>31242.0</td>\n",
              "      <td>38.918809</td>\n",
              "      <td>-77.041571</td>\n",
              "      <td>38.899680</td>\n",
              "      <td>-77.041539</td>\n",
              "      <td>casual</td>\n",
              "    </tr>\n",
              "    <tr>\n",
              "      <th>1</th>\n",
              "      <td>A488C0D9F4761D06</td>\n",
              "      <td>classic_bike</td>\n",
              "      <td>2020-12-31 12:46:29</td>\n",
              "      <td>2020-12-31 14:01:07</td>\n",
              "      <td>Potomac &amp; Pennsylvania Ave SE</td>\n",
              "      <td>31606.0</td>\n",
              "      <td>17th St &amp; Independence Ave SW</td>\n",
              "      <td>31290.0</td>\n",
              "      <td>38.880300</td>\n",
              "      <td>-76.986200</td>\n",
              "      <td>38.888097</td>\n",
              "      <td>-77.038325</td>\n",
              "      <td>casual</td>\n",
              "    </tr>\n",
              "    <tr>\n",
              "      <th>2</th>\n",
              "      <td>9E7E97A927A85552</td>\n",
              "      <td>classic_bike</td>\n",
              "      <td>2020-12-31 12:47:03</td>\n",
              "      <td>2020-12-31 14:01:04</td>\n",
              "      <td>Potomac &amp; Pennsylvania Ave SE</td>\n",
              "      <td>31606.0</td>\n",
              "      <td>17th St &amp; Independence Ave SW</td>\n",
              "      <td>31290.0</td>\n",
              "      <td>38.880300</td>\n",
              "      <td>-76.986200</td>\n",
              "      <td>38.888097</td>\n",
              "      <td>-77.038325</td>\n",
              "      <td>casual</td>\n",
              "    </tr>\n",
              "    <tr>\n",
              "      <th>3</th>\n",
              "      <td>565C5C331ABAD77B</td>\n",
              "      <td>classic_bike</td>\n",
              "      <td>2020-12-29 13:50:51</td>\n",
              "      <td>2020-12-29 14:12:22</td>\n",
              "      <td>Wakefield High School</td>\n",
              "      <td>31054.0</td>\n",
              "      <td>S Glebe Rd &amp; Potomac Ave</td>\n",
              "      <td>31010.0</td>\n",
              "      <td>38.847129</td>\n",
              "      <td>-77.112550</td>\n",
              "      <td>38.842600</td>\n",
              "      <td>-77.050200</td>\n",
              "      <td>member</td>\n",
              "    </tr>\n",
              "    <tr>\n",
              "      <th>4</th>\n",
              "      <td>7576B3F4B4D6ADFF</td>\n",
              "      <td>classic_bike</td>\n",
              "      <td>2020-12-27 12:30:28</td>\n",
              "      <td>2020-12-27 12:36:12</td>\n",
              "      <td>Washington-Liberty High School / N Stafford St...</td>\n",
              "      <td>31920.0</td>\n",
              "      <td>Virginia Square Metro / Monroe St &amp; 9th St N</td>\n",
              "      <td>31024.0</td>\n",
              "      <td>38.888282</td>\n",
              "      <td>-77.111066</td>\n",
              "      <td>38.882788</td>\n",
              "      <td>-77.103148</td>\n",
              "      <td>member</td>\n",
              "    </tr>\n",
              "  </tbody>\n",
              "</table>\n",
              "</div>"
            ],
            "text/plain": [
              "            ride_id rideable_type  ...    end_lng member_casual\n",
              "0  C04E20007D039277   docked_bike  ... -77.041539        casual\n",
              "1  A488C0D9F4761D06  classic_bike  ... -77.038325        casual\n",
              "2  9E7E97A927A85552  classic_bike  ... -77.038325        casual\n",
              "3  565C5C331ABAD77B  classic_bike  ... -77.050200        member\n",
              "4  7576B3F4B4D6ADFF  classic_bike  ... -77.103148        member\n",
              "\n",
              "[5 rows x 13 columns]"
            ]
          },
          "metadata": {
            "tags": []
          },
          "execution_count": 890
        }
      ]
    },
    {
      "cell_type": "code",
      "metadata": {
        "id": "FgLIar1bFiUF",
        "colab": {
          "base_uri": "https://localhost:8080/"
        },
        "outputId": "0fdb7886-3cb4-406c-d9bf-368afe1ded89"
      },
      "source": [
        "\r\n",
        "\r\n",
        "data6['rideable_type'] = [1 if b=='docked_bike' else 0 for b in data6.rideable_type\t]\r\n",
        " \r\n",
        "data6['rideable_type'].value_counts()"
      ],
      "execution_count": 891,
      "outputs": [
        {
          "output_type": "execute_result",
          "data": {
            "text/plain": [
              "0    76905\n",
              "1    28924\n",
              "Name: rideable_type, dtype: int64"
            ]
          },
          "metadata": {
            "tags": []
          },
          "execution_count": 891
        }
      ]
    },
    {
      "cell_type": "code",
      "metadata": {
        "id": "SeaBTwdLFiUH",
        "colab": {
          "base_uri": "https://localhost:8080/"
        },
        "outputId": "c58c77c3-44d2-4296-ffd8-cc2e0cc9f19c"
      },
      "source": [
        "# Separate majority and minority classes\r\n",
        "from sklearn.utils import resample\r\n",
        "\r\n",
        "df_majority = data6[data6.rideable_type == 0]\r\n",
        "df_minority = data6[data6.rideable_type==1]\r\n",
        " \r\n",
        "# Downsample majority class\r\n",
        "df_majority_downsampled = resample(df_majority, \r\n",
        "                                 replace=False,    # sample without replacement\r\n",
        "                                 n_samples=28924,     # to match minority class\r\n",
        "                                 random_state=50) # reproducible results\r\n",
        " \r\n",
        "# Combine minority class with downsampled majority class\r\n",
        "data6_downsampled = pd.concat([df_majority_downsampled, df_minority])\r\n",
        " \r\n",
        "# Display new class counts\r\n",
        "data6_downsampled.rideable_type.value_counts()"
      ],
      "execution_count": 892,
      "outputs": [
        {
          "output_type": "execute_result",
          "data": {
            "text/plain": [
              "1    28924\n",
              "0    28924\n",
              "Name: rideable_type, dtype: int64"
            ]
          },
          "metadata": {
            "tags": []
          },
          "execution_count": 892
        }
      ]
    },
    {
      "cell_type": "code",
      "metadata": {
        "id": "bM_SkrMtK7EG",
        "colab": {
          "base_uri": "https://localhost:8080/"
        },
        "outputId": "c617d38a-cfa8-471c-ef9b-cf20ed63652a"
      },
      "source": [
        "# Balanced Dataset\r\n",
        "\r\n",
        "data6_downsampled['rideable_type'] = ['docked_bike' if b== 1 else 'electric_bike' for b in data6_downsampled.rideable_type\t]\r\n",
        " \r\n",
        "data6_downsampled['rideable_type'].value_counts()"
      ],
      "execution_count": 893,
      "outputs": [
        {
          "output_type": "execute_result",
          "data": {
            "text/plain": [
              "docked_bike      28924\n",
              "electric_bike    28924\n",
              "Name: rideable_type, dtype: int64"
            ]
          },
          "metadata": {
            "tags": []
          },
          "execution_count": 893
        }
      ]
    },
    {
      "cell_type": "code",
      "metadata": {
        "id": "SQNAce5D_Xf1"
      },
      "source": [
        "class display(object):\r\n",
        "    \"\"\"Display HTML representation of multiple objects\"\"\"\r\n",
        "    template = \"\"\"<div style=\"float: left; padding: 10px;\">\r\n",
        "    <p style='font-family:\"Courier New\", Courier, monospace'>{0}</p>{1}\r\n",
        "    </div>\"\"\"\r\n",
        "    def __init__(self, *args):\r\n",
        "        self.args = args\r\n",
        "        \r\n",
        "    def _repr_html_(self):\r\n",
        "        return '\\n'.join(self.template.format(a, eval(a)._repr_html_())\r\n",
        "                         for a in self.args)\r\n",
        "    \r\n",
        "    def __repr__(self):\r\n",
        "        return '\\n\\n'.join(a + '\\n' + repr(eval(a))\r\n",
        "                           for a in self.args)\r\n",
        "    "
      ],
      "execution_count": 894,
      "outputs": []
    },
    {
      "cell_type": "code",
      "metadata": {
        "id": "rEpXGDnf9qNl",
        "colab": {
          "base_uri": "https://localhost:8080/",
          "height": 773
        },
        "outputId": "120507a7-3677-48a7-aae7-1aea260fbedc"
      },
      "source": [
        "# dataset merged\r\n",
        "\r\n",
        "data = pd.concat([data1_downsampled, data2_downsampled, data3_downsampled, data4_downsampled, data5_downsampled, data6_downsampled], ignore_index=True)\r\n",
        "data"
      ],
      "execution_count": 895,
      "outputs": [
        {
          "output_type": "execute_result",
          "data": {
            "text/html": [
              "<div>\n",
              "<style scoped>\n",
              "    .dataframe tbody tr th:only-of-type {\n",
              "        vertical-align: middle;\n",
              "    }\n",
              "\n",
              "    .dataframe tbody tr th {\n",
              "        vertical-align: top;\n",
              "    }\n",
              "\n",
              "    .dataframe thead th {\n",
              "        text-align: right;\n",
              "    }\n",
              "</style>\n",
              "<table border=\"1\" class=\"dataframe\">\n",
              "  <thead>\n",
              "    <tr style=\"text-align: right;\">\n",
              "      <th></th>\n",
              "      <th>ride_id</th>\n",
              "      <th>rideable_type</th>\n",
              "      <th>started_at</th>\n",
              "      <th>ended_at</th>\n",
              "      <th>start_station_name</th>\n",
              "      <th>start_station_id</th>\n",
              "      <th>end_station_name</th>\n",
              "      <th>end_station_id</th>\n",
              "      <th>start_lat</th>\n",
              "      <th>start_lng</th>\n",
              "      <th>end_lat</th>\n",
              "      <th>end_lng</th>\n",
              "      <th>member_casual</th>\n",
              "    </tr>\n",
              "  </thead>\n",
              "  <tbody>\n",
              "    <tr>\n",
              "      <th>0</th>\n",
              "      <td>4479E04D9D45AC6B</td>\n",
              "      <td>docked_bike</td>\n",
              "      <td>2020-08-22 17:09:39</td>\n",
              "      <td>2020-08-22 17:30:02</td>\n",
              "      <td>10th St &amp; L'Enfant Plaza SW</td>\n",
              "      <td>31287.0</td>\n",
              "      <td>13th &amp; E St SE</td>\n",
              "      <td>31607.0</td>\n",
              "      <td>38.884323</td>\n",
              "      <td>-77.026010</td>\n",
              "      <td>38.882915</td>\n",
              "      <td>-76.987907</td>\n",
              "      <td>casual</td>\n",
              "    </tr>\n",
              "    <tr>\n",
              "      <th>1</th>\n",
              "      <td>EF88DFBC1E6648EC</td>\n",
              "      <td>docked_bike</td>\n",
              "      <td>2020-08-26 13:13:54</td>\n",
              "      <td>2020-08-26 13:18:41</td>\n",
              "      <td>Constitution Ave &amp; 2nd St NW/DOL</td>\n",
              "      <td>31271.0</td>\n",
              "      <td>New Jersey Ave &amp; F St NW</td>\n",
              "      <td>31655.0</td>\n",
              "      <td>38.892275</td>\n",
              "      <td>-77.013917</td>\n",
              "      <td>38.897108</td>\n",
              "      <td>-77.011616</td>\n",
              "      <td>casual</td>\n",
              "    </tr>\n",
              "    <tr>\n",
              "      <th>2</th>\n",
              "      <td>25812556961CFABD</td>\n",
              "      <td>docked_bike</td>\n",
              "      <td>2020-08-07 16:34:41</td>\n",
              "      <td>2020-08-07 17:13:39</td>\n",
              "      <td>Friendship Hts Metro / Wisconsin Ave &amp; Wiscons...</td>\n",
              "      <td>32014.0</td>\n",
              "      <td>22nd &amp; P ST NW</td>\n",
              "      <td>31285.0</td>\n",
              "      <td>38.961763</td>\n",
              "      <td>-77.085998</td>\n",
              "      <td>38.909394</td>\n",
              "      <td>-77.048728</td>\n",
              "      <td>casual</td>\n",
              "    </tr>\n",
              "    <tr>\n",
              "      <th>3</th>\n",
              "      <td>1621384E51D38F1F</td>\n",
              "      <td>docked_bike</td>\n",
              "      <td>2020-08-07 20:32:05</td>\n",
              "      <td>2020-08-07 20:45:58</td>\n",
              "      <td>John McCormack Rd NE</td>\n",
              "      <td>31528.0</td>\n",
              "      <td>3rd &amp; M St NE</td>\n",
              "      <td>31627.0</td>\n",
              "      <td>38.938889</td>\n",
              "      <td>-76.997226</td>\n",
              "      <td>38.905470</td>\n",
              "      <td>-77.002130</td>\n",
              "      <td>casual</td>\n",
              "    </tr>\n",
              "    <tr>\n",
              "      <th>4</th>\n",
              "      <td>BC10B8C7848D1FDF</td>\n",
              "      <td>docked_bike</td>\n",
              "      <td>2020-08-18 13:40:34</td>\n",
              "      <td>2020-08-18 13:49:07</td>\n",
              "      <td>16th &amp; Irving St NW</td>\n",
              "      <td>31122.0</td>\n",
              "      <td>New Hampshire Ave &amp; T St NW</td>\n",
              "      <td>31229.0</td>\n",
              "      <td>38.928893</td>\n",
              "      <td>-77.036250</td>\n",
              "      <td>38.915544</td>\n",
              "      <td>-77.038252</td>\n",
              "      <td>member</td>\n",
              "    </tr>\n",
              "    <tr>\n",
              "      <th>...</th>\n",
              "      <td>...</td>\n",
              "      <td>...</td>\n",
              "      <td>...</td>\n",
              "      <td>...</td>\n",
              "      <td>...</td>\n",
              "      <td>...</td>\n",
              "      <td>...</td>\n",
              "      <td>...</td>\n",
              "      <td>...</td>\n",
              "      <td>...</td>\n",
              "      <td>...</td>\n",
              "      <td>...</td>\n",
              "      <td>...</td>\n",
              "    </tr>\n",
              "    <tr>\n",
              "      <th>479371</th>\n",
              "      <td>8A0B3B755E6F7EF0</td>\n",
              "      <td>docked_bike</td>\n",
              "      <td>2020-12-04 11:56:13</td>\n",
              "      <td>2020-12-04 12:42:19</td>\n",
              "      <td>Jefferson Dr &amp; 14th St SW</td>\n",
              "      <td>31247.0</td>\n",
              "      <td>4th St &amp; Madison Dr NW</td>\n",
              "      <td>31288.0</td>\n",
              "      <td>38.888553</td>\n",
              "      <td>-77.032427</td>\n",
              "      <td>38.890496</td>\n",
              "      <td>-77.017247</td>\n",
              "      <td>casual</td>\n",
              "    </tr>\n",
              "    <tr>\n",
              "      <th>479372</th>\n",
              "      <td>A10ED3D50E5AB612</td>\n",
              "      <td>docked_bike</td>\n",
              "      <td>2020-12-12 13:49:55</td>\n",
              "      <td>2020-12-12 14:17:02</td>\n",
              "      <td>Jefferson Dr &amp; 14th St SW</td>\n",
              "      <td>31247.0</td>\n",
              "      <td>19th St &amp; Constitution Ave NW</td>\n",
              "      <td>31235.0</td>\n",
              "      <td>38.888553</td>\n",
              "      <td>-77.032427</td>\n",
              "      <td>38.892300</td>\n",
              "      <td>-77.043600</td>\n",
              "      <td>casual</td>\n",
              "    </tr>\n",
              "    <tr>\n",
              "      <th>479373</th>\n",
              "      <td>F146CC9669ABF5EC</td>\n",
              "      <td>docked_bike</td>\n",
              "      <td>2020-12-03 13:43:26</td>\n",
              "      <td>2020-12-03 14:06:11</td>\n",
              "      <td>Jefferson Dr &amp; 14th St SW</td>\n",
              "      <td>31247.0</td>\n",
              "      <td>4th St &amp; Madison Dr NW</td>\n",
              "      <td>31288.0</td>\n",
              "      <td>38.888553</td>\n",
              "      <td>-77.032427</td>\n",
              "      <td>38.890496</td>\n",
              "      <td>-77.017247</td>\n",
              "      <td>casual</td>\n",
              "    </tr>\n",
              "    <tr>\n",
              "      <th>479374</th>\n",
              "      <td>614005BC98FE93F7</td>\n",
              "      <td>docked_bike</td>\n",
              "      <td>2020-12-06 07:27:47</td>\n",
              "      <td>2020-12-06 08:03:46</td>\n",
              "      <td>Jefferson Dr &amp; 14th St SW</td>\n",
              "      <td>31247.0</td>\n",
              "      <td>19th St &amp; Constitution Ave NW</td>\n",
              "      <td>31235.0</td>\n",
              "      <td>38.888552</td>\n",
              "      <td>-77.032427</td>\n",
              "      <td>38.892300</td>\n",
              "      <td>-77.043600</td>\n",
              "      <td>casual</td>\n",
              "    </tr>\n",
              "    <tr>\n",
              "      <th>479375</th>\n",
              "      <td>86783BF38F4567FA</td>\n",
              "      <td>docked_bike</td>\n",
              "      <td>2020-12-21 13:46:01</td>\n",
              "      <td>2020-12-21 14:26:59</td>\n",
              "      <td>Jefferson Dr &amp; 14th St SW</td>\n",
              "      <td>31247.0</td>\n",
              "      <td>17th &amp; G St NW</td>\n",
              "      <td>31277.0</td>\n",
              "      <td>38.888553</td>\n",
              "      <td>-77.032427</td>\n",
              "      <td>38.898283</td>\n",
              "      <td>-77.039732</td>\n",
              "      <td>casual</td>\n",
              "    </tr>\n",
              "  </tbody>\n",
              "</table>\n",
              "<p>479376 rows × 13 columns</p>\n",
              "</div>"
            ],
            "text/plain": [
              "                 ride_id rideable_type  ...    end_lng member_casual\n",
              "0       4479E04D9D45AC6B   docked_bike  ... -76.987907        casual\n",
              "1       EF88DFBC1E6648EC   docked_bike  ... -77.011616        casual\n",
              "2       25812556961CFABD   docked_bike  ... -77.048728        casual\n",
              "3       1621384E51D38F1F   docked_bike  ... -77.002130        casual\n",
              "4       BC10B8C7848D1FDF   docked_bike  ... -77.038252        member\n",
              "...                  ...           ...  ...        ...           ...\n",
              "479371  8A0B3B755E6F7EF0   docked_bike  ... -77.017247        casual\n",
              "479372  A10ED3D50E5AB612   docked_bike  ... -77.043600        casual\n",
              "479373  F146CC9669ABF5EC   docked_bike  ... -77.017247        casual\n",
              "479374  614005BC98FE93F7   docked_bike  ... -77.043600        casual\n",
              "479375  86783BF38F4567FA   docked_bike  ... -77.039732        casual\n",
              "\n",
              "[479376 rows x 13 columns]"
            ]
          },
          "metadata": {
            "tags": []
          },
          "execution_count": 895
        }
      ]
    },
    {
      "cell_type": "code",
      "metadata": {
        "id": "Xna7nMZRmAfM",
        "colab": {
          "base_uri": "https://localhost:8080/"
        },
        "outputId": "8809feb3-6fd9-441f-cd5f-add674729b44"
      },
      "source": [
        "data['rideable_type'].value_counts()"
      ],
      "execution_count": 896,
      "outputs": [
        {
          "output_type": "execute_result",
          "data": {
            "text/plain": [
              "docked_bike      239688\n",
              "electric_bike    239688\n",
              "Name: rideable_type, dtype: int64"
            ]
          },
          "metadata": {
            "tags": []
          },
          "execution_count": 896
        }
      ]
    },
    {
      "cell_type": "code",
      "metadata": {
        "id": "7218u1uBovg3",
        "colab": {
          "base_uri": "https://localhost:8080/"
        },
        "outputId": "2eb8c232-193a-42e9-fabe-473bcad81ce2"
      },
      "source": [
        " #attributes in capitalbikeshare-tripdata dataset\n",
        " dt_column = data.columns\n",
        " print('Primary Fields in the Bike-Sharing Dataset')\n",
        " print(dt_column)"
      ],
      "execution_count": 897,
      "outputs": [
        {
          "output_type": "stream",
          "text": [
            "Primary Fields in the Bike-Sharing Dataset\n",
            "Index(['ride_id', 'rideable_type', 'started_at', 'ended_at',\n",
            "       'start_station_name', 'start_station_id', 'end_station_name',\n",
            "       'end_station_id', 'start_lat', 'start_lng', 'end_lat', 'end_lng',\n",
            "       'member_casual'],\n",
            "      dtype='object')\n"
          ],
          "name": "stdout"
        }
      ]
    },
    {
      "cell_type": "code",
      "metadata": {
        "id": "RkdnMSczownT",
        "colab": {
          "base_uri": "https://localhost:8080/"
        },
        "outputId": "9fbba187-edda-4295-ff16-f35546e067bc"
      },
      "source": [
        "#information for Bike-sharing dataset\n",
        "print(data.info())"
      ],
      "execution_count": 898,
      "outputs": [
        {
          "output_type": "stream",
          "text": [
            "<class 'pandas.core.frame.DataFrame'>\n",
            "RangeIndex: 479376 entries, 0 to 479375\n",
            "Data columns (total 13 columns):\n",
            " #   Column              Non-Null Count   Dtype  \n",
            "---  ------              --------------   -----  \n",
            " 0   ride_id             479376 non-null  object \n",
            " 1   rideable_type       479376 non-null  object \n",
            " 2   started_at          479376 non-null  object \n",
            " 3   ended_at            479376 non-null  object \n",
            " 4   start_station_name  401686 non-null  object \n",
            " 5   start_station_id    401686 non-null  float64\n",
            " 6   end_station_name    394701 non-null  object \n",
            " 7   end_station_id      394701 non-null  float64\n",
            " 8   start_lat           479376 non-null  float64\n",
            " 9   start_lng           479376 non-null  float64\n",
            " 10  end_lat             478235 non-null  float64\n",
            " 11  end_lng             478235 non-null  float64\n",
            " 12  member_casual       479376 non-null  object \n",
            "dtypes: float64(6), object(7)\n",
            "memory usage: 47.5+ MB\n",
            "None\n"
          ],
          "name": "stdout"
        }
      ]
    },
    {
      "cell_type": "code",
      "metadata": {
        "id": "f81_Rf_Doy4k",
        "colab": {
          "base_uri": "https://localhost:8080/"
        },
        "outputId": "90248c6a-4044-472c-d3ef-a4360721429e"
      },
      "source": [
        "#types of ride available\n",
        "ride_able_no = data['rideable_type'].unique()\n",
        "print(ride_able_no)\n",
        "print(len(ride_able_no))"
      ],
      "execution_count": 899,
      "outputs": [
        {
          "output_type": "stream",
          "text": [
            "['docked_bike' 'electric_bike']\n",
            "2\n"
          ],
          "name": "stdout"
        }
      ]
    },
    {
      "cell_type": "code",
      "metadata": {
        "id": "nDssUz-uo6go",
        "colab": {
          "base_uri": "https://localhost:8080/"
        },
        "outputId": "bc70dd0e-8a82-43f8-c093-6be25c63282f"
      },
      "source": [
        "#different start in dataset\n",
        "start_station_name_no = data['start_station_name'].unique()\n",
        "print(start_station_name_no)\n",
        "print('no. of start stations-')\n",
        "print(len(start_station_name_no))"
      ],
      "execution_count": 900,
      "outputs": [
        {
          "output_type": "stream",
          "text": [
            "[\"10th St & L'Enfant Plaza SW\" 'Constitution Ave & 2nd St NW/DOL'\n",
            " 'Friendship Hts Metro / Wisconsin Ave & Wisconsin Cir'\n",
            " 'John McCormack Rd NE' '16th & Irving St NW'\n",
            " 'California St & Florida Ave NW' '10th & E St NW' '14th & Newton St NW'\n",
            " '14th & Rhode Island Ave NW' 'Roosevelt Island' '10th & Monroe St NE'\n",
            " 'Lincoln Park / 13th & East Capitol St NE '\n",
            " 'Woodglen Dr & Executive Blvd' '18th & R St NW' 'D St & Maryland Ave NE'\n",
            " '34th & Water St NW' '24th & N St NW' '14th & Q St NW' 'Gravelly Point'\n",
            " 'Metro Center / 12th & G St NW' '17th St & Massachusetts Ave NW'\n",
            " 'Pershing Dr & N George Mason Dr' 'New Hampshire Ave & Ward Pl NW'\n",
            " '6th St & Indiana Ave NW' '14th & R St NW' 'Adams Mill & Columbia Rd NW'\n",
            " '11th & Kenyon St NW' '7th & K St NW' 'Columbus Circle / Union Station'\n",
            " '1st & Washington Hospital Center NW' 'Tanger Outlets'\n",
            " 'King St Metro North / Cameron St' 'Lincoln Memorial'\n",
            " '34th St & Wisconsin Ave NW'\n",
            " 'Ohio Dr & West Basin Dr SW / MLK & FDR Memorials' '15th & W St NW'\n",
            " '14th & D St NW / Ronald Reagan Building' '1st & M St NE'\n",
            " 'Jefferson Dr & 14th St SW' '1st & H St NW'\n",
            " '39th & Calvert St NW / Stoddert' '12th & U St NW'\n",
            " 'New Hampshire Ave & 24th St NW' '16th & Harvard St NW' '14th & V St NW'\n",
            " '2nd & G St NE' 'New Jersey Ave & F St NW' '14th & L St NW'\n",
            " 'Eckington Pl & Q St NE' '7th & E St SW' '5th St & Massachusetts Ave NW'\n",
            " '11th & Girard St NW' 'New Jersey Ave & N St NW/Dunbar HS'\n",
            " 'New Hampshire Ave & T St NW' '15th St & Constitution Ave NW'\n",
            " '3rd & D St SE' '24th & R St NE / National Arboretum'\n",
            " '19th St & Constitution Ave NW' 'Kingman Island/The Fields at RFK'\n",
            " 'Rosslyn Metro / Wilson Blvd & Ft Myer Dr' 'Crystal Dr & 15th St S'\n",
            " 'Potomac Ave & Half St SW' 'N Veitch St & Key Blvd'\n",
            " 'Calvert St & Woodley Pl NW' '4th & C St SW' 'Motivate BX Tech office'\n",
            " 'Florida Ave & R St NW' '17th & K St NW / Farragut Square'\n",
            " 'Park Rd & Holmead Pl NW' '4th & East Capitol St NE'\n",
            " 'Woodley Park Metro / Calvert St & Connecticut Ave NW' '11th & O St NW'\n",
            " 'Eads St & 12th St S' 'Army Navy Dr & S Joyce St' '13th & H St NE'\n",
            " '8th & D St NW' '17th & G St NW' '11th & C St SE' '4th & M St SW'\n",
            " 'M St & New Jersey Ave SE' '11th & M St NW' 'North Capitol St & F St NW'\n",
            " '7th & R St NW / Shaw Library' 'C & O Canal & Wisconsin Ave NW'\n",
            " '17th St & Independence Ave SW' 'Rhode Island Ave & V St NE'\n",
            " '13th & D St NE' '4th St & K St NW' 'Wisconsin Ave & Newark St NW'\n",
            " 'Bethesda Metro / Wisconsin Ave & Old Georgetown Rd'\n",
            " \"Prince George's Plaza Metro\" '7th & S St NW'\n",
            " 'Pentagon City Metro / 12th St & S Hayes St' 'M St & Pennsylvania Ave NW'\n",
            " '1st & O St NW' 'Court House Metro / 15th St & N Uhle St'\n",
            " 'Saint Asaph St & Madison St' 'Washington Blvd & 10th St N'\n",
            " '10th & K St NW' 'Eastern Market Metro / Pennsylvania Ave & 7th St SE'\n",
            " '5th & K St NW' '8th & O St NW' '3rd & H St NE'\n",
            " 'Arlington Blvd & Fillmore St' 'N Lynn St & Fairfax Dr' '23rd & M St NW'\n",
            " 'Massachusetts Ave & Dupont Circle NW' '4th St & Madison Dr NW'\n",
            " '14th St & Spring Rd NW' '8th & H St NE' '3rd St & Pennsylvania Ave SE'\n",
            " 'Pershing Dr & Wayne St' '10th & Florida Ave NW'\n",
            " 'Smithsonian-National Mall / Jefferson Dr & 12th St SW'\n",
            " '19th St & Pennsylvania Ave NW' 'Minnesota Ave Metro/DOES'\n",
            " '14th & Irving St NW' '15th & L St NW' 'Potomac & M St NW'\n",
            " '7th & F St NW / National Portrait Gallery'\n",
            " 'Harvard St & Adams Mill Rd NW' '28th St & S Meade St'\n",
            " 'Fleet St & Waterfront St' 'Columbia Rd & Georgia Ave NW'\n",
            " '19th & East Capitol St SE' '18th St & Wyoming Ave NW'\n",
            " 'Washington & Independence Ave SW/HHS' 'Castle Blvd & Castle Ln'\n",
            " '21st St & Pennsylvania Ave NW' 'Hains Point/Buckeye & Ohio Dr SW'\n",
            " '12th & Irving St NE' '1st & K St NE'\n",
            " 'Anacostia Ave & Benning Rd NE / River Terrace ' 'Union Market'\n",
            " 'Rhode Island Ave Metro' 'Lynn St & 19th St North' '15th & F St NE'\n",
            " 'Maine Ave & 9th St SW' 'Jefferson Memorial'\n",
            " 'Connecticut Ave & Newark St NW / Cleveland Park' 'Edgewood Rec Center'\n",
            " 'Maine Ave & 7th St SW' 'Van Ness Metro / UDC'\n",
            " 'Bethesda Ave & Arlington Rd' '2nd St & Massachusetts Ave NE'\n",
            " \"Independence Ave & L'Enfant Plaza SW/DOE\"\n",
            " 'Ballston Metro / Stuart St & 9th St N' '11th & F St NW'\n",
            " 'W Broad St & Little Falls St' '15th & M St NW'\n",
            " 'Wilson Blvd & N Quincy St' 'Merrilee Dr & Lauren Elizabeth Lane'\n",
            " '1st & M St SE' '17th & K St NW' 'Prince St & Union St'\n",
            " 'New York Ave & Hecht Ave NE' 'George Mason Dr & Wilson Blvd'\n",
            " '14th & Belmont St NW' '11th & Park Rd NW' '20th St & Florida Ave NW'\n",
            " 'Columbia Rd & Belmont St NW' 'Convention Center / 7th & M St NW'\n",
            " 'New Jersey Ave & R St NW' '22nd St & Constitution Ave NW'\n",
            " '25th St & Pennsylvania Ave NW' '21st & I St NW' '15th & P St NW'\n",
            " '15th & East Capitol St NE' 'Columbia & Ontario Rd NW'\n",
            " '3rd & Tingey St SE' 'Rockville Pike & Meeting St' '4th & M St SE'\n",
            " 'Gallaudet / 8th St & Florida Ave NE' 'Ballenger Ave & Dulaney St'\n",
            " '8th & H St NW' '37th & O St NW / Georgetown University'\n",
            " 'Tenleytown / Wisconsin Ave & Albemarle St NW' '19th & G St NW'\n",
            " 'Connecticut Ave & McKinley St NW' \"L'Enfant Plaza / 7th & C St SW\"\n",
            " '1st & N St  SE' '3rd & M St NE' '13th & E St SE' '47th & Elm St'\n",
            " '18th & C St NW' 'Woodmont Ave & Strathmore St' '1st & D St SE'\n",
            " 'Henry Bacon Dr & Lincoln Memorial Circle NW' '18th & M St NW'\n",
            " 'Baltimore Ave & Van Buren St / Riverdale Park Station'\n",
            " 'Spring Hill Metro' 'Reston Town Center Transit Station'\n",
            " 'Commonwealth Ave & Oak St' '7th St & Massachusetts Ave NE'\n",
            " '12th & L St NW' '1st & K St SE' '16th & R St NW'\n",
            " 'Massachusetts Ave & 6th St NE' '8th & Eye St SE / Barracks Row'\n",
            " 'Anacostia Park' 'Wisconsin Ave & O St NW'\n",
            " 'Potomac & Pennsylvania Ave SE' 'Georgia & New Hampshire Ave NW'\n",
            " 'N. Beauregard St. & Berkley St.' '20th St & Virginia Ave NW'\n",
            " 'Wilson Blvd & N Illinois St ' 'Lamont & Mt Pleasant NW'\n",
            " 'Congressional Ln & E Jefferson St' '3rd St & Riggs Rd NE'\n",
            " '14th & Girard St NW' '15th & K St NW' 'Maryland Ave & E St NE'\n",
            " 'Iwo Jima Memorial / Meade & 14th St N'\n",
            " '4th & D St NW / Judiciary Square' 'Georgetown Harbor / 30th St NW'\n",
            " 'Oklahoma Ave & D St NE' '20th & L St NW' 'Potomac Ave & Swann Ave'\n",
            " 'Merrifield Cinema & Merrifield Town Center' '8th & East Capitol St NE'\n",
            " 'Grant Circle' 'Rhode Island & Connecticut Ave NW' '4th & W St NE'\n",
            " 'S Glebe Rd & Potomac Ave' '15th St & Pennsylvania Ave NW'\n",
            " '13th St & New York Ave NW' '14th & G St NW' 'Potomac Ave & 8th St SE'\n",
            " '3rd & H St NW' 'American University East Campus'\n",
            " 'Mount Vernon Ave & Kennedy St' '20th & E St NW'\n",
            " 'Georgia & Missouri Ave NW' '14th & Upshur St NW'\n",
            " '22nd & I St NW / Foggy Bottom'\n",
            " '1301 McCormick Dr / Wayne K. Curry Admin Bldg' '8th & K St NE'\n",
            " 'Kennebec St & 11th St N' '14th St & Colorado Ave NW'\n",
            " '18th & New Hampshire Ave NW' 'Eads St & 15th St S' '10th & G St NW'\n",
            " '11th & S St NW' '31st St & S Woodrow St'\n",
            " 'Nannie Helen Burroughs Ave & 49th St NE' '4th & E St SW'\n",
            " 'Lee Hwy & N Adams St' 'Neal St & Trinidad Ave NE'\n",
            " 'Mount Vernon Ave & E Nelson Ave' 'Fairfax Dr & N Randolph St'\n",
            " 'Eastern Market / 7th & North Carolina Ave SE'\n",
            " 'Arlington Blvd & S George Mason Dr' '19th & K St NW'\n",
            " '15th St & Massachusetts Ave SE' 'Wilson Blvd & N Edgewood St'\n",
            " '36th & Calvert St NW / Glover Park' '18th & L St NW'\n",
            " 'Potomac Ave & Main Line Blvd' 'Rhode Island & Montana Ave NE'\n",
            " 'Wilson Blvd & N Uhle St' 'Crystal Dr & 23rd St S'\n",
            " 'Key Blvd & N Quinn St' 'Rhodes St & 16th St N'\n",
            " 'Clarendon Blvd & Pierce St' '14th & Harvard St NW'\n",
            " '17th & Corcoran St NW' '23rd & E St NW ' 'GMU / Fairfax Dr & Kenmore St'\n",
            " 'Connecticut Ave & Tilden St NW'\n",
            " 'Alabama Ave & Stanton Rd SE / Shops at Park Village'\n",
            " 'Reservoir Rd & 38th St NW' '1st & Rhode Island Ave NW'\n",
            " '12th St & Pennsylvania Ave SE' 'N Pitt & Wythe St'\n",
            " '18th St & Pennsylvania Ave NW' 'Columbia Pike & S Orme St'\n",
            " 'Virginia Square Metro / Monroe St & 9th St N'\n",
            " '20th & O St NW / Dupont South' 'Lee Hwy & N Cleveland St'\n",
            " '31st & Water St NW' 'River Rd & Landy Ln' '22nd & H St NW'\n",
            " 'Kansas Ave & Sherman Cr NW' 'USDA / 12th & C St SW'\n",
            " 'Norfolk Ave & Fairmont St' 'Glebe Rd & 11th St N'\n",
            " 'Arlington Blvd & N Queen St' '11th & H St NE' 'McLean Metro'\n",
            " 'King St Metro South' '14th & Otis Pl NW' '21st St & N Pierce St'\n",
            " '5th & Kennedy St NW' '22nd & P ST NW' 'Georgia Ave & Morton St NW'\n",
            " 'Arlington Mill Cmty Center / Columbia Pike & S Dinwiddie St'\n",
            " '2nd St & Seaton Pl NE' 'Wisconsin Ave & Brandywine St NW'\n",
            " 'Deanwood Rec Center' '3rd & G St SE' 'Thomas Circle'\n",
            " 'Wilson Blvd & N Franklin Rd' 'Baltimore Ave & Jefferson St'\n",
            " '5th & F St NW' 'Chillum Rd & Riggs Rd / Riggs Plaza'\n",
            " '3000 Connecticut Ave NW / National Zoo'\n",
            " 'Lincoln Rd & Seaton Pl NE/Harry Thomas Rec Center' 'Dunn Loring Metro'\n",
            " '8th & F St NE' '6th & H St NE' 'Lee Hwy & N Kirkwood Rd'\n",
            " 'New York Ave & 15th St NW' 'Madison St & Fairfax St'\n",
            " 'Connecticut Ave & R St NW' 'Vermont Ave & I St NW'\n",
            " 'Key West Ave & Diamondback Dr' 'Kennedy Center' 'Braddock Rd Metro'\n",
            " 'Clarendon Metro / Wilson Blvd & N Highland St' '14th & D St SE'\n",
            " 'Clarendon Blvd & N Fillmore St' '15th & Euclid St  NW'\n",
            " 'West Hyattsville Metro' 'Central Library / Quincy St & 10th St N'\n",
            " 'Madison St & N Henry St' 'Minnesota Ave & R St SE' 'Hamlin & 7th St NE'\n",
            " '14th St & New York Ave NW' 'Montello Ave & Holbrook Terr NE'\n",
            " 'Silver Spring Transit Center - Top Level' 'Maryland Ave & 17th St NE'\n",
            " 'Mount Vernon Ave & Four Mile Run Park'\n",
            " 'Mt Vernon Trail & S. Washington St.' 'Lee Hwy & N Woodstock St'\n",
            " 'Crystal City Metro / 18th St & S Bell St' 'Eads St & 22nd St S'\n",
            " '10th & U St NW' 'Randle Circle & Minnesota Ave SE' '19th & E Street NW'\n",
            " 'N Veitch St & 20th St N' '21st St & Constitution Ave NW'\n",
            " 'Connecticut Ave & Yuma St NW' 'Four Mile Run Dr & S Walter Reed Dr'\n",
            " '7th & T St NW' '3rd & Elm St NW' 'North Capitol St & G Pl NE'\n",
            " 'North Capitol & R St NE' 'Mount Vernon Ave & Bruce St'\n",
            " 'Veterans Pl & Pershing Dr ' 'Columbia Pike & S Courthouse Rd'\n",
            " 'Columbia Pike & S Walter Reed Dr' 'National Harbor Carousel'\n",
            " '18th St & Rhode Island Ave NE' '10th St & Constitution Ave NW'\n",
            " 'Connecticut & Nebraska Ave NW' 'Virginia Ave & 25th St NW'\n",
            " 'Pooks Hill Rd & Linden Ave' 'Columbia Pike & S Taylor St'\n",
            " 'Good Hope Rd & MLK Ave SE' '39th & Veazey St NW'\n",
            " 'E Montgomery Ave & Maryland Ave' 'Queens Chapel & Hamilton St'\n",
            " 'Good Hope & Naylor Rd SE' 'Old Georgetown Rd & Southwick St'\n",
            " 'Stewart Ln & Old Columbia Pike' 'Capitol Ave & Kendall St NE'\n",
            " 'King Farm Blvd & Pleasant Dr' 'Battery Ln & Trolley Trail'\n",
            " 'Wilson Blvd & N Troy St' 'Georgia Ave and Fairmont St NW'\n",
            " '18th St & S Eads St' 'Utah St & 11th St N' 'Calvert & Biltmore St NW'\n",
            " 'Clark St & 26th St S' 'Lee Hwy & N Scott St'\n",
            " 'US Dept of State / Virginia Ave & 21st St NW'\n",
            " 'Barcroft Community Center' 'Crystal Dr & 20th St S'\n",
            " 'Crystal Dr & Potomac Ave' 'Eisenhower Ave & Mill Race Ln'\n",
            " 'Cordell & Norfolk Ave' '18th & Monroe St NE' 'Potomac Ave & 35th St S'\n",
            " 'S Arlington Mill Dr & Campbell Ave' '17th & Upshur St NW'\n",
            " 'Oklahoma Ave & Benning Rd NE' '6th & K St NE'\n",
            " 'Falls Church City Hall / Park Ave & Little Falls St'\n",
            " 'Connecticut Ave & Chevy Chase Lake Dr' 'Trinidad Rec Center'\n",
            " 'Yuma St & Tenley Circle NW' 'Anacostia Metro' '15th St & N Scott St'\n",
            " 'King St & Patrick St'\n",
            " 'Shirlington Transit Center / Quincy St & Randolph St'\n",
            " 'N Quincy St & Glebe Rd' 'Fenton St & Gist Ave' 'Rosedale Rec Center'\n",
            " 'Fairfax Dr & Wilson Blvd'\n",
            " 'Silver Spring Metro / Colesville Rd & Wayne Ave' 'Fairfax Village'\n",
            " 'Franklin St & S Washington St' 'Pennsylvania Ave & Park Ave'\n",
            " 'Westpark Dr & Leesburg Pike' 'New Hampshire & Gallatin St NW'\n",
            " 'Livingston Rd & 3rd St SE' 'WAU / Flower Ave & Division St'\n",
            " 'Kenilworth Terrace & Hayes St. NE'\n",
            " 'TJ Cmty Ctr / 2nd St & S Old Glebe Rd' 'Pleasant St & MLK Ave SE'\n",
            " 'Market Square / King St & Royal St'\n",
            " 'Long Bridge Park / Long Bridge Dr & 6th St S'\n",
            " 'The Mall at Prince Georges' 'Wisconsin Ave & Ingomar St NW'\n",
            " 'East West Hwy & Blair Mill Rd' 'Friendship Blvd & Willard Ave'\n",
            " 'Fort Stanton Rec Center' 'Fishers Ln & Rock Creek Mill Rd'\n",
            " 'Benning Rd & East Capitol St NE / Benning Rd Metro'\n",
            " 'Ward Circle / American University' 'Washington Blvd & Walter Reed Dr '\n",
            " 'Rolfe St & 9th St S' 'Wilson Blvd. & N. Vermont St.'\n",
            " 'Frederick Ave & Horners Ln' '9th & Upshur St NW'\n",
            " 'Georgia Ave & Kennedy St NW' 'Fort Totten Metro'\n",
            " 'Sunset Hills & Old Reston Ave' 'Dennis Ave & Amherst Ave'\n",
            " 'Georgia Ave & Emerson St NW' '48th Pl & MacArthur Blvd NW'\n",
            " 'Westpark & Jones Branch Dr' 'Half & Water St SW' '14th & Luzon St NW'\n",
            " 'Monroe Ave & Leslie Ave' 'Northwestern High School'\n",
            " 'Takoma Park Rec Center' 'Army Navy Dr & S Nash St' 'Twinbrook Metro'\n",
            " 'Joyce St & 16th St S' 'Oxon Hill Park & Ride' '19th & Savannah St SE'\n",
            " 'Good Hope Rd & 14th St SE' 'Riverdale Park Town Center'\n",
            " 'S Maple Ave & S Washington St' 'Vy Reston Heights' 'Stewart & April'\n",
            " '16th & Q St SE / Anacostia HS' 'Duke St & John Carlyle St'\n",
            " 'Offutt Ln & Chevy Chase Dr' 'Fallsgrove Blvd & Fallsgrove Dr'\n",
            " '4th St & Mississippi Ave SE' 'Fenton St & New York Ave '\n",
            " 'John McCormack Dr & Michigan Ave NE' 'Windham Ln & Amherst Ave'\n",
            " 'N Oak St & W Broad St' 'The Shoppes @ Burnt Mills'\n",
            " 'Commerce St & Fayette St' 'Wakefield High School'\n",
            " 'Washington Blvd & N Frederick St' 'Saint Asaph St & Pendleton  St'\n",
            " 'Kenmore St & 24th St S' 'South Capitol & Atlantic St SW' 'Takoma Metro'\n",
            " 'Georgia Ave & Spring St' 'Fessenden St & Wisconsin Ave NW'\n",
            " 'W Columbia St & N Washington St' 'King Greenleaf Rec Center'\n",
            " 'Reston YMCA' 'Troy St & 26th St S' 'Maple & Ritchie Ave'\n",
            " 'Rockville Metro West' 'Hardy Rec Center' 'Powhatan St & Bashford Ln'\n",
            " 'New Hampshire Ave & East-West Hwy' '12th & Newton St NE'\n",
            " 'Key West Ave & Great Seneca Hwy' 'Georgia Ave & Piney Branch Rd NW'\n",
            " 'Royal St & Wilkes St' 'Perry & 35th St'\n",
            " 'Pennsylvania & Minnesota Ave SE' 'Bladensburg Rd & Benning Rd NE'\n",
            " 'Division Ave & Foote St NE' 'Fenton St & Ellsworth Dr '\n",
            " 'Eisenhower Ave & Ike Dr' 'White Flint Metro'\n",
            " 'Jones Branch Drive & Scotts Crossing Rd' 'Henry St & Pendleton St'\n",
            " 'Shady Grove Metro East' 'Montgomery Ave & Waverly St '\n",
            " '14th St Heights / 14th & Crittenden St NW'\n",
            " 'N Roosevelt St & Roosevelt Blvd' 'Sunset Hills Rd & Isaac Newton Square'\n",
            " 'Riggs Rd & East West Hwy' 'Spring St & 2nd Ave' 'Crystal Dr & 27th St S'\n",
            " 'Mount Vernon Ave & E Del Ray Ave' 'Carlin Springs Rd & N Thomas St'\n",
            " 'Wheaton Library & Community Rec Center'\n",
            " \"Largo Rd & Campus Way / Prince Georges's Comm Col\"\n",
            " 'Congress Heights Metro' 'Washington Blvd & 7th St N'\n",
            " 'Branch & Pennsylvania Ave SE' 'Anacostia Library'\n",
            " 'Radford St & Osage St' 'Barton St & 10th St N'\n",
            " '1st & S Capitol St SE / Oxon Run Trail'\n",
            " 'Aurora Hills Cmty Ctr / 18th St & S Hayes St'\n",
            " 'Lyttonsville Rd & Lyttonsville Pl'\n",
            " 'Washington-Liberty High School / N Stafford St & Generals Way'\n",
            " 'Columbus Ave & Gramercy Blvd' 'Amherst Ave & Elkins St'\n",
            " 'Carroll & Westmoreland Ave' 'Norfolk & Rugby Ave'\n",
            " 'East Falls Church Metro / Sycamore St & 19th St N'\n",
            " 'Key West Ave & Siesta Key Way' 'East West Hwy & 16th St'\n",
            " 'Needwood Rd & Eagles Head Ct'\n",
            " 'Nannie Helen Burroughs & Minnesota Ave NE' 'Carroll & Ethan Allen Ave'\n",
            " 'Town Center Pkwy & Sunset Hills Rd' 'New Dominion Pkwy & Fountain Dr'\n",
            " 'E Fairfax St & S Washington St' 'Four Mile Run Dr & S Shirlington Rd'\n",
            " 'Columbia Pike & S Oakland St' 'Mississippi Ave & 19th St SE / THEARC'\n",
            " 'Ridge Rd Community Center' 'Benning Branch Library'\n",
            " 'S George Mason & Four Mile Run Dr' 'Wiehle Ave & Reston Station Blvd'\n",
            " 'Wheaton Metro / Georgia Ave & Reedie Dr' 'Lee Hwy & N Monroe St'\n",
            " 'Potomac Greens Dr & Slaters Ln' 'Executive Blvd & E Jefferson St'\n",
            " 'Briggs Chaney Park & Ride' 'Sunset Hills Rd & Discovery Square'\n",
            " 'Rhode Island Ave & 39th St / Brentwood Arts Exchange'\n",
            " '3rd & Underwood St NW' 'State Theatre / Park Pl & N Washington St'\n",
            " 'Citadel Ave & McGrath Blvd' 'Tysons One Pl & Chain Bridge Rd'\n",
            " 'Walter Reed Dr & 8th St S' 'Montgomery & East Ln'\n",
            " 'Valley Ave & Wheeler Rd SE'\n",
            " 'Westover Library / Washington Blvd & N McKinley Rd'\n",
            " 'George Mason High School / Haycock Rd & Leesburg Pike'\n",
            " 'Capitol Heights Metro' 'Commonwealth Ave & E Monroe Ave'\n",
            " 'Medical Center Metro ' 'Traville Gateway Dr & Gudelsky Dr'\n",
            " 'Shady Grove Hospital' 'Sligo Ave & Carroll Ln' 'Monroe St & Monroe Pl'\n",
            " 'Philadelphia & Maple Ave' 'Alabama & MLK Ave SE'\n",
            " 'North Shore Dr & Village Rd' 'Tysons Corner Station'\n",
            " 'Southern Ave Metro' 'Library St & Freedom Dr' 'Stanton Square SE'\n",
            " 'Garland Ave & Walden Rd' 'Corporate Blvd & Omega Dr'\n",
            " '13th St & Eastern Ave' 'Fallsgrove Dr & W Montgomery Ave'\n",
            " 'Briggs Chaney & Castle Dr' 'Amherst Ave & Prichard Rd'\n",
            " 'Wheeler Ave & S. Floyd St.' 'New Hampshire & Lockwood'\n",
            " 'Temporary Rd & Old Reston Ave'\n",
            " 'Hyattsville Library / Adelphi Rd & Toledo Rd' '37th & Ely Pl SE'\n",
            " 'King Farm Blvd & Piccard Dr' 'Reston Regional Library' 'Campus Commons'\n",
            " 'Rockville Pike & Old Georgetown Rd' 'Greensboro & International Dr'\n",
            " 'Park Run & Onyx Dr' '61st St & Banks Pl NE' 'Lee Center'\n",
            " 'Westpark & Park Run Dr' 'Rockville Metro East'\n",
            " 'Town Center Pkwy & Bowman Towne Dr' 'White Oak Rec Center'\n",
            " 'Jones Branch & Westbranch Dr' 'White Oak Transit Center'\n",
            " 'Greensboro & Pinnacle Dr' 'Oak Leaf & Lockwood'\n",
            " 'Grandview & Blueridge Ave' 'Piccard & W Gude Dr'\n",
            " 'Fleet St & Ritchie Pkwy' 'Largo Town Center Metro'\n",
            " 'Montgomery College / W Campus Dr & Mannakee St' 'United Medical Center'\n",
            " 'Shady Grove Metro West'\n",
            " 'North Shore & Cameron Crescent Dr/Crescent Apartments' nan\n",
            " 'West Falls Church Metro' 'New Hampshire & Kirklynn Ave'\n",
            " 'Oglethorpe St & 42nd Ave' 'Blueridge Ave & Elkin St'\n",
            " 'Towers Crescent Dr & Tysons One Pl'\n",
            " 'Joliet St & MLK Ave SW/Bald Eagle Rec Ctr' '13th & U St NW'\n",
            " 'Stadium Armory Metro' 'Broadbranch & Northampton NW'\n",
            " 'Broad Branch Rd & Northampton St NW' 'Tysons West Transit Center'\n",
            " 'St Asaph & Pendleton St' 'Medical Center Dr & Key West Ave'\n",
            " '6035 Warehouse' 'Reston Pkwy & Spectrum Dr' 'St. Asaph & Montgomery St'\n",
            " 'Duke St & Strand (Robinson Terminal)'\n",
            " 'Eastern Market Metro / Pennsylvania Ave & 8th St SE' '4th St & G St SW'\n",
            " '21st St & G st NW' 'Kansas Ave & Longfellow St NW'\n",
            " '1st St & Potomac Ave SE' '2nd & V St SW / James Creek Marina'\n",
            " 'Ft Myer Dr & Arlington Blvd' 'Wilson Blvd & N Oak St' 'National Airport'\n",
            " '23rd St S & Hayes St' 'Wilson Blvd & Oak st'\n",
            " 'Arlington Blvd & Fairfax Dr' 'Fern St & Army Navy Dr']\n",
            "no. of start stations-\n",
            "626\n"
          ],
          "name": "stdout"
        }
      ]
    },
    {
      "cell_type": "code",
      "metadata": {
        "id": "9SAF8QDXpJxY",
        "colab": {
          "base_uri": "https://localhost:8080/"
        },
        "outputId": "f764ab43-6a0e-42dd-a8d9-1fb0e725ffbd"
      },
      "source": [
        "# different start station ID \n",
        "start_station_id_no = data['start_station_id'].unique()\n",
        "print(start_station_id_no)\n",
        "print('no. of start stations id-')\n",
        "print(len(start_station_id_no))"
      ],
      "execution_count": 901,
      "outputs": [
        {
          "output_type": "stream",
          "text": [
            "[31287. 31271. 32014. ... 31938. 31940. 31936.]\n",
            "no. of start stations id-\n",
            "1207\n"
          ],
          "name": "stdout"
        }
      ]
    },
    {
      "cell_type": "code",
      "metadata": {
        "id": "GEZ43K71p0H0",
        "colab": {
          "base_uri": "https://localhost:8080/"
        },
        "outputId": "15738a21-d1fd-4ed9-aa0c-e8a40419efba"
      },
      "source": [
        "#type of member in dataset \n",
        "member_casual_no = data['member_casual'].unique()\n",
        "print(member_casual_no)\n",
        "print('no. of member_casual-')\n",
        "print(len(member_casual_no))"
      ],
      "execution_count": 902,
      "outputs": [
        {
          "output_type": "stream",
          "text": [
            "['casual' 'member']\n",
            "no. of member_casual-\n",
            "2\n"
          ],
          "name": "stdout"
        }
      ]
    },
    {
      "cell_type": "code",
      "metadata": {
        "id": "gXB5IbLOqudm",
        "colab": {
          "base_uri": "https://localhost:8080/"
        },
        "outputId": "91ce5395-f107-435a-87e8-6f70cc6b501d"
      },
      "source": [
        "#different between start ride and end ride to calculate travel time\n",
        "difference_in_ride = ( pd.to_datetime(data['ended_at']) -  pd.to_datetime(data['started_at'])) \n",
        "print(difference_in_ride[1].seconds)\n",
        "print(difference_in_ride)"
      ],
      "execution_count": 903,
      "outputs": [
        {
          "output_type": "stream",
          "text": [
            "287\n",
            "0        0 days 00:20:23\n",
            "1        0 days 00:04:47\n",
            "2        0 days 00:38:58\n",
            "3        0 days 00:13:53\n",
            "4        0 days 00:08:33\n",
            "               ...      \n",
            "479371   0 days 00:46:06\n",
            "479372   0 days 00:27:07\n",
            "479373   0 days 00:22:45\n",
            "479374   0 days 00:35:59\n",
            "479375   0 days 00:40:58\n",
            "Length: 479376, dtype: timedelta64[ns]\n"
          ],
          "name": "stdout"
        }
      ]
    },
    {
      "cell_type": "code",
      "metadata": {
        "id": "r7F-MetPnIri",
        "colab": {
          "base_uri": "https://localhost:8080/"
        },
        "outputId": "7321dc34-4d5a-4a8a-ca7f-6cd1ffb2a1ca"
      },
      "source": [
        "data['rideable_type'].value_counts()"
      ],
      "execution_count": 904,
      "outputs": [
        {
          "output_type": "execute_result",
          "data": {
            "text/plain": [
              "docked_bike      239688\n",
              "electric_bike    239688\n",
              "Name: rideable_type, dtype: int64"
            ]
          },
          "metadata": {
            "tags": []
          },
          "execution_count": 904
        }
      ]
    },
    {
      "cell_type": "code",
      "metadata": {
        "id": "6aK3GNwyrAYV",
        "colab": {
          "base_uri": "https://localhost:8080/"
        },
        "outputId": "d1c58e6b-f59f-42bd-b45d-aac944118d17"
      },
      "source": [
        "#dropped the null values\n",
        "data.dropna(subset = [\"start_station_name\",\"end_station_name\"], inplace=False)\n",
        "data['rideable_type'].value_counts() "
      ],
      "execution_count": 905,
      "outputs": [
        {
          "output_type": "execute_result",
          "data": {
            "text/plain": [
              "docked_bike      239688\n",
              "electric_bike    239688\n",
              "Name: rideable_type, dtype: int64"
            ]
          },
          "metadata": {
            "tags": []
          },
          "execution_count": 905
        }
      ]
    },
    {
      "cell_type": "code",
      "metadata": {
        "colab": {
          "base_uri": "https://localhost:8080/",
          "height": 773
        },
        "id": "1AyeGs7ebplq",
        "outputId": "70486f41-4f2e-4bea-95ff-af8958e10fd0"
      },
      "source": [
        "data"
      ],
      "execution_count": 906,
      "outputs": [
        {
          "output_type": "execute_result",
          "data": {
            "text/html": [
              "<div>\n",
              "<style scoped>\n",
              "    .dataframe tbody tr th:only-of-type {\n",
              "        vertical-align: middle;\n",
              "    }\n",
              "\n",
              "    .dataframe tbody tr th {\n",
              "        vertical-align: top;\n",
              "    }\n",
              "\n",
              "    .dataframe thead th {\n",
              "        text-align: right;\n",
              "    }\n",
              "</style>\n",
              "<table border=\"1\" class=\"dataframe\">\n",
              "  <thead>\n",
              "    <tr style=\"text-align: right;\">\n",
              "      <th></th>\n",
              "      <th>ride_id</th>\n",
              "      <th>rideable_type</th>\n",
              "      <th>started_at</th>\n",
              "      <th>ended_at</th>\n",
              "      <th>start_station_name</th>\n",
              "      <th>start_station_id</th>\n",
              "      <th>end_station_name</th>\n",
              "      <th>end_station_id</th>\n",
              "      <th>start_lat</th>\n",
              "      <th>start_lng</th>\n",
              "      <th>end_lat</th>\n",
              "      <th>end_lng</th>\n",
              "      <th>member_casual</th>\n",
              "    </tr>\n",
              "  </thead>\n",
              "  <tbody>\n",
              "    <tr>\n",
              "      <th>0</th>\n",
              "      <td>4479E04D9D45AC6B</td>\n",
              "      <td>docked_bike</td>\n",
              "      <td>2020-08-22 17:09:39</td>\n",
              "      <td>2020-08-22 17:30:02</td>\n",
              "      <td>10th St &amp; L'Enfant Plaza SW</td>\n",
              "      <td>31287.0</td>\n",
              "      <td>13th &amp; E St SE</td>\n",
              "      <td>31607.0</td>\n",
              "      <td>38.884323</td>\n",
              "      <td>-77.026010</td>\n",
              "      <td>38.882915</td>\n",
              "      <td>-76.987907</td>\n",
              "      <td>casual</td>\n",
              "    </tr>\n",
              "    <tr>\n",
              "      <th>1</th>\n",
              "      <td>EF88DFBC1E6648EC</td>\n",
              "      <td>docked_bike</td>\n",
              "      <td>2020-08-26 13:13:54</td>\n",
              "      <td>2020-08-26 13:18:41</td>\n",
              "      <td>Constitution Ave &amp; 2nd St NW/DOL</td>\n",
              "      <td>31271.0</td>\n",
              "      <td>New Jersey Ave &amp; F St NW</td>\n",
              "      <td>31655.0</td>\n",
              "      <td>38.892275</td>\n",
              "      <td>-77.013917</td>\n",
              "      <td>38.897108</td>\n",
              "      <td>-77.011616</td>\n",
              "      <td>casual</td>\n",
              "    </tr>\n",
              "    <tr>\n",
              "      <th>2</th>\n",
              "      <td>25812556961CFABD</td>\n",
              "      <td>docked_bike</td>\n",
              "      <td>2020-08-07 16:34:41</td>\n",
              "      <td>2020-08-07 17:13:39</td>\n",
              "      <td>Friendship Hts Metro / Wisconsin Ave &amp; Wiscons...</td>\n",
              "      <td>32014.0</td>\n",
              "      <td>22nd &amp; P ST NW</td>\n",
              "      <td>31285.0</td>\n",
              "      <td>38.961763</td>\n",
              "      <td>-77.085998</td>\n",
              "      <td>38.909394</td>\n",
              "      <td>-77.048728</td>\n",
              "      <td>casual</td>\n",
              "    </tr>\n",
              "    <tr>\n",
              "      <th>3</th>\n",
              "      <td>1621384E51D38F1F</td>\n",
              "      <td>docked_bike</td>\n",
              "      <td>2020-08-07 20:32:05</td>\n",
              "      <td>2020-08-07 20:45:58</td>\n",
              "      <td>John McCormack Rd NE</td>\n",
              "      <td>31528.0</td>\n",
              "      <td>3rd &amp; M St NE</td>\n",
              "      <td>31627.0</td>\n",
              "      <td>38.938889</td>\n",
              "      <td>-76.997226</td>\n",
              "      <td>38.905470</td>\n",
              "      <td>-77.002130</td>\n",
              "      <td>casual</td>\n",
              "    </tr>\n",
              "    <tr>\n",
              "      <th>4</th>\n",
              "      <td>BC10B8C7848D1FDF</td>\n",
              "      <td>docked_bike</td>\n",
              "      <td>2020-08-18 13:40:34</td>\n",
              "      <td>2020-08-18 13:49:07</td>\n",
              "      <td>16th &amp; Irving St NW</td>\n",
              "      <td>31122.0</td>\n",
              "      <td>New Hampshire Ave &amp; T St NW</td>\n",
              "      <td>31229.0</td>\n",
              "      <td>38.928893</td>\n",
              "      <td>-77.036250</td>\n",
              "      <td>38.915544</td>\n",
              "      <td>-77.038252</td>\n",
              "      <td>member</td>\n",
              "    </tr>\n",
              "    <tr>\n",
              "      <th>...</th>\n",
              "      <td>...</td>\n",
              "      <td>...</td>\n",
              "      <td>...</td>\n",
              "      <td>...</td>\n",
              "      <td>...</td>\n",
              "      <td>...</td>\n",
              "      <td>...</td>\n",
              "      <td>...</td>\n",
              "      <td>...</td>\n",
              "      <td>...</td>\n",
              "      <td>...</td>\n",
              "      <td>...</td>\n",
              "      <td>...</td>\n",
              "    </tr>\n",
              "    <tr>\n",
              "      <th>479371</th>\n",
              "      <td>8A0B3B755E6F7EF0</td>\n",
              "      <td>docked_bike</td>\n",
              "      <td>2020-12-04 11:56:13</td>\n",
              "      <td>2020-12-04 12:42:19</td>\n",
              "      <td>Jefferson Dr &amp; 14th St SW</td>\n",
              "      <td>31247.0</td>\n",
              "      <td>4th St &amp; Madison Dr NW</td>\n",
              "      <td>31288.0</td>\n",
              "      <td>38.888553</td>\n",
              "      <td>-77.032427</td>\n",
              "      <td>38.890496</td>\n",
              "      <td>-77.017247</td>\n",
              "      <td>casual</td>\n",
              "    </tr>\n",
              "    <tr>\n",
              "      <th>479372</th>\n",
              "      <td>A10ED3D50E5AB612</td>\n",
              "      <td>docked_bike</td>\n",
              "      <td>2020-12-12 13:49:55</td>\n",
              "      <td>2020-12-12 14:17:02</td>\n",
              "      <td>Jefferson Dr &amp; 14th St SW</td>\n",
              "      <td>31247.0</td>\n",
              "      <td>19th St &amp; Constitution Ave NW</td>\n",
              "      <td>31235.0</td>\n",
              "      <td>38.888553</td>\n",
              "      <td>-77.032427</td>\n",
              "      <td>38.892300</td>\n",
              "      <td>-77.043600</td>\n",
              "      <td>casual</td>\n",
              "    </tr>\n",
              "    <tr>\n",
              "      <th>479373</th>\n",
              "      <td>F146CC9669ABF5EC</td>\n",
              "      <td>docked_bike</td>\n",
              "      <td>2020-12-03 13:43:26</td>\n",
              "      <td>2020-12-03 14:06:11</td>\n",
              "      <td>Jefferson Dr &amp; 14th St SW</td>\n",
              "      <td>31247.0</td>\n",
              "      <td>4th St &amp; Madison Dr NW</td>\n",
              "      <td>31288.0</td>\n",
              "      <td>38.888553</td>\n",
              "      <td>-77.032427</td>\n",
              "      <td>38.890496</td>\n",
              "      <td>-77.017247</td>\n",
              "      <td>casual</td>\n",
              "    </tr>\n",
              "    <tr>\n",
              "      <th>479374</th>\n",
              "      <td>614005BC98FE93F7</td>\n",
              "      <td>docked_bike</td>\n",
              "      <td>2020-12-06 07:27:47</td>\n",
              "      <td>2020-12-06 08:03:46</td>\n",
              "      <td>Jefferson Dr &amp; 14th St SW</td>\n",
              "      <td>31247.0</td>\n",
              "      <td>19th St &amp; Constitution Ave NW</td>\n",
              "      <td>31235.0</td>\n",
              "      <td>38.888552</td>\n",
              "      <td>-77.032427</td>\n",
              "      <td>38.892300</td>\n",
              "      <td>-77.043600</td>\n",
              "      <td>casual</td>\n",
              "    </tr>\n",
              "    <tr>\n",
              "      <th>479375</th>\n",
              "      <td>86783BF38F4567FA</td>\n",
              "      <td>docked_bike</td>\n",
              "      <td>2020-12-21 13:46:01</td>\n",
              "      <td>2020-12-21 14:26:59</td>\n",
              "      <td>Jefferson Dr &amp; 14th St SW</td>\n",
              "      <td>31247.0</td>\n",
              "      <td>17th &amp; G St NW</td>\n",
              "      <td>31277.0</td>\n",
              "      <td>38.888553</td>\n",
              "      <td>-77.032427</td>\n",
              "      <td>38.898283</td>\n",
              "      <td>-77.039732</td>\n",
              "      <td>casual</td>\n",
              "    </tr>\n",
              "  </tbody>\n",
              "</table>\n",
              "<p>479376 rows × 13 columns</p>\n",
              "</div>"
            ],
            "text/plain": [
              "                 ride_id rideable_type  ...    end_lng member_casual\n",
              "0       4479E04D9D45AC6B   docked_bike  ... -76.987907        casual\n",
              "1       EF88DFBC1E6648EC   docked_bike  ... -77.011616        casual\n",
              "2       25812556961CFABD   docked_bike  ... -77.048728        casual\n",
              "3       1621384E51D38F1F   docked_bike  ... -77.002130        casual\n",
              "4       BC10B8C7848D1FDF   docked_bike  ... -77.038252        member\n",
              "...                  ...           ...  ...        ...           ...\n",
              "479371  8A0B3B755E6F7EF0   docked_bike  ... -77.017247        casual\n",
              "479372  A10ED3D50E5AB612   docked_bike  ... -77.043600        casual\n",
              "479373  F146CC9669ABF5EC   docked_bike  ... -77.017247        casual\n",
              "479374  614005BC98FE93F7   docked_bike  ... -77.043600        casual\n",
              "479375  86783BF38F4567FA   docked_bike  ... -77.039732        casual\n",
              "\n",
              "[479376 rows x 13 columns]"
            ]
          },
          "metadata": {
            "tags": []
          },
          "execution_count": 906
        }
      ]
    },
    {
      "cell_type": "code",
      "metadata": {
        "colab": {
          "base_uri": "https://localhost:8080/",
          "height": 335
        },
        "id": "Mb5RxeiTrC-L",
        "outputId": "97fb0ec5-7dca-41aa-851e-50b58b437a0e"
      },
      "source": [
        "# plotting different travel time of different user\n",
        "x = []\n",
        "for i in range(len(difference_in_ride)):\n",
        "  x.append(difference_in_ride[i].seconds)\n",
        "for i in range(len(difference_in_ride)):\n",
        "  difference_in_ride[i]=x[i]\n",
        "\n",
        "y = [i for i in range(0,len(difference_in_ride),500)]\n",
        "j=0\n",
        "k = []\n",
        "for i in range(0,len(difference_in_ride),500):\n",
        "  if j < len(difference_in_ride):\n",
        "    k.append(x[j]) \n",
        "    j = j+500\n",
        "print(y)\n",
        "print(k)\n",
        "\n",
        "plt.plot(y, k, label='Travel Time')\n",
        "plt.xlabel('User') \n",
        "plt.ylabel('Time travel(in sec)') \n",
        "plt.legend()\n",
        "plt.show()"
      ],
      "execution_count": 907,
      "outputs": [
        {
          "output_type": "stream",
          "text": [
            "[0, 500, 1000, 1500, 2000, 2500, 3000, 3500, 4000, 4500, 5000, 5500, 6000, 6500, 7000, 7500, 8000, 8500, 9000, 9500, 10000, 10500, 11000, 11500, 12000, 12500, 13000, 13500, 14000, 14500, 15000, 15500, 16000, 16500, 17000, 17500, 18000, 18500, 19000, 19500, 20000, 20500, 21000, 21500, 22000, 22500, 23000, 23500, 24000, 24500, 25000, 25500, 26000, 26500, 27000, 27500, 28000, 28500, 29000, 29500, 30000, 30500, 31000, 31500, 32000, 32500, 33000, 33500, 34000, 34500, 35000, 35500, 36000, 36500, 37000, 37500, 38000, 38500, 39000, 39500, 40000, 40500, 41000, 41500, 42000, 42500, 43000, 43500, 44000, 44500, 45000, 45500, 46000, 46500, 47000, 47500, 48000, 48500, 49000, 49500, 50000, 50500, 51000, 51500, 52000, 52500, 53000, 53500, 54000, 54500, 55000, 55500, 56000, 56500, 57000, 57500, 58000, 58500, 59000, 59500, 60000, 60500, 61000, 61500, 62000, 62500, 63000, 63500, 64000, 64500, 65000, 65500, 66000, 66500, 67000, 67500, 68000, 68500, 69000, 69500, 70000, 70500, 71000, 71500, 72000, 72500, 73000, 73500, 74000, 74500, 75000, 75500, 76000, 76500, 77000, 77500, 78000, 78500, 79000, 79500, 80000, 80500, 81000, 81500, 82000, 82500, 83000, 83500, 84000, 84500, 85000, 85500, 86000, 86500, 87000, 87500, 88000, 88500, 89000, 89500, 90000, 90500, 91000, 91500, 92000, 92500, 93000, 93500, 94000, 94500, 95000, 95500, 96000, 96500, 97000, 97500, 98000, 98500, 99000, 99500, 100000, 100500, 101000, 101500, 102000, 102500, 103000, 103500, 104000, 104500, 105000, 105500, 106000, 106500, 107000, 107500, 108000, 108500, 109000, 109500, 110000, 110500, 111000, 111500, 112000, 112500, 113000, 113500, 114000, 114500, 115000, 115500, 116000, 116500, 117000, 117500, 118000, 118500, 119000, 119500, 120000, 120500, 121000, 121500, 122000, 122500, 123000, 123500, 124000, 124500, 125000, 125500, 126000, 126500, 127000, 127500, 128000, 128500, 129000, 129500, 130000, 130500, 131000, 131500, 132000, 132500, 133000, 133500, 134000, 134500, 135000, 135500, 136000, 136500, 137000, 137500, 138000, 138500, 139000, 139500, 140000, 140500, 141000, 141500, 142000, 142500, 143000, 143500, 144000, 144500, 145000, 145500, 146000, 146500, 147000, 147500, 148000, 148500, 149000, 149500, 150000, 150500, 151000, 151500, 152000, 152500, 153000, 153500, 154000, 154500, 155000, 155500, 156000, 156500, 157000, 157500, 158000, 158500, 159000, 159500, 160000, 160500, 161000, 161500, 162000, 162500, 163000, 163500, 164000, 164500, 165000, 165500, 166000, 166500, 167000, 167500, 168000, 168500, 169000, 169500, 170000, 170500, 171000, 171500, 172000, 172500, 173000, 173500, 174000, 174500, 175000, 175500, 176000, 176500, 177000, 177500, 178000, 178500, 179000, 179500, 180000, 180500, 181000, 181500, 182000, 182500, 183000, 183500, 184000, 184500, 185000, 185500, 186000, 186500, 187000, 187500, 188000, 188500, 189000, 189500, 190000, 190500, 191000, 191500, 192000, 192500, 193000, 193500, 194000, 194500, 195000, 195500, 196000, 196500, 197000, 197500, 198000, 198500, 199000, 199500, 200000, 200500, 201000, 201500, 202000, 202500, 203000, 203500, 204000, 204500, 205000, 205500, 206000, 206500, 207000, 207500, 208000, 208500, 209000, 209500, 210000, 210500, 211000, 211500, 212000, 212500, 213000, 213500, 214000, 214500, 215000, 215500, 216000, 216500, 217000, 217500, 218000, 218500, 219000, 219500, 220000, 220500, 221000, 221500, 222000, 222500, 223000, 223500, 224000, 224500, 225000, 225500, 226000, 226500, 227000, 227500, 228000, 228500, 229000, 229500, 230000, 230500, 231000, 231500, 232000, 232500, 233000, 233500, 234000, 234500, 235000, 235500, 236000, 236500, 237000, 237500, 238000, 238500, 239000, 239500, 240000, 240500, 241000, 241500, 242000, 242500, 243000, 243500, 244000, 244500, 245000, 245500, 246000, 246500, 247000, 247500, 248000, 248500, 249000, 249500, 250000, 250500, 251000, 251500, 252000, 252500, 253000, 253500, 254000, 254500, 255000, 255500, 256000, 256500, 257000, 257500, 258000, 258500, 259000, 259500, 260000, 260500, 261000, 261500, 262000, 262500, 263000, 263500, 264000, 264500, 265000, 265500, 266000, 266500, 267000, 267500, 268000, 268500, 269000, 269500, 270000, 270500, 271000, 271500, 272000, 272500, 273000, 273500, 274000, 274500, 275000, 275500, 276000, 276500, 277000, 277500, 278000, 278500, 279000, 279500, 280000, 280500, 281000, 281500, 282000, 282500, 283000, 283500, 284000, 284500, 285000, 285500, 286000, 286500, 287000, 287500, 288000, 288500, 289000, 289500, 290000, 290500, 291000, 291500, 292000, 292500, 293000, 293500, 294000, 294500, 295000, 295500, 296000, 296500, 297000, 297500, 298000, 298500, 299000, 299500, 300000, 300500, 301000, 301500, 302000, 302500, 303000, 303500, 304000, 304500, 305000, 305500, 306000, 306500, 307000, 307500, 308000, 308500, 309000, 309500, 310000, 310500, 311000, 311500, 312000, 312500, 313000, 313500, 314000, 314500, 315000, 315500, 316000, 316500, 317000, 317500, 318000, 318500, 319000, 319500, 320000, 320500, 321000, 321500, 322000, 322500, 323000, 323500, 324000, 324500, 325000, 325500, 326000, 326500, 327000, 327500, 328000, 328500, 329000, 329500, 330000, 330500, 331000, 331500, 332000, 332500, 333000, 333500, 334000, 334500, 335000, 335500, 336000, 336500, 337000, 337500, 338000, 338500, 339000, 339500, 340000, 340500, 341000, 341500, 342000, 342500, 343000, 343500, 344000, 344500, 345000, 345500, 346000, 346500, 347000, 347500, 348000, 348500, 349000, 349500, 350000, 350500, 351000, 351500, 352000, 352500, 353000, 353500, 354000, 354500, 355000, 355500, 356000, 356500, 357000, 357500, 358000, 358500, 359000, 359500, 360000, 360500, 361000, 361500, 362000, 362500, 363000, 363500, 364000, 364500, 365000, 365500, 366000, 366500, 367000, 367500, 368000, 368500, 369000, 369500, 370000, 370500, 371000, 371500, 372000, 372500, 373000, 373500, 374000, 374500, 375000, 375500, 376000, 376500, 377000, 377500, 378000, 378500, 379000, 379500, 380000, 380500, 381000, 381500, 382000, 382500, 383000, 383500, 384000, 384500, 385000, 385500, 386000, 386500, 387000, 387500, 388000, 388500, 389000, 389500, 390000, 390500, 391000, 391500, 392000, 392500, 393000, 393500, 394000, 394500, 395000, 395500, 396000, 396500, 397000, 397500, 398000, 398500, 399000, 399500, 400000, 400500, 401000, 401500, 402000, 402500, 403000, 403500, 404000, 404500, 405000, 405500, 406000, 406500, 407000, 407500, 408000, 408500, 409000, 409500, 410000, 410500, 411000, 411500, 412000, 412500, 413000, 413500, 414000, 414500, 415000, 415500, 416000, 416500, 417000, 417500, 418000, 418500, 419000, 419500, 420000, 420500, 421000, 421500, 422000, 422500, 423000, 423500, 424000, 424500, 425000, 425500, 426000, 426500, 427000, 427500, 428000, 428500, 429000, 429500, 430000, 430500, 431000, 431500, 432000, 432500, 433000, 433500, 434000, 434500, 435000, 435500, 436000, 436500, 437000, 437500, 438000, 438500, 439000, 439500, 440000, 440500, 441000, 441500, 442000, 442500, 443000, 443500, 444000, 444500, 445000, 445500, 446000, 446500, 447000, 447500, 448000, 448500, 449000, 449500, 450000, 450500, 451000, 451500, 452000, 452500, 453000, 453500, 454000, 454500, 455000, 455500, 456000, 456500, 457000, 457500, 458000, 458500, 459000, 459500, 460000, 460500, 461000, 461500, 462000, 462500, 463000, 463500, 464000, 464500, 465000, 465500, 466000, 466500, 467000, 467500, 468000, 468500, 469000, 469500, 470000, 470500, 471000, 471500, 472000, 472500, 473000, 473500, 474000, 474500, 475000, 475500, 476000, 476500, 477000, 477500, 478000, 478500, 479000]\n",
            "[1223, 7133, 1319, 4238, 1023, 832, 973, 243, 568, 969, 1799, 2480, 948, 576, 285, 5504, 1577, 696, 1535, 802, 5811, 714, 657, 958, 615, 224, 94, 537, 1168, 1251, 313, 1571, 898, 735, 371, 451, 355, 8780, 2374, 2476, 86380, 506, 285, 679, 1573, 1006, 749, 920, 589, 1003, 1227, 1410, 793, 1466, 2451, 1317, 3058, 1439, 1079, 641, 417, 703, 270, 252, 423, 1623, 624, 1577, 564, 481, 1385, 520, 1241, 899, 451, 9167, 1127, 458, 985, 254, 339, 1145, 4241, 1050, 1078, 1176, 1146, 24, 1756, 597, 261, 749, 314, 3932, 2487, 13, 3006, 463, 8607, 1286, 571, 447, 1270, 1638, 3496, 617, 814, 602, 2908, 3039, 66, 1659, 326, 1207, 849, 1705, 1138, 534, 3848, 416, 785, 470, 1240, 880, 2242, 805, 387, 1506, 19, 584, 1545, 287, 1376, 644, 545, 796, 893, 859, 1085, 521, 1507, 657, 1273, 474, 1154, 700, 1237, 1566, 815, 2182, 1678, 2575, 1594, 645, 2182, 904, 269, 822, 866, 873, 1308, 3893, 1082, 601, 374, 1141, 728, 827, 516, 451, 820, 284, 2234, 375, 319, 553, 640, 378, 2986, 410, 2241, 1073, 1555, 903, 845, 4578, 3895, 1897, 71, 642, 6854, 841, 599, 3894, 370, 1494, 856, 2137, 857, 1031, 4188, 1028, 184, 333, 496, 529, 1083, 790, 13824, 326, 569, 1240, 391, 367, 1668, 731, 323, 1729, 315, 1652, 1444, 937, 283, 3480, 7911, 1310, 3306, 1132, 338, 570, 1710, 337, 1059, 266, 2449, 3928, 3853, 337, 1184, 399, 1055, 1173, 553, 2123, 891, 26, 613, 1695, 1934, 1943, 1461, 612, 1096, 175, 340, 205, 1278, 2798, 4982, 369, 415, 640, 3866, 1023, 484, 612, 846, 1147, 2410, 1383, 862, 5032, 247, 2064, 1400, 385, 1218, 2525, 473, 138, 287, 756, 287, 1808, 3442, 576, 3379, 297, 948, 720, 1275, 2194, 410, 50, 1939, 1296, 796, 2125, 1168, 484, 659, 1003, 1122, 1489, 622, 2086, 662, 777, 595, 739, 578, 1735, 157, 495, 1410, 59, 49, 648, 1934, 1371, 482, 553, 791, 1781, 1824, 813, 728, 407, 406, 51, 1267, 478, 97, 1006, 470, 13, 638, 487, 665, 953, 1592, 805, 1902, 2408, 2689, 739, 1807, 3967, 588, 3584, 565, 1541, 2099, 2653, 380, 310, 4278, 6712, 1759, 1584, 1647, 986, 1204, 3900, 3408, 7904, 474, 1227, 666, 406, 2618, 425, 667, 1060, 51, 188, 497, 474, 596, 700, 380, 749, 1232, 1369, 415, 1698, 2289, 2003, 1559, 1030, 1447, 567, 875, 222, 358, 352, 832, 1157, 1687, 483, 1459, 1606, 1906, 360, 3658, 426, 1111, 2206, 869, 753, 1342, 709, 1041, 656, 577, 347, 376, 393, 1488, 442, 443, 318, 539, 436, 751, 268, 622, 1096, 1868, 942, 195, 817, 4773, 1737, 823, 1934, 1389, 620, 427, 4461, 352, 725, 8822, 3460, 2708, 1688, 757, 1363, 1333, 12960, 654, 972, 1137, 1299, 1521, 1291, 1441, 975, 365, 2767, 183, 1897, 1612, 428, 777, 1303, 510, 819, 36853, 546, 377, 429, 246, 406, 20, 468, 192, 216, 858, 612, 3666, 2215, 1396, 515, 1164, 1765, 905, 378, 659, 5521, 1998, 148, 863, 921, 86318, 542, 2930, 1276, 1474, 585, 436, 2596, 86372, 2233, 1494, 307, 231, 379, 1465, 546, 414, 3594, 656, 805, 1040, 1131, 5151, 497, 747, 1004, 5873, 1067, 310, 1098, 1238, 141, 142, 1343, 924, 867, 887, 1325, 422, 326, 789, 435, 3399, 468, 3814, 2851, 682, 468, 1537, 680, 3220, 307, 907, 491, 451, 1137, 1557, 328, 874, 405, 556, 3500, 756, 499, 817, 1063, 493, 399, 2194, 587, 521, 1346, 977, 4193, 4, 1811, 1082, 1220, 845, 1839, 1322, 585, 560, 236, 3604, 1257, 692, 475, 445, 1185, 4786, 1656, 605, 1814, 837, 8167, 4228, 942, 238, 590, 1561, 940, 1031, 1134, 828, 376, 3279, 302, 1534, 704, 3972, 666, 6503, 1314, 2243, 766, 1567, 1021, 739, 401, 2363, 219, 4177, 1691, 451, 400, 1682, 223, 1032, 2403, 447, 2192, 399, 371, 715, 435, 1566, 208, 229, 815, 2542, 1395, 1411, 6463, 497, 466, 784, 398, 1212, 886, 921, 1542, 651, 739, 2469, 1295, 356, 814, 238, 1568, 1956, 5442, 1884, 260, 839, 2805, 1745, 256, 3952, 222, 1983, 820, 368, 1608, 1157, 1153, 914, 1608, 1517, 734, 1510, 688, 679, 465, 428, 285, 873, 800, 866, 221, 1289, 120, 3510, 515, 109, 270, 838, 117, 931, 595, 1809, 360, 542, 388, 168, 479, 389, 120, 1123, 757, 1063, 961, 282, 520, 3150, 7755, 1845, 6690, 475, 577, 1257, 742, 450, 1452, 1555, 1777, 4765, 291, 190, 301, 2455, 891, 1190, 6352, 1530, 810, 431, 444, 5301, 670, 682, 1425, 1772, 1536, 3391, 223, 2296, 700, 1293, 1216, 591, 869, 289, 128, 136, 6335, 706, 893, 1361, 778, 560, 280, 713, 2337, 292, 2981, 887, 118, 518, 960, 864, 1168, 1743, 1317, 842, 1925, 1675, 643, 1766, 388, 1196, 756, 57, 399, 1786, 749, 578, 729, 346, 489, 3613, 276, 1974, 782, 586, 790, 2396, 115, 371, 1805, 488, 0, 918, 1308, 454, 1384, 154, 1659, 580, 1904, 2113, 712, 1338, 2231, 3329, 159, 5331, 1380, 5467, 447, 335, 1215, 1042, 1304, 1175, 840, 478, 529, 308, 3154, 1087, 340, 395, 1815, 1176, 512, 425, 373, 510, 512, 360, 938, 1033, 2005, 1707, 490, 4, 1855, 484, 588, 768, 249, 4533, 246, 672, 1839, 755, 1765, 545, 933, 962, 524, 195, 4169, 548, 1972, 639, 860, 1099, 833, 670, 1208, 735, 62, 1362, 2025, 617, 372, 994, 270, 1242, 716, 698, 1158, 2388, 8, 692, 936, 777, 540, 204, 791, 837, 2026, 39, 5098, 1072, 447, 232, 272, 828, 651, 116, 1559, 524, 1187, 1746, 304, 370, 8, 1504, 2987, 928, 8, 301, 1152, 582, 358, 262, 1408, 965, 1664, 2513, 1239, 857, 871, 981, 625, 362, 1820, 9623, 325, 701, 1454, 233, 862, 470, 870, 528, 401, 1308, 645, 230, 349, 484, 1829, 679, 1483, 362, 1403, 912, 1714, 1693, 269, 1966, 2615, 667, 368, 1089, 608, 726, 692, 245, 615, 310]\n"
          ],
          "name": "stdout"
        },
        {
          "output_type": "display_data",
          "data": {
            "image/png": "[encoded data removed]",
            "text/plain": [
              "<Figure size 432x288 with 1 Axes>"
            ]
          },
          "metadata": {
            "tags": [],
            "needs_background": "light"
          }
        }
      ]
    },
    {
      "cell_type": "code",
      "metadata": {
        "colab": {
          "base_uri": "https://localhost:8080/"
        },
        "id": "ZRnvQVhIrPng",
        "outputId": "d7a2362e-d43a-4a58-bcc1-50217df3ed19"
      },
      "source": [
        "data['time_to_travel'] = difference_in_ride\n",
        "data.head();\n",
        "data['rideable_type'].value_counts()"
      ],
      "execution_count": 908,
      "outputs": [
        {
          "output_type": "execute_result",
          "data": {
            "text/plain": [
              "docked_bike      239688\n",
              "electric_bike    239688\n",
              "Name: rideable_type, dtype: int64"
            ]
          },
          "metadata": {
            "tags": []
          },
          "execution_count": 908
        }
      ]
    },
    {
      "cell_type": "code",
      "metadata": {
        "colab": {
          "base_uri": "https://localhost:8080/",
          "height": 773
        },
        "id": "QKt_aX5MbvGK",
        "outputId": "c58e4617-721d-427b-885b-c4c7bb2d1afd"
      },
      "source": [
        "data"
      ],
      "execution_count": 909,
      "outputs": [
        {
          "output_type": "execute_result",
          "data": {
            "text/html": [
              "<div>\n",
              "<style scoped>\n",
              "    .dataframe tbody tr th:only-of-type {\n",
              "        vertical-align: middle;\n",
              "    }\n",
              "\n",
              "    .dataframe tbody tr th {\n",
              "        vertical-align: top;\n",
              "    }\n",
              "\n",
              "    .dataframe thead th {\n",
              "        text-align: right;\n",
              "    }\n",
              "</style>\n",
              "<table border=\"1\" class=\"dataframe\">\n",
              "  <thead>\n",
              "    <tr style=\"text-align: right;\">\n",
              "      <th></th>\n",
              "      <th>ride_id</th>\n",
              "      <th>rideable_type</th>\n",
              "      <th>started_at</th>\n",
              "      <th>ended_at</th>\n",
              "      <th>start_station_name</th>\n",
              "      <th>start_station_id</th>\n",
              "      <th>end_station_name</th>\n",
              "      <th>end_station_id</th>\n",
              "      <th>start_lat</th>\n",
              "      <th>start_lng</th>\n",
              "      <th>end_lat</th>\n",
              "      <th>end_lng</th>\n",
              "      <th>member_casual</th>\n",
              "      <th>time_to_travel</th>\n",
              "    </tr>\n",
              "  </thead>\n",
              "  <tbody>\n",
              "    <tr>\n",
              "      <th>0</th>\n",
              "      <td>4479E04D9D45AC6B</td>\n",
              "      <td>docked_bike</td>\n",
              "      <td>2020-08-22 17:09:39</td>\n",
              "      <td>2020-08-22 17:30:02</td>\n",
              "      <td>10th St &amp; L'Enfant Plaza SW</td>\n",
              "      <td>31287.0</td>\n",
              "      <td>13th &amp; E St SE</td>\n",
              "      <td>31607.0</td>\n",
              "      <td>38.884323</td>\n",
              "      <td>-77.026010</td>\n",
              "      <td>38.882915</td>\n",
              "      <td>-76.987907</td>\n",
              "      <td>casual</td>\n",
              "      <td>1223</td>\n",
              "    </tr>\n",
              "    <tr>\n",
              "      <th>1</th>\n",
              "      <td>EF88DFBC1E6648EC</td>\n",
              "      <td>docked_bike</td>\n",
              "      <td>2020-08-26 13:13:54</td>\n",
              "      <td>2020-08-26 13:18:41</td>\n",
              "      <td>Constitution Ave &amp; 2nd St NW/DOL</td>\n",
              "      <td>31271.0</td>\n",
              "      <td>New Jersey Ave &amp; F St NW</td>\n",
              "      <td>31655.0</td>\n",
              "      <td>38.892275</td>\n",
              "      <td>-77.013917</td>\n",
              "      <td>38.897108</td>\n",
              "      <td>-77.011616</td>\n",
              "      <td>casual</td>\n",
              "      <td>287</td>\n",
              "    </tr>\n",
              "    <tr>\n",
              "      <th>2</th>\n",
              "      <td>25812556961CFABD</td>\n",
              "      <td>docked_bike</td>\n",
              "      <td>2020-08-07 16:34:41</td>\n",
              "      <td>2020-08-07 17:13:39</td>\n",
              "      <td>Friendship Hts Metro / Wisconsin Ave &amp; Wiscons...</td>\n",
              "      <td>32014.0</td>\n",
              "      <td>22nd &amp; P ST NW</td>\n",
              "      <td>31285.0</td>\n",
              "      <td>38.961763</td>\n",
              "      <td>-77.085998</td>\n",
              "      <td>38.909394</td>\n",
              "      <td>-77.048728</td>\n",
              "      <td>casual</td>\n",
              "      <td>2338</td>\n",
              "    </tr>\n",
              "    <tr>\n",
              "      <th>3</th>\n",
              "      <td>1621384E51D38F1F</td>\n",
              "      <td>docked_bike</td>\n",
              "      <td>2020-08-07 20:32:05</td>\n",
              "      <td>2020-08-07 20:45:58</td>\n",
              "      <td>John McCormack Rd NE</td>\n",
              "      <td>31528.0</td>\n",
              "      <td>3rd &amp; M St NE</td>\n",
              "      <td>31627.0</td>\n",
              "      <td>38.938889</td>\n",
              "      <td>-76.997226</td>\n",
              "      <td>38.905470</td>\n",
              "      <td>-77.002130</td>\n",
              "      <td>casual</td>\n",
              "      <td>833</td>\n",
              "    </tr>\n",
              "    <tr>\n",
              "      <th>4</th>\n",
              "      <td>BC10B8C7848D1FDF</td>\n",
              "      <td>docked_bike</td>\n",
              "      <td>2020-08-18 13:40:34</td>\n",
              "      <td>2020-08-18 13:49:07</td>\n",
              "      <td>16th &amp; Irving St NW</td>\n",
              "      <td>31122.0</td>\n",
              "      <td>New Hampshire Ave &amp; T St NW</td>\n",
              "      <td>31229.0</td>\n",
              "      <td>38.928893</td>\n",
              "      <td>-77.036250</td>\n",
              "      <td>38.915544</td>\n",
              "      <td>-77.038252</td>\n",
              "      <td>member</td>\n",
              "      <td>513</td>\n",
              "    </tr>\n",
              "    <tr>\n",
              "      <th>...</th>\n",
              "      <td>...</td>\n",
              "      <td>...</td>\n",
              "      <td>...</td>\n",
              "      <td>...</td>\n",
              "      <td>...</td>\n",
              "      <td>...</td>\n",
              "      <td>...</td>\n",
              "      <td>...</td>\n",
              "      <td>...</td>\n",
              "      <td>...</td>\n",
              "      <td>...</td>\n",
              "      <td>...</td>\n",
              "      <td>...</td>\n",
              "      <td>...</td>\n",
              "    </tr>\n",
              "    <tr>\n",
              "      <th>479371</th>\n",
              "      <td>8A0B3B755E6F7EF0</td>\n",
              "      <td>docked_bike</td>\n",
              "      <td>2020-12-04 11:56:13</td>\n",
              "      <td>2020-12-04 12:42:19</td>\n",
              "      <td>Jefferson Dr &amp; 14th St SW</td>\n",
              "      <td>31247.0</td>\n",
              "      <td>4th St &amp; Madison Dr NW</td>\n",
              "      <td>31288.0</td>\n",
              "      <td>38.888553</td>\n",
              "      <td>-77.032427</td>\n",
              "      <td>38.890496</td>\n",
              "      <td>-77.017247</td>\n",
              "      <td>casual</td>\n",
              "      <td>2766</td>\n",
              "    </tr>\n",
              "    <tr>\n",
              "      <th>479372</th>\n",
              "      <td>A10ED3D50E5AB612</td>\n",
              "      <td>docked_bike</td>\n",
              "      <td>2020-12-12 13:49:55</td>\n",
              "      <td>2020-12-12 14:17:02</td>\n",
              "      <td>Jefferson Dr &amp; 14th St SW</td>\n",
              "      <td>31247.0</td>\n",
              "      <td>19th St &amp; Constitution Ave NW</td>\n",
              "      <td>31235.0</td>\n",
              "      <td>38.888553</td>\n",
              "      <td>-77.032427</td>\n",
              "      <td>38.892300</td>\n",
              "      <td>-77.043600</td>\n",
              "      <td>casual</td>\n",
              "      <td>1627</td>\n",
              "    </tr>\n",
              "    <tr>\n",
              "      <th>479373</th>\n",
              "      <td>F146CC9669ABF5EC</td>\n",
              "      <td>docked_bike</td>\n",
              "      <td>2020-12-03 13:43:26</td>\n",
              "      <td>2020-12-03 14:06:11</td>\n",
              "      <td>Jefferson Dr &amp; 14th St SW</td>\n",
              "      <td>31247.0</td>\n",
              "      <td>4th St &amp; Madison Dr NW</td>\n",
              "      <td>31288.0</td>\n",
              "      <td>38.888553</td>\n",
              "      <td>-77.032427</td>\n",
              "      <td>38.890496</td>\n",
              "      <td>-77.017247</td>\n",
              "      <td>casual</td>\n",
              "      <td>1365</td>\n",
              "    </tr>\n",
              "    <tr>\n",
              "      <th>479374</th>\n",
              "      <td>614005BC98FE93F7</td>\n",
              "      <td>docked_bike</td>\n",
              "      <td>2020-12-06 07:27:47</td>\n",
              "      <td>2020-12-06 08:03:46</td>\n",
              "      <td>Jefferson Dr &amp; 14th St SW</td>\n",
              "      <td>31247.0</td>\n",
              "      <td>19th St &amp; Constitution Ave NW</td>\n",
              "      <td>31235.0</td>\n",
              "      <td>38.888552</td>\n",
              "      <td>-77.032427</td>\n",
              "      <td>38.892300</td>\n",
              "      <td>-77.043600</td>\n",
              "      <td>casual</td>\n",
              "      <td>2159</td>\n",
              "    </tr>\n",
              "    <tr>\n",
              "      <th>479375</th>\n",
              "      <td>86783BF38F4567FA</td>\n",
              "      <td>docked_bike</td>\n",
              "      <td>2020-12-21 13:46:01</td>\n",
              "      <td>2020-12-21 14:26:59</td>\n",
              "      <td>Jefferson Dr &amp; 14th St SW</td>\n",
              "      <td>31247.0</td>\n",
              "      <td>17th &amp; G St NW</td>\n",
              "      <td>31277.0</td>\n",
              "      <td>38.888553</td>\n",
              "      <td>-77.032427</td>\n",
              "      <td>38.898283</td>\n",
              "      <td>-77.039732</td>\n",
              "      <td>casual</td>\n",
              "      <td>2458</td>\n",
              "    </tr>\n",
              "  </tbody>\n",
              "</table>\n",
              "<p>479376 rows × 14 columns</p>\n",
              "</div>"
            ],
            "text/plain": [
              "                 ride_id rideable_type  ... member_casual time_to_travel\n",
              "0       4479E04D9D45AC6B   docked_bike  ...        casual           1223\n",
              "1       EF88DFBC1E6648EC   docked_bike  ...        casual            287\n",
              "2       25812556961CFABD   docked_bike  ...        casual           2338\n",
              "3       1621384E51D38F1F   docked_bike  ...        casual            833\n",
              "4       BC10B8C7848D1FDF   docked_bike  ...        member            513\n",
              "...                  ...           ...  ...           ...            ...\n",
              "479371  8A0B3B755E6F7EF0   docked_bike  ...        casual           2766\n",
              "479372  A10ED3D50E5AB612   docked_bike  ...        casual           1627\n",
              "479373  F146CC9669ABF5EC   docked_bike  ...        casual           1365\n",
              "479374  614005BC98FE93F7   docked_bike  ...        casual           2159\n",
              "479375  86783BF38F4567FA   docked_bike  ...        casual           2458\n",
              "\n",
              "[479376 rows x 14 columns]"
            ]
          },
          "metadata": {
            "tags": []
          },
          "execution_count": 909
        }
      ]
    },
    {
      "cell_type": "code",
      "metadata": {
        "colab": {
          "base_uri": "https://localhost:8080/",
          "height": 391
        },
        "id": "HWPwKIXpraJW",
        "outputId": "1385bede-7a3f-4197-d0f8-8e80b06257d0"
      },
      "source": [
        "\n",
        "data9 = data[data['time_to_travel'] >= 120]\n",
        "data9.head()"
      ],
      "execution_count": 910,
      "outputs": [
        {
          "output_type": "execute_result",
          "data": {
            "text/html": [
              "<div>\n",
              "<style scoped>\n",
              "    .dataframe tbody tr th:only-of-type {\n",
              "        vertical-align: middle;\n",
              "    }\n",
              "\n",
              "    .dataframe tbody tr th {\n",
              "        vertical-align: top;\n",
              "    }\n",
              "\n",
              "    .dataframe thead th {\n",
              "        text-align: right;\n",
              "    }\n",
              "</style>\n",
              "<table border=\"1\" class=\"dataframe\">\n",
              "  <thead>\n",
              "    <tr style=\"text-align: right;\">\n",
              "      <th></th>\n",
              "      <th>ride_id</th>\n",
              "      <th>rideable_type</th>\n",
              "      <th>started_at</th>\n",
              "      <th>ended_at</th>\n",
              "      <th>start_station_name</th>\n",
              "      <th>start_station_id</th>\n",
              "      <th>end_station_name</th>\n",
              "      <th>end_station_id</th>\n",
              "      <th>start_lat</th>\n",
              "      <th>start_lng</th>\n",
              "      <th>end_lat</th>\n",
              "      <th>end_lng</th>\n",
              "      <th>member_casual</th>\n",
              "      <th>time_to_travel</th>\n",
              "    </tr>\n",
              "  </thead>\n",
              "  <tbody>\n",
              "    <tr>\n",
              "      <th>0</th>\n",
              "      <td>4479E04D9D45AC6B</td>\n",
              "      <td>docked_bike</td>\n",
              "      <td>2020-08-22 17:09:39</td>\n",
              "      <td>2020-08-22 17:30:02</td>\n",
              "      <td>10th St &amp; L'Enfant Plaza SW</td>\n",
              "      <td>31287.0</td>\n",
              "      <td>13th &amp; E St SE</td>\n",
              "      <td>31607.0</td>\n",
              "      <td>38.884323</td>\n",
              "      <td>-77.026010</td>\n",
              "      <td>38.882915</td>\n",
              "      <td>-76.987907</td>\n",
              "      <td>casual</td>\n",
              "      <td>1223</td>\n",
              "    </tr>\n",
              "    <tr>\n",
              "      <th>1</th>\n",
              "      <td>EF88DFBC1E6648EC</td>\n",
              "      <td>docked_bike</td>\n",
              "      <td>2020-08-26 13:13:54</td>\n",
              "      <td>2020-08-26 13:18:41</td>\n",
              "      <td>Constitution Ave &amp; 2nd St NW/DOL</td>\n",
              "      <td>31271.0</td>\n",
              "      <td>New Jersey Ave &amp; F St NW</td>\n",
              "      <td>31655.0</td>\n",
              "      <td>38.892275</td>\n",
              "      <td>-77.013917</td>\n",
              "      <td>38.897108</td>\n",
              "      <td>-77.011616</td>\n",
              "      <td>casual</td>\n",
              "      <td>287</td>\n",
              "    </tr>\n",
              "    <tr>\n",
              "      <th>2</th>\n",
              "      <td>25812556961CFABD</td>\n",
              "      <td>docked_bike</td>\n",
              "      <td>2020-08-07 16:34:41</td>\n",
              "      <td>2020-08-07 17:13:39</td>\n",
              "      <td>Friendship Hts Metro / Wisconsin Ave &amp; Wiscons...</td>\n",
              "      <td>32014.0</td>\n",
              "      <td>22nd &amp; P ST NW</td>\n",
              "      <td>31285.0</td>\n",
              "      <td>38.961763</td>\n",
              "      <td>-77.085998</td>\n",
              "      <td>38.909394</td>\n",
              "      <td>-77.048728</td>\n",
              "      <td>casual</td>\n",
              "      <td>2338</td>\n",
              "    </tr>\n",
              "    <tr>\n",
              "      <th>3</th>\n",
              "      <td>1621384E51D38F1F</td>\n",
              "      <td>docked_bike</td>\n",
              "      <td>2020-08-07 20:32:05</td>\n",
              "      <td>2020-08-07 20:45:58</td>\n",
              "      <td>John McCormack Rd NE</td>\n",
              "      <td>31528.0</td>\n",
              "      <td>3rd &amp; M St NE</td>\n",
              "      <td>31627.0</td>\n",
              "      <td>38.938889</td>\n",
              "      <td>-76.997226</td>\n",
              "      <td>38.905470</td>\n",
              "      <td>-77.002130</td>\n",
              "      <td>casual</td>\n",
              "      <td>833</td>\n",
              "    </tr>\n",
              "    <tr>\n",
              "      <th>4</th>\n",
              "      <td>BC10B8C7848D1FDF</td>\n",
              "      <td>docked_bike</td>\n",
              "      <td>2020-08-18 13:40:34</td>\n",
              "      <td>2020-08-18 13:49:07</td>\n",
              "      <td>16th &amp; Irving St NW</td>\n",
              "      <td>31122.0</td>\n",
              "      <td>New Hampshire Ave &amp; T St NW</td>\n",
              "      <td>31229.0</td>\n",
              "      <td>38.928893</td>\n",
              "      <td>-77.036250</td>\n",
              "      <td>38.915544</td>\n",
              "      <td>-77.038252</td>\n",
              "      <td>member</td>\n",
              "      <td>513</td>\n",
              "    </tr>\n",
              "  </tbody>\n",
              "</table>\n",
              "</div>"
            ],
            "text/plain": [
              "            ride_id rideable_type  ... member_casual time_to_travel\n",
              "0  4479E04D9D45AC6B   docked_bike  ...        casual           1223\n",
              "1  EF88DFBC1E6648EC   docked_bike  ...        casual            287\n",
              "2  25812556961CFABD   docked_bike  ...        casual           2338\n",
              "3  1621384E51D38F1F   docked_bike  ...        casual            833\n",
              "4  BC10B8C7848D1FDF   docked_bike  ...        member            513\n",
              "\n",
              "[5 rows x 14 columns]"
            ]
          },
          "metadata": {
            "tags": []
          },
          "execution_count": 910
        }
      ]
    },
    {
      "cell_type": "code",
      "metadata": {
        "colab": {
          "base_uri": "https://localhost:8080/",
          "height": 773
        },
        "id": "eHTNOguxczxp",
        "outputId": "4048dadf-5e1c-434f-eed3-91c314f8a0b9"
      },
      "source": [
        "data9"
      ],
      "execution_count": 911,
      "outputs": [
        {
          "output_type": "execute_result",
          "data": {
            "text/html": [
              "<div>\n",
              "<style scoped>\n",
              "    .dataframe tbody tr th:only-of-type {\n",
              "        vertical-align: middle;\n",
              "    }\n",
              "\n",
              "    .dataframe tbody tr th {\n",
              "        vertical-align: top;\n",
              "    }\n",
              "\n",
              "    .dataframe thead th {\n",
              "        text-align: right;\n",
              "    }\n",
              "</style>\n",
              "<table border=\"1\" class=\"dataframe\">\n",
              "  <thead>\n",
              "    <tr style=\"text-align: right;\">\n",
              "      <th></th>\n",
              "      <th>ride_id</th>\n",
              "      <th>rideable_type</th>\n",
              "      <th>started_at</th>\n",
              "      <th>ended_at</th>\n",
              "      <th>start_station_name</th>\n",
              "      <th>start_station_id</th>\n",
              "      <th>end_station_name</th>\n",
              "      <th>end_station_id</th>\n",
              "      <th>start_lat</th>\n",
              "      <th>start_lng</th>\n",
              "      <th>end_lat</th>\n",
              "      <th>end_lng</th>\n",
              "      <th>member_casual</th>\n",
              "      <th>time_to_travel</th>\n",
              "    </tr>\n",
              "  </thead>\n",
              "  <tbody>\n",
              "    <tr>\n",
              "      <th>0</th>\n",
              "      <td>4479E04D9D45AC6B</td>\n",
              "      <td>docked_bike</td>\n",
              "      <td>2020-08-22 17:09:39</td>\n",
              "      <td>2020-08-22 17:30:02</td>\n",
              "      <td>10th St &amp; L'Enfant Plaza SW</td>\n",
              "      <td>31287.0</td>\n",
              "      <td>13th &amp; E St SE</td>\n",
              "      <td>31607.0</td>\n",
              "      <td>38.884323</td>\n",
              "      <td>-77.026010</td>\n",
              "      <td>38.882915</td>\n",
              "      <td>-76.987907</td>\n",
              "      <td>casual</td>\n",
              "      <td>1223</td>\n",
              "    </tr>\n",
              "    <tr>\n",
              "      <th>1</th>\n",
              "      <td>EF88DFBC1E6648EC</td>\n",
              "      <td>docked_bike</td>\n",
              "      <td>2020-08-26 13:13:54</td>\n",
              "      <td>2020-08-26 13:18:41</td>\n",
              "      <td>Constitution Ave &amp; 2nd St NW/DOL</td>\n",
              "      <td>31271.0</td>\n",
              "      <td>New Jersey Ave &amp; F St NW</td>\n",
              "      <td>31655.0</td>\n",
              "      <td>38.892275</td>\n",
              "      <td>-77.013917</td>\n",
              "      <td>38.897108</td>\n",
              "      <td>-77.011616</td>\n",
              "      <td>casual</td>\n",
              "      <td>287</td>\n",
              "    </tr>\n",
              "    <tr>\n",
              "      <th>2</th>\n",
              "      <td>25812556961CFABD</td>\n",
              "      <td>docked_bike</td>\n",
              "      <td>2020-08-07 16:34:41</td>\n",
              "      <td>2020-08-07 17:13:39</td>\n",
              "      <td>Friendship Hts Metro / Wisconsin Ave &amp; Wiscons...</td>\n",
              "      <td>32014.0</td>\n",
              "      <td>22nd &amp; P ST NW</td>\n",
              "      <td>31285.0</td>\n",
              "      <td>38.961763</td>\n",
              "      <td>-77.085998</td>\n",
              "      <td>38.909394</td>\n",
              "      <td>-77.048728</td>\n",
              "      <td>casual</td>\n",
              "      <td>2338</td>\n",
              "    </tr>\n",
              "    <tr>\n",
              "      <th>3</th>\n",
              "      <td>1621384E51D38F1F</td>\n",
              "      <td>docked_bike</td>\n",
              "      <td>2020-08-07 20:32:05</td>\n",
              "      <td>2020-08-07 20:45:58</td>\n",
              "      <td>John McCormack Rd NE</td>\n",
              "      <td>31528.0</td>\n",
              "      <td>3rd &amp; M St NE</td>\n",
              "      <td>31627.0</td>\n",
              "      <td>38.938889</td>\n",
              "      <td>-76.997226</td>\n",
              "      <td>38.905470</td>\n",
              "      <td>-77.002130</td>\n",
              "      <td>casual</td>\n",
              "      <td>833</td>\n",
              "    </tr>\n",
              "    <tr>\n",
              "      <th>4</th>\n",
              "      <td>BC10B8C7848D1FDF</td>\n",
              "      <td>docked_bike</td>\n",
              "      <td>2020-08-18 13:40:34</td>\n",
              "      <td>2020-08-18 13:49:07</td>\n",
              "      <td>16th &amp; Irving St NW</td>\n",
              "      <td>31122.0</td>\n",
              "      <td>New Hampshire Ave &amp; T St NW</td>\n",
              "      <td>31229.0</td>\n",
              "      <td>38.928893</td>\n",
              "      <td>-77.036250</td>\n",
              "      <td>38.915544</td>\n",
              "      <td>-77.038252</td>\n",
              "      <td>member</td>\n",
              "      <td>513</td>\n",
              "    </tr>\n",
              "    <tr>\n",
              "      <th>...</th>\n",
              "      <td>...</td>\n",
              "      <td>...</td>\n",
              "      <td>...</td>\n",
              "      <td>...</td>\n",
              "      <td>...</td>\n",
              "      <td>...</td>\n",
              "      <td>...</td>\n",
              "      <td>...</td>\n",
              "      <td>...</td>\n",
              "      <td>...</td>\n",
              "      <td>...</td>\n",
              "      <td>...</td>\n",
              "      <td>...</td>\n",
              "      <td>...</td>\n",
              "    </tr>\n",
              "    <tr>\n",
              "      <th>479371</th>\n",
              "      <td>8A0B3B755E6F7EF0</td>\n",
              "      <td>docked_bike</td>\n",
              "      <td>2020-12-04 11:56:13</td>\n",
              "      <td>2020-12-04 12:42:19</td>\n",
              "      <td>Jefferson Dr &amp; 14th St SW</td>\n",
              "      <td>31247.0</td>\n",
              "      <td>4th St &amp; Madison Dr NW</td>\n",
              "      <td>31288.0</td>\n",
              "      <td>38.888553</td>\n",
              "      <td>-77.032427</td>\n",
              "      <td>38.890496</td>\n",
              "      <td>-77.017247</td>\n",
              "      <td>casual</td>\n",
              "      <td>2766</td>\n",
              "    </tr>\n",
              "    <tr>\n",
              "      <th>479372</th>\n",
              "      <td>A10ED3D50E5AB612</td>\n",
              "      <td>docked_bike</td>\n",
              "      <td>2020-12-12 13:49:55</td>\n",
              "      <td>2020-12-12 14:17:02</td>\n",
              "      <td>Jefferson Dr &amp; 14th St SW</td>\n",
              "      <td>31247.0</td>\n",
              "      <td>19th St &amp; Constitution Ave NW</td>\n",
              "      <td>31235.0</td>\n",
              "      <td>38.888553</td>\n",
              "      <td>-77.032427</td>\n",
              "      <td>38.892300</td>\n",
              "      <td>-77.043600</td>\n",
              "      <td>casual</td>\n",
              "      <td>1627</td>\n",
              "    </tr>\n",
              "    <tr>\n",
              "      <th>479373</th>\n",
              "      <td>F146CC9669ABF5EC</td>\n",
              "      <td>docked_bike</td>\n",
              "      <td>2020-12-03 13:43:26</td>\n",
              "      <td>2020-12-03 14:06:11</td>\n",
              "      <td>Jefferson Dr &amp; 14th St SW</td>\n",
              "      <td>31247.0</td>\n",
              "      <td>4th St &amp; Madison Dr NW</td>\n",
              "      <td>31288.0</td>\n",
              "      <td>38.888553</td>\n",
              "      <td>-77.032427</td>\n",
              "      <td>38.890496</td>\n",
              "      <td>-77.017247</td>\n",
              "      <td>casual</td>\n",
              "      <td>1365</td>\n",
              "    </tr>\n",
              "    <tr>\n",
              "      <th>479374</th>\n",
              "      <td>614005BC98FE93F7</td>\n",
              "      <td>docked_bike</td>\n",
              "      <td>2020-12-06 07:27:47</td>\n",
              "      <td>2020-12-06 08:03:46</td>\n",
              "      <td>Jefferson Dr &amp; 14th St SW</td>\n",
              "      <td>31247.0</td>\n",
              "      <td>19th St &amp; Constitution Ave NW</td>\n",
              "      <td>31235.0</td>\n",
              "      <td>38.888552</td>\n",
              "      <td>-77.032427</td>\n",
              "      <td>38.892300</td>\n",
              "      <td>-77.043600</td>\n",
              "      <td>casual</td>\n",
              "      <td>2159</td>\n",
              "    </tr>\n",
              "    <tr>\n",
              "      <th>479375</th>\n",
              "      <td>86783BF38F4567FA</td>\n",
              "      <td>docked_bike</td>\n",
              "      <td>2020-12-21 13:46:01</td>\n",
              "      <td>2020-12-21 14:26:59</td>\n",
              "      <td>Jefferson Dr &amp; 14th St SW</td>\n",
              "      <td>31247.0</td>\n",
              "      <td>17th &amp; G St NW</td>\n",
              "      <td>31277.0</td>\n",
              "      <td>38.888553</td>\n",
              "      <td>-77.032427</td>\n",
              "      <td>38.898283</td>\n",
              "      <td>-77.039732</td>\n",
              "      <td>casual</td>\n",
              "      <td>2458</td>\n",
              "    </tr>\n",
              "  </tbody>\n",
              "</table>\n",
              "<p>465878 rows × 14 columns</p>\n",
              "</div>"
            ],
            "text/plain": [
              "                 ride_id rideable_type  ... member_casual time_to_travel\n",
              "0       4479E04D9D45AC6B   docked_bike  ...        casual           1223\n",
              "1       EF88DFBC1E6648EC   docked_bike  ...        casual            287\n",
              "2       25812556961CFABD   docked_bike  ...        casual           2338\n",
              "3       1621384E51D38F1F   docked_bike  ...        casual            833\n",
              "4       BC10B8C7848D1FDF   docked_bike  ...        member            513\n",
              "...                  ...           ...  ...           ...            ...\n",
              "479371  8A0B3B755E6F7EF0   docked_bike  ...        casual           2766\n",
              "479372  A10ED3D50E5AB612   docked_bike  ...        casual           1627\n",
              "479373  F146CC9669ABF5EC   docked_bike  ...        casual           1365\n",
              "479374  614005BC98FE93F7   docked_bike  ...        casual           2159\n",
              "479375  86783BF38F4567FA   docked_bike  ...        casual           2458\n",
              "\n",
              "[465878 rows x 14 columns]"
            ]
          },
          "metadata": {
            "tags": []
          },
          "execution_count": 911
        }
      ]
    },
    {
      "cell_type": "code",
      "metadata": {
        "colab": {
          "base_uri": "https://localhost:8080/"
        },
        "id": "3GJN2EZOWF_4",
        "outputId": "c99cd729-c4fd-40db-e654-3bb82864f155"
      },
      "source": [
        "data9['rideable_type'].value_counts()"
      ],
      "execution_count": 912,
      "outputs": [
        {
          "output_type": "execute_result",
          "data": {
            "text/plain": [
              "docked_bike      234141\n",
              "electric_bike    231737\n",
              "Name: rideable_type, dtype: int64"
            ]
          },
          "metadata": {
            "tags": []
          },
          "execution_count": 912
        }
      ]
    },
    {
      "cell_type": "code",
      "metadata": {
        "colab": {
          "base_uri": "https://localhost:8080/"
        },
        "id": "JEIQYCXgikbm",
        "outputId": "27acbc20-69c3-4178-c384-fc2511510eb8"
      },
      "source": [
        "data9['rideable_type'] = [1 if b=='docked_bike' else 0 for b in data9.rideable_type\t]\r\n",
        " \r\n",
        "data9['rideable_type'].value_counts()"
      ],
      "execution_count": 913,
      "outputs": [
        {
          "output_type": "stream",
          "text": [
            "/usr/local/lib/python3.7/dist-packages/ipykernel_launcher.py:1: SettingWithCopyWarning: \n",
            "A value is trying to be set on a copy of a slice from a DataFrame.\n",
            "Try using .loc[row_indexer,col_indexer] = value instead\n",
            "\n",
            "See the caveats in the documentation: https://pandas.pydata.org/pandas-docs/stable/user_guide/indexing.html#returning-a-view-versus-a-copy\n",
            "  \"\"\"Entry point for launching an IPython kernel.\n"
          ],
          "name": "stderr"
        },
        {
          "output_type": "execute_result",
          "data": {
            "text/plain": [
              "1    234141\n",
              "0    231737\n",
              "Name: rideable_type, dtype: int64"
            ]
          },
          "metadata": {
            "tags": []
          },
          "execution_count": 913
        }
      ]
    },
    {
      "cell_type": "code",
      "metadata": {
        "colab": {
          "base_uri": "https://localhost:8080/"
        },
        "id": "RiY6CbTyiYik",
        "outputId": "4237c23c-7616-46b1-a5c8-9bc6a1daf216"
      },
      "source": [
        "# Separate majority and minority classes\r\n",
        "from sklearn.utils import resample\r\n",
        "\r\n",
        "df_majority = data9[data9.rideable_type == 1]\r\n",
        "df_minority = data9[data9.rideable_type==0]\r\n",
        " \r\n",
        "# Downsample majority class\r\n",
        "df_majority_downsampled = resample(df_majority, \r\n",
        "                                 replace=False,    # sample without replacement\r\n",
        "                                 n_samples=231737,     # to match minority class\r\n",
        "                                 random_state=50) # reproducible results\r\n",
        " \r\n",
        "# Combine minority class with downsampled majority class\r\n",
        "data9 = pd.concat([df_majority_downsampled, df_minority])\r\n",
        " \r\n",
        "# Display new class counts\r\n",
        "data9.rideable_type.value_counts()"
      ],
      "execution_count": 914,
      "outputs": [
        {
          "output_type": "execute_result",
          "data": {
            "text/plain": [
              "1    231737\n",
              "0    231737\n",
              "Name: rideable_type, dtype: int64"
            ]
          },
          "metadata": {
            "tags": []
          },
          "execution_count": 914
        }
      ]
    },
    {
      "cell_type": "code",
      "metadata": {
        "colab": {
          "base_uri": "https://localhost:8080/"
        },
        "id": "dX36dC_UiYi0",
        "outputId": "7b62a10b-7d2c-46a2-8d63-07403922b6c8"
      },
      "source": [
        "data9['rideable_type'] = ['docked_bike' if b== 1 else 'electric_bike' for b in data9.rideable_type\t]\r\n",
        " \r\n",
        "data9['rideable_type'].value_counts()"
      ],
      "execution_count": 915,
      "outputs": [
        {
          "output_type": "execute_result",
          "data": {
            "text/plain": [
              "docked_bike      231737\n",
              "electric_bike    231737\n",
              "Name: rideable_type, dtype: int64"
            ]
          },
          "metadata": {
            "tags": []
          },
          "execution_count": 915
        }
      ]
    },
    {
      "cell_type": "code",
      "metadata": {
        "colab": {
          "base_uri": "https://localhost:8080/",
          "height": 773
        },
        "id": "PGeXYKg1cjPm",
        "outputId": "e6fa935e-15fa-4fbb-df17-44b7bfb15a17"
      },
      "source": [
        "data9"
      ],
      "execution_count": 916,
      "outputs": [
        {
          "output_type": "execute_result",
          "data": {
            "text/html": [
              "<div>\n",
              "<style scoped>\n",
              "    .dataframe tbody tr th:only-of-type {\n",
              "        vertical-align: middle;\n",
              "    }\n",
              "\n",
              "    .dataframe tbody tr th {\n",
              "        vertical-align: top;\n",
              "    }\n",
              "\n",
              "    .dataframe thead th {\n",
              "        text-align: right;\n",
              "    }\n",
              "</style>\n",
              "<table border=\"1\" class=\"dataframe\">\n",
              "  <thead>\n",
              "    <tr style=\"text-align: right;\">\n",
              "      <th></th>\n",
              "      <th>ride_id</th>\n",
              "      <th>rideable_type</th>\n",
              "      <th>started_at</th>\n",
              "      <th>ended_at</th>\n",
              "      <th>start_station_name</th>\n",
              "      <th>start_station_id</th>\n",
              "      <th>end_station_name</th>\n",
              "      <th>end_station_id</th>\n",
              "      <th>start_lat</th>\n",
              "      <th>start_lng</th>\n",
              "      <th>end_lat</th>\n",
              "      <th>end_lng</th>\n",
              "      <th>member_casual</th>\n",
              "      <th>time_to_travel</th>\n",
              "    </tr>\n",
              "  </thead>\n",
              "  <tbody>\n",
              "    <tr>\n",
              "      <th>141711</th>\n",
              "      <td>93B3501F458CA64C</td>\n",
              "      <td>docked_bike</td>\n",
              "      <td>2020-09-15 19:24:46</td>\n",
              "      <td>2020-09-15 19:44:39</td>\n",
              "      <td>19th St &amp; Constitution Ave NW</td>\n",
              "      <td>31235.0</td>\n",
              "      <td>California St &amp; Florida Ave NW</td>\n",
              "      <td>31116.0</td>\n",
              "      <td>38.892300</td>\n",
              "      <td>-77.043600</td>\n",
              "      <td>38.917761</td>\n",
              "      <td>-77.040620</td>\n",
              "      <td>member</td>\n",
              "      <td>1193</td>\n",
              "    </tr>\n",
              "    <tr>\n",
              "      <th>479368</th>\n",
              "      <td>51B4EF2E7FC494EC</td>\n",
              "      <td>docked_bike</td>\n",
              "      <td>2020-12-05 09:09:04</td>\n",
              "      <td>2020-12-05 09:26:19</td>\n",
              "      <td>11th &amp; S St NW</td>\n",
              "      <td>31280.0</td>\n",
              "      <td>4th St &amp; Madison Dr NW</td>\n",
              "      <td>31288.0</td>\n",
              "      <td>38.913761</td>\n",
              "      <td>-77.027025</td>\n",
              "      <td>38.890496</td>\n",
              "      <td>-77.017246</td>\n",
              "      <td>member</td>\n",
              "      <td>1035</td>\n",
              "    </tr>\n",
              "    <tr>\n",
              "      <th>46038</th>\n",
              "      <td>584A8E2124160889</td>\n",
              "      <td>docked_bike</td>\n",
              "      <td>2020-08-07 19:53:38</td>\n",
              "      <td>2020-08-07 20:18:02</td>\n",
              "      <td>1st &amp; M St NE</td>\n",
              "      <td>31603.0</td>\n",
              "      <td>18th St &amp; Wyoming Ave NW</td>\n",
              "      <td>31114.0</td>\n",
              "      <td>38.905697</td>\n",
              "      <td>-77.005483</td>\n",
              "      <td>38.918809</td>\n",
              "      <td>-77.041571</td>\n",
              "      <td>casual</td>\n",
              "      <td>1464</td>\n",
              "    </tr>\n",
              "    <tr>\n",
              "      <th>33207</th>\n",
              "      <td>FE7D7691E29255F8</td>\n",
              "      <td>docked_bike</td>\n",
              "      <td>2020-08-19 11:39:32</td>\n",
              "      <td>2020-08-19 11:45:21</td>\n",
              "      <td>14th &amp; R St NW</td>\n",
              "      <td>31202.0</td>\n",
              "      <td>12th &amp; L St NW</td>\n",
              "      <td>31251.0</td>\n",
              "      <td>38.913046</td>\n",
              "      <td>-77.032008</td>\n",
              "      <td>38.903819</td>\n",
              "      <td>-77.028400</td>\n",
              "      <td>member</td>\n",
              "      <td>349</td>\n",
              "    </tr>\n",
              "    <tr>\n",
              "      <th>353975</th>\n",
              "      <td>6261B5882BF1274E</td>\n",
              "      <td>docked_bike</td>\n",
              "      <td>2020-11-10 08:12:40</td>\n",
              "      <td>2020-11-10 08:19:18</td>\n",
              "      <td>5th St &amp; Massachusetts Ave NW</td>\n",
              "      <td>31265.0</td>\n",
              "      <td>8th &amp; O St NW</td>\n",
              "      <td>31281.0</td>\n",
              "      <td>38.900930</td>\n",
              "      <td>-77.018677</td>\n",
              "      <td>38.908640</td>\n",
              "      <td>-77.022770</td>\n",
              "      <td>member</td>\n",
              "      <td>398</td>\n",
              "    </tr>\n",
              "    <tr>\n",
              "      <th>...</th>\n",
              "      <td>...</td>\n",
              "      <td>...</td>\n",
              "      <td>...</td>\n",
              "      <td>...</td>\n",
              "      <td>...</td>\n",
              "      <td>...</td>\n",
              "      <td>...</td>\n",
              "      <td>...</td>\n",
              "      <td>...</td>\n",
              "      <td>...</td>\n",
              "      <td>...</td>\n",
              "      <td>...</td>\n",
              "      <td>...</td>\n",
              "      <td>...</td>\n",
              "    </tr>\n",
              "    <tr>\n",
              "      <th>450447</th>\n",
              "      <td>821451D6CF27EDC8</td>\n",
              "      <td>electric_bike</td>\n",
              "      <td>2020-12-24 22:30:24</td>\n",
              "      <td>2020-12-24 22:38:50</td>\n",
              "      <td>NaN</td>\n",
              "      <td>NaN</td>\n",
              "      <td>8th &amp; O St NW</td>\n",
              "      <td>31281.0</td>\n",
              "      <td>38.910000</td>\n",
              "      <td>-77.000000</td>\n",
              "      <td>38.908706</td>\n",
              "      <td>-77.022685</td>\n",
              "      <td>casual</td>\n",
              "      <td>506</td>\n",
              "    </tr>\n",
              "    <tr>\n",
              "      <th>450448</th>\n",
              "      <td>6EFB275A6EC2DAE3</td>\n",
              "      <td>electric_bike</td>\n",
              "      <td>2020-12-12 12:16:33</td>\n",
              "      <td>2020-12-12 12:45:00</td>\n",
              "      <td>1st &amp; Rhode Island Ave NW</td>\n",
              "      <td>31506.0</td>\n",
              "      <td>Jefferson Dr &amp; 14th St SW</td>\n",
              "      <td>31247.0</td>\n",
              "      <td>38.915417</td>\n",
              "      <td>-77.012289</td>\n",
              "      <td>38.888553</td>\n",
              "      <td>-77.032427</td>\n",
              "      <td>member</td>\n",
              "      <td>1707</td>\n",
              "    </tr>\n",
              "    <tr>\n",
              "      <th>450449</th>\n",
              "      <td>1FA6D922F87FEE15</td>\n",
              "      <td>electric_bike</td>\n",
              "      <td>2020-12-11 08:50:37</td>\n",
              "      <td>2020-12-11 09:07:33</td>\n",
              "      <td>NaN</td>\n",
              "      <td>NaN</td>\n",
              "      <td>NaN</td>\n",
              "      <td>NaN</td>\n",
              "      <td>38.910000</td>\n",
              "      <td>-77.010000</td>\n",
              "      <td>38.950000</td>\n",
              "      <td>-77.010000</td>\n",
              "      <td>member</td>\n",
              "      <td>1016</td>\n",
              "    </tr>\n",
              "    <tr>\n",
              "      <th>450450</th>\n",
              "      <td>5CB3FEC6957B57F8</td>\n",
              "      <td>electric_bike</td>\n",
              "      <td>2020-12-12 14:39:47</td>\n",
              "      <td>2020-12-12 15:00:42</td>\n",
              "      <td>11th &amp; Park Rd NW</td>\n",
              "      <td>31651.0</td>\n",
              "      <td>10th &amp; K St NW</td>\n",
              "      <td>31263.0</td>\n",
              "      <td>38.931322</td>\n",
              "      <td>-77.028247</td>\n",
              "      <td>38.902400</td>\n",
              "      <td>-77.026220</td>\n",
              "      <td>casual</td>\n",
              "      <td>1255</td>\n",
              "    </tr>\n",
              "    <tr>\n",
              "      <th>450451</th>\n",
              "      <td>FB04A16521A1A517</td>\n",
              "      <td>electric_bike</td>\n",
              "      <td>2020-12-06 11:13:45</td>\n",
              "      <td>2020-12-06 11:23:08</td>\n",
              "      <td>15th &amp; W St NW</td>\n",
              "      <td>31125.0</td>\n",
              "      <td>14th St Heights / 14th &amp; Crittenden St NW</td>\n",
              "      <td>31402.0</td>\n",
              "      <td>38.919006</td>\n",
              "      <td>-77.034553</td>\n",
              "      <td>38.947613</td>\n",
              "      <td>-77.032866</td>\n",
              "      <td>member</td>\n",
              "      <td>563</td>\n",
              "    </tr>\n",
              "  </tbody>\n",
              "</table>\n",
              "<p>463474 rows × 14 columns</p>\n",
              "</div>"
            ],
            "text/plain": [
              "                 ride_id  rideable_type  ... member_casual time_to_travel\n",
              "141711  93B3501F458CA64C    docked_bike  ...        member           1193\n",
              "479368  51B4EF2E7FC494EC    docked_bike  ...        member           1035\n",
              "46038   584A8E2124160889    docked_bike  ...        casual           1464\n",
              "33207   FE7D7691E29255F8    docked_bike  ...        member            349\n",
              "353975  6261B5882BF1274E    docked_bike  ...        member            398\n",
              "...                  ...            ...  ...           ...            ...\n",
              "450447  821451D6CF27EDC8  electric_bike  ...        casual            506\n",
              "450448  6EFB275A6EC2DAE3  electric_bike  ...        member           1707\n",
              "450449  1FA6D922F87FEE15  electric_bike  ...        member           1016\n",
              "450450  5CB3FEC6957B57F8  electric_bike  ...        casual           1255\n",
              "450451  FB04A16521A1A517  electric_bike  ...        member            563\n",
              "\n",
              "[463474 rows x 14 columns]"
            ]
          },
          "metadata": {
            "tags": []
          },
          "execution_count": 916
        }
      ]
    },
    {
      "cell_type": "code",
      "metadata": {
        "colab": {
          "base_uri": "https://localhost:8080/"
        },
        "id": "cRlCuLDY0H47",
        "outputId": "687f1c17-f6bc-422c-89d8-315fc922b064"
      },
      "source": [
        "import calendar\n",
        "v = pd.Series([i for i in range(len(data9))])\n",
        "data9 = data9.reindex(v)\n",
        "s = pd.to_datetime(data9['ended_at'])\n",
        "\n",
        "print(s)\n",
        "print(s[0].month)\n",
        "print(s[0].year)\n",
        "print(s[0].day)\n",
        "print(s[1].weekday())\n",
        "print(calendar.day_name[s[1].weekday()])\n",
        "m1 = []\n",
        "m2 = []\n",
        "m3 = []\n",
        "m4 = []\n",
        "v=0\n",
        "for k in range(len(s)):\n",
        "  m1.append(s[k].month)\n",
        "for k in range(len(s)):\n",
        "  m2.append(s[k].year)\n",
        "for k in range(len(s)):\n",
        "  m3.append(s[k].day)\n",
        "#for k in range(len(s)):\n",
        " # if s[k] is not None:\n",
        "  #  m4.append(calendar.day_name[s[k].weekday()])\n",
        "  #else :\n",
        "   # m4.append([s[0].weekday()])\n"
      ],
      "execution_count": 917,
      "outputs": [
        {
          "output_type": "stream",
          "text": [
            "0        2020-08-22 17:30:02\n",
            "1        2020-08-26 13:18:41\n",
            "2        2020-08-07 17:13:39\n",
            "3        2020-08-07 20:45:58\n",
            "4        2020-08-18 13:49:07\n",
            "                 ...        \n",
            "463469   2020-12-01 20:34:45\n",
            "463470   2020-12-05 12:29:49\n",
            "463471   2020-12-02 14:22:33\n",
            "463472                   NaT\n",
            "463473   2020-12-07 11:19:27\n",
            "Name: ended_at, Length: 463474, dtype: datetime64[ns]\n",
            "8\n",
            "2020\n",
            "22\n",
            "2\n",
            "Wednesday\n"
          ],
          "name": "stdout"
        }
      ]
    },
    {
      "cell_type": "code",
      "metadata": {
        "colab": {
          "base_uri": "https://localhost:8080/",
          "height": 563
        },
        "id": "WISC8E1_0vpR",
        "outputId": "f91f96ee-855f-4f56-bf43-5437abca1016"
      },
      "source": [
        "dc = {'ride_id': data9['ride_id'], 'rideable_type': data9['rideable_type'], 'started_at': data9['started_at'], 'MO' : m1, 'YEAR':m2, 'DY':m3, 'start_station_id': data9['start_station_id'], 'end_station_name': data9['end_station_name'], 'end_station_id': data9['end_station_id'], 'time_to_travel': data9['time_to_travel'] } \n",
        "df = pd.DataFrame(dc)\n",
        "df "
      ],
      "execution_count": 918,
      "outputs": [
        {
          "output_type": "execute_result",
          "data": {
            "text/html": [
              "<div>\n",
              "<style scoped>\n",
              "    .dataframe tbody tr th:only-of-type {\n",
              "        vertical-align: middle;\n",
              "    }\n",
              "\n",
              "    .dataframe tbody tr th {\n",
              "        vertical-align: top;\n",
              "    }\n",
              "\n",
              "    .dataframe thead th {\n",
              "        text-align: right;\n",
              "    }\n",
              "</style>\n",
              "<table border=\"1\" class=\"dataframe\">\n",
              "  <thead>\n",
              "    <tr style=\"text-align: right;\">\n",
              "      <th></th>\n",
              "      <th>ride_id</th>\n",
              "      <th>rideable_type</th>\n",
              "      <th>started_at</th>\n",
              "      <th>MO</th>\n",
              "      <th>YEAR</th>\n",
              "      <th>DY</th>\n",
              "      <th>start_station_id</th>\n",
              "      <th>end_station_name</th>\n",
              "      <th>end_station_id</th>\n",
              "      <th>time_to_travel</th>\n",
              "    </tr>\n",
              "  </thead>\n",
              "  <tbody>\n",
              "    <tr>\n",
              "      <th>0</th>\n",
              "      <td>4479E04D9D45AC6B</td>\n",
              "      <td>docked_bike</td>\n",
              "      <td>2020-08-22 17:09:39</td>\n",
              "      <td>8.0</td>\n",
              "      <td>2020.0</td>\n",
              "      <td>22.0</td>\n",
              "      <td>31287.0</td>\n",
              "      <td>13th &amp; E St SE</td>\n",
              "      <td>31607.0</td>\n",
              "      <td>1223</td>\n",
              "    </tr>\n",
              "    <tr>\n",
              "      <th>1</th>\n",
              "      <td>EF88DFBC1E6648EC</td>\n",
              "      <td>docked_bike</td>\n",
              "      <td>2020-08-26 13:13:54</td>\n",
              "      <td>8.0</td>\n",
              "      <td>2020.0</td>\n",
              "      <td>26.0</td>\n",
              "      <td>31271.0</td>\n",
              "      <td>New Jersey Ave &amp; F St NW</td>\n",
              "      <td>31655.0</td>\n",
              "      <td>287</td>\n",
              "    </tr>\n",
              "    <tr>\n",
              "      <th>2</th>\n",
              "      <td>25812556961CFABD</td>\n",
              "      <td>docked_bike</td>\n",
              "      <td>2020-08-07 16:34:41</td>\n",
              "      <td>8.0</td>\n",
              "      <td>2020.0</td>\n",
              "      <td>7.0</td>\n",
              "      <td>32014.0</td>\n",
              "      <td>22nd &amp; P ST NW</td>\n",
              "      <td>31285.0</td>\n",
              "      <td>2338</td>\n",
              "    </tr>\n",
              "    <tr>\n",
              "      <th>3</th>\n",
              "      <td>1621384E51D38F1F</td>\n",
              "      <td>docked_bike</td>\n",
              "      <td>2020-08-07 20:32:05</td>\n",
              "      <td>8.0</td>\n",
              "      <td>2020.0</td>\n",
              "      <td>7.0</td>\n",
              "      <td>31528.0</td>\n",
              "      <td>3rd &amp; M St NE</td>\n",
              "      <td>31627.0</td>\n",
              "      <td>833</td>\n",
              "    </tr>\n",
              "    <tr>\n",
              "      <th>4</th>\n",
              "      <td>BC10B8C7848D1FDF</td>\n",
              "      <td>docked_bike</td>\n",
              "      <td>2020-08-18 13:40:34</td>\n",
              "      <td>8.0</td>\n",
              "      <td>2020.0</td>\n",
              "      <td>18.0</td>\n",
              "      <td>31122.0</td>\n",
              "      <td>New Hampshire Ave &amp; T St NW</td>\n",
              "      <td>31229.0</td>\n",
              "      <td>513</td>\n",
              "    </tr>\n",
              "    <tr>\n",
              "      <th>...</th>\n",
              "      <td>...</td>\n",
              "      <td>...</td>\n",
              "      <td>...</td>\n",
              "      <td>...</td>\n",
              "      <td>...</td>\n",
              "      <td>...</td>\n",
              "      <td>...</td>\n",
              "      <td>...</td>\n",
              "      <td>...</td>\n",
              "      <td>...</td>\n",
              "    </tr>\n",
              "    <tr>\n",
              "      <th>463469</th>\n",
              "      <td>079AFBED14617F6D</td>\n",
              "      <td>docked_bike</td>\n",
              "      <td>2020-12-01 20:27:30</td>\n",
              "      <td>12.0</td>\n",
              "      <td>2020.0</td>\n",
              "      <td>1.0</td>\n",
              "      <td>31283.0</td>\n",
              "      <td>7th &amp; S St NW</td>\n",
              "      <td>31130.0</td>\n",
              "      <td>435</td>\n",
              "    </tr>\n",
              "    <tr>\n",
              "      <th>463470</th>\n",
              "      <td>E3964F8C9CA9B59D</td>\n",
              "      <td>docked_bike</td>\n",
              "      <td>2020-12-05 12:17:45</td>\n",
              "      <td>12.0</td>\n",
              "      <td>2020.0</td>\n",
              "      <td>5.0</td>\n",
              "      <td>31519.0</td>\n",
              "      <td>14th &amp; R St NW</td>\n",
              "      <td>31202.0</td>\n",
              "      <td>724</td>\n",
              "    </tr>\n",
              "    <tr>\n",
              "      <th>463471</th>\n",
              "      <td>7E1A30571CC874FE</td>\n",
              "      <td>docked_bike</td>\n",
              "      <td>2020-12-02 14:10:55</td>\n",
              "      <td>12.0</td>\n",
              "      <td>2020.0</td>\n",
              "      <td>2.0</td>\n",
              "      <td>31519.0</td>\n",
              "      <td>14th &amp; R St NW</td>\n",
              "      <td>31202.0</td>\n",
              "      <td>698</td>\n",
              "    </tr>\n",
              "    <tr>\n",
              "      <th>463472</th>\n",
              "      <td>NaN</td>\n",
              "      <td>NaN</td>\n",
              "      <td>NaN</td>\n",
              "      <td>NaN</td>\n",
              "      <td>NaN</td>\n",
              "      <td>NaN</td>\n",
              "      <td>NaN</td>\n",
              "      <td>NaN</td>\n",
              "      <td>NaN</td>\n",
              "      <td>NaN</td>\n",
              "    </tr>\n",
              "    <tr>\n",
              "      <th>463473</th>\n",
              "      <td>A8D1C8DDA0102CA3</td>\n",
              "      <td>docked_bike</td>\n",
              "      <td>2020-12-07 11:09:48</td>\n",
              "      <td>12.0</td>\n",
              "      <td>2020.0</td>\n",
              "      <td>7.0</td>\n",
              "      <td>31401.0</td>\n",
              "      <td>14th &amp; R St NW</td>\n",
              "      <td>31202.0</td>\n",
              "      <td>579</td>\n",
              "    </tr>\n",
              "  </tbody>\n",
              "</table>\n",
              "<p>463474 rows × 10 columns</p>\n",
              "</div>"
            ],
            "text/plain": [
              "                 ride_id rideable_type  ... end_station_id  time_to_travel\n",
              "0       4479E04D9D45AC6B   docked_bike  ...        31607.0            1223\n",
              "1       EF88DFBC1E6648EC   docked_bike  ...        31655.0             287\n",
              "2       25812556961CFABD   docked_bike  ...        31285.0            2338\n",
              "3       1621384E51D38F1F   docked_bike  ...        31627.0             833\n",
              "4       BC10B8C7848D1FDF   docked_bike  ...        31229.0             513\n",
              "...                  ...           ...  ...            ...             ...\n",
              "463469  079AFBED14617F6D   docked_bike  ...        31130.0             435\n",
              "463470  E3964F8C9CA9B59D   docked_bike  ...        31202.0             724\n",
              "463471  7E1A30571CC874FE   docked_bike  ...        31202.0             698\n",
              "463472               NaN           NaN  ...            NaN             NaN\n",
              "463473  A8D1C8DDA0102CA3   docked_bike  ...        31202.0             579\n",
              "\n",
              "[463474 rows x 10 columns]"
            ]
          },
          "metadata": {
            "tags": []
          },
          "execution_count": 918
        }
      ]
    },
    {
      "cell_type": "code",
      "metadata": {
        "colab": {
          "base_uri": "https://localhost:8080/",
          "height": 583
        },
        "id": "6KNSkHYlTgfm",
        "outputId": "9527fa7b-8bca-4e65-c473-630222ac7e2b"
      },
      "source": [
        "result = pd.merge(df, temp, how='left', on=['DY', 'MO','YEAR'])\n",
        "result\n"
      ],
      "execution_count": 919,
      "outputs": [
        {
          "output_type": "execute_result",
          "data": {
            "text/html": [
              "<div>\n",
              "<style scoped>\n",
              "    .dataframe tbody tr th:only-of-type {\n",
              "        vertical-align: middle;\n",
              "    }\n",
              "\n",
              "    .dataframe tbody tr th {\n",
              "        vertical-align: top;\n",
              "    }\n",
              "\n",
              "    .dataframe thead th {\n",
              "        text-align: right;\n",
              "    }\n",
              "</style>\n",
              "<table border=\"1\" class=\"dataframe\">\n",
              "  <thead>\n",
              "    <tr style=\"text-align: right;\">\n",
              "      <th></th>\n",
              "      <th>ride_id</th>\n",
              "      <th>rideable_type</th>\n",
              "      <th>started_at</th>\n",
              "      <th>MO</th>\n",
              "      <th>YEAR</th>\n",
              "      <th>DY</th>\n",
              "      <th>start_station_id</th>\n",
              "      <th>end_station_name</th>\n",
              "      <th>end_station_id</th>\n",
              "      <th>time_to_travel</th>\n",
              "      <th>LAT</th>\n",
              "      <th>LON</th>\n",
              "      <th>PRECTOT</th>\n",
              "      <th>QV2M</th>\n",
              "      <th>PS</th>\n",
              "      <th>T2M_MAX</th>\n",
              "      <th>T2M_MIN</th>\n",
              "      <th>T2M_RANGE</th>\n",
              "    </tr>\n",
              "  </thead>\n",
              "  <tbody>\n",
              "    <tr>\n",
              "      <th>0</th>\n",
              "      <td>4479E04D9D45AC6B</td>\n",
              "      <td>docked_bike</td>\n",
              "      <td>2020-08-22 17:09:39</td>\n",
              "      <td>8.0</td>\n",
              "      <td>2020.0</td>\n",
              "      <td>22.0</td>\n",
              "      <td>31287.0</td>\n",
              "      <td>13th &amp; E St SE</td>\n",
              "      <td>31607.0</td>\n",
              "      <td>1223</td>\n",
              "      <td>38.91041</td>\n",
              "      <td>-76.83579</td>\n",
              "      <td>1.41</td>\n",
              "      <td>16.29</td>\n",
              "      <td>100.95</td>\n",
              "      <td>27.62</td>\n",
              "      <td>21.81</td>\n",
              "      <td>5.81</td>\n",
              "    </tr>\n",
              "    <tr>\n",
              "      <th>1</th>\n",
              "      <td>EF88DFBC1E6648EC</td>\n",
              "      <td>docked_bike</td>\n",
              "      <td>2020-08-26 13:13:54</td>\n",
              "      <td>8.0</td>\n",
              "      <td>2020.0</td>\n",
              "      <td>26.0</td>\n",
              "      <td>31271.0</td>\n",
              "      <td>New Jersey Ave &amp; F St NW</td>\n",
              "      <td>31655.0</td>\n",
              "      <td>287</td>\n",
              "      <td>38.91041</td>\n",
              "      <td>-76.83579</td>\n",
              "      <td>0.05</td>\n",
              "      <td>13.81</td>\n",
              "      <td>100.95</td>\n",
              "      <td>28.90</td>\n",
              "      <td>19.42</td>\n",
              "      <td>9.48</td>\n",
              "    </tr>\n",
              "    <tr>\n",
              "      <th>2</th>\n",
              "      <td>25812556961CFABD</td>\n",
              "      <td>docked_bike</td>\n",
              "      <td>2020-08-07 16:34:41</td>\n",
              "      <td>8.0</td>\n",
              "      <td>2020.0</td>\n",
              "      <td>7.0</td>\n",
              "      <td>32014.0</td>\n",
              "      <td>22nd &amp; P ST NW</td>\n",
              "      <td>31285.0</td>\n",
              "      <td>2338</td>\n",
              "      <td>38.91041</td>\n",
              "      <td>-76.83579</td>\n",
              "      <td>8.45</td>\n",
              "      <td>17.16</td>\n",
              "      <td>101.24</td>\n",
              "      <td>28.21</td>\n",
              "      <td>22.82</td>\n",
              "      <td>5.39</td>\n",
              "    </tr>\n",
              "    <tr>\n",
              "      <th>3</th>\n",
              "      <td>1621384E51D38F1F</td>\n",
              "      <td>docked_bike</td>\n",
              "      <td>2020-08-07 20:32:05</td>\n",
              "      <td>8.0</td>\n",
              "      <td>2020.0</td>\n",
              "      <td>7.0</td>\n",
              "      <td>31528.0</td>\n",
              "      <td>3rd &amp; M St NE</td>\n",
              "      <td>31627.0</td>\n",
              "      <td>833</td>\n",
              "      <td>38.91041</td>\n",
              "      <td>-76.83579</td>\n",
              "      <td>8.45</td>\n",
              "      <td>17.16</td>\n",
              "      <td>101.24</td>\n",
              "      <td>28.21</td>\n",
              "      <td>22.82</td>\n",
              "      <td>5.39</td>\n",
              "    </tr>\n",
              "    <tr>\n",
              "      <th>4</th>\n",
              "      <td>BC10B8C7848D1FDF</td>\n",
              "      <td>docked_bike</td>\n",
              "      <td>2020-08-18 13:40:34</td>\n",
              "      <td>8.0</td>\n",
              "      <td>2020.0</td>\n",
              "      <td>18.0</td>\n",
              "      <td>31122.0</td>\n",
              "      <td>New Hampshire Ave &amp; T St NW</td>\n",
              "      <td>31229.0</td>\n",
              "      <td>513</td>\n",
              "      <td>38.91041</td>\n",
              "      <td>-76.83579</td>\n",
              "      <td>0.63</td>\n",
              "      <td>12.70</td>\n",
              "      <td>100.64</td>\n",
              "      <td>28.61</td>\n",
              "      <td>16.87</td>\n",
              "      <td>11.74</td>\n",
              "    </tr>\n",
              "    <tr>\n",
              "      <th>...</th>\n",
              "      <td>...</td>\n",
              "      <td>...</td>\n",
              "      <td>...</td>\n",
              "      <td>...</td>\n",
              "      <td>...</td>\n",
              "      <td>...</td>\n",
              "      <td>...</td>\n",
              "      <td>...</td>\n",
              "      <td>...</td>\n",
              "      <td>...</td>\n",
              "      <td>...</td>\n",
              "      <td>...</td>\n",
              "      <td>...</td>\n",
              "      <td>...</td>\n",
              "      <td>...</td>\n",
              "      <td>...</td>\n",
              "      <td>...</td>\n",
              "      <td>...</td>\n",
              "    </tr>\n",
              "    <tr>\n",
              "      <th>463469</th>\n",
              "      <td>079AFBED14617F6D</td>\n",
              "      <td>docked_bike</td>\n",
              "      <td>2020-12-01 20:27:30</td>\n",
              "      <td>12.0</td>\n",
              "      <td>2020.0</td>\n",
              "      <td>1.0</td>\n",
              "      <td>31283.0</td>\n",
              "      <td>7th &amp; S St NW</td>\n",
              "      <td>31130.0</td>\n",
              "      <td>435</td>\n",
              "      <td>38.91041</td>\n",
              "      <td>-76.83579</td>\n",
              "      <td>0.05</td>\n",
              "      <td>4.08</td>\n",
              "      <td>100.16</td>\n",
              "      <td>7.48</td>\n",
              "      <td>2.27</td>\n",
              "      <td>5.20</td>\n",
              "    </tr>\n",
              "    <tr>\n",
              "      <th>463470</th>\n",
              "      <td>E3964F8C9CA9B59D</td>\n",
              "      <td>docked_bike</td>\n",
              "      <td>2020-12-05 12:17:45</td>\n",
              "      <td>12.0</td>\n",
              "      <td>2020.0</td>\n",
              "      <td>5.0</td>\n",
              "      <td>31519.0</td>\n",
              "      <td>14th &amp; R St NW</td>\n",
              "      <td>31202.0</td>\n",
              "      <td>724</td>\n",
              "      <td>38.91041</td>\n",
              "      <td>-76.83579</td>\n",
              "      <td>34.13</td>\n",
              "      <td>4.70</td>\n",
              "      <td>100.48</td>\n",
              "      <td>8.65</td>\n",
              "      <td>2.14</td>\n",
              "      <td>6.50</td>\n",
              "    </tr>\n",
              "    <tr>\n",
              "      <th>463471</th>\n",
              "      <td>7E1A30571CC874FE</td>\n",
              "      <td>docked_bike</td>\n",
              "      <td>2020-12-02 14:10:55</td>\n",
              "      <td>12.0</td>\n",
              "      <td>2020.0</td>\n",
              "      <td>2.0</td>\n",
              "      <td>31519.0</td>\n",
              "      <td>14th &amp; R St NW</td>\n",
              "      <td>31202.0</td>\n",
              "      <td>698</td>\n",
              "      <td>38.91041</td>\n",
              "      <td>-76.83579</td>\n",
              "      <td>0.00</td>\n",
              "      <td>3.39</td>\n",
              "      <td>101.42</td>\n",
              "      <td>7.89</td>\n",
              "      <td>-0.18</td>\n",
              "      <td>8.07</td>\n",
              "    </tr>\n",
              "    <tr>\n",
              "      <th>463472</th>\n",
              "      <td>NaN</td>\n",
              "      <td>NaN</td>\n",
              "      <td>NaN</td>\n",
              "      <td>NaN</td>\n",
              "      <td>NaN</td>\n",
              "      <td>NaN</td>\n",
              "      <td>NaN</td>\n",
              "      <td>NaN</td>\n",
              "      <td>NaN</td>\n",
              "      <td>NaN</td>\n",
              "      <td>NaN</td>\n",
              "      <td>NaN</td>\n",
              "      <td>NaN</td>\n",
              "      <td>NaN</td>\n",
              "      <td>NaN</td>\n",
              "      <td>NaN</td>\n",
              "      <td>NaN</td>\n",
              "      <td>NaN</td>\n",
              "    </tr>\n",
              "    <tr>\n",
              "      <th>463473</th>\n",
              "      <td>A8D1C8DDA0102CA3</td>\n",
              "      <td>docked_bike</td>\n",
              "      <td>2020-12-07 11:09:48</td>\n",
              "      <td>12.0</td>\n",
              "      <td>2020.0</td>\n",
              "      <td>7.0</td>\n",
              "      <td>31401.0</td>\n",
              "      <td>14th &amp; R St NW</td>\n",
              "      <td>31202.0</td>\n",
              "      <td>579</td>\n",
              "      <td>38.91041</td>\n",
              "      <td>-76.83579</td>\n",
              "      <td>0.05</td>\n",
              "      <td>2.96</td>\n",
              "      <td>100.56</td>\n",
              "      <td>3.84</td>\n",
              "      <td>-2.18</td>\n",
              "      <td>6.02</td>\n",
              "    </tr>\n",
              "  </tbody>\n",
              "</table>\n",
              "<p>463474 rows × 18 columns</p>\n",
              "</div>"
            ],
            "text/plain": [
              "                 ride_id rideable_type  ... T2M_MIN  T2M_RANGE\n",
              "0       4479E04D9D45AC6B   docked_bike  ...   21.81       5.81\n",
              "1       EF88DFBC1E6648EC   docked_bike  ...   19.42       9.48\n",
              "2       25812556961CFABD   docked_bike  ...   22.82       5.39\n",
              "3       1621384E51D38F1F   docked_bike  ...   22.82       5.39\n",
              "4       BC10B8C7848D1FDF   docked_bike  ...   16.87      11.74\n",
              "...                  ...           ...  ...     ...        ...\n",
              "463469  079AFBED14617F6D   docked_bike  ...    2.27       5.20\n",
              "463470  E3964F8C9CA9B59D   docked_bike  ...    2.14       6.50\n",
              "463471  7E1A30571CC874FE   docked_bike  ...   -0.18       8.07\n",
              "463472               NaN           NaN  ...     NaN        NaN\n",
              "463473  A8D1C8DDA0102CA3   docked_bike  ...   -2.18       6.02\n",
              "\n",
              "[463474 rows x 18 columns]"
            ]
          },
          "metadata": {
            "tags": []
          },
          "execution_count": 919
        }
      ]
    },
    {
      "cell_type": "code",
      "metadata": {
        "id": "sd2rN2PNqEy6",
        "colab": {
          "base_uri": "https://localhost:8080/",
          "height": 305
        },
        "outputId": "ba5ab1de-0f4b-4c61-f5c9-d7e4347509de"
      },
      "source": [
        "s1 = result.query('start_station_id == 31131')\r\n",
        "s1 = s1.sort_values(by=['DY'])\r\n",
        "s1.head()"
      ],
      "execution_count": 920,
      "outputs": [
        {
          "output_type": "execute_result",
          "data": {
            "text/html": [
              "<div>\n",
              "<style scoped>\n",
              "    .dataframe tbody tr th:only-of-type {\n",
              "        vertical-align: middle;\n",
              "    }\n",
              "\n",
              "    .dataframe tbody tr th {\n",
              "        vertical-align: top;\n",
              "    }\n",
              "\n",
              "    .dataframe thead th {\n",
              "        text-align: right;\n",
              "    }\n",
              "</style>\n",
              "<table border=\"1\" class=\"dataframe\">\n",
              "  <thead>\n",
              "    <tr style=\"text-align: right;\">\n",
              "      <th></th>\n",
              "      <th>ride_id</th>\n",
              "      <th>rideable_type</th>\n",
              "      <th>started_at</th>\n",
              "      <th>MO</th>\n",
              "      <th>YEAR</th>\n",
              "      <th>DY</th>\n",
              "      <th>start_station_id</th>\n",
              "      <th>end_station_name</th>\n",
              "      <th>end_station_id</th>\n",
              "      <th>time_to_travel</th>\n",
              "      <th>LAT</th>\n",
              "      <th>LON</th>\n",
              "      <th>PRECTOT</th>\n",
              "      <th>QV2M</th>\n",
              "      <th>PS</th>\n",
              "      <th>T2M_MAX</th>\n",
              "      <th>T2M_MIN</th>\n",
              "      <th>T2M_RANGE</th>\n",
              "    </tr>\n",
              "  </thead>\n",
              "  <tbody>\n",
              "    <tr>\n",
              "      <th>304542</th>\n",
              "      <td>38CC0B59BBA1AAB7</td>\n",
              "      <td>electric_bike</td>\n",
              "      <td>2020-10-01 23:50:17</td>\n",
              "      <td>10.0</td>\n",
              "      <td>2020.0</td>\n",
              "      <td>1.0</td>\n",
              "      <td>31131.0</td>\n",
              "      <td>14th &amp; R St NW</td>\n",
              "      <td>31202.0</td>\n",
              "      <td>451</td>\n",
              "      <td>38.91041</td>\n",
              "      <td>-76.83579</td>\n",
              "      <td>3.48</td>\n",
              "      <td>9.47</td>\n",
              "      <td>100.80</td>\n",
              "      <td>22.98</td>\n",
              "      <td>12.76</td>\n",
              "      <td>10.22</td>\n",
              "    </tr>\n",
              "    <tr>\n",
              "      <th>298860</th>\n",
              "      <td>D766D225BB19C08D</td>\n",
              "      <td>electric_bike</td>\n",
              "      <td>2020-10-01 22:14:10</td>\n",
              "      <td>10.0</td>\n",
              "      <td>2020.0</td>\n",
              "      <td>1.0</td>\n",
              "      <td>31131.0</td>\n",
              "      <td>NaN</td>\n",
              "      <td>NaN</td>\n",
              "      <td>253</td>\n",
              "      <td>38.91041</td>\n",
              "      <td>-76.83579</td>\n",
              "      <td>3.48</td>\n",
              "      <td>9.47</td>\n",
              "      <td>100.80</td>\n",
              "      <td>22.98</td>\n",
              "      <td>12.76</td>\n",
              "      <td>10.22</td>\n",
              "    </tr>\n",
              "    <tr>\n",
              "      <th>454503</th>\n",
              "      <td>224D509F7EF06649</td>\n",
              "      <td>docked_bike</td>\n",
              "      <td>2020-12-01 09:53:57</td>\n",
              "      <td>12.0</td>\n",
              "      <td>2020.0</td>\n",
              "      <td>1.0</td>\n",
              "      <td>31131.0</td>\n",
              "      <td>15th &amp; Euclid St  NW</td>\n",
              "      <td>31117.0</td>\n",
              "      <td>444</td>\n",
              "      <td>38.91041</td>\n",
              "      <td>-76.83579</td>\n",
              "      <td>0.05</td>\n",
              "      <td>4.08</td>\n",
              "      <td>100.16</td>\n",
              "      <td>7.48</td>\n",
              "      <td>2.27</td>\n",
              "      <td>5.20</td>\n",
              "    </tr>\n",
              "    <tr>\n",
              "      <th>413969</th>\n",
              "      <td>0DB8E4DEC6954727</td>\n",
              "      <td>electric_bike</td>\n",
              "      <td>2020-11-01 19:41:55</td>\n",
              "      <td>11.0</td>\n",
              "      <td>2020.0</td>\n",
              "      <td>1.0</td>\n",
              "      <td>31131.0</td>\n",
              "      <td>NaN</td>\n",
              "      <td>NaN</td>\n",
              "      <td>1268</td>\n",
              "      <td>38.91041</td>\n",
              "      <td>-76.83579</td>\n",
              "      <td>12.77</td>\n",
              "      <td>6.65</td>\n",
              "      <td>101.05</td>\n",
              "      <td>15.09</td>\n",
              "      <td>4.99</td>\n",
              "      <td>10.10</td>\n",
              "    </tr>\n",
              "    <tr>\n",
              "      <th>224968</th>\n",
              "      <td>36C7207CE537F80A</td>\n",
              "      <td>docked_bike</td>\n",
              "      <td>2020-10-01 09:41:46</td>\n",
              "      <td>10.0</td>\n",
              "      <td>2020.0</td>\n",
              "      <td>1.0</td>\n",
              "      <td>31131.0</td>\n",
              "      <td>Adams Mill &amp; Columbia Rd NW</td>\n",
              "      <td>31104.0</td>\n",
              "      <td>498</td>\n",
              "      <td>38.91041</td>\n",
              "      <td>-76.83579</td>\n",
              "      <td>3.48</td>\n",
              "      <td>9.47</td>\n",
              "      <td>100.80</td>\n",
              "      <td>22.98</td>\n",
              "      <td>12.76</td>\n",
              "      <td>10.22</td>\n",
              "    </tr>\n",
              "  </tbody>\n",
              "</table>\n",
              "</div>"
            ],
            "text/plain": [
              "                 ride_id  rideable_type  ... T2M_MIN  T2M_RANGE\n",
              "304542  38CC0B59BBA1AAB7  electric_bike  ...   12.76      10.22\n",
              "298860  D766D225BB19C08D  electric_bike  ...   12.76      10.22\n",
              "454503  224D509F7EF06649    docked_bike  ...    2.27       5.20\n",
              "413969  0DB8E4DEC6954727  electric_bike  ...    4.99      10.10\n",
              "224968  36C7207CE537F80A    docked_bike  ...   12.76      10.22\n",
              "\n",
              "[5 rows x 18 columns]"
            ]
          },
          "metadata": {
            "tags": []
          },
          "execution_count": 920
        }
      ]
    },
    {
      "cell_type": "code",
      "metadata": {
        "id": "nlosRnWmzatX",
        "colab": {
          "base_uri": "https://localhost:8080/"
        },
        "outputId": "589102de-e9e3-4106-f3b0-0274ed72785d"
      },
      "source": [
        "s6 =s1.groupby([\"rideable_type\",\"DY\"])\r\n",
        "s6"
      ],
      "execution_count": 921,
      "outputs": [
        {
          "output_type": "execute_result",
          "data": {
            "text/plain": [
              "<pandas.core.groupby.generic.DataFrameGroupBy object at 0x7fbf3b126710>"
            ]
          },
          "metadata": {
            "tags": []
          },
          "execution_count": 921
        }
      ]
    },
    {
      "cell_type": "code",
      "metadata": {
        "id": "rli4sSwsROvX",
        "colab": {
          "base_uri": "https://localhost:8080/",
          "height": 198
        },
        "outputId": "cc2f9677-c039-4a3d-abb1-03d2edda477b"
      },
      "source": [
        "s4 = temp.query('YEAR == 2020 and MO == 4')\n",
        "s4 = s4.sort_values(by=['MO'])\n",
        "s4.head()"
      ],
      "execution_count": 922,
      "outputs": [
        {
          "output_type": "execute_result",
          "data": {
            "text/html": [
              "<div>\n",
              "<style scoped>\n",
              "    .dataframe tbody tr th:only-of-type {\n",
              "        vertical-align: middle;\n",
              "    }\n",
              "\n",
              "    .dataframe tbody tr th {\n",
              "        vertical-align: top;\n",
              "    }\n",
              "\n",
              "    .dataframe thead th {\n",
              "        text-align: right;\n",
              "    }\n",
              "</style>\n",
              "<table border=\"1\" class=\"dataframe\">\n",
              "  <thead>\n",
              "    <tr style=\"text-align: right;\">\n",
              "      <th></th>\n",
              "      <th>LAT</th>\n",
              "      <th>LON</th>\n",
              "      <th>YEAR</th>\n",
              "      <th>MO</th>\n",
              "      <th>DY</th>\n",
              "      <th>PRECTOT</th>\n",
              "      <th>QV2M</th>\n",
              "      <th>PS</th>\n",
              "      <th>T2M_MAX</th>\n",
              "      <th>T2M_MIN</th>\n",
              "      <th>T2M_RANGE</th>\n",
              "    </tr>\n",
              "  </thead>\n",
              "  <tbody>\n",
              "    <tr>\n",
              "      <th>1186</th>\n",
              "      <td>38.91041</td>\n",
              "      <td>-76.83579</td>\n",
              "      <td>2020</td>\n",
              "      <td>4</td>\n",
              "      <td>1</td>\n",
              "      <td>0.52</td>\n",
              "      <td>5.09</td>\n",
              "      <td>100.43</td>\n",
              "      <td>12.17</td>\n",
              "      <td>4.31</td>\n",
              "      <td>7.85</td>\n",
              "    </tr>\n",
              "    <tr>\n",
              "      <th>1213</th>\n",
              "      <td>38.91041</td>\n",
              "      <td>-76.83579</td>\n",
              "      <td>2020</td>\n",
              "      <td>4</td>\n",
              "      <td>28</td>\n",
              "      <td>0.37</td>\n",
              "      <td>6.20</td>\n",
              "      <td>101.59</td>\n",
              "      <td>15.45</td>\n",
              "      <td>6.76</td>\n",
              "      <td>8.69</td>\n",
              "    </tr>\n",
              "    <tr>\n",
              "      <th>1212</th>\n",
              "      <td>38.91041</td>\n",
              "      <td>-76.83579</td>\n",
              "      <td>2020</td>\n",
              "      <td>4</td>\n",
              "      <td>27</td>\n",
              "      <td>0.98</td>\n",
              "      <td>5.49</td>\n",
              "      <td>101.05</td>\n",
              "      <td>14.42</td>\n",
              "      <td>5.76</td>\n",
              "      <td>8.66</td>\n",
              "    </tr>\n",
              "    <tr>\n",
              "      <th>1211</th>\n",
              "      <td>38.91041</td>\n",
              "      <td>-76.83579</td>\n",
              "      <td>2020</td>\n",
              "      <td>4</td>\n",
              "      <td>26</td>\n",
              "      <td>9.30</td>\n",
              "      <td>8.03</td>\n",
              "      <td>100.27</td>\n",
              "      <td>15.87</td>\n",
              "      <td>8.78</td>\n",
              "      <td>7.10</td>\n",
              "    </tr>\n",
              "    <tr>\n",
              "      <th>1210</th>\n",
              "      <td>38.91041</td>\n",
              "      <td>-76.83579</td>\n",
              "      <td>2020</td>\n",
              "      <td>4</td>\n",
              "      <td>25</td>\n",
              "      <td>3.14</td>\n",
              "      <td>7.13</td>\n",
              "      <td>101.08</td>\n",
              "      <td>16.33</td>\n",
              "      <td>8.40</td>\n",
              "      <td>7.92</td>\n",
              "    </tr>\n",
              "  </tbody>\n",
              "</table>\n",
              "</div>"
            ],
            "text/plain": [
              "           LAT       LON  YEAR  MO  ...      PS  T2M_MAX  T2M_MIN  T2M_RANGE\n",
              "1186  38.91041 -76.83579  2020   4  ...  100.43    12.17     4.31       7.85\n",
              "1213  38.91041 -76.83579  2020   4  ...  101.59    15.45     6.76       8.69\n",
              "1212  38.91041 -76.83579  2020   4  ...  101.05    14.42     5.76       8.66\n",
              "1211  38.91041 -76.83579  2020   4  ...  100.27    15.87     8.78       7.10\n",
              "1210  38.91041 -76.83579  2020   4  ...  101.08    16.33     8.40       7.92\n",
              "\n",
              "[5 rows x 11 columns]"
            ]
          },
          "metadata": {
            "tags": []
          },
          "execution_count": 922
        }
      ]
    },
    {
      "cell_type": "code",
      "metadata": {
        "id": "sLuJhVyky92H",
        "colab": {
          "base_uri": "https://localhost:8080/",
          "height": 464
        },
        "outputId": "02d20e3a-cedc-47ac-d10b-207724d92e7c"
      },
      "source": [
        "sa =s1.groupby([\"DY\",\"MO\",\"PS\",\"T2M_RANGE\",\"T2M_MAX\",\"T2M_MIN\",'QV2M',\"rideable_type\"]).size()\n",
        "s5 = []\n",
        "s6 = []\n",
        "sa = pd.DataFrame(sa,columns=['count'])\n",
        "modified = sa.reset_index()\n",
        "a = 0\n",
        "for i in range(len(modified)):\n",
        "  if(modified['rideable_type'][i] == 'docked_bike'):\n",
        "    s5.append(modified['count'][i])\n",
        "    s6.append(a)\n",
        "  else:\n",
        "    s6.append(modified['count'][i])\n",
        "    s5.append(a)\n",
        "print(s6)\n",
        "print(s5)\n",
        "sb = s1[['DY','MO','time_to_travel']]\n",
        "modified['docked_b'] = s5\n",
        "modified['electric_b'] = s6\n",
        "#modified = pd.merge(modified, sb, how=\"left\", on=[\"DY\", \"MO\"])\n",
        "#sb\n",
        "modified"
      ],
      "execution_count": 923,
      "outputs": [
        {
          "output_type": "stream",
          "text": [
            "[0, 5, 0, 4, 0, 4, 0, 8, 0, 1, 0, 6, 0, 2, 0, 7, 0, 2, 0, 0, 7, 0, 3, 0, 4, 0, 6, 0, 4, 0, 5, 0, 3, 0, 3, 0, 6, 0, 4, 0, 4, 0, 8, 0, 3, 0, 3, 0, 2, 0, 1, 0, 7, 0, 2, 0, 6, 0, 2, 0, 9, 0, 7, 0, 3, 0, 6, 0, 1, 0, 21, 0, 7, 0, 5, 0, 12, 0, 1, 0, 5, 12, 0, 5, 0, 4, 0, 6, 0, 9, 0, 5, 0, 13, 0, 6, 0, 4, 0, 6, 0, 3, 0, 2, 0, 3, 5, 0, 10, 0, 4, 0, 4, 0, 5, 0, 9, 0, 5, 0, 9, 0, 3, 0, 5, 4, 0, 7, 0, 2, 0, 5, 0, 3, 1, 0, 11, 0, 8, 0, 6, 0, 6, 2, 0, 4, 0, 9, 0, 7, 0, 5, 2, 0, 6, 0, 5, 0, 6, 0, 4, 4, 0, 6, 0, 4, 0, 12, 0, 4, 4, 0, 1, 0, 7, 0, 4, 4, 0, 3, 0, 5, 0, 17, 0, 14, 0, 2, 5, 0, 3, 0, 5, 0, 8, 0, 7, 6, 0, 4, 0, 9, 0, 3, 0, 6, 1, 0, 2, 0, 10, 0, 4, 0, 4, 5, 0, 5, 0, 2, 0, 6, 0, 3, 1, 0, 7, 0, 4, 2, 0, 7, 6, 0, 5, 0, 5, 0, 9, 0, 5, 5, 0, 3, 0, 4, 0, 3, 0, 2, 6, 0, 6, 0, 5, 0, 2, 0, 1, 6, 0, 5, 0, 5, 0, 2, 0, 5, 4, 0, 6, 0, 8, 0, 4, 0, 8, 5, 0, 3, 0, 6, 2]\n",
            "[7, 0, 6, 0, 8, 0, 2, 0, 6, 0, 4, 0, 5, 0, 4, 0, 2, 0, 10, 3, 0, 5, 0, 12, 0, 6, 0, 5, 0, 2, 0, 4, 0, 2, 0, 2, 0, 6, 0, 6, 0, 9, 0, 4, 0, 4, 0, 10, 0, 3, 0, 5, 0, 12, 0, 3, 0, 11, 0, 3, 0, 6, 0, 8, 0, 8, 0, 4, 0, 6, 0, 5, 0, 6, 0, 7, 0, 5, 0, 2, 0, 0, 3, 0, 4, 0, 6, 0, 3, 0, 1, 0, 9, 0, 4, 0, 1, 0, 7, 0, 7, 0, 3, 0, 2, 0, 0, 5, 0, 7, 0, 5, 0, 3, 0, 1, 0, 4, 0, 9, 0, 3, 0, 6, 0, 0, 7, 0, 7, 0, 6, 0, 1, 0, 0, 4, 0, 4, 0, 6, 0, 1, 0, 0, 3, 0, 3, 0, 5, 0, 7, 0, 0, 1, 0, 1, 0, 11, 0, 9, 0, 0, 4, 0, 6, 0, 4, 0, 6, 0, 0, 6, 0, 9, 0, 4, 0, 0, 1, 0, 1, 0, 6, 0, 2, 0, 5, 0, 0, 1, 0, 3, 0, 1, 0, 8, 0, 0, 10, 0, 5, 0, 7, 0, 1, 0, 0, 5, 0, 3, 0, 8, 0, 2, 0, 0, 3, 0, 4, 0, 6, 0, 7, 0, 0, 1, 0, 4, 0, 0, 5, 0, 0, 4, 0, 6, 0, 3, 0, 3, 0, 0, 3, 0, 9, 0, 4, 0, 3, 0, 0, 2, 0, 1, 0, 6, 0, 6, 0, 0, 2, 0, 3, 0, 2, 0, 2, 0, 0, 8, 0, 6, 0, 6, 0, 2, 0, 0, 1, 0, 2, 0, 0]\n"
          ],
          "name": "stdout"
        },
        {
          "output_type": "execute_result",
          "data": {
            "text/html": [
              "<div>\n",
              "<style scoped>\n",
              "    .dataframe tbody tr th:only-of-type {\n",
              "        vertical-align: middle;\n",
              "    }\n",
              "\n",
              "    .dataframe tbody tr th {\n",
              "        vertical-align: top;\n",
              "    }\n",
              "\n",
              "    .dataframe thead th {\n",
              "        text-align: right;\n",
              "    }\n",
              "</style>\n",
              "<table border=\"1\" class=\"dataframe\">\n",
              "  <thead>\n",
              "    <tr style=\"text-align: right;\">\n",
              "      <th></th>\n",
              "      <th>DY</th>\n",
              "      <th>MO</th>\n",
              "      <th>PS</th>\n",
              "      <th>T2M_RANGE</th>\n",
              "      <th>T2M_MAX</th>\n",
              "      <th>T2M_MIN</th>\n",
              "      <th>QV2M</th>\n",
              "      <th>rideable_type</th>\n",
              "      <th>count</th>\n",
              "      <th>docked_b</th>\n",
              "      <th>electric_b</th>\n",
              "    </tr>\n",
              "  </thead>\n",
              "  <tbody>\n",
              "    <tr>\n",
              "      <th>0</th>\n",
              "      <td>1.0</td>\n",
              "      <td>8.0</td>\n",
              "      <td>100.75</td>\n",
              "      <td>9.18</td>\n",
              "      <td>31.66</td>\n",
              "      <td>22.47</td>\n",
              "      <td>16.24</td>\n",
              "      <td>docked_bike</td>\n",
              "      <td>7</td>\n",
              "      <td>7</td>\n",
              "      <td>0</td>\n",
              "    </tr>\n",
              "    <tr>\n",
              "      <th>1</th>\n",
              "      <td>1.0</td>\n",
              "      <td>8.0</td>\n",
              "      <td>100.75</td>\n",
              "      <td>9.18</td>\n",
              "      <td>31.66</td>\n",
              "      <td>22.47</td>\n",
              "      <td>16.24</td>\n",
              "      <td>electric_bike</td>\n",
              "      <td>5</td>\n",
              "      <td>0</td>\n",
              "      <td>5</td>\n",
              "    </tr>\n",
              "    <tr>\n",
              "      <th>2</th>\n",
              "      <td>1.0</td>\n",
              "      <td>9.0</td>\n",
              "      <td>101.14</td>\n",
              "      <td>7.04</td>\n",
              "      <td>26.71</td>\n",
              "      <td>19.67</td>\n",
              "      <td>15.25</td>\n",
              "      <td>docked_bike</td>\n",
              "      <td>6</td>\n",
              "      <td>6</td>\n",
              "      <td>0</td>\n",
              "    </tr>\n",
              "    <tr>\n",
              "      <th>3</th>\n",
              "      <td>1.0</td>\n",
              "      <td>9.0</td>\n",
              "      <td>101.14</td>\n",
              "      <td>7.04</td>\n",
              "      <td>26.71</td>\n",
              "      <td>19.67</td>\n",
              "      <td>15.25</td>\n",
              "      <td>electric_bike</td>\n",
              "      <td>4</td>\n",
              "      <td>0</td>\n",
              "      <td>4</td>\n",
              "    </tr>\n",
              "    <tr>\n",
              "      <th>4</th>\n",
              "      <td>1.0</td>\n",
              "      <td>10.0</td>\n",
              "      <td>100.80</td>\n",
              "      <td>10.22</td>\n",
              "      <td>22.98</td>\n",
              "      <td>12.76</td>\n",
              "      <td>9.47</td>\n",
              "      <td>docked_bike</td>\n",
              "      <td>8</td>\n",
              "      <td>8</td>\n",
              "      <td>0</td>\n",
              "    </tr>\n",
              "    <tr>\n",
              "      <th>...</th>\n",
              "      <td>...</td>\n",
              "      <td>...</td>\n",
              "      <td>...</td>\n",
              "      <td>...</td>\n",
              "      <td>...</td>\n",
              "      <td>...</td>\n",
              "      <td>...</td>\n",
              "      <td>...</td>\n",
              "      <td>...</td>\n",
              "      <td>...</td>\n",
              "      <td>...</td>\n",
              "    </tr>\n",
              "    <tr>\n",
              "      <th>278</th>\n",
              "      <td>31.0</td>\n",
              "      <td>8.0</td>\n",
              "      <td>101.10</td>\n",
              "      <td>5.34</td>\n",
              "      <td>24.41</td>\n",
              "      <td>19.08</td>\n",
              "      <td>12.92</td>\n",
              "      <td>docked_bike</td>\n",
              "      <td>1</td>\n",
              "      <td>1</td>\n",
              "      <td>0</td>\n",
              "    </tr>\n",
              "    <tr>\n",
              "      <th>279</th>\n",
              "      <td>31.0</td>\n",
              "      <td>8.0</td>\n",
              "      <td>101.10</td>\n",
              "      <td>5.34</td>\n",
              "      <td>24.41</td>\n",
              "      <td>19.08</td>\n",
              "      <td>12.92</td>\n",
              "      <td>electric_bike</td>\n",
              "      <td>3</td>\n",
              "      <td>0</td>\n",
              "      <td>3</td>\n",
              "    </tr>\n",
              "    <tr>\n",
              "      <th>280</th>\n",
              "      <td>31.0</td>\n",
              "      <td>10.0</td>\n",
              "      <td>102.50</td>\n",
              "      <td>7.36</td>\n",
              "      <td>11.13</td>\n",
              "      <td>3.76</td>\n",
              "      <td>4.52</td>\n",
              "      <td>docked_bike</td>\n",
              "      <td>2</td>\n",
              "      <td>2</td>\n",
              "      <td>0</td>\n",
              "    </tr>\n",
              "    <tr>\n",
              "      <th>281</th>\n",
              "      <td>31.0</td>\n",
              "      <td>10.0</td>\n",
              "      <td>102.50</td>\n",
              "      <td>7.36</td>\n",
              "      <td>11.13</td>\n",
              "      <td>3.76</td>\n",
              "      <td>4.52</td>\n",
              "      <td>electric_bike</td>\n",
              "      <td>6</td>\n",
              "      <td>0</td>\n",
              "      <td>6</td>\n",
              "    </tr>\n",
              "    <tr>\n",
              "      <th>282</th>\n",
              "      <td>31.0</td>\n",
              "      <td>12.0</td>\n",
              "      <td>101.72</td>\n",
              "      <td>5.28</td>\n",
              "      <td>7.10</td>\n",
              "      <td>1.82</td>\n",
              "      <td>4.93</td>\n",
              "      <td>electric_bike</td>\n",
              "      <td>2</td>\n",
              "      <td>0</td>\n",
              "      <td>2</td>\n",
              "    </tr>\n",
              "  </tbody>\n",
              "</table>\n",
              "<p>283 rows × 11 columns</p>\n",
              "</div>"
            ],
            "text/plain": [
              "       DY    MO      PS  T2M_RANGE  ...  rideable_type  count  docked_b electric_b\n",
              "0     1.0   8.0  100.75       9.18  ...    docked_bike      7         7          0\n",
              "1     1.0   8.0  100.75       9.18  ...  electric_bike      5         0          5\n",
              "2     1.0   9.0  101.14       7.04  ...    docked_bike      6         6          0\n",
              "3     1.0   9.0  101.14       7.04  ...  electric_bike      4         0          4\n",
              "4     1.0  10.0  100.80      10.22  ...    docked_bike      8         8          0\n",
              "..    ...   ...     ...        ...  ...            ...    ...       ...        ...\n",
              "278  31.0   8.0  101.10       5.34  ...    docked_bike      1         1          0\n",
              "279  31.0   8.0  101.10       5.34  ...  electric_bike      3         0          3\n",
              "280  31.0  10.0  102.50       7.36  ...    docked_bike      2         2          0\n",
              "281  31.0  10.0  102.50       7.36  ...  electric_bike      6         0          6\n",
              "282  31.0  12.0  101.72       5.28  ...  electric_bike      2         0          2\n",
              "\n",
              "[283 rows x 11 columns]"
            ]
          },
          "metadata": {
            "tags": []
          },
          "execution_count": 923
        }
      ]
    },
    {
      "cell_type": "code",
      "metadata": {
        "id": "BA0tpEssfDUL",
        "colab": {
          "base_uri": "https://localhost:8080/",
          "height": 407
        },
        "outputId": "e066f096-7b03-41ae-963d-db577ae5926c"
      },
      "source": [
        " modified.reset_index(inplace=True, drop=True)\r\n",
        "modified.sort_values(['DY', 'MO'], ascending=[True, False])\r\n"
      ],
      "execution_count": 924,
      "outputs": [
        {
          "output_type": "execute_result",
          "data": {
            "text/html": [
              "<div>\n",
              "<style scoped>\n",
              "    .dataframe tbody tr th:only-of-type {\n",
              "        vertical-align: middle;\n",
              "    }\n",
              "\n",
              "    .dataframe tbody tr th {\n",
              "        vertical-align: top;\n",
              "    }\n",
              "\n",
              "    .dataframe thead th {\n",
              "        text-align: right;\n",
              "    }\n",
              "</style>\n",
              "<table border=\"1\" class=\"dataframe\">\n",
              "  <thead>\n",
              "    <tr style=\"text-align: right;\">\n",
              "      <th></th>\n",
              "      <th>DY</th>\n",
              "      <th>MO</th>\n",
              "      <th>PS</th>\n",
              "      <th>T2M_RANGE</th>\n",
              "      <th>T2M_MAX</th>\n",
              "      <th>T2M_MIN</th>\n",
              "      <th>QV2M</th>\n",
              "      <th>rideable_type</th>\n",
              "      <th>count</th>\n",
              "      <th>docked_b</th>\n",
              "      <th>electric_b</th>\n",
              "    </tr>\n",
              "  </thead>\n",
              "  <tbody>\n",
              "    <tr>\n",
              "      <th>8</th>\n",
              "      <td>1.0</td>\n",
              "      <td>12.0</td>\n",
              "      <td>100.16</td>\n",
              "      <td>5.20</td>\n",
              "      <td>7.48</td>\n",
              "      <td>2.27</td>\n",
              "      <td>4.08</td>\n",
              "      <td>docked_bike</td>\n",
              "      <td>6</td>\n",
              "      <td>6</td>\n",
              "      <td>0</td>\n",
              "    </tr>\n",
              "    <tr>\n",
              "      <th>9</th>\n",
              "      <td>1.0</td>\n",
              "      <td>12.0</td>\n",
              "      <td>100.16</td>\n",
              "      <td>5.20</td>\n",
              "      <td>7.48</td>\n",
              "      <td>2.27</td>\n",
              "      <td>4.08</td>\n",
              "      <td>electric_bike</td>\n",
              "      <td>1</td>\n",
              "      <td>0</td>\n",
              "      <td>1</td>\n",
              "    </tr>\n",
              "    <tr>\n",
              "      <th>6</th>\n",
              "      <td>1.0</td>\n",
              "      <td>11.0</td>\n",
              "      <td>101.05</td>\n",
              "      <td>10.10</td>\n",
              "      <td>15.09</td>\n",
              "      <td>4.99</td>\n",
              "      <td>6.65</td>\n",
              "      <td>docked_bike</td>\n",
              "      <td>2</td>\n",
              "      <td>2</td>\n",
              "      <td>0</td>\n",
              "    </tr>\n",
              "    <tr>\n",
              "      <th>7</th>\n",
              "      <td>1.0</td>\n",
              "      <td>11.0</td>\n",
              "      <td>101.05</td>\n",
              "      <td>10.10</td>\n",
              "      <td>15.09</td>\n",
              "      <td>4.99</td>\n",
              "      <td>6.65</td>\n",
              "      <td>electric_bike</td>\n",
              "      <td>8</td>\n",
              "      <td>0</td>\n",
              "      <td>8</td>\n",
              "    </tr>\n",
              "    <tr>\n",
              "      <th>4</th>\n",
              "      <td>1.0</td>\n",
              "      <td>10.0</td>\n",
              "      <td>100.80</td>\n",
              "      <td>10.22</td>\n",
              "      <td>22.98</td>\n",
              "      <td>12.76</td>\n",
              "      <td>9.47</td>\n",
              "      <td>docked_bike</td>\n",
              "      <td>8</td>\n",
              "      <td>8</td>\n",
              "      <td>0</td>\n",
              "    </tr>\n",
              "    <tr>\n",
              "      <th>...</th>\n",
              "      <td>...</td>\n",
              "      <td>...</td>\n",
              "      <td>...</td>\n",
              "      <td>...</td>\n",
              "      <td>...</td>\n",
              "      <td>...</td>\n",
              "      <td>...</td>\n",
              "      <td>...</td>\n",
              "      <td>...</td>\n",
              "      <td>...</td>\n",
              "      <td>...</td>\n",
              "    </tr>\n",
              "    <tr>\n",
              "      <th>282</th>\n",
              "      <td>31.0</td>\n",
              "      <td>12.0</td>\n",
              "      <td>101.72</td>\n",
              "      <td>5.28</td>\n",
              "      <td>7.10</td>\n",
              "      <td>1.82</td>\n",
              "      <td>4.93</td>\n",
              "      <td>electric_bike</td>\n",
              "      <td>2</td>\n",
              "      <td>0</td>\n",
              "      <td>2</td>\n",
              "    </tr>\n",
              "    <tr>\n",
              "      <th>280</th>\n",
              "      <td>31.0</td>\n",
              "      <td>10.0</td>\n",
              "      <td>102.50</td>\n",
              "      <td>7.36</td>\n",
              "      <td>11.13</td>\n",
              "      <td>3.76</td>\n",
              "      <td>4.52</td>\n",
              "      <td>docked_bike</td>\n",
              "      <td>2</td>\n",
              "      <td>2</td>\n",
              "      <td>0</td>\n",
              "    </tr>\n",
              "    <tr>\n",
              "      <th>281</th>\n",
              "      <td>31.0</td>\n",
              "      <td>10.0</td>\n",
              "      <td>102.50</td>\n",
              "      <td>7.36</td>\n",
              "      <td>11.13</td>\n",
              "      <td>3.76</td>\n",
              "      <td>4.52</td>\n",
              "      <td>electric_bike</td>\n",
              "      <td>6</td>\n",
              "      <td>0</td>\n",
              "      <td>6</td>\n",
              "    </tr>\n",
              "    <tr>\n",
              "      <th>278</th>\n",
              "      <td>31.0</td>\n",
              "      <td>8.0</td>\n",
              "      <td>101.10</td>\n",
              "      <td>5.34</td>\n",
              "      <td>24.41</td>\n",
              "      <td>19.08</td>\n",
              "      <td>12.92</td>\n",
              "      <td>docked_bike</td>\n",
              "      <td>1</td>\n",
              "      <td>1</td>\n",
              "      <td>0</td>\n",
              "    </tr>\n",
              "    <tr>\n",
              "      <th>279</th>\n",
              "      <td>31.0</td>\n",
              "      <td>8.0</td>\n",
              "      <td>101.10</td>\n",
              "      <td>5.34</td>\n",
              "      <td>24.41</td>\n",
              "      <td>19.08</td>\n",
              "      <td>12.92</td>\n",
              "      <td>electric_bike</td>\n",
              "      <td>3</td>\n",
              "      <td>0</td>\n",
              "      <td>3</td>\n",
              "    </tr>\n",
              "  </tbody>\n",
              "</table>\n",
              "<p>283 rows × 11 columns</p>\n",
              "</div>"
            ],
            "text/plain": [
              "       DY    MO      PS  T2M_RANGE  ...  rideable_type  count  docked_b electric_b\n",
              "8     1.0  12.0  100.16       5.20  ...    docked_bike      6         6          0\n",
              "9     1.0  12.0  100.16       5.20  ...  electric_bike      1         0          1\n",
              "6     1.0  11.0  101.05      10.10  ...    docked_bike      2         2          0\n",
              "7     1.0  11.0  101.05      10.10  ...  electric_bike      8         0          8\n",
              "4     1.0  10.0  100.80      10.22  ...    docked_bike      8         8          0\n",
              "..    ...   ...     ...        ...  ...            ...    ...       ...        ...\n",
              "282  31.0  12.0  101.72       5.28  ...  electric_bike      2         0          2\n",
              "280  31.0  10.0  102.50       7.36  ...    docked_bike      2         2          0\n",
              "281  31.0  10.0  102.50       7.36  ...  electric_bike      6         0          6\n",
              "278  31.0   8.0  101.10       5.34  ...    docked_bike      1         1          0\n",
              "279  31.0   8.0  101.10       5.34  ...  electric_bike      3         0          3\n",
              "\n",
              "[283 rows x 11 columns]"
            ]
          },
          "metadata": {
            "tags": []
          },
          "execution_count": 924
        }
      ]
    },
    {
      "cell_type": "code",
      "metadata": {
        "id": "7nO-1tHvkS-u",
        "colab": {
          "base_uri": "https://localhost:8080/",
          "height": 407
        },
        "outputId": "06e7eea0-65f6-4f3f-811e-329c0c0e98d8"
      },
      "source": [
        "df1 = modified[modified['rideable_type'] == 'docked_bike']\r\n",
        "df1 = df1.drop(['rideable_type','count', 'electric_b'], axis=1)\r\n",
        "df1"
      ],
      "execution_count": 925,
      "outputs": [
        {
          "output_type": "execute_result",
          "data": {
            "text/html": [
              "<div>\n",
              "<style scoped>\n",
              "    .dataframe tbody tr th:only-of-type {\n",
              "        vertical-align: middle;\n",
              "    }\n",
              "\n",
              "    .dataframe tbody tr th {\n",
              "        vertical-align: top;\n",
              "    }\n",
              "\n",
              "    .dataframe thead th {\n",
              "        text-align: right;\n",
              "    }\n",
              "</style>\n",
              "<table border=\"1\" class=\"dataframe\">\n",
              "  <thead>\n",
              "    <tr style=\"text-align: right;\">\n",
              "      <th></th>\n",
              "      <th>DY</th>\n",
              "      <th>MO</th>\n",
              "      <th>PS</th>\n",
              "      <th>T2M_RANGE</th>\n",
              "      <th>T2M_MAX</th>\n",
              "      <th>T2M_MIN</th>\n",
              "      <th>QV2M</th>\n",
              "      <th>docked_b</th>\n",
              "    </tr>\n",
              "  </thead>\n",
              "  <tbody>\n",
              "    <tr>\n",
              "      <th>0</th>\n",
              "      <td>1.0</td>\n",
              "      <td>8.0</td>\n",
              "      <td>100.75</td>\n",
              "      <td>9.18</td>\n",
              "      <td>31.66</td>\n",
              "      <td>22.47</td>\n",
              "      <td>16.24</td>\n",
              "      <td>7</td>\n",
              "    </tr>\n",
              "    <tr>\n",
              "      <th>2</th>\n",
              "      <td>1.0</td>\n",
              "      <td>9.0</td>\n",
              "      <td>101.14</td>\n",
              "      <td>7.04</td>\n",
              "      <td>26.71</td>\n",
              "      <td>19.67</td>\n",
              "      <td>15.25</td>\n",
              "      <td>6</td>\n",
              "    </tr>\n",
              "    <tr>\n",
              "      <th>4</th>\n",
              "      <td>1.0</td>\n",
              "      <td>10.0</td>\n",
              "      <td>100.80</td>\n",
              "      <td>10.22</td>\n",
              "      <td>22.98</td>\n",
              "      <td>12.76</td>\n",
              "      <td>9.47</td>\n",
              "      <td>8</td>\n",
              "    </tr>\n",
              "    <tr>\n",
              "      <th>6</th>\n",
              "      <td>1.0</td>\n",
              "      <td>11.0</td>\n",
              "      <td>101.05</td>\n",
              "      <td>10.10</td>\n",
              "      <td>15.09</td>\n",
              "      <td>4.99</td>\n",
              "      <td>6.65</td>\n",
              "      <td>2</td>\n",
              "    </tr>\n",
              "    <tr>\n",
              "      <th>8</th>\n",
              "      <td>1.0</td>\n",
              "      <td>12.0</td>\n",
              "      <td>100.16</td>\n",
              "      <td>5.20</td>\n",
              "      <td>7.48</td>\n",
              "      <td>2.27</td>\n",
              "      <td>4.08</td>\n",
              "      <td>6</td>\n",
              "    </tr>\n",
              "    <tr>\n",
              "      <th>...</th>\n",
              "      <td>...</td>\n",
              "      <td>...</td>\n",
              "      <td>...</td>\n",
              "      <td>...</td>\n",
              "      <td>...</td>\n",
              "      <td>...</td>\n",
              "      <td>...</td>\n",
              "      <td>...</td>\n",
              "    </tr>\n",
              "    <tr>\n",
              "      <th>271</th>\n",
              "      <td>30.0</td>\n",
              "      <td>9.0</td>\n",
              "      <td>100.42</td>\n",
              "      <td>8.31</td>\n",
              "      <td>20.99</td>\n",
              "      <td>12.68</td>\n",
              "      <td>8.71</td>\n",
              "      <td>6</td>\n",
              "    </tr>\n",
              "    <tr>\n",
              "      <th>273</th>\n",
              "      <td>30.0</td>\n",
              "      <td>10.0</td>\n",
              "      <td>100.82</td>\n",
              "      <td>5.56</td>\n",
              "      <td>12.43</td>\n",
              "      <td>6.87</td>\n",
              "      <td>6.18</td>\n",
              "      <td>6</td>\n",
              "    </tr>\n",
              "    <tr>\n",
              "      <th>275</th>\n",
              "      <td>30.0</td>\n",
              "      <td>11.0</td>\n",
              "      <td>99.52</td>\n",
              "      <td>12.19</td>\n",
              "      <td>19.45</td>\n",
              "      <td>7.27</td>\n",
              "      <td>9.45</td>\n",
              "      <td>2</td>\n",
              "    </tr>\n",
              "    <tr>\n",
              "      <th>278</th>\n",
              "      <td>31.0</td>\n",
              "      <td>8.0</td>\n",
              "      <td>101.10</td>\n",
              "      <td>5.34</td>\n",
              "      <td>24.41</td>\n",
              "      <td>19.08</td>\n",
              "      <td>12.92</td>\n",
              "      <td>1</td>\n",
              "    </tr>\n",
              "    <tr>\n",
              "      <th>280</th>\n",
              "      <td>31.0</td>\n",
              "      <td>10.0</td>\n",
              "      <td>102.50</td>\n",
              "      <td>7.36</td>\n",
              "      <td>11.13</td>\n",
              "      <td>3.76</td>\n",
              "      <td>4.52</td>\n",
              "      <td>2</td>\n",
              "    </tr>\n",
              "  </tbody>\n",
              "</table>\n",
              "<p>131 rows × 8 columns</p>\n",
              "</div>"
            ],
            "text/plain": [
              "       DY    MO      PS  T2M_RANGE  T2M_MAX  T2M_MIN   QV2M  docked_b\n",
              "0     1.0   8.0  100.75       9.18    31.66    22.47  16.24         7\n",
              "2     1.0   9.0  101.14       7.04    26.71    19.67  15.25         6\n",
              "4     1.0  10.0  100.80      10.22    22.98    12.76   9.47         8\n",
              "6     1.0  11.0  101.05      10.10    15.09     4.99   6.65         2\n",
              "8     1.0  12.0  100.16       5.20     7.48     2.27   4.08         6\n",
              "..    ...   ...     ...        ...      ...      ...    ...       ...\n",
              "271  30.0   9.0  100.42       8.31    20.99    12.68   8.71         6\n",
              "273  30.0  10.0  100.82       5.56    12.43     6.87   6.18         6\n",
              "275  30.0  11.0   99.52      12.19    19.45     7.27   9.45         2\n",
              "278  31.0   8.0  101.10       5.34    24.41    19.08  12.92         1\n",
              "280  31.0  10.0  102.50       7.36    11.13     3.76   4.52         2\n",
              "\n",
              "[131 rows x 8 columns]"
            ]
          },
          "metadata": {
            "tags": []
          },
          "execution_count": 925
        }
      ]
    },
    {
      "cell_type": "code",
      "metadata": {
        "id": "8xmydOfYkh_h",
        "colab": {
          "base_uri": "https://localhost:8080/",
          "height": 407
        },
        "outputId": "f3eec299-693f-475b-8f1e-4106e2b6637f"
      },
      "source": [
        "df2 = modified[modified['rideable_type'] == 'electric_bike']\r\n",
        "df2 = df2.drop(['rideable_type','count', 'docked_b'], axis=1)\r\n",
        "df2"
      ],
      "execution_count": 926,
      "outputs": [
        {
          "output_type": "execute_result",
          "data": {
            "text/html": [
              "<div>\n",
              "<style scoped>\n",
              "    .dataframe tbody tr th:only-of-type {\n",
              "        vertical-align: middle;\n",
              "    }\n",
              "\n",
              "    .dataframe tbody tr th {\n",
              "        vertical-align: top;\n",
              "    }\n",
              "\n",
              "    .dataframe thead th {\n",
              "        text-align: right;\n",
              "    }\n",
              "</style>\n",
              "<table border=\"1\" class=\"dataframe\">\n",
              "  <thead>\n",
              "    <tr style=\"text-align: right;\">\n",
              "      <th></th>\n",
              "      <th>DY</th>\n",
              "      <th>MO</th>\n",
              "      <th>PS</th>\n",
              "      <th>T2M_RANGE</th>\n",
              "      <th>T2M_MAX</th>\n",
              "      <th>T2M_MIN</th>\n",
              "      <th>QV2M</th>\n",
              "      <th>electric_b</th>\n",
              "    </tr>\n",
              "  </thead>\n",
              "  <tbody>\n",
              "    <tr>\n",
              "      <th>1</th>\n",
              "      <td>1.0</td>\n",
              "      <td>8.0</td>\n",
              "      <td>100.75</td>\n",
              "      <td>9.18</td>\n",
              "      <td>31.66</td>\n",
              "      <td>22.47</td>\n",
              "      <td>16.24</td>\n",
              "      <td>5</td>\n",
              "    </tr>\n",
              "    <tr>\n",
              "      <th>3</th>\n",
              "      <td>1.0</td>\n",
              "      <td>9.0</td>\n",
              "      <td>101.14</td>\n",
              "      <td>7.04</td>\n",
              "      <td>26.71</td>\n",
              "      <td>19.67</td>\n",
              "      <td>15.25</td>\n",
              "      <td>4</td>\n",
              "    </tr>\n",
              "    <tr>\n",
              "      <th>5</th>\n",
              "      <td>1.0</td>\n",
              "      <td>10.0</td>\n",
              "      <td>100.80</td>\n",
              "      <td>10.22</td>\n",
              "      <td>22.98</td>\n",
              "      <td>12.76</td>\n",
              "      <td>9.47</td>\n",
              "      <td>4</td>\n",
              "    </tr>\n",
              "    <tr>\n",
              "      <th>7</th>\n",
              "      <td>1.0</td>\n",
              "      <td>11.0</td>\n",
              "      <td>101.05</td>\n",
              "      <td>10.10</td>\n",
              "      <td>15.09</td>\n",
              "      <td>4.99</td>\n",
              "      <td>6.65</td>\n",
              "      <td>8</td>\n",
              "    </tr>\n",
              "    <tr>\n",
              "      <th>9</th>\n",
              "      <td>1.0</td>\n",
              "      <td>12.0</td>\n",
              "      <td>100.16</td>\n",
              "      <td>5.20</td>\n",
              "      <td>7.48</td>\n",
              "      <td>2.27</td>\n",
              "      <td>4.08</td>\n",
              "      <td>1</td>\n",
              "    </tr>\n",
              "    <tr>\n",
              "      <th>...</th>\n",
              "      <td>...</td>\n",
              "      <td>...</td>\n",
              "      <td>...</td>\n",
              "      <td>...</td>\n",
              "      <td>...</td>\n",
              "      <td>...</td>\n",
              "      <td>...</td>\n",
              "      <td>...</td>\n",
              "    </tr>\n",
              "    <tr>\n",
              "      <th>276</th>\n",
              "      <td>30.0</td>\n",
              "      <td>11.0</td>\n",
              "      <td>99.52</td>\n",
              "      <td>12.19</td>\n",
              "      <td>19.45</td>\n",
              "      <td>7.27</td>\n",
              "      <td>9.45</td>\n",
              "      <td>8</td>\n",
              "    </tr>\n",
              "    <tr>\n",
              "      <th>277</th>\n",
              "      <td>30.0</td>\n",
              "      <td>12.0</td>\n",
              "      <td>102.29</td>\n",
              "      <td>6.27</td>\n",
              "      <td>4.36</td>\n",
              "      <td>-1.91</td>\n",
              "      <td>3.47</td>\n",
              "      <td>5</td>\n",
              "    </tr>\n",
              "    <tr>\n",
              "      <th>279</th>\n",
              "      <td>31.0</td>\n",
              "      <td>8.0</td>\n",
              "      <td>101.10</td>\n",
              "      <td>5.34</td>\n",
              "      <td>24.41</td>\n",
              "      <td>19.08</td>\n",
              "      <td>12.92</td>\n",
              "      <td>3</td>\n",
              "    </tr>\n",
              "    <tr>\n",
              "      <th>281</th>\n",
              "      <td>31.0</td>\n",
              "      <td>10.0</td>\n",
              "      <td>102.50</td>\n",
              "      <td>7.36</td>\n",
              "      <td>11.13</td>\n",
              "      <td>3.76</td>\n",
              "      <td>4.52</td>\n",
              "      <td>6</td>\n",
              "    </tr>\n",
              "    <tr>\n",
              "      <th>282</th>\n",
              "      <td>31.0</td>\n",
              "      <td>12.0</td>\n",
              "      <td>101.72</td>\n",
              "      <td>5.28</td>\n",
              "      <td>7.10</td>\n",
              "      <td>1.82</td>\n",
              "      <td>4.93</td>\n",
              "      <td>2</td>\n",
              "    </tr>\n",
              "  </tbody>\n",
              "</table>\n",
              "<p>152 rows × 8 columns</p>\n",
              "</div>"
            ],
            "text/plain": [
              "       DY    MO      PS  T2M_RANGE  T2M_MAX  T2M_MIN   QV2M  electric_b\n",
              "1     1.0   8.0  100.75       9.18    31.66    22.47  16.24           5\n",
              "3     1.0   9.0  101.14       7.04    26.71    19.67  15.25           4\n",
              "5     1.0  10.0  100.80      10.22    22.98    12.76   9.47           4\n",
              "7     1.0  11.0  101.05      10.10    15.09     4.99   6.65           8\n",
              "9     1.0  12.0  100.16       5.20     7.48     2.27   4.08           1\n",
              "..    ...   ...     ...        ...      ...      ...    ...         ...\n",
              "276  30.0  11.0   99.52      12.19    19.45     7.27   9.45           8\n",
              "277  30.0  12.0  102.29       6.27     4.36    -1.91   3.47           5\n",
              "279  31.0   8.0  101.10       5.34    24.41    19.08  12.92           3\n",
              "281  31.0  10.0  102.50       7.36    11.13     3.76   4.52           6\n",
              "282  31.0  12.0  101.72       5.28     7.10     1.82   4.93           2\n",
              "\n",
              "[152 rows x 8 columns]"
            ]
          },
          "metadata": {
            "tags": []
          },
          "execution_count": 926
        }
      ]
    },
    {
      "cell_type": "code",
      "metadata": {
        "id": "hfa-3Y2cnY1u",
        "colab": {
          "base_uri": "https://localhost:8080/",
          "height": 407
        },
        "outputId": "1758776f-618a-4688-a1a6-0fde18af71a5"
      },
      "source": [
        "df3 = pd.merge(df1, df2)\r\n",
        "df3"
      ],
      "execution_count": 927,
      "outputs": [
        {
          "output_type": "execute_result",
          "data": {
            "text/html": [
              "<div>\n",
              "<style scoped>\n",
              "    .dataframe tbody tr th:only-of-type {\n",
              "        vertical-align: middle;\n",
              "    }\n",
              "\n",
              "    .dataframe tbody tr th {\n",
              "        vertical-align: top;\n",
              "    }\n",
              "\n",
              "    .dataframe thead th {\n",
              "        text-align: right;\n",
              "    }\n",
              "</style>\n",
              "<table border=\"1\" class=\"dataframe\">\n",
              "  <thead>\n",
              "    <tr style=\"text-align: right;\">\n",
              "      <th></th>\n",
              "      <th>DY</th>\n",
              "      <th>MO</th>\n",
              "      <th>PS</th>\n",
              "      <th>T2M_RANGE</th>\n",
              "      <th>T2M_MAX</th>\n",
              "      <th>T2M_MIN</th>\n",
              "      <th>QV2M</th>\n",
              "      <th>docked_b</th>\n",
              "      <th>electric_b</th>\n",
              "    </tr>\n",
              "  </thead>\n",
              "  <tbody>\n",
              "    <tr>\n",
              "      <th>0</th>\n",
              "      <td>1.0</td>\n",
              "      <td>8.0</td>\n",
              "      <td>100.75</td>\n",
              "      <td>9.18</td>\n",
              "      <td>31.66</td>\n",
              "      <td>22.47</td>\n",
              "      <td>16.24</td>\n",
              "      <td>7</td>\n",
              "      <td>5</td>\n",
              "    </tr>\n",
              "    <tr>\n",
              "      <th>1</th>\n",
              "      <td>1.0</td>\n",
              "      <td>9.0</td>\n",
              "      <td>101.14</td>\n",
              "      <td>7.04</td>\n",
              "      <td>26.71</td>\n",
              "      <td>19.67</td>\n",
              "      <td>15.25</td>\n",
              "      <td>6</td>\n",
              "      <td>4</td>\n",
              "    </tr>\n",
              "    <tr>\n",
              "      <th>2</th>\n",
              "      <td>1.0</td>\n",
              "      <td>10.0</td>\n",
              "      <td>100.80</td>\n",
              "      <td>10.22</td>\n",
              "      <td>22.98</td>\n",
              "      <td>12.76</td>\n",
              "      <td>9.47</td>\n",
              "      <td>8</td>\n",
              "      <td>4</td>\n",
              "    </tr>\n",
              "    <tr>\n",
              "      <th>3</th>\n",
              "      <td>1.0</td>\n",
              "      <td>11.0</td>\n",
              "      <td>101.05</td>\n",
              "      <td>10.10</td>\n",
              "      <td>15.09</td>\n",
              "      <td>4.99</td>\n",
              "      <td>6.65</td>\n",
              "      <td>2</td>\n",
              "      <td>8</td>\n",
              "    </tr>\n",
              "    <tr>\n",
              "      <th>4</th>\n",
              "      <td>1.0</td>\n",
              "      <td>12.0</td>\n",
              "      <td>100.16</td>\n",
              "      <td>5.20</td>\n",
              "      <td>7.48</td>\n",
              "      <td>2.27</td>\n",
              "      <td>4.08</td>\n",
              "      <td>6</td>\n",
              "      <td>1</td>\n",
              "    </tr>\n",
              "    <tr>\n",
              "      <th>...</th>\n",
              "      <td>...</td>\n",
              "      <td>...</td>\n",
              "      <td>...</td>\n",
              "      <td>...</td>\n",
              "      <td>...</td>\n",
              "      <td>...</td>\n",
              "      <td>...</td>\n",
              "      <td>...</td>\n",
              "      <td>...</td>\n",
              "    </tr>\n",
              "    <tr>\n",
              "      <th>125</th>\n",
              "      <td>30.0</td>\n",
              "      <td>9.0</td>\n",
              "      <td>100.42</td>\n",
              "      <td>8.31</td>\n",
              "      <td>20.99</td>\n",
              "      <td>12.68</td>\n",
              "      <td>8.71</td>\n",
              "      <td>6</td>\n",
              "      <td>8</td>\n",
              "    </tr>\n",
              "    <tr>\n",
              "      <th>126</th>\n",
              "      <td>30.0</td>\n",
              "      <td>10.0</td>\n",
              "      <td>100.82</td>\n",
              "      <td>5.56</td>\n",
              "      <td>12.43</td>\n",
              "      <td>6.87</td>\n",
              "      <td>6.18</td>\n",
              "      <td>6</td>\n",
              "      <td>4</td>\n",
              "    </tr>\n",
              "    <tr>\n",
              "      <th>127</th>\n",
              "      <td>30.0</td>\n",
              "      <td>11.0</td>\n",
              "      <td>99.52</td>\n",
              "      <td>12.19</td>\n",
              "      <td>19.45</td>\n",
              "      <td>7.27</td>\n",
              "      <td>9.45</td>\n",
              "      <td>2</td>\n",
              "      <td>8</td>\n",
              "    </tr>\n",
              "    <tr>\n",
              "      <th>128</th>\n",
              "      <td>31.0</td>\n",
              "      <td>8.0</td>\n",
              "      <td>101.10</td>\n",
              "      <td>5.34</td>\n",
              "      <td>24.41</td>\n",
              "      <td>19.08</td>\n",
              "      <td>12.92</td>\n",
              "      <td>1</td>\n",
              "      <td>3</td>\n",
              "    </tr>\n",
              "    <tr>\n",
              "      <th>129</th>\n",
              "      <td>31.0</td>\n",
              "      <td>10.0</td>\n",
              "      <td>102.50</td>\n",
              "      <td>7.36</td>\n",
              "      <td>11.13</td>\n",
              "      <td>3.76</td>\n",
              "      <td>4.52</td>\n",
              "      <td>2</td>\n",
              "      <td>6</td>\n",
              "    </tr>\n",
              "  </tbody>\n",
              "</table>\n",
              "<p>130 rows × 9 columns</p>\n",
              "</div>"
            ],
            "text/plain": [
              "       DY    MO      PS  T2M_RANGE  ...  T2M_MIN   QV2M  docked_b  electric_b\n",
              "0     1.0   8.0  100.75       9.18  ...    22.47  16.24         7           5\n",
              "1     1.0   9.0  101.14       7.04  ...    19.67  15.25         6           4\n",
              "2     1.0  10.0  100.80      10.22  ...    12.76   9.47         8           4\n",
              "3     1.0  11.0  101.05      10.10  ...     4.99   6.65         2           8\n",
              "4     1.0  12.0  100.16       5.20  ...     2.27   4.08         6           1\n",
              "..    ...   ...     ...        ...  ...      ...    ...       ...         ...\n",
              "125  30.0   9.0  100.42       8.31  ...    12.68   8.71         6           8\n",
              "126  30.0  10.0  100.82       5.56  ...     6.87   6.18         6           4\n",
              "127  30.0  11.0   99.52      12.19  ...     7.27   9.45         2           8\n",
              "128  31.0   8.0  101.10       5.34  ...    19.08  12.92         1           3\n",
              "129  31.0  10.0  102.50       7.36  ...     3.76   4.52         2           6\n",
              "\n",
              "[130 rows x 9 columns]"
            ]
          },
          "metadata": {
            "tags": []
          },
          "execution_count": 927
        }
      ]
    },
    {
      "cell_type": "code",
      "metadata": {
        "id": "3SCyjlRVeVkc",
        "colab": {
          "base_uri": "https://localhost:8080/",
          "height": 407
        },
        "outputId": "e8f60d15-5144-4150-e4ca-c7568c799ac1"
      },
      "source": [
        "df3['PS'] = df3['PS'] - 100\n",
        "modified = df3\n",
        "modified"
      ],
      "execution_count": 928,
      "outputs": [
        {
          "output_type": "execute_result",
          "data": {
            "text/html": [
              "<div>\n",
              "<style scoped>\n",
              "    .dataframe tbody tr th:only-of-type {\n",
              "        vertical-align: middle;\n",
              "    }\n",
              "\n",
              "    .dataframe tbody tr th {\n",
              "        vertical-align: top;\n",
              "    }\n",
              "\n",
              "    .dataframe thead th {\n",
              "        text-align: right;\n",
              "    }\n",
              "</style>\n",
              "<table border=\"1\" class=\"dataframe\">\n",
              "  <thead>\n",
              "    <tr style=\"text-align: right;\">\n",
              "      <th></th>\n",
              "      <th>DY</th>\n",
              "      <th>MO</th>\n",
              "      <th>PS</th>\n",
              "      <th>T2M_RANGE</th>\n",
              "      <th>T2M_MAX</th>\n",
              "      <th>T2M_MIN</th>\n",
              "      <th>QV2M</th>\n",
              "      <th>docked_b</th>\n",
              "      <th>electric_b</th>\n",
              "    </tr>\n",
              "  </thead>\n",
              "  <tbody>\n",
              "    <tr>\n",
              "      <th>0</th>\n",
              "      <td>1.0</td>\n",
              "      <td>8.0</td>\n",
              "      <td>0.75</td>\n",
              "      <td>9.18</td>\n",
              "      <td>31.66</td>\n",
              "      <td>22.47</td>\n",
              "      <td>16.24</td>\n",
              "      <td>7</td>\n",
              "      <td>5</td>\n",
              "    </tr>\n",
              "    <tr>\n",
              "      <th>1</th>\n",
              "      <td>1.0</td>\n",
              "      <td>9.0</td>\n",
              "      <td>1.14</td>\n",
              "      <td>7.04</td>\n",
              "      <td>26.71</td>\n",
              "      <td>19.67</td>\n",
              "      <td>15.25</td>\n",
              "      <td>6</td>\n",
              "      <td>4</td>\n",
              "    </tr>\n",
              "    <tr>\n",
              "      <th>2</th>\n",
              "      <td>1.0</td>\n",
              "      <td>10.0</td>\n",
              "      <td>0.80</td>\n",
              "      <td>10.22</td>\n",
              "      <td>22.98</td>\n",
              "      <td>12.76</td>\n",
              "      <td>9.47</td>\n",
              "      <td>8</td>\n",
              "      <td>4</td>\n",
              "    </tr>\n",
              "    <tr>\n",
              "      <th>3</th>\n",
              "      <td>1.0</td>\n",
              "      <td>11.0</td>\n",
              "      <td>1.05</td>\n",
              "      <td>10.10</td>\n",
              "      <td>15.09</td>\n",
              "      <td>4.99</td>\n",
              "      <td>6.65</td>\n",
              "      <td>2</td>\n",
              "      <td>8</td>\n",
              "    </tr>\n",
              "    <tr>\n",
              "      <th>4</th>\n",
              "      <td>1.0</td>\n",
              "      <td>12.0</td>\n",
              "      <td>0.16</td>\n",
              "      <td>5.20</td>\n",
              "      <td>7.48</td>\n",
              "      <td>2.27</td>\n",
              "      <td>4.08</td>\n",
              "      <td>6</td>\n",
              "      <td>1</td>\n",
              "    </tr>\n",
              "    <tr>\n",
              "      <th>...</th>\n",
              "      <td>...</td>\n",
              "      <td>...</td>\n",
              "      <td>...</td>\n",
              "      <td>...</td>\n",
              "      <td>...</td>\n",
              "      <td>...</td>\n",
              "      <td>...</td>\n",
              "      <td>...</td>\n",
              "      <td>...</td>\n",
              "    </tr>\n",
              "    <tr>\n",
              "      <th>125</th>\n",
              "      <td>30.0</td>\n",
              "      <td>9.0</td>\n",
              "      <td>0.42</td>\n",
              "      <td>8.31</td>\n",
              "      <td>20.99</td>\n",
              "      <td>12.68</td>\n",
              "      <td>8.71</td>\n",
              "      <td>6</td>\n",
              "      <td>8</td>\n",
              "    </tr>\n",
              "    <tr>\n",
              "      <th>126</th>\n",
              "      <td>30.0</td>\n",
              "      <td>10.0</td>\n",
              "      <td>0.82</td>\n",
              "      <td>5.56</td>\n",
              "      <td>12.43</td>\n",
              "      <td>6.87</td>\n",
              "      <td>6.18</td>\n",
              "      <td>6</td>\n",
              "      <td>4</td>\n",
              "    </tr>\n",
              "    <tr>\n",
              "      <th>127</th>\n",
              "      <td>30.0</td>\n",
              "      <td>11.0</td>\n",
              "      <td>-0.48</td>\n",
              "      <td>12.19</td>\n",
              "      <td>19.45</td>\n",
              "      <td>7.27</td>\n",
              "      <td>9.45</td>\n",
              "      <td>2</td>\n",
              "      <td>8</td>\n",
              "    </tr>\n",
              "    <tr>\n",
              "      <th>128</th>\n",
              "      <td>31.0</td>\n",
              "      <td>8.0</td>\n",
              "      <td>1.10</td>\n",
              "      <td>5.34</td>\n",
              "      <td>24.41</td>\n",
              "      <td>19.08</td>\n",
              "      <td>12.92</td>\n",
              "      <td>1</td>\n",
              "      <td>3</td>\n",
              "    </tr>\n",
              "    <tr>\n",
              "      <th>129</th>\n",
              "      <td>31.0</td>\n",
              "      <td>10.0</td>\n",
              "      <td>2.50</td>\n",
              "      <td>7.36</td>\n",
              "      <td>11.13</td>\n",
              "      <td>3.76</td>\n",
              "      <td>4.52</td>\n",
              "      <td>2</td>\n",
              "      <td>6</td>\n",
              "    </tr>\n",
              "  </tbody>\n",
              "</table>\n",
              "<p>130 rows × 9 columns</p>\n",
              "</div>"
            ],
            "text/plain": [
              "       DY    MO    PS  T2M_RANGE  T2M_MAX  T2M_MIN   QV2M  docked_b  electric_b\n",
              "0     1.0   8.0  0.75       9.18    31.66    22.47  16.24         7           5\n",
              "1     1.0   9.0  1.14       7.04    26.71    19.67  15.25         6           4\n",
              "2     1.0  10.0  0.80      10.22    22.98    12.76   9.47         8           4\n",
              "3     1.0  11.0  1.05      10.10    15.09     4.99   6.65         2           8\n",
              "4     1.0  12.0  0.16       5.20     7.48     2.27   4.08         6           1\n",
              "..    ...   ...   ...        ...      ...      ...    ...       ...         ...\n",
              "125  30.0   9.0  0.42       8.31    20.99    12.68   8.71         6           8\n",
              "126  30.0  10.0  0.82       5.56    12.43     6.87   6.18         6           4\n",
              "127  30.0  11.0 -0.48      12.19    19.45     7.27   9.45         2           8\n",
              "128  31.0   8.0  1.10       5.34    24.41    19.08  12.92         1           3\n",
              "129  31.0  10.0  2.50       7.36    11.13     3.76   4.52         2           6\n",
              "\n",
              "[130 rows x 9 columns]"
            ]
          },
          "metadata": {
            "tags": []
          },
          "execution_count": 928
        }
      ]
    },
    {
      "cell_type": "code",
      "metadata": {
        "id": "gr4wB5w9Xl_F",
        "colab": {
          "base_uri": "https://localhost:8080/",
          "height": 318
        },
        "outputId": "78765d39-001f-4686-db01-75b95967fdc3"
      },
      "source": [
        "modified.corr()"
      ],
      "execution_count": 929,
      "outputs": [
        {
          "output_type": "execute_result",
          "data": {
            "text/html": [
              "<div>\n",
              "<style scoped>\n",
              "    .dataframe tbody tr th:only-of-type {\n",
              "        vertical-align: middle;\n",
              "    }\n",
              "\n",
              "    .dataframe tbody tr th {\n",
              "        vertical-align: top;\n",
              "    }\n",
              "\n",
              "    .dataframe thead th {\n",
              "        text-align: right;\n",
              "    }\n",
              "</style>\n",
              "<table border=\"1\" class=\"dataframe\">\n",
              "  <thead>\n",
              "    <tr style=\"text-align: right;\">\n",
              "      <th></th>\n",
              "      <th>DY</th>\n",
              "      <th>MO</th>\n",
              "      <th>PS</th>\n",
              "      <th>T2M_RANGE</th>\n",
              "      <th>T2M_MAX</th>\n",
              "      <th>T2M_MIN</th>\n",
              "      <th>QV2M</th>\n",
              "      <th>docked_b</th>\n",
              "      <th>electric_b</th>\n",
              "    </tr>\n",
              "  </thead>\n",
              "  <tbody>\n",
              "    <tr>\n",
              "      <th>DY</th>\n",
              "      <td>1.000000</td>\n",
              "      <td>-0.157710</td>\n",
              "      <td>-0.068087</td>\n",
              "      <td>-0.030053</td>\n",
              "      <td>0.001188</td>\n",
              "      <td>0.010422</td>\n",
              "      <td>0.026690</td>\n",
              "      <td>-0.192531</td>\n",
              "      <td>0.016543</td>\n",
              "    </tr>\n",
              "    <tr>\n",
              "      <th>MO</th>\n",
              "      <td>-0.157710</td>\n",
              "      <td>1.000000</td>\n",
              "      <td>0.279969</td>\n",
              "      <td>0.251102</td>\n",
              "      <td>-0.868078</td>\n",
              "      <td>-0.892417</td>\n",
              "      <td>-0.819060</td>\n",
              "      <td>0.067453</td>\n",
              "      <td>-0.201200</td>\n",
              "    </tr>\n",
              "    <tr>\n",
              "      <th>PS</th>\n",
              "      <td>-0.068087</td>\n",
              "      <td>0.279969</td>\n",
              "      <td>1.000000</td>\n",
              "      <td>0.260696</td>\n",
              "      <td>-0.309544</td>\n",
              "      <td>-0.370559</td>\n",
              "      <td>-0.435664</td>\n",
              "      <td>0.067624</td>\n",
              "      <td>0.207798</td>\n",
              "    </tr>\n",
              "    <tr>\n",
              "      <th>T2M_RANGE</th>\n",
              "      <td>-0.030053</td>\n",
              "      <td>0.251102</td>\n",
              "      <td>0.260696</td>\n",
              "      <td>1.000000</td>\n",
              "      <td>-0.041214</td>\n",
              "      <td>-0.344604</td>\n",
              "      <td>-0.345923</td>\n",
              "      <td>0.103390</td>\n",
              "      <td>0.196176</td>\n",
              "    </tr>\n",
              "    <tr>\n",
              "      <th>T2M_MAX</th>\n",
              "      <td>0.001188</td>\n",
              "      <td>-0.868078</td>\n",
              "      <td>-0.309544</td>\n",
              "      <td>-0.041214</td>\n",
              "      <td>1.000000</td>\n",
              "      <td>0.952153</td>\n",
              "      <td>0.911182</td>\n",
              "      <td>-0.068852</td>\n",
              "      <td>0.215392</td>\n",
              "    </tr>\n",
              "    <tr>\n",
              "      <th>T2M_MIN</th>\n",
              "      <td>0.010422</td>\n",
              "      <td>-0.892417</td>\n",
              "      <td>-0.370559</td>\n",
              "      <td>-0.344604</td>\n",
              "      <td>0.952153</td>\n",
              "      <td>1.000000</td>\n",
              "      <td>0.961926</td>\n",
              "      <td>-0.096378</td>\n",
              "      <td>0.142357</td>\n",
              "    </tr>\n",
              "    <tr>\n",
              "      <th>QV2M</th>\n",
              "      <td>0.026690</td>\n",
              "      <td>-0.819060</td>\n",
              "      <td>-0.435664</td>\n",
              "      <td>-0.345923</td>\n",
              "      <td>0.911182</td>\n",
              "      <td>0.961926</td>\n",
              "      <td>1.000000</td>\n",
              "      <td>-0.162849</td>\n",
              "      <td>0.094047</td>\n",
              "    </tr>\n",
              "    <tr>\n",
              "      <th>docked_b</th>\n",
              "      <td>-0.192531</td>\n",
              "      <td>0.067453</td>\n",
              "      <td>0.067624</td>\n",
              "      <td>0.103390</td>\n",
              "      <td>-0.068852</td>\n",
              "      <td>-0.096378</td>\n",
              "      <td>-0.162849</td>\n",
              "      <td>1.000000</td>\n",
              "      <td>-0.023244</td>\n",
              "    </tr>\n",
              "    <tr>\n",
              "      <th>electric_b</th>\n",
              "      <td>0.016543</td>\n",
              "      <td>-0.201200</td>\n",
              "      <td>0.207798</td>\n",
              "      <td>0.196176</td>\n",
              "      <td>0.215392</td>\n",
              "      <td>0.142357</td>\n",
              "      <td>0.094047</td>\n",
              "      <td>-0.023244</td>\n",
              "      <td>1.000000</td>\n",
              "    </tr>\n",
              "  </tbody>\n",
              "</table>\n",
              "</div>"
            ],
            "text/plain": [
              "                  DY        MO        PS  ...      QV2M  docked_b  electric_b\n",
              "DY          1.000000 -0.157710 -0.068087  ...  0.026690 -0.192531    0.016543\n",
              "MO         -0.157710  1.000000  0.279969  ... -0.819060  0.067453   -0.201200\n",
              "PS         -0.068087  0.279969  1.000000  ... -0.435664  0.067624    0.207798\n",
              "T2M_RANGE  -0.030053  0.251102  0.260696  ... -0.345923  0.103390    0.196176\n",
              "T2M_MAX     0.001188 -0.868078 -0.309544  ...  0.911182 -0.068852    0.215392\n",
              "T2M_MIN     0.010422 -0.892417 -0.370559  ...  0.961926 -0.096378    0.142357\n",
              "QV2M        0.026690 -0.819060 -0.435664  ...  1.000000 -0.162849    0.094047\n",
              "docked_b   -0.192531  0.067453  0.067624  ... -0.162849  1.000000   -0.023244\n",
              "electric_b  0.016543 -0.201200  0.207798  ...  0.094047 -0.023244    1.000000\n",
              "\n",
              "[9 rows x 9 columns]"
            ]
          },
          "metadata": {
            "tags": []
          },
          "execution_count": 929
        }
      ]
    },
    {
      "cell_type": "code",
      "metadata": {
        "id": "HtWcsYBPX5en",
        "colab": {
          "base_uri": "https://localhost:8080/",
          "height": 596
        },
        "outputId": "9272aa6d-21b4-41ce-994f-703eb4208f5b"
      },
      "source": [
        "plt.figure(figsize=(16,10))\r\n",
        "sns.heatmap(modified.corr(), annot=True)\r\n",
        "plt.show()"
      ],
      "execution_count": 930,
      "outputs": [
        {
          "output_type": "display_data",
          "data": {
            "image/png": "[encoded data removed]",
            "text/plain": [
              "<Figure size 1152x720 with 2 Axes>"
            ]
          },
          "metadata": {
            "tags": [],
            "needs_background": "light"
          }
        }
      ]
    },
    {
      "cell_type": "code",
      "metadata": {
        "id": "pSFao0gbi5pC"
      },
      "source": [
        ""
      ],
      "execution_count": 930,
      "outputs": []
    },
    {
      "cell_type": "code",
      "metadata": {
        "id": "PzALkvPMwWB0",
        "colab": {
          "base_uri": "https://localhost:8080/"
        },
        "outputId": "ecfe9c7d-6ac7-491b-e6e7-3a977c1b12d8"
      },
      "source": [
        "docked_count = modified['docked_b'].sum()\n",
        "print (docked_count)\n",
        "electric_count = modified['electric_b'].sum()\n",
        "print (electric_count)\n"
      ],
      "execution_count": 931,
      "outputs": [
        {
          "output_type": "stream",
          "text": [
            "609\n",
            "693\n"
          ],
          "name": "stdout"
        }
      ]
    },
    {
      "cell_type": "code",
      "metadata": {
        "id": "-m_8SUIUwzaX",
        "colab": {
          "base_uri": "https://localhost:8080/"
        },
        "outputId": "ae7ed3ce-c125-43e7-b24e-c892105926b3"
      },
      "source": [
        "from sklearn.svm import SVC\n",
        "!pip3 install quandl\n",
        "!pip3 install sklearn\n",
        "import quandl, math\n",
        "from sklearn.model_selection import cross_validate\n",
        "from sklearn.model_selection import train_test_split\n",
        "from sklearn import preprocessing, svm\n",
        "from sklearn.linear_model import LinearRegression\n",
        "\n",
        "X = np.array(modified.drop(['docked_b','electric_b'], 1))\n",
        "y = np.array(modified['docked_b'])\n",
        "X = preprocessing.scale(X)\n",
        "\n",
        "svclassifier = SVC(kernel='poly', degree=8)\n",
        "X_train, X_test, y_train, y_test = train_test_split(X, y, test_size=0.2)\n",
        "svclassifier.fit(X_train, y_train)\n"
      ],
      "execution_count": 932,
      "outputs": [
        {
          "output_type": "stream",
          "text": [
            "Requirement already satisfied: quandl in /usr/local/lib/python3.7/dist-packages (3.6.0)\n",
            "Requirement already satisfied: requests>=2.7.0 in /usr/local/lib/python3.7/dist-packages (from quandl) (2.23.0)\n",
            "Requirement already satisfied: more-itertools in /usr/local/lib/python3.7/dist-packages (from quandl) (8.7.0)\n",
            "Requirement already satisfied: numpy>=1.8 in /usr/local/lib/python3.7/dist-packages (from quandl) (1.19.5)\n",
            "Requirement already satisfied: inflection>=0.3.1 in /usr/local/lib/python3.7/dist-packages (from quandl) (0.5.1)\n",
            "Requirement already satisfied: pandas>=0.14 in /usr/local/lib/python3.7/dist-packages (from quandl) (1.1.5)\n",
            "Requirement already satisfied: six in /usr/local/lib/python3.7/dist-packages (from quandl) (1.15.0)\n",
            "Requirement already satisfied: python-dateutil in /usr/local/lib/python3.7/dist-packages (from quandl) (2.8.1)\n",
            "Requirement already satisfied: urllib3!=1.25.0,!=1.25.1,<1.26,>=1.21.1 in /usr/local/lib/python3.7/dist-packages (from requests>=2.7.0->quandl) (1.24.3)\n",
            "Requirement already satisfied: idna<3,>=2.5 in /usr/local/lib/python3.7/dist-packages (from requests>=2.7.0->quandl) (2.10)\n",
            "Requirement already satisfied: chardet<4,>=3.0.2 in /usr/local/lib/python3.7/dist-packages (from requests>=2.7.0->quandl) (3.0.4)\n",
            "Requirement already satisfied: certifi>=2017.4.17 in /usr/local/lib/python3.7/dist-packages (from requests>=2.7.0->quandl) (2020.12.5)\n",
            "Requirement already satisfied: pytz>=2017.2 in /usr/local/lib/python3.7/dist-packages (from pandas>=0.14->quandl) (2018.9)\n",
            "Requirement already satisfied: sklearn in /usr/local/lib/python3.7/dist-packages (0.0)\n",
            "Requirement already satisfied: scikit-learn in /usr/local/lib/python3.7/dist-packages (from sklearn) (0.22.2.post1)\n",
            "Requirement already satisfied: scipy>=0.17.0 in /usr/local/lib/python3.7/dist-packages (from scikit-learn->sklearn) (1.4.1)\n",
            "Requirement already satisfied: numpy>=1.11.0 in /usr/local/lib/python3.7/dist-packages (from scikit-learn->sklearn) (1.19.5)\n",
            "Requirement already satisfied: joblib>=0.11 in /usr/local/lib/python3.7/dist-packages (from scikit-learn->sklearn) (1.0.1)\n"
          ],
          "name": "stdout"
        },
        {
          "output_type": "execute_result",
          "data": {
            "text/plain": [
              "SVC(C=1.0, break_ties=False, cache_size=200, class_weight=None, coef0=0.0,\n",
              "    decision_function_shape='ovr', degree=8, gamma='scale', kernel='poly',\n",
              "    max_iter=-1, probability=False, random_state=None, shrinking=True,\n",
              "    tol=0.001, verbose=False)"
            ]
          },
          "metadata": {
            "tags": []
          },
          "execution_count": 932
        }
      ]
    },
    {
      "cell_type": "code",
      "metadata": {
        "id": "Ee2Wtl7Bw0ez"
      },
      "source": [
        "y_pred = svclassifier.predict(X_test)\n"
      ],
      "execution_count": 933,
      "outputs": []
    },
    {
      "cell_type": "code",
      "metadata": {
        "id": "f5EwHY4bw7Bo",
        "colab": {
          "base_uri": "https://localhost:8080/"
        },
        "outputId": "49cf2053-8fe8-4788-8bc1-d030e9b085ab"
      },
      "source": [
        "from sklearn.metrics import classification_report, confusion_matrix\n",
        "print(confusion_matrix(y_test, y_pred))\n",
        "print(classification_report(y_test, y_pred))"
      ],
      "execution_count": 934,
      "outputs": [
        {
          "output_type": "stream",
          "text": [
            "[[0 1 0 0 6 0 0]\n",
            " [0 1 1 0 2 0 0]\n",
            " [0 0 0 0 5 0 0]\n",
            " [0 0 0 1 2 0 0]\n",
            " [0 0 0 0 4 0 0]\n",
            " [0 1 0 0 0 0 0]\n",
            " [0 0 0 0 2 0 0]]\n",
            "              precision    recall  f1-score   support\n",
            "\n",
            "           1       0.00      0.00      0.00         7\n",
            "           3       0.33      0.25      0.29         4\n",
            "           4       0.00      0.00      0.00         5\n",
            "           5       1.00      0.33      0.50         3\n",
            "           6       0.19      1.00      0.32         4\n",
            "           7       0.00      0.00      0.00         1\n",
            "          10       0.00      0.00      0.00         2\n",
            "\n",
            "    accuracy                           0.23        26\n",
            "   macro avg       0.22      0.23      0.16        26\n",
            "weighted avg       0.20      0.23      0.15        26\n",
            "\n"
          ],
          "name": "stdout"
        },
        {
          "output_type": "stream",
          "text": [
            "/usr/local/lib/python3.7/dist-packages/sklearn/metrics/_classification.py:1272: UndefinedMetricWarning: Precision and F-score are ill-defined and being set to 0.0 in labels with no predicted samples. Use `zero_division` parameter to control this behavior.\n",
            "  _warn_prf(average, modifier, msg_start, len(result))\n"
          ],
          "name": "stderr"
        }
      ]
    },
    {
      "cell_type": "code",
      "metadata": {
        "id": "TFZUy-Sn6Yll"
      },
      "source": [
        ""
      ],
      "execution_count": 934,
      "outputs": []
    },
    {
      "cell_type": "code",
      "metadata": {
        "id": "yazVW9f2y3yg",
        "colab": {
          "base_uri": "https://localhost:8080/"
        },
        "outputId": "a8bf102e-b3d7-42cc-d65c-bf468a622e1a"
      },
      "source": [
        "print(y_pred)\n",
        "print(y_test)"
      ],
      "execution_count": 935,
      "outputs": [
        {
          "output_type": "stream",
          "text": [
            "[3 6 6 6 3 6 6 6 6 6 6 6 6 6 6 6 6 4 3 6 6 6 6 6 6 5]\n",
            "[ 1  4  1  1  7 10  5 10  1  4  3  4  4  6  3  6  1  3  3  6  1  5  1  6\n",
            "  4  5]\n"
          ],
          "name": "stdout"
        }
      ]
    },
    {
      "cell_type": "code",
      "metadata": {
        "colab": {
          "base_uri": "https://localhost:8080/"
        },
        "id": "jugvJOxg7cyP",
        "outputId": "d502d846-78b1-4037-d016-383746a0e525"
      },
      "source": [
        "from sklearn import metrics\r\n",
        "scores_regr = metrics.mean_squared_error(y_test, y_pred)\r\n",
        "scores_regr"
      ],
      "execution_count": 936,
      "outputs": [
        {
          "output_type": "execute_result",
          "data": {
            "text/plain": [
              "9.346153846153847"
            ]
          },
          "metadata": {
            "tags": []
          },
          "execution_count": 936
        }
      ]
    },
    {
      "cell_type": "code",
      "metadata": {
        "id": "eavCdbkDxcCn"
      },
      "source": [
        "\n",
        "X = modified.drop(['docked_b','electric_b'], 1)\n",
        "y = modified['docked_b']"
      ],
      "execution_count": 937,
      "outputs": []
    },
    {
      "cell_type": "code",
      "metadata": {
        "id": "fCJW_PynjKRU",
        "colab": {
          "base_uri": "https://localhost:8080/",
          "height": 596
        },
        "outputId": "3659e001-f2af-4190-ea4f-d739914a7356"
      },
      "source": [
        "import seaborn as sns\r\n",
        "#Using Pearson Correlation\r\n",
        "plt.figure(figsize=(12,10))\r\n",
        "cor = X.corr()\r\n",
        "sns.heatmap(cor, annot=True, cmap=plt.cm.CMRmap_r)\r\n",
        "plt.show()"
      ],
      "execution_count": 938,
      "outputs": [
        {
          "output_type": "display_data",
          "data": {
            "image/png": "[encoded data removed]",
            "text/plain": [
              "<Figure size 864x720 with 2 Axes>"
            ]
          },
          "metadata": {
            "tags": [],
            "needs_background": "light"
          }
        }
      ]
    },
    {
      "cell_type": "code",
      "metadata": {
        "id": "XmADMWWRjUdI"
      },
      "source": [
        "# with the following function we can select highly correlated features\r\n",
        "# it will remove the first feature that is correlated with anything other feature\r\n",
        "\r\n",
        "def correlation(dataset, threshold):\r\n",
        "    col_corr = set()  # Set of all the names of correlated columns\r\n",
        "    corr_matrix = dataset.corr()\r\n",
        "    for i in range(len(corr_matrix.columns)):\r\n",
        "        for j in range(i):\r\n",
        "            if abs(corr_matrix.iloc[i, j]) > threshold: # we are interested in absolute coeff value\r\n",
        "                colname = corr_matrix.columns[i]  # getting the name of column\r\n",
        "                col_corr.add(colname)\r\n",
        "    return col_corr"
      ],
      "execution_count": 939,
      "outputs": []
    },
    {
      "cell_type": "code",
      "metadata": {
        "id": "sMf9jbzYjdHC",
        "colab": {
          "base_uri": "https://localhost:8080/"
        },
        "outputId": "fb7bed4b-284a-4ed7-e81e-8c9378b04518"
      },
      "source": [
        "corr_features = correlation(X, 0.7)\r\n",
        "#h = X.keys()\r\n",
        "#h = set(h);\r\n",
        "#corr_features = h - corr_features\r\n",
        "print(corr_features)\r\n",
        "len(set(corr_features))"
      ],
      "execution_count": 940,
      "outputs": [
        {
          "output_type": "stream",
          "text": [
            "{'QV2M', 'T2M_MAX', 'T2M_MIN'}\n"
          ],
          "name": "stdout"
        },
        {
          "output_type": "execute_result",
          "data": {
            "text/plain": [
              "3"
            ]
          },
          "metadata": {
            "tags": []
          },
          "execution_count": 940
        }
      ]
    },
    {
      "cell_type": "code",
      "metadata": {
        "id": "VybdNSemj5F-",
        "colab": {
          "base_uri": "https://localhost:8080/",
          "height": 407
        },
        "outputId": "2e73dc57-f88c-4d2b-d2f1-bf1caa55a9cc"
      },
      "source": [
        "X.drop(corr_features,axis=1)"
      ],
      "execution_count": 941,
      "outputs": [
        {
          "output_type": "execute_result",
          "data": {
            "text/html": [
              "<div>\n",
              "<style scoped>\n",
              "    .dataframe tbody tr th:only-of-type {\n",
              "        vertical-align: middle;\n",
              "    }\n",
              "\n",
              "    .dataframe tbody tr th {\n",
              "        vertical-align: top;\n",
              "    }\n",
              "\n",
              "    .dataframe thead th {\n",
              "        text-align: right;\n",
              "    }\n",
              "</style>\n",
              "<table border=\"1\" class=\"dataframe\">\n",
              "  <thead>\n",
              "    <tr style=\"text-align: right;\">\n",
              "      <th></th>\n",
              "      <th>DY</th>\n",
              "      <th>MO</th>\n",
              "      <th>PS</th>\n",
              "      <th>T2M_RANGE</th>\n",
              "    </tr>\n",
              "  </thead>\n",
              "  <tbody>\n",
              "    <tr>\n",
              "      <th>0</th>\n",
              "      <td>1.0</td>\n",
              "      <td>8.0</td>\n",
              "      <td>0.75</td>\n",
              "      <td>9.18</td>\n",
              "    </tr>\n",
              "    <tr>\n",
              "      <th>1</th>\n",
              "      <td>1.0</td>\n",
              "      <td>9.0</td>\n",
              "      <td>1.14</td>\n",
              "      <td>7.04</td>\n",
              "    </tr>\n",
              "    <tr>\n",
              "      <th>2</th>\n",
              "      <td>1.0</td>\n",
              "      <td>10.0</td>\n",
              "      <td>0.80</td>\n",
              "      <td>10.22</td>\n",
              "    </tr>\n",
              "    <tr>\n",
              "      <th>3</th>\n",
              "      <td>1.0</td>\n",
              "      <td>11.0</td>\n",
              "      <td>1.05</td>\n",
              "      <td>10.10</td>\n",
              "    </tr>\n",
              "    <tr>\n",
              "      <th>4</th>\n",
              "      <td>1.0</td>\n",
              "      <td>12.0</td>\n",
              "      <td>0.16</td>\n",
              "      <td>5.20</td>\n",
              "    </tr>\n",
              "    <tr>\n",
              "      <th>...</th>\n",
              "      <td>...</td>\n",
              "      <td>...</td>\n",
              "      <td>...</td>\n",
              "      <td>...</td>\n",
              "    </tr>\n",
              "    <tr>\n",
              "      <th>125</th>\n",
              "      <td>30.0</td>\n",
              "      <td>9.0</td>\n",
              "      <td>0.42</td>\n",
              "      <td>8.31</td>\n",
              "    </tr>\n",
              "    <tr>\n",
              "      <th>126</th>\n",
              "      <td>30.0</td>\n",
              "      <td>10.0</td>\n",
              "      <td>0.82</td>\n",
              "      <td>5.56</td>\n",
              "    </tr>\n",
              "    <tr>\n",
              "      <th>127</th>\n",
              "      <td>30.0</td>\n",
              "      <td>11.0</td>\n",
              "      <td>-0.48</td>\n",
              "      <td>12.19</td>\n",
              "    </tr>\n",
              "    <tr>\n",
              "      <th>128</th>\n",
              "      <td>31.0</td>\n",
              "      <td>8.0</td>\n",
              "      <td>1.10</td>\n",
              "      <td>5.34</td>\n",
              "    </tr>\n",
              "    <tr>\n",
              "      <th>129</th>\n",
              "      <td>31.0</td>\n",
              "      <td>10.0</td>\n",
              "      <td>2.50</td>\n",
              "      <td>7.36</td>\n",
              "    </tr>\n",
              "  </tbody>\n",
              "</table>\n",
              "<p>130 rows × 4 columns</p>\n",
              "</div>"
            ],
            "text/plain": [
              "       DY    MO    PS  T2M_RANGE\n",
              "0     1.0   8.0  0.75       9.18\n",
              "1     1.0   9.0  1.14       7.04\n",
              "2     1.0  10.0  0.80      10.22\n",
              "3     1.0  11.0  1.05      10.10\n",
              "4     1.0  12.0  0.16       5.20\n",
              "..    ...   ...   ...        ...\n",
              "125  30.0   9.0  0.42       8.31\n",
              "126  30.0  10.0  0.82       5.56\n",
              "127  30.0  11.0 -0.48      12.19\n",
              "128  31.0   8.0  1.10       5.34\n",
              "129  31.0  10.0  2.50       7.36\n",
              "\n",
              "[130 rows x 4 columns]"
            ]
          },
          "metadata": {
            "tags": []
          },
          "execution_count": 941
        }
      ]
    },
    {
      "cell_type": "code",
      "metadata": {
        "id": "IbIzh3Qcjwt5",
        "colab": {
          "base_uri": "https://localhost:8080/"
        },
        "outputId": "cb9819f1-b18f-4ac6-81f0-684ea86e1435"
      },
      "source": [
        "corr_features"
      ],
      "execution_count": 942,
      "outputs": [
        {
          "output_type": "execute_result",
          "data": {
            "text/plain": [
              "{'QV2M', 'T2M_MAX', 'T2M_MIN'}"
            ]
          },
          "metadata": {
            "tags": []
          },
          "execution_count": 942
        }
      ]
    },
    {
      "cell_type": "code",
      "metadata": {
        "id": "7cuW5NAZ7nKz"
      },
      "source": [
        "X = np.array(X)\r\n",
        "y = np.array(y)"
      ],
      "execution_count": 943,
      "outputs": []
    },
    {
      "cell_type": "code",
      "metadata": {
        "id": "pyo6K5ys2-mJ"
      },
      "source": [
        "X = preprocessing.scale(X)"
      ],
      "execution_count": 944,
      "outputs": []
    },
    {
      "cell_type": "code",
      "metadata": {
        "id": "A3N7O-fl3Gg5"
      },
      "source": [
        "X_train, X_test, y_train, y_test = train_test_split(X, y, test_size=0.2)"
      ],
      "execution_count": 945,
      "outputs": []
    },
    {
      "cell_type": "code",
      "metadata": {
        "id": "pF6clCVG3LxE"
      },
      "source": [
        "clf = LinearRegression()"
      ],
      "execution_count": 946,
      "outputs": []
    },
    {
      "cell_type": "code",
      "metadata": {
        "id": "4m-grhQT3OW5",
        "colab": {
          "base_uri": "https://localhost:8080/"
        },
        "outputId": "28cfad96-ffa2-4dd2-eceb-3b0ad97f86e6"
      },
      "source": [
        "clf.fit(X_train, y_train)\n",
        "y_pred=clf.predict(X_test)\n",
        "y_pred\n"
      ],
      "execution_count": 947,
      "outputs": [
        {
          "output_type": "execute_result",
          "data": {
            "text/plain": [
              "array([6.08020431, 4.44848634, 6.0893273 , 5.5817579 , 3.00951416,\n",
              "       4.13303481, 3.67819799, 3.64335284, 3.50321847, 3.3371726 ,\n",
              "       3.44512862, 6.11781396, 4.68207404, 5.03436525, 3.99127897,\n",
              "       5.34509265, 4.73609637, 3.79622592, 5.18713498, 4.13755932,\n",
              "       3.85112758, 4.32514962, 4.33987809, 4.55109904, 4.14530292,\n",
              "       5.84193201])"
            ]
          },
          "metadata": {
            "tags": []
          },
          "execution_count": 947
        }
      ]
    },
    {
      "cell_type": "code",
      "metadata": {
        "id": "sBfGf8ukNi_A",
        "colab": {
          "base_uri": "https://localhost:8080/"
        },
        "outputId": "ee439e94-4280-4933-d7c0-5d1eb56d9936"
      },
      "source": [
        "confidence = clf.score(X_test, y_test)\r\n",
        "print(confidence)"
      ],
      "execution_count": 948,
      "outputs": [
        {
          "output_type": "stream",
          "text": [
            "0.011981631438989004\n"
          ],
          "name": "stdout"
        }
      ]
    },
    {
      "cell_type": "code",
      "metadata": {
        "id": "3pFT0oXyhhst",
        "colab": {
          "base_uri": "https://localhost:8080/"
        },
        "outputId": "25d2b2cb-f97e-4bbb-d200-10b12b7818b4"
      },
      "source": [
        "y_test"
      ],
      "execution_count": 949,
      "outputs": [
        {
          "output_type": "execute_result",
          "data": {
            "text/plain": [
              "array([ 4,  1,  6,  6,  4,  6,  1,  1,  2,  9,  7, 12,  4,  6,  2,  4,  7,\n",
              "        5, 11,  6,  8,  8,  2,  6,  3,  2])"
            ]
          },
          "metadata": {
            "tags": []
          },
          "execution_count": 949
        }
      ]
    },
    {
      "cell_type": "code",
      "metadata": {
        "id": "Gcum_8hmBRGR",
        "colab": {
          "base_uri": "https://localhost:8080/"
        },
        "outputId": "db56d25f-47f2-4d18-cd66-877c39f6fff0"
      },
      "source": [
        "#To retrieve the intercept:\r\n",
        "print(clf.intercept_)\r\n",
        "\r\n",
        "#For retrieving the slope:\r\n",
        "print(clf.coef_)"
      ],
      "execution_count": 950,
      "outputs": [
        {
          "output_type": "stream",
          "text": [
            "4.561780969791129\n",
            "[  -0.61178159   -0.1910237    -0.2223876    43.05017337 -131.67698925\n",
            "  141.14774164   -1.64344696]\n"
          ],
          "name": "stdout"
        }
      ]
    },
    {
      "cell_type": "code",
      "metadata": {
        "id": "_h38JcduwXLK",
        "colab": {
          "base_uri": "https://localhost:8080/"
        },
        "outputId": "172605de-4b6c-44c6-a3d5-6ee2fa30ff6b"
      },
      "source": [
        "\r\n",
        "# evaluate  regression model using k-fold cross-validation\r\n",
        "from numpy import mean\r\n",
        "from numpy import std\r\n",
        "from sklearn.datasets import make_classification\r\n",
        "from sklearn.model_selection import KFold\r\n",
        "from sklearn.model_selection import cross_val_score\r\n",
        "from sklearn.linear_model import LogisticRegression\r\n",
        "# create dataset\r\n",
        "\r\n",
        "#X = np.array(modified.drop(['PS','docked_b','count'], 1))\r\n",
        "#y = np.array(modified['docked_b'])\r\n",
        "# prepare the cross-validation procedure\r\n",
        "cv = KFold(n_splits=10, random_state=1, shuffle=True)\r\n",
        "# create model\r\n",
        "model = LogisticRegression()\r\n",
        "# evaluate model\r\n",
        "scores = cross_val_score(model, X, y, scoring='accuracy', cv=cv, n_jobs=-1)\r\n",
        "# report performance\r\n",
        "print(scores)\r\n",
        "print('Accuracy: %.3f (%.3f)' % (mean(scores), std(scores)))"
      ],
      "execution_count": 951,
      "outputs": [
        {
          "output_type": "stream",
          "text": [
            "[0.07692308 0.23076923 0.07692308 0.07692308 0.30769231 0.15384615\n",
            " 0.15384615 0.15384615 0.07692308 0.07692308]\n",
            "Accuracy: 0.138 (0.075)\n"
          ],
          "name": "stdout"
        }
      ]
    },
    {
      "cell_type": "code",
      "metadata": {
        "id": "AoX8qZv7eJuZ"
      },
      "source": [
        "X = modified.drop(['electric_b'], 1)\r\n",
        "y = modified['electric_b']"
      ],
      "execution_count": 952,
      "outputs": []
    },
    {
      "cell_type": "code",
      "metadata": {
        "id": "CvPHWcYMOrCT",
        "colab": {
          "base_uri": "https://localhost:8080/",
          "height": 596
        },
        "outputId": "8e9ce086-d059-4292-9f36-01a4d77318e4"
      },
      "source": [
        "import seaborn as sns\r\n",
        "#Using Pearson Correlation\r\n",
        "plt.figure(figsize=(12,10))\r\n",
        "cor = X.corr()\r\n",
        "sns.heatmap(cor, annot=True, cmap=plt.cm.CMRmap_r)\r\n",
        "plt.show()"
      ],
      "execution_count": 953,
      "outputs": [
        {
          "output_type": "display_data",
          "data": {
            "image/png": "[encoded data removed]",
            "text/plain": [
              "<Figure size 864x720 with 2 Axes>"
            ]
          },
          "metadata": {
            "tags": [],
            "needs_background": "light"
          }
        }
      ]
    },
    {
      "cell_type": "code",
      "metadata": {
        "id": "qhjRLWMtOrCX"
      },
      "source": [
        "# with the following function we can select highly correlated features\r\n",
        "# it will remove the first feature that is correlated with anything other feature\r\n",
        "\r\n",
        "def correlation(dataset, threshold):\r\n",
        "    col_corr = set()  # Set of all the names of correlated columns\r\n",
        "    corr_matrix = dataset.corr()\r\n",
        "    for i in range(len(corr_matrix.columns)):\r\n",
        "        for j in range(i):\r\n",
        "            if abs(corr_matrix.iloc[i, j]) > threshold: # we are interested in absolute coeff value\r\n",
        "                colname = corr_matrix.columns[i]  # getting the name of column\r\n",
        "                col_corr.add(colname)\r\n",
        "    return col_corr"
      ],
      "execution_count": 954,
      "outputs": []
    },
    {
      "cell_type": "code",
      "metadata": {
        "id": "M1DdkuhlOrCZ",
        "colab": {
          "base_uri": "https://localhost:8080/"
        },
        "outputId": "7b625e25-4451-452d-ad79-691d26dfef1b"
      },
      "source": [
        "corr_features = correlation(X, 0.7)\r\n",
        "len(set(corr_features))"
      ],
      "execution_count": 955,
      "outputs": [
        {
          "output_type": "execute_result",
          "data": {
            "text/plain": [
              "3"
            ]
          },
          "metadata": {
            "tags": []
          },
          "execution_count": 955
        }
      ]
    },
    {
      "cell_type": "code",
      "metadata": {
        "id": "GCZFOGbcOrCa",
        "colab": {
          "base_uri": "https://localhost:8080/",
          "height": 407
        },
        "outputId": "a534f4ee-5551-4432-e5f8-b3831e38850b"
      },
      "source": [
        "X.drop(corr_features,axis=1)"
      ],
      "execution_count": 956,
      "outputs": [
        {
          "output_type": "execute_result",
          "data": {
            "text/html": [
              "<div>\n",
              "<style scoped>\n",
              "    .dataframe tbody tr th:only-of-type {\n",
              "        vertical-align: middle;\n",
              "    }\n",
              "\n",
              "    .dataframe tbody tr th {\n",
              "        vertical-align: top;\n",
              "    }\n",
              "\n",
              "    .dataframe thead th {\n",
              "        text-align: right;\n",
              "    }\n",
              "</style>\n",
              "<table border=\"1\" class=\"dataframe\">\n",
              "  <thead>\n",
              "    <tr style=\"text-align: right;\">\n",
              "      <th></th>\n",
              "      <th>DY</th>\n",
              "      <th>MO</th>\n",
              "      <th>PS</th>\n",
              "      <th>T2M_RANGE</th>\n",
              "      <th>docked_b</th>\n",
              "    </tr>\n",
              "  </thead>\n",
              "  <tbody>\n",
              "    <tr>\n",
              "      <th>0</th>\n",
              "      <td>1.0</td>\n",
              "      <td>8.0</td>\n",
              "      <td>0.75</td>\n",
              "      <td>9.18</td>\n",
              "      <td>7</td>\n",
              "    </tr>\n",
              "    <tr>\n",
              "      <th>1</th>\n",
              "      <td>1.0</td>\n",
              "      <td>9.0</td>\n",
              "      <td>1.14</td>\n",
              "      <td>7.04</td>\n",
              "      <td>6</td>\n",
              "    </tr>\n",
              "    <tr>\n",
              "      <th>2</th>\n",
              "      <td>1.0</td>\n",
              "      <td>10.0</td>\n",
              "      <td>0.80</td>\n",
              "      <td>10.22</td>\n",
              "      <td>8</td>\n",
              "    </tr>\n",
              "    <tr>\n",
              "      <th>3</th>\n",
              "      <td>1.0</td>\n",
              "      <td>11.0</td>\n",
              "      <td>1.05</td>\n",
              "      <td>10.10</td>\n",
              "      <td>2</td>\n",
              "    </tr>\n",
              "    <tr>\n",
              "      <th>4</th>\n",
              "      <td>1.0</td>\n",
              "      <td>12.0</td>\n",
              "      <td>0.16</td>\n",
              "      <td>5.20</td>\n",
              "      <td>6</td>\n",
              "    </tr>\n",
              "    <tr>\n",
              "      <th>...</th>\n",
              "      <td>...</td>\n",
              "      <td>...</td>\n",
              "      <td>...</td>\n",
              "      <td>...</td>\n",
              "      <td>...</td>\n",
              "    </tr>\n",
              "    <tr>\n",
              "      <th>125</th>\n",
              "      <td>30.0</td>\n",
              "      <td>9.0</td>\n",
              "      <td>0.42</td>\n",
              "      <td>8.31</td>\n",
              "      <td>6</td>\n",
              "    </tr>\n",
              "    <tr>\n",
              "      <th>126</th>\n",
              "      <td>30.0</td>\n",
              "      <td>10.0</td>\n",
              "      <td>0.82</td>\n",
              "      <td>5.56</td>\n",
              "      <td>6</td>\n",
              "    </tr>\n",
              "    <tr>\n",
              "      <th>127</th>\n",
              "      <td>30.0</td>\n",
              "      <td>11.0</td>\n",
              "      <td>-0.48</td>\n",
              "      <td>12.19</td>\n",
              "      <td>2</td>\n",
              "    </tr>\n",
              "    <tr>\n",
              "      <th>128</th>\n",
              "      <td>31.0</td>\n",
              "      <td>8.0</td>\n",
              "      <td>1.10</td>\n",
              "      <td>5.34</td>\n",
              "      <td>1</td>\n",
              "    </tr>\n",
              "    <tr>\n",
              "      <th>129</th>\n",
              "      <td>31.0</td>\n",
              "      <td>10.0</td>\n",
              "      <td>2.50</td>\n",
              "      <td>7.36</td>\n",
              "      <td>2</td>\n",
              "    </tr>\n",
              "  </tbody>\n",
              "</table>\n",
              "<p>130 rows × 5 columns</p>\n",
              "</div>"
            ],
            "text/plain": [
              "       DY    MO    PS  T2M_RANGE  docked_b\n",
              "0     1.0   8.0  0.75       9.18         7\n",
              "1     1.0   9.0  1.14       7.04         6\n",
              "2     1.0  10.0  0.80      10.22         8\n",
              "3     1.0  11.0  1.05      10.10         2\n",
              "4     1.0  12.0  0.16       5.20         6\n",
              "..    ...   ...   ...        ...       ...\n",
              "125  30.0   9.0  0.42       8.31         6\n",
              "126  30.0  10.0  0.82       5.56         6\n",
              "127  30.0  11.0 -0.48      12.19         2\n",
              "128  31.0   8.0  1.10       5.34         1\n",
              "129  31.0  10.0  2.50       7.36         2\n",
              "\n",
              "[130 rows x 5 columns]"
            ]
          },
          "metadata": {
            "tags": []
          },
          "execution_count": 956
        }
      ]
    },
    {
      "cell_type": "code",
      "metadata": {
        "id": "aBhsfHmROrCc",
        "colab": {
          "base_uri": "https://localhost:8080/"
        },
        "outputId": "b3358651-0353-48a8-91d6-97c92333da73"
      },
      "source": [
        "corr_features"
      ],
      "execution_count": 957,
      "outputs": [
        {
          "output_type": "execute_result",
          "data": {
            "text/plain": [
              "{'QV2M', 'T2M_MAX', 'T2M_MIN'}"
            ]
          },
          "metadata": {
            "tags": []
          },
          "execution_count": 957
        }
      ]
    },
    {
      "cell_type": "code",
      "metadata": {
        "id": "U8Gu9O_sejY-"
      },
      "source": [
        "X = preprocessing.scale(X)\r\n",
        "X_train, X_test, y_train, y_test = train_test_split(X, y, test_size=0.2)\r\n",
        "clf = LinearRegression()"
      ],
      "execution_count": 958,
      "outputs": []
    },
    {
      "cell_type": "code",
      "metadata": {
        "id": "jk5iRQNQejlD",
        "colab": {
          "base_uri": "https://localhost:8080/"
        },
        "outputId": "634b8e6b-9cbb-4c90-bbcc-2ed7b17e6a57"
      },
      "source": [
        "clf.fit(X_train, y_train)\r\n",
        "confidence = clf.score(X_test, y_test)\r\n",
        "print(confidence)\r\n"
      ],
      "execution_count": 959,
      "outputs": [
        {
          "output_type": "stream",
          "text": [
            "-0.12727384058893843\n"
          ],
          "name": "stdout"
        }
      ]
    },
    {
      "cell_type": "code",
      "metadata": {
        "id": "huMRJyJUej09",
        "colab": {
          "base_uri": "https://localhost:8080/"
        },
        "outputId": "0fba026b-741b-43ef-b66a-1ea1e3f9835e"
      },
      "source": [
        "U=clf.predict(X_test)\r\n",
        "U"
      ],
      "execution_count": 960,
      "outputs": [
        {
          "output_type": "execute_result",
          "data": {
            "text/plain": [
              "array([6.53399872, 5.07547073, 4.77364713, 5.64932371, 6.62935039,\n",
              "       5.90702935, 5.44642628, 5.34190894, 5.39604636, 6.39263397,\n",
              "       4.84777988, 5.09488164, 4.40471818, 6.9744402 , 4.84932735,\n",
              "       5.40147216, 5.72912348, 2.20016757, 5.81335995, 5.62650816,\n",
              "       6.3202669 , 5.41762835, 4.51974946, 6.62181162, 6.56239526,\n",
              "       5.86254223])"
            ]
          },
          "metadata": {
            "tags": []
          },
          "execution_count": 960
        }
      ]
    },
    {
      "cell_type": "code",
      "metadata": {
        "id": "gDWlpqaHgM6v",
        "colab": {
          "base_uri": "https://localhost:8080/"
        },
        "outputId": "525792c0-3198-43d3-8e0c-c0ff1c3dd0b4"
      },
      "source": [
        "y_test"
      ],
      "execution_count": 961,
      "outputs": [
        {
          "output_type": "execute_result",
          "data": {
            "text/plain": [
              "32     6\n",
              "68     6\n",
              "69     4\n",
              "64     3\n",
              "108    5\n",
              "128    3\n",
              "99     4\n",
              "67     6\n",
              "78     4\n",
              "9      7\n",
              "121    5\n",
              "61     7\n",
              "72     5\n",
              "88     2\n",
              "14     5\n",
              "71     7\n",
              "104    3\n",
              "28     2\n",
              "48     6\n",
              "46     6\n",
              "73     6\n",
              "109    5\n",
              "55     5\n",
              "20     8\n",
              "75     6\n",
              "80     4\n",
              "Name: electric_b, dtype: int64"
            ]
          },
          "metadata": {
            "tags": []
          },
          "execution_count": 961
        }
      ]
    },
    {
      "cell_type": "code",
      "metadata": {
        "id": "tp_cTCoagSNL",
        "colab": {
          "base_uri": "https://localhost:8080/"
        },
        "outputId": "fb327075-442a-4e62-d71d-7aba5873eecb"
      },
      "source": [
        "clf.score(X_test,y_test)"
      ],
      "execution_count": 962,
      "outputs": [
        {
          "output_type": "execute_result",
          "data": {
            "text/plain": [
              "-0.12727384058893843"
            ]
          },
          "metadata": {
            "tags": []
          },
          "execution_count": 962
        }
      ]
    },
    {
      "cell_type": "code",
      "metadata": {
        "id": "4jUiVWQNqWbJ",
        "colab": {
          "base_uri": "https://localhost:8080/"
        },
        "outputId": "9bf9efd5-e852-4d03-dd0c-71ff5c8762dd"
      },
      "source": [
        "from sklearn.model_selection import KFold # import KFold\r\n",
        "#X = np.array([[1, 2], [3, 4], [1, 2], [3, 4]]) # create an array\r\n",
        "#y = np.array([1, 2, 3, 4]) # Create another array\r\n",
        "#X = modified.drop(['PS','electric_b','count'], 1)\r\n",
        "#y = modified['electric_b']\r\n",
        "kf = KFold(n_splits=5) # Define the split - into 2 folds \r\n",
        "kf.get_n_splits(X) # returns the number of splitting iterations in the cross-validator\r\n",
        "print(kf) \r\n",
        "KFold(n_splits=5, random_state=None, shuffle=False)"
      ],
      "execution_count": 963,
      "outputs": [
        {
          "output_type": "stream",
          "text": [
            "KFold(n_splits=5, random_state=None, shuffle=False)\n"
          ],
          "name": "stdout"
        },
        {
          "output_type": "execute_result",
          "data": {
            "text/plain": [
              "KFold(n_splits=5, random_state=None, shuffle=False)"
            ]
          },
          "metadata": {
            "tags": []
          },
          "execution_count": 963
        }
      ]
    },
    {
      "cell_type": "code",
      "metadata": {
        "id": "rK77HWQhqXow"
      },
      "source": [
        "\r\n"
      ],
      "execution_count": 963,
      "outputs": []
    },
    {
      "cell_type": "code",
      "metadata": {
        "id": "SQiqeZprqafm"
      },
      "source": [
        "# Necessary imports: \r\n",
        "from sklearn.model_selection import cross_val_score, cross_val_predict\r\n",
        "from sklearn import metrics"
      ],
      "execution_count": 964,
      "outputs": []
    },
    {
      "cell_type": "code",
      "metadata": {
        "id": "I3o_0mWtq5-t",
        "colab": {
          "base_uri": "https://localhost:8080/"
        },
        "outputId": "5aa26a5e-f246-4b14-ac87-384e25ec9b88"
      },
      "source": [
        "# Perform 6-fold cross validation\r\n",
        "cv_4_results = cross_val_score(clf, X, y, cv=10,)\r\n",
        "print ('Cross-validated scores:', cv_4_results)\r\n",
        "print('mean score', mean(cv_4_results))\r\n"
      ],
      "execution_count": 965,
      "outputs": [
        {
          "output_type": "stream",
          "text": [
            "Cross-validated scores: [ 0.21541625 -1.40647044  0.10014771 -0.27424106 -0.27352659 -0.28904663\n",
            "  0.1568256   0.13581281 -0.06025126 -0.3922266 ]\n",
            "mean score -0.20875602019593437\n"
          ],
          "name": "stdout"
        }
      ]
    },
    {
      "cell_type": "code",
      "metadata": {
        "id": "qUsHM606wB6Q"
      },
      "source": [
        "import pandas\r\n",
        "from sklearn.model_selection import KFold\r\n",
        "from sklearn.preprocessing import MinMaxScaler\r\n",
        "from sklearn.svm import SVR\r\n",
        "import numpy as np"
      ],
      "execution_count": 966,
      "outputs": []
    },
    {
      "cell_type": "code",
      "metadata": {
        "id": "T5HmX9cMUePY"
      },
      "source": [
        "X = modified.drop(['MO','electric_b'], 1)\r\n",
        "y = modified['electric_b']"
      ],
      "execution_count": 967,
      "outputs": []
    },
    {
      "cell_type": "code",
      "metadata": {
        "id": "oCjO0HG0VURP",
        "colab": {
          "base_uri": "https://localhost:8080/",
          "height": 596
        },
        "outputId": "7a06ebe7-3a5b-4681-8f64-f7a885add8b2"
      },
      "source": [
        "import seaborn as sns\r\n",
        "#Using Pearson Correlation\r\n",
        "plt.figure(figsize=(12,10))\r\n",
        "cor = X.corr()\r\n",
        "sns.heatmap(cor, annot=True, cmap=plt.cm.CMRmap_r)\r\n",
        "plt.show()"
      ],
      "execution_count": 968,
      "outputs": [
        {
          "output_type": "display_data",
          "data": {
            "image/png": "[encoded data removed]",
            "text/plain": [
              "<Figure size 864x720 with 2 Axes>"
            ]
          },
          "metadata": {
            "tags": [],
            "needs_background": "light"
          }
        }
      ]
    },
    {
      "cell_type": "code",
      "metadata": {
        "id": "_UHQafUhVURX"
      },
      "source": [
        "# with the following function we can select highly correlated features\r\n",
        "# it will remove the first feature that is correlated with anything other feature\r\n",
        "\r\n",
        "def correlation(dataset, threshold):\r\n",
        "    col_corr = set()  # Set of all the names of correlated columns\r\n",
        "    corr_matrix = dataset.corr()\r\n",
        "    for i in range(len(corr_matrix.columns)):\r\n",
        "        for j in range(i):\r\n",
        "            if abs(corr_matrix.iloc[i, j]) > threshold: # we are interested in absolute coeff value\r\n",
        "                colname = corr_matrix.columns[i]  # getting the name of column\r\n",
        "                col_corr.add(colname)\r\n",
        "    return col_corr"
      ],
      "execution_count": 969,
      "outputs": []
    },
    {
      "cell_type": "code",
      "metadata": {
        "id": "EmUoCquoVURY",
        "colab": {
          "base_uri": "https://localhost:8080/"
        },
        "outputId": "90fcd944-2a15-4af2-cecd-55f6fb2cb7af"
      },
      "source": [
        "corr_features = correlation(X, 0.8)\r\n",
        "len(set(corr_features))"
      ],
      "execution_count": 970,
      "outputs": [
        {
          "output_type": "execute_result",
          "data": {
            "text/plain": [
              "2"
            ]
          },
          "metadata": {
            "tags": []
          },
          "execution_count": 970
        }
      ]
    },
    {
      "cell_type": "code",
      "metadata": {
        "id": "iR0BDlbLVURY",
        "colab": {
          "base_uri": "https://localhost:8080/",
          "height": 407
        },
        "outputId": "4b5aa74b-012d-41bb-f08a-5aa1d5215426"
      },
      "source": [
        "X.drop(corr_features,axis=1)"
      ],
      "execution_count": 971,
      "outputs": [
        {
          "output_type": "execute_result",
          "data": {
            "text/html": [
              "<div>\n",
              "<style scoped>\n",
              "    .dataframe tbody tr th:only-of-type {\n",
              "        vertical-align: middle;\n",
              "    }\n",
              "\n",
              "    .dataframe tbody tr th {\n",
              "        vertical-align: top;\n",
              "    }\n",
              "\n",
              "    .dataframe thead th {\n",
              "        text-align: right;\n",
              "    }\n",
              "</style>\n",
              "<table border=\"1\" class=\"dataframe\">\n",
              "  <thead>\n",
              "    <tr style=\"text-align: right;\">\n",
              "      <th></th>\n",
              "      <th>DY</th>\n",
              "      <th>PS</th>\n",
              "      <th>T2M_RANGE</th>\n",
              "      <th>T2M_MAX</th>\n",
              "      <th>docked_b</th>\n",
              "    </tr>\n",
              "  </thead>\n",
              "  <tbody>\n",
              "    <tr>\n",
              "      <th>0</th>\n",
              "      <td>1.0</td>\n",
              "      <td>0.75</td>\n",
              "      <td>9.18</td>\n",
              "      <td>31.66</td>\n",
              "      <td>7</td>\n",
              "    </tr>\n",
              "    <tr>\n",
              "      <th>1</th>\n",
              "      <td>1.0</td>\n",
              "      <td>1.14</td>\n",
              "      <td>7.04</td>\n",
              "      <td>26.71</td>\n",
              "      <td>6</td>\n",
              "    </tr>\n",
              "    <tr>\n",
              "      <th>2</th>\n",
              "      <td>1.0</td>\n",
              "      <td>0.80</td>\n",
              "      <td>10.22</td>\n",
              "      <td>22.98</td>\n",
              "      <td>8</td>\n",
              "    </tr>\n",
              "    <tr>\n",
              "      <th>3</th>\n",
              "      <td>1.0</td>\n",
              "      <td>1.05</td>\n",
              "      <td>10.10</td>\n",
              "      <td>15.09</td>\n",
              "      <td>2</td>\n",
              "    </tr>\n",
              "    <tr>\n",
              "      <th>4</th>\n",
              "      <td>1.0</td>\n",
              "      <td>0.16</td>\n",
              "      <td>5.20</td>\n",
              "      <td>7.48</td>\n",
              "      <td>6</td>\n",
              "    </tr>\n",
              "    <tr>\n",
              "      <th>...</th>\n",
              "      <td>...</td>\n",
              "      <td>...</td>\n",
              "      <td>...</td>\n",
              "      <td>...</td>\n",
              "      <td>...</td>\n",
              "    </tr>\n",
              "    <tr>\n",
              "      <th>125</th>\n",
              "      <td>30.0</td>\n",
              "      <td>0.42</td>\n",
              "      <td>8.31</td>\n",
              "      <td>20.99</td>\n",
              "      <td>6</td>\n",
              "    </tr>\n",
              "    <tr>\n",
              "      <th>126</th>\n",
              "      <td>30.0</td>\n",
              "      <td>0.82</td>\n",
              "      <td>5.56</td>\n",
              "      <td>12.43</td>\n",
              "      <td>6</td>\n",
              "    </tr>\n",
              "    <tr>\n",
              "      <th>127</th>\n",
              "      <td>30.0</td>\n",
              "      <td>-0.48</td>\n",
              "      <td>12.19</td>\n",
              "      <td>19.45</td>\n",
              "      <td>2</td>\n",
              "    </tr>\n",
              "    <tr>\n",
              "      <th>128</th>\n",
              "      <td>31.0</td>\n",
              "      <td>1.10</td>\n",
              "      <td>5.34</td>\n",
              "      <td>24.41</td>\n",
              "      <td>1</td>\n",
              "    </tr>\n",
              "    <tr>\n",
              "      <th>129</th>\n",
              "      <td>31.0</td>\n",
              "      <td>2.50</td>\n",
              "      <td>7.36</td>\n",
              "      <td>11.13</td>\n",
              "      <td>2</td>\n",
              "    </tr>\n",
              "  </tbody>\n",
              "</table>\n",
              "<p>130 rows × 5 columns</p>\n",
              "</div>"
            ],
            "text/plain": [
              "       DY    PS  T2M_RANGE  T2M_MAX  docked_b\n",
              "0     1.0  0.75       9.18    31.66         7\n",
              "1     1.0  1.14       7.04    26.71         6\n",
              "2     1.0  0.80      10.22    22.98         8\n",
              "3     1.0  1.05      10.10    15.09         2\n",
              "4     1.0  0.16       5.20     7.48         6\n",
              "..    ...   ...        ...      ...       ...\n",
              "125  30.0  0.42       8.31    20.99         6\n",
              "126  30.0  0.82       5.56    12.43         6\n",
              "127  30.0 -0.48      12.19    19.45         2\n",
              "128  31.0  1.10       5.34    24.41         1\n",
              "129  31.0  2.50       7.36    11.13         2\n",
              "\n",
              "[130 rows x 5 columns]"
            ]
          },
          "metadata": {
            "tags": []
          },
          "execution_count": 971
        }
      ]
    },
    {
      "cell_type": "code",
      "metadata": {
        "id": "dMeqM5VVVURZ",
        "colab": {
          "base_uri": "https://localhost:8080/"
        },
        "outputId": "cd7caf4f-7a59-4015-b0b6-19fe44fa218a"
      },
      "source": [
        "corr_features"
      ],
      "execution_count": 972,
      "outputs": [
        {
          "output_type": "execute_result",
          "data": {
            "text/plain": [
              "{'QV2M', 'T2M_MIN'}"
            ]
          },
          "metadata": {
            "tags": []
          },
          "execution_count": 972
        }
      ]
    },
    {
      "cell_type": "code",
      "metadata": {
        "id": "InKsiE2UwdxT"
      },
      "source": [
        "\n",
        "X = np.array(X)\n",
        "y = np.array(y)"
      ],
      "execution_count": 973,
      "outputs": []
    },
    {
      "cell_type": "code",
      "metadata": {
        "id": "sg5lYCpawI-Y"
      },
      "source": [
        "scaler = MinMaxScaler(feature_range=(0, 1))\r\n",
        "X = scaler.fit_transform(X)"
      ],
      "execution_count": 974,
      "outputs": []
    },
    {
      "cell_type": "code",
      "metadata": {
        "id": "_7-0Yvl5wRCI",
        "colab": {
          "base_uri": "https://localhost:8080/"
        },
        "outputId": "0395911d-f417-4130-b39d-0491856e836d"
      },
      "source": [
        "scores = []\r\n",
        "best_svr = SVR(kernel='rbf')\r\n",
        "cv = KFold(n_splits=10, random_state=42, shuffle=False)\r\n",
        "for train_index, test_index in cv.split(X):\r\n",
        "    print(\"Train Index: \", train_index, \"\\n\")\r\n",
        "    print(\"Test Index: \", test_index)\r\n",
        "\r\n",
        "    X_train, X_test, y_train, y_test = X[train_index], X[test_index], y[train_index], y[test_index]\r\n",
        "    best_svr.fit(X_train, y_train)\r\n",
        "    scores.append(best_svr.score(X_test, y_test))"
      ],
      "execution_count": 975,
      "outputs": [
        {
          "output_type": "stream",
          "text": [
            "Train Index:  [ 13  14  15  16  17  18  19  20  21  22  23  24  25  26  27  28  29  30\n",
            "  31  32  33  34  35  36  37  38  39  40  41  42  43  44  45  46  47  48\n",
            "  49  50  51  52  53  54  55  56  57  58  59  60  61  62  63  64  65  66\n",
            "  67  68  69  70  71  72  73  74  75  76  77  78  79  80  81  82  83  84\n",
            "  85  86  87  88  89  90  91  92  93  94  95  96  97  98  99 100 101 102\n",
            " 103 104 105 106 107 108 109 110 111 112 113 114 115 116 117 118 119 120\n",
            " 121 122 123 124 125 126 127 128 129] \n",
            "\n",
            "Test Index:  [ 0  1  2  3  4  5  6  7  8  9 10 11 12]\n",
            "Train Index:  [  0   1   2   3   4   5   6   7   8   9  10  11  12  26  27  28  29  30\n",
            "  31  32  33  34  35  36  37  38  39  40  41  42  43  44  45  46  47  48\n",
            "  49  50  51  52  53  54  55  56  57  58  59  60  61  62  63  64  65  66\n",
            "  67  68  69  70  71  72  73  74  75  76  77  78  79  80  81  82  83  84\n",
            "  85  86  87  88  89  90  91  92  93  94  95  96  97  98  99 100 101 102\n",
            " 103 104 105 106 107 108 109 110 111 112 113 114 115 116 117 118 119 120\n",
            " 121 122 123 124 125 126 127 128 129] \n",
            "\n",
            "Test Index:  [13 14 15 16 17 18 19 20 21 22 23 24 25]\n",
            "Train Index:  [  0   1   2   3   4   5   6   7   8   9  10  11  12  13  14  15  16  17\n",
            "  18  19  20  21  22  23  24  25  39  40  41  42  43  44  45  46  47  48\n",
            "  49  50  51  52  53  54  55  56  57  58  59  60  61  62  63  64  65  66\n",
            "  67  68  69  70  71  72  73  74  75  76  77  78  79  80  81  82  83  84\n",
            "  85  86  87  88  89  90  91  92  93  94  95  96  97  98  99 100 101 102\n",
            " 103 104 105 106 107 108 109 110 111 112 113 114 115 116 117 118 119 120\n",
            " 121 122 123 124 125 126 127 128 129] \n",
            "\n",
            "Test Index:  [26 27 28 29 30 31 32 33 34 35 36 37 38]\n",
            "Train Index:  [  0   1   2   3   4   5   6   7   8   9  10  11  12  13  14  15  16  17\n",
            "  18  19  20  21  22  23  24  25  26  27  28  29  30  31  32  33  34  35\n",
            "  36  37  38  52  53  54  55  56  57  58  59  60  61  62  63  64  65  66\n",
            "  67  68  69  70  71  72  73  74  75  76  77  78  79  80  81  82  83  84\n",
            "  85  86  87  88  89  90  91  92  93  94  95  96  97  98  99 100 101 102\n",
            " 103 104 105 106 107 108 109 110 111 112 113 114 115 116 117 118 119 120\n",
            " 121 122 123 124 125 126 127 128 129] \n",
            "\n",
            "Test Index:  [39 40 41 42 43 44 45 46 47 48 49 50 51]\n",
            "Train Index:  [  0   1   2   3   4   5   6   7   8   9  10  11  12  13  14  15  16  17\n",
            "  18  19  20  21  22  23  24  25  26  27  28  29  30  31  32  33  34  35\n",
            "  36  37  38  39  40  41  42  43  44  45  46  47  48  49  50  51  65  66\n",
            "  67  68  69  70  71  72  73  74  75  76  77  78  79  80  81  82  83  84\n",
            "  85  86  87  88  89  90  91  92  93  94  95  96  97  98  99 100 101 102\n",
            " 103 104 105 106 107 108 109 110 111 112 113 114 115 116 117 118 119 120\n",
            " 121 122 123 124 125 126 127 128 129] \n",
            "\n",
            "Test Index:  [52 53 54 55 56 57 58 59 60 61 62 63 64]\n",
            "Train Index:  [  0   1   2   3   4   5   6   7   8   9  10  11  12  13  14  15  16  17\n",
            "  18  19  20  21  22  23  24  25  26  27  28  29  30  31  32  33  34  35\n",
            "  36  37  38  39  40  41  42  43  44  45  46  47  48  49  50  51  52  53\n",
            "  54  55  56  57  58  59  60  61  62  63  64  78  79  80  81  82  83  84\n",
            "  85  86  87  88  89  90  91  92  93  94  95  96  97  98  99 100 101 102\n",
            " 103 104 105 106 107 108 109 110 111 112 113 114 115 116 117 118 119 120\n",
            " 121 122 123 124 125 126 127 128 129] \n",
            "\n",
            "Test Index:  [65 66 67 68 69 70 71 72 73 74 75 76 77]\n",
            "Train Index:  [  0   1   2   3   4   5   6   7   8   9  10  11  12  13  14  15  16  17\n",
            "  18  19  20  21  22  23  24  25  26  27  28  29  30  31  32  33  34  35\n",
            "  36  37  38  39  40  41  42  43  44  45  46  47  48  49  50  51  52  53\n",
            "  54  55  56  57  58  59  60  61  62  63  64  65  66  67  68  69  70  71\n",
            "  72  73  74  75  76  77  91  92  93  94  95  96  97  98  99 100 101 102\n",
            " 103 104 105 106 107 108 109 110 111 112 113 114 115 116 117 118 119 120\n",
            " 121 122 123 124 125 126 127 128 129] \n",
            "\n",
            "Test Index:  [78 79 80 81 82 83 84 85 86 87 88 89 90]\n",
            "Train Index:  [  0   1   2   3   4   5   6   7   8   9  10  11  12  13  14  15  16  17\n",
            "  18  19  20  21  22  23  24  25  26  27  28  29  30  31  32  33  34  35\n",
            "  36  37  38  39  40  41  42  43  44  45  46  47  48  49  50  51  52  53\n",
            "  54  55  56  57  58  59  60  61  62  63  64  65  66  67  68  69  70  71\n",
            "  72  73  74  75  76  77  78  79  80  81  82  83  84  85  86  87  88  89\n",
            "  90 104 105 106 107 108 109 110 111 112 113 114 115 116 117 118 119 120\n",
            " 121 122 123 124 125 126 127 128 129] \n",
            "\n",
            "Test Index:  [ 91  92  93  94  95  96  97  98  99 100 101 102 103]\n",
            "Train Index:  [  0   1   2   3   4   5   6   7   8   9  10  11  12  13  14  15  16  17\n",
            "  18  19  20  21  22  23  24  25  26  27  28  29  30  31  32  33  34  35\n",
            "  36  37  38  39  40  41  42  43  44  45  46  47  48  49  50  51  52  53\n",
            "  54  55  56  57  58  59  60  61  62  63  64  65  66  67  68  69  70  71\n",
            "  72  73  74  75  76  77  78  79  80  81  82  83  84  85  86  87  88  89\n",
            "  90  91  92  93  94  95  96  97  98  99 100 101 102 103 117 118 119 120\n",
            " 121 122 123 124 125 126 127 128 129] \n",
            "\n",
            "Test Index:  [104 105 106 107 108 109 110 111 112 113 114 115 116]\n",
            "Train Index:  [  0   1   2   3   4   5   6   7   8   9  10  11  12  13  14  15  16  17\n",
            "  18  19  20  21  22  23  24  25  26  27  28  29  30  31  32  33  34  35\n",
            "  36  37  38  39  40  41  42  43  44  45  46  47  48  49  50  51  52  53\n",
            "  54  55  56  57  58  59  60  61  62  63  64  65  66  67  68  69  70  71\n",
            "  72  73  74  75  76  77  78  79  80  81  82  83  84  85  86  87  88  89\n",
            "  90  91  92  93  94  95  96  97  98  99 100 101 102 103 104 105 106 107\n",
            " 108 109 110 111 112 113 114 115 116] \n",
            "\n",
            "Test Index:  [117 118 119 120 121 122 123 124 125 126 127 128 129]\n"
          ],
          "name": "stdout"
        },
        {
          "output_type": "stream",
          "text": [
            "/usr/local/lib/python3.7/dist-packages/sklearn/model_selection/_split.py:296: FutureWarning: Setting a random_state has no effect since shuffle is False. This will raise an error in 0.24. You should leave random_state to its default (None), or set shuffle=True.\n",
            "  FutureWarning\n"
          ],
          "name": "stderr"
        }
      ]
    },
    {
      "cell_type": "code",
      "metadata": {
        "id": "SEDbqnTRwirs",
        "colab": {
          "base_uri": "https://localhost:8080/"
        },
        "outputId": "e25a73a0-45a4-4e04-daf1-b04a7867d5e4"
      },
      "source": [
        "best_svr.fit(X_train, y_train)\r\n",
        "scores.append(best_svr.score(X_test, y_test))\r\n",
        "print(best_svr.score(X_test, y_test))"
      ],
      "execution_count": 976,
      "outputs": [
        {
          "output_type": "stream",
          "text": [
            "-0.10958188623300069\n"
          ],
          "name": "stdout"
        }
      ]
    },
    {
      "cell_type": "code",
      "metadata": {
        "id": "9XFbjZ8rwmHa",
        "colab": {
          "base_uri": "https://localhost:8080/"
        },
        "outputId": "3efa93a1-4aa6-4c6c-f541-14c78adde957"
      },
      "source": [
        "print(np.mean(scores))"
      ],
      "execution_count": 977,
      "outputs": [
        {
          "output_type": "stream",
          "text": [
            "-0.11531839271712671\n"
          ],
          "name": "stdout"
        }
      ]
    },
    {
      "cell_type": "code",
      "metadata": {
        "id": "eUgl3iVDxAoS"
      },
      "source": [
        ""
      ],
      "execution_count": 977,
      "outputs": []
    }
  ]
}