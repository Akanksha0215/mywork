{
  "nbformat": 4,
  "nbformat_minor": 0,
  "metadata": {
    "colab": {
      "name": "pro(3) (2).ipynb",
      "provenance": [],
      "collapsed_sections": []
    },
    "kernelspec": {
      "display_name": "Python 3",
      "name": "python3"
    }
  },
  "cells": [
    {
      "cell_type": "code",
      "metadata": {
        "id": "4IKfoqOYoQuU"
      },
      "source": [
        "# Importing Library -------------%%%%\n",
        "\n",
        "!pip install -U -q PyDrive\n",
        "from pydrive.auth import GoogleAuth\n",
        "from pydrive.drive import GoogleDrive\n",
        "from google.colab import auth\n",
        "from oauth2client.client import GoogleCredentials\n",
        "\n",
        "import pandas as pd \n",
        "%matplotlib inline\n",
        "import matplotlib.pyplot as plt\n",
        "import numpy as np\n",
        "from scipy.stats import norm\n",
        "import seaborn as sns\n",
        "\n"
      ],
      "execution_count": null,
      "outputs": []
    },
    {
      "cell_type": "code",
      "metadata": {
        "id": "QDoU_XCxoTUo"
      },
      "source": [
        "# Authenticating Users ------------%%%%%%\n",
        "auth.authenticate_user()\n",
        "gauth = GoogleAuth()\n",
        "gauth.credentials = GoogleCredentials.get_application_default()\n",
        "drive = GoogleDrive(gauth)\n"
      ],
      "execution_count": null,
      "outputs": []
    },
    {
      "cell_type": "code",
      "metadata": {
        "id": "1FDPfz04oYEP"
      },
      "source": [
        "\n",
        "\n",
        "\n",
        "downloaded = drive.CreateFile({'id':'1H3Dpt2nkyFhpap7CuATl_YGi2dXJFS7z'}) # replace the id with id of file you want to access\n",
        "downloaded.GetContentFile('tv.csv')\n",
        "\n",
        "downloaded = drive.CreateFile({'id':'1sYMrQB_ViWlhUAkBA_znHSZLxDPHIQBh'}) # replace the id with id of file you want to access\n",
        "downloaded.GetContentFile('temp_data.csv')"
      ],
      "execution_count": null,
      "outputs": []
    },
    {
      "cell_type": "code",
      "metadata": {
        "id": "BwRH-xonH1R8",
        "colab": {
          "base_uri": "https://localhost:8080/",
          "height": 195
        },
        "outputId": "0179b2f7-34bd-4c1f-802b-54e45def7458"
      },
      "source": [
        "#imporing capitalbikeshare-tripdata dataset\n",
        "temp = pd.read_csv(\"temp_data.csv\") \n",
        "temp.head()"
      ],
      "execution_count": null,
      "outputs": [
        {
          "output_type": "execute_result",
          "data": {
            "text/html": [
              "<div>\n",
              "<style scoped>\n",
              "    .dataframe tbody tr th:only-of-type {\n",
              "        vertical-align: middle;\n",
              "    }\n",
              "\n",
              "    .dataframe tbody tr th {\n",
              "        vertical-align: top;\n",
              "    }\n",
              "\n",
              "    .dataframe thead th {\n",
              "        text-align: right;\n",
              "    }\n",
              "</style>\n",
              "<table border=\"1\" class=\"dataframe\">\n",
              "  <thead>\n",
              "    <tr style=\"text-align: right;\">\n",
              "      <th></th>\n",
              "      <th>LAT</th>\n",
              "      <th>LON</th>\n",
              "      <th>YEAR</th>\n",
              "      <th>MO</th>\n",
              "      <th>DY</th>\n",
              "      <th>PRECTOT</th>\n",
              "      <th>QV2M</th>\n",
              "      <th>RH2M</th>\n",
              "      <th>PS</th>\n",
              "      <th>T2M_RANGE</th>\n",
              "      <th>TS</th>\n",
              "      <th>T2MDEW</th>\n",
              "      <th>T2MWET</th>\n",
              "      <th>T2M_MAX</th>\n",
              "      <th>T2M_MIN</th>\n",
              "      <th>T2M</th>\n",
              "      <th>WS50M_RANGE</th>\n",
              "      <th>WS10M_RANGE</th>\n",
              "    </tr>\n",
              "  </thead>\n",
              "  <tbody>\n",
              "    <tr>\n",
              "      <th>0</th>\n",
              "      <td>39.07271</td>\n",
              "      <td>-76.98409</td>\n",
              "      <td>2020</td>\n",
              "      <td>1</td>\n",
              "      <td>1</td>\n",
              "      <td>0.00</td>\n",
              "      <td>3.12</td>\n",
              "      <td>70.76</td>\n",
              "      <td>99.90</td>\n",
              "      <td>8.02</td>\n",
              "      <td>1.35</td>\n",
              "      <td>-2.70</td>\n",
              "      <td>-2.64</td>\n",
              "      <td>7.11</td>\n",
              "      <td>-0.91</td>\n",
              "      <td>2.02</td>\n",
              "      <td>4.67</td>\n",
              "      <td>4.39</td>\n",
              "    </tr>\n",
              "    <tr>\n",
              "      <th>1</th>\n",
              "      <td>39.07271</td>\n",
              "      <td>-76.98409</td>\n",
              "      <td>2020</td>\n",
              "      <td>1</td>\n",
              "      <td>2</td>\n",
              "      <td>0.01</td>\n",
              "      <td>4.09</td>\n",
              "      <td>86.33</td>\n",
              "      <td>100.20</td>\n",
              "      <td>9.68</td>\n",
              "      <td>2.23</td>\n",
              "      <td>0.97</td>\n",
              "      <td>0.77</td>\n",
              "      <td>7.90</td>\n",
              "      <td>-1.78</td>\n",
              "      <td>3.05</td>\n",
              "      <td>5.88</td>\n",
              "      <td>1.73</td>\n",
              "    </tr>\n",
              "    <tr>\n",
              "      <th>2</th>\n",
              "      <td>39.07271</td>\n",
              "      <td>-76.98409</td>\n",
              "      <td>2020</td>\n",
              "      <td>1</td>\n",
              "      <td>3</td>\n",
              "      <td>6.28</td>\n",
              "      <td>6.55</td>\n",
              "      <td>96.38</td>\n",
              "      <td>99.80</td>\n",
              "      <td>6.49</td>\n",
              "      <td>7.72</td>\n",
              "      <td>7.61</td>\n",
              "      <td>7.59</td>\n",
              "      <td>12.00</td>\n",
              "      <td>5.51</td>\n",
              "      <td>8.17</td>\n",
              "      <td>5.32</td>\n",
              "      <td>2.81</td>\n",
              "    </tr>\n",
              "    <tr>\n",
              "      <th>3</th>\n",
              "      <td>39.07271</td>\n",
              "      <td>-76.98409</td>\n",
              "      <td>2020</td>\n",
              "      <td>1</td>\n",
              "      <td>4</td>\n",
              "      <td>6.11</td>\n",
              "      <td>7.00</td>\n",
              "      <td>95.56</td>\n",
              "      <td>99.33</td>\n",
              "      <td>10.09</td>\n",
              "      <td>8.64</td>\n",
              "      <td>8.51</td>\n",
              "      <td>8.33</td>\n",
              "      <td>14.77</td>\n",
              "      <td>4.68</td>\n",
              "      <td>9.20</td>\n",
              "      <td>7.27</td>\n",
              "      <td>5.43</td>\n",
              "    </tr>\n",
              "    <tr>\n",
              "      <th>4</th>\n",
              "      <td>39.07271</td>\n",
              "      <td>-76.98409</td>\n",
              "      <td>2020</td>\n",
              "      <td>1</td>\n",
              "      <td>5</td>\n",
              "      <td>0.03</td>\n",
              "      <td>3.03</td>\n",
              "      <td>69.01</td>\n",
              "      <td>100.38</td>\n",
              "      <td>5.19</td>\n",
              "      <td>1.67</td>\n",
              "      <td>-3.04</td>\n",
              "      <td>-3.02</td>\n",
              "      <td>4.63</td>\n",
              "      <td>-0.56</td>\n",
              "      <td>2.01</td>\n",
              "      <td>11.63</td>\n",
              "      <td>8.55</td>\n",
              "    </tr>\n",
              "  </tbody>\n",
              "</table>\n",
              "</div>"
            ],
            "text/plain": [
              "        LAT       LON  YEAR  MO  ...  T2M_MIN   T2M  WS50M_RANGE  WS10M_RANGE\n",
              "0  39.07271 -76.98409  2020   1  ...    -0.91  2.02         4.67         4.39\n",
              "1  39.07271 -76.98409  2020   1  ...    -1.78  3.05         5.88         1.73\n",
              "2  39.07271 -76.98409  2020   1  ...     5.51  8.17         5.32         2.81\n",
              "3  39.07271 -76.98409  2020   1  ...     4.68  9.20         7.27         5.43\n",
              "4  39.07271 -76.98409  2020   1  ...    -0.56  2.01        11.63         8.55\n",
              "\n",
              "[5 rows x 18 columns]"
            ]
          },
          "metadata": {
            "tags": []
          },
          "execution_count": 4
        }
      ]
    },
    {
      "cell_type": "code",
      "metadata": {
        "id": "Z5ORIWhUes_l",
        "colab": {
          "base_uri": "https://localhost:8080/",
          "height": 195
        },
        "outputId": "ea672794-4876-44d3-a884-7661c6c973c9"
      },
      "source": [
        "#imporing capitalbikeshare-tripdata dataset\n",
        "df = pd.read_csv(\"tv.csv\") \n",
        "df.head()"
      ],
      "execution_count": null,
      "outputs": [
        {
          "output_type": "execute_result",
          "data": {
            "text/html": [
              "<div>\n",
              "<style scoped>\n",
              "    .dataframe tbody tr th:only-of-type {\n",
              "        vertical-align: middle;\n",
              "    }\n",
              "\n",
              "    .dataframe tbody tr th {\n",
              "        vertical-align: top;\n",
              "    }\n",
              "\n",
              "    .dataframe thead th {\n",
              "        text-align: right;\n",
              "    }\n",
              "</style>\n",
              "<table border=\"1\" class=\"dataframe\">\n",
              "  <thead>\n",
              "    <tr style=\"text-align: right;\">\n",
              "      <th></th>\n",
              "      <th>Unnamed: 0</th>\n",
              "      <th>ride_id</th>\n",
              "      <th>rideable_type</th>\n",
              "      <th>started_at</th>\n",
              "      <th>start_station_id</th>\n",
              "      <th>time_to_travel</th>\n",
              "      <th>DY</th>\n",
              "      <th>MO</th>\n",
              "      <th>YEAR</th>\n",
              "    </tr>\n",
              "  </thead>\n",
              "  <tbody>\n",
              "    <tr>\n",
              "      <th>0</th>\n",
              "      <td>0</td>\n",
              "      <td>4479E04D9D45AC6B</td>\n",
              "      <td>docked_bike</td>\n",
              "      <td>2020-08-22 17:09:39</td>\n",
              "      <td>31287.0</td>\n",
              "      <td>1223.0</td>\n",
              "      <td>22.0</td>\n",
              "      <td>8.0</td>\n",
              "      <td>2020.0</td>\n",
              "    </tr>\n",
              "    <tr>\n",
              "      <th>1</th>\n",
              "      <td>1</td>\n",
              "      <td>EF88DFBC1E6648EC</td>\n",
              "      <td>docked_bike</td>\n",
              "      <td>2020-08-26 13:13:54</td>\n",
              "      <td>31271.0</td>\n",
              "      <td>287.0</td>\n",
              "      <td>26.0</td>\n",
              "      <td>8.0</td>\n",
              "      <td>2020.0</td>\n",
              "    </tr>\n",
              "    <tr>\n",
              "      <th>2</th>\n",
              "      <td>2</td>\n",
              "      <td>25812556961CFABD</td>\n",
              "      <td>docked_bike</td>\n",
              "      <td>2020-08-07 16:34:41</td>\n",
              "      <td>32014.0</td>\n",
              "      <td>2338.0</td>\n",
              "      <td>7.0</td>\n",
              "      <td>8.0</td>\n",
              "      <td>2020.0</td>\n",
              "    </tr>\n",
              "    <tr>\n",
              "      <th>3</th>\n",
              "      <td>3</td>\n",
              "      <td>1621384E51D38F1F</td>\n",
              "      <td>docked_bike</td>\n",
              "      <td>2020-08-07 20:32:05</td>\n",
              "      <td>31528.0</td>\n",
              "      <td>833.0</td>\n",
              "      <td>7.0</td>\n",
              "      <td>8.0</td>\n",
              "      <td>2020.0</td>\n",
              "    </tr>\n",
              "    <tr>\n",
              "      <th>4</th>\n",
              "      <td>4</td>\n",
              "      <td>BC10B8C7848D1FDF</td>\n",
              "      <td>docked_bike</td>\n",
              "      <td>2020-08-18 13:40:34</td>\n",
              "      <td>31122.0</td>\n",
              "      <td>513.0</td>\n",
              "      <td>18.0</td>\n",
              "      <td>8.0</td>\n",
              "      <td>2020.0</td>\n",
              "    </tr>\n",
              "  </tbody>\n",
              "</table>\n",
              "</div>"
            ],
            "text/plain": [
              "   Unnamed: 0           ride_id rideable_type  ...    DY   MO    YEAR\n",
              "0           0  4479E04D9D45AC6B   docked_bike  ...  22.0  8.0  2020.0\n",
              "1           1  EF88DFBC1E6648EC   docked_bike  ...  26.0  8.0  2020.0\n",
              "2           2  25812556961CFABD   docked_bike  ...   7.0  8.0  2020.0\n",
              "3           3  1621384E51D38F1F   docked_bike  ...   7.0  8.0  2020.0\n",
              "4           4  BC10B8C7848D1FDF   docked_bike  ...  18.0  8.0  2020.0\n",
              "\n",
              "[5 rows x 9 columns]"
            ]
          },
          "metadata": {
            "tags": []
          },
          "execution_count": 5
        }
      ]
    },
    {
      "cell_type": "code",
      "metadata": {
        "id": "sd2rN2PNqEy6",
        "colab": {
          "base_uri": "https://localhost:8080/",
          "height": 195
        },
        "outputId": "0f251a80-99fd-44cd-e452-3caf3ab164d7"
      },
      "source": [
        "s1 = df.query('start_station_id == 31100')\n",
        "s1 = s1.sort_values(by=['DY'])\n",
        "s1 = pd.DataFrame(s1)\n",
        "s1 = s1.reset_index()\n",
        "s1.head()"
      ],
      "execution_count": null,
      "outputs": [
        {
          "output_type": "execute_result",
          "data": {
            "text/html": [
              "<div>\n",
              "<style scoped>\n",
              "    .dataframe tbody tr th:only-of-type {\n",
              "        vertical-align: middle;\n",
              "    }\n",
              "\n",
              "    .dataframe tbody tr th {\n",
              "        vertical-align: top;\n",
              "    }\n",
              "\n",
              "    .dataframe thead th {\n",
              "        text-align: right;\n",
              "    }\n",
              "</style>\n",
              "<table border=\"1\" class=\"dataframe\">\n",
              "  <thead>\n",
              "    <tr style=\"text-align: right;\">\n",
              "      <th></th>\n",
              "      <th>index</th>\n",
              "      <th>Unnamed: 0</th>\n",
              "      <th>ride_id</th>\n",
              "      <th>rideable_type</th>\n",
              "      <th>started_at</th>\n",
              "      <th>start_station_id</th>\n",
              "      <th>time_to_travel</th>\n",
              "      <th>DY</th>\n",
              "      <th>MO</th>\n",
              "      <th>YEAR</th>\n",
              "    </tr>\n",
              "  </thead>\n",
              "  <tbody>\n",
              "    <tr>\n",
              "      <th>0</th>\n",
              "      <td>39959869</td>\n",
              "      <td>39959869</td>\n",
              "      <td>366898A27EFA72A6</td>\n",
              "      <td>docked_bike</td>\n",
              "      <td>2020-10-01 09:10:15</td>\n",
              "      <td>31100.0</td>\n",
              "      <td>1646.0</td>\n",
              "      <td>1.0</td>\n",
              "      <td>10.0</td>\n",
              "      <td>2020.0</td>\n",
              "    </tr>\n",
              "    <tr>\n",
              "      <th>1</th>\n",
              "      <td>36597133</td>\n",
              "      <td>36597133</td>\n",
              "      <td>23AC78E5F83D0FE3</td>\n",
              "      <td>electric_bike</td>\n",
              "      <td>2020-09-01 17:47:12</td>\n",
              "      <td>31100.0</td>\n",
              "      <td>379.0</td>\n",
              "      <td>1.0</td>\n",
              "      <td>9.0</td>\n",
              "      <td>2020.0</td>\n",
              "    </tr>\n",
              "    <tr>\n",
              "      <th>2</th>\n",
              "      <td>37399863</td>\n",
              "      <td>37399863</td>\n",
              "      <td>CF282FF39CC62DB8</td>\n",
              "      <td>electric_bike</td>\n",
              "      <td>2020-09-01 15:10:58</td>\n",
              "      <td>31100.0</td>\n",
              "      <td>1196.0</td>\n",
              "      <td>1.0</td>\n",
              "      <td>9.0</td>\n",
              "      <td>2020.0</td>\n",
              "    </tr>\n",
              "    <tr>\n",
              "      <th>3</th>\n",
              "      <td>5837606</td>\n",
              "      <td>5837606</td>\n",
              "      <td>568E56DAF2A642E0</td>\n",
              "      <td>docked_bike</td>\n",
              "      <td>2020-08-01 23:32:38</td>\n",
              "      <td>31100.0</td>\n",
              "      <td>760.0</td>\n",
              "      <td>1.0</td>\n",
              "      <td>8.0</td>\n",
              "      <td>2020.0</td>\n",
              "    </tr>\n",
              "    <tr>\n",
              "      <th>4</th>\n",
              "      <td>24130948</td>\n",
              "      <td>24130948</td>\n",
              "      <td>2DCAF57573AB01D4</td>\n",
              "      <td>docked_bike</td>\n",
              "      <td>2020-09-01 13:33:02</td>\n",
              "      <td>31100.0</td>\n",
              "      <td>414.0</td>\n",
              "      <td>1.0</td>\n",
              "      <td>9.0</td>\n",
              "      <td>2020.0</td>\n",
              "    </tr>\n",
              "  </tbody>\n",
              "</table>\n",
              "</div>"
            ],
            "text/plain": [
              "      index  Unnamed: 0           ride_id  ...   DY    MO    YEAR\n",
              "0  39959869    39959869  366898A27EFA72A6  ...  1.0  10.0  2020.0\n",
              "1  36597133    36597133  23AC78E5F83D0FE3  ...  1.0   9.0  2020.0\n",
              "2  37399863    37399863  CF282FF39CC62DB8  ...  1.0   9.0  2020.0\n",
              "3   5837606     5837606  568E56DAF2A642E0  ...  1.0   8.0  2020.0\n",
              "4  24130948    24130948  2DCAF57573AB01D4  ...  1.0   9.0  2020.0\n",
              "\n",
              "[5 rows x 10 columns]"
            ]
          },
          "metadata": {
            "tags": []
          },
          "execution_count": 6
        }
      ]
    },
    {
      "cell_type": "code",
      "metadata": {
        "id": "6KNSkHYlTgfm",
        "colab": {
          "base_uri": "https://localhost:8080/",
          "height": 606
        },
        "outputId": "bc0a6754-b4de-4e29-99a1-ab497ef45683"
      },
      "source": [
        "result = pd.merge(s1, temp, how='left', on=['DY', 'MO','YEAR'])\n",
        "result\n"
      ],
      "execution_count": null,
      "outputs": [
        {
          "output_type": "execute_result",
          "data": {
            "text/html": [
              "<div>\n",
              "<style scoped>\n",
              "    .dataframe tbody tr th:only-of-type {\n",
              "        vertical-align: middle;\n",
              "    }\n",
              "\n",
              "    .dataframe tbody tr th {\n",
              "        vertical-align: top;\n",
              "    }\n",
              "\n",
              "    .dataframe thead th {\n",
              "        text-align: right;\n",
              "    }\n",
              "</style>\n",
              "<table border=\"1\" class=\"dataframe\">\n",
              "  <thead>\n",
              "    <tr style=\"text-align: right;\">\n",
              "      <th></th>\n",
              "      <th>index</th>\n",
              "      <th>Unnamed: 0</th>\n",
              "      <th>ride_id</th>\n",
              "      <th>rideable_type</th>\n",
              "      <th>started_at</th>\n",
              "      <th>start_station_id</th>\n",
              "      <th>time_to_travel</th>\n",
              "      <th>DY</th>\n",
              "      <th>MO</th>\n",
              "      <th>YEAR</th>\n",
              "      <th>LAT</th>\n",
              "      <th>LON</th>\n",
              "      <th>PRECTOT</th>\n",
              "      <th>QV2M</th>\n",
              "      <th>RH2M</th>\n",
              "      <th>PS</th>\n",
              "      <th>T2M_RANGE</th>\n",
              "      <th>TS</th>\n",
              "      <th>T2MDEW</th>\n",
              "      <th>T2MWET</th>\n",
              "      <th>T2M_MAX</th>\n",
              "      <th>T2M_MIN</th>\n",
              "      <th>T2M</th>\n",
              "      <th>WS50M_RANGE</th>\n",
              "      <th>WS10M_RANGE</th>\n",
              "    </tr>\n",
              "  </thead>\n",
              "  <tbody>\n",
              "    <tr>\n",
              "      <th>0</th>\n",
              "      <td>39959869</td>\n",
              "      <td>39959869</td>\n",
              "      <td>366898A27EFA72A6</td>\n",
              "      <td>docked_bike</td>\n",
              "      <td>2020-10-01 09:10:15</td>\n",
              "      <td>31100.0</td>\n",
              "      <td>1646.0</td>\n",
              "      <td>1.0</td>\n",
              "      <td>10.0</td>\n",
              "      <td>2020.0</td>\n",
              "      <td>39.07271</td>\n",
              "      <td>-76.98409</td>\n",
              "      <td>2.51</td>\n",
              "      <td>8.18</td>\n",
              "      <td>68.46</td>\n",
              "      <td>100.16</td>\n",
              "      <td>10.40</td>\n",
              "      <td>17.06</td>\n",
              "      <td>11.04</td>\n",
              "      <td>10.78</td>\n",
              "      <td>22.21</td>\n",
              "      <td>11.81</td>\n",
              "      <td>16.79</td>\n",
              "      <td>6.68</td>\n",
              "      <td>4.02</td>\n",
              "    </tr>\n",
              "    <tr>\n",
              "      <th>1</th>\n",
              "      <td>36597133</td>\n",
              "      <td>36597133</td>\n",
              "      <td>23AC78E5F83D0FE3</td>\n",
              "      <td>electric_bike</td>\n",
              "      <td>2020-09-01 17:47:12</td>\n",
              "      <td>31100.0</td>\n",
              "      <td>379.0</td>\n",
              "      <td>1.0</td>\n",
              "      <td>9.0</td>\n",
              "      <td>2020.0</td>\n",
              "      <td>39.07271</td>\n",
              "      <td>-76.98409</td>\n",
              "      <td>2.49</td>\n",
              "      <td>14.35</td>\n",
              "      <td>85.16</td>\n",
              "      <td>100.56</td>\n",
              "      <td>7.80</td>\n",
              "      <td>22.62</td>\n",
              "      <td>19.74</td>\n",
              "      <td>19.71</td>\n",
              "      <td>26.47</td>\n",
              "      <td>18.67</td>\n",
              "      <td>22.34</td>\n",
              "      <td>2.27</td>\n",
              "      <td>1.88</td>\n",
              "    </tr>\n",
              "    <tr>\n",
              "      <th>2</th>\n",
              "      <td>37399863</td>\n",
              "      <td>37399863</td>\n",
              "      <td>CF282FF39CC62DB8</td>\n",
              "      <td>electric_bike</td>\n",
              "      <td>2020-09-01 15:10:58</td>\n",
              "      <td>31100.0</td>\n",
              "      <td>1196.0</td>\n",
              "      <td>1.0</td>\n",
              "      <td>9.0</td>\n",
              "      <td>2020.0</td>\n",
              "      <td>39.07271</td>\n",
              "      <td>-76.98409</td>\n",
              "      <td>2.49</td>\n",
              "      <td>14.35</td>\n",
              "      <td>85.16</td>\n",
              "      <td>100.56</td>\n",
              "      <td>7.80</td>\n",
              "      <td>22.62</td>\n",
              "      <td>19.74</td>\n",
              "      <td>19.71</td>\n",
              "      <td>26.47</td>\n",
              "      <td>18.67</td>\n",
              "      <td>22.34</td>\n",
              "      <td>2.27</td>\n",
              "      <td>1.88</td>\n",
              "    </tr>\n",
              "    <tr>\n",
              "      <th>3</th>\n",
              "      <td>5837606</td>\n",
              "      <td>5837606</td>\n",
              "      <td>568E56DAF2A642E0</td>\n",
              "      <td>docked_bike</td>\n",
              "      <td>2020-08-01 23:32:38</td>\n",
              "      <td>31100.0</td>\n",
              "      <td>760.0</td>\n",
              "      <td>1.0</td>\n",
              "      <td>8.0</td>\n",
              "      <td>2020.0</td>\n",
              "      <td>39.07271</td>\n",
              "      <td>-76.98409</td>\n",
              "      <td>1.71</td>\n",
              "      <td>15.53</td>\n",
              "      <td>70.06</td>\n",
              "      <td>100.14</td>\n",
              "      <td>9.68</td>\n",
              "      <td>27.89</td>\n",
              "      <td>21.05</td>\n",
              "      <td>20.91</td>\n",
              "      <td>31.55</td>\n",
              "      <td>21.88</td>\n",
              "      <td>26.85</td>\n",
              "      <td>6.75</td>\n",
              "      <td>4.50</td>\n",
              "    </tr>\n",
              "    <tr>\n",
              "      <th>4</th>\n",
              "      <td>24130948</td>\n",
              "      <td>24130948</td>\n",
              "      <td>2DCAF57573AB01D4</td>\n",
              "      <td>docked_bike</td>\n",
              "      <td>2020-09-01 13:33:02</td>\n",
              "      <td>31100.0</td>\n",
              "      <td>414.0</td>\n",
              "      <td>1.0</td>\n",
              "      <td>9.0</td>\n",
              "      <td>2020.0</td>\n",
              "      <td>39.07271</td>\n",
              "      <td>-76.98409</td>\n",
              "      <td>2.49</td>\n",
              "      <td>14.35</td>\n",
              "      <td>85.16</td>\n",
              "      <td>100.56</td>\n",
              "      <td>7.80</td>\n",
              "      <td>22.62</td>\n",
              "      <td>19.74</td>\n",
              "      <td>19.71</td>\n",
              "      <td>26.47</td>\n",
              "      <td>18.67</td>\n",
              "      <td>22.34</td>\n",
              "      <td>2.27</td>\n",
              "      <td>1.88</td>\n",
              "    </tr>\n",
              "    <tr>\n",
              "      <th>...</th>\n",
              "      <td>...</td>\n",
              "      <td>...</td>\n",
              "      <td>...</td>\n",
              "      <td>...</td>\n",
              "      <td>...</td>\n",
              "      <td>...</td>\n",
              "      <td>...</td>\n",
              "      <td>...</td>\n",
              "      <td>...</td>\n",
              "      <td>...</td>\n",
              "      <td>...</td>\n",
              "      <td>...</td>\n",
              "      <td>...</td>\n",
              "      <td>...</td>\n",
              "      <td>...</td>\n",
              "      <td>...</td>\n",
              "      <td>...</td>\n",
              "      <td>...</td>\n",
              "      <td>...</td>\n",
              "      <td>...</td>\n",
              "      <td>...</td>\n",
              "      <td>...</td>\n",
              "      <td>...</td>\n",
              "      <td>...</td>\n",
              "      <td>...</td>\n",
              "    </tr>\n",
              "    <tr>\n",
              "      <th>243</th>\n",
              "      <td>4862624</td>\n",
              "      <td>4862624</td>\n",
              "      <td>422DA1CA6A01ED60</td>\n",
              "      <td>docked_bike</td>\n",
              "      <td>2020-08-30 11:31:07</td>\n",
              "      <td>31100.0</td>\n",
              "      <td>475.0</td>\n",
              "      <td>30.0</td>\n",
              "      <td>8.0</td>\n",
              "      <td>2020.0</td>\n",
              "      <td>39.07271</td>\n",
              "      <td>-76.98409</td>\n",
              "      <td>0.52</td>\n",
              "      <td>10.61</td>\n",
              "      <td>61.54</td>\n",
              "      <td>99.79</td>\n",
              "      <td>10.16</td>\n",
              "      <td>22.52</td>\n",
              "      <td>14.97</td>\n",
              "      <td>14.82</td>\n",
              "      <td>27.15</td>\n",
              "      <td>17.00</td>\n",
              "      <td>22.62</td>\n",
              "      <td>7.52</td>\n",
              "      <td>4.02</td>\n",
              "    </tr>\n",
              "    <tr>\n",
              "      <th>244</th>\n",
              "      <td>41338404</td>\n",
              "      <td>41338404</td>\n",
              "      <td>DE7A5E3ADAA0720D</td>\n",
              "      <td>docked_bike</td>\n",
              "      <td>2020-10-30 18:18:34</td>\n",
              "      <td>31100.0</td>\n",
              "      <td>1149.0</td>\n",
              "      <td>30.0</td>\n",
              "      <td>10.0</td>\n",
              "      <td>2020.0</td>\n",
              "      <td>39.07271</td>\n",
              "      <td>-76.98409</td>\n",
              "      <td>4.60</td>\n",
              "      <td>5.82</td>\n",
              "      <td>83.46</td>\n",
              "      <td>100.21</td>\n",
              "      <td>5.72</td>\n",
              "      <td>9.23</td>\n",
              "      <td>5.96</td>\n",
              "      <td>5.94</td>\n",
              "      <td>11.62</td>\n",
              "      <td>5.90</td>\n",
              "      <td>8.61</td>\n",
              "      <td>4.29</td>\n",
              "      <td>5.01</td>\n",
              "    </tr>\n",
              "    <tr>\n",
              "      <th>245</th>\n",
              "      <td>23686230</td>\n",
              "      <td>23686230</td>\n",
              "      <td>A4470CF74932D126</td>\n",
              "      <td>docked_bike</td>\n",
              "      <td>2020-09-30 21:25:06</td>\n",
              "      <td>31100.0</td>\n",
              "      <td>1570.0</td>\n",
              "      <td>30.0</td>\n",
              "      <td>9.0</td>\n",
              "      <td>2020.0</td>\n",
              "      <td>39.07271</td>\n",
              "      <td>-76.98409</td>\n",
              "      <td>7.47</td>\n",
              "      <td>8.23</td>\n",
              "      <td>72.31</td>\n",
              "      <td>99.73</td>\n",
              "      <td>9.32</td>\n",
              "      <td>16.56</td>\n",
              "      <td>11.06</td>\n",
              "      <td>10.94</td>\n",
              "      <td>21.10</td>\n",
              "      <td>11.78</td>\n",
              "      <td>15.97</td>\n",
              "      <td>3.46</td>\n",
              "      <td>3.67</td>\n",
              "    </tr>\n",
              "    <tr>\n",
              "      <th>246</th>\n",
              "      <td>21062594</td>\n",
              "      <td>21062594</td>\n",
              "      <td>17DA7848149C7BE3</td>\n",
              "      <td>docked_bike</td>\n",
              "      <td>2020-09-30 18:33:20</td>\n",
              "      <td>31100.0</td>\n",
              "      <td>765.0</td>\n",
              "      <td>30.0</td>\n",
              "      <td>9.0</td>\n",
              "      <td>2020.0</td>\n",
              "      <td>39.07271</td>\n",
              "      <td>-76.98409</td>\n",
              "      <td>7.47</td>\n",
              "      <td>8.23</td>\n",
              "      <td>72.31</td>\n",
              "      <td>99.73</td>\n",
              "      <td>9.32</td>\n",
              "      <td>16.56</td>\n",
              "      <td>11.06</td>\n",
              "      <td>10.94</td>\n",
              "      <td>21.10</td>\n",
              "      <td>11.78</td>\n",
              "      <td>15.97</td>\n",
              "      <td>3.46</td>\n",
              "      <td>3.67</td>\n",
              "    </tr>\n",
              "    <tr>\n",
              "      <th>247</th>\n",
              "      <td>41668282</td>\n",
              "      <td>41668282</td>\n",
              "      <td>19759AE1F49EDA88</td>\n",
              "      <td>docked_bike</td>\n",
              "      <td>2020-10-31 13:05:49</td>\n",
              "      <td>31100.0</td>\n",
              "      <td>2600.0</td>\n",
              "      <td>31.0</td>\n",
              "      <td>10.0</td>\n",
              "      <td>2020.0</td>\n",
              "      <td>39.07271</td>\n",
              "      <td>-76.98409</td>\n",
              "      <td>0.14</td>\n",
              "      <td>4.10</td>\n",
              "      <td>72.50</td>\n",
              "      <td>101.85</td>\n",
              "      <td>8.58</td>\n",
              "      <td>6.87</td>\n",
              "      <td>1.30</td>\n",
              "      <td>1.18</td>\n",
              "      <td>10.13</td>\n",
              "      <td>1.55</td>\n",
              "      <td>5.82</td>\n",
              "      <td>7.18</td>\n",
              "      <td>3.44</td>\n",
              "    </tr>\n",
              "  </tbody>\n",
              "</table>\n",
              "<p>248 rows × 25 columns</p>\n",
              "</div>"
            ],
            "text/plain": [
              "        index  Unnamed: 0           ride_id  ...    T2M WS50M_RANGE  WS10M_RANGE\n",
              "0    39959869    39959869  366898A27EFA72A6  ...  16.79        6.68         4.02\n",
              "1    36597133    36597133  23AC78E5F83D0FE3  ...  22.34        2.27         1.88\n",
              "2    37399863    37399863  CF282FF39CC62DB8  ...  22.34        2.27         1.88\n",
              "3     5837606     5837606  568E56DAF2A642E0  ...  26.85        6.75         4.50\n",
              "4    24130948    24130948  2DCAF57573AB01D4  ...  22.34        2.27         1.88\n",
              "..        ...         ...               ...  ...    ...         ...          ...\n",
              "243   4862624     4862624  422DA1CA6A01ED60  ...  22.62        7.52         4.02\n",
              "244  41338404    41338404  DE7A5E3ADAA0720D  ...   8.61        4.29         5.01\n",
              "245  23686230    23686230  A4470CF74932D126  ...  15.97        3.46         3.67\n",
              "246  21062594    21062594  17DA7848149C7BE3  ...  15.97        3.46         3.67\n",
              "247  41668282    41668282  19759AE1F49EDA88  ...   5.82        7.18         3.44\n",
              "\n",
              "[248 rows x 25 columns]"
            ]
          },
          "metadata": {
            "tags": []
          },
          "execution_count": 7
        }
      ]
    },
    {
      "cell_type": "code",
      "metadata": {
        "id": "2crL3ateZ9AJ",
        "colab": {
          "base_uri": "https://localhost:8080/",
          "height": 195
        },
        "outputId": "f0a58c27-9fbd-452b-8edd-f377d39236e9"
      },
      "source": [
        "s10 = df.query('start_station_id == 31233')\n",
        "s10 = s10.sort_values(by=['DY'])\n",
        "s10 = pd.DataFrame(s10)\n",
        "s10 = s10.reset_index()\n",
        "s10.head()"
      ],
      "execution_count": null,
      "outputs": [
        {
          "output_type": "execute_result",
          "data": {
            "text/html": [
              "<div>\n",
              "<style scoped>\n",
              "    .dataframe tbody tr th:only-of-type {\n",
              "        vertical-align: middle;\n",
              "    }\n",
              "\n",
              "    .dataframe tbody tr th {\n",
              "        vertical-align: top;\n",
              "    }\n",
              "\n",
              "    .dataframe thead th {\n",
              "        text-align: right;\n",
              "    }\n",
              "</style>\n",
              "<table border=\"1\" class=\"dataframe\">\n",
              "  <thead>\n",
              "    <tr style=\"text-align: right;\">\n",
              "      <th></th>\n",
              "      <th>index</th>\n",
              "      <th>Unnamed: 0</th>\n",
              "      <th>ride_id</th>\n",
              "      <th>rideable_type</th>\n",
              "      <th>started_at</th>\n",
              "      <th>start_station_id</th>\n",
              "      <th>time_to_travel</th>\n",
              "      <th>DY</th>\n",
              "      <th>MO</th>\n",
              "      <th>YEAR</th>\n",
              "    </tr>\n",
              "  </thead>\n",
              "  <tbody>\n",
              "    <tr>\n",
              "      <th>0</th>\n",
              "      <td>37494555</td>\n",
              "      <td>37494555</td>\n",
              "      <td>2D0664BD2C7F5422</td>\n",
              "      <td>electric_bike</td>\n",
              "      <td>2020-09-01 14:46:22</td>\n",
              "      <td>31233.0</td>\n",
              "      <td>761.0</td>\n",
              "      <td>1.0</td>\n",
              "      <td>9.0</td>\n",
              "      <td>2020.0</td>\n",
              "    </tr>\n",
              "    <tr>\n",
              "      <th>1</th>\n",
              "      <td>40652617</td>\n",
              "      <td>40652617</td>\n",
              "      <td>697981EAFF0D7E90</td>\n",
              "      <td>docked_bike</td>\n",
              "      <td>2020-10-01 15:32:56</td>\n",
              "      <td>31233.0</td>\n",
              "      <td>487.0</td>\n",
              "      <td>1.0</td>\n",
              "      <td>10.0</td>\n",
              "      <td>2020.0</td>\n",
              "    </tr>\n",
              "    <tr>\n",
              "      <th>2</th>\n",
              "      <td>22152506</td>\n",
              "      <td>22152506</td>\n",
              "      <td>CCAE8ECC7860399C</td>\n",
              "      <td>docked_bike</td>\n",
              "      <td>2020-09-01 22:07:18</td>\n",
              "      <td>31233.0</td>\n",
              "      <td>1736.0</td>\n",
              "      <td>1.0</td>\n",
              "      <td>9.0</td>\n",
              "      <td>2020.0</td>\n",
              "    </tr>\n",
              "    <tr>\n",
              "      <th>3</th>\n",
              "      <td>39926205</td>\n",
              "      <td>39926205</td>\n",
              "      <td>6AD712B029974936</td>\n",
              "      <td>docked_bike</td>\n",
              "      <td>2020-10-01 14:49:22</td>\n",
              "      <td>31233.0</td>\n",
              "      <td>1531.0</td>\n",
              "      <td>1.0</td>\n",
              "      <td>10.0</td>\n",
              "      <td>2020.0</td>\n",
              "    </tr>\n",
              "    <tr>\n",
              "      <th>4</th>\n",
              "      <td>44176417</td>\n",
              "      <td>44176417</td>\n",
              "      <td>EDAC85D8DC5DEA56</td>\n",
              "      <td>docked_bike</td>\n",
              "      <td>2020-10-01 17:53:20</td>\n",
              "      <td>31233.0</td>\n",
              "      <td>1079.0</td>\n",
              "      <td>1.0</td>\n",
              "      <td>10.0</td>\n",
              "      <td>2020.0</td>\n",
              "    </tr>\n",
              "  </tbody>\n",
              "</table>\n",
              "</div>"
            ],
            "text/plain": [
              "      index  Unnamed: 0           ride_id  ...   DY    MO    YEAR\n",
              "0  37494555    37494555  2D0664BD2C7F5422  ...  1.0   9.0  2020.0\n",
              "1  40652617    40652617  697981EAFF0D7E90  ...  1.0  10.0  2020.0\n",
              "2  22152506    22152506  CCAE8ECC7860399C  ...  1.0   9.0  2020.0\n",
              "3  39926205    39926205  6AD712B029974936  ...  1.0  10.0  2020.0\n",
              "4  44176417    44176417  EDAC85D8DC5DEA56  ...  1.0  10.0  2020.0\n",
              "\n",
              "[5 rows x 10 columns]"
            ]
          },
          "metadata": {
            "tags": []
          },
          "execution_count": 8
        }
      ]
    },
    {
      "cell_type": "code",
      "metadata": {
        "id": "nlosRnWmzatX",
        "colab": {
          "base_uri": "https://localhost:8080/"
        },
        "outputId": "2ba0a57f-106d-4b13-9290-7cdc3d2317fc"
      },
      "source": [
        "s6 =s1.groupby([\"rideable_type\",\"DY\"])\n",
        "s6"
      ],
      "execution_count": null,
      "outputs": [
        {
          "output_type": "execute_result",
          "data": {
            "text/plain": [
              "<pandas.core.groupby.generic.DataFrameGroupBy object at 0x7fe44d325190>"
            ]
          },
          "metadata": {
            "tags": []
          },
          "execution_count": 9
        }
      ]
    },
    {
      "cell_type": "code",
      "metadata": {
        "id": "sLuJhVyky92H",
        "colab": {
          "base_uri": "https://localhost:8080/",
          "height": 455
        },
        "outputId": "67cad13a-5da3-4e7d-dfd2-dbc03e0d4147"
      },
      "source": [
        "sa =result.groupby([\"DY\",\"MO\",\"PS\",\"T2M_RANGE\",\"T2M_MAX\",\"T2M_MIN\",\"RH2M\",\"rideable_type\",\"WS50M_RANGE\",\"T2MDEW\",\"T2M\",\"QV2M\"]).size()\n",
        "s5 = []\n",
        "s6 = []\n",
        "sa = pd.DataFrame(sa,columns=['count'])\n",
        "modified = sa.reset_index()\n",
        "a = 0\n",
        "for i in range(len(modified)):\n",
        "  if(modified['rideable_type'][i] == 'docked_bike'):\n",
        "    s5.append(modified['count'][i])\n",
        "    s6.append(a)\n",
        "  else:\n",
        "    s6.append(modified['count'][i])\n",
        "    s5.append(a)\n",
        "print(s6)\n",
        "print(s5)\n",
        "sb = s1[['DY','MO','time_to_travel']]\n",
        "modified['docked_b'] = s5\n",
        "modified['electric_b'] = s6\n",
        "#modified = pd.merge(modified, sb, how=\"left\", on=[\"DY\", \"MO\"])\n",
        "#sb\n",
        "modified"
      ],
      "execution_count": null,
      "outputs": [
        {
          "output_type": "stream",
          "text": [
            "[0, 2, 0, 2, 0, 0, 0, 3, 0, 0, 1, 0, 1, 0, 0, 1, 2, 0, 0, 2, 0, 2, 0, 0, 2, 0, 1, 0, 0, 3, 0, 2, 0, 0, 3, 0, 0, 0, 0, 0, 1, 0, 0, 2, 0, 2, 0, 0, 0, 0, 0, 2, 0, 0, 2, 0, 0, 0, 4, 0, 2, 0, 3, 0, 0, 4, 0, 1, 0, 0, 1, 0, 0, 0, 1, 0, 0, 2, 0, 0, 3, 0, 0, 0, 2, 0, 2, 0, 0, 3, 3, 3, 0, 1, 0, 0, 1, 0, 2, 0, 2, 0, 0, 2, 0, 0, 0, 1, 0, 0]\n",
            "[2, 0, 7, 0, 1, 1, 1, 0, 1, 2, 0, 1, 0, 4, 1, 0, 0, 2, 3, 0, 1, 0, 5, 3, 0, 1, 0, 2, 2, 0, 6, 0, 1, 3, 0, 3, 2, 1, 2, 1, 0, 3, 4, 0, 1, 0, 9, 1, 2, 2, 5, 0, 3, 1, 0, 3, 5, 1, 0, 1, 0, 2, 0, 3, 5, 0, 4, 0, 1, 1, 0, 1, 2, 2, 0, 1, 2, 0, 1, 3, 0, 2, 1, 3, 0, 3, 0, 2, 1, 0, 0, 0, 1, 0, 1, 4, 0, 2, 0, 5, 0, 3, 1, 0, 2, 3, 5, 0, 1, 1]\n"
          ],
          "name": "stdout"
        },
        {
          "output_type": "execute_result",
          "data": {
            "text/html": [
              "<div>\n",
              "<style scoped>\n",
              "    .dataframe tbody tr th:only-of-type {\n",
              "        vertical-align: middle;\n",
              "    }\n",
              "\n",
              "    .dataframe tbody tr th {\n",
              "        vertical-align: top;\n",
              "    }\n",
              "\n",
              "    .dataframe thead th {\n",
              "        text-align: right;\n",
              "    }\n",
              "</style>\n",
              "<table border=\"1\" class=\"dataframe\">\n",
              "  <thead>\n",
              "    <tr style=\"text-align: right;\">\n",
              "      <th></th>\n",
              "      <th>DY</th>\n",
              "      <th>MO</th>\n",
              "      <th>PS</th>\n",
              "      <th>T2M_RANGE</th>\n",
              "      <th>T2M_MAX</th>\n",
              "      <th>T2M_MIN</th>\n",
              "      <th>RH2M</th>\n",
              "      <th>rideable_type</th>\n",
              "      <th>WS50M_RANGE</th>\n",
              "      <th>T2MDEW</th>\n",
              "      <th>T2M</th>\n",
              "      <th>QV2M</th>\n",
              "      <th>count</th>\n",
              "      <th>docked_b</th>\n",
              "      <th>electric_b</th>\n",
              "    </tr>\n",
              "  </thead>\n",
              "  <tbody>\n",
              "    <tr>\n",
              "      <th>0</th>\n",
              "      <td>1.0</td>\n",
              "      <td>8.0</td>\n",
              "      <td>100.14</td>\n",
              "      <td>9.68</td>\n",
              "      <td>31.55</td>\n",
              "      <td>21.88</td>\n",
              "      <td>70.06</td>\n",
              "      <td>docked_bike</td>\n",
              "      <td>6.75</td>\n",
              "      <td>21.05</td>\n",
              "      <td>26.85</td>\n",
              "      <td>15.53</td>\n",
              "      <td>2</td>\n",
              "      <td>2</td>\n",
              "      <td>0</td>\n",
              "    </tr>\n",
              "    <tr>\n",
              "      <th>1</th>\n",
              "      <td>1.0</td>\n",
              "      <td>8.0</td>\n",
              "      <td>100.14</td>\n",
              "      <td>9.68</td>\n",
              "      <td>31.55</td>\n",
              "      <td>21.88</td>\n",
              "      <td>70.06</td>\n",
              "      <td>electric_bike</td>\n",
              "      <td>6.75</td>\n",
              "      <td>21.05</td>\n",
              "      <td>26.85</td>\n",
              "      <td>15.53</td>\n",
              "      <td>2</td>\n",
              "      <td>0</td>\n",
              "      <td>2</td>\n",
              "    </tr>\n",
              "    <tr>\n",
              "      <th>2</th>\n",
              "      <td>1.0</td>\n",
              "      <td>9.0</td>\n",
              "      <td>100.56</td>\n",
              "      <td>7.80</td>\n",
              "      <td>26.47</td>\n",
              "      <td>18.67</td>\n",
              "      <td>85.16</td>\n",
              "      <td>docked_bike</td>\n",
              "      <td>2.27</td>\n",
              "      <td>19.74</td>\n",
              "      <td>22.34</td>\n",
              "      <td>14.35</td>\n",
              "      <td>7</td>\n",
              "      <td>7</td>\n",
              "      <td>0</td>\n",
              "    </tr>\n",
              "    <tr>\n",
              "      <th>3</th>\n",
              "      <td>1.0</td>\n",
              "      <td>9.0</td>\n",
              "      <td>100.56</td>\n",
              "      <td>7.80</td>\n",
              "      <td>26.47</td>\n",
              "      <td>18.67</td>\n",
              "      <td>85.16</td>\n",
              "      <td>electric_bike</td>\n",
              "      <td>2.27</td>\n",
              "      <td>19.74</td>\n",
              "      <td>22.34</td>\n",
              "      <td>14.35</td>\n",
              "      <td>2</td>\n",
              "      <td>0</td>\n",
              "      <td>2</td>\n",
              "    </tr>\n",
              "    <tr>\n",
              "      <th>4</th>\n",
              "      <td>1.0</td>\n",
              "      <td>10.0</td>\n",
              "      <td>100.16</td>\n",
              "      <td>10.40</td>\n",
              "      <td>22.21</td>\n",
              "      <td>11.81</td>\n",
              "      <td>68.46</td>\n",
              "      <td>docked_bike</td>\n",
              "      <td>6.68</td>\n",
              "      <td>11.04</td>\n",
              "      <td>16.79</td>\n",
              "      <td>8.18</td>\n",
              "      <td>1</td>\n",
              "      <td>1</td>\n",
              "      <td>0</td>\n",
              "    </tr>\n",
              "    <tr>\n",
              "      <th>...</th>\n",
              "      <td>...</td>\n",
              "      <td>...</td>\n",
              "      <td>...</td>\n",
              "      <td>...</td>\n",
              "      <td>...</td>\n",
              "      <td>...</td>\n",
              "      <td>...</td>\n",
              "      <td>...</td>\n",
              "      <td>...</td>\n",
              "      <td>...</td>\n",
              "      <td>...</td>\n",
              "      <td>...</td>\n",
              "      <td>...</td>\n",
              "      <td>...</td>\n",
              "      <td>...</td>\n",
              "    </tr>\n",
              "    <tr>\n",
              "      <th>105</th>\n",
              "      <td>30.0</td>\n",
              "      <td>8.0</td>\n",
              "      <td>99.79</td>\n",
              "      <td>10.16</td>\n",
              "      <td>27.15</td>\n",
              "      <td>17.00</td>\n",
              "      <td>61.54</td>\n",
              "      <td>docked_bike</td>\n",
              "      <td>7.52</td>\n",
              "      <td>14.97</td>\n",
              "      <td>22.62</td>\n",
              "      <td>10.61</td>\n",
              "      <td>3</td>\n",
              "      <td>3</td>\n",
              "      <td>0</td>\n",
              "    </tr>\n",
              "    <tr>\n",
              "      <th>106</th>\n",
              "      <td>30.0</td>\n",
              "      <td>9.0</td>\n",
              "      <td>99.73</td>\n",
              "      <td>9.32</td>\n",
              "      <td>21.10</td>\n",
              "      <td>11.78</td>\n",
              "      <td>72.31</td>\n",
              "      <td>docked_bike</td>\n",
              "      <td>3.46</td>\n",
              "      <td>11.06</td>\n",
              "      <td>15.97</td>\n",
              "      <td>8.23</td>\n",
              "      <td>5</td>\n",
              "      <td>5</td>\n",
              "      <td>0</td>\n",
              "    </tr>\n",
              "    <tr>\n",
              "      <th>107</th>\n",
              "      <td>30.0</td>\n",
              "      <td>9.0</td>\n",
              "      <td>99.73</td>\n",
              "      <td>9.32</td>\n",
              "      <td>21.10</td>\n",
              "      <td>11.78</td>\n",
              "      <td>72.31</td>\n",
              "      <td>electric_bike</td>\n",
              "      <td>3.46</td>\n",
              "      <td>11.06</td>\n",
              "      <td>15.97</td>\n",
              "      <td>8.23</td>\n",
              "      <td>1</td>\n",
              "      <td>0</td>\n",
              "      <td>1</td>\n",
              "    </tr>\n",
              "    <tr>\n",
              "      <th>108</th>\n",
              "      <td>30.0</td>\n",
              "      <td>10.0</td>\n",
              "      <td>100.21</td>\n",
              "      <td>5.72</td>\n",
              "      <td>11.62</td>\n",
              "      <td>5.90</td>\n",
              "      <td>83.46</td>\n",
              "      <td>docked_bike</td>\n",
              "      <td>4.29</td>\n",
              "      <td>5.96</td>\n",
              "      <td>8.61</td>\n",
              "      <td>5.82</td>\n",
              "      <td>1</td>\n",
              "      <td>1</td>\n",
              "      <td>0</td>\n",
              "    </tr>\n",
              "    <tr>\n",
              "      <th>109</th>\n",
              "      <td>31.0</td>\n",
              "      <td>10.0</td>\n",
              "      <td>101.85</td>\n",
              "      <td>8.58</td>\n",
              "      <td>10.13</td>\n",
              "      <td>1.55</td>\n",
              "      <td>72.50</td>\n",
              "      <td>docked_bike</td>\n",
              "      <td>7.18</td>\n",
              "      <td>1.30</td>\n",
              "      <td>5.82</td>\n",
              "      <td>4.10</td>\n",
              "      <td>1</td>\n",
              "      <td>1</td>\n",
              "      <td>0</td>\n",
              "    </tr>\n",
              "  </tbody>\n",
              "</table>\n",
              "<p>110 rows × 15 columns</p>\n",
              "</div>"
            ],
            "text/plain": [
              "       DY    MO      PS  T2M_RANGE  ...   QV2M  count  docked_b electric_b\n",
              "0     1.0   8.0  100.14       9.68  ...  15.53      2         2          0\n",
              "1     1.0   8.0  100.14       9.68  ...  15.53      2         0          2\n",
              "2     1.0   9.0  100.56       7.80  ...  14.35      7         7          0\n",
              "3     1.0   9.0  100.56       7.80  ...  14.35      2         0          2\n",
              "4     1.0  10.0  100.16      10.40  ...   8.18      1         1          0\n",
              "..    ...   ...     ...        ...  ...    ...    ...       ...        ...\n",
              "105  30.0   8.0   99.79      10.16  ...  10.61      3         3          0\n",
              "106  30.0   9.0   99.73       9.32  ...   8.23      5         5          0\n",
              "107  30.0   9.0   99.73       9.32  ...   8.23      1         0          1\n",
              "108  30.0  10.0  100.21       5.72  ...   5.82      1         1          0\n",
              "109  31.0  10.0  101.85       8.58  ...   4.10      1         1          0\n",
              "\n",
              "[110 rows x 15 columns]"
            ]
          },
          "metadata": {
            "tags": []
          },
          "execution_count": 10
        }
      ]
    },
    {
      "cell_type": "code",
      "metadata": {
        "id": "BA0tpEssfDUL",
        "colab": {
          "base_uri": "https://localhost:8080/",
          "height": 402
        },
        "outputId": "bfc9c0b5-9abe-4690-962f-fccd83f84657"
      },
      "source": [
        " modified.reset_index(inplace=True, drop=True)\n",
        "modified.sort_values(['DY', 'MO'], ascending=[True, False])\n"
      ],
      "execution_count": null,
      "outputs": [
        {
          "output_type": "execute_result",
          "data": {
            "text/html": [
              "<div>\n",
              "<style scoped>\n",
              "    .dataframe tbody tr th:only-of-type {\n",
              "        vertical-align: middle;\n",
              "    }\n",
              "\n",
              "    .dataframe tbody tr th {\n",
              "        vertical-align: top;\n",
              "    }\n",
              "\n",
              "    .dataframe thead th {\n",
              "        text-align: right;\n",
              "    }\n",
              "</style>\n",
              "<table border=\"1\" class=\"dataframe\">\n",
              "  <thead>\n",
              "    <tr style=\"text-align: right;\">\n",
              "      <th></th>\n",
              "      <th>DY</th>\n",
              "      <th>MO</th>\n",
              "      <th>PS</th>\n",
              "      <th>T2M_RANGE</th>\n",
              "      <th>T2M_MAX</th>\n",
              "      <th>T2M_MIN</th>\n",
              "      <th>RH2M</th>\n",
              "      <th>rideable_type</th>\n",
              "      <th>WS50M_RANGE</th>\n",
              "      <th>T2MDEW</th>\n",
              "      <th>T2M</th>\n",
              "      <th>QV2M</th>\n",
              "      <th>count</th>\n",
              "      <th>docked_b</th>\n",
              "      <th>electric_b</th>\n",
              "    </tr>\n",
              "  </thead>\n",
              "  <tbody>\n",
              "    <tr>\n",
              "      <th>4</th>\n",
              "      <td>1.0</td>\n",
              "      <td>10.0</td>\n",
              "      <td>100.16</td>\n",
              "      <td>10.40</td>\n",
              "      <td>22.21</td>\n",
              "      <td>11.81</td>\n",
              "      <td>68.46</td>\n",
              "      <td>docked_bike</td>\n",
              "      <td>6.68</td>\n",
              "      <td>11.04</td>\n",
              "      <td>16.79</td>\n",
              "      <td>8.18</td>\n",
              "      <td>1</td>\n",
              "      <td>1</td>\n",
              "      <td>0</td>\n",
              "    </tr>\n",
              "    <tr>\n",
              "      <th>2</th>\n",
              "      <td>1.0</td>\n",
              "      <td>9.0</td>\n",
              "      <td>100.56</td>\n",
              "      <td>7.80</td>\n",
              "      <td>26.47</td>\n",
              "      <td>18.67</td>\n",
              "      <td>85.16</td>\n",
              "      <td>docked_bike</td>\n",
              "      <td>2.27</td>\n",
              "      <td>19.74</td>\n",
              "      <td>22.34</td>\n",
              "      <td>14.35</td>\n",
              "      <td>7</td>\n",
              "      <td>7</td>\n",
              "      <td>0</td>\n",
              "    </tr>\n",
              "    <tr>\n",
              "      <th>3</th>\n",
              "      <td>1.0</td>\n",
              "      <td>9.0</td>\n",
              "      <td>100.56</td>\n",
              "      <td>7.80</td>\n",
              "      <td>26.47</td>\n",
              "      <td>18.67</td>\n",
              "      <td>85.16</td>\n",
              "      <td>electric_bike</td>\n",
              "      <td>2.27</td>\n",
              "      <td>19.74</td>\n",
              "      <td>22.34</td>\n",
              "      <td>14.35</td>\n",
              "      <td>2</td>\n",
              "      <td>0</td>\n",
              "      <td>2</td>\n",
              "    </tr>\n",
              "    <tr>\n",
              "      <th>0</th>\n",
              "      <td>1.0</td>\n",
              "      <td>8.0</td>\n",
              "      <td>100.14</td>\n",
              "      <td>9.68</td>\n",
              "      <td>31.55</td>\n",
              "      <td>21.88</td>\n",
              "      <td>70.06</td>\n",
              "      <td>docked_bike</td>\n",
              "      <td>6.75</td>\n",
              "      <td>21.05</td>\n",
              "      <td>26.85</td>\n",
              "      <td>15.53</td>\n",
              "      <td>2</td>\n",
              "      <td>2</td>\n",
              "      <td>0</td>\n",
              "    </tr>\n",
              "    <tr>\n",
              "      <th>1</th>\n",
              "      <td>1.0</td>\n",
              "      <td>8.0</td>\n",
              "      <td>100.14</td>\n",
              "      <td>9.68</td>\n",
              "      <td>31.55</td>\n",
              "      <td>21.88</td>\n",
              "      <td>70.06</td>\n",
              "      <td>electric_bike</td>\n",
              "      <td>6.75</td>\n",
              "      <td>21.05</td>\n",
              "      <td>26.85</td>\n",
              "      <td>15.53</td>\n",
              "      <td>2</td>\n",
              "      <td>0</td>\n",
              "      <td>2</td>\n",
              "    </tr>\n",
              "    <tr>\n",
              "      <th>...</th>\n",
              "      <td>...</td>\n",
              "      <td>...</td>\n",
              "      <td>...</td>\n",
              "      <td>...</td>\n",
              "      <td>...</td>\n",
              "      <td>...</td>\n",
              "      <td>...</td>\n",
              "      <td>...</td>\n",
              "      <td>...</td>\n",
              "      <td>...</td>\n",
              "      <td>...</td>\n",
              "      <td>...</td>\n",
              "      <td>...</td>\n",
              "      <td>...</td>\n",
              "      <td>...</td>\n",
              "    </tr>\n",
              "    <tr>\n",
              "      <th>108</th>\n",
              "      <td>30.0</td>\n",
              "      <td>10.0</td>\n",
              "      <td>100.21</td>\n",
              "      <td>5.72</td>\n",
              "      <td>11.62</td>\n",
              "      <td>5.90</td>\n",
              "      <td>83.46</td>\n",
              "      <td>docked_bike</td>\n",
              "      <td>4.29</td>\n",
              "      <td>5.96</td>\n",
              "      <td>8.61</td>\n",
              "      <td>5.82</td>\n",
              "      <td>1</td>\n",
              "      <td>1</td>\n",
              "      <td>0</td>\n",
              "    </tr>\n",
              "    <tr>\n",
              "      <th>106</th>\n",
              "      <td>30.0</td>\n",
              "      <td>9.0</td>\n",
              "      <td>99.73</td>\n",
              "      <td>9.32</td>\n",
              "      <td>21.10</td>\n",
              "      <td>11.78</td>\n",
              "      <td>72.31</td>\n",
              "      <td>docked_bike</td>\n",
              "      <td>3.46</td>\n",
              "      <td>11.06</td>\n",
              "      <td>15.97</td>\n",
              "      <td>8.23</td>\n",
              "      <td>5</td>\n",
              "      <td>5</td>\n",
              "      <td>0</td>\n",
              "    </tr>\n",
              "    <tr>\n",
              "      <th>107</th>\n",
              "      <td>30.0</td>\n",
              "      <td>9.0</td>\n",
              "      <td>99.73</td>\n",
              "      <td>9.32</td>\n",
              "      <td>21.10</td>\n",
              "      <td>11.78</td>\n",
              "      <td>72.31</td>\n",
              "      <td>electric_bike</td>\n",
              "      <td>3.46</td>\n",
              "      <td>11.06</td>\n",
              "      <td>15.97</td>\n",
              "      <td>8.23</td>\n",
              "      <td>1</td>\n",
              "      <td>0</td>\n",
              "      <td>1</td>\n",
              "    </tr>\n",
              "    <tr>\n",
              "      <th>105</th>\n",
              "      <td>30.0</td>\n",
              "      <td>8.0</td>\n",
              "      <td>99.79</td>\n",
              "      <td>10.16</td>\n",
              "      <td>27.15</td>\n",
              "      <td>17.00</td>\n",
              "      <td>61.54</td>\n",
              "      <td>docked_bike</td>\n",
              "      <td>7.52</td>\n",
              "      <td>14.97</td>\n",
              "      <td>22.62</td>\n",
              "      <td>10.61</td>\n",
              "      <td>3</td>\n",
              "      <td>3</td>\n",
              "      <td>0</td>\n",
              "    </tr>\n",
              "    <tr>\n",
              "      <th>109</th>\n",
              "      <td>31.0</td>\n",
              "      <td>10.0</td>\n",
              "      <td>101.85</td>\n",
              "      <td>8.58</td>\n",
              "      <td>10.13</td>\n",
              "      <td>1.55</td>\n",
              "      <td>72.50</td>\n",
              "      <td>docked_bike</td>\n",
              "      <td>7.18</td>\n",
              "      <td>1.30</td>\n",
              "      <td>5.82</td>\n",
              "      <td>4.10</td>\n",
              "      <td>1</td>\n",
              "      <td>1</td>\n",
              "      <td>0</td>\n",
              "    </tr>\n",
              "  </tbody>\n",
              "</table>\n",
              "<p>110 rows × 15 columns</p>\n",
              "</div>"
            ],
            "text/plain": [
              "       DY    MO      PS  T2M_RANGE  ...   QV2M  count  docked_b electric_b\n",
              "4     1.0  10.0  100.16      10.40  ...   8.18      1         1          0\n",
              "2     1.0   9.0  100.56       7.80  ...  14.35      7         7          0\n",
              "3     1.0   9.0  100.56       7.80  ...  14.35      2         0          2\n",
              "0     1.0   8.0  100.14       9.68  ...  15.53      2         2          0\n",
              "1     1.0   8.0  100.14       9.68  ...  15.53      2         0          2\n",
              "..    ...   ...     ...        ...  ...    ...    ...       ...        ...\n",
              "108  30.0  10.0  100.21       5.72  ...   5.82      1         1          0\n",
              "106  30.0   9.0   99.73       9.32  ...   8.23      5         5          0\n",
              "107  30.0   9.0   99.73       9.32  ...   8.23      1         0          1\n",
              "105  30.0   8.0   99.79      10.16  ...  10.61      3         3          0\n",
              "109  31.0  10.0  101.85       8.58  ...   4.10      1         1          0\n",
              "\n",
              "[110 rows x 15 columns]"
            ]
          },
          "metadata": {
            "tags": []
          },
          "execution_count": 11
        }
      ]
    },
    {
      "cell_type": "code",
      "metadata": {
        "id": "7nO-1tHvkS-u",
        "colab": {
          "base_uri": "https://localhost:8080/",
          "height": 402
        },
        "outputId": "d69f0fe3-1d99-4b79-f1cb-7373ed250e24"
      },
      "source": [
        "df1 = modified[modified['rideable_type'] == 'docked_bike']\n",
        "df1 = df1.drop(['rideable_type','count', 'electric_b'], axis=1)\n",
        "df1"
      ],
      "execution_count": null,
      "outputs": [
        {
          "output_type": "execute_result",
          "data": {
            "text/html": [
              "<div>\n",
              "<style scoped>\n",
              "    .dataframe tbody tr th:only-of-type {\n",
              "        vertical-align: middle;\n",
              "    }\n",
              "\n",
              "    .dataframe tbody tr th {\n",
              "        vertical-align: top;\n",
              "    }\n",
              "\n",
              "    .dataframe thead th {\n",
              "        text-align: right;\n",
              "    }\n",
              "</style>\n",
              "<table border=\"1\" class=\"dataframe\">\n",
              "  <thead>\n",
              "    <tr style=\"text-align: right;\">\n",
              "      <th></th>\n",
              "      <th>DY</th>\n",
              "      <th>MO</th>\n",
              "      <th>PS</th>\n",
              "      <th>T2M_RANGE</th>\n",
              "      <th>T2M_MAX</th>\n",
              "      <th>T2M_MIN</th>\n",
              "      <th>RH2M</th>\n",
              "      <th>WS50M_RANGE</th>\n",
              "      <th>T2MDEW</th>\n",
              "      <th>T2M</th>\n",
              "      <th>QV2M</th>\n",
              "      <th>docked_b</th>\n",
              "    </tr>\n",
              "  </thead>\n",
              "  <tbody>\n",
              "    <tr>\n",
              "      <th>0</th>\n",
              "      <td>1.0</td>\n",
              "      <td>8.0</td>\n",
              "      <td>100.14</td>\n",
              "      <td>9.68</td>\n",
              "      <td>31.55</td>\n",
              "      <td>21.88</td>\n",
              "      <td>70.06</td>\n",
              "      <td>6.75</td>\n",
              "      <td>21.05</td>\n",
              "      <td>26.85</td>\n",
              "      <td>15.53</td>\n",
              "      <td>2</td>\n",
              "    </tr>\n",
              "    <tr>\n",
              "      <th>2</th>\n",
              "      <td>1.0</td>\n",
              "      <td>9.0</td>\n",
              "      <td>100.56</td>\n",
              "      <td>7.80</td>\n",
              "      <td>26.47</td>\n",
              "      <td>18.67</td>\n",
              "      <td>85.16</td>\n",
              "      <td>2.27</td>\n",
              "      <td>19.74</td>\n",
              "      <td>22.34</td>\n",
              "      <td>14.35</td>\n",
              "      <td>7</td>\n",
              "    </tr>\n",
              "    <tr>\n",
              "      <th>4</th>\n",
              "      <td>1.0</td>\n",
              "      <td>10.0</td>\n",
              "      <td>100.16</td>\n",
              "      <td>10.40</td>\n",
              "      <td>22.21</td>\n",
              "      <td>11.81</td>\n",
              "      <td>68.46</td>\n",
              "      <td>6.68</td>\n",
              "      <td>11.04</td>\n",
              "      <td>16.79</td>\n",
              "      <td>8.18</td>\n",
              "      <td>1</td>\n",
              "    </tr>\n",
              "    <tr>\n",
              "      <th>5</th>\n",
              "      <td>2.0</td>\n",
              "      <td>8.0</td>\n",
              "      <td>100.03</td>\n",
              "      <td>10.09</td>\n",
              "      <td>34.01</td>\n",
              "      <td>23.92</td>\n",
              "      <td>66.16</td>\n",
              "      <td>4.90</td>\n",
              "      <td>21.85</td>\n",
              "      <td>28.65</td>\n",
              "      <td>16.31</td>\n",
              "      <td>1</td>\n",
              "    </tr>\n",
              "    <tr>\n",
              "      <th>6</th>\n",
              "      <td>2.0</td>\n",
              "      <td>9.0</td>\n",
              "      <td>100.01</td>\n",
              "      <td>8.21</td>\n",
              "      <td>29.40</td>\n",
              "      <td>21.18</td>\n",
              "      <td>87.59</td>\n",
              "      <td>1.60</td>\n",
              "      <td>23.00</td>\n",
              "      <td>25.20</td>\n",
              "      <td>17.66</td>\n",
              "      <td>1</td>\n",
              "    </tr>\n",
              "    <tr>\n",
              "      <th>...</th>\n",
              "      <td>...</td>\n",
              "      <td>...</td>\n",
              "      <td>...</td>\n",
              "      <td>...</td>\n",
              "      <td>...</td>\n",
              "      <td>...</td>\n",
              "      <td>...</td>\n",
              "      <td>...</td>\n",
              "      <td>...</td>\n",
              "      <td>...</td>\n",
              "      <td>...</td>\n",
              "      <td>...</td>\n",
              "    </tr>\n",
              "    <tr>\n",
              "      <th>104</th>\n",
              "      <td>29.0</td>\n",
              "      <td>9.0</td>\n",
              "      <td>99.67</td>\n",
              "      <td>11.55</td>\n",
              "      <td>26.35</td>\n",
              "      <td>14.80</td>\n",
              "      <td>88.15</td>\n",
              "      <td>6.01</td>\n",
              "      <td>18.92</td>\n",
              "      <td>20.96</td>\n",
              "      <td>13.77</td>\n",
              "      <td>2</td>\n",
              "    </tr>\n",
              "    <tr>\n",
              "      <th>105</th>\n",
              "      <td>30.0</td>\n",
              "      <td>8.0</td>\n",
              "      <td>99.79</td>\n",
              "      <td>10.16</td>\n",
              "      <td>27.15</td>\n",
              "      <td>17.00</td>\n",
              "      <td>61.54</td>\n",
              "      <td>7.52</td>\n",
              "      <td>14.97</td>\n",
              "      <td>22.62</td>\n",
              "      <td>10.61</td>\n",
              "      <td>3</td>\n",
              "    </tr>\n",
              "    <tr>\n",
              "      <th>106</th>\n",
              "      <td>30.0</td>\n",
              "      <td>9.0</td>\n",
              "      <td>99.73</td>\n",
              "      <td>9.32</td>\n",
              "      <td>21.10</td>\n",
              "      <td>11.78</td>\n",
              "      <td>72.31</td>\n",
              "      <td>3.46</td>\n",
              "      <td>11.06</td>\n",
              "      <td>15.97</td>\n",
              "      <td>8.23</td>\n",
              "      <td>5</td>\n",
              "    </tr>\n",
              "    <tr>\n",
              "      <th>108</th>\n",
              "      <td>30.0</td>\n",
              "      <td>10.0</td>\n",
              "      <td>100.21</td>\n",
              "      <td>5.72</td>\n",
              "      <td>11.62</td>\n",
              "      <td>5.90</td>\n",
              "      <td>83.46</td>\n",
              "      <td>4.29</td>\n",
              "      <td>5.96</td>\n",
              "      <td>8.61</td>\n",
              "      <td>5.82</td>\n",
              "      <td>1</td>\n",
              "    </tr>\n",
              "    <tr>\n",
              "      <th>109</th>\n",
              "      <td>31.0</td>\n",
              "      <td>10.0</td>\n",
              "      <td>101.85</td>\n",
              "      <td>8.58</td>\n",
              "      <td>10.13</td>\n",
              "      <td>1.55</td>\n",
              "      <td>72.50</td>\n",
              "      <td>7.18</td>\n",
              "      <td>1.30</td>\n",
              "      <td>5.82</td>\n",
              "      <td>4.10</td>\n",
              "      <td>1</td>\n",
              "    </tr>\n",
              "  </tbody>\n",
              "</table>\n",
              "<p>71 rows × 12 columns</p>\n",
              "</div>"
            ],
            "text/plain": [
              "       DY    MO      PS  T2M_RANGE  ...  T2MDEW    T2M   QV2M  docked_b\n",
              "0     1.0   8.0  100.14       9.68  ...   21.05  26.85  15.53         2\n",
              "2     1.0   9.0  100.56       7.80  ...   19.74  22.34  14.35         7\n",
              "4     1.0  10.0  100.16      10.40  ...   11.04  16.79   8.18         1\n",
              "5     2.0   8.0  100.03      10.09  ...   21.85  28.65  16.31         1\n",
              "6     2.0   9.0  100.01       8.21  ...   23.00  25.20  17.66         1\n",
              "..    ...   ...     ...        ...  ...     ...    ...    ...       ...\n",
              "104  29.0   9.0   99.67      11.55  ...   18.92  20.96  13.77         2\n",
              "105  30.0   8.0   99.79      10.16  ...   14.97  22.62  10.61         3\n",
              "106  30.0   9.0   99.73       9.32  ...   11.06  15.97   8.23         5\n",
              "108  30.0  10.0  100.21       5.72  ...    5.96   8.61   5.82         1\n",
              "109  31.0  10.0  101.85       8.58  ...    1.30   5.82   4.10         1\n",
              "\n",
              "[71 rows x 12 columns]"
            ]
          },
          "metadata": {
            "tags": []
          },
          "execution_count": 12
        }
      ]
    },
    {
      "cell_type": "code",
      "metadata": {
        "id": "8xmydOfYkh_h",
        "colab": {
          "base_uri": "https://localhost:8080/",
          "height": 1000
        },
        "outputId": "4d1e967d-d549-46e2-dcfe-a961a4fb8327"
      },
      "source": [
        "df2 = modified[modified['rideable_type'] == 'electric_bike']\n",
        "df2 = df2.drop(['rideable_type','count', 'docked_b'], axis=1)\n",
        "df2"
      ],
      "execution_count": null,
      "outputs": [
        {
          "output_type": "execute_result",
          "data": {
            "text/html": [
              "<div>\n",
              "<style scoped>\n",
              "    .dataframe tbody tr th:only-of-type {\n",
              "        vertical-align: middle;\n",
              "    }\n",
              "\n",
              "    .dataframe tbody tr th {\n",
              "        vertical-align: top;\n",
              "    }\n",
              "\n",
              "    .dataframe thead th {\n",
              "        text-align: right;\n",
              "    }\n",
              "</style>\n",
              "<table border=\"1\" class=\"dataframe\">\n",
              "  <thead>\n",
              "    <tr style=\"text-align: right;\">\n",
              "      <th></th>\n",
              "      <th>DY</th>\n",
              "      <th>MO</th>\n",
              "      <th>PS</th>\n",
              "      <th>T2M_RANGE</th>\n",
              "      <th>T2M_MAX</th>\n",
              "      <th>T2M_MIN</th>\n",
              "      <th>RH2M</th>\n",
              "      <th>WS50M_RANGE</th>\n",
              "      <th>T2MDEW</th>\n",
              "      <th>T2M</th>\n",
              "      <th>QV2M</th>\n",
              "      <th>electric_b</th>\n",
              "    </tr>\n",
              "  </thead>\n",
              "  <tbody>\n",
              "    <tr>\n",
              "      <th>1</th>\n",
              "      <td>1.0</td>\n",
              "      <td>8.0</td>\n",
              "      <td>100.14</td>\n",
              "      <td>9.68</td>\n",
              "      <td>31.55</td>\n",
              "      <td>21.88</td>\n",
              "      <td>70.06</td>\n",
              "      <td>6.75</td>\n",
              "      <td>21.05</td>\n",
              "      <td>26.85</td>\n",
              "      <td>15.53</td>\n",
              "      <td>2</td>\n",
              "    </tr>\n",
              "    <tr>\n",
              "      <th>3</th>\n",
              "      <td>1.0</td>\n",
              "      <td>9.0</td>\n",
              "      <td>100.56</td>\n",
              "      <td>7.80</td>\n",
              "      <td>26.47</td>\n",
              "      <td>18.67</td>\n",
              "      <td>85.16</td>\n",
              "      <td>2.27</td>\n",
              "      <td>19.74</td>\n",
              "      <td>22.34</td>\n",
              "      <td>14.35</td>\n",
              "      <td>2</td>\n",
              "    </tr>\n",
              "    <tr>\n",
              "      <th>7</th>\n",
              "      <td>2.0</td>\n",
              "      <td>9.0</td>\n",
              "      <td>100.01</td>\n",
              "      <td>8.21</td>\n",
              "      <td>29.40</td>\n",
              "      <td>21.18</td>\n",
              "      <td>87.59</td>\n",
              "      <td>1.60</td>\n",
              "      <td>23.00</td>\n",
              "      <td>25.20</td>\n",
              "      <td>17.66</td>\n",
              "      <td>3</td>\n",
              "    </tr>\n",
              "    <tr>\n",
              "      <th>10</th>\n",
              "      <td>3.0</td>\n",
              "      <td>8.0</td>\n",
              "      <td>100.50</td>\n",
              "      <td>9.03</td>\n",
              "      <td>31.14</td>\n",
              "      <td>22.11</td>\n",
              "      <td>68.29</td>\n",
              "      <td>4.94</td>\n",
              "      <td>19.64</td>\n",
              "      <td>25.80</td>\n",
              "      <td>14.17</td>\n",
              "      <td>1</td>\n",
              "    </tr>\n",
              "    <tr>\n",
              "      <th>12</th>\n",
              "      <td>3.0</td>\n",
              "      <td>9.0</td>\n",
              "      <td>99.79</td>\n",
              "      <td>8.44</td>\n",
              "      <td>30.33</td>\n",
              "      <td>21.89</td>\n",
              "      <td>81.72</td>\n",
              "      <td>5.78</td>\n",
              "      <td>22.68</td>\n",
              "      <td>25.99</td>\n",
              "      <td>17.30</td>\n",
              "      <td>1</td>\n",
              "    </tr>\n",
              "    <tr>\n",
              "      <th>15</th>\n",
              "      <td>4.0</td>\n",
              "      <td>8.0</td>\n",
              "      <td>99.84</td>\n",
              "      <td>7.29</td>\n",
              "      <td>29.03</td>\n",
              "      <td>21.74</td>\n",
              "      <td>83.31</td>\n",
              "      <td>10.41</td>\n",
              "      <td>21.43</td>\n",
              "      <td>24.41</td>\n",
              "      <td>16.04</td>\n",
              "      <td>1</td>\n",
              "    </tr>\n",
              "    <tr>\n",
              "      <th>16</th>\n",
              "      <td>4.0</td>\n",
              "      <td>9.0</td>\n",
              "      <td>100.14</td>\n",
              "      <td>10.42</td>\n",
              "      <td>29.21</td>\n",
              "      <td>18.79</td>\n",
              "      <td>79.02</td>\n",
              "      <td>4.64</td>\n",
              "      <td>20.80</td>\n",
              "      <td>24.61</td>\n",
              "      <td>15.34</td>\n",
              "      <td>2</td>\n",
              "    </tr>\n",
              "    <tr>\n",
              "      <th>19</th>\n",
              "      <td>5.0</td>\n",
              "      <td>8.0</td>\n",
              "      <td>100.52</td>\n",
              "      <td>9.73</td>\n",
              "      <td>29.23</td>\n",
              "      <td>19.50</td>\n",
              "      <td>68.25</td>\n",
              "      <td>4.93</td>\n",
              "      <td>18.65</td>\n",
              "      <td>24.78</td>\n",
              "      <td>13.31</td>\n",
              "      <td>2</td>\n",
              "    </tr>\n",
              "    <tr>\n",
              "      <th>21</th>\n",
              "      <td>5.0</td>\n",
              "      <td>9.0</td>\n",
              "      <td>101.03</td>\n",
              "      <td>11.09</td>\n",
              "      <td>25.80</td>\n",
              "      <td>14.71</td>\n",
              "      <td>58.42</td>\n",
              "      <td>7.09</td>\n",
              "      <td>12.04</td>\n",
              "      <td>20.38</td>\n",
              "      <td>8.66</td>\n",
              "      <td>2</td>\n",
              "    </tr>\n",
              "    <tr>\n",
              "      <th>24</th>\n",
              "      <td>6.0</td>\n",
              "      <td>8.0</td>\n",
              "      <td>100.63</td>\n",
              "      <td>4.47</td>\n",
              "      <td>25.31</td>\n",
              "      <td>20.84</td>\n",
              "      <td>85.43</td>\n",
              "      <td>5.32</td>\n",
              "      <td>20.81</td>\n",
              "      <td>23.38</td>\n",
              "      <td>15.33</td>\n",
              "      <td>2</td>\n",
              "    </tr>\n",
              "    <tr>\n",
              "      <th>26</th>\n",
              "      <td>6.0</td>\n",
              "      <td>9.0</td>\n",
              "      <td>100.95</td>\n",
              "      <td>12.67</td>\n",
              "      <td>27.71</td>\n",
              "      <td>15.05</td>\n",
              "      <td>63.54</td>\n",
              "      <td>6.74</td>\n",
              "      <td>14.02</td>\n",
              "      <td>21.10</td>\n",
              "      <td>9.86</td>\n",
              "      <td>1</td>\n",
              "    </tr>\n",
              "    <tr>\n",
              "      <th>29</th>\n",
              "      <td>7.0</td>\n",
              "      <td>8.0</td>\n",
              "      <td>100.64</td>\n",
              "      <td>5.50</td>\n",
              "      <td>27.54</td>\n",
              "      <td>22.05</td>\n",
              "      <td>88.81</td>\n",
              "      <td>3.39</td>\n",
              "      <td>22.34</td>\n",
              "      <td>24.31</td>\n",
              "      <td>16.86</td>\n",
              "      <td>3</td>\n",
              "    </tr>\n",
              "    <tr>\n",
              "      <th>31</th>\n",
              "      <td>7.0</td>\n",
              "      <td>9.0</td>\n",
              "      <td>100.61</td>\n",
              "      <td>11.59</td>\n",
              "      <td>27.29</td>\n",
              "      <td>15.71</td>\n",
              "      <td>71.13</td>\n",
              "      <td>2.40</td>\n",
              "      <td>15.84</td>\n",
              "      <td>21.18</td>\n",
              "      <td>11.14</td>\n",
              "      <td>2</td>\n",
              "    </tr>\n",
              "    <tr>\n",
              "      <th>34</th>\n",
              "      <td>8.0</td>\n",
              "      <td>8.0</td>\n",
              "      <td>100.81</td>\n",
              "      <td>7.57</td>\n",
              "      <td>28.92</td>\n",
              "      <td>21.35</td>\n",
              "      <td>79.25</td>\n",
              "      <td>4.03</td>\n",
              "      <td>21.05</td>\n",
              "      <td>24.83</td>\n",
              "      <td>15.48</td>\n",
              "      <td>3</td>\n",
              "    </tr>\n",
              "    <tr>\n",
              "      <th>40</th>\n",
              "      <td>10.0</td>\n",
              "      <td>8.0</td>\n",
              "      <td>100.52</td>\n",
              "      <td>11.11</td>\n",
              "      <td>31.84</td>\n",
              "      <td>20.73</td>\n",
              "      <td>71.49</td>\n",
              "      <td>5.85</td>\n",
              "      <td>20.79</td>\n",
              "      <td>26.24</td>\n",
              "      <td>15.22</td>\n",
              "      <td>1</td>\n",
              "    </tr>\n",
              "    <tr>\n",
              "      <th>43</th>\n",
              "      <td>11.0</td>\n",
              "      <td>8.0</td>\n",
              "      <td>100.25</td>\n",
              "      <td>9.65</td>\n",
              "      <td>31.59</td>\n",
              "      <td>21.94</td>\n",
              "      <td>76.92</td>\n",
              "      <td>3.56</td>\n",
              "      <td>22.43</td>\n",
              "      <td>26.73</td>\n",
              "      <td>16.93</td>\n",
              "      <td>2</td>\n",
              "    </tr>\n",
              "    <tr>\n",
              "      <th>45</th>\n",
              "      <td>12.0</td>\n",
              "      <td>8.0</td>\n",
              "      <td>100.45</td>\n",
              "      <td>8.83</td>\n",
              "      <td>31.90</td>\n",
              "      <td>23.06</td>\n",
              "      <td>77.92</td>\n",
              "      <td>3.52</td>\n",
              "      <td>22.98</td>\n",
              "      <td>27.09</td>\n",
              "      <td>17.48</td>\n",
              "      <td>2</td>\n",
              "    </tr>\n",
              "    <tr>\n",
              "      <th>51</th>\n",
              "      <td>14.0</td>\n",
              "      <td>8.0</td>\n",
              "      <td>100.34</td>\n",
              "      <td>6.69</td>\n",
              "      <td>28.75</td>\n",
              "      <td>22.06</td>\n",
              "      <td>84.80</td>\n",
              "      <td>2.72</td>\n",
              "      <td>22.09</td>\n",
              "      <td>24.80</td>\n",
              "      <td>16.63</td>\n",
              "      <td>2</td>\n",
              "    </tr>\n",
              "    <tr>\n",
              "      <th>54</th>\n",
              "      <td>15.0</td>\n",
              "      <td>8.0</td>\n",
              "      <td>100.33</td>\n",
              "      <td>5.45</td>\n",
              "      <td>26.05</td>\n",
              "      <td>20.60</td>\n",
              "      <td>81.32</td>\n",
              "      <td>3.45</td>\n",
              "      <td>19.80</td>\n",
              "      <td>23.13</td>\n",
              "      <td>14.41</td>\n",
              "      <td>2</td>\n",
              "    </tr>\n",
              "    <tr>\n",
              "      <th>58</th>\n",
              "      <td>17.0</td>\n",
              "      <td>8.0</td>\n",
              "      <td>100.14</td>\n",
              "      <td>10.29</td>\n",
              "      <td>27.82</td>\n",
              "      <td>17.53</td>\n",
              "      <td>78.76</td>\n",
              "      <td>5.82</td>\n",
              "      <td>18.87</td>\n",
              "      <td>22.69</td>\n",
              "      <td>13.60</td>\n",
              "      <td>4</td>\n",
              "    </tr>\n",
              "    <tr>\n",
              "      <th>60</th>\n",
              "      <td>18.0</td>\n",
              "      <td>8.0</td>\n",
              "      <td>100.00</td>\n",
              "      <td>12.32</td>\n",
              "      <td>28.45</td>\n",
              "      <td>16.14</td>\n",
              "      <td>67.83</td>\n",
              "      <td>4.13</td>\n",
              "      <td>16.64</td>\n",
              "      <td>22.78</td>\n",
              "      <td>11.79</td>\n",
              "      <td>2</td>\n",
              "    </tr>\n",
              "    <tr>\n",
              "      <th>62</th>\n",
              "      <td>18.0</td>\n",
              "      <td>9.0</td>\n",
              "      <td>100.36</td>\n",
              "      <td>11.15</td>\n",
              "      <td>23.18</td>\n",
              "      <td>12.03</td>\n",
              "      <td>73.83</td>\n",
              "      <td>8.77</td>\n",
              "      <td>13.16</td>\n",
              "      <td>17.83</td>\n",
              "      <td>9.40</td>\n",
              "      <td>3</td>\n",
              "    </tr>\n",
              "    <tr>\n",
              "      <th>65</th>\n",
              "      <td>19.0</td>\n",
              "      <td>8.0</td>\n",
              "      <td>100.19</td>\n",
              "      <td>8.83</td>\n",
              "      <td>27.71</td>\n",
              "      <td>18.88</td>\n",
              "      <td>72.68</td>\n",
              "      <td>5.19</td>\n",
              "      <td>17.30</td>\n",
              "      <td>22.35</td>\n",
              "      <td>12.29</td>\n",
              "      <td>4</td>\n",
              "    </tr>\n",
              "    <tr>\n",
              "      <th>67</th>\n",
              "      <td>19.0</td>\n",
              "      <td>9.0</td>\n",
              "      <td>101.43</td>\n",
              "      <td>10.90</td>\n",
              "      <td>18.49</td>\n",
              "      <td>7.59</td>\n",
              "      <td>51.17</td>\n",
              "      <td>5.06</td>\n",
              "      <td>2.64</td>\n",
              "      <td>12.46</td>\n",
              "      <td>4.55</td>\n",
              "      <td>1</td>\n",
              "    </tr>\n",
              "    <tr>\n",
              "      <th>70</th>\n",
              "      <td>20.0</td>\n",
              "      <td>8.0</td>\n",
              "      <td>100.53</td>\n",
              "      <td>9.59</td>\n",
              "      <td>27.09</td>\n",
              "      <td>17.50</td>\n",
              "      <td>75.93</td>\n",
              "      <td>4.79</td>\n",
              "      <td>17.86</td>\n",
              "      <td>22.24</td>\n",
              "      <td>12.71</td>\n",
              "      <td>1</td>\n",
              "    </tr>\n",
              "    <tr>\n",
              "      <th>74</th>\n",
              "      <td>21.0</td>\n",
              "      <td>8.0</td>\n",
              "      <td>100.34</td>\n",
              "      <td>7.93</td>\n",
              "      <td>27.12</td>\n",
              "      <td>19.19</td>\n",
              "      <td>81.84</td>\n",
              "      <td>3.25</td>\n",
              "      <td>19.94</td>\n",
              "      <td>23.17</td>\n",
              "      <td>14.54</td>\n",
              "      <td>1</td>\n",
              "    </tr>\n",
              "    <tr>\n",
              "      <th>77</th>\n",
              "      <td>22.0</td>\n",
              "      <td>8.0</td>\n",
              "      <td>100.33</td>\n",
              "      <td>6.59</td>\n",
              "      <td>27.40</td>\n",
              "      <td>20.81</td>\n",
              "      <td>83.17</td>\n",
              "      <td>3.86</td>\n",
              "      <td>20.93</td>\n",
              "      <td>23.93</td>\n",
              "      <td>15.47</td>\n",
              "      <td>2</td>\n",
              "    </tr>\n",
              "    <tr>\n",
              "      <th>80</th>\n",
              "      <td>23.0</td>\n",
              "      <td>8.0</td>\n",
              "      <td>100.50</td>\n",
              "      <td>9.17</td>\n",
              "      <td>30.33</td>\n",
              "      <td>21.16</td>\n",
              "      <td>81.94</td>\n",
              "      <td>3.29</td>\n",
              "      <td>22.20</td>\n",
              "      <td>25.46</td>\n",
              "      <td>16.69</td>\n",
              "      <td>3</td>\n",
              "    </tr>\n",
              "    <tr>\n",
              "      <th>84</th>\n",
              "      <td>24.0</td>\n",
              "      <td>8.0</td>\n",
              "      <td>100.44</td>\n",
              "      <td>9.70</td>\n",
              "      <td>30.88</td>\n",
              "      <td>21.18</td>\n",
              "      <td>78.74</td>\n",
              "      <td>3.66</td>\n",
              "      <td>22.16</td>\n",
              "      <td>26.07</td>\n",
              "      <td>16.63</td>\n",
              "      <td>2</td>\n",
              "    </tr>\n",
              "    <tr>\n",
              "      <th>86</th>\n",
              "      <td>24.0</td>\n",
              "      <td>9.0</td>\n",
              "      <td>100.44</td>\n",
              "      <td>7.77</td>\n",
              "      <td>22.73</td>\n",
              "      <td>14.96</td>\n",
              "      <td>75.88</td>\n",
              "      <td>5.46</td>\n",
              "      <td>13.78</td>\n",
              "      <td>18.04</td>\n",
              "      <td>9.79</td>\n",
              "      <td>2</td>\n",
              "    </tr>\n",
              "    <tr>\n",
              "      <th>89</th>\n",
              "      <td>25.0</td>\n",
              "      <td>8.0</td>\n",
              "      <td>100.06</td>\n",
              "      <td>10.47</td>\n",
              "      <td>31.87</td>\n",
              "      <td>21.40</td>\n",
              "      <td>73.82</td>\n",
              "      <td>3.02</td>\n",
              "      <td>21.40</td>\n",
              "      <td>26.34</td>\n",
              "      <td>15.90</td>\n",
              "      <td>3</td>\n",
              "    </tr>\n",
              "    <tr>\n",
              "      <th>90</th>\n",
              "      <td>25.0</td>\n",
              "      <td>9.0</td>\n",
              "      <td>100.73</td>\n",
              "      <td>6.63</td>\n",
              "      <td>20.92</td>\n",
              "      <td>14.28</td>\n",
              "      <td>86.51</td>\n",
              "      <td>2.91</td>\n",
              "      <td>14.96</td>\n",
              "      <td>17.23</td>\n",
              "      <td>10.58</td>\n",
              "      <td>3</td>\n",
              "    </tr>\n",
              "    <tr>\n",
              "      <th>91</th>\n",
              "      <td>26.0</td>\n",
              "      <td>8.0</td>\n",
              "      <td>100.30</td>\n",
              "      <td>11.69</td>\n",
              "      <td>29.93</td>\n",
              "      <td>18.24</td>\n",
              "      <td>65.16</td>\n",
              "      <td>3.28</td>\n",
              "      <td>17.40</td>\n",
              "      <td>24.24</td>\n",
              "      <td>12.33</td>\n",
              "      <td>3</td>\n",
              "    </tr>\n",
              "    <tr>\n",
              "      <th>93</th>\n",
              "      <td>26.0</td>\n",
              "      <td>9.0</td>\n",
              "      <td>100.43</td>\n",
              "      <td>9.11</td>\n",
              "      <td>24.99</td>\n",
              "      <td>15.88</td>\n",
              "      <td>88.74</td>\n",
              "      <td>5.23</td>\n",
              "      <td>17.73</td>\n",
              "      <td>19.65</td>\n",
              "      <td>12.68</td>\n",
              "      <td>1</td>\n",
              "    </tr>\n",
              "    <tr>\n",
              "      <th>96</th>\n",
              "      <td>27.0</td>\n",
              "      <td>8.0</td>\n",
              "      <td>99.94</td>\n",
              "      <td>10.25</td>\n",
              "      <td>32.28</td>\n",
              "      <td>22.04</td>\n",
              "      <td>70.87</td>\n",
              "      <td>3.74</td>\n",
              "      <td>21.41</td>\n",
              "      <td>27.03</td>\n",
              "      <td>15.91</td>\n",
              "      <td>1</td>\n",
              "    </tr>\n",
              "    <tr>\n",
              "      <th>98</th>\n",
              "      <td>27.0</td>\n",
              "      <td>9.0</td>\n",
              "      <td>100.19</td>\n",
              "      <td>10.22</td>\n",
              "      <td>26.27</td>\n",
              "      <td>16.05</td>\n",
              "      <td>83.45</td>\n",
              "      <td>4.35</td>\n",
              "      <td>17.99</td>\n",
              "      <td>20.88</td>\n",
              "      <td>12.90</td>\n",
              "      <td>2</td>\n",
              "    </tr>\n",
              "    <tr>\n",
              "      <th>100</th>\n",
              "      <td>28.0</td>\n",
              "      <td>8.0</td>\n",
              "      <td>99.96</td>\n",
              "      <td>7.97</td>\n",
              "      <td>30.94</td>\n",
              "      <td>22.96</td>\n",
              "      <td>80.50</td>\n",
              "      <td>3.64</td>\n",
              "      <td>22.68</td>\n",
              "      <td>26.24</td>\n",
              "      <td>17.27</td>\n",
              "      <td>2</td>\n",
              "    </tr>\n",
              "    <tr>\n",
              "      <th>103</th>\n",
              "      <td>29.0</td>\n",
              "      <td>8.0</td>\n",
              "      <td>99.16</td>\n",
              "      <td>7.51</td>\n",
              "      <td>28.85</td>\n",
              "      <td>21.34</td>\n",
              "      <td>83.94</td>\n",
              "      <td>5.55</td>\n",
              "      <td>22.34</td>\n",
              "      <td>25.22</td>\n",
              "      <td>17.08</td>\n",
              "      <td>2</td>\n",
              "    </tr>\n",
              "    <tr>\n",
              "      <th>107</th>\n",
              "      <td>30.0</td>\n",
              "      <td>9.0</td>\n",
              "      <td>99.73</td>\n",
              "      <td>9.32</td>\n",
              "      <td>21.10</td>\n",
              "      <td>11.78</td>\n",
              "      <td>72.31</td>\n",
              "      <td>3.46</td>\n",
              "      <td>11.06</td>\n",
              "      <td>15.97</td>\n",
              "      <td>8.23</td>\n",
              "      <td>1</td>\n",
              "    </tr>\n",
              "  </tbody>\n",
              "</table>\n",
              "</div>"
            ],
            "text/plain": [
              "       DY   MO      PS  T2M_RANGE  ...  T2MDEW    T2M   QV2M  electric_b\n",
              "1     1.0  8.0  100.14       9.68  ...   21.05  26.85  15.53           2\n",
              "3     1.0  9.0  100.56       7.80  ...   19.74  22.34  14.35           2\n",
              "7     2.0  9.0  100.01       8.21  ...   23.00  25.20  17.66           3\n",
              "10    3.0  8.0  100.50       9.03  ...   19.64  25.80  14.17           1\n",
              "12    3.0  9.0   99.79       8.44  ...   22.68  25.99  17.30           1\n",
              "15    4.0  8.0   99.84       7.29  ...   21.43  24.41  16.04           1\n",
              "16    4.0  9.0  100.14      10.42  ...   20.80  24.61  15.34           2\n",
              "19    5.0  8.0  100.52       9.73  ...   18.65  24.78  13.31           2\n",
              "21    5.0  9.0  101.03      11.09  ...   12.04  20.38   8.66           2\n",
              "24    6.0  8.0  100.63       4.47  ...   20.81  23.38  15.33           2\n",
              "26    6.0  9.0  100.95      12.67  ...   14.02  21.10   9.86           1\n",
              "29    7.0  8.0  100.64       5.50  ...   22.34  24.31  16.86           3\n",
              "31    7.0  9.0  100.61      11.59  ...   15.84  21.18  11.14           2\n",
              "34    8.0  8.0  100.81       7.57  ...   21.05  24.83  15.48           3\n",
              "40   10.0  8.0  100.52      11.11  ...   20.79  26.24  15.22           1\n",
              "43   11.0  8.0  100.25       9.65  ...   22.43  26.73  16.93           2\n",
              "45   12.0  8.0  100.45       8.83  ...   22.98  27.09  17.48           2\n",
              "51   14.0  8.0  100.34       6.69  ...   22.09  24.80  16.63           2\n",
              "54   15.0  8.0  100.33       5.45  ...   19.80  23.13  14.41           2\n",
              "58   17.0  8.0  100.14      10.29  ...   18.87  22.69  13.60           4\n",
              "60   18.0  8.0  100.00      12.32  ...   16.64  22.78  11.79           2\n",
              "62   18.0  9.0  100.36      11.15  ...   13.16  17.83   9.40           3\n",
              "65   19.0  8.0  100.19       8.83  ...   17.30  22.35  12.29           4\n",
              "67   19.0  9.0  101.43      10.90  ...    2.64  12.46   4.55           1\n",
              "70   20.0  8.0  100.53       9.59  ...   17.86  22.24  12.71           1\n",
              "74   21.0  8.0  100.34       7.93  ...   19.94  23.17  14.54           1\n",
              "77   22.0  8.0  100.33       6.59  ...   20.93  23.93  15.47           2\n",
              "80   23.0  8.0  100.50       9.17  ...   22.20  25.46  16.69           3\n",
              "84   24.0  8.0  100.44       9.70  ...   22.16  26.07  16.63           2\n",
              "86   24.0  9.0  100.44       7.77  ...   13.78  18.04   9.79           2\n",
              "89   25.0  8.0  100.06      10.47  ...   21.40  26.34  15.90           3\n",
              "90   25.0  9.0  100.73       6.63  ...   14.96  17.23  10.58           3\n",
              "91   26.0  8.0  100.30      11.69  ...   17.40  24.24  12.33           3\n",
              "93   26.0  9.0  100.43       9.11  ...   17.73  19.65  12.68           1\n",
              "96   27.0  8.0   99.94      10.25  ...   21.41  27.03  15.91           1\n",
              "98   27.0  9.0  100.19      10.22  ...   17.99  20.88  12.90           2\n",
              "100  28.0  8.0   99.96       7.97  ...   22.68  26.24  17.27           2\n",
              "103  29.0  8.0   99.16       7.51  ...   22.34  25.22  17.08           2\n",
              "107  30.0  9.0   99.73       9.32  ...   11.06  15.97   8.23           1\n",
              "\n",
              "[39 rows x 12 columns]"
            ]
          },
          "metadata": {
            "tags": []
          },
          "execution_count": 13
        }
      ]
    },
    {
      "cell_type": "code",
      "metadata": {
        "id": "3SCyjlRVeVkc",
        "colab": {
          "base_uri": "https://localhost:8080/",
          "height": 402
        },
        "outputId": "58976147-1e2a-429a-9972-e21cfdbacf3b"
      },
      "source": [
        "df1['PS'] = df1['PS'] - 100\n",
        "modified = df1\n",
        "modified"
      ],
      "execution_count": null,
      "outputs": [
        {
          "output_type": "execute_result",
          "data": {
            "text/html": [
              "<div>\n",
              "<style scoped>\n",
              "    .dataframe tbody tr th:only-of-type {\n",
              "        vertical-align: middle;\n",
              "    }\n",
              "\n",
              "    .dataframe tbody tr th {\n",
              "        vertical-align: top;\n",
              "    }\n",
              "\n",
              "    .dataframe thead th {\n",
              "        text-align: right;\n",
              "    }\n",
              "</style>\n",
              "<table border=\"1\" class=\"dataframe\">\n",
              "  <thead>\n",
              "    <tr style=\"text-align: right;\">\n",
              "      <th></th>\n",
              "      <th>DY</th>\n",
              "      <th>MO</th>\n",
              "      <th>PS</th>\n",
              "      <th>T2M_RANGE</th>\n",
              "      <th>T2M_MAX</th>\n",
              "      <th>T2M_MIN</th>\n",
              "      <th>RH2M</th>\n",
              "      <th>WS50M_RANGE</th>\n",
              "      <th>T2MDEW</th>\n",
              "      <th>T2M</th>\n",
              "      <th>QV2M</th>\n",
              "      <th>docked_b</th>\n",
              "    </tr>\n",
              "  </thead>\n",
              "  <tbody>\n",
              "    <tr>\n",
              "      <th>0</th>\n",
              "      <td>1.0</td>\n",
              "      <td>8.0</td>\n",
              "      <td>0.14</td>\n",
              "      <td>9.68</td>\n",
              "      <td>31.55</td>\n",
              "      <td>21.88</td>\n",
              "      <td>70.06</td>\n",
              "      <td>6.75</td>\n",
              "      <td>21.05</td>\n",
              "      <td>26.85</td>\n",
              "      <td>15.53</td>\n",
              "      <td>2</td>\n",
              "    </tr>\n",
              "    <tr>\n",
              "      <th>2</th>\n",
              "      <td>1.0</td>\n",
              "      <td>9.0</td>\n",
              "      <td>0.56</td>\n",
              "      <td>7.80</td>\n",
              "      <td>26.47</td>\n",
              "      <td>18.67</td>\n",
              "      <td>85.16</td>\n",
              "      <td>2.27</td>\n",
              "      <td>19.74</td>\n",
              "      <td>22.34</td>\n",
              "      <td>14.35</td>\n",
              "      <td>7</td>\n",
              "    </tr>\n",
              "    <tr>\n",
              "      <th>4</th>\n",
              "      <td>1.0</td>\n",
              "      <td>10.0</td>\n",
              "      <td>0.16</td>\n",
              "      <td>10.40</td>\n",
              "      <td>22.21</td>\n",
              "      <td>11.81</td>\n",
              "      <td>68.46</td>\n",
              "      <td>6.68</td>\n",
              "      <td>11.04</td>\n",
              "      <td>16.79</td>\n",
              "      <td>8.18</td>\n",
              "      <td>1</td>\n",
              "    </tr>\n",
              "    <tr>\n",
              "      <th>5</th>\n",
              "      <td>2.0</td>\n",
              "      <td>8.0</td>\n",
              "      <td>0.03</td>\n",
              "      <td>10.09</td>\n",
              "      <td>34.01</td>\n",
              "      <td>23.92</td>\n",
              "      <td>66.16</td>\n",
              "      <td>4.90</td>\n",
              "      <td>21.85</td>\n",
              "      <td>28.65</td>\n",
              "      <td>16.31</td>\n",
              "      <td>1</td>\n",
              "    </tr>\n",
              "    <tr>\n",
              "      <th>6</th>\n",
              "      <td>2.0</td>\n",
              "      <td>9.0</td>\n",
              "      <td>0.01</td>\n",
              "      <td>8.21</td>\n",
              "      <td>29.40</td>\n",
              "      <td>21.18</td>\n",
              "      <td>87.59</td>\n",
              "      <td>1.60</td>\n",
              "      <td>23.00</td>\n",
              "      <td>25.20</td>\n",
              "      <td>17.66</td>\n",
              "      <td>1</td>\n",
              "    </tr>\n",
              "    <tr>\n",
              "      <th>...</th>\n",
              "      <td>...</td>\n",
              "      <td>...</td>\n",
              "      <td>...</td>\n",
              "      <td>...</td>\n",
              "      <td>...</td>\n",
              "      <td>...</td>\n",
              "      <td>...</td>\n",
              "      <td>...</td>\n",
              "      <td>...</td>\n",
              "      <td>...</td>\n",
              "      <td>...</td>\n",
              "      <td>...</td>\n",
              "    </tr>\n",
              "    <tr>\n",
              "      <th>104</th>\n",
              "      <td>29.0</td>\n",
              "      <td>9.0</td>\n",
              "      <td>-0.33</td>\n",
              "      <td>11.55</td>\n",
              "      <td>26.35</td>\n",
              "      <td>14.80</td>\n",
              "      <td>88.15</td>\n",
              "      <td>6.01</td>\n",
              "      <td>18.92</td>\n",
              "      <td>20.96</td>\n",
              "      <td>13.77</td>\n",
              "      <td>2</td>\n",
              "    </tr>\n",
              "    <tr>\n",
              "      <th>105</th>\n",
              "      <td>30.0</td>\n",
              "      <td>8.0</td>\n",
              "      <td>-0.21</td>\n",
              "      <td>10.16</td>\n",
              "      <td>27.15</td>\n",
              "      <td>17.00</td>\n",
              "      <td>61.54</td>\n",
              "      <td>7.52</td>\n",
              "      <td>14.97</td>\n",
              "      <td>22.62</td>\n",
              "      <td>10.61</td>\n",
              "      <td>3</td>\n",
              "    </tr>\n",
              "    <tr>\n",
              "      <th>106</th>\n",
              "      <td>30.0</td>\n",
              "      <td>9.0</td>\n",
              "      <td>-0.27</td>\n",
              "      <td>9.32</td>\n",
              "      <td>21.10</td>\n",
              "      <td>11.78</td>\n",
              "      <td>72.31</td>\n",
              "      <td>3.46</td>\n",
              "      <td>11.06</td>\n",
              "      <td>15.97</td>\n",
              "      <td>8.23</td>\n",
              "      <td>5</td>\n",
              "    </tr>\n",
              "    <tr>\n",
              "      <th>108</th>\n",
              "      <td>30.0</td>\n",
              "      <td>10.0</td>\n",
              "      <td>0.21</td>\n",
              "      <td>5.72</td>\n",
              "      <td>11.62</td>\n",
              "      <td>5.90</td>\n",
              "      <td>83.46</td>\n",
              "      <td>4.29</td>\n",
              "      <td>5.96</td>\n",
              "      <td>8.61</td>\n",
              "      <td>5.82</td>\n",
              "      <td>1</td>\n",
              "    </tr>\n",
              "    <tr>\n",
              "      <th>109</th>\n",
              "      <td>31.0</td>\n",
              "      <td>10.0</td>\n",
              "      <td>1.85</td>\n",
              "      <td>8.58</td>\n",
              "      <td>10.13</td>\n",
              "      <td>1.55</td>\n",
              "      <td>72.50</td>\n",
              "      <td>7.18</td>\n",
              "      <td>1.30</td>\n",
              "      <td>5.82</td>\n",
              "      <td>4.10</td>\n",
              "      <td>1</td>\n",
              "    </tr>\n",
              "  </tbody>\n",
              "</table>\n",
              "<p>71 rows × 12 columns</p>\n",
              "</div>"
            ],
            "text/plain": [
              "       DY    MO    PS  T2M_RANGE  ...  T2MDEW    T2M   QV2M  docked_b\n",
              "0     1.0   8.0  0.14       9.68  ...   21.05  26.85  15.53         2\n",
              "2     1.0   9.0  0.56       7.80  ...   19.74  22.34  14.35         7\n",
              "4     1.0  10.0  0.16      10.40  ...   11.04  16.79   8.18         1\n",
              "5     2.0   8.0  0.03      10.09  ...   21.85  28.65  16.31         1\n",
              "6     2.0   9.0  0.01       8.21  ...   23.00  25.20  17.66         1\n",
              "..    ...   ...   ...        ...  ...     ...    ...    ...       ...\n",
              "104  29.0   9.0 -0.33      11.55  ...   18.92  20.96  13.77         2\n",
              "105  30.0   8.0 -0.21      10.16  ...   14.97  22.62  10.61         3\n",
              "106  30.0   9.0 -0.27       9.32  ...   11.06  15.97   8.23         5\n",
              "108  30.0  10.0  0.21       5.72  ...    5.96   8.61   5.82         1\n",
              "109  31.0  10.0  1.85       8.58  ...    1.30   5.82   4.10         1\n",
              "\n",
              "[71 rows x 12 columns]"
            ]
          },
          "metadata": {
            "tags": []
          },
          "execution_count": 14
        }
      ]
    },
    {
      "cell_type": "code",
      "metadata": {
        "id": "gr4wB5w9Xl_F",
        "colab": {
          "base_uri": "https://localhost:8080/",
          "height": 402
        },
        "outputId": "fc00af3e-3afb-41a1-b0ea-29b7214ebf97"
      },
      "source": [
        "modified.corr()"
      ],
      "execution_count": null,
      "outputs": [
        {
          "output_type": "execute_result",
          "data": {
            "text/html": [
              "<div>\n",
              "<style scoped>\n",
              "    .dataframe tbody tr th:only-of-type {\n",
              "        vertical-align: middle;\n",
              "    }\n",
              "\n",
              "    .dataframe tbody tr th {\n",
              "        vertical-align: top;\n",
              "    }\n",
              "\n",
              "    .dataframe thead th {\n",
              "        text-align: right;\n",
              "    }\n",
              "</style>\n",
              "<table border=\"1\" class=\"dataframe\">\n",
              "  <thead>\n",
              "    <tr style=\"text-align: right;\">\n",
              "      <th></th>\n",
              "      <th>DY</th>\n",
              "      <th>MO</th>\n",
              "      <th>PS</th>\n",
              "      <th>T2M_RANGE</th>\n",
              "      <th>T2M_MAX</th>\n",
              "      <th>T2M_MIN</th>\n",
              "      <th>RH2M</th>\n",
              "      <th>WS50M_RANGE</th>\n",
              "      <th>T2MDEW</th>\n",
              "      <th>T2M</th>\n",
              "      <th>QV2M</th>\n",
              "      <th>docked_b</th>\n",
              "    </tr>\n",
              "  </thead>\n",
              "  <tbody>\n",
              "    <tr>\n",
              "      <th>DY</th>\n",
              "      <td>1.000000</td>\n",
              "      <td>-0.037726</td>\n",
              "      <td>-0.084852</td>\n",
              "      <td>0.046371</td>\n",
              "      <td>-0.187189</td>\n",
              "      <td>-0.180929</td>\n",
              "      <td>0.181728</td>\n",
              "      <td>-0.088596</td>\n",
              "      <td>-0.095614</td>\n",
              "      <td>-0.193283</td>\n",
              "      <td>-0.088715</td>\n",
              "      <td>-0.035373</td>\n",
              "    </tr>\n",
              "    <tr>\n",
              "      <th>MO</th>\n",
              "      <td>-0.037726</td>\n",
              "      <td>1.000000</td>\n",
              "      <td>0.351309</td>\n",
              "      <td>0.366845</td>\n",
              "      <td>-0.773483</td>\n",
              "      <td>-0.825302</td>\n",
              "      <td>-0.008511</td>\n",
              "      <td>-0.017158</td>\n",
              "      <td>-0.698756</td>\n",
              "      <td>-0.828805</td>\n",
              "      <td>-0.740939</td>\n",
              "      <td>-0.104512</td>\n",
              "    </tr>\n",
              "    <tr>\n",
              "      <th>PS</th>\n",
              "      <td>-0.084852</td>\n",
              "      <td>0.351309</td>\n",
              "      <td>1.000000</td>\n",
              "      <td>0.252629</td>\n",
              "      <td>-0.509703</td>\n",
              "      <td>-0.548599</td>\n",
              "      <td>-0.296771</td>\n",
              "      <td>-0.083482</td>\n",
              "      <td>-0.574968</td>\n",
              "      <td>-0.545636</td>\n",
              "      <td>-0.547619</td>\n",
              "      <td>-0.004032</td>\n",
              "    </tr>\n",
              "    <tr>\n",
              "      <th>T2M_RANGE</th>\n",
              "      <td>0.046371</td>\n",
              "      <td>0.366845</td>\n",
              "      <td>0.252629</td>\n",
              "      <td>1.000000</td>\n",
              "      <td>-0.092106</td>\n",
              "      <td>-0.520726</td>\n",
              "      <td>-0.587425</td>\n",
              "      <td>0.138569</td>\n",
              "      <td>-0.504186</td>\n",
              "      <td>-0.332847</td>\n",
              "      <td>-0.522479</td>\n",
              "      <td>-0.058006</td>\n",
              "    </tr>\n",
              "    <tr>\n",
              "      <th>T2M_MAX</th>\n",
              "      <td>-0.187189</td>\n",
              "      <td>-0.773483</td>\n",
              "      <td>-0.509703</td>\n",
              "      <td>-0.092106</td>\n",
              "      <td>1.000000</td>\n",
              "      <td>0.898056</td>\n",
              "      <td>0.103138</td>\n",
              "      <td>-0.122028</td>\n",
              "      <td>0.851248</td>\n",
              "      <td>0.967323</td>\n",
              "      <td>0.850211</td>\n",
              "      <td>0.088425</td>\n",
              "    </tr>\n",
              "    <tr>\n",
              "      <th>T2M_MIN</th>\n",
              "      <td>-0.180929</td>\n",
              "      <td>-0.825302</td>\n",
              "      <td>-0.548599</td>\n",
              "      <td>-0.520726</td>\n",
              "      <td>0.898056</td>\n",
              "      <td>1.000000</td>\n",
              "      <td>0.347864</td>\n",
              "      <td>-0.165782</td>\n",
              "      <td>0.952543</td>\n",
              "      <td>0.976400</td>\n",
              "      <td>0.959714</td>\n",
              "      <td>0.101501</td>\n",
              "    </tr>\n",
              "    <tr>\n",
              "      <th>RH2M</th>\n",
              "      <td>0.181728</td>\n",
              "      <td>-0.008511</td>\n",
              "      <td>-0.296771</td>\n",
              "      <td>-0.587425</td>\n",
              "      <td>0.103138</td>\n",
              "      <td>0.347864</td>\n",
              "      <td>1.000000</td>\n",
              "      <td>-0.335193</td>\n",
              "      <td>0.576466</td>\n",
              "      <td>0.234096</td>\n",
              "      <td>0.535904</td>\n",
              "      <td>-0.028261</td>\n",
              "    </tr>\n",
              "    <tr>\n",
              "      <th>WS50M_RANGE</th>\n",
              "      <td>-0.088596</td>\n",
              "      <td>-0.017158</td>\n",
              "      <td>-0.083482</td>\n",
              "      <td>0.138569</td>\n",
              "      <td>-0.122028</td>\n",
              "      <td>-0.165782</td>\n",
              "      <td>-0.335193</td>\n",
              "      <td>1.000000</td>\n",
              "      <td>-0.241770</td>\n",
              "      <td>-0.137556</td>\n",
              "      <td>-0.241665</td>\n",
              "      <td>-0.315772</td>\n",
              "    </tr>\n",
              "    <tr>\n",
              "      <th>T2MDEW</th>\n",
              "      <td>-0.095614</td>\n",
              "      <td>-0.698756</td>\n",
              "      <td>-0.574968</td>\n",
              "      <td>-0.504186</td>\n",
              "      <td>0.851248</td>\n",
              "      <td>0.952543</td>\n",
              "      <td>0.576466</td>\n",
              "      <td>-0.241770</td>\n",
              "      <td>1.000000</td>\n",
              "      <td>0.928928</td>\n",
              "      <td>0.987786</td>\n",
              "      <td>0.078092</td>\n",
              "    </tr>\n",
              "    <tr>\n",
              "      <th>T2M</th>\n",
              "      <td>-0.193283</td>\n",
              "      <td>-0.828805</td>\n",
              "      <td>-0.545636</td>\n",
              "      <td>-0.332847</td>\n",
              "      <td>0.967323</td>\n",
              "      <td>0.976400</td>\n",
              "      <td>0.234096</td>\n",
              "      <td>-0.137556</td>\n",
              "      <td>0.928928</td>\n",
              "      <td>1.000000</td>\n",
              "      <td>0.932988</td>\n",
              "      <td>0.097535</td>\n",
              "    </tr>\n",
              "    <tr>\n",
              "      <th>QV2M</th>\n",
              "      <td>-0.088715</td>\n",
              "      <td>-0.740939</td>\n",
              "      <td>-0.547619</td>\n",
              "      <td>-0.522479</td>\n",
              "      <td>0.850211</td>\n",
              "      <td>0.959714</td>\n",
              "      <td>0.535904</td>\n",
              "      <td>-0.241665</td>\n",
              "      <td>0.987786</td>\n",
              "      <td>0.932988</td>\n",
              "      <td>1.000000</td>\n",
              "      <td>0.058245</td>\n",
              "    </tr>\n",
              "    <tr>\n",
              "      <th>docked_b</th>\n",
              "      <td>-0.035373</td>\n",
              "      <td>-0.104512</td>\n",
              "      <td>-0.004032</td>\n",
              "      <td>-0.058006</td>\n",
              "      <td>0.088425</td>\n",
              "      <td>0.101501</td>\n",
              "      <td>-0.028261</td>\n",
              "      <td>-0.315772</td>\n",
              "      <td>0.078092</td>\n",
              "      <td>0.097535</td>\n",
              "      <td>0.058245</td>\n",
              "      <td>1.000000</td>\n",
              "    </tr>\n",
              "  </tbody>\n",
              "</table>\n",
              "</div>"
            ],
            "text/plain": [
              "                   DY        MO        PS  ...       T2M      QV2M  docked_b\n",
              "DY           1.000000 -0.037726 -0.084852  ... -0.193283 -0.088715 -0.035373\n",
              "MO          -0.037726  1.000000  0.351309  ... -0.828805 -0.740939 -0.104512\n",
              "PS          -0.084852  0.351309  1.000000  ... -0.545636 -0.547619 -0.004032\n",
              "T2M_RANGE    0.046371  0.366845  0.252629  ... -0.332847 -0.522479 -0.058006\n",
              "T2M_MAX     -0.187189 -0.773483 -0.509703  ...  0.967323  0.850211  0.088425\n",
              "T2M_MIN     -0.180929 -0.825302 -0.548599  ...  0.976400  0.959714  0.101501\n",
              "RH2M         0.181728 -0.008511 -0.296771  ...  0.234096  0.535904 -0.028261\n",
              "WS50M_RANGE -0.088596 -0.017158 -0.083482  ... -0.137556 -0.241665 -0.315772\n",
              "T2MDEW      -0.095614 -0.698756 -0.574968  ...  0.928928  0.987786  0.078092\n",
              "T2M         -0.193283 -0.828805 -0.545636  ...  1.000000  0.932988  0.097535\n",
              "QV2M        -0.088715 -0.740939 -0.547619  ...  0.932988  1.000000  0.058245\n",
              "docked_b    -0.035373 -0.104512 -0.004032  ...  0.097535  0.058245  1.000000\n",
              "\n",
              "[12 rows x 12 columns]"
            ]
          },
          "metadata": {
            "tags": []
          },
          "execution_count": 15
        }
      ]
    },
    {
      "cell_type": "code",
      "metadata": {
        "id": "HtWcsYBPX5en",
        "colab": {
          "base_uri": "https://localhost:8080/",
          "height": 663
        },
        "outputId": "85e3d642-37dc-4bd7-c901-c4007c6cd842"
      },
      "source": [
        "plt.figure(figsize=(16,10))\n",
        "sns.heatmap(modified.corr(), annot=True)\n",
        "plt.show()"
      ],
      "execution_count": null,
      "outputs": [
        {
          "output_type": "display_data",
          "data": {
            "image/png": "[encoded data removed]",
            "text/plain": [
              "<Figure size 1152x720 with 2 Axes>"
            ]
          },
          "metadata": {
            "tags": [],
            "needs_background": "light"
          }
        }
      ]
    },
    {
      "cell_type": "code",
      "metadata": {
        "id": "PzALkvPMwWB0",
        "colab": {
          "base_uri": "https://localhost:8080/"
        },
        "outputId": "24c86d5a-4b29-4e09-dde0-b667aaf4c3f5"
      },
      "source": [
        "docked_count = modified['docked_b'].sum()\n",
        "print (docked_count)\n",
        "electric_count = df2['electric_b'].sum()\n",
        "print (electric_count)\n"
      ],
      "execution_count": null,
      "outputs": [
        {
          "output_type": "stream",
          "text": [
            "169\n",
            "79\n"
          ],
          "name": "stdout"
        }
      ]
    },
    {
      "cell_type": "code",
      "metadata": {
        "colab": {
          "base_uri": "https://localhost:8080/"
        },
        "id": "qXHQbUwH-rBk",
        "outputId": "69a86a4b-48bb-45f3-fe86-f571105184da"
      },
      "source": [
        "index = modified.index\n",
        "number_of_rows = len(index)\n",
        "number_of_rows"
      ],
      "execution_count": null,
      "outputs": [
        {
          "output_type": "execute_result",
          "data": {
            "text/plain": [
              "71"
            ]
          },
          "metadata": {
            "tags": []
          },
          "execution_count": 18
        }
      ]
    },
    {
      "cell_type": "code",
      "metadata": {
        "id": "mf2UoKUTRJCL",
        "colab": {
          "base_uri": "https://localhost:8080/"
        },
        "outputId": "d7cf9121-742f-4b88-b207-cdc376fc36ae"
      },
      "source": [
        "from sklearn.svm import SVC\n",
        "!pip3 install quandl\n",
        "!pip3 install sklearn\n",
        "import quandl, math\n",
        "from sklearn.model_selection import cross_validate\n",
        "from sklearn.model_selection import train_test_split\n",
        "from sklearn import preprocessing, svm\n",
        "from sklearn.linear_model import LinearRegression"
      ],
      "execution_count": null,
      "outputs": [
        {
          "output_type": "stream",
          "text": [
            "Requirement already satisfied: quandl in /usr/local/lib/python3.7/dist-packages (3.6.1)\n",
            "Requirement already satisfied: requests>=2.7.0 in /usr/local/lib/python3.7/dist-packages (from quandl) (2.23.0)\n",
            "Requirement already satisfied: inflection>=0.3.1 in /usr/local/lib/python3.7/dist-packages (from quandl) (0.5.1)\n",
            "Requirement already satisfied: six in /usr/local/lib/python3.7/dist-packages (from quandl) (1.15.0)\n",
            "Requirement already satisfied: more-itertools in /usr/local/lib/python3.7/dist-packages (from quandl) (8.7.0)\n",
            "Requirement already satisfied: pandas>=0.14 in /usr/local/lib/python3.7/dist-packages (from quandl) (1.1.5)\n",
            "Requirement already satisfied: python-dateutil in /usr/local/lib/python3.7/dist-packages (from quandl) (2.8.1)\n",
            "Requirement already satisfied: numpy>=1.8 in /usr/local/lib/python3.7/dist-packages (from quandl) (1.19.5)\n",
            "Requirement already satisfied: chardet<4,>=3.0.2 in /usr/local/lib/python3.7/dist-packages (from requests>=2.7.0->quandl) (3.0.4)\n",
            "Requirement already satisfied: idna<3,>=2.5 in /usr/local/lib/python3.7/dist-packages (from requests>=2.7.0->quandl) (2.10)\n",
            "Requirement already satisfied: certifi>=2017.4.17 in /usr/local/lib/python3.7/dist-packages (from requests>=2.7.0->quandl) (2020.12.5)\n",
            "Requirement already satisfied: urllib3!=1.25.0,!=1.25.1,<1.26,>=1.21.1 in /usr/local/lib/python3.7/dist-packages (from requests>=2.7.0->quandl) (1.24.3)\n",
            "Requirement already satisfied: pytz>=2017.2 in /usr/local/lib/python3.7/dist-packages (from pandas>=0.14->quandl) (2018.9)\n",
            "Requirement already satisfied: sklearn in /usr/local/lib/python3.7/dist-packages (0.0)\n",
            "Requirement already satisfied: scikit-learn in /usr/local/lib/python3.7/dist-packages (from sklearn) (0.22.2.post1)\n",
            "Requirement already satisfied: numpy>=1.11.0 in /usr/local/lib/python3.7/dist-packages (from scikit-learn->sklearn) (1.19.5)\n",
            "Requirement already satisfied: scipy>=0.17.0 in /usr/local/lib/python3.7/dist-packages (from scikit-learn->sklearn) (1.4.1)\n",
            "Requirement already satisfied: joblib>=0.11 in /usr/local/lib/python3.7/dist-packages (from scikit-learn->sklearn) (1.0.1)\n"
          ],
          "name": "stdout"
        }
      ]
    },
    {
      "cell_type": "code",
      "metadata": {
        "id": "eavCdbkDxcCn"
      },
      "source": [
        "\n",
        "X = modified.drop(['docked_b'], 1)\n",
        "y = modified['docked_b']"
      ],
      "execution_count": null,
      "outputs": []
    },
    {
      "cell_type": "code",
      "metadata": {
        "id": "7cuW5NAZ7nKz"
      },
      "source": [
        "X = np.array(X)\n",
        "y = np.array(y)"
      ],
      "execution_count": null,
      "outputs": []
    },
    {
      "cell_type": "code",
      "metadata": {
        "id": "pFwqmt0Rf9y4"
      },
      "source": [
        "from sklearn.model_selection import train_test_split\n",
        "\n",
        "X_train, X_test, y_train, y_test = train_test_split(X, y, test_size=0.2, random_state=0)"
      ],
      "execution_count": null,
      "outputs": []
    },
    {
      "cell_type": "code",
      "metadata": {
        "id": "YLguCmauf_LM"
      },
      "source": [
        "from sklearn.preprocessing import StandardScaler\n",
        "\n",
        "sc = StandardScaler()\n",
        "X_train = sc.fit_transform(X_train)\n",
        "X_test = sc.transform(X_test)"
      ],
      "execution_count": null,
      "outputs": []
    },
    {
      "cell_type": "code",
      "metadata": {
        "id": "9HAOsDs1gCuN"
      },
      "source": [
        "from sklearn.ensemble import RandomForestRegressor\n",
        "\n",
        "regressor = RandomForestRegressor(n_estimators=10, random_state=20)\n",
        "regressor.fit(X_train, y_train)\n",
        "y_pred = regressor.predict(X_test)"
      ],
      "execution_count": null,
      "outputs": []
    },
    {
      "cell_type": "code",
      "metadata": {
        "id": "GvuxzML-gGsH",
        "colab": {
          "base_uri": "https://localhost:8080/"
        },
        "outputId": "5fb892a6-be2c-459e-8cb6-9af25c69fa73"
      },
      "source": [
        "from sklearn import metrics\n",
        "\n",
        "print('Mean Absolute Error:', metrics.mean_absolute_error(y_test, y_pred))\n",
        "print('Mean Squared Error:', metrics.mean_squared_error(y_test, y_pred))\n",
        "print('Root Mean Squared Error:', np.sqrt(metrics.mean_squared_error(y_test, y_pred)))"
      ],
      "execution_count": null,
      "outputs": [
        {
          "output_type": "stream",
          "text": [
            "Mean Absolute Error: 1.22\n",
            "Mean Squared Error: 2.0966666666666667\n",
            "Root Mean Squared Error: 1.4479871085982314\n"
          ],
          "name": "stdout"
        }
      ]
    },
    {
      "cell_type": "code",
      "metadata": {
        "id": "pyo6K5ys2-mJ"
      },
      "source": [
        "#X = preprocessing.scale(X)"
      ],
      "execution_count": null,
      "outputs": []
    },
    {
      "cell_type": "code",
      "metadata": {
        "id": "A3N7O-fl3Gg5"
      },
      "source": [
        "X_train, X_test, y_train, y_test = train_test_split(X, y, test_size=0.2,random_state=20)"
      ],
      "execution_count": null,
      "outputs": []
    },
    {
      "cell_type": "code",
      "metadata": {
        "id": "pF6clCVG3LxE"
      },
      "source": [
        "clf = LinearRegression()"
      ],
      "execution_count": null,
      "outputs": []
    },
    {
      "cell_type": "code",
      "metadata": {
        "id": "4m-grhQT3OW5",
        "colab": {
          "base_uri": "https://localhost:8080/"
        },
        "outputId": "1747aa52-b241-4fe0-9090-5f8d2910563e"
      },
      "source": [
        "clf.fit(X_train, y_train)\n",
        "y_pred=clf.predict(X_test)\n",
        "y_pred = np.ceil(y_pred)\n",
        "y_pred"
      ],
      "execution_count": null,
      "outputs": [
        {
          "output_type": "execute_result",
          "data": {
            "text/plain": [
              "array([3., 3., 3., 3., 4., 3., 4., 4., 3., 3., 3., 4., 2., 3., 3.])"
            ]
          },
          "metadata": {
            "tags": []
          },
          "execution_count": 29
        }
      ]
    },
    {
      "cell_type": "code",
      "metadata": {
        "id": "3pFT0oXyhhst",
        "colab": {
          "base_uri": "https://localhost:8080/"
        },
        "outputId": "ca541a0e-03d8-4e34-a760-21c6f44e4e05"
      },
      "source": [
        "y_test"
      ],
      "execution_count": null,
      "outputs": [
        {
          "output_type": "execute_result",
          "data": {
            "text/plain": [
              "array([3, 1, 4, 1, 1, 2, 1, 2, 1, 1, 1, 5, 5, 1, 5])"
            ]
          },
          "metadata": {
            "tags": []
          },
          "execution_count": 30
        }
      ]
    },
    {
      "cell_type": "code",
      "metadata": {
        "id": "Gcum_8hmBRGR",
        "colab": {
          "base_uri": "https://localhost:8080/"
        },
        "outputId": "f087d8d5-c5f1-4502-bf51-8cc856e86bb0"
      },
      "source": [
        "#To retrieve the intercept:\n",
        "print(clf.intercept_)\n",
        "\n",
        "#For retrieving the slope:\n",
        "print(clf.coef_)"
      ],
      "execution_count": null,
      "outputs": [
        {
          "output_type": "stream",
          "text": [
            "65.44908755651379\n",
            "[-3.09569905e-02 -1.00163931e+00 -3.49329666e-03 -1.30518195e+01\n",
            "  1.27037889e+01 -1.32475466e+01 -4.94013433e-01 -4.26014608e-01\n",
            "  2.93798144e+00 -1.80998971e+00 -1.00983561e+00]\n"
          ],
          "name": "stdout"
        }
      ]
    },
    {
      "cell_type": "code",
      "metadata": {
        "id": "BTS_JvWklXmj",
        "colab": {
          "base_uri": "https://localhost:8080/"
        },
        "outputId": "54e0eb77-4691-42b0-f359-d6fa0c7ddb6f"
      },
      "source": [
        "from sklearn.metrics import mean_squared_log_error\n",
        "msleDT=mean_squared_log_error(y_pred,y_test)\n",
        "rmsleLR=np.sqrt(msleDT)\n",
        "print('RMLSE for the data:',rmsleLR)"
      ],
      "execution_count": null,
      "outputs": [
        {
          "output_type": "stream",
          "text": [
            "RMLSE for the data: 0.6128343141626714\n"
          ],
          "name": "stdout"
        }
      ]
    },
    {
      "cell_type": "code",
      "metadata": {
        "id": "HjSm4CErenuX",
        "colab": {
          "base_uri": "https://localhost:8080/"
        },
        "outputId": "a816fe0f-523e-4408-9de8-4201a3e7a473"
      },
      "source": [
        "from sklearn.preprocessing import StandardScaler\n",
        "from sklearn.ensemble import RandomForestRegressor\n",
        "from sklearn.metrics import mean_squared_error\n",
        "from sklearn.metrics import mean_squared_log_error\n",
        "ls = []\n",
        "mse_list=[]\n",
        "num_test = (number_of_rows*20)//100\n",
        "for i in range(0,number_of_rows):\n",
        "  u = (i)%number_of_rows\n",
        "  v = (num_test+i)%number_of_rows\n",
        "  if v >= num_test:\n",
        "    x = modified[u:v]\n",
        "    y = modified[v:]\n",
        "    z = modified[:u]\n",
        "    y = y.append(z)\n",
        "  else:\n",
        "    x = modified[v:u]\n",
        "    y = modified[u:]\n",
        "    z = modified[:v]\n",
        "    y = y.append(z)\n",
        "  y = pd.DataFrame(y)\n",
        "  x = pd.DataFrame(x)\n",
        "  X_train = np.array(x.drop(['docked_b'], 1))\n",
        "  y_train = np.array(x['docked_b'])\n",
        "  X_test = np.array(y.drop(['docked_b'], 1))\n",
        "  y_test = np.array(y['docked_b'])\n",
        "  sc = StandardScaler()\n",
        "  X_train = sc.fit_transform(X_train)\n",
        "  X_test = sc.transform(X_test)\n",
        "  regressor = LinearRegression()\n",
        "  regressor.fit(X_train, y_train)\n",
        "  y_pred = regressor.predict(X_test)\n",
        "  mse_reg = mean_squared_error(y_test, y_pred)\n",
        "  rmsleRF=np.sqrt(mse_reg)\n",
        "  ls.append(rmsleRF)\n",
        "  mse_list.append(mse_reg)\n",
        "LinearRegression_max_e = np.max(ls)\n",
        "LinearRegression_e = np.mean(ls)\n",
        "mean_mse_LinearRegression_e = np.mean(mse_reg)\n",
        "LinearRegression_max_e"
      ],
      "execution_count": null,
      "outputs": [
        {
          "output_type": "execute_result",
          "data": {
            "text/plain": [
              "58.11262097134578"
            ]
          },
          "metadata": {
            "tags": []
          },
          "execution_count": 33
        }
      ]
    },
    {
      "cell_type": "code",
      "metadata": {
        "id": "qTfeG66E-EfJ",
        "colab": {
          "base_uri": "https://localhost:8080/"
        },
        "outputId": "73b76c49-eea9-4c97-f1f9-cab22ad69658"
      },
      "source": [
        "from sklearn.tree import DecisionTreeRegressor\n",
        "#DecisionTreeRegressor class has many parameters. Input only #random_state=0 or 42.\n",
        "regressor = DecisionTreeRegressor(random_state=0)\n",
        "#Fit the regressor object to the dataset.\n",
        "regressor.fit(X_train, y_train)\n",
        "y_pred = regressor.predict(X_test)\n",
        "confidence = regressor.score(X_test, y_test)\n",
        "print(confidence)"
      ],
      "execution_count": null,
      "outputs": [
        {
          "output_type": "stream",
          "text": [
            "-3.3157894736842106\n"
          ],
          "name": "stdout"
        }
      ]
    },
    {
      "cell_type": "code",
      "metadata": {
        "id": "FACWpH7MJuKH",
        "colab": {
          "base_uri": "https://localhost:8080/"
        },
        "outputId": "dd42420b-5783-446f-f7a0-5b05cf71dd65"
      },
      "source": [
        "from sklearn.metrics import mean_squared_log_error\n",
        "msleDT=mean_squared_log_error(y_pred,y_test)\n",
        "rmsleDT=np.sqrt(msleDT)\n",
        "print('RMLSE for the data:',rmsleDT)"
      ],
      "execution_count": null,
      "outputs": [
        {
          "output_type": "stream",
          "text": [
            "RMLSE for the data: 0.868522374017886\n"
          ],
          "name": "stdout"
        }
      ]
    },
    {
      "cell_type": "code",
      "metadata": {
        "id": "eSqFg_dSZMrF",
        "colab": {
          "base_uri": "https://localhost:8080/"
        },
        "outputId": "0d4cbc3f-8251-4ed6-f647-ba28b0587d7a"
      },
      "source": [
        "from sklearn.preprocessing import StandardScaler\n",
        "from sklearn.ensemble import RandomForestRegressor\n",
        "from sklearn.metrics import mean_squared_error\n",
        "ls = []\n",
        "mse_list=[]\n",
        "num_test = (number_of_rows*20)//100\n",
        "for i in range(0,number_of_rows):\n",
        "  u = (i)%number_of_rows\n",
        "  v = (num_test+i)%number_of_rows\n",
        "  if v >= num_test:\n",
        "    x = modified[u:v]\n",
        "    y = modified[v:]\n",
        "    z = modified[:u]\n",
        "    y = y.append(z)\n",
        "  else:\n",
        "    x = modified[v:u]\n",
        "    y = modified[u:]\n",
        "    z = modified[:v]\n",
        "    y = y.append(z)\n",
        "  y = pd.DataFrame(y)\n",
        "  x = pd.DataFrame(x)\n",
        "  X_train = np.array(x.drop(['docked_b'], 1))\n",
        "  y_train = np.array(x['docked_b'])\n",
        "  X_test = np.array(y.drop(['docked_b'], 1))\n",
        "  y_test = np.array(y['docked_b'])\n",
        "  sc = StandardScaler()\n",
        "  X_train = sc.fit_transform(X_train)\n",
        "  X_test = sc.transform(X_test)\n",
        "  regressor = DecisionTreeRegressor(random_state=0)\n",
        "  regressor.fit(X_train, y_train)\n",
        "  y_pred = regressor.predict(X_test)\n",
        "  mse_reg = mean_squared_error(y_test, y_pred)\n",
        "  msleDT=mean_squared_log_error(y_pred,y_test)\n",
        "  rmsleRF=np.sqrt(msleDT)\n",
        "  ls.append(rmsleRF)\n",
        "  mse_list.append(mse_reg)\n",
        "Decision_tree_max_e = np.max(ls)\n",
        "Decision_tree_e = np.mean(ls)\n",
        "mean_mse_Decision_tree_e = np.mean(mse_reg)\n",
        "Decision_tree_max_e"
      ],
      "execution_count": null,
      "outputs": [
        {
          "output_type": "execute_result",
          "data": {
            "text/plain": [
              "0.868522374017886"
            ]
          },
          "metadata": {
            "tags": []
          },
          "execution_count": 36
        }
      ]
    },
    {
      "cell_type": "code",
      "metadata": {
        "id": "g4ibD40nBEr6",
        "colab": {
          "base_uri": "https://localhost:8080/"
        },
        "outputId": "6eba3389-e583-4586-d4ea-49ef26238eaa"
      },
      "source": [
        "from sklearn.preprocessing import StandardScaler\n",
        "\n",
        "sc = StandardScaler()\n",
        "#X_train = sc.fit_transform(X_train)\n",
        "#X_test = sc.transform(X_test)\n",
        "from sklearn.ensemble import RandomForestRegressor\n",
        "\n",
        "regressor = RandomForestRegressor(n_estimators=20, random_state=0)\n",
        "regressor.fit(X_train, y_train)\n",
        "y_pred = regressor.predict(X_test)\n",
        "confidence = regressor.score(X_test, y_test)\n",
        "print(confidence)"
      ],
      "execution_count": null,
      "outputs": [
        {
          "output_type": "stream",
          "text": [
            "-1.374013157894737\n"
          ],
          "name": "stdout"
        }
      ]
    },
    {
      "cell_type": "code",
      "metadata": {
        "id": "2E-ZW_8gJrCg",
        "colab": {
          "base_uri": "https://localhost:8080/"
        },
        "outputId": "80950b4c-f3dc-4df2-9b74-6fabdf4c3766"
      },
      "source": [
        "from sklearn.metrics import mean_squared_log_error\n",
        "msle=mean_squared_log_error(y_pred,y_test)\n",
        "rmsleRF=np.sqrt(msle)\n",
        "print('RMLSE for the data:',rmsleRF)"
      ],
      "execution_count": null,
      "outputs": [
        {
          "output_type": "stream",
          "text": [
            "RMLSE for the data: 0.7178275276344859\n"
          ],
          "name": "stdout"
        }
      ]
    },
    {
      "cell_type": "code",
      "metadata": {
        "id": "cfuPfrp-rJZ9",
        "colab": {
          "base_uri": "https://localhost:8080/"
        },
        "outputId": "60edc380-5985-43ee-9aee-329fd42b3535"
      },
      "source": [
        "from sklearn.preprocessing import StandardScaler\n",
        "from sklearn.ensemble import RandomForestRegressor\n",
        "from sklearn.metrics import mean_squared_error\n",
        "ls = []\n",
        "mse_list=[]\n",
        "num_test = (number_of_rows*20)//100\n",
        "for i in range(0,number_of_rows):\n",
        "  u = (i)%number_of_rows\n",
        "  v = (num_test+i)%number_of_rows\n",
        "  if v >= num_test:\n",
        "    x = modified[u:v]\n",
        "    y = modified[v:]\n",
        "    z = modified[:u]\n",
        "    y = y.append(z)\n",
        "  else:\n",
        "    x = modified[v:u]\n",
        "    y = modified[u:]\n",
        "    z = modified[:v]\n",
        "    y = y.append(z)\n",
        "  y = pd.DataFrame(y)\n",
        "  x = pd.DataFrame(x)\n",
        "  X_train = np.array(x.drop(['docked_b'], 1))\n",
        "  y_train = np.array(x['docked_b'])\n",
        "  X_test = np.array(y.drop(['docked_b'], 1))\n",
        "  y_test = np.array(y['docked_b'])\n",
        "  sc = StandardScaler()\n",
        "  X_train = sc.fit_transform(X_train)\n",
        "  X_test = sc.transform(X_test)\n",
        "  regressor = RandomForestRegressor(n_estimators=10, random_state=20)\n",
        "  regressor.fit(X_train, y_train)\n",
        "  y_pred = regressor.predict(X_test)\n",
        "  mse_reg = mean_squared_error(y_test, y_pred)\n",
        "  msleDT=mean_squared_log_error(y_pred,y_test)\n",
        "  rmsleRF=np.sqrt(msleDT)\n",
        "  ls.append(rmsleRF)\n",
        "  mse_list.append(mse_reg)\n",
        "Random_forest_max_e = np.max(ls)\n",
        "Random_regression_e = np.mean(ls)\n",
        "mean_mse_forest_e = np.mean(mse_reg)\n",
        "Random_forest_max_e"
      ],
      "execution_count": null,
      "outputs": [
        {
          "output_type": "execute_result",
          "data": {
            "text/plain": [
              "0.7353763183259591"
            ]
          },
          "metadata": {
            "tags": []
          },
          "execution_count": 39
        }
      ]
    },
    {
      "cell_type": "code",
      "metadata": {
        "id": "oDh-mBdOEC29",
        "colab": {
          "base_uri": "https://localhost:8080/"
        },
        "outputId": "a8a1c25a-a478-4805-e073-74229047650f"
      },
      "source": [
        "# Load libraries\n",
        "from sklearn.ensemble import AdaBoostClassifier\n",
        "from sklearn import datasets\n",
        "# Import train_test_split function\n",
        "from sklearn.model_selection import train_test_split\n",
        "#Import scikit-learn metrics module for accuracy calculation\n",
        "from sklearn import metrics\n",
        "X = modified.drop(['docked_b'], 1)\n",
        "y = modified['docked_b']\n",
        "X_train, X_test, y_train, y_test = train_test_split(X, y, test_size=0.3)\n",
        "abc = AdaBoostClassifier(n_estimators=50,\n",
        "                         learning_rate=1)\n",
        "# Train Adaboost Classifer\n",
        "model = abc.fit(X_train, y_train)\n",
        "y_pred = abc.predict(X_test)\n",
        "confidence = abc.score(X_test, y_test)\n",
        "print(confidence)\n"
      ],
      "execution_count": null,
      "outputs": [
        {
          "output_type": "stream",
          "text": [
            "0.2727272727272727\n"
          ],
          "name": "stdout"
        }
      ]
    },
    {
      "cell_type": "code",
      "metadata": {
        "id": "0UTL-B6pFRQ1",
        "colab": {
          "base_uri": "https://localhost:8080/"
        },
        "outputId": "3791e1aa-42ca-4756-f3a9-31bb0f022d90"
      },
      "source": [
        "from sklearn.metrics import mean_squared_log_error\n",
        "msle=mean_squared_log_error(y_pred,y_test)\n",
        "rmsleADB=np.sqrt(msle)\n",
        "print('RMLSE for the data:',rmsleADB)"
      ],
      "execution_count": null,
      "outputs": [
        {
          "output_type": "stream",
          "text": [
            "RMLSE for the data: 0.8064132218581502\n"
          ],
          "name": "stdout"
        }
      ]
    },
    {
      "cell_type": "code",
      "metadata": {
        "id": "Iwt-bFVkc5JA",
        "colab": {
          "base_uri": "https://localhost:8080/"
        },
        "outputId": "297835e5-d977-4d24-e47c-3c80b975da9f"
      },
      "source": [
        "from sklearn.preprocessing import StandardScaler\n",
        "from sklearn.ensemble import RandomForestRegressor\n",
        "from sklearn.metrics import mean_squared_error\n",
        "ls = []\n",
        "mse_list=[]\n",
        "num_test = (number_of_rows*20)//100\n",
        "for i in range(0,number_of_rows):\n",
        "  u = (i)%number_of_rows\n",
        "  v = (num_test+i)%number_of_rows\n",
        "  if v >= num_test:\n",
        "    x = modified[u:v]\n",
        "    y = modified[v:]\n",
        "    z = modified[:u]\n",
        "    y = y.append(z)\n",
        "  else:\n",
        "    x = modified[v:u]\n",
        "    y = modified[u:]\n",
        "    z = modified[:v]\n",
        "    y = y.append(z)\n",
        "  y = pd.DataFrame(y)\n",
        "  x = pd.DataFrame(x)\n",
        "  X_train = np.array(x.drop(['docked_b'], 1))\n",
        "  y_train = np.array(x['docked_b'])\n",
        "  X_test = np.array(y.drop(['docked_b'], 1))\n",
        "  y_test = np.array(y['docked_b'])\n",
        "  sc = StandardScaler()\n",
        "  X_train = sc.fit_transform(X_train)\n",
        "  X_test = sc.transform(X_test)\n",
        "  regressor = AdaBoostClassifier(random_state=0)\n",
        "  regressor.fit(X_train, y_train)\n",
        "  y_pred = regressor.predict(X_test)\n",
        "  mse_reg = mean_squared_error(y_test, y_pred)\n",
        "  msleDT=mean_squared_log_error(y_pred,y_test)\n",
        "  rmsleRF=np.sqrt(msleDT)\n",
        "  ls.append(rmsleRF)\n",
        "  mse_list.append(mse_reg)\n",
        "AdaBoostClassifier_max_e = np.max(ls)\n",
        "AdaBoostClassifier_e = np.mean(ls)\n",
        "mean_mse_AdaBoostClassifier_e = np.mean(mse_reg)\n",
        "AdaBoostClassifier_max_e"
      ],
      "execution_count": null,
      "outputs": [
        {
          "output_type": "execute_result",
          "data": {
            "text/plain": [
              "0.8204432279236396"
            ]
          },
          "metadata": {
            "tags": []
          },
          "execution_count": 42
        }
      ]
    },
    {
      "cell_type": "markdown",
      "metadata": {
        "id": "MwAGOkSZxrLv"
      },
      "source": [
        "-------------------Electric Bike--------------------"
      ]
    },
    {
      "cell_type": "code",
      "metadata": {
        "id": "moFU-diSA0mJ"
      },
      "source": [
        "modified = df2"
      ],
      "execution_count": null,
      "outputs": []
    },
    {
      "cell_type": "code",
      "metadata": {
        "id": "AoX8qZv7eJuZ"
      },
      "source": [
        "X = modified.drop(['electric_b'], 1)\n",
        "y = modified['electric_b']"
      ],
      "execution_count": null,
      "outputs": []
    },
    {
      "cell_type": "code",
      "metadata": {
        "id": "CvPHWcYMOrCT",
        "colab": {
          "base_uri": "https://localhost:8080/",
          "height": 663
        },
        "outputId": "dfc76b19-edf3-481a-9d2c-187c4f4bfd23"
      },
      "source": [
        "import seaborn as sns\n",
        "#Using Pearson Correlation\n",
        "plt.figure(figsize=(12,10))\n",
        "cor = X.corr()\n",
        "sns.heatmap(cor, annot=True, cmap=plt.cm.CMRmap_r)\n",
        "plt.show()"
      ],
      "execution_count": null,
      "outputs": [
        {
          "output_type": "display_data",
          "data": {
            "image/png": "[encoded data removed]",
            "text/plain": [
              "<Figure size 864x720 with 2 Axes>"
            ]
          },
          "metadata": {
            "tags": [],
            "needs_background": "light"
          }
        }
      ]
    },
    {
      "cell_type": "code",
      "metadata": {
        "id": "qhjRLWMtOrCX"
      },
      "source": [
        "# with the following function we can select highly correlated features\n",
        "# it will remove the first feature that is correlated with anything other feature\n",
        "\n",
        "def correlation(dataset, threshold):\n",
        "    col_corr = set()  # Set of all the names of correlated columns\n",
        "    corr_matrix = dataset.corr()\n",
        "    for i in range(len(corr_matrix.columns)):\n",
        "        for j in range(i):\n",
        "            if abs(corr_matrix.iloc[i, j]) > threshold: # we are interested in absolute coeff value\n",
        "                colname = corr_matrix.columns[i]  # getting the name of column\n",
        "                col_corr.add(colname)\n",
        "    return col_corr"
      ],
      "execution_count": null,
      "outputs": []
    },
    {
      "cell_type": "code",
      "metadata": {
        "id": "M1DdkuhlOrCZ"
      },
      "source": [
        "#corr_features = correlation(X, 0.7)\n",
        "#len(set(corr_features))"
      ],
      "execution_count": null,
      "outputs": []
    },
    {
      "cell_type": "code",
      "metadata": {
        "id": "GCZFOGbcOrCa"
      },
      "source": [
        "#X.drop(corr_features,axis=1)"
      ],
      "execution_count": null,
      "outputs": []
    },
    {
      "cell_type": "code",
      "metadata": {
        "id": "aBhsfHmROrCc"
      },
      "source": [
        "#corr_features"
      ],
      "execution_count": null,
      "outputs": []
    },
    {
      "cell_type": "code",
      "metadata": {
        "id": "U8Gu9O_sejY-"
      },
      "source": [
        "X = preprocessing.scale(X)\n",
        "X_train, X_test, y_train, y_test = train_test_split(X, y, test_size=0.2)\n",
        "clf = LinearRegression()"
      ],
      "execution_count": null,
      "outputs": []
    },
    {
      "cell_type": "code",
      "metadata": {
        "id": "jk5iRQNQejlD",
        "colab": {
          "base_uri": "https://localhost:8080/"
        },
        "outputId": "e6b0eb34-8ecf-436f-f2d4-59c3a61de055"
      },
      "source": [
        "clf.fit(X_train, y_train)\n",
        "confidence = clf.score(X_test, y_test)\n",
        "print(confidence)\n"
      ],
      "execution_count": null,
      "outputs": [
        {
          "output_type": "stream",
          "text": [
            "-2.0547911528220193\n"
          ],
          "name": "stdout"
        }
      ]
    },
    {
      "cell_type": "code",
      "metadata": {
        "id": "huMRJyJUej09",
        "colab": {
          "base_uri": "https://localhost:8080/"
        },
        "outputId": "5cf9937d-bbbc-4d6c-82ba-51aa317c8104"
      },
      "source": [
        "U=clf.predict(X_test)\n",
        "U"
      ],
      "execution_count": null,
      "outputs": [
        {
          "output_type": "execute_result",
          "data": {
            "text/plain": [
              "array([1.69859187, 1.9516142 , 2.78054282, 2.16403739, 3.47485178,\n",
              "       1.41517675, 2.21852008, 1.62672601])"
            ]
          },
          "metadata": {
            "tags": []
          },
          "execution_count": 52
        }
      ]
    },
    {
      "cell_type": "code",
      "metadata": {
        "id": "gDWlpqaHgM6v",
        "colab": {
          "base_uri": "https://localhost:8080/"
        },
        "outputId": "64706db9-090a-4726-9d7f-26b6491f0b0f"
      },
      "source": [
        "y_test"
      ],
      "execution_count": null,
      "outputs": [
        {
          "output_type": "execute_result",
          "data": {
            "text/plain": [
              "91    3\n",
              "77    2\n",
              "15    1\n",
              "34    3\n",
              "67    1\n",
              "86    2\n",
              "24    2\n",
              "1     2\n",
              "Name: electric_b, dtype: int64"
            ]
          },
          "metadata": {
            "tags": []
          },
          "execution_count": 53
        }
      ]
    },
    {
      "cell_type": "code",
      "metadata": {
        "id": "tp_cTCoagSNL",
        "colab": {
          "base_uri": "https://localhost:8080/"
        },
        "outputId": "bae975f0-fb6b-42b6-89c9-ea5e6399faa6"
      },
      "source": [
        "clf.score(X_test,y_test)"
      ],
      "execution_count": null,
      "outputs": [
        {
          "output_type": "execute_result",
          "data": {
            "text/plain": [
              "-2.0547911528220193"
            ]
          },
          "metadata": {
            "tags": []
          },
          "execution_count": 54
        }
      ]
    },
    {
      "cell_type": "code",
      "metadata": {
        "id": "4jUiVWQNqWbJ",
        "colab": {
          "base_uri": "https://localhost:8080/"
        },
        "outputId": "bbc5f276-c28f-4aff-d68e-e4a4230cfe85"
      },
      "source": [
        "from sklearn.model_selection import KFold # import KFold\n",
        "#X = np.array([[1, 2], [3, 4], [1, 2], [3, 4]]) # create an array\n",
        "#y = np.array([1, 2, 3, 4]) # Create another array\n",
        "#X = modified.drop(['PS','electric_b','count'], 1)\n",
        "#y = modified['electric_b']\n",
        "kf = KFold(n_splits=5) # Define the split - into 2 folds \n",
        "kf.get_n_splits(X) # returns the number of splitting iterations in the cross-validator\n",
        "print(kf) \n",
        "KFold(n_splits=5, random_state=None, shuffle=False)"
      ],
      "execution_count": null,
      "outputs": [
        {
          "output_type": "stream",
          "text": [
            "KFold(n_splits=5, random_state=None, shuffle=False)\n"
          ],
          "name": "stdout"
        },
        {
          "output_type": "execute_result",
          "data": {
            "text/plain": [
              "KFold(n_splits=5, random_state=None, shuffle=False)"
            ]
          },
          "metadata": {
            "tags": []
          },
          "execution_count": 55
        }
      ]
    },
    {
      "cell_type": "code",
      "metadata": {
        "id": "SQiqeZprqafm"
      },
      "source": [
        "# Necessary imports: \n",
        "from sklearn.model_selection import cross_val_score, cross_val_predict\n",
        "from sklearn import metrics"
      ],
      "execution_count": null,
      "outputs": []
    },
    {
      "cell_type": "code",
      "metadata": {
        "id": "I3o_0mWtq5-t",
        "colab": {
          "base_uri": "https://localhost:8080/"
        },
        "outputId": "7f7507df-9098-4d5b-f834-9164ffc1ae98"
      },
      "source": [
        "# Perform 6-fold cross validation\n",
        "cv_4_results = cross_val_score(clf, X, y, cv=25,)\n",
        "cv_4_results = abs(cv_4_results)\n",
        "print ('Cross-validated scores:', abs(cv_4_results))\n",
        "#print('mean score', mean(cv_4_results))\n"
      ],
      "execution_count": null,
      "outputs": [
        {
          "output_type": "stream",
          "text": [
            "Cross-validated scores: [0.         0.41483953 0.         0.         0.         0.82342407\n",
            " 0.73675865 2.98765234 0.         0.80478005 5.9396819  3.23418595\n",
            " 0.         0.77514095        nan        nan        nan        nan\n",
            "        nan        nan        nan        nan        nan        nan\n",
            "        nan]\n"
          ],
          "name": "stdout"
        },
        {
          "output_type": "stream",
          "text": [
            "/usr/local/lib/python3.7/dist-packages/sklearn/metrics/_regression.py:582: UndefinedMetricWarning: R^2 score is not well-defined with less than two samples.\n",
            "  warnings.warn(msg, UndefinedMetricWarning)\n",
            "/usr/local/lib/python3.7/dist-packages/sklearn/metrics/_regression.py:582: UndefinedMetricWarning: R^2 score is not well-defined with less than two samples.\n",
            "  warnings.warn(msg, UndefinedMetricWarning)\n",
            "/usr/local/lib/python3.7/dist-packages/sklearn/metrics/_regression.py:582: UndefinedMetricWarning: R^2 score is not well-defined with less than two samples.\n",
            "  warnings.warn(msg, UndefinedMetricWarning)\n",
            "/usr/local/lib/python3.7/dist-packages/sklearn/metrics/_regression.py:582: UndefinedMetricWarning: R^2 score is not well-defined with less than two samples.\n",
            "  warnings.warn(msg, UndefinedMetricWarning)\n",
            "/usr/local/lib/python3.7/dist-packages/sklearn/metrics/_regression.py:582: UndefinedMetricWarning: R^2 score is not well-defined with less than two samples.\n",
            "  warnings.warn(msg, UndefinedMetricWarning)\n",
            "/usr/local/lib/python3.7/dist-packages/sklearn/metrics/_regression.py:582: UndefinedMetricWarning: R^2 score is not well-defined with less than two samples.\n",
            "  warnings.warn(msg, UndefinedMetricWarning)\n",
            "/usr/local/lib/python3.7/dist-packages/sklearn/metrics/_regression.py:582: UndefinedMetricWarning: R^2 score is not well-defined with less than two samples.\n",
            "  warnings.warn(msg, UndefinedMetricWarning)\n",
            "/usr/local/lib/python3.7/dist-packages/sklearn/metrics/_regression.py:582: UndefinedMetricWarning: R^2 score is not well-defined with less than two samples.\n",
            "  warnings.warn(msg, UndefinedMetricWarning)\n",
            "/usr/local/lib/python3.7/dist-packages/sklearn/metrics/_regression.py:582: UndefinedMetricWarning: R^2 score is not well-defined with less than two samples.\n",
            "  warnings.warn(msg, UndefinedMetricWarning)\n",
            "/usr/local/lib/python3.7/dist-packages/sklearn/metrics/_regression.py:582: UndefinedMetricWarning: R^2 score is not well-defined with less than two samples.\n",
            "  warnings.warn(msg, UndefinedMetricWarning)\n",
            "/usr/local/lib/python3.7/dist-packages/sklearn/metrics/_regression.py:582: UndefinedMetricWarning: R^2 score is not well-defined with less than two samples.\n",
            "  warnings.warn(msg, UndefinedMetricWarning)\n"
          ],
          "name": "stderr"
        }
      ]
    },
    {
      "cell_type": "code",
      "metadata": {
        "id": "qUsHM606wB6Q"
      },
      "source": [
        "import pandas\n",
        "from sklearn.model_selection import KFold\n",
        "from sklearn.preprocessing import MinMaxScaler\n",
        "from sklearn.svm import SVR\n",
        "import numpy as np"
      ],
      "execution_count": null,
      "outputs": []
    },
    {
      "cell_type": "code",
      "metadata": {
        "id": "T5HmX9cMUePY"
      },
      "source": [
        "\n",
        "X = modified.drop(['electric_b'], 1)\n",
        "y = modified['electric_b']"
      ],
      "execution_count": null,
      "outputs": []
    },
    {
      "cell_type": "code",
      "metadata": {
        "colab": {
          "base_uri": "https://localhost:8080/"
        },
        "id": "7lAdBLPYFBj3",
        "outputId": "b32335b5-9604-45c9-9b87-6838d8bc5921"
      },
      "source": [
        "index = modified.index\n",
        "number_of_rows = len(index)\n",
        "number_of_rows"
      ],
      "execution_count": null,
      "outputs": [
        {
          "output_type": "execute_result",
          "data": {
            "text/plain": [
              "39"
            ]
          },
          "metadata": {
            "tags": []
          },
          "execution_count": 60
        }
      ]
    },
    {
      "cell_type": "code",
      "metadata": {
        "id": "oCjO0HG0VURP",
        "colab": {
          "base_uri": "https://localhost:8080/",
          "height": 663
        },
        "outputId": "85d64128-f3b7-40b5-eeb5-b47194dc52b1"
      },
      "source": [
        "import seaborn as sns\n",
        "#Using Pearson Correlation\n",
        "plt.figure(figsize=(12,10))\n",
        "cor = X.corr()\n",
        "sns.heatmap(cor, annot=True, cmap=plt.cm.CMRmap_r)\n",
        "plt.show()"
      ],
      "execution_count": null,
      "outputs": [
        {
          "output_type": "display_data",
          "data": {
            "image/png": "[encoded data removed]",
            "text/plain": [
              "<Figure size 864x720 with 2 Axes>"
            ]
          },
          "metadata": {
            "tags": [],
            "needs_background": "light"
          }
        }
      ]
    },
    {
      "cell_type": "code",
      "metadata": {
        "id": "InKsiE2UwdxT"
      },
      "source": [
        "\n",
        "X = np.array(X)\n",
        "y = np.array(y)"
      ],
      "execution_count": null,
      "outputs": []
    },
    {
      "cell_type": "code",
      "metadata": {
        "id": "7co3VsKBl1V8"
      },
      "source": [
        "X = preprocessing.scale(X)\n",
        "X_train, X_test, y_train, y_test = train_test_split(X, y, test_size=0.2)\n",
        "clf = LinearRegression()"
      ],
      "execution_count": null,
      "outputs": []
    },
    {
      "cell_type": "code",
      "metadata": {
        "id": "379g6Rt0l1V-"
      },
      "source": [
        "clf.fit(X_train, y_train)\n",
        "confidence = clf.score(X_test, y_test)"
      ],
      "execution_count": null,
      "outputs": []
    },
    {
      "cell_type": "code",
      "metadata": {
        "id": "Y2eQia26mRvL"
      },
      "source": [
        "y_pred = clf.predict(X_test)"
      ],
      "execution_count": null,
      "outputs": []
    },
    {
      "cell_type": "code",
      "metadata": {
        "id": "FLqXzoZbmQAs",
        "colab": {
          "base_uri": "https://localhost:8080/"
        },
        "outputId": "d9be67fe-f139-4cb5-c0a3-59c9690d77d8"
      },
      "source": [
        "from sklearn.metrics import mean_squared_log_error\n",
        "msle=mean_squared_log_error(y_pred,y_test)\n",
        "rmsleLR1=np.sqrt(msle)\n",
        "print('RMLSE for the data:',rmsleLR1)"
      ],
      "execution_count": null,
      "outputs": [
        {
          "output_type": "stream",
          "text": [
            "RMLSE for the data: 0.3556429624425124\n"
          ],
          "name": "stdout"
        }
      ]
    },
    {
      "cell_type": "code",
      "metadata": {
        "colab": {
          "base_uri": "https://localhost:8080/"
        },
        "id": "kw25ZD0Kuv_2",
        "outputId": "8cdc3df9-801a-4e7e-8ffb-bf890bd5561c"
      },
      "source": [
        "from sklearn.preprocessing import StandardScaler\n",
        "from sklearn.ensemble import RandomForestRegressor\n",
        "from sklearn.metrics import mean_squared_error\n",
        "from sklearn.metrics import mean_squared_log_error\n",
        "ls = []\n",
        "mse_list=[]\n",
        "num_test = (number_of_rows*20)//100\n",
        "for i in range(0,number_of_rows):\n",
        "  u = (i)%number_of_rows\n",
        "  v = (num_test+i)%number_of_rows\n",
        "  if v >= num_test:\n",
        "    x = modified[u:v]\n",
        "    y = modified[v:]\n",
        "    z = modified[:u]\n",
        "    y = y.append(z)\n",
        "  else:\n",
        "    x = modified[v:u]\n",
        "    y = modified[u:]\n",
        "    z = modified[:v]\n",
        "    y = y.append(z)\n",
        "  y = pd.DataFrame(y)\n",
        "  x = pd.DataFrame(x)\n",
        "  X_train = np.array(x.drop(['electric_b'], 1))\n",
        "  y_train = np.array(x['electric_b'])\n",
        "  X_test = np.array(y.drop(['electric_b'], 1))\n",
        "  y_test = np.array(y['electric_b'])\n",
        "  sc = StandardScaler()\n",
        "  X_train = sc.fit_transform(X_train)\n",
        "  X_test = sc.transform(X_test)\n",
        "  regressor = LinearRegression()\n",
        "  regressor.fit(X_train, y_train)\n",
        "  y_pred = regressor.predict(X_test)\n",
        "  mse_reg = mean_squared_error(y_test, y_pred)\n",
        "  rmsleRF=np.sqrt(mse_reg)\n",
        "  ls.append(rmsleRF)\n",
        "  mse_list.append(mse_reg)\n",
        "LinearRegression_max_e1 = np.max(ls)\n",
        "LinearRegression_e1 = np.mean(ls)\n",
        "mean_mse_LinearRegression_e1 = np.mean(mse_reg)\n",
        "LinearRegression_max_e1"
      ],
      "execution_count": null,
      "outputs": [
        {
          "output_type": "execute_result",
          "data": {
            "text/plain": [
              "22.452921680364295"
            ]
          },
          "metadata": {
            "tags": []
          },
          "execution_count": 67
        }
      ]
    },
    {
      "cell_type": "code",
      "metadata": {
        "id": "ur5s5yG5ePRn",
        "colab": {
          "base_uri": "https://localhost:8080/"
        },
        "outputId": "e2662495-65da-4220-e2b6-610b4610144c"
      },
      "source": [
        "from sklearn.tree import DecisionTreeRegressor\n",
        "#DecisionTreeRegressor class has many parameters. Input only #random_state=0 or 42.\n",
        "regressor = DecisionTreeRegressor(random_state=0)\n",
        "#Fit the regressor object to the dataset.\n",
        "regressor.fit(X_train, y_train)\n",
        "y_pred = regressor.predict(X_test)\n",
        "confidence = regressor.score(X_test, y_test)\n",
        "print(confidence)"
      ],
      "execution_count": null,
      "outputs": [
        {
          "output_type": "stream",
          "text": [
            "-6.807692307692308\n"
          ],
          "name": "stdout"
        }
      ]
    },
    {
      "cell_type": "code",
      "metadata": {
        "id": "iMvQcM7TePRn",
        "colab": {
          "base_uri": "https://localhost:8080/"
        },
        "outputId": "34b370e2-f3e5-4ac9-fddd-2536dbb168fb"
      },
      "source": [
        "from sklearn.metrics import mean_squared_log_error\n",
        "msle=mean_squared_log_error(y_pred,y_test)\n",
        "rmsleDT1=np.sqrt(msle)\n",
        "print('RMLSE for the data:',rmsleDT1)"
      ],
      "execution_count": null,
      "outputs": [
        {
          "output_type": "stream",
          "text": [
            "RMLSE for the data: 0.6285958325231996\n"
          ],
          "name": "stdout"
        }
      ]
    },
    {
      "cell_type": "code",
      "metadata": {
        "colab": {
          "base_uri": "https://localhost:8080/"
        },
        "id": "Wnjrrh7dvCKI",
        "outputId": "59f25a7f-2998-42a9-9c19-7d611c8e705b"
      },
      "source": [
        "from sklearn.preprocessing import StandardScaler\n",
        "from sklearn.ensemble import RandomForestRegressor\n",
        "from sklearn.metrics import mean_squared_error\n",
        "ls = []\n",
        "mse_list=[]\n",
        "num_test = (number_of_rows*20)//100\n",
        "for i in range(0,number_of_rows):\n",
        "  u = (i)%number_of_rows\n",
        "  v = (num_test+i)%number_of_rows\n",
        "  if v >= num_test:\n",
        "    x = modified[u:v]\n",
        "    y = modified[v:]\n",
        "    z = modified[:u]\n",
        "    y = y.append(z)\n",
        "  else:\n",
        "    x = modified[v:u]\n",
        "    y = modified[u:]\n",
        "    z = modified[:v]\n",
        "    y = y.append(z)\n",
        "  y = pd.DataFrame(y)\n",
        "  x = pd.DataFrame(x)\n",
        "  X_train = np.array(x.drop(['electric_b'], 1))\n",
        "  y_train = np.array(x['electric_b'])\n",
        "  X_test = np.array(y.drop(['electric_b'], 1))\n",
        "  y_test = np.array(y['electric_b'])\n",
        "  sc = StandardScaler()\n",
        "  X_train = sc.fit_transform(X_train)\n",
        "  X_test = sc.transform(X_test)\n",
        "  regressor = DecisionTreeRegressor(random_state=0)\n",
        "  regressor.fit(X_train, y_train)\n",
        "  y_pred = regressor.predict(X_test)\n",
        "  mse_reg = mean_squared_error(y_test, y_pred)\n",
        "  msleDT=mean_squared_log_error(y_pred,y_test)\n",
        "  rmsleRF=np.sqrt(msleDT)\n",
        "  ls.append(rmsleRF)\n",
        "  mse_list.append(mse_reg)\n",
        "Decision_tree_max_e1 = np.max(ls)\n",
        "Decision_tree_e1 = np.mean(ls)\n",
        "mean_mse_Decision_tree_e1 = np.mean(mse_reg)\n",
        "Decision_tree_max_e1"
      ],
      "execution_count": null,
      "outputs": [
        {
          "output_type": "execute_result",
          "data": {
            "text/plain": [
              "0.6285958325231996"
            ]
          },
          "metadata": {
            "tags": []
          },
          "execution_count": 70
        }
      ]
    },
    {
      "cell_type": "code",
      "metadata": {
        "id": "ABGCmM0QePRo",
        "colab": {
          "base_uri": "https://localhost:8080/"
        },
        "outputId": "94deccc0-6de0-45bb-def7-a0688039b89a"
      },
      "source": [
        "from sklearn.preprocessing import StandardScaler\n",
        "\n",
        "sc = StandardScaler()\n",
        "#X_train = sc.fit_transform(X_train)\n",
        "#X_test = sc.transform(X_test)\n",
        "from sklearn.ensemble import RandomForestRegressor\n",
        "\n",
        "regressor = RandomForestRegressor(n_estimators=20, random_state=0)\n",
        "regressor.fit(X_train, y_train)\n",
        "y_pred = regressor.predict(X_test)\n",
        "confidence = regressor.score(X_test, y_test)\n",
        "print(confidence)"
      ],
      "execution_count": null,
      "outputs": [
        {
          "output_type": "stream",
          "text": [
            "-1.6068269230769228\n"
          ],
          "name": "stdout"
        }
      ]
    },
    {
      "cell_type": "code",
      "metadata": {
        "id": "oWC2Hp3SePRp",
        "colab": {
          "base_uri": "https://localhost:8080/"
        },
        "outputId": "c6479b8e-2e7e-46de-caac-7490a9e57e8a"
      },
      "source": [
        "from sklearn.metrics import mean_squared_log_error\n",
        "msle=mean_squared_log_error(y_pred,y_test)\n",
        "rmsleRF1=np.sqrt(msle)\n",
        "print('RMLSE for the data:',rmsleRF1)"
      ],
      "execution_count": null,
      "outputs": [
        {
          "output_type": "stream",
          "text": [
            "RMLSE for the data: 0.4261213537777778\n"
          ],
          "name": "stdout"
        }
      ]
    },
    {
      "cell_type": "code",
      "metadata": {
        "colab": {
          "base_uri": "https://localhost:8080/"
        },
        "id": "lB18ywYxvQdA",
        "outputId": "e16e035b-e404-4ae8-a6d8-fc5b6498446c"
      },
      "source": [
        "from sklearn.preprocessing import StandardScaler\n",
        "from sklearn.ensemble import RandomForestRegressor\n",
        "from sklearn.metrics import mean_squared_error\n",
        "ls = []\n",
        "mse_list=[]\n",
        "num_test = (number_of_rows*20)//100\n",
        "for i in range(0,number_of_rows):\n",
        "  u = (i)%number_of_rows\n",
        "  v = (num_test+i)%number_of_rows\n",
        "  if v >= num_test:\n",
        "    x = modified[u:v]\n",
        "    y = modified[v:]\n",
        "    z = modified[:u]\n",
        "    y = y.append(z)\n",
        "  else:\n",
        "    x = modified[v:u]\n",
        "    y = modified[u:]\n",
        "    z = modified[:v]\n",
        "    y = y.append(z)\n",
        "  y = pd.DataFrame(y)\n",
        "  x = pd.DataFrame(x)\n",
        "  X_train = np.array(x.drop(['electric_b'], 1))\n",
        "  y_train = np.array(x['electric_b'])\n",
        "  X_test = np.array(y.drop(['electric_b'], 1))\n",
        "  y_test = np.array(y['electric_b'])\n",
        "  sc = StandardScaler()\n",
        "  X_train = sc.fit_transform(X_train)\n",
        "  X_test = sc.transform(X_test)\n",
        "  regressor = RandomForestRegressor(n_estimators=10, random_state=20)\n",
        "  regressor.fit(X_train, y_train)\n",
        "  y_pred = regressor.predict(X_test)\n",
        "  mse_reg = mean_squared_error(y_test, y_pred)\n",
        "  msleDT=mean_squared_log_error(y_pred,y_test)\n",
        "  rmsleRF=np.sqrt(msleDT)\n",
        "  ls.append(rmsleRF)\n",
        "  mse_list.append(mse_reg)\n",
        "Random_forest_max_e1 = np.max(ls)\n",
        "Random_regression_e1 = np.mean(ls)\n",
        "mean_mse_forest_e1 = np.mean(mse_reg)\n",
        "Random_forest_max_e1"
      ],
      "execution_count": null,
      "outputs": [
        {
          "output_type": "execute_result",
          "data": {
            "text/plain": [
              "0.4484658580436534"
            ]
          },
          "metadata": {
            "tags": []
          },
          "execution_count": 73
        }
      ]
    },
    {
      "cell_type": "code",
      "metadata": {
        "id": "J1YDO3KCePRp",
        "colab": {
          "base_uri": "https://localhost:8080/"
        },
        "outputId": "be31d4ad-ead5-493b-a20f-2f1cd446274d"
      },
      "source": [
        "# Load libraries\n",
        "from sklearn.ensemble import AdaBoostClassifier\n",
        "from sklearn import datasets\n",
        "# Import train_test_split function\n",
        "from sklearn.model_selection import train_test_split\n",
        "#Import scikit-learn metrics module for accuracy calculation\n",
        "from sklearn import metrics\n",
        "X = modified.drop(['electric_b'], 1)\n",
        "y = modified['electric_b']\n",
        "X_train, X_test, y_train, y_test = train_test_split(X, y, test_size=0.3)\n",
        "abc = AdaBoostClassifier(n_estimators=50,\n",
        "                         learning_rate=1)\n",
        "# Train Adaboost Classifer\n",
        "model = abc.fit(X_train, y_train)\n",
        "y_pred = abc.predict(X_test)\n",
        "confidence = abc.score(X_test, y_test)\n",
        "print(confidence)\n"
      ],
      "execution_count": null,
      "outputs": [
        {
          "output_type": "stream",
          "text": [
            "0.3333333333333333\n"
          ],
          "name": "stdout"
        }
      ]
    },
    {
      "cell_type": "code",
      "metadata": {
        "id": "FdO6T1hlePRq",
        "colab": {
          "base_uri": "https://localhost:8080/"
        },
        "outputId": "ae6f768e-aba2-4a13-aad6-02cc828a5aeb"
      },
      "source": [
        "from sklearn.metrics import mean_squared_log_error\n",
        "msle=mean_squared_log_error(y_pred,y_test)\n",
        "rmsleADB1=np.sqrt(msle)\n",
        "print('RMLSE for the data:',rmsleADB1)"
      ],
      "execution_count": null,
      "outputs": [
        {
          "output_type": "stream",
          "text": [
            "RMLSE for the data: 0.34171670026025125\n"
          ],
          "name": "stdout"
        }
      ]
    },
    {
      "cell_type": "code",
      "metadata": {
        "colab": {
          "base_uri": "https://localhost:8080/"
        },
        "id": "rgI7Fyuevkml",
        "outputId": "a923488e-27b2-4b9a-e840-7acfef6bea47"
      },
      "source": [
        "from sklearn.preprocessing import StandardScaler\n",
        "from sklearn.ensemble import RandomForestRegressor\n",
        "from sklearn.metrics import mean_squared_error\n",
        "ls = []\n",
        "mse_list=[]\n",
        "num_test = (number_of_rows*20)//100\n",
        "for i in range(0,number_of_rows):\n",
        "  u = (i)%number_of_rows\n",
        "  v = (num_test+i)%number_of_rows\n",
        "  if v >= num_test:\n",
        "    x = modified[u:v]\n",
        "    y = modified[v:]\n",
        "    z = modified[:u]\n",
        "    y = y.append(z)\n",
        "  else:\n",
        "    x = modified[v:u]\n",
        "    y = modified[u:]\n",
        "    z = modified[:v]\n",
        "    y = y.append(z)\n",
        "  y = pd.DataFrame(y)\n",
        "  x = pd.DataFrame(x)\n",
        "  X_train = np.array(x.drop(['electric_b'], 1))\n",
        "  y_train = np.array(x['electric_b'])\n",
        "  X_test = np.array(y.drop(['electric_b'], 1))\n",
        "  y_test = np.array(y['electric_b'])\n",
        "  sc = StandardScaler()\n",
        "  X_train = sc.fit_transform(X_train)\n",
        "  X_test = sc.transform(X_test)\n",
        "  regressor = AdaBoostClassifier(random_state=0)\n",
        "  regressor.fit(X_train, y_train)\n",
        "  y_pred = regressor.predict(X_test)\n",
        "  mse_reg = mean_squared_error(y_test, y_pred)\n",
        "  msleDT=mean_squared_log_error(y_pred,y_test)\n",
        "  rmsleRF=np.sqrt(msleDT)\n",
        "  ls.append(rmsleRF)\n",
        "  mse_list.append(mse_reg)\n",
        "AdaBoostClassifier_max_e1 = np.max(ls)\n",
        "AdaBoostClassifier_e1 = np.mean(ls)\n",
        "mean_mse_AdaBoostClassifier_e1 = np.mean(mse_reg)\n",
        "AdaBoostClassifier_max_e1"
      ],
      "execution_count": null,
      "outputs": [
        {
          "output_type": "execute_result",
          "data": {
            "text/plain": [
              "0.5557509920195697"
            ]
          },
          "metadata": {
            "tags": []
          },
          "execution_count": 76
        }
      ]
    },
    {
      "cell_type": "code",
      "metadata": {
        "id": "eUgl3iVDxAoS",
        "colab": {
          "base_uri": "https://localhost:8080/",
          "height": 166
        },
        "outputId": "b2240350-1bed-4fed-d3e8-c45c147869f1"
      },
      "source": [
        "import pandas as pd\n",
        "\n",
        "cars = {'type': ['Linear Regression', 'Decision Tree','Random Forest','ADA Boost'],\n",
        "        'RMSLE(Docked Bike)': [rmsleLR,rmsleDT,rmsleRF,rmsleADB],\n",
        "        'RMSLE(Electric Bike]' : [rmsleLR1,rmsleDT1,rmsleRF1,rmsleADB1]\n",
        "        }\n",
        "\n",
        "df = pd.DataFrame(cars, columns = ['type', 'RMSLE(Docked Bike)','RMSLE(Electric Bike]'])\n",
        "df"
      ],
      "execution_count": null,
      "outputs": [
        {
          "output_type": "execute_result",
          "data": {
            "text/html": [
              "<div>\n",
              "<style scoped>\n",
              "    .dataframe tbody tr th:only-of-type {\n",
              "        vertical-align: middle;\n",
              "    }\n",
              "\n",
              "    .dataframe tbody tr th {\n",
              "        vertical-align: top;\n",
              "    }\n",
              "\n",
              "    .dataframe thead th {\n",
              "        text-align: right;\n",
              "    }\n",
              "</style>\n",
              "<table border=\"1\" class=\"dataframe\">\n",
              "  <thead>\n",
              "    <tr style=\"text-align: right;\">\n",
              "      <th></th>\n",
              "      <th>type</th>\n",
              "      <th>RMSLE(Docked Bike)</th>\n",
              "      <th>RMSLE(Electric Bike]</th>\n",
              "    </tr>\n",
              "  </thead>\n",
              "  <tbody>\n",
              "    <tr>\n",
              "      <th>0</th>\n",
              "      <td>Linear Regression</td>\n",
              "      <td>0.612834</td>\n",
              "      <td>0.355643</td>\n",
              "    </tr>\n",
              "    <tr>\n",
              "      <th>1</th>\n",
              "      <td>Decision Tree</td>\n",
              "      <td>0.868522</td>\n",
              "      <td>0.628596</td>\n",
              "    </tr>\n",
              "    <tr>\n",
              "      <th>2</th>\n",
              "      <td>Random Forest</td>\n",
              "      <td>0.403411</td>\n",
              "      <td>0.426121</td>\n",
              "    </tr>\n",
              "    <tr>\n",
              "      <th>3</th>\n",
              "      <td>ADA Boost</td>\n",
              "      <td>0.806413</td>\n",
              "      <td>0.341717</td>\n",
              "    </tr>\n",
              "  </tbody>\n",
              "</table>\n",
              "</div>"
            ],
            "text/plain": [
              "                type  RMSLE(Docked Bike)  RMSLE(Electric Bike]\n",
              "0  Linear Regression            0.612834              0.355643\n",
              "1      Decision Tree            0.868522              0.628596\n",
              "2      Random Forest            0.403411              0.426121\n",
              "3          ADA Boost            0.806413              0.341717"
            ]
          },
          "metadata": {
            "tags": []
          },
          "execution_count": 77
        }
      ]
    },
    {
      "cell_type": "code",
      "metadata": {
        "id": "uzhNMNg992Qq",
        "colab": {
          "base_uri": "https://localhost:8080/",
          "height": 166
        },
        "outputId": "002b1d41-1f1f-42ae-f7af-9adbca46e9b4"
      },
      "source": [
        "# after cross validation\n",
        "import pandas as pd\n",
        "\n",
        "cars = {'type': ['Linear Regression', 'Decision Tree','Random Forest','ADA Boost'],\n",
        "        'RMSLE(Docked Bike)': [LinearRegression_e,Decision_tree_e,Random_regression_e,AdaBoostClassifier_e],\n",
        "        'RMSLE(Docked Bike)(Max)': [LinearRegression_max_e,Decision_tree_max_e,Random_forest_max_e,AdaBoostClassifier_max_e],\n",
        "        'RMSLE(Electric Bike]' : [LinearRegression_e1,Decision_tree_e1,Random_regression_e1,AdaBoostClassifier_e1],\n",
        "        'RMSLE(Electric Bike](Max)' : [LinearRegression_max_e1,Decision_tree_max_e1,Random_forest_max_e1,AdaBoostClassifier_max_e1],\n",
        "        'Mean MSE' : [mean_mse_LinearRegression_e1,mean_mse_Decision_tree_e1,mean_mse_forest_e1,mean_mse_AdaBoostClassifier_e1]\n",
        "        }\n",
        "\n",
        "df = pd.DataFrame(cars, columns = ['type', 'RMSLE(Docked Bike)','RMSLE(Docked Bike)(Max)','RMSLE(Electric Bike]','RMSLE(Electric Bike](Max)','Mean MSE'])\n",
        "df"
      ],
      "execution_count": null,
      "outputs": [
        {
          "output_type": "execute_result",
          "data": {
            "text/html": [
              "<div>\n",
              "<style scoped>\n",
              "    .dataframe tbody tr th:only-of-type {\n",
              "        vertical-align: middle;\n",
              "    }\n",
              "\n",
              "    .dataframe tbody tr th {\n",
              "        vertical-align: top;\n",
              "    }\n",
              "\n",
              "    .dataframe thead th {\n",
              "        text-align: right;\n",
              "    }\n",
              "</style>\n",
              "<table border=\"1\" class=\"dataframe\">\n",
              "  <thead>\n",
              "    <tr style=\"text-align: right;\">\n",
              "      <th></th>\n",
              "      <th>type</th>\n",
              "      <th>RMSLE(Docked Bike)</th>\n",
              "      <th>RMSLE(Docked Bike)(Max)</th>\n",
              "      <th>RMSLE(Electric Bike]</th>\n",
              "      <th>RMSLE(Electric Bike](Max)</th>\n",
              "      <th>Mean MSE</th>\n",
              "    </tr>\n",
              "  </thead>\n",
              "  <tbody>\n",
              "    <tr>\n",
              "      <th>0</th>\n",
              "      <td>Linear Regression</td>\n",
              "      <td>11.336400</td>\n",
              "      <td>58.112621</td>\n",
              "      <td>6.884665</td>\n",
              "      <td>22.452922</td>\n",
              "      <td>1.638541</td>\n",
              "    </tr>\n",
              "    <tr>\n",
              "      <th>1</th>\n",
              "      <td>Decision Tree</td>\n",
              "      <td>0.644130</td>\n",
              "      <td>0.868522</td>\n",
              "      <td>0.401364</td>\n",
              "      <td>0.628596</td>\n",
              "      <td>4.142857</td>\n",
              "    </tr>\n",
              "    <tr>\n",
              "      <th>2</th>\n",
              "      <td>Random Forest</td>\n",
              "      <td>0.532953</td>\n",
              "      <td>0.735376</td>\n",
              "      <td>0.335150</td>\n",
              "      <td>0.448466</td>\n",
              "      <td>1.582857</td>\n",
              "    </tr>\n",
              "    <tr>\n",
              "      <th>3</th>\n",
              "      <td>ADA Boost</td>\n",
              "      <td>0.609472</td>\n",
              "      <td>0.820443</td>\n",
              "      <td>0.396742</td>\n",
              "      <td>0.555751</td>\n",
              "      <td>1.285714</td>\n",
              "    </tr>\n",
              "  </tbody>\n",
              "</table>\n",
              "</div>"
            ],
            "text/plain": [
              "                type  RMSLE(Docked Bike)  ...  RMSLE(Electric Bike](Max)  Mean MSE\n",
              "0  Linear Regression           11.336400  ...                  22.452922  1.638541\n",
              "1      Decision Tree            0.644130  ...                   0.628596  4.142857\n",
              "2      Random Forest            0.532953  ...                   0.448466  1.582857\n",
              "3          ADA Boost            0.609472  ...                   0.555751  1.285714\n",
              "\n",
              "[4 rows x 6 columns]"
            ]
          },
          "metadata": {
            "tags": []
          },
          "execution_count": 78
        }
      ]
    },
    {
      "cell_type": "code",
      "metadata": {
        "id": "LaWhUTc21duQ"
      },
      "source": [
        ""
      ],
      "execution_count": null,
      "outputs": []
    }
  ]
}