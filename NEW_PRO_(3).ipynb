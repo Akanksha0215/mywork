{
  "nbformat": 4,
  "nbformat_minor": 0,
  "metadata": {
    "colab": {
      "name": "NEW_PRO (3).ipynb",
      "provenance": [],
      "collapsed_sections": []
    },
    "kernelspec": {
      "display_name": "Python 3",
      "name": "python3"
    }
  },
  "cells": [
    {
      "cell_type": "code",
      "metadata": {
        "id": "4IKfoqOYoQuU"
      },
      "source": [
        "# Code to read csv file into colaboratory:\n",
        "!pip install -U -q PyDrive\n",
        "from pydrive.auth import GoogleAuth\n",
        "from pydrive.drive import GoogleDrive\n",
        "from google.colab import auth\n",
        "from oauth2client.client import GoogleCredentials\n",
        "\n",
        "import pandas as pd \n",
        "%matplotlib inline\n",
        "import matplotlib.pyplot as plt\n",
        "import numpy as np\n",
        "from scipy.stats import norm\n",
        "import seaborn as sns\n",
        "\n"
      ],
      "execution_count": 1,
      "outputs": []
    },
    {
      "cell_type": "code",
      "metadata": {
        "id": "QDoU_XCxoTUo"
      },
      "source": [
        "auth.authenticate_user()\n",
        "gauth = GoogleAuth()\n",
        "gauth.credentials = GoogleCredentials.get_application_default()\n",
        "drive = GoogleDrive(gauth)"
      ],
      "execution_count": 2,
      "outputs": []
    },
    {
      "cell_type": "code",
      "metadata": {
        "id": "1FDPfz04oYEP"
      },
      "source": [
        "\n",
        "\n",
        "\n",
        "downloaded = drive.CreateFile({'id':'1H3Dpt2nkyFhpap7CuATl_YGi2dXJFS7z'}) # replace the id with id of file you want to access\n",
        "downloaded.GetContentFile('tv.csv')\n",
        "\n",
        "downloaded = drive.CreateFile({'id':'1sn8YS229HGrSo_88xXwjtHjeMJJZTm8M'}) # replace the id with id of file you want to access\n",
        "downloaded.GetContentFile('TEMP_USA.csv')"
      ],
      "execution_count": 3,
      "outputs": []
    },
    {
      "cell_type": "code",
      "metadata": {
        "id": "BwRH-xonH1R8",
        "colab": {
          "base_uri": "https://localhost:8080/",
          "height": 195
        },
        "outputId": "54ed7abf-edb2-40ba-d0c5-a8b61b9639e5"
      },
      "source": [
        "#imporing capitalbikeshare-tripdata dataset\n",
        "temp = pd.read_csv(\"TEMP_USA.csv\") \n",
        "temp.head()"
      ],
      "execution_count": 4,
      "outputs": [
        {
          "output_type": "execute_result",
          "data": {
            "text/html": [
              "<div>\n",
              "<style scoped>\n",
              "    .dataframe tbody tr th:only-of-type {\n",
              "        vertical-align: middle;\n",
              "    }\n",
              "\n",
              "    .dataframe tbody tr th {\n",
              "        vertical-align: top;\n",
              "    }\n",
              "\n",
              "    .dataframe thead th {\n",
              "        text-align: right;\n",
              "    }\n",
              "</style>\n",
              "<table border=\"1\" class=\"dataframe\">\n",
              "  <thead>\n",
              "    <tr style=\"text-align: right;\">\n",
              "      <th></th>\n",
              "      <th>LAT</th>\n",
              "      <th>LON</th>\n",
              "      <th>YEAR</th>\n",
              "      <th>MO</th>\n",
              "      <th>DY</th>\n",
              "      <th>PRECTOT</th>\n",
              "      <th>QV2M</th>\n",
              "      <th>RH2M</th>\n",
              "      <th>PS</th>\n",
              "      <th>T2M_RANGE</th>\n",
              "      <th>T2M_MAX</th>\n",
              "      <th>T2M_MIN</th>\n",
              "      <th>T2MDEW</th>\n",
              "      <th>T2M</th>\n",
              "      <th>WS50M_RANGE</th>\n",
              "    </tr>\n",
              "  </thead>\n",
              "  <tbody>\n",
              "    <tr>\n",
              "      <th>0</th>\n",
              "      <td>38.88481</td>\n",
              "      <td>-77.00609</td>\n",
              "      <td>2015</td>\n",
              "      <td>1</td>\n",
              "      <td>1</td>\n",
              "      <td>0.00</td>\n",
              "      <td>2.62</td>\n",
              "      <td>71.46</td>\n",
              "      <td>101.16</td>\n",
              "      <td>9.12</td>\n",
              "      <td>5.11</td>\n",
              "      <td>-4.02</td>\n",
              "      <td>-4.87</td>\n",
              "      <td>-0.39</td>\n",
              "      <td>3.70</td>\n",
              "    </tr>\n",
              "    <tr>\n",
              "      <th>1</th>\n",
              "      <td>38.88481</td>\n",
              "      <td>-77.00609</td>\n",
              "      <td>2015</td>\n",
              "      <td>1</td>\n",
              "      <td>2</td>\n",
              "      <td>0.00</td>\n",
              "      <td>3.16</td>\n",
              "      <td>73.91</td>\n",
              "      <td>101.57</td>\n",
              "      <td>7.84</td>\n",
              "      <td>6.07</td>\n",
              "      <td>-1.76</td>\n",
              "      <td>-2.33</td>\n",
              "      <td>1.79</td>\n",
              "      <td>4.81</td>\n",
              "    </tr>\n",
              "    <tr>\n",
              "      <th>2</th>\n",
              "      <td>38.88481</td>\n",
              "      <td>-77.00609</td>\n",
              "      <td>2015</td>\n",
              "      <td>1</td>\n",
              "      <td>3</td>\n",
              "      <td>4.49</td>\n",
              "      <td>4.18</td>\n",
              "      <td>96.42</td>\n",
              "      <td>101.75</td>\n",
              "      <td>5.26</td>\n",
              "      <td>4.38</td>\n",
              "      <td>-0.87</td>\n",
              "      <td>1.35</td>\n",
              "      <td>2.02</td>\n",
              "      <td>1.49</td>\n",
              "    </tr>\n",
              "    <tr>\n",
              "      <th>3</th>\n",
              "      <td>38.88481</td>\n",
              "      <td>-77.00609</td>\n",
              "      <td>2015</td>\n",
              "      <td>1</td>\n",
              "      <td>4</td>\n",
              "      <td>10.86</td>\n",
              "      <td>7.35</td>\n",
              "      <td>98.24</td>\n",
              "      <td>100.28</td>\n",
              "      <td>11.12</td>\n",
              "      <td>14.93</td>\n",
              "      <td>3.81</td>\n",
              "      <td>8.88</td>\n",
              "      <td>9.66</td>\n",
              "      <td>6.29</td>\n",
              "    </tr>\n",
              "    <tr>\n",
              "      <th>4</th>\n",
              "      <td>38.88481</td>\n",
              "      <td>-77.00609</td>\n",
              "      <td>2015</td>\n",
              "      <td>1</td>\n",
              "      <td>5</td>\n",
              "      <td>0.00</td>\n",
              "      <td>2.34</td>\n",
              "      <td>61.61</td>\n",
              "      <td>101.63</td>\n",
              "      <td>9.17</td>\n",
              "      <td>5.02</td>\n",
              "      <td>-4.14</td>\n",
              "      <td>-6.45</td>\n",
              "      <td>0.15</td>\n",
              "      <td>7.72</td>\n",
              "    </tr>\n",
              "  </tbody>\n",
              "</table>\n",
              "</div>"
            ],
            "text/plain": [
              "        LAT       LON  YEAR  MO  ...  T2M_MIN  T2MDEW   T2M  WS50M_RANGE\n",
              "0  38.88481 -77.00609  2015   1  ...    -4.02   -4.87 -0.39         3.70\n",
              "1  38.88481 -77.00609  2015   1  ...    -1.76   -2.33  1.79         4.81\n",
              "2  38.88481 -77.00609  2015   1  ...    -0.87    1.35  2.02         1.49\n",
              "3  38.88481 -77.00609  2015   1  ...     3.81    8.88  9.66         6.29\n",
              "4  38.88481 -77.00609  2015   1  ...    -4.14   -6.45  0.15         7.72\n",
              "\n",
              "[5 rows x 15 columns]"
            ]
          },
          "metadata": {
            "tags": []
          },
          "execution_count": 4
        }
      ]
    },
    {
      "cell_type": "code",
      "metadata": {
        "colab": {
          "base_uri": "https://localhost:8080/",
          "height": 195
        },
        "id": "Z5ORIWhUes_l",
        "outputId": "af112edb-2c5c-4653-de75-f330172d45d5"
      },
      "source": [
        "#imporing capitalbikeshare-tripdata dataset\r\n",
        "df = pd.read_csv(\"tv.csv\") \r\n",
        "df.head()"
      ],
      "execution_count": 5,
      "outputs": [
        {
          "output_type": "execute_result",
          "data": {
            "text/html": [
              "<div>\n",
              "<style scoped>\n",
              "    .dataframe tbody tr th:only-of-type {\n",
              "        vertical-align: middle;\n",
              "    }\n",
              "\n",
              "    .dataframe tbody tr th {\n",
              "        vertical-align: top;\n",
              "    }\n",
              "\n",
              "    .dataframe thead th {\n",
              "        text-align: right;\n",
              "    }\n",
              "</style>\n",
              "<table border=\"1\" class=\"dataframe\">\n",
              "  <thead>\n",
              "    <tr style=\"text-align: right;\">\n",
              "      <th></th>\n",
              "      <th>Unnamed: 0</th>\n",
              "      <th>ride_id</th>\n",
              "      <th>rideable_type</th>\n",
              "      <th>started_at</th>\n",
              "      <th>start_station_id</th>\n",
              "      <th>time_to_travel</th>\n",
              "      <th>DY</th>\n",
              "      <th>MO</th>\n",
              "      <th>YEAR</th>\n",
              "    </tr>\n",
              "  </thead>\n",
              "  <tbody>\n",
              "    <tr>\n",
              "      <th>0</th>\n",
              "      <td>0</td>\n",
              "      <td>4479E04D9D45AC6B</td>\n",
              "      <td>docked_bike</td>\n",
              "      <td>2020-08-22 17:09:39</td>\n",
              "      <td>31287.0</td>\n",
              "      <td>1223.0</td>\n",
              "      <td>22.0</td>\n",
              "      <td>8.0</td>\n",
              "      <td>2020.0</td>\n",
              "    </tr>\n",
              "    <tr>\n",
              "      <th>1</th>\n",
              "      <td>1</td>\n",
              "      <td>EF88DFBC1E6648EC</td>\n",
              "      <td>docked_bike</td>\n",
              "      <td>2020-08-26 13:13:54</td>\n",
              "      <td>31271.0</td>\n",
              "      <td>287.0</td>\n",
              "      <td>26.0</td>\n",
              "      <td>8.0</td>\n",
              "      <td>2020.0</td>\n",
              "    </tr>\n",
              "    <tr>\n",
              "      <th>2</th>\n",
              "      <td>2</td>\n",
              "      <td>25812556961CFABD</td>\n",
              "      <td>docked_bike</td>\n",
              "      <td>2020-08-07 16:34:41</td>\n",
              "      <td>32014.0</td>\n",
              "      <td>2338.0</td>\n",
              "      <td>7.0</td>\n",
              "      <td>8.0</td>\n",
              "      <td>2020.0</td>\n",
              "    </tr>\n",
              "    <tr>\n",
              "      <th>3</th>\n",
              "      <td>3</td>\n",
              "      <td>1621384E51D38F1F</td>\n",
              "      <td>docked_bike</td>\n",
              "      <td>2020-08-07 20:32:05</td>\n",
              "      <td>31528.0</td>\n",
              "      <td>833.0</td>\n",
              "      <td>7.0</td>\n",
              "      <td>8.0</td>\n",
              "      <td>2020.0</td>\n",
              "    </tr>\n",
              "    <tr>\n",
              "      <th>4</th>\n",
              "      <td>4</td>\n",
              "      <td>BC10B8C7848D1FDF</td>\n",
              "      <td>docked_bike</td>\n",
              "      <td>2020-08-18 13:40:34</td>\n",
              "      <td>31122.0</td>\n",
              "      <td>513.0</td>\n",
              "      <td>18.0</td>\n",
              "      <td>8.0</td>\n",
              "      <td>2020.0</td>\n",
              "    </tr>\n",
              "  </tbody>\n",
              "</table>\n",
              "</div>"
            ],
            "text/plain": [
              "   Unnamed: 0           ride_id rideable_type  ...    DY   MO    YEAR\n",
              "0           0  4479E04D9D45AC6B   docked_bike  ...  22.0  8.0  2020.0\n",
              "1           1  EF88DFBC1E6648EC   docked_bike  ...  26.0  8.0  2020.0\n",
              "2           2  25812556961CFABD   docked_bike  ...   7.0  8.0  2020.0\n",
              "3           3  1621384E51D38F1F   docked_bike  ...   7.0  8.0  2020.0\n",
              "4           4  BC10B8C7848D1FDF   docked_bike  ...  18.0  8.0  2020.0\n",
              "\n",
              "[5 rows x 9 columns]"
            ]
          },
          "metadata": {
            "tags": []
          },
          "execution_count": 5
        }
      ]
    },
    {
      "cell_type": "code",
      "metadata": {
        "colab": {
          "base_uri": "https://localhost:8080/",
          "height": 402
        },
        "id": "pY8rdOMUySX0",
        "outputId": "aa6826f6-b61f-4422-9e4a-dae89c6175b8"
      },
      "source": [
        "s1 = df.query('start_station_id == 31131')\n",
        "s1 = s1.sort_values(by=['DY'])\n",
        "s1"
      ],
      "execution_count": 51,
      "outputs": [
        {
          "output_type": "execute_result",
          "data": {
            "text/html": [
              "<div>\n",
              "<style scoped>\n",
              "    .dataframe tbody tr th:only-of-type {\n",
              "        vertical-align: middle;\n",
              "    }\n",
              "\n",
              "    .dataframe tbody tr th {\n",
              "        vertical-align: top;\n",
              "    }\n",
              "\n",
              "    .dataframe thead th {\n",
              "        text-align: right;\n",
              "    }\n",
              "</style>\n",
              "<table border=\"1\" class=\"dataframe\">\n",
              "  <thead>\n",
              "    <tr style=\"text-align: right;\">\n",
              "      <th></th>\n",
              "      <th>Unnamed: 0</th>\n",
              "      <th>ride_id</th>\n",
              "      <th>rideable_type</th>\n",
              "      <th>started_at</th>\n",
              "      <th>start_station_id</th>\n",
              "      <th>time_to_travel</th>\n",
              "      <th>DY</th>\n",
              "      <th>MO</th>\n",
              "      <th>YEAR</th>\n",
              "    </tr>\n",
              "  </thead>\n",
              "  <tbody>\n",
              "    <tr>\n",
              "      <th>39247076</th>\n",
              "      <td>39247076</td>\n",
              "      <td>5353FF6B298080A3</td>\n",
              "      <td>docked_bike</td>\n",
              "      <td>2020-10-01 08:22:30</td>\n",
              "      <td>31131.0</td>\n",
              "      <td>1007.0</td>\n",
              "      <td>1.0</td>\n",
              "      <td>10.0</td>\n",
              "      <td>2020.0</td>\n",
              "    </tr>\n",
              "    <tr>\n",
              "      <th>5649483</th>\n",
              "      <td>5649483</td>\n",
              "      <td>E43D340103773E59</td>\n",
              "      <td>docked_bike</td>\n",
              "      <td>2020-08-01 21:42:15</td>\n",
              "      <td>31131.0</td>\n",
              "      <td>2295.0</td>\n",
              "      <td>1.0</td>\n",
              "      <td>8.0</td>\n",
              "      <td>2020.0</td>\n",
              "    </tr>\n",
              "    <tr>\n",
              "      <th>18526263</th>\n",
              "      <td>18526263</td>\n",
              "      <td>F1255779A5D65C31</td>\n",
              "      <td>docked_bike</td>\n",
              "      <td>2020-09-01 22:55:45</td>\n",
              "      <td>31131.0</td>\n",
              "      <td>236.0</td>\n",
              "      <td>1.0</td>\n",
              "      <td>9.0</td>\n",
              "      <td>2020.0</td>\n",
              "    </tr>\n",
              "    <tr>\n",
              "      <th>42831679</th>\n",
              "      <td>42831679</td>\n",
              "      <td>BFF20119F0FCEBB9</td>\n",
              "      <td>docked_bike</td>\n",
              "      <td>2020-10-01 07:42:00</td>\n",
              "      <td>31131.0</td>\n",
              "      <td>592.0</td>\n",
              "      <td>1.0</td>\n",
              "      <td>10.0</td>\n",
              "      <td>2020.0</td>\n",
              "    </tr>\n",
              "    <tr>\n",
              "      <th>8973844</th>\n",
              "      <td>8973844</td>\n",
              "      <td>88AEB2387543B67B</td>\n",
              "      <td>electric_bike</td>\n",
              "      <td>2020-08-01 18:36:31</td>\n",
              "      <td>31131.0</td>\n",
              "      <td>517.0</td>\n",
              "      <td>1.0</td>\n",
              "      <td>8.0</td>\n",
              "      <td>2020.0</td>\n",
              "    </tr>\n",
              "    <tr>\n",
              "      <th>...</th>\n",
              "      <td>...</td>\n",
              "      <td>...</td>\n",
              "      <td>...</td>\n",
              "      <td>...</td>\n",
              "      <td>...</td>\n",
              "      <td>...</td>\n",
              "      <td>...</td>\n",
              "      <td>...</td>\n",
              "      <td>...</td>\n",
              "    </tr>\n",
              "    <tr>\n",
              "      <th>43994370</th>\n",
              "      <td>43994370</td>\n",
              "      <td>3352CFAEFC8ACD69</td>\n",
              "      <td>docked_bike</td>\n",
              "      <td>2020-10-31 16:29:27</td>\n",
              "      <td>31131.0</td>\n",
              "      <td>1098.0</td>\n",
              "      <td>31.0</td>\n",
              "      <td>10.0</td>\n",
              "      <td>2020.0</td>\n",
              "    </tr>\n",
              "    <tr>\n",
              "      <th>40215232</th>\n",
              "      <td>40215232</td>\n",
              "      <td>0EC08F98DCFEE551</td>\n",
              "      <td>docked_bike</td>\n",
              "      <td>2020-10-31 22:57:50</td>\n",
              "      <td>31131.0</td>\n",
              "      <td>822.0</td>\n",
              "      <td>31.0</td>\n",
              "      <td>10.0</td>\n",
              "      <td>2020.0</td>\n",
              "    </tr>\n",
              "    <tr>\n",
              "      <th>7277382</th>\n",
              "      <td>7277382</td>\n",
              "      <td>AD4CA8A69A35D4B7</td>\n",
              "      <td>docked_bike</td>\n",
              "      <td>2020-08-31 10:53:13</td>\n",
              "      <td>31131.0</td>\n",
              "      <td>1545.0</td>\n",
              "      <td>31.0</td>\n",
              "      <td>8.0</td>\n",
              "      <td>2020.0</td>\n",
              "    </tr>\n",
              "    <tr>\n",
              "      <th>8542878</th>\n",
              "      <td>8542878</td>\n",
              "      <td>26EDA0FBF42675CC</td>\n",
              "      <td>electric_bike</td>\n",
              "      <td>2020-08-31 05:42:19</td>\n",
              "      <td>31131.0</td>\n",
              "      <td>646.0</td>\n",
              "      <td>31.0</td>\n",
              "      <td>8.0</td>\n",
              "      <td>2020.0</td>\n",
              "    </tr>\n",
              "    <tr>\n",
              "      <th>13390048</th>\n",
              "      <td>13390048</td>\n",
              "      <td>DC66CE150EF786A5</td>\n",
              "      <td>electric_bike</td>\n",
              "      <td>2020-08-31 13:04:51</td>\n",
              "      <td>31131.0</td>\n",
              "      <td>423.0</td>\n",
              "      <td>31.0</td>\n",
              "      <td>8.0</td>\n",
              "      <td>2020.0</td>\n",
              "    </tr>\n",
              "  </tbody>\n",
              "</table>\n",
              "<p>805 rows × 9 columns</p>\n",
              "</div>"
            ],
            "text/plain": [
              "          Unnamed: 0           ride_id  rideable_type  ...    DY    MO    YEAR\n",
              "39247076    39247076  5353FF6B298080A3    docked_bike  ...   1.0  10.0  2020.0\n",
              "5649483      5649483  E43D340103773E59    docked_bike  ...   1.0   8.0  2020.0\n",
              "18526263    18526263  F1255779A5D65C31    docked_bike  ...   1.0   9.0  2020.0\n",
              "42831679    42831679  BFF20119F0FCEBB9    docked_bike  ...   1.0  10.0  2020.0\n",
              "8973844      8973844  88AEB2387543B67B  electric_bike  ...   1.0   8.0  2020.0\n",
              "...              ...               ...            ...  ...   ...   ...     ...\n",
              "43994370    43994370  3352CFAEFC8ACD69    docked_bike  ...  31.0  10.0  2020.0\n",
              "40215232    40215232  0EC08F98DCFEE551    docked_bike  ...  31.0  10.0  2020.0\n",
              "7277382      7277382  AD4CA8A69A35D4B7    docked_bike  ...  31.0   8.0  2020.0\n",
              "8542878      8542878  26EDA0FBF42675CC  electric_bike  ...  31.0   8.0  2020.0\n",
              "13390048    13390048  DC66CE150EF786A5  electric_bike  ...  31.0   8.0  2020.0\n",
              "\n",
              "[805 rows x 9 columns]"
            ]
          },
          "metadata": {
            "tags": []
          },
          "execution_count": 51
        }
      ]
    },
    {
      "cell_type": "code",
      "metadata": {
        "colab": {
          "base_uri": "https://localhost:8080/",
          "height": 606
        },
        "id": "6KNSkHYlTgfm",
        "outputId": "5a4d16a5-f47c-4024-8ae8-00afb6977bb5"
      },
      "source": [
        "result = pd.merge(s1, temp, how='left', on=['DY', 'MO','YEAR'])\n",
        "result\n"
      ],
      "execution_count": 7,
      "outputs": [
        {
          "output_type": "execute_result",
          "data": {
            "text/html": [
              "<div>\n",
              "<style scoped>\n",
              "    .dataframe tbody tr th:only-of-type {\n",
              "        vertical-align: middle;\n",
              "    }\n",
              "\n",
              "    .dataframe tbody tr th {\n",
              "        vertical-align: top;\n",
              "    }\n",
              "\n",
              "    .dataframe thead th {\n",
              "        text-align: right;\n",
              "    }\n",
              "</style>\n",
              "<table border=\"1\" class=\"dataframe\">\n",
              "  <thead>\n",
              "    <tr style=\"text-align: right;\">\n",
              "      <th></th>\n",
              "      <th>Unnamed: 0</th>\n",
              "      <th>ride_id</th>\n",
              "      <th>rideable_type</th>\n",
              "      <th>started_at</th>\n",
              "      <th>start_station_id</th>\n",
              "      <th>time_to_travel</th>\n",
              "      <th>DY</th>\n",
              "      <th>MO</th>\n",
              "      <th>YEAR</th>\n",
              "      <th>LAT</th>\n",
              "      <th>LON</th>\n",
              "      <th>PRECTOT</th>\n",
              "      <th>QV2M</th>\n",
              "      <th>RH2M</th>\n",
              "      <th>PS</th>\n",
              "      <th>T2M_RANGE</th>\n",
              "      <th>T2M_MAX</th>\n",
              "      <th>T2M_MIN</th>\n",
              "      <th>T2MDEW</th>\n",
              "      <th>T2M</th>\n",
              "      <th>WS50M_RANGE</th>\n",
              "    </tr>\n",
              "  </thead>\n",
              "  <tbody>\n",
              "    <tr>\n",
              "      <th>0</th>\n",
              "      <td>39247076</td>\n",
              "      <td>5353FF6B298080A3</td>\n",
              "      <td>docked_bike</td>\n",
              "      <td>2020-10-01 08:22:30</td>\n",
              "      <td>31131.0</td>\n",
              "      <td>1007.0</td>\n",
              "      <td>1.0</td>\n",
              "      <td>10.0</td>\n",
              "      <td>2020.0</td>\n",
              "      <td>38.88481</td>\n",
              "      <td>-77.00609</td>\n",
              "      <td>7.64</td>\n",
              "      <td>9.23</td>\n",
              "      <td>80.90</td>\n",
              "      <td>100.35</td>\n",
              "      <td>10.66</td>\n",
              "      <td>21.91</td>\n",
              "      <td>11.24</td>\n",
              "      <td>12.84</td>\n",
              "      <td>16.09</td>\n",
              "      <td>4.20</td>\n",
              "    </tr>\n",
              "    <tr>\n",
              "      <th>1</th>\n",
              "      <td>5649483</td>\n",
              "      <td>E43D340103773E59</td>\n",
              "      <td>docked_bike</td>\n",
              "      <td>2020-08-01 21:42:15</td>\n",
              "      <td>31131.0</td>\n",
              "      <td>2295.0</td>\n",
              "      <td>1.0</td>\n",
              "      <td>8.0</td>\n",
              "      <td>2020.0</td>\n",
              "      <td>38.88481</td>\n",
              "      <td>-77.00609</td>\n",
              "      <td>0.79</td>\n",
              "      <td>16.02</td>\n",
              "      <td>71.38</td>\n",
              "      <td>100.29</td>\n",
              "      <td>10.49</td>\n",
              "      <td>32.45</td>\n",
              "      <td>21.97</td>\n",
              "      <td>21.57</td>\n",
              "      <td>27.07</td>\n",
              "      <td>4.17</td>\n",
              "    </tr>\n",
              "    <tr>\n",
              "      <th>2</th>\n",
              "      <td>18526263</td>\n",
              "      <td>F1255779A5D65C31</td>\n",
              "      <td>docked_bike</td>\n",
              "      <td>2020-09-01 22:55:45</td>\n",
              "      <td>31131.0</td>\n",
              "      <td>236.0</td>\n",
              "      <td>1.0</td>\n",
              "      <td>9.0</td>\n",
              "      <td>2020.0</td>\n",
              "      <td>38.88481</td>\n",
              "      <td>-77.00609</td>\n",
              "      <td>5.66</td>\n",
              "      <td>15.29</td>\n",
              "      <td>90.53</td>\n",
              "      <td>100.68</td>\n",
              "      <td>7.61</td>\n",
              "      <td>26.50</td>\n",
              "      <td>18.89</td>\n",
              "      <td>20.75</td>\n",
              "      <td>22.39</td>\n",
              "      <td>2.11</td>\n",
              "    </tr>\n",
              "    <tr>\n",
              "      <th>3</th>\n",
              "      <td>42831679</td>\n",
              "      <td>BFF20119F0FCEBB9</td>\n",
              "      <td>docked_bike</td>\n",
              "      <td>2020-10-01 07:42:00</td>\n",
              "      <td>31131.0</td>\n",
              "      <td>592.0</td>\n",
              "      <td>1.0</td>\n",
              "      <td>10.0</td>\n",
              "      <td>2020.0</td>\n",
              "      <td>38.88481</td>\n",
              "      <td>-77.00609</td>\n",
              "      <td>7.64</td>\n",
              "      <td>9.23</td>\n",
              "      <td>80.90</td>\n",
              "      <td>100.35</td>\n",
              "      <td>10.66</td>\n",
              "      <td>21.91</td>\n",
              "      <td>11.24</td>\n",
              "      <td>12.84</td>\n",
              "      <td>16.09</td>\n",
              "      <td>4.20</td>\n",
              "    </tr>\n",
              "    <tr>\n",
              "      <th>4</th>\n",
              "      <td>8973844</td>\n",
              "      <td>88AEB2387543B67B</td>\n",
              "      <td>electric_bike</td>\n",
              "      <td>2020-08-01 18:36:31</td>\n",
              "      <td>31131.0</td>\n",
              "      <td>517.0</td>\n",
              "      <td>1.0</td>\n",
              "      <td>8.0</td>\n",
              "      <td>2020.0</td>\n",
              "      <td>38.88481</td>\n",
              "      <td>-77.00609</td>\n",
              "      <td>0.79</td>\n",
              "      <td>16.02</td>\n",
              "      <td>71.38</td>\n",
              "      <td>100.29</td>\n",
              "      <td>10.49</td>\n",
              "      <td>32.45</td>\n",
              "      <td>21.97</td>\n",
              "      <td>21.57</td>\n",
              "      <td>27.07</td>\n",
              "      <td>4.17</td>\n",
              "    </tr>\n",
              "    <tr>\n",
              "      <th>...</th>\n",
              "      <td>...</td>\n",
              "      <td>...</td>\n",
              "      <td>...</td>\n",
              "      <td>...</td>\n",
              "      <td>...</td>\n",
              "      <td>...</td>\n",
              "      <td>...</td>\n",
              "      <td>...</td>\n",
              "      <td>...</td>\n",
              "      <td>...</td>\n",
              "      <td>...</td>\n",
              "      <td>...</td>\n",
              "      <td>...</td>\n",
              "      <td>...</td>\n",
              "      <td>...</td>\n",
              "      <td>...</td>\n",
              "      <td>...</td>\n",
              "      <td>...</td>\n",
              "      <td>...</td>\n",
              "      <td>...</td>\n",
              "      <td>...</td>\n",
              "    </tr>\n",
              "    <tr>\n",
              "      <th>800</th>\n",
              "      <td>43994370</td>\n",
              "      <td>3352CFAEFC8ACD69</td>\n",
              "      <td>docked_bike</td>\n",
              "      <td>2020-10-31 16:29:27</td>\n",
              "      <td>31131.0</td>\n",
              "      <td>1098.0</td>\n",
              "      <td>31.0</td>\n",
              "      <td>10.0</td>\n",
              "      <td>2020.0</td>\n",
              "      <td>38.88481</td>\n",
              "      <td>-77.00609</td>\n",
              "      <td>0.10</td>\n",
              "      <td>4.79</td>\n",
              "      <td>78.20</td>\n",
              "      <td>102.02</td>\n",
              "      <td>7.43</td>\n",
              "      <td>11.22</td>\n",
              "      <td>3.80</td>\n",
              "      <td>3.46</td>\n",
              "      <td>6.98</td>\n",
              "      <td>4.63</td>\n",
              "    </tr>\n",
              "    <tr>\n",
              "      <th>801</th>\n",
              "      <td>40215232</td>\n",
              "      <td>0EC08F98DCFEE551</td>\n",
              "      <td>docked_bike</td>\n",
              "      <td>2020-10-31 22:57:50</td>\n",
              "      <td>31131.0</td>\n",
              "      <td>822.0</td>\n",
              "      <td>31.0</td>\n",
              "      <td>10.0</td>\n",
              "      <td>2020.0</td>\n",
              "      <td>38.88481</td>\n",
              "      <td>-77.00609</td>\n",
              "      <td>0.10</td>\n",
              "      <td>4.79</td>\n",
              "      <td>78.20</td>\n",
              "      <td>102.02</td>\n",
              "      <td>7.43</td>\n",
              "      <td>11.22</td>\n",
              "      <td>3.80</td>\n",
              "      <td>3.46</td>\n",
              "      <td>6.98</td>\n",
              "      <td>4.63</td>\n",
              "    </tr>\n",
              "    <tr>\n",
              "      <th>802</th>\n",
              "      <td>7277382</td>\n",
              "      <td>AD4CA8A69A35D4B7</td>\n",
              "      <td>docked_bike</td>\n",
              "      <td>2020-08-31 10:53:13</td>\n",
              "      <td>31131.0</td>\n",
              "      <td>1545.0</td>\n",
              "      <td>31.0</td>\n",
              "      <td>8.0</td>\n",
              "      <td>2020.0</td>\n",
              "      <td>38.88481</td>\n",
              "      <td>-77.00609</td>\n",
              "      <td>15.91</td>\n",
              "      <td>13.03</td>\n",
              "      <td>85.73</td>\n",
              "      <td>100.63</td>\n",
              "      <td>5.06</td>\n",
              "      <td>23.49</td>\n",
              "      <td>18.43</td>\n",
              "      <td>18.21</td>\n",
              "      <td>20.68</td>\n",
              "      <td>3.01</td>\n",
              "    </tr>\n",
              "    <tr>\n",
              "      <th>803</th>\n",
              "      <td>8542878</td>\n",
              "      <td>26EDA0FBF42675CC</td>\n",
              "      <td>electric_bike</td>\n",
              "      <td>2020-08-31 05:42:19</td>\n",
              "      <td>31131.0</td>\n",
              "      <td>646.0</td>\n",
              "      <td>31.0</td>\n",
              "      <td>8.0</td>\n",
              "      <td>2020.0</td>\n",
              "      <td>38.88481</td>\n",
              "      <td>-77.00609</td>\n",
              "      <td>15.91</td>\n",
              "      <td>13.03</td>\n",
              "      <td>85.73</td>\n",
              "      <td>100.63</td>\n",
              "      <td>5.06</td>\n",
              "      <td>23.49</td>\n",
              "      <td>18.43</td>\n",
              "      <td>18.21</td>\n",
              "      <td>20.68</td>\n",
              "      <td>3.01</td>\n",
              "    </tr>\n",
              "    <tr>\n",
              "      <th>804</th>\n",
              "      <td>13390048</td>\n",
              "      <td>DC66CE150EF786A5</td>\n",
              "      <td>electric_bike</td>\n",
              "      <td>2020-08-31 13:04:51</td>\n",
              "      <td>31131.0</td>\n",
              "      <td>423.0</td>\n",
              "      <td>31.0</td>\n",
              "      <td>8.0</td>\n",
              "      <td>2020.0</td>\n",
              "      <td>38.88481</td>\n",
              "      <td>-77.00609</td>\n",
              "      <td>15.91</td>\n",
              "      <td>13.03</td>\n",
              "      <td>85.73</td>\n",
              "      <td>100.63</td>\n",
              "      <td>5.06</td>\n",
              "      <td>23.49</td>\n",
              "      <td>18.43</td>\n",
              "      <td>18.21</td>\n",
              "      <td>20.68</td>\n",
              "      <td>3.01</td>\n",
              "    </tr>\n",
              "  </tbody>\n",
              "</table>\n",
              "<p>805 rows × 21 columns</p>\n",
              "</div>"
            ],
            "text/plain": [
              "     Unnamed: 0           ride_id  rideable_type  ... T2MDEW    T2M  WS50M_RANGE\n",
              "0      39247076  5353FF6B298080A3    docked_bike  ...  12.84  16.09         4.20\n",
              "1       5649483  E43D340103773E59    docked_bike  ...  21.57  27.07         4.17\n",
              "2      18526263  F1255779A5D65C31    docked_bike  ...  20.75  22.39         2.11\n",
              "3      42831679  BFF20119F0FCEBB9    docked_bike  ...  12.84  16.09         4.20\n",
              "4       8973844  88AEB2387543B67B  electric_bike  ...  21.57  27.07         4.17\n",
              "..          ...               ...            ...  ...    ...    ...          ...\n",
              "800    43994370  3352CFAEFC8ACD69    docked_bike  ...   3.46   6.98         4.63\n",
              "801    40215232  0EC08F98DCFEE551    docked_bike  ...   3.46   6.98         4.63\n",
              "802     7277382  AD4CA8A69A35D4B7    docked_bike  ...  18.21  20.68         3.01\n",
              "803     8542878  26EDA0FBF42675CC  electric_bike  ...  18.21  20.68         3.01\n",
              "804    13390048  DC66CE150EF786A5  electric_bike  ...  18.21  20.68         3.01\n",
              "\n",
              "[805 rows x 21 columns]"
            ]
          },
          "metadata": {
            "tags": []
          },
          "execution_count": 7
        }
      ]
    },
    {
      "cell_type": "code",
      "metadata": {
        "colab": {
          "base_uri": "https://localhost:8080/"
        },
        "id": "nlosRnWmzatX",
        "outputId": "8d0c86c2-87e7-4e22-ba48-57212cced715"
      },
      "source": [
        "s6 =s1.groupby([\"rideable_type\",\"DY\"])\r\n",
        "s6"
      ],
      "execution_count": 8,
      "outputs": [
        {
          "output_type": "execute_result",
          "data": {
            "text/plain": [
              "<pandas.core.groupby.generic.DataFrameGroupBy object at 0x7fef096a1f90>"
            ]
          },
          "metadata": {
            "tags": []
          },
          "execution_count": 8
        }
      ]
    },
    {
      "cell_type": "code",
      "metadata": {
        "colab": {
          "base_uri": "https://localhost:8080/",
          "height": 195
        },
        "id": "rli4sSwsROvX",
        "outputId": "9f7a023a-80ca-4a25-a881-6d3fd2456421"
      },
      "source": [
        "s4 = temp.query('YEAR == 2020 and MO == 4')\n",
        "s4 = s4.sort_values(by=['MO'])\n",
        "s4.head()"
      ],
      "execution_count": 9,
      "outputs": [
        {
          "output_type": "execute_result",
          "data": {
            "text/html": [
              "<div>\n",
              "<style scoped>\n",
              "    .dataframe tbody tr th:only-of-type {\n",
              "        vertical-align: middle;\n",
              "    }\n",
              "\n",
              "    .dataframe tbody tr th {\n",
              "        vertical-align: top;\n",
              "    }\n",
              "\n",
              "    .dataframe thead th {\n",
              "        text-align: right;\n",
              "    }\n",
              "</style>\n",
              "<table border=\"1\" class=\"dataframe\">\n",
              "  <thead>\n",
              "    <tr style=\"text-align: right;\">\n",
              "      <th></th>\n",
              "      <th>LAT</th>\n",
              "      <th>LON</th>\n",
              "      <th>YEAR</th>\n",
              "      <th>MO</th>\n",
              "      <th>DY</th>\n",
              "      <th>PRECTOT</th>\n",
              "      <th>QV2M</th>\n",
              "      <th>RH2M</th>\n",
              "      <th>PS</th>\n",
              "      <th>T2M_RANGE</th>\n",
              "      <th>T2M_MAX</th>\n",
              "      <th>T2M_MIN</th>\n",
              "      <th>T2MDEW</th>\n",
              "      <th>T2M</th>\n",
              "      <th>WS50M_RANGE</th>\n",
              "    </tr>\n",
              "  </thead>\n",
              "  <tbody>\n",
              "    <tr>\n",
              "      <th>1917</th>\n",
              "      <td>38.88481</td>\n",
              "      <td>-77.00609</td>\n",
              "      <td>2020</td>\n",
              "      <td>4</td>\n",
              "      <td>1</td>\n",
              "      <td>0.68</td>\n",
              "      <td>5.14</td>\n",
              "      <td>76.67</td>\n",
              "      <td>100.00</td>\n",
              "      <td>8.51</td>\n",
              "      <td>12.53</td>\n",
              "      <td>4.01</td>\n",
              "      <td>4.20</td>\n",
              "      <td>8.02</td>\n",
              "      <td>3.69</td>\n",
              "    </tr>\n",
              "    <tr>\n",
              "      <th>1944</th>\n",
              "      <td>38.88481</td>\n",
              "      <td>-77.00609</td>\n",
              "      <td>2020</td>\n",
              "      <td>4</td>\n",
              "      <td>28</td>\n",
              "      <td>0.55</td>\n",
              "      <td>6.28</td>\n",
              "      <td>77.54</td>\n",
              "      <td>101.10</td>\n",
              "      <td>9.14</td>\n",
              "      <td>15.40</td>\n",
              "      <td>6.25</td>\n",
              "      <td>7.22</td>\n",
              "      <td>10.96</td>\n",
              "      <td>4.05</td>\n",
              "    </tr>\n",
              "    <tr>\n",
              "      <th>1943</th>\n",
              "      <td>38.88481</td>\n",
              "      <td>-77.00609</td>\n",
              "      <td>2020</td>\n",
              "      <td>4</td>\n",
              "      <td>27</td>\n",
              "      <td>1.12</td>\n",
              "      <td>5.39</td>\n",
              "      <td>72.23</td>\n",
              "      <td>100.64</td>\n",
              "      <td>9.56</td>\n",
              "      <td>15.10</td>\n",
              "      <td>5.54</td>\n",
              "      <td>4.97</td>\n",
              "      <td>9.68</td>\n",
              "      <td>4.03</td>\n",
              "    </tr>\n",
              "    <tr>\n",
              "      <th>1942</th>\n",
              "      <td>38.88481</td>\n",
              "      <td>-77.00609</td>\n",
              "      <td>2020</td>\n",
              "      <td>4</td>\n",
              "      <td>26</td>\n",
              "      <td>11.27</td>\n",
              "      <td>7.75</td>\n",
              "      <td>90.66</td>\n",
              "      <td>99.82</td>\n",
              "      <td>6.22</td>\n",
              "      <td>14.69</td>\n",
              "      <td>8.47</td>\n",
              "      <td>10.09</td>\n",
              "      <td>11.59</td>\n",
              "      <td>5.19</td>\n",
              "    </tr>\n",
              "    <tr>\n",
              "      <th>1941</th>\n",
              "      <td>38.88481</td>\n",
              "      <td>-77.00609</td>\n",
              "      <td>2020</td>\n",
              "      <td>4</td>\n",
              "      <td>25</td>\n",
              "      <td>3.82</td>\n",
              "      <td>7.28</td>\n",
              "      <td>83.55</td>\n",
              "      <td>100.59</td>\n",
              "      <td>8.58</td>\n",
              "      <td>16.52</td>\n",
              "      <td>7.94</td>\n",
              "      <td>9.30</td>\n",
              "      <td>11.99</td>\n",
              "      <td>4.42</td>\n",
              "    </tr>\n",
              "  </tbody>\n",
              "</table>\n",
              "</div>"
            ],
            "text/plain": [
              "           LAT       LON  YEAR  MO  ...  T2M_MIN  T2MDEW    T2M  WS50M_RANGE\n",
              "1917  38.88481 -77.00609  2020   4  ...     4.01    4.20   8.02         3.69\n",
              "1944  38.88481 -77.00609  2020   4  ...     6.25    7.22  10.96         4.05\n",
              "1943  38.88481 -77.00609  2020   4  ...     5.54    4.97   9.68         4.03\n",
              "1942  38.88481 -77.00609  2020   4  ...     8.47   10.09  11.59         5.19\n",
              "1941  38.88481 -77.00609  2020   4  ...     7.94    9.30  11.99         4.42\n",
              "\n",
              "[5 rows x 15 columns]"
            ]
          },
          "metadata": {
            "tags": []
          },
          "execution_count": 9
        }
      ]
    },
    {
      "cell_type": "code",
      "metadata": {
        "colab": {
          "base_uri": "https://localhost:8080/",
          "height": 455
        },
        "id": "sLuJhVyky92H",
        "outputId": "ed623eef-2ff1-4ba8-fd8f-4249f0837791"
      },
      "source": [
        "sa =result.groupby([\"rideable_type\",\"DY\",\"MO\",\"RH2M\",\"PS\",\"T2M_RANGE\",\"T2M_MAX\",\"T2M_MIN\"]).size()\n",
        "s5 = []\n",
        "s6 = []\n",
        "sa = pd.DataFrame(sa,columns=['count'])\n",
        "modified = sa.reset_index()\n",
        "a = 0\n",
        "for i in range(len(modified)):\n",
        "  if(modified['rideable_type'][i] == 'docked_bike'):\n",
        "    s5.append(modified['count'][i])\n",
        "    s6.append(a)\n",
        "  else:\n",
        "    s6.append(modified['count'][i])\n",
        "    s5.append(a)\n",
        "print(s6)\n",
        "print(s5)\n",
        "modified['docked_b'] = s5\n",
        "modified['electric_b'] = s6\n",
        "modified"
      ],
      "execution_count": 10,
      "outputs": [
        {
          "output_type": "stream",
          "text": [
            "[0, 0, 0, 0, 0, 0, 0, 0, 0, 0, 0, 0, 0, 0, 0, 0, 0, 0, 0, 0, 0, 0, 0, 0, 0, 0, 0, 0, 0, 0, 0, 0, 0, 0, 0, 0, 0, 0, 0, 0, 0, 0, 0, 0, 0, 0, 0, 0, 0, 0, 0, 0, 0, 0, 0, 0, 0, 0, 0, 0, 0, 0, 0, 0, 0, 0, 0, 0, 0, 0, 0, 0, 0, 0, 0, 0, 0, 0, 0, 0, 0, 0, 0, 0, 0, 0, 0, 0, 0, 5, 4, 6, 3, 7, 2, 5, 3, 4, 8, 1, 11, 10, 7, 24, 7, 5, 12, 9, 5, 6, 3, 10, 4, 6, 9, 8, 2, 11, 8, 4, 9, 6, 6, 6, 4, 1, 7, 5, 18, 3, 5, 4, 10, 2, 11, 6, 2, 7, 4, 5, 7, 3, 4, 6, 5, 5, 5, 6, 8, 3]\n",
            "[7, 6, 6, 5, 5, 3, 3, 5, 8, 2, 4, 2, 8, 9, 3, 3, 6, 11, 3, 7, 7, 6, 5, 6, 2, 5, 3, 1, 6, 7, 7, 3, 6, 7, 5, 4, 11, 3, 7, 8, 5, 4, 4, 5, 3, 3, 5, 1, 1, 8, 4, 6, 5, 6, 11, 3, 1, 8, 2, 3, 1, 9, 6, 5, 5, 3, 6, 3, 4, 6, 1, 4, 4, 6, 3, 4, 9, 3, 2, 1, 5, 2, 3, 2, 8, 7, 5, 1, 2, 0, 0, 0, 0, 0, 0, 0, 0, 0, 0, 0, 0, 0, 0, 0, 0, 0, 0, 0, 0, 0, 0, 0, 0, 0, 0, 0, 0, 0, 0, 0, 0, 0, 0, 0, 0, 0, 0, 0, 0, 0, 0, 0, 0, 0, 0, 0, 0, 0, 0, 0, 0, 0, 0, 0, 0, 0, 0, 0, 0, 0]\n"
          ],
          "name": "stdout"
        },
        {
          "output_type": "execute_result",
          "data": {
            "text/html": [
              "<div>\n",
              "<style scoped>\n",
              "    .dataframe tbody tr th:only-of-type {\n",
              "        vertical-align: middle;\n",
              "    }\n",
              "\n",
              "    .dataframe tbody tr th {\n",
              "        vertical-align: top;\n",
              "    }\n",
              "\n",
              "    .dataframe thead th {\n",
              "        text-align: right;\n",
              "    }\n",
              "</style>\n",
              "<table border=\"1\" class=\"dataframe\">\n",
              "  <thead>\n",
              "    <tr style=\"text-align: right;\">\n",
              "      <th></th>\n",
              "      <th>rideable_type</th>\n",
              "      <th>DY</th>\n",
              "      <th>MO</th>\n",
              "      <th>RH2M</th>\n",
              "      <th>PS</th>\n",
              "      <th>T2M_RANGE</th>\n",
              "      <th>T2M_MAX</th>\n",
              "      <th>T2M_MIN</th>\n",
              "      <th>count</th>\n",
              "      <th>docked_b</th>\n",
              "      <th>electric_b</th>\n",
              "    </tr>\n",
              "  </thead>\n",
              "  <tbody>\n",
              "    <tr>\n",
              "      <th>0</th>\n",
              "      <td>docked_bike</td>\n",
              "      <td>1.0</td>\n",
              "      <td>8.0</td>\n",
              "      <td>71.38</td>\n",
              "      <td>100.29</td>\n",
              "      <td>10.49</td>\n",
              "      <td>32.45</td>\n",
              "      <td>21.97</td>\n",
              "      <td>7</td>\n",
              "      <td>7</td>\n",
              "      <td>0</td>\n",
              "    </tr>\n",
              "    <tr>\n",
              "      <th>1</th>\n",
              "      <td>docked_bike</td>\n",
              "      <td>1.0</td>\n",
              "      <td>9.0</td>\n",
              "      <td>90.53</td>\n",
              "      <td>100.68</td>\n",
              "      <td>7.61</td>\n",
              "      <td>26.50</td>\n",
              "      <td>18.89</td>\n",
              "      <td>6</td>\n",
              "      <td>6</td>\n",
              "      <td>0</td>\n",
              "    </tr>\n",
              "    <tr>\n",
              "      <th>2</th>\n",
              "      <td>docked_bike</td>\n",
              "      <td>1.0</td>\n",
              "      <td>10.0</td>\n",
              "      <td>80.90</td>\n",
              "      <td>100.35</td>\n",
              "      <td>10.66</td>\n",
              "      <td>21.91</td>\n",
              "      <td>11.24</td>\n",
              "      <td>6</td>\n",
              "      <td>6</td>\n",
              "      <td>0</td>\n",
              "    </tr>\n",
              "    <tr>\n",
              "      <th>3</th>\n",
              "      <td>docked_bike</td>\n",
              "      <td>2.0</td>\n",
              "      <td>8.0</td>\n",
              "      <td>64.55</td>\n",
              "      <td>100.21</td>\n",
              "      <td>11.56</td>\n",
              "      <td>34.91</td>\n",
              "      <td>23.35</td>\n",
              "      <td>5</td>\n",
              "      <td>5</td>\n",
              "      <td>0</td>\n",
              "    </tr>\n",
              "    <tr>\n",
              "      <th>4</th>\n",
              "      <td>docked_bike</td>\n",
              "      <td>2.0</td>\n",
              "      <td>9.0</td>\n",
              "      <td>87.85</td>\n",
              "      <td>100.18</td>\n",
              "      <td>8.17</td>\n",
              "      <td>30.00</td>\n",
              "      <td>21.83</td>\n",
              "      <td>5</td>\n",
              "      <td>5</td>\n",
              "      <td>0</td>\n",
              "    </tr>\n",
              "    <tr>\n",
              "      <th>...</th>\n",
              "      <td>...</td>\n",
              "      <td>...</td>\n",
              "      <td>...</td>\n",
              "      <td>...</td>\n",
              "      <td>...</td>\n",
              "      <td>...</td>\n",
              "      <td>...</td>\n",
              "      <td>...</td>\n",
              "      <td>...</td>\n",
              "      <td>...</td>\n",
              "      <td>...</td>\n",
              "    </tr>\n",
              "    <tr>\n",
              "      <th>145</th>\n",
              "      <td>electric_bike</td>\n",
              "      <td>29.0</td>\n",
              "      <td>8.0</td>\n",
              "      <td>87.34</td>\n",
              "      <td>99.37</td>\n",
              "      <td>7.90</td>\n",
              "      <td>29.25</td>\n",
              "      <td>21.35</td>\n",
              "      <td>5</td>\n",
              "      <td>0</td>\n",
              "      <td>5</td>\n",
              "    </tr>\n",
              "    <tr>\n",
              "      <th>146</th>\n",
              "      <td>electric_bike</td>\n",
              "      <td>29.0</td>\n",
              "      <td>9.0</td>\n",
              "      <td>89.15</td>\n",
              "      <td>99.85</td>\n",
              "      <td>12.49</td>\n",
              "      <td>26.54</td>\n",
              "      <td>14.06</td>\n",
              "      <td>5</td>\n",
              "      <td>0</td>\n",
              "      <td>5</td>\n",
              "    </tr>\n",
              "    <tr>\n",
              "      <th>147</th>\n",
              "      <td>electric_bike</td>\n",
              "      <td>30.0</td>\n",
              "      <td>8.0</td>\n",
              "      <td>64.46</td>\n",
              "      <td>100.00</td>\n",
              "      <td>10.58</td>\n",
              "      <td>27.55</td>\n",
              "      <td>16.97</td>\n",
              "      <td>6</td>\n",
              "      <td>0</td>\n",
              "      <td>6</td>\n",
              "    </tr>\n",
              "    <tr>\n",
              "      <th>148</th>\n",
              "      <td>electric_bike</td>\n",
              "      <td>30.0</td>\n",
              "      <td>9.0</td>\n",
              "      <td>78.07</td>\n",
              "      <td>99.95</td>\n",
              "      <td>8.75</td>\n",
              "      <td>20.64</td>\n",
              "      <td>11.89</td>\n",
              "      <td>8</td>\n",
              "      <td>0</td>\n",
              "      <td>8</td>\n",
              "    </tr>\n",
              "    <tr>\n",
              "      <th>149</th>\n",
              "      <td>electric_bike</td>\n",
              "      <td>31.0</td>\n",
              "      <td>8.0</td>\n",
              "      <td>85.73</td>\n",
              "      <td>100.63</td>\n",
              "      <td>5.06</td>\n",
              "      <td>23.49</td>\n",
              "      <td>18.43</td>\n",
              "      <td>3</td>\n",
              "      <td>0</td>\n",
              "      <td>3</td>\n",
              "    </tr>\n",
              "  </tbody>\n",
              "</table>\n",
              "<p>150 rows × 11 columns</p>\n",
              "</div>"
            ],
            "text/plain": [
              "     rideable_type    DY    MO   RH2M  ...  T2M_MIN  count  docked_b  electric_b\n",
              "0      docked_bike   1.0   8.0  71.38  ...    21.97      7         7           0\n",
              "1      docked_bike   1.0   9.0  90.53  ...    18.89      6         6           0\n",
              "2      docked_bike   1.0  10.0  80.90  ...    11.24      6         6           0\n",
              "3      docked_bike   2.0   8.0  64.55  ...    23.35      5         5           0\n",
              "4      docked_bike   2.0   9.0  87.85  ...    21.83      5         5           0\n",
              "..             ...   ...   ...    ...  ...      ...    ...       ...         ...\n",
              "145  electric_bike  29.0   8.0  87.34  ...    21.35      5         0           5\n",
              "146  electric_bike  29.0   9.0  89.15  ...    14.06      5         0           5\n",
              "147  electric_bike  30.0   8.0  64.46  ...    16.97      6         0           6\n",
              "148  electric_bike  30.0   9.0  78.07  ...    11.89      8         0           8\n",
              "149  electric_bike  31.0   8.0  85.73  ...    18.43      3         0           3\n",
              "\n",
              "[150 rows x 11 columns]"
            ]
          },
          "metadata": {
            "tags": []
          },
          "execution_count": 10
        }
      ]
    },
    {
      "cell_type": "code",
      "metadata": {
        "colab": {
          "base_uri": "https://localhost:8080/",
          "height": 455
        },
        "id": "2xfbWLcuyvxm",
        "outputId": "e55daa5b-dc88-4365-d6f2-f6937b6ae36b"
      },
      "source": [
        "sa =result.groupby([\"DY\",\"MO\",\"PS\",\"T2M_RANGE\",\"T2M_MAX\",\"T2M_MIN\",\"RH2M\",\"rideable_type\",\"LAT\",\"LON\"]).size()\r\n",
        "s5 = []\r\n",
        "s6 = []\r\n",
        "sa = pd.DataFrame(sa,columns=['count'])\r\n",
        "modified = sa.reset_index()\r\n",
        "a = 0\r\n",
        "for i in range(len(modified)):\r\n",
        "  if(modified['rideable_type'][i] == 'docked_bike'):\r\n",
        "    s5.append(modified['count'][i])\r\n",
        "    s6.append(a)\r\n",
        "  else:\r\n",
        "    s6.append(modified['count'][i])\r\n",
        "    s5.append(a)\r\n",
        "print(s6)\r\n",
        "print(s5)\r\n",
        "modified['docked_b'] = s5\r\n",
        "modified['electric_b'] = s6\r\n",
        "modified"
      ],
      "execution_count": 11,
      "outputs": [
        {
          "output_type": "stream",
          "text": [
            "[0, 5, 0, 4, 0, 0, 6, 0, 3, 0, 0, 7, 0, 2, 0, 0, 5, 0, 3, 0, 0, 4, 0, 8, 0, 0, 1, 0, 11, 0, 0, 10, 0, 7, 0, 0, 24, 0, 7, 0, 0, 5, 12, 0, 0, 9, 0, 5, 0, 0, 6, 0, 3, 0, 0, 10, 0, 4, 0, 0, 6, 0, 9, 0, 0, 8, 0, 2, 0, 0, 11, 0, 8, 0, 0, 4, 0, 9, 0, 0, 6, 0, 6, 0, 0, 6, 0, 4, 0, 0, 1, 0, 7, 0, 0, 5, 0, 18, 0, 3, 0, 5, 0, 0, 4, 0, 10, 0, 0, 2, 0, 11, 0, 0, 6, 0, 2, 0, 0, 7, 0, 4, 0, 5, 0, 7, 0, 0, 3, 0, 4, 0, 0, 6, 0, 5, 0, 0, 5, 0, 5, 0, 0, 6, 0, 8, 0, 0, 3, 0]\n",
            "[7, 0, 6, 0, 6, 5, 0, 5, 0, 3, 3, 0, 5, 0, 8, 2, 0, 4, 0, 2, 8, 0, 9, 0, 3, 3, 0, 6, 0, 11, 3, 0, 7, 0, 7, 6, 0, 5, 0, 6, 2, 0, 0, 5, 3, 0, 1, 0, 6, 7, 0, 7, 0, 3, 6, 0, 7, 0, 5, 4, 0, 11, 0, 3, 7, 0, 8, 0, 5, 4, 0, 4, 0, 5, 3, 0, 3, 0, 5, 1, 0, 1, 0, 8, 4, 0, 6, 0, 5, 6, 0, 11, 0, 3, 1, 0, 8, 0, 2, 0, 3, 0, 1, 9, 0, 6, 0, 5, 5, 0, 3, 0, 6, 3, 0, 4, 0, 6, 1, 0, 4, 0, 4, 0, 6, 0, 3, 4, 0, 9, 0, 3, 2, 0, 1, 0, 5, 2, 0, 3, 0, 2, 8, 0, 7, 0, 5, 1, 0, 2]\n"
          ],
          "name": "stdout"
        },
        {
          "output_type": "execute_result",
          "data": {
            "text/html": [
              "<div>\n",
              "<style scoped>\n",
              "    .dataframe tbody tr th:only-of-type {\n",
              "        vertical-align: middle;\n",
              "    }\n",
              "\n",
              "    .dataframe tbody tr th {\n",
              "        vertical-align: top;\n",
              "    }\n",
              "\n",
              "    .dataframe thead th {\n",
              "        text-align: right;\n",
              "    }\n",
              "</style>\n",
              "<table border=\"1\" class=\"dataframe\">\n",
              "  <thead>\n",
              "    <tr style=\"text-align: right;\">\n",
              "      <th></th>\n",
              "      <th>DY</th>\n",
              "      <th>MO</th>\n",
              "      <th>PS</th>\n",
              "      <th>T2M_RANGE</th>\n",
              "      <th>T2M_MAX</th>\n",
              "      <th>T2M_MIN</th>\n",
              "      <th>RH2M</th>\n",
              "      <th>rideable_type</th>\n",
              "      <th>LAT</th>\n",
              "      <th>LON</th>\n",
              "      <th>count</th>\n",
              "      <th>docked_b</th>\n",
              "      <th>electric_b</th>\n",
              "    </tr>\n",
              "  </thead>\n",
              "  <tbody>\n",
              "    <tr>\n",
              "      <th>0</th>\n",
              "      <td>1.0</td>\n",
              "      <td>8.0</td>\n",
              "      <td>100.29</td>\n",
              "      <td>10.49</td>\n",
              "      <td>32.45</td>\n",
              "      <td>21.97</td>\n",
              "      <td>71.38</td>\n",
              "      <td>docked_bike</td>\n",
              "      <td>38.88481</td>\n",
              "      <td>-77.00609</td>\n",
              "      <td>7</td>\n",
              "      <td>7</td>\n",
              "      <td>0</td>\n",
              "    </tr>\n",
              "    <tr>\n",
              "      <th>1</th>\n",
              "      <td>1.0</td>\n",
              "      <td>8.0</td>\n",
              "      <td>100.29</td>\n",
              "      <td>10.49</td>\n",
              "      <td>32.45</td>\n",
              "      <td>21.97</td>\n",
              "      <td>71.38</td>\n",
              "      <td>electric_bike</td>\n",
              "      <td>38.88481</td>\n",
              "      <td>-77.00609</td>\n",
              "      <td>5</td>\n",
              "      <td>0</td>\n",
              "      <td>5</td>\n",
              "    </tr>\n",
              "    <tr>\n",
              "      <th>2</th>\n",
              "      <td>1.0</td>\n",
              "      <td>9.0</td>\n",
              "      <td>100.68</td>\n",
              "      <td>7.61</td>\n",
              "      <td>26.50</td>\n",
              "      <td>18.89</td>\n",
              "      <td>90.53</td>\n",
              "      <td>docked_bike</td>\n",
              "      <td>38.88481</td>\n",
              "      <td>-77.00609</td>\n",
              "      <td>6</td>\n",
              "      <td>6</td>\n",
              "      <td>0</td>\n",
              "    </tr>\n",
              "    <tr>\n",
              "      <th>3</th>\n",
              "      <td>1.0</td>\n",
              "      <td>9.0</td>\n",
              "      <td>100.68</td>\n",
              "      <td>7.61</td>\n",
              "      <td>26.50</td>\n",
              "      <td>18.89</td>\n",
              "      <td>90.53</td>\n",
              "      <td>electric_bike</td>\n",
              "      <td>38.88481</td>\n",
              "      <td>-77.00609</td>\n",
              "      <td>4</td>\n",
              "      <td>0</td>\n",
              "      <td>4</td>\n",
              "    </tr>\n",
              "    <tr>\n",
              "      <th>4</th>\n",
              "      <td>1.0</td>\n",
              "      <td>10.0</td>\n",
              "      <td>100.35</td>\n",
              "      <td>10.66</td>\n",
              "      <td>21.91</td>\n",
              "      <td>11.24</td>\n",
              "      <td>80.90</td>\n",
              "      <td>docked_bike</td>\n",
              "      <td>38.88481</td>\n",
              "      <td>-77.00609</td>\n",
              "      <td>6</td>\n",
              "      <td>6</td>\n",
              "      <td>0</td>\n",
              "    </tr>\n",
              "    <tr>\n",
              "      <th>...</th>\n",
              "      <td>...</td>\n",
              "      <td>...</td>\n",
              "      <td>...</td>\n",
              "      <td>...</td>\n",
              "      <td>...</td>\n",
              "      <td>...</td>\n",
              "      <td>...</td>\n",
              "      <td>...</td>\n",
              "      <td>...</td>\n",
              "      <td>...</td>\n",
              "      <td>...</td>\n",
              "      <td>...</td>\n",
              "      <td>...</td>\n",
              "    </tr>\n",
              "    <tr>\n",
              "      <th>145</th>\n",
              "      <td>30.0</td>\n",
              "      <td>9.0</td>\n",
              "      <td>99.95</td>\n",
              "      <td>8.75</td>\n",
              "      <td>20.64</td>\n",
              "      <td>11.89</td>\n",
              "      <td>78.07</td>\n",
              "      <td>electric_bike</td>\n",
              "      <td>38.88481</td>\n",
              "      <td>-77.00609</td>\n",
              "      <td>8</td>\n",
              "      <td>0</td>\n",
              "      <td>8</td>\n",
              "    </tr>\n",
              "    <tr>\n",
              "      <th>146</th>\n",
              "      <td>30.0</td>\n",
              "      <td>10.0</td>\n",
              "      <td>100.42</td>\n",
              "      <td>6.81</td>\n",
              "      <td>12.70</td>\n",
              "      <td>5.89</td>\n",
              "      <td>84.17</td>\n",
              "      <td>docked_bike</td>\n",
              "      <td>38.88481</td>\n",
              "      <td>-77.00609</td>\n",
              "      <td>5</td>\n",
              "      <td>5</td>\n",
              "      <td>0</td>\n",
              "    </tr>\n",
              "    <tr>\n",
              "      <th>147</th>\n",
              "      <td>31.0</td>\n",
              "      <td>8.0</td>\n",
              "      <td>100.63</td>\n",
              "      <td>5.06</td>\n",
              "      <td>23.49</td>\n",
              "      <td>18.43</td>\n",
              "      <td>85.73</td>\n",
              "      <td>docked_bike</td>\n",
              "      <td>38.88481</td>\n",
              "      <td>-77.00609</td>\n",
              "      <td>1</td>\n",
              "      <td>1</td>\n",
              "      <td>0</td>\n",
              "    </tr>\n",
              "    <tr>\n",
              "      <th>148</th>\n",
              "      <td>31.0</td>\n",
              "      <td>8.0</td>\n",
              "      <td>100.63</td>\n",
              "      <td>5.06</td>\n",
              "      <td>23.49</td>\n",
              "      <td>18.43</td>\n",
              "      <td>85.73</td>\n",
              "      <td>electric_bike</td>\n",
              "      <td>38.88481</td>\n",
              "      <td>-77.00609</td>\n",
              "      <td>3</td>\n",
              "      <td>0</td>\n",
              "      <td>3</td>\n",
              "    </tr>\n",
              "    <tr>\n",
              "      <th>149</th>\n",
              "      <td>31.0</td>\n",
              "      <td>10.0</td>\n",
              "      <td>102.02</td>\n",
              "      <td>7.43</td>\n",
              "      <td>11.22</td>\n",
              "      <td>3.80</td>\n",
              "      <td>78.20</td>\n",
              "      <td>docked_bike</td>\n",
              "      <td>38.88481</td>\n",
              "      <td>-77.00609</td>\n",
              "      <td>2</td>\n",
              "      <td>2</td>\n",
              "      <td>0</td>\n",
              "    </tr>\n",
              "  </tbody>\n",
              "</table>\n",
              "<p>150 rows × 13 columns</p>\n",
              "</div>"
            ],
            "text/plain": [
              "       DY    MO      PS  T2M_RANGE  ...       LON  count  docked_b electric_b\n",
              "0     1.0   8.0  100.29      10.49  ... -77.00609      7         7          0\n",
              "1     1.0   8.0  100.29      10.49  ... -77.00609      5         0          5\n",
              "2     1.0   9.0  100.68       7.61  ... -77.00609      6         6          0\n",
              "3     1.0   9.0  100.68       7.61  ... -77.00609      4         0          4\n",
              "4     1.0  10.0  100.35      10.66  ... -77.00609      6         6          0\n",
              "..    ...   ...     ...        ...  ...       ...    ...       ...        ...\n",
              "145  30.0   9.0   99.95       8.75  ... -77.00609      8         0          8\n",
              "146  30.0  10.0  100.42       6.81  ... -77.00609      5         5          0\n",
              "147  31.0   8.0  100.63       5.06  ... -77.00609      1         1          0\n",
              "148  31.0   8.0  100.63       5.06  ... -77.00609      3         0          3\n",
              "149  31.0  10.0  102.02       7.43  ... -77.00609      2         2          0\n",
              "\n",
              "[150 rows x 13 columns]"
            ]
          },
          "metadata": {
            "tags": []
          },
          "execution_count": 11
        }
      ]
    },
    {
      "cell_type": "code",
      "metadata": {
        "colab": {
          "base_uri": "https://localhost:8080/",
          "height": 994
        },
        "id": "3SCyjlRVeVkc",
        "outputId": "b69edb1d-68cc-4241-f26f-e12248324019"
      },
      "source": [
        "aggregation_functions = { 'DY': 'first','docked_b': 'sum', 'electric_b': 'sum','count':'sum'}\n",
        "df_new = modified.groupby([\"DY\"]).aggregate(aggregation_functions)\n",
        "df_new['MO'] = modified['MO']\n",
        "df_new['PS'] = modified['PS']\n",
        "df_new['T2M_RANGE'] = modified['T2M_RANGE']\n",
        "df_new['T2M_MAX'] = modified['T2M_MAX']\n",
        "df_new['T2M_MIN'] = modified['T2M_MIN']\n",
        "df_new['RH2M'] = modified['RH2M']\n",
        "modified = df_new\n",
        "modified"
      ],
      "execution_count": 12,
      "outputs": [
        {
          "output_type": "execute_result",
          "data": {
            "text/html": [
              "<div>\n",
              "<style scoped>\n",
              "    .dataframe tbody tr th:only-of-type {\n",
              "        vertical-align: middle;\n",
              "    }\n",
              "\n",
              "    .dataframe tbody tr th {\n",
              "        vertical-align: top;\n",
              "    }\n",
              "\n",
              "    .dataframe thead th {\n",
              "        text-align: right;\n",
              "    }\n",
              "</style>\n",
              "<table border=\"1\" class=\"dataframe\">\n",
              "  <thead>\n",
              "    <tr style=\"text-align: right;\">\n",
              "      <th></th>\n",
              "      <th>DY</th>\n",
              "      <th>docked_b</th>\n",
              "      <th>electric_b</th>\n",
              "      <th>count</th>\n",
              "      <th>MO</th>\n",
              "      <th>PS</th>\n",
              "      <th>T2M_RANGE</th>\n",
              "      <th>T2M_MAX</th>\n",
              "      <th>T2M_MIN</th>\n",
              "      <th>RH2M</th>\n",
              "    </tr>\n",
              "    <tr>\n",
              "      <th>DY</th>\n",
              "      <th></th>\n",
              "      <th></th>\n",
              "      <th></th>\n",
              "      <th></th>\n",
              "      <th></th>\n",
              "      <th></th>\n",
              "      <th></th>\n",
              "      <th></th>\n",
              "      <th></th>\n",
              "      <th></th>\n",
              "    </tr>\n",
              "  </thead>\n",
              "  <tbody>\n",
              "    <tr>\n",
              "      <th>1.0</th>\n",
              "      <td>1.0</td>\n",
              "      <td>19</td>\n",
              "      <td>9</td>\n",
              "      <td>28</td>\n",
              "      <td>8.0</td>\n",
              "      <td>100.29</td>\n",
              "      <td>10.49</td>\n",
              "      <td>32.45</td>\n",
              "      <td>21.97</td>\n",
              "      <td>71.38</td>\n",
              "    </tr>\n",
              "    <tr>\n",
              "      <th>2.0</th>\n",
              "      <td>2.0</td>\n",
              "      <td>13</td>\n",
              "      <td>9</td>\n",
              "      <td>22</td>\n",
              "      <td>9.0</td>\n",
              "      <td>100.68</td>\n",
              "      <td>7.61</td>\n",
              "      <td>26.50</td>\n",
              "      <td>18.89</td>\n",
              "      <td>90.53</td>\n",
              "    </tr>\n",
              "    <tr>\n",
              "      <th>3.0</th>\n",
              "      <td>3.0</td>\n",
              "      <td>16</td>\n",
              "      <td>9</td>\n",
              "      <td>25</td>\n",
              "      <td>9.0</td>\n",
              "      <td>100.68</td>\n",
              "      <td>7.61</td>\n",
              "      <td>26.50</td>\n",
              "      <td>18.89</td>\n",
              "      <td>90.53</td>\n",
              "    </tr>\n",
              "    <tr>\n",
              "      <th>4.0</th>\n",
              "      <td>4.0</td>\n",
              "      <td>8</td>\n",
              "      <td>8</td>\n",
              "      <td>16</td>\n",
              "      <td>10.0</td>\n",
              "      <td>100.35</td>\n",
              "      <td>10.66</td>\n",
              "      <td>21.91</td>\n",
              "      <td>11.24</td>\n",
              "      <td>80.90</td>\n",
              "    </tr>\n",
              "    <tr>\n",
              "      <th>5.0</th>\n",
              "      <td>5.0</td>\n",
              "      <td>20</td>\n",
              "      <td>12</td>\n",
              "      <td>32</td>\n",
              "      <td>8.0</td>\n",
              "      <td>100.21</td>\n",
              "      <td>11.56</td>\n",
              "      <td>34.91</td>\n",
              "      <td>23.35</td>\n",
              "      <td>64.55</td>\n",
              "    </tr>\n",
              "    <tr>\n",
              "      <th>6.0</th>\n",
              "      <td>6.0</td>\n",
              "      <td>20</td>\n",
              "      <td>12</td>\n",
              "      <td>32</td>\n",
              "      <td>8.0</td>\n",
              "      <td>100.21</td>\n",
              "      <td>11.56</td>\n",
              "      <td>34.91</td>\n",
              "      <td>23.35</td>\n",
              "      <td>64.55</td>\n",
              "    </tr>\n",
              "    <tr>\n",
              "      <th>7.0</th>\n",
              "      <td>7.0</td>\n",
              "      <td>17</td>\n",
              "      <td>17</td>\n",
              "      <td>34</td>\n",
              "      <td>9.0</td>\n",
              "      <td>100.18</td>\n",
              "      <td>8.17</td>\n",
              "      <td>30.00</td>\n",
              "      <td>21.83</td>\n",
              "      <td>87.85</td>\n",
              "    </tr>\n",
              "    <tr>\n",
              "      <th>8.0</th>\n",
              "      <td>8.0</td>\n",
              "      <td>17</td>\n",
              "      <td>31</td>\n",
              "      <td>48</td>\n",
              "      <td>9.0</td>\n",
              "      <td>100.18</td>\n",
              "      <td>8.17</td>\n",
              "      <td>30.00</td>\n",
              "      <td>21.83</td>\n",
              "      <td>87.85</td>\n",
              "    </tr>\n",
              "    <tr>\n",
              "      <th>9.0</th>\n",
              "      <td>9.0</td>\n",
              "      <td>7</td>\n",
              "      <td>17</td>\n",
              "      <td>24</td>\n",
              "      <td>10.0</td>\n",
              "      <td>100.73</td>\n",
              "      <td>9.41</td>\n",
              "      <td>18.81</td>\n",
              "      <td>9.40</td>\n",
              "      <td>74.96</td>\n",
              "    </tr>\n",
              "    <tr>\n",
              "      <th>10.0</th>\n",
              "      <td>10.0</td>\n",
              "      <td>10</td>\n",
              "      <td>14</td>\n",
              "      <td>24</td>\n",
              "      <td>8.0</td>\n",
              "      <td>100.66</td>\n",
              "      <td>8.73</td>\n",
              "      <td>30.86</td>\n",
              "      <td>22.14</td>\n",
              "      <td>75.05</td>\n",
              "    </tr>\n",
              "    <tr>\n",
              "      <th>11.0</th>\n",
              "      <td>11.0</td>\n",
              "      <td>17</td>\n",
              "      <td>9</td>\n",
              "      <td>26</td>\n",
              "      <td>8.0</td>\n",
              "      <td>100.66</td>\n",
              "      <td>8.73</td>\n",
              "      <td>30.86</td>\n",
              "      <td>22.14</td>\n",
              "      <td>75.05</td>\n",
              "    </tr>\n",
              "    <tr>\n",
              "      <th>12.0</th>\n",
              "      <td>12.0</td>\n",
              "      <td>18</td>\n",
              "      <td>14</td>\n",
              "      <td>32</td>\n",
              "      <td>9.0</td>\n",
              "      <td>99.97</td>\n",
              "      <td>9.43</td>\n",
              "      <td>31.38</td>\n",
              "      <td>21.95</td>\n",
              "      <td>80.77</td>\n",
              "    </tr>\n",
              "    <tr>\n",
              "      <th>13.0</th>\n",
              "      <td>13.0</td>\n",
              "      <td>18</td>\n",
              "      <td>15</td>\n",
              "      <td>33</td>\n",
              "      <td>9.0</td>\n",
              "      <td>99.97</td>\n",
              "      <td>9.43</td>\n",
              "      <td>31.38</td>\n",
              "      <td>21.95</td>\n",
              "      <td>80.77</td>\n",
              "    </tr>\n",
              "    <tr>\n",
              "      <th>14.0</th>\n",
              "      <td>14.0</td>\n",
              "      <td>20</td>\n",
              "      <td>10</td>\n",
              "      <td>30</td>\n",
              "      <td>10.0</td>\n",
              "      <td>101.33</td>\n",
              "      <td>11.99</td>\n",
              "      <td>18.41</td>\n",
              "      <td>6.42</td>\n",
              "      <td>67.61</td>\n",
              "    </tr>\n",
              "    <tr>\n",
              "      <th>15.0</th>\n",
              "      <td>15.0</td>\n",
              "      <td>13</td>\n",
              "      <td>19</td>\n",
              "      <td>32</td>\n",
              "      <td>8.0</td>\n",
              "      <td>100.03</td>\n",
              "      <td>8.87</td>\n",
              "      <td>30.34</td>\n",
              "      <td>21.47</td>\n",
              "      <td>79.56</td>\n",
              "    </tr>\n",
              "    <tr>\n",
              "      <th>16.0</th>\n",
              "      <td>16.0</td>\n",
              "      <td>11</td>\n",
              "      <td>13</td>\n",
              "      <td>24</td>\n",
              "      <td>8.0</td>\n",
              "      <td>100.03</td>\n",
              "      <td>8.87</td>\n",
              "      <td>30.34</td>\n",
              "      <td>21.47</td>\n",
              "      <td>79.56</td>\n",
              "    </tr>\n",
              "    <tr>\n",
              "      <th>17.0</th>\n",
              "      <td>17.0</td>\n",
              "      <td>10</td>\n",
              "      <td>12</td>\n",
              "      <td>22</td>\n",
              "      <td>9.0</td>\n",
              "      <td>100.34</td>\n",
              "      <td>10.66</td>\n",
              "      <td>30.02</td>\n",
              "      <td>19.36</td>\n",
              "      <td>81.24</td>\n",
              "    </tr>\n",
              "    <tr>\n",
              "      <th>18.0</th>\n",
              "      <td>18.0</td>\n",
              "      <td>15</td>\n",
              "      <td>10</td>\n",
              "      <td>25</td>\n",
              "      <td>9.0</td>\n",
              "      <td>100.34</td>\n",
              "      <td>10.66</td>\n",
              "      <td>30.02</td>\n",
              "      <td>19.36</td>\n",
              "      <td>81.24</td>\n",
              "    </tr>\n",
              "    <tr>\n",
              "      <th>19.0</th>\n",
              "      <td>19.0</td>\n",
              "      <td>20</td>\n",
              "      <td>8</td>\n",
              "      <td>28</td>\n",
              "      <td>10.0</td>\n",
              "      <td>101.16</td>\n",
              "      <td>10.39</td>\n",
              "      <td>19.41</td>\n",
              "      <td>9.02</td>\n",
              "      <td>66.32</td>\n",
              "    </tr>\n",
              "    <tr>\n",
              "      <th>20.0</th>\n",
              "      <td>20.0</td>\n",
              "      <td>9</td>\n",
              "      <td>23</td>\n",
              "      <td>32</td>\n",
              "      <td>8.0</td>\n",
              "      <td>100.69</td>\n",
              "      <td>10.48</td>\n",
              "      <td>30.07</td>\n",
              "      <td>19.60</td>\n",
              "      <td>69.00</td>\n",
              "    </tr>\n",
              "    <tr>\n",
              "      <th>21.0</th>\n",
              "      <td>21.0</td>\n",
              "      <td>6</td>\n",
              "      <td>8</td>\n",
              "      <td>14</td>\n",
              "      <td>8.0</td>\n",
              "      <td>100.69</td>\n",
              "      <td>10.48</td>\n",
              "      <td>30.07</td>\n",
              "      <td>19.60</td>\n",
              "      <td>69.00</td>\n",
              "    </tr>\n",
              "    <tr>\n",
              "      <th>22.0</th>\n",
              "      <td>22.0</td>\n",
              "      <td>20</td>\n",
              "      <td>14</td>\n",
              "      <td>34</td>\n",
              "      <td>9.0</td>\n",
              "      <td>101.23</td>\n",
              "      <td>11.14</td>\n",
              "      <td>25.78</td>\n",
              "      <td>14.64</td>\n",
              "      <td>61.30</td>\n",
              "    </tr>\n",
              "    <tr>\n",
              "      <th>23.0</th>\n",
              "      <td>23.0</td>\n",
              "      <td>14</td>\n",
              "      <td>13</td>\n",
              "      <td>27</td>\n",
              "      <td>9.0</td>\n",
              "      <td>101.23</td>\n",
              "      <td>11.14</td>\n",
              "      <td>25.78</td>\n",
              "      <td>14.64</td>\n",
              "      <td>61.30</td>\n",
              "    </tr>\n",
              "    <tr>\n",
              "      <th>24.0</th>\n",
              "      <td>24.0</td>\n",
              "      <td>13</td>\n",
              "      <td>8</td>\n",
              "      <td>21</td>\n",
              "      <td>10.0</td>\n",
              "      <td>101.10</td>\n",
              "      <td>10.01</td>\n",
              "      <td>19.19</td>\n",
              "      <td>9.18</td>\n",
              "      <td>70.94</td>\n",
              "    </tr>\n",
              "    <tr>\n",
              "      <th>25.0</th>\n",
              "      <td>25.0</td>\n",
              "      <td>5</td>\n",
              "      <td>11</td>\n",
              "      <td>16</td>\n",
              "      <td>8.0</td>\n",
              "      <td>100.75</td>\n",
              "      <td>5.30</td>\n",
              "      <td>27.11</td>\n",
              "      <td>21.81</td>\n",
              "      <td>85.73</td>\n",
              "    </tr>\n",
              "    <tr>\n",
              "      <th>26.0</th>\n",
              "      <td>26.0</td>\n",
              "      <td>13</td>\n",
              "      <td>12</td>\n",
              "      <td>25</td>\n",
              "      <td>8.0</td>\n",
              "      <td>100.75</td>\n",
              "      <td>5.30</td>\n",
              "      <td>27.11</td>\n",
              "      <td>21.81</td>\n",
              "      <td>85.73</td>\n",
              "    </tr>\n",
              "    <tr>\n",
              "      <th>27.0</th>\n",
              "      <td>27.0</td>\n",
              "      <td>16</td>\n",
              "      <td>7</td>\n",
              "      <td>23</td>\n",
              "      <td>9.0</td>\n",
              "      <td>101.13</td>\n",
              "      <td>12.68</td>\n",
              "      <td>27.68</td>\n",
              "      <td>15.00</td>\n",
              "      <td>64.67</td>\n",
              "    </tr>\n",
              "    <tr>\n",
              "      <th>28.0</th>\n",
              "      <td>28.0</td>\n",
              "      <td>8</td>\n",
              "      <td>11</td>\n",
              "      <td>19</td>\n",
              "      <td>9.0</td>\n",
              "      <td>101.13</td>\n",
              "      <td>12.68</td>\n",
              "      <td>27.68</td>\n",
              "      <td>15.00</td>\n",
              "      <td>64.67</td>\n",
              "    </tr>\n",
              "    <tr>\n",
              "      <th>29.0</th>\n",
              "      <td>29.0</td>\n",
              "      <td>7</td>\n",
              "      <td>10</td>\n",
              "      <td>17</td>\n",
              "      <td>10.0</td>\n",
              "      <td>100.86</td>\n",
              "      <td>14.14</td>\n",
              "      <td>21.39</td>\n",
              "      <td>7.25</td>\n",
              "      <td>80.19</td>\n",
              "    </tr>\n",
              "    <tr>\n",
              "      <th>30.0</th>\n",
              "      <td>30.0</td>\n",
              "      <td>20</td>\n",
              "      <td>14</td>\n",
              "      <td>34</td>\n",
              "      <td>8.0</td>\n",
              "      <td>100.78</td>\n",
              "      <td>7.03</td>\n",
              "      <td>29.09</td>\n",
              "      <td>22.05</td>\n",
              "      <td>83.77</td>\n",
              "    </tr>\n",
              "    <tr>\n",
              "      <th>31.0</th>\n",
              "      <td>31.0</td>\n",
              "      <td>3</td>\n",
              "      <td>3</td>\n",
              "      <td>6</td>\n",
              "      <td>8.0</td>\n",
              "      <td>100.78</td>\n",
              "      <td>7.03</td>\n",
              "      <td>29.09</td>\n",
              "      <td>22.05</td>\n",
              "      <td>83.77</td>\n",
              "    </tr>\n",
              "  </tbody>\n",
              "</table>\n",
              "</div>"
            ],
            "text/plain": [
              "        DY  docked_b  electric_b  count  ...  T2M_RANGE  T2M_MAX  T2M_MIN   RH2M\n",
              "DY                                       ...                                    \n",
              "1.0    1.0        19           9     28  ...      10.49    32.45    21.97  71.38\n",
              "2.0    2.0        13           9     22  ...       7.61    26.50    18.89  90.53\n",
              "3.0    3.0        16           9     25  ...       7.61    26.50    18.89  90.53\n",
              "4.0    4.0         8           8     16  ...      10.66    21.91    11.24  80.90\n",
              "5.0    5.0        20          12     32  ...      11.56    34.91    23.35  64.55\n",
              "6.0    6.0        20          12     32  ...      11.56    34.91    23.35  64.55\n",
              "7.0    7.0        17          17     34  ...       8.17    30.00    21.83  87.85\n",
              "8.0    8.0        17          31     48  ...       8.17    30.00    21.83  87.85\n",
              "9.0    9.0         7          17     24  ...       9.41    18.81     9.40  74.96\n",
              "10.0  10.0        10          14     24  ...       8.73    30.86    22.14  75.05\n",
              "11.0  11.0        17           9     26  ...       8.73    30.86    22.14  75.05\n",
              "12.0  12.0        18          14     32  ...       9.43    31.38    21.95  80.77\n",
              "13.0  13.0        18          15     33  ...       9.43    31.38    21.95  80.77\n",
              "14.0  14.0        20          10     30  ...      11.99    18.41     6.42  67.61\n",
              "15.0  15.0        13          19     32  ...       8.87    30.34    21.47  79.56\n",
              "16.0  16.0        11          13     24  ...       8.87    30.34    21.47  79.56\n",
              "17.0  17.0        10          12     22  ...      10.66    30.02    19.36  81.24\n",
              "18.0  18.0        15          10     25  ...      10.66    30.02    19.36  81.24\n",
              "19.0  19.0        20           8     28  ...      10.39    19.41     9.02  66.32\n",
              "20.0  20.0         9          23     32  ...      10.48    30.07    19.60  69.00\n",
              "21.0  21.0         6           8     14  ...      10.48    30.07    19.60  69.00\n",
              "22.0  22.0        20          14     34  ...      11.14    25.78    14.64  61.30\n",
              "23.0  23.0        14          13     27  ...      11.14    25.78    14.64  61.30\n",
              "24.0  24.0        13           8     21  ...      10.01    19.19     9.18  70.94\n",
              "25.0  25.0         5          11     16  ...       5.30    27.11    21.81  85.73\n",
              "26.0  26.0        13          12     25  ...       5.30    27.11    21.81  85.73\n",
              "27.0  27.0        16           7     23  ...      12.68    27.68    15.00  64.67\n",
              "28.0  28.0         8          11     19  ...      12.68    27.68    15.00  64.67\n",
              "29.0  29.0         7          10     17  ...      14.14    21.39     7.25  80.19\n",
              "30.0  30.0        20          14     34  ...       7.03    29.09    22.05  83.77\n",
              "31.0  31.0         3           3      6  ...       7.03    29.09    22.05  83.77\n",
              "\n",
              "[31 rows x 10 columns]"
            ]
          },
          "metadata": {
            "tags": []
          },
          "execution_count": 12
        }
      ]
    },
    {
      "cell_type": "code",
      "metadata": {
        "colab": {
          "base_uri": "https://localhost:8080/",
          "height": 343
        },
        "id": "gr4wB5w9Xl_F",
        "outputId": "f94c6dfe-57ad-4ec7-8aff-0e4411150d2c"
      },
      "source": [
        "modified.corr()"
      ],
      "execution_count": 13,
      "outputs": [
        {
          "output_type": "execute_result",
          "data": {
            "text/html": [
              "<div>\n",
              "<style scoped>\n",
              "    .dataframe tbody tr th:only-of-type {\n",
              "        vertical-align: middle;\n",
              "    }\n",
              "\n",
              "    .dataframe tbody tr th {\n",
              "        vertical-align: top;\n",
              "    }\n",
              "\n",
              "    .dataframe thead th {\n",
              "        text-align: right;\n",
              "    }\n",
              "</style>\n",
              "<table border=\"1\" class=\"dataframe\">\n",
              "  <thead>\n",
              "    <tr style=\"text-align: right;\">\n",
              "      <th></th>\n",
              "      <th>DY</th>\n",
              "      <th>docked_b</th>\n",
              "      <th>electric_b</th>\n",
              "      <th>count</th>\n",
              "      <th>MO</th>\n",
              "      <th>PS</th>\n",
              "      <th>T2M_RANGE</th>\n",
              "      <th>T2M_MAX</th>\n",
              "      <th>T2M_MIN</th>\n",
              "      <th>RH2M</th>\n",
              "    </tr>\n",
              "  </thead>\n",
              "  <tbody>\n",
              "    <tr>\n",
              "      <th>DY</th>\n",
              "      <td>1.000000</td>\n",
              "      <td>-0.353950</td>\n",
              "      <td>-0.202071</td>\n",
              "      <td>-0.365846</td>\n",
              "      <td>-0.028868</td>\n",
              "      <td>0.537939</td>\n",
              "      <td>0.051745</td>\n",
              "      <td>-0.231015</td>\n",
              "      <td>-0.219113</td>\n",
              "      <td>-0.182444</td>\n",
              "    </tr>\n",
              "    <tr>\n",
              "      <th>docked_b</th>\n",
              "      <td>-0.353950</td>\n",
              "      <td>1.000000</td>\n",
              "      <td>0.152277</td>\n",
              "      <td>0.756699</td>\n",
              "      <td>0.037994</td>\n",
              "      <td>-0.100217</td>\n",
              "      <td>0.126323</td>\n",
              "      <td>0.187820</td>\n",
              "      <td>0.111735</td>\n",
              "      <td>-0.218108</td>\n",
              "    </tr>\n",
              "    <tr>\n",
              "      <th>electric_b</th>\n",
              "      <td>-0.202071</td>\n",
              "      <td>0.152277</td>\n",
              "      <td>1.000000</td>\n",
              "      <td>0.761367</td>\n",
              "      <td>-0.097962</td>\n",
              "      <td>-0.366375</td>\n",
              "      <td>-0.132387</td>\n",
              "      <td>0.222845</td>\n",
              "      <td>0.243742</td>\n",
              "      <td>0.144984</td>\n",
              "    </tr>\n",
              "    <tr>\n",
              "      <th>count</th>\n",
              "      <td>-0.365846</td>\n",
              "      <td>0.756699</td>\n",
              "      <td>0.761367</td>\n",
              "      <td>1.000000</td>\n",
              "      <td>-0.039877</td>\n",
              "      <td>-0.308088</td>\n",
              "      <td>-0.004706</td>\n",
              "      <td>0.270612</td>\n",
              "      <td>0.234525</td>\n",
              "      <td>-0.047169</td>\n",
              "    </tr>\n",
              "    <tr>\n",
              "      <th>MO</th>\n",
              "      <td>-0.028868</td>\n",
              "      <td>0.037994</td>\n",
              "      <td>-0.097962</td>\n",
              "      <td>-0.039877</td>\n",
              "      <td>1.000000</td>\n",
              "      <td>0.353065</td>\n",
              "      <td>0.422258</td>\n",
              "      <td>-0.812817</td>\n",
              "      <td>-0.864897</td>\n",
              "      <td>-0.062049</td>\n",
              "    </tr>\n",
              "    <tr>\n",
              "      <th>PS</th>\n",
              "      <td>0.537939</td>\n",
              "      <td>-0.100217</td>\n",
              "      <td>-0.366375</td>\n",
              "      <td>-0.308088</td>\n",
              "      <td>0.353065</td>\n",
              "      <td>1.000000</td>\n",
              "      <td>0.229040</td>\n",
              "      <td>-0.652443</td>\n",
              "      <td>-0.650797</td>\n",
              "      <td>-0.455351</td>\n",
              "    </tr>\n",
              "    <tr>\n",
              "      <th>T2M_RANGE</th>\n",
              "      <td>0.051745</td>\n",
              "      <td>0.126323</td>\n",
              "      <td>-0.132387</td>\n",
              "      <td>-0.004706</td>\n",
              "      <td>0.422258</td>\n",
              "      <td>0.229040</td>\n",
              "      <td>1.000000</td>\n",
              "      <td>-0.157414</td>\n",
              "      <td>-0.528540</td>\n",
              "      <td>-0.697870</td>\n",
              "    </tr>\n",
              "    <tr>\n",
              "      <th>T2M_MAX</th>\n",
              "      <td>-0.231015</td>\n",
              "      <td>0.187820</td>\n",
              "      <td>0.222845</td>\n",
              "      <td>0.270612</td>\n",
              "      <td>-0.812817</td>\n",
              "      <td>-0.652443</td>\n",
              "      <td>-0.157414</td>\n",
              "      <td>1.000000</td>\n",
              "      <td>0.921524</td>\n",
              "      <td>0.076930</td>\n",
              "    </tr>\n",
              "    <tr>\n",
              "      <th>T2M_MIN</th>\n",
              "      <td>-0.219113</td>\n",
              "      <td>0.111735</td>\n",
              "      <td>0.243742</td>\n",
              "      <td>0.234525</td>\n",
              "      <td>-0.864897</td>\n",
              "      <td>-0.650797</td>\n",
              "      <td>-0.528540</td>\n",
              "      <td>0.921524</td>\n",
              "      <td>1.000000</td>\n",
              "      <td>0.340372</td>\n",
              "    </tr>\n",
              "    <tr>\n",
              "      <th>RH2M</th>\n",
              "      <td>-0.182444</td>\n",
              "      <td>-0.218108</td>\n",
              "      <td>0.144984</td>\n",
              "      <td>-0.047169</td>\n",
              "      <td>-0.062049</td>\n",
              "      <td>-0.455351</td>\n",
              "      <td>-0.697870</td>\n",
              "      <td>0.076930</td>\n",
              "      <td>0.340372</td>\n",
              "      <td>1.000000</td>\n",
              "    </tr>\n",
              "  </tbody>\n",
              "</table>\n",
              "</div>"
            ],
            "text/plain": [
              "                  DY  docked_b  electric_b  ...   T2M_MAX   T2M_MIN      RH2M\n",
              "DY          1.000000 -0.353950   -0.202071  ... -0.231015 -0.219113 -0.182444\n",
              "docked_b   -0.353950  1.000000    0.152277  ...  0.187820  0.111735 -0.218108\n",
              "electric_b -0.202071  0.152277    1.000000  ...  0.222845  0.243742  0.144984\n",
              "count      -0.365846  0.756699    0.761367  ...  0.270612  0.234525 -0.047169\n",
              "MO         -0.028868  0.037994   -0.097962  ... -0.812817 -0.864897 -0.062049\n",
              "PS          0.537939 -0.100217   -0.366375  ... -0.652443 -0.650797 -0.455351\n",
              "T2M_RANGE   0.051745  0.126323   -0.132387  ... -0.157414 -0.528540 -0.697870\n",
              "T2M_MAX    -0.231015  0.187820    0.222845  ...  1.000000  0.921524  0.076930\n",
              "T2M_MIN    -0.219113  0.111735    0.243742  ...  0.921524  1.000000  0.340372\n",
              "RH2M       -0.182444 -0.218108    0.144984  ...  0.076930  0.340372  1.000000\n",
              "\n",
              "[10 rows x 10 columns]"
            ]
          },
          "metadata": {
            "tags": []
          },
          "execution_count": 13
        }
      ]
    },
    {
      "cell_type": "code",
      "metadata": {
        "colab": {
          "base_uri": "https://localhost:8080/",
          "height": 596
        },
        "id": "HtWcsYBPX5en",
        "outputId": "90ccecdd-e04a-46e3-9bb5-9d34be4bb175"
      },
      "source": [
        "plt.figure(figsize=(16,10))\r\n",
        "sns.heatmap(modified.corr(), annot=True)\r\n",
        "plt.show()"
      ],
      "execution_count": 14,
      "outputs": [
        {
          "output_type": "display_data",
          "data": {
            "image/png": "[encoded data removed]",
            "text/plain": [
              "<Figure size 1152x720 with 2 Axes>"
            ]
          },
          "metadata": {
            "tags": [],
            "needs_background": "light"
          }
        }
      ]
    },
    {
      "cell_type": "code",
      "metadata": {
        "colab": {
          "base_uri": "https://localhost:8080/"
        },
        "id": "PzALkvPMwWB0",
        "outputId": "2a71b373-68a6-4da8-e6a4-4762ecf2705e"
      },
      "source": [
        "docked_count = modified['docked_b'].sum()\n",
        "print (docked_count)\n",
        "electric_count = modified['electric_b'].sum()\n",
        "print (electric_count)\n"
      ],
      "execution_count": 15,
      "outputs": [
        {
          "output_type": "stream",
          "text": [
            "423\n",
            "382\n"
          ],
          "name": "stdout"
        }
      ]
    },
    {
      "cell_type": "code",
      "metadata": {
        "colab": {
          "base_uri": "https://localhost:8080/"
        },
        "id": "-m_8SUIUwzaX",
        "outputId": "b0aca15c-13c3-486e-8025-03989e1d72e5"
      },
      "source": [
        "from sklearn.svm import SVC\n",
        "!pip3 install quandl\n",
        "!pip3 install sklearn\n",
        "import quandl, math\n",
        "from sklearn.model_selection import cross_validate\n",
        "from sklearn.model_selection import train_test_split\n",
        "from sklearn import preprocessing, svm\n",
        "from sklearn.linear_model import LinearRegression\n",
        "\n",
        "X = np.array(modified.drop(['count','docked_b','electric_b'], 1))\n",
        "y = np.array(modified['docked_b'])\n",
        "svclassifier = SVC(kernel='poly', degree=8)\n",
        "X_train, X_test, y_train, y_test = train_test_split(X, y, test_size=0.2)\n",
        "svclassifier.fit(X_train, y_train)\n"
      ],
      "execution_count": 16,
      "outputs": [
        {
          "output_type": "stream",
          "text": [
            "Requirement already satisfied: quandl in /usr/local/lib/python3.7/dist-packages (3.6.1)\n",
            "Requirement already satisfied: numpy>=1.8 in /usr/local/lib/python3.7/dist-packages (from quandl) (1.19.5)\n",
            "Requirement already satisfied: requests>=2.7.0 in /usr/local/lib/python3.7/dist-packages (from quandl) (2.23.0)\n",
            "Requirement already satisfied: python-dateutil in /usr/local/lib/python3.7/dist-packages (from quandl) (2.8.1)\n",
            "Requirement already satisfied: more-itertools in /usr/local/lib/python3.7/dist-packages (from quandl) (8.7.0)\n",
            "Requirement already satisfied: inflection>=0.3.1 in /usr/local/lib/python3.7/dist-packages (from quandl) (0.5.1)\n",
            "Requirement already satisfied: pandas>=0.14 in /usr/local/lib/python3.7/dist-packages (from quandl) (1.1.5)\n",
            "Requirement already satisfied: six in /usr/local/lib/python3.7/dist-packages (from quandl) (1.15.0)\n",
            "Requirement already satisfied: idna<3,>=2.5 in /usr/local/lib/python3.7/dist-packages (from requests>=2.7.0->quandl) (2.10)\n",
            "Requirement already satisfied: chardet<4,>=3.0.2 in /usr/local/lib/python3.7/dist-packages (from requests>=2.7.0->quandl) (3.0.4)\n",
            "Requirement already satisfied: urllib3!=1.25.0,!=1.25.1,<1.26,>=1.21.1 in /usr/local/lib/python3.7/dist-packages (from requests>=2.7.0->quandl) (1.24.3)\n",
            "Requirement already satisfied: certifi>=2017.4.17 in /usr/local/lib/python3.7/dist-packages (from requests>=2.7.0->quandl) (2020.12.5)\n",
            "Requirement already satisfied: pytz>=2017.2 in /usr/local/lib/python3.7/dist-packages (from pandas>=0.14->quandl) (2018.9)\n",
            "Requirement already satisfied: sklearn in /usr/local/lib/python3.7/dist-packages (0.0)\n",
            "Requirement already satisfied: scikit-learn in /usr/local/lib/python3.7/dist-packages (from sklearn) (0.22.2.post1)\n",
            "Requirement already satisfied: scipy>=0.17.0 in /usr/local/lib/python3.7/dist-packages (from scikit-learn->sklearn) (1.4.1)\n",
            "Requirement already satisfied: numpy>=1.11.0 in /usr/local/lib/python3.7/dist-packages (from scikit-learn->sklearn) (1.19.5)\n",
            "Requirement already satisfied: joblib>=0.11 in /usr/local/lib/python3.7/dist-packages (from scikit-learn->sklearn) (1.0.1)\n"
          ],
          "name": "stdout"
        },
        {
          "output_type": "execute_result",
          "data": {
            "text/plain": [
              "SVC(C=1.0, break_ties=False, cache_size=200, class_weight=None, coef0=0.0,\n",
              "    decision_function_shape='ovr', degree=8, gamma='scale', kernel='poly',\n",
              "    max_iter=-1, probability=False, random_state=None, shrinking=True,\n",
              "    tol=0.001, verbose=False)"
            ]
          },
          "metadata": {
            "tags": []
          },
          "execution_count": 16
        }
      ]
    },
    {
      "cell_type": "code",
      "metadata": {
        "id": "Ee2Wtl7Bw0ez"
      },
      "source": [
        "y_pred = svclassifier.predict(X_test)\n"
      ],
      "execution_count": 17,
      "outputs": []
    },
    {
      "cell_type": "code",
      "metadata": {
        "colab": {
          "base_uri": "https://localhost:8080/"
        },
        "id": "f5EwHY4bw7Bo",
        "outputId": "266fdf70-aabc-4a81-9e13-f2f394538dbd"
      },
      "source": [
        "from sklearn.metrics import classification_report, confusion_matrix\n",
        "print(confusion_matrix(y_test, y_pred))\n",
        "print(classification_report(y_test, y_pred))"
      ],
      "execution_count": 18,
      "outputs": [
        {
          "output_type": "stream",
          "text": [
            "[[0 0 0 1 0 0 0 0 0]\n",
            " [0 0 0 0 0 1 0 0 0]\n",
            " [0 0 0 0 0 0 0 0 0]\n",
            " [0 0 0 0 0 0 0 0 0]\n",
            " [0 0 0 0 0 0 0 0 0]\n",
            " [0 0 0 1 0 0 0 0 0]\n",
            " [0 0 0 0 0 0 1 0 0]\n",
            " [0 0 1 0 0 0 0 0 0]\n",
            " [0 0 0 0 1 0 0 0 1]]\n",
            "              precision    recall  f1-score   support\n",
            "\n",
            "           5       0.00      0.00      0.00         1\n",
            "           8       0.00      0.00      0.00         1\n",
            "          10       0.00      0.00      0.00         0\n",
            "          13       0.00      0.00      0.00         0\n",
            "          14       0.00      0.00      0.00         0\n",
            "          16       0.00      0.00      0.00         1\n",
            "          17       1.00      1.00      1.00         1\n",
            "          19       0.00      0.00      0.00         1\n",
            "          20       1.00      0.50      0.67         2\n",
            "\n",
            "    accuracy                           0.29         7\n",
            "   macro avg       0.22      0.17      0.19         7\n",
            "weighted avg       0.43      0.29      0.33         7\n",
            "\n"
          ],
          "name": "stdout"
        },
        {
          "output_type": "stream",
          "text": [
            "/usr/local/lib/python3.7/dist-packages/sklearn/metrics/_classification.py:1272: UndefinedMetricWarning: Precision and F-score are ill-defined and being set to 0.0 in labels with no predicted samples. Use `zero_division` parameter to control this behavior.\n",
            "  _warn_prf(average, modifier, msg_start, len(result))\n",
            "/usr/local/lib/python3.7/dist-packages/sklearn/metrics/_classification.py:1272: UndefinedMetricWarning: Recall and F-score are ill-defined and being set to 0.0 in labels with no true samples. Use `zero_division` parameter to control this behavior.\n",
            "  _warn_prf(average, modifier, msg_start, len(result))\n"
          ],
          "name": "stderr"
        }
      ]
    },
    {
      "cell_type": "code",
      "metadata": {
        "colab": {
          "base_uri": "https://localhost:8080/"
        },
        "id": "yazVW9f2y3yg",
        "outputId": "1b7c82a2-c88c-4701-96f8-2bb6280460cf"
      },
      "source": [
        "print(y_pred)\n",
        "print(y_test)"
      ],
      "execution_count": 19,
      "outputs": [
        {
          "output_type": "stream",
          "text": [
            "[16 17 10 14 13 20 13]\n",
            "[ 8 17 19 20 16 20  5]\n"
          ],
          "name": "stdout"
        }
      ]
    },
    {
      "cell_type": "code",
      "metadata": {
        "colab": {
          "base_uri": "https://localhost:8080/",
          "height": 406
        },
        "id": "5urHQ9ckcZWu",
        "outputId": "a9e32175-f919-479f-c433-de7435010545"
      },
      "source": [
        "# visualize the relationship between the features and the response using scatterplots\r\n",
        "sns.pairplot(modified, x_vars=['DY','MO','PS','T2M_RANGE','T2M_MIN','RH2M'], y_vars='docked_b', size=7, aspect=0.7)"
      ],
      "execution_count": 20,
      "outputs": [
        {
          "output_type": "stream",
          "text": [
            "/usr/local/lib/python3.7/dist-packages/seaborn/axisgrid.py:1969: UserWarning: The `size` parameter has been renamed to `height`; please update your code.\n",
            "  warnings.warn(msg, UserWarning)\n"
          ],
          "name": "stderr"
        },
        {
          "output_type": "execute_result",
          "data": {
            "text/plain": [
              "<seaborn.axisgrid.PairGrid at 0x7feefab638d0>"
            ]
          },
          "metadata": {
            "tags": []
          },
          "execution_count": 20
        },
        {
          "output_type": "display_data",
          "data": {
            "image/png": "[encoded data removed]",
            "text/plain": [
              "<Figure size 2116.8x504 with 6 Axes>"
            ]
          },
          "metadata": {
            "tags": [],
            "needs_background": "light"
          }
        }
      ]
    },
    {
      "cell_type": "code",
      "metadata": {
        "id": "KsWhVY1gfJVG",
        "colab": {
          "base_uri": "https://localhost:8080/",
          "height": 406
        },
        "outputId": "a3f573c0-7673-4e97-ecd3-2918f623d06a"
      },
      "source": [
        "# visualize the relationship between the features and the response using scatterplots\r\n",
        "sns.pairplot(modified, x_vars=['DY','MO','PS','T2M_RANGE','T2M_MIN','RH2M'], y_vars='electric_b', size=7, aspect=0.7)"
      ],
      "execution_count": 21,
      "outputs": [
        {
          "output_type": "stream",
          "text": [
            "/usr/local/lib/python3.7/dist-packages/seaborn/axisgrid.py:1969: UserWarning: The `size` parameter has been renamed to `height`; please update your code.\n",
            "  warnings.warn(msg, UserWarning)\n"
          ],
          "name": "stderr"
        },
        {
          "output_type": "execute_result",
          "data": {
            "text/plain": [
              "<seaborn.axisgrid.PairGrid at 0x7feefa9381d0>"
            ]
          },
          "metadata": {
            "tags": []
          },
          "execution_count": 21
        },
        {
          "output_type": "display_data",
          "data": {
            "image/png": "[encoded data removed]",
            "text/plain": [
              "<Figure size 2116.8x504 with 6 Axes>"
            ]
          },
          "metadata": {
            "tags": [],
            "needs_background": "light"
          }
        }
      ]
    },
    {
      "cell_type": "code",
      "metadata": {
        "id": "eavCdbkDxcCn"
      },
      "source": [
        "\n",
        "X = np.array(modified.drop(['PS','docked_b','count'], 1))\n",
        "y = np.array(modified['docked_b'])"
      ],
      "execution_count": 22,
      "outputs": []
    },
    {
      "cell_type": "code",
      "metadata": {
        "id": "pyo6K5ys2-mJ"
      },
      "source": [
        "X = preprocessing.scale(X)"
      ],
      "execution_count": 23,
      "outputs": []
    },
    {
      "cell_type": "code",
      "metadata": {
        "id": "eLdP8E-J3Frs"
      },
      "source": [
        "y = np.array(modified['docked_b'])"
      ],
      "execution_count": 24,
      "outputs": []
    },
    {
      "cell_type": "code",
      "metadata": {
        "id": "A3N7O-fl3Gg5"
      },
      "source": [
        "X_train, X_test, y_train, y_test = train_test_split(X, y, test_size=0.2)"
      ],
      "execution_count": 25,
      "outputs": []
    },
    {
      "cell_type": "code",
      "metadata": {
        "id": "pF6clCVG3LxE"
      },
      "source": [
        "clf = LinearRegression()"
      ],
      "execution_count": 26,
      "outputs": []
    },
    {
      "cell_type": "code",
      "metadata": {
        "id": "4m-grhQT3OW5",
        "colab": {
          "base_uri": "https://localhost:8080/"
        },
        "outputId": "2bd65748-df6e-4424-eca8-9d454de5f991"
      },
      "source": [
        "clf.fit(X_train, y_train)\n",
        "y_pred=clf.predict(X_test)\n",
        "y_pred\n"
      ],
      "execution_count": 27,
      "outputs": [
        {
          "output_type": "execute_result",
          "data": {
            "text/plain": [
              "array([17.95646796, 16.53156658, 11.5236334 , 13.0390536 ,  8.24567261,\n",
              "       21.21298681, 15.13478564])"
            ]
          },
          "metadata": {
            "tags": []
          },
          "execution_count": 27
        }
      ]
    },
    {
      "cell_type": "code",
      "metadata": {
        "id": "3pFT0oXyhhst",
        "colab": {
          "base_uri": "https://localhost:8080/"
        },
        "outputId": "f2fb1d07-8374-4290-8ce1-01430c1e9768"
      },
      "source": [
        "y_test"
      ],
      "execution_count": 28,
      "outputs": [
        {
          "output_type": "execute_result",
          "data": {
            "text/plain": [
              "array([14,  8, 13,  6, 13, 20, 10])"
            ]
          },
          "metadata": {
            "tags": []
          },
          "execution_count": 28
        }
      ]
    },
    {
      "cell_type": "code",
      "metadata": {
        "id": "1H9xCLQwuSD8",
        "colab": {
          "base_uri": "https://localhost:8080/"
        },
        "outputId": "fa53b9a9-401d-4b45-a4ff-e13e93d0a25c"
      },
      "source": [
        "clf.fit(X_train, y_train)\r\n",
        "confidence = clf.score(X_test, y_test)\r\n",
        "print(confidence)"
      ],
      "execution_count": 29,
      "outputs": [
        {
          "output_type": "stream",
          "text": [
            "-0.5127792889877125\n"
          ],
          "name": "stdout"
        }
      ]
    },
    {
      "cell_type": "code",
      "metadata": {
        "id": "Gcum_8hmBRGR",
        "colab": {
          "base_uri": "https://localhost:8080/"
        },
        "outputId": "e39e528e-fd34-4a5a-d928-8bdb741ea1cb"
      },
      "source": [
        "#To retrieve the intercept:\r\n",
        "print(clf.intercept_)\r\n",
        "\r\n",
        "#For retrieving the slope:\r\n",
        "print(clf.coef_)"
      ],
      "execution_count": 30,
      "outputs": [
        {
          "output_type": "stream",
          "text": [
            "14.278844083888096\n",
            "[-7.19732855e-01 -2.50415919e-02  5.18407591e+00 -1.18534062e+02\n",
            "  2.59025290e+02 -2.95340054e+02 -3.93584950e+00]\n"
          ],
          "name": "stdout"
        }
      ]
    },
    {
      "cell_type": "code",
      "metadata": {
        "id": "WABMQxekFGxr",
        "colab": {
          "base_uri": "https://localhost:8080/",
          "height": 254
        },
        "outputId": "7c7b85b7-49e2-448a-de88-e2e02fc6e9a0"
      },
      "source": [
        "df2 = pd.DataFrame({'Actual': y_test.flatten(), 'Predicted': y_pred.flatten()})\r\n",
        "df2\r\n"
      ],
      "execution_count": 31,
      "outputs": [
        {
          "output_type": "execute_result",
          "data": {
            "text/html": [
              "<div>\n",
              "<style scoped>\n",
              "    .dataframe tbody tr th:only-of-type {\n",
              "        vertical-align: middle;\n",
              "    }\n",
              "\n",
              "    .dataframe tbody tr th {\n",
              "        vertical-align: top;\n",
              "    }\n",
              "\n",
              "    .dataframe thead th {\n",
              "        text-align: right;\n",
              "    }\n",
              "</style>\n",
              "<table border=\"1\" class=\"dataframe\">\n",
              "  <thead>\n",
              "    <tr style=\"text-align: right;\">\n",
              "      <th></th>\n",
              "      <th>Actual</th>\n",
              "      <th>Predicted</th>\n",
              "    </tr>\n",
              "  </thead>\n",
              "  <tbody>\n",
              "    <tr>\n",
              "      <th>0</th>\n",
              "      <td>14</td>\n",
              "      <td>17.956468</td>\n",
              "    </tr>\n",
              "    <tr>\n",
              "      <th>1</th>\n",
              "      <td>8</td>\n",
              "      <td>16.531567</td>\n",
              "    </tr>\n",
              "    <tr>\n",
              "      <th>2</th>\n",
              "      <td>13</td>\n",
              "      <td>11.523633</td>\n",
              "    </tr>\n",
              "    <tr>\n",
              "      <th>3</th>\n",
              "      <td>6</td>\n",
              "      <td>13.039054</td>\n",
              "    </tr>\n",
              "    <tr>\n",
              "      <th>4</th>\n",
              "      <td>13</td>\n",
              "      <td>8.245673</td>\n",
              "    </tr>\n",
              "    <tr>\n",
              "      <th>5</th>\n",
              "      <td>20</td>\n",
              "      <td>21.212987</td>\n",
              "    </tr>\n",
              "    <tr>\n",
              "      <th>6</th>\n",
              "      <td>10</td>\n",
              "      <td>15.134786</td>\n",
              "    </tr>\n",
              "  </tbody>\n",
              "</table>\n",
              "</div>"
            ],
            "text/plain": [
              "   Actual  Predicted\n",
              "0      14  17.956468\n",
              "1       8  16.531567\n",
              "2      13  11.523633\n",
              "3       6  13.039054\n",
              "4      13   8.245673\n",
              "5      20  21.212987\n",
              "6      10  15.134786"
            ]
          },
          "metadata": {
            "tags": []
          },
          "execution_count": 31
        }
      ]
    },
    {
      "cell_type": "code",
      "metadata": {
        "id": "5DmsX38dUBoi"
      },
      "source": [
        "y_test1 = y_test\r\n",
        "y_pred1 = y_pred"
      ],
      "execution_count": 32,
      "outputs": []
    },
    {
      "cell_type": "code",
      "metadata": {
        "id": "UT4OTMJfSnrG",
        "colab": {
          "base_uri": "https://localhost:8080/"
        },
        "outputId": "acb7ae1a-a206-46e3-8ce7-e68514ed4d2d"
      },
      "source": [
        "from sklearn.metrics import mean_squared_error\r\n",
        "mse1 = mean_squared_error(y_test1, y_pred1)\r\n",
        "mse1"
      ],
      "execution_count": 33,
      "outputs": [
        {
          "output_type": "execute_result",
          "data": {
            "text/plain": [
              "27.230027201778825"
            ]
          },
          "metadata": {
            "tags": []
          },
          "execution_count": 33
        }
      ]
    },
    {
      "cell_type": "code",
      "metadata": {
        "id": "AoX8qZv7eJuZ"
      },
      "source": [
        "X = np.array(modified.drop(['PS','electric_b','count'], 1))\r\n",
        "y = np.array(modified['electric_b'])"
      ],
      "execution_count": 34,
      "outputs": []
    },
    {
      "cell_type": "code",
      "metadata": {
        "id": "U8Gu9O_sejY-"
      },
      "source": [
        "#X = preprocessing.scale(X)\r\n",
        "y = np.array(modified['electric_b'])\r\n",
        "X_train, X_test, y_train, y_test = train_test_split(X, y, test_size=0.2)\r\n",
        "clf = LinearRegression()"
      ],
      "execution_count": 35,
      "outputs": []
    },
    {
      "cell_type": "code",
      "metadata": {
        "id": "jk5iRQNQejlD",
        "colab": {
          "base_uri": "https://localhost:8080/"
        },
        "outputId": "8850e27e-9e18-4924-e658-d46a0e79fe5a"
      },
      "source": [
        "clf.fit(X_train, y_train)\r\n",
        "confidence = clf.score(X_test, y_test)\r\n",
        "print(confidence)\r\n"
      ],
      "execution_count": 36,
      "outputs": [
        {
          "output_type": "stream",
          "text": [
            "0.01671284850363064\n"
          ],
          "name": "stdout"
        }
      ]
    },
    {
      "cell_type": "code",
      "metadata": {
        "id": "huMRJyJUej09",
        "colab": {
          "base_uri": "https://localhost:8080/"
        },
        "outputId": "9654fab0-8879-4d85-d08d-37b2065f6e55"
      },
      "source": [
        "U=clf.predict(X_test)\r\n",
        "U"
      ],
      "execution_count": 37,
      "outputs": [
        {
          "output_type": "execute_result",
          "data": {
            "text/plain": [
              "array([12.91354029, 10.18750961, 10.29786695, 16.75869784, 10.86284364,\n",
              "       12.77035652, 13.87591969])"
            ]
          },
          "metadata": {
            "tags": []
          },
          "execution_count": 37
        }
      ]
    },
    {
      "cell_type": "code",
      "metadata": {
        "id": "gDWlpqaHgM6v",
        "colab": {
          "base_uri": "https://localhost:8080/"
        },
        "outputId": "532e7d28-0002-436c-849c-3de1004baa84"
      },
      "source": [
        "y_test"
      ],
      "execution_count": 38,
      "outputs": [
        {
          "output_type": "execute_result",
          "data": {
            "text/plain": [
              "array([ 8,  8, 10, 15, 11, 12, 12])"
            ]
          },
          "metadata": {
            "tags": []
          },
          "execution_count": 38
        }
      ]
    },
    {
      "cell_type": "code",
      "metadata": {
        "id": "tp_cTCoagSNL",
        "colab": {
          "base_uri": "https://localhost:8080/"
        },
        "outputId": "a21ac2e7-e599-4a67-9a3b-57f3d3aaf1f5"
      },
      "source": [
        "clf.score(X_test,y_test)"
      ],
      "execution_count": 39,
      "outputs": [
        {
          "output_type": "execute_result",
          "data": {
            "text/plain": [
              "0.01671284850363064"
            ]
          },
          "metadata": {
            "tags": []
          },
          "execution_count": 39
        }
      ]
    },
    {
      "cell_type": "code",
      "metadata": {
        "id": "OXxRXMasUxgJ"
      },
      "source": [
        "y_test2 = y_test\r\n",
        "y_pred2 = U"
      ],
      "execution_count": 40,
      "outputs": []
    },
    {
      "cell_type": "code",
      "metadata": {
        "id": "VY8yptyzch-Z",
        "colab": {
          "base_uri": "https://localhost:8080/"
        },
        "outputId": "dac65085-f19a-43aa-9d62-20532f22b65d"
      },
      "source": [
        "from sklearn.metrics import mean_squared_error\r\n",
        "mse2 = mean_squared_error(y_test2, y_pred2)\r\n",
        "mse2"
      ],
      "execution_count": 41,
      "outputs": [
        {
          "output_type": "execute_result",
          "data": {
            "text/plain": [
              "5.177307858899253"
            ]
          },
          "metadata": {
            "tags": []
          },
          "execution_count": 41
        }
      ]
    },
    {
      "cell_type": "code",
      "metadata": {
        "id": "0FyIbN9d_ziZ",
        "colab": {
          "base_uri": "https://localhost:8080/"
        },
        "outputId": "1408cb98-2064-4092-f540-f4b9020675d8"
      },
      "source": [
        "ls = []\r\n",
        "mse_list = []\r\n",
        "for i in range(0,30):\r\n",
        "  u = (i)%31\r\n",
        "  v = (26+i)%31\r\n",
        "  if v >= 26:\r\n",
        "    x = modified[u:v]\r\n",
        "    y = modified[v:]\r\n",
        "    z = modified[:u]\r\n",
        "    y = y.append(z)\r\n",
        "  else:\r\n",
        "    x = modified[v:u]\r\n",
        "    y = modified[u:]\r\n",
        "    z = modified[:v]\r\n",
        "    y = y.append(z)\r\n",
        "  y = pd.DataFrame(y)\r\n",
        "  x = pd.DataFrame(x)\r\n",
        "  X_train = np.array(x.drop(['PS','docked_b','count'], 1))\r\n",
        "  y_train = np.array(x['docked_b'])\r\n",
        "  X_test = np.array(y.drop(['PS','docked_b','count'], 1))\r\n",
        "  y_test = np.array(y['docked_b'])\r\n",
        "  clf = LinearRegression()\r\n",
        "  clf.fit(X_train, y_train)\r\n",
        "  y_pred = clf.predict(X_test)\r\n",
        "  confidence = clf.score(X_test, y_test)\r\n",
        "  mse_reg = mean_squared_error(y_test, y_pred)\r\n",
        "  ls.append(confidence)\r\n",
        "  mse_list.append(mse_reg)\r\n",
        "mean_regression_d = np.mean(ls)\r\n",
        "max_reg_d = np.max(ls)\r\n",
        "mean_mse_reg_d = np.mean(mse_reg)\r\n",
        "mean_regression_d"
      ],
      "execution_count": 42,
      "outputs": [
        {
          "output_type": "execute_result",
          "data": {
            "text/plain": [
              "-2.0330346305819487e+23"
            ]
          },
          "metadata": {
            "tags": []
          },
          "execution_count": 42
        }
      ]
    },
    {
      "cell_type": "code",
      "metadata": {
        "id": "Bu7TPXSap8P3",
        "colab": {
          "base_uri": "https://localhost:8080/"
        },
        "outputId": "55869854-0dac-4189-d0dc-5156218b73ff"
      },
      "source": [
        "ls = []\r\n",
        "for i in range(0,30):\r\n",
        "  u = (i)%31\r\n",
        "  v = (26+i)%31\r\n",
        "  if v >= 26:\r\n",
        "    x = modified[u:v]\r\n",
        "    y = modified[v:]\r\n",
        "    z = modified[:u]\r\n",
        "    y = y.append(z)\r\n",
        "  else:\r\n",
        "    x = modified[v:u]\r\n",
        "    y = modified[u:]\r\n",
        "    z = modified[:v]\r\n",
        "    y = y.append(z)\r\n",
        "  y = pd.DataFrame(y)\r\n",
        "  x = pd.DataFrame(x)\r\n",
        "  X_train = np.array(x.drop(['PS','electric_b','count'], 1))\r\n",
        "  y_train = np.array(x['electric_b'])\r\n",
        "  X_test = np.array(y.drop(['PS','electric_b','count'], 1))\r\n",
        "  y_test = np.array(y['electric_b'])\r\n",
        "  clf = LinearRegression()\r\n",
        "  clf.fit(X_train, y_train)\r\n",
        "  y_pred = clf.predict(X_test)\r\n",
        "  confidence = clf.score(X_test, y_test)\r\n",
        "  mse_reg = mean_squared_error(y_test, y_pred)\r\n",
        "  ls.append(confidence)\r\n",
        "  mse_list.append(mse_reg)\r\n",
        "mean_regression_e = np.mean(ls)\r\n",
        "max_reg_e = np.max(ls)\r\n",
        "mean_mse_reg_e = np.mean(mse_reg)\r\n",
        "print(mean_regression_e)"
      ],
      "execution_count": 43,
      "outputs": [
        {
          "output_type": "stream",
          "text": [
            "-1.4155959116413407e+26\n"
          ],
          "name": "stdout"
        }
      ]
    },
    {
      "cell_type": "code",
      "metadata": {
        "id": "HOqgmrvPE7Xg",
        "colab": {
          "base_uri": "https://localhost:8080/"
        },
        "outputId": "baa0f512-8892-464b-a2b5-05e3e24eba8c"
      },
      "source": [
        "from sklearn.preprocessing import StandardScaler\r\n",
        "from sklearn.ensemble import RandomForestRegressor\r\n",
        "ls = []\r\n",
        "for i in range(0,15):\r\n",
        "  u = (i)%31\r\n",
        "  v = (26+i)%31\r\n",
        "  if v >= 26:\r\n",
        "    x = modified[u:v]\r\n",
        "    y = modified[v:]\r\n",
        "    z = modified[:u]\r\n",
        "    y = y.append(z)\r\n",
        "  else:\r\n",
        "    x = modified[v:u]\r\n",
        "    y = modified[u:]\r\n",
        "    z = modified[:v]\r\n",
        "    y = y.append(z)\r\n",
        "  y = pd.DataFrame(y)\r\n",
        "  x = pd.DataFrame(x)\r\n",
        "  X_train = np.array(x.drop(['PS','docked_b','count'], 1))\r\n",
        "  y_train = np.array(x['docked_b'])\r\n",
        "  X_test = np.array(y.drop(['PS','docked_b','count'], 1))\r\n",
        "  y_test = np.array(y['docked_b'])\r\n",
        "  sc = StandardScaler()\r\n",
        "  X_train = sc.fit_transform(X_train)\r\n",
        "  X_test = sc.transform(X_test)\r\n",
        "  regressor = RandomForestRegressor(n_estimators=10, random_state=20)\r\n",
        "  regressor.fit(X_train, y_train)\r\n",
        "  y_pred = regressor.predict(X_test)\r\n",
        "  confidence = regressor.score(X_test, y_test)\r\n",
        "  mse_reg = mean_squared_error(y_test, y_pred)\r\n",
        "  ls.append(confidence)\r\n",
        "  mse_list.append(mse_reg)\r\n",
        "Random_forest_max_d = np.max(ls)\r\n",
        "Random_forest_mean_d = np.mean(ls)\r\n",
        "mean_mse_rand_d = np.mean(mse_reg)\r\n",
        "Random_forest_mean_d"
      ],
      "execution_count": 44,
      "outputs": [
        {
          "output_type": "execute_result",
          "data": {
            "text/plain": [
              "-0.33484114283619243"
            ]
          },
          "metadata": {
            "tags": []
          },
          "execution_count": 44
        }
      ]
    },
    {
      "cell_type": "code",
      "metadata": {
        "id": "cfuPfrp-rJZ9",
        "colab": {
          "base_uri": "https://localhost:8080/"
        },
        "outputId": "c6730e41-2db8-4329-de95-ffb8fbf568b2"
      },
      "source": [
        "from sklearn.preprocessing import StandardScaler\r\n",
        "from sklearn.ensemble import RandomForestRegressor\r\n",
        "ls = []\r\n",
        "for i in range(0,30):\r\n",
        "  u = (i)%31\r\n",
        "  v = (26+i)%31\r\n",
        "  if v >= 26:\r\n",
        "    x = modified[u:v]\r\n",
        "    y = modified[v:]\r\n",
        "    z = modified[:u]\r\n",
        "    y = y.append(z)\r\n",
        "  else:\r\n",
        "    x = modified[v:u]\r\n",
        "    y = modified[u:]\r\n",
        "    z = modified[:v]\r\n",
        "    y = y.append(z)\r\n",
        "  y = pd.DataFrame(y)\r\n",
        "  x = pd.DataFrame(x)\r\n",
        "  X_train = np.array(x.drop(['PS','electric_b','count'], 1))\r\n",
        "  y_train = np.array(x['electric_b'])\r\n",
        "  X_test = np.array(y.drop(['PS','electric_b','count'], 1))\r\n",
        "  y_test = np.array(y['electric_b'])\r\n",
        "  sc = StandardScaler()\r\n",
        "  X_train = sc.fit_transform(X_train)\r\n",
        "  X_test = sc.transform(X_test)\r\n",
        "  regressor = RandomForestRegressor(n_estimators=10, random_state=20)\r\n",
        "  regressor.fit(X_train, y_train)\r\n",
        "  y_pred = regressor.predict(X_test)\r\n",
        "  mse_reg = mean_squared_error(y_test, y_pred)\r\n",
        "  confidence = regressor.score(X_test, y_test)\r\n",
        "  ls.append(confidence)\r\n",
        "  mse_list.append(mse_reg)\r\n",
        "Random_forest_max_e = np.max(ls)\r\n",
        "Random_regression_e = np.mean(ls)\r\n",
        "mean_mse_forest_e = np.mean(mse_reg)\r\n",
        "Random_regression_e"
      ],
      "execution_count": 45,
      "outputs": [
        {
          "output_type": "execute_result",
          "data": {
            "text/plain": [
              "-1.2409966561385015"
            ]
          },
          "metadata": {
            "tags": []
          },
          "execution_count": 45
        }
      ]
    },
    {
      "cell_type": "markdown",
      "metadata": {
        "id": "-tELNmQElXRO"
      },
      "source": [
        "***Results -------------------//////***\r\n",
        "\r\n",
        "\r\n"
      ]
    },
    {
      "cell_type": "code",
      "metadata": {
        "id": "xdXJuCoaa0pe",
        "colab": {
          "base_uri": "https://localhost:8080/",
          "height": 271
        },
        "outputId": "987b87e7-e757-4a9a-c90e-ed77c57e7071"
      },
      "source": [
        "#linear regression Electric bike\r\n",
        "print(\"Actual and predicted value of Electric bike\")\r\n",
        "df1 = pd.DataFrame({'Actual': y_test1.flatten(), 'Predicted': y_pred1.flatten()})\r\n",
        "df1"
      ],
      "execution_count": 46,
      "outputs": [
        {
          "output_type": "stream",
          "text": [
            "Actual and predicted value of Electric bike\n"
          ],
          "name": "stdout"
        },
        {
          "output_type": "execute_result",
          "data": {
            "text/html": [
              "<div>\n",
              "<style scoped>\n",
              "    .dataframe tbody tr th:only-of-type {\n",
              "        vertical-align: middle;\n",
              "    }\n",
              "\n",
              "    .dataframe tbody tr th {\n",
              "        vertical-align: top;\n",
              "    }\n",
              "\n",
              "    .dataframe thead th {\n",
              "        text-align: right;\n",
              "    }\n",
              "</style>\n",
              "<table border=\"1\" class=\"dataframe\">\n",
              "  <thead>\n",
              "    <tr style=\"text-align: right;\">\n",
              "      <th></th>\n",
              "      <th>Actual</th>\n",
              "      <th>Predicted</th>\n",
              "    </tr>\n",
              "  </thead>\n",
              "  <tbody>\n",
              "    <tr>\n",
              "      <th>0</th>\n",
              "      <td>14</td>\n",
              "      <td>17.956468</td>\n",
              "    </tr>\n",
              "    <tr>\n",
              "      <th>1</th>\n",
              "      <td>8</td>\n",
              "      <td>16.531567</td>\n",
              "    </tr>\n",
              "    <tr>\n",
              "      <th>2</th>\n",
              "      <td>13</td>\n",
              "      <td>11.523633</td>\n",
              "    </tr>\n",
              "    <tr>\n",
              "      <th>3</th>\n",
              "      <td>6</td>\n",
              "      <td>13.039054</td>\n",
              "    </tr>\n",
              "    <tr>\n",
              "      <th>4</th>\n",
              "      <td>13</td>\n",
              "      <td>8.245673</td>\n",
              "    </tr>\n",
              "    <tr>\n",
              "      <th>5</th>\n",
              "      <td>20</td>\n",
              "      <td>21.212987</td>\n",
              "    </tr>\n",
              "    <tr>\n",
              "      <th>6</th>\n",
              "      <td>10</td>\n",
              "      <td>15.134786</td>\n",
              "    </tr>\n",
              "  </tbody>\n",
              "</table>\n",
              "</div>"
            ],
            "text/plain": [
              "   Actual  Predicted\n",
              "0      14  17.956468\n",
              "1       8  16.531567\n",
              "2      13  11.523633\n",
              "3       6  13.039054\n",
              "4      13   8.245673\n",
              "5      20  21.212987\n",
              "6      10  15.134786"
            ]
          },
          "metadata": {
            "tags": []
          },
          "execution_count": 46
        }
      ]
    },
    {
      "cell_type": "code",
      "metadata": {
        "id": "NlTVHc2BYgb8",
        "colab": {
          "base_uri": "https://localhost:8080/",
          "height": 271
        },
        "outputId": "08b3e81d-b726-47f4-e584-4bc2398d3a31"
      },
      "source": [
        "#linear regression Docked bike\r\n",
        "print(\"Actual and predicted value of Docked bike\")\r\n",
        "df2 = pd.DataFrame({'Actual': y_test2.flatten(), 'Predicted': y_pred2.flatten()})\r\n",
        "df2"
      ],
      "execution_count": 47,
      "outputs": [
        {
          "output_type": "stream",
          "text": [
            "Actual and predicted value of Docked bike\n"
          ],
          "name": "stdout"
        },
        {
          "output_type": "execute_result",
          "data": {
            "text/html": [
              "<div>\n",
              "<style scoped>\n",
              "    .dataframe tbody tr th:only-of-type {\n",
              "        vertical-align: middle;\n",
              "    }\n",
              "\n",
              "    .dataframe tbody tr th {\n",
              "        vertical-align: top;\n",
              "    }\n",
              "\n",
              "    .dataframe thead th {\n",
              "        text-align: right;\n",
              "    }\n",
              "</style>\n",
              "<table border=\"1\" class=\"dataframe\">\n",
              "  <thead>\n",
              "    <tr style=\"text-align: right;\">\n",
              "      <th></th>\n",
              "      <th>Actual</th>\n",
              "      <th>Predicted</th>\n",
              "    </tr>\n",
              "  </thead>\n",
              "  <tbody>\n",
              "    <tr>\n",
              "      <th>0</th>\n",
              "      <td>8</td>\n",
              "      <td>12.913540</td>\n",
              "    </tr>\n",
              "    <tr>\n",
              "      <th>1</th>\n",
              "      <td>8</td>\n",
              "      <td>10.187510</td>\n",
              "    </tr>\n",
              "    <tr>\n",
              "      <th>2</th>\n",
              "      <td>10</td>\n",
              "      <td>10.297867</td>\n",
              "    </tr>\n",
              "    <tr>\n",
              "      <th>3</th>\n",
              "      <td>15</td>\n",
              "      <td>16.758698</td>\n",
              "    </tr>\n",
              "    <tr>\n",
              "      <th>4</th>\n",
              "      <td>11</td>\n",
              "      <td>10.862844</td>\n",
              "    </tr>\n",
              "    <tr>\n",
              "      <th>5</th>\n",
              "      <td>12</td>\n",
              "      <td>12.770357</td>\n",
              "    </tr>\n",
              "    <tr>\n",
              "      <th>6</th>\n",
              "      <td>12</td>\n",
              "      <td>13.875920</td>\n",
              "    </tr>\n",
              "  </tbody>\n",
              "</table>\n",
              "</div>"
            ],
            "text/plain": [
              "   Actual  Predicted\n",
              "0       8  12.913540\n",
              "1       8  10.187510\n",
              "2      10  10.297867\n",
              "3      15  16.758698\n",
              "4      11  10.862844\n",
              "5      12  12.770357\n",
              "6      12  13.875920"
            ]
          },
          "metadata": {
            "tags": []
          },
          "execution_count": 47
        }
      ]
    },
    {
      "cell_type": "code",
      "metadata": {
        "id": "6gDIxuhfcOwM",
        "colab": {
          "base_uri": "https://localhost:8080/"
        },
        "outputId": "c7f21450-c622-45b7-c8c9-955118db7ca6"
      },
      "source": [
        "from prettytable import PrettyTable\r\n",
        "print('Accuracy of Docked and Electric (with cross validation) using Linear Regression')\r\n",
        "t = PrettyTable(['Bike', 'Means Square Error'])\r\n",
        "t.add_row(['Docked', mse1])\r\n",
        "t.add_row(['Electric', mse2])\r\n",
        "print(t)"
      ],
      "execution_count": 48,
      "outputs": [
        {
          "output_type": "stream",
          "text": [
            "Accuracy of Docked and Electric (with cross validation) using Linear Regression\n",
            "+----------+--------------------+\n",
            "|   Bike   | Means Square Error |\n",
            "+----------+--------------------+\n",
            "|  Docked  | 27.230027201778825 |\n",
            "| Electric | 5.177307858899253  |\n",
            "+----------+--------------------+\n"
          ],
          "name": "stdout"
        }
      ]
    },
    {
      "cell_type": "code",
      "metadata": {
        "id": "7DUfEVg6Zl_k",
        "colab": {
          "base_uri": "https://localhost:8080/"
        },
        "outputId": "90ef7ecb-a130-4194-e5f8-581c41f78a56"
      },
      "source": [
        "from prettytable import PrettyTable\r\n",
        "print('Accuracy of Docked and Electric (with cross validation) using Linear Regression')\r\n",
        "t = PrettyTable(['Bike','Avg. Mean Square Error','Max Accuracy', 'Accuracy'])\r\n",
        "t.add_row(['Docked',mean_mse_reg_d,max_reg_d, mean_regression_d])\r\n",
        "t.add_row(['Electric',mean_mse_reg_e,max_reg_e, mean_regression_e])\r\n",
        "print(t)"
      ],
      "execution_count": 49,
      "outputs": [
        {
          "output_type": "stream",
          "text": [
            "Accuracy of Docked and Electric (with cross validation) using Linear Regression\n",
            "+----------+------------------------+---------------------+-------------------------+\n",
            "|   Bike   | Avg. Mean Square Error |     Max Accuracy    |         Accuracy        |\n",
            "+----------+------------------------+---------------------+-------------------------+\n",
            "|  Docked  |   52121.99740824696    | 0.17494142117616063 | -2.0330346305819487e+23 |\n",
            "| Electric |   1814.2995324498825   | -0.9113150035152838 | -1.4155959116413407e+26 |\n",
            "+----------+------------------------+---------------------+-------------------------+\n"
          ],
          "name": "stdout"
        }
      ]
    },
    {
      "cell_type": "code",
      "metadata": {
        "id": "5PVxntRRbqsv",
        "colab": {
          "base_uri": "https://localhost:8080/"
        },
        "outputId": "5af82c11-1d0d-467d-be90-2f91e1c50b87"
      },
      "source": [
        "from prettytable import PrettyTable\r\n",
        "print('Accuracy of Docked and Electric (with cross validation) using Random Forest')\r\n",
        "t = PrettyTable(['Bike','Avg. Mean Square Error','Max Accuracy', 'Mean Accuracy'])\r\n",
        "t.add_row(['Docked',mean_mse_rand_d, Random_forest_max_d ,Random_forest_mean_d])\r\n",
        "t.add_row(['Electric',mean_mse_forest_e, Random_forest_max_e, Random_regression_e])\r\n",
        "print(t)"
      ],
      "execution_count": 50,
      "outputs": [
        {
          "output_type": "stream",
          "text": [
            "Accuracy of Docked and Electric (with cross validation) using Random Forest\n",
            "+----------+------------------------+---------------------+----------------------+\n",
            "|   Bike   | Avg. Mean Square Error |     Max Accuracy    |    Mean Accuracy     |\n",
            "+----------+------------------------+---------------------+----------------------+\n",
            "|  Docked  |   43.49185185185185    | 0.20635977337110467 | -0.33484114283619243 |\n",
            "| Electric |   40.321481481481484   | 0.04194472640029512 | -1.2409966561385015  |\n",
            "+----------+------------------------+---------------------+----------------------+\n"
          ],
          "name": "stdout"
        }
      ]
    },
    {
      "cell_type": "code",
      "metadata": {
        "id": "jV80XHn9bAWU"
      },
      "source": [
        ""
      ],
      "execution_count": 50,
      "outputs": []
    }
  ]
}