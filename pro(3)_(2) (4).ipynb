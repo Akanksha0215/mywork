{
  "nbformat": 4,
  "nbformat_minor": 0,
  "metadata": {
    "colab": {
      "name": "pro(3) (2).ipynb",
      "provenance": [],
      "collapsed_sections": []
    },
    "kernelspec": {
      "display_name": "Python 3",
      "name": "python3"
    }
  },
  "cells": [
    {
      "cell_type": "code",
      "metadata": {
        "id": "4IKfoqOYoQuU"
      },
      "source": [
        "# Importing Library -------------%%%%\n",
        "\n",
        "!pip install -U -q PyDrive\n",
        "from pydrive.auth import GoogleAuth\n",
        "from pydrive.drive import GoogleDrive\n",
        "from google.colab import auth\n",
        "from oauth2client.client import GoogleCredentials\n",
        "\n",
        "import pandas as pd \n",
        "%matplotlib inline\n",
        "import matplotlib.pyplot as plt\n",
        "import numpy as np\n",
        "from scipy.stats import norm\n",
        "import seaborn as sns\n",
        "\n"
      ],
      "execution_count": 1,
      "outputs": []
    },
    {
      "cell_type": "code",
      "metadata": {
        "id": "QDoU_XCxoTUo"
      },
      "source": [
        " Authenticating Users ------------%%%%%%\n",
        "auth.authenticate_user()\n",
        "gauth = GoogleAuth()\n",
        "gauth.credentials = GoogleCredentials.get_application_default()\n",
        "drive = GoogleDrive(gauth)\n"
      ],
      "execution_count": 2,
      "outputs": []
    },
    {
      "cell_type": "code",
      "metadata": {
        "id": "1FDPfz04oYEP"
      },
      "source": [
        "\n",
        "\n",
        "\n",
        "downloaded = drive.CreateFile({'id':'1H3Dpt2nkyFhpap7CuATl_YGi2dXJFS7z'}) # replace the id with id of file you want to access\n",
        "downloaded.GetContentFile('tv.csv')\n",
        "\n",
        "downloaded = drive.CreateFile({'id':'1sYMrQB_ViWlhUAkBA_znHSZLxDPHIQBh'}) # replace the id with id of file you want to access\n",
        "downloaded.GetContentFile('temp_data.csv')"
      ],
      "execution_count": 3,
      "outputs": []
    },
    {
      "cell_type": "code",
      "metadata": {
        "colab": {
          "base_uri": "https://localhost:8080/",
          "height": 194
        },
        "id": "BwRH-xonH1R8",
        "outputId": "90d55fd8-f933-4add-c4f3-8f549cc6a0e3"
      },
      "source": [
        "#imporing capitalbikeshare-tripdata dataset\n",
        "temp = pd.read_csv(\"temp_data.csv\") \n",
        "temp.head()"
      ],
      "execution_count": 4,
      "outputs": [
        {
          "output_type": "execute_result",
          "data": {
            "text/html": [
              "<div>\n",
              "<style scoped>\n",
              "    .dataframe tbody tr th:only-of-type {\n",
              "        vertical-align: middle;\n",
              "    }\n",
              "\n",
              "    .dataframe tbody tr th {\n",
              "        vertical-align: top;\n",
              "    }\n",
              "\n",
              "    .dataframe thead th {\n",
              "        text-align: right;\n",
              "    }\n",
              "</style>\n",
              "<table border=\"1\" class=\"dataframe\">\n",
              "  <thead>\n",
              "    <tr style=\"text-align: right;\">\n",
              "      <th></th>\n",
              "      <th>LAT</th>\n",
              "      <th>LON</th>\n",
              "      <th>YEAR</th>\n",
              "      <th>MO</th>\n",
              "      <th>DY</th>\n",
              "      <th>PRECTOT</th>\n",
              "      <th>QV2M</th>\n",
              "      <th>RH2M</th>\n",
              "      <th>PS</th>\n",
              "      <th>T2M_RANGE</th>\n",
              "      <th>TS</th>\n",
              "      <th>T2MDEW</th>\n",
              "      <th>T2MWET</th>\n",
              "      <th>T2M_MAX</th>\n",
              "      <th>T2M_MIN</th>\n",
              "      <th>T2M</th>\n",
              "      <th>WS50M_RANGE</th>\n",
              "      <th>WS10M_RANGE</th>\n",
              "    </tr>\n",
              "  </thead>\n",
              "  <tbody>\n",
              "    <tr>\n",
              "      <th>0</th>\n",
              "      <td>39.07271</td>\n",
              "      <td>-76.98409</td>\n",
              "      <td>2020</td>\n",
              "      <td>1</td>\n",
              "      <td>1</td>\n",
              "      <td>0.00</td>\n",
              "      <td>3.12</td>\n",
              "      <td>70.76</td>\n",
              "      <td>99.90</td>\n",
              "      <td>8.02</td>\n",
              "      <td>1.35</td>\n",
              "      <td>-2.70</td>\n",
              "      <td>-2.64</td>\n",
              "      <td>7.11</td>\n",
              "      <td>-0.91</td>\n",
              "      <td>2.02</td>\n",
              "      <td>4.67</td>\n",
              "      <td>4.39</td>\n",
              "    </tr>\n",
              "    <tr>\n",
              "      <th>1</th>\n",
              "      <td>39.07271</td>\n",
              "      <td>-76.98409</td>\n",
              "      <td>2020</td>\n",
              "      <td>1</td>\n",
              "      <td>2</td>\n",
              "      <td>0.01</td>\n",
              "      <td>4.09</td>\n",
              "      <td>86.33</td>\n",
              "      <td>100.20</td>\n",
              "      <td>9.68</td>\n",
              "      <td>2.23</td>\n",
              "      <td>0.97</td>\n",
              "      <td>0.77</td>\n",
              "      <td>7.90</td>\n",
              "      <td>-1.78</td>\n",
              "      <td>3.05</td>\n",
              "      <td>5.88</td>\n",
              "      <td>1.73</td>\n",
              "    </tr>\n",
              "    <tr>\n",
              "      <th>2</th>\n",
              "      <td>39.07271</td>\n",
              "      <td>-76.98409</td>\n",
              "      <td>2020</td>\n",
              "      <td>1</td>\n",
              "      <td>3</td>\n",
              "      <td>6.28</td>\n",
              "      <td>6.55</td>\n",
              "      <td>96.38</td>\n",
              "      <td>99.80</td>\n",
              "      <td>6.49</td>\n",
              "      <td>7.72</td>\n",
              "      <td>7.61</td>\n",
              "      <td>7.59</td>\n",
              "      <td>12.00</td>\n",
              "      <td>5.51</td>\n",
              "      <td>8.17</td>\n",
              "      <td>5.32</td>\n",
              "      <td>2.81</td>\n",
              "    </tr>\n",
              "    <tr>\n",
              "      <th>3</th>\n",
              "      <td>39.07271</td>\n",
              "      <td>-76.98409</td>\n",
              "      <td>2020</td>\n",
              "      <td>1</td>\n",
              "      <td>4</td>\n",
              "      <td>6.11</td>\n",
              "      <td>7.00</td>\n",
              "      <td>95.56</td>\n",
              "      <td>99.33</td>\n",
              "      <td>10.09</td>\n",
              "      <td>8.64</td>\n",
              "      <td>8.51</td>\n",
              "      <td>8.33</td>\n",
              "      <td>14.77</td>\n",
              "      <td>4.68</td>\n",
              "      <td>9.20</td>\n",
              "      <td>7.27</td>\n",
              "      <td>5.43</td>\n",
              "    </tr>\n",
              "    <tr>\n",
              "      <th>4</th>\n",
              "      <td>39.07271</td>\n",
              "      <td>-76.98409</td>\n",
              "      <td>2020</td>\n",
              "      <td>1</td>\n",
              "      <td>5</td>\n",
              "      <td>0.03</td>\n",
              "      <td>3.03</td>\n",
              "      <td>69.01</td>\n",
              "      <td>100.38</td>\n",
              "      <td>5.19</td>\n",
              "      <td>1.67</td>\n",
              "      <td>-3.04</td>\n",
              "      <td>-3.02</td>\n",
              "      <td>4.63</td>\n",
              "      <td>-0.56</td>\n",
              "      <td>2.01</td>\n",
              "      <td>11.63</td>\n",
              "      <td>8.55</td>\n",
              "    </tr>\n",
              "  </tbody>\n",
              "</table>\n",
              "</div>"
            ],
            "text/plain": [
              "        LAT       LON  YEAR  MO  ...  T2M_MIN   T2M  WS50M_RANGE  WS10M_RANGE\n",
              "0  39.07271 -76.98409  2020   1  ...    -0.91  2.02         4.67         4.39\n",
              "1  39.07271 -76.98409  2020   1  ...    -1.78  3.05         5.88         1.73\n",
              "2  39.07271 -76.98409  2020   1  ...     5.51  8.17         5.32         2.81\n",
              "3  39.07271 -76.98409  2020   1  ...     4.68  9.20         7.27         5.43\n",
              "4  39.07271 -76.98409  2020   1  ...    -0.56  2.01        11.63         8.55\n",
              "\n",
              "[5 rows x 18 columns]"
            ]
          },
          "metadata": {
            "tags": []
          },
          "execution_count": 4
        }
      ]
    },
    {
      "cell_type": "code",
      "metadata": {
        "id": "Z5ORIWhUes_l",
        "colab": {
          "base_uri": "https://localhost:8080/",
          "height": 194
        },
        "outputId": "dc6ba588-bd5d-4098-b64f-a8ba005d5a8d"
      },
      "source": [
        "#imporing capitalbikeshare-tripdata dataset\n",
        "df = pd.read_csv(\"tv.csv\") \n",
        "df.head()"
      ],
      "execution_count": 5,
      "outputs": [
        {
          "output_type": "execute_result",
          "data": {
            "text/html": [
              "<div>\n",
              "<style scoped>\n",
              "    .dataframe tbody tr th:only-of-type {\n",
              "        vertical-align: middle;\n",
              "    }\n",
              "\n",
              "    .dataframe tbody tr th {\n",
              "        vertical-align: top;\n",
              "    }\n",
              "\n",
              "    .dataframe thead th {\n",
              "        text-align: right;\n",
              "    }\n",
              "</style>\n",
              "<table border=\"1\" class=\"dataframe\">\n",
              "  <thead>\n",
              "    <tr style=\"text-align: right;\">\n",
              "      <th></th>\n",
              "      <th>Unnamed: 0</th>\n",
              "      <th>Unnamed: 0.1</th>\n",
              "      <th>ride_id</th>\n",
              "      <th>rideable_type</th>\n",
              "      <th>started_at</th>\n",
              "      <th>start_station_id</th>\n",
              "      <th>time_to_travel</th>\n",
              "      <th>DY</th>\n",
              "      <th>MO</th>\n",
              "      <th>YEAR</th>\n",
              "    </tr>\n",
              "  </thead>\n",
              "  <tbody>\n",
              "    <tr>\n",
              "      <th>0</th>\n",
              "      <td>0</td>\n",
              "      <td>0</td>\n",
              "      <td>4479E04D9D45AC6B</td>\n",
              "      <td>docked_bike</td>\n",
              "      <td>2020-08-22 17:09:39</td>\n",
              "      <td>31287.0</td>\n",
              "      <td>1223.0</td>\n",
              "      <td>22.0</td>\n",
              "      <td>8.0</td>\n",
              "      <td>2020.0</td>\n",
              "    </tr>\n",
              "    <tr>\n",
              "      <th>1</th>\n",
              "      <td>1</td>\n",
              "      <td>1</td>\n",
              "      <td>EF88DFBC1E6648EC</td>\n",
              "      <td>docked_bike</td>\n",
              "      <td>2020-08-26 13:13:54</td>\n",
              "      <td>31271.0</td>\n",
              "      <td>287.0</td>\n",
              "      <td>26.0</td>\n",
              "      <td>8.0</td>\n",
              "      <td>2020.0</td>\n",
              "    </tr>\n",
              "    <tr>\n",
              "      <th>2</th>\n",
              "      <td>2</td>\n",
              "      <td>2</td>\n",
              "      <td>25812556961CFABD</td>\n",
              "      <td>docked_bike</td>\n",
              "      <td>2020-08-07 16:34:41</td>\n",
              "      <td>32014.0</td>\n",
              "      <td>2338.0</td>\n",
              "      <td>7.0</td>\n",
              "      <td>8.0</td>\n",
              "      <td>2020.0</td>\n",
              "    </tr>\n",
              "    <tr>\n",
              "      <th>3</th>\n",
              "      <td>3</td>\n",
              "      <td>3</td>\n",
              "      <td>1621384E51D38F1F</td>\n",
              "      <td>docked_bike</td>\n",
              "      <td>2020-08-07 20:32:05</td>\n",
              "      <td>31528.0</td>\n",
              "      <td>833.0</td>\n",
              "      <td>7.0</td>\n",
              "      <td>8.0</td>\n",
              "      <td>2020.0</td>\n",
              "    </tr>\n",
              "    <tr>\n",
              "      <th>4</th>\n",
              "      <td>4</td>\n",
              "      <td>4</td>\n",
              "      <td>BC10B8C7848D1FDF</td>\n",
              "      <td>docked_bike</td>\n",
              "      <td>2020-08-18 13:40:34</td>\n",
              "      <td>31122.0</td>\n",
              "      <td>513.0</td>\n",
              "      <td>18.0</td>\n",
              "      <td>8.0</td>\n",
              "      <td>2020.0</td>\n",
              "    </tr>\n",
              "  </tbody>\n",
              "</table>\n",
              "</div>"
            ],
            "text/plain": [
              "   Unnamed: 0  Unnamed: 0.1           ride_id  ...    DY   MO    YEAR\n",
              "0           0             0  4479E04D9D45AC6B  ...  22.0  8.0  2020.0\n",
              "1           1             1  EF88DFBC1E6648EC  ...  26.0  8.0  2020.0\n",
              "2           2             2  25812556961CFABD  ...   7.0  8.0  2020.0\n",
              "3           3             3  1621384E51D38F1F  ...   7.0  8.0  2020.0\n",
              "4           4             4  BC10B8C7848D1FDF  ...  18.0  8.0  2020.0\n",
              "\n",
              "[5 rows x 10 columns]"
            ]
          },
          "metadata": {
            "tags": []
          },
          "execution_count": 5
        }
      ]
    },
    {
      "cell_type": "code",
      "metadata": {
        "id": "sd2rN2PNqEy6",
        "colab": {
          "base_uri": "https://localhost:8080/",
          "height": 399
        },
        "outputId": "51d5a399-6055-460f-ea6b-68962c365fef"
      },
      "source": [
        "s1 = df.query('start_station_id == 31131')\n",
        "s1 = s1.sort_values(by=['DY'])\n",
        "s1 = pd.DataFrame(s1)\n",
        "s1 = s1.reset_index()\n",
        "s1"
      ],
      "execution_count": 6,
      "outputs": [
        {
          "output_type": "execute_result",
          "data": {
            "text/html": [
              "<div>\n",
              "<style scoped>\n",
              "    .dataframe tbody tr th:only-of-type {\n",
              "        vertical-align: middle;\n",
              "    }\n",
              "\n",
              "    .dataframe tbody tr th {\n",
              "        vertical-align: top;\n",
              "    }\n",
              "\n",
              "    .dataframe thead th {\n",
              "        text-align: right;\n",
              "    }\n",
              "</style>\n",
              "<table border=\"1\" class=\"dataframe\">\n",
              "  <thead>\n",
              "    <tr style=\"text-align: right;\">\n",
              "      <th></th>\n",
              "      <th>index</th>\n",
              "      <th>Unnamed: 0</th>\n",
              "      <th>Unnamed: 0.1</th>\n",
              "      <th>ride_id</th>\n",
              "      <th>rideable_type</th>\n",
              "      <th>started_at</th>\n",
              "      <th>start_station_id</th>\n",
              "      <th>time_to_travel</th>\n",
              "      <th>DY</th>\n",
              "      <th>MO</th>\n",
              "      <th>YEAR</th>\n",
              "    </tr>\n",
              "  </thead>\n",
              "  <tbody>\n",
              "    <tr>\n",
              "      <th>0</th>\n",
              "      <td>299374</td>\n",
              "      <td>299374</td>\n",
              "      <td>299374</td>\n",
              "      <td>8118310677A1568A</td>\n",
              "      <td>electric_bike</td>\n",
              "      <td>2020-10-01 17:21:34</td>\n",
              "      <td>31131.0</td>\n",
              "      <td>1494.0</td>\n",
              "      <td>1.0</td>\n",
              "      <td>10.0</td>\n",
              "      <td>2020.0</td>\n",
              "    </tr>\n",
              "    <tr>\n",
              "      <th>1</th>\n",
              "      <td>447234</td>\n",
              "      <td>447234</td>\n",
              "      <td>447234</td>\n",
              "      <td>6235AA96EC4B3342</td>\n",
              "      <td>electric_bike</td>\n",
              "      <td>2020-12-01 10:38:58</td>\n",
              "      <td>31131.0</td>\n",
              "      <td>777.0</td>\n",
              "      <td>1.0</td>\n",
              "      <td>12.0</td>\n",
              "      <td>2020.0</td>\n",
              "    </tr>\n",
              "    <tr>\n",
              "      <th>2</th>\n",
              "      <td>453615</td>\n",
              "      <td>453615</td>\n",
              "      <td>453615</td>\n",
              "      <td>8671DC9C3EC477F3</td>\n",
              "      <td>docked_bike</td>\n",
              "      <td>2020-12-01 18:25:15</td>\n",
              "      <td>31131.0</td>\n",
              "      <td>268.0</td>\n",
              "      <td>1.0</td>\n",
              "      <td>12.0</td>\n",
              "      <td>2020.0</td>\n",
              "    </tr>\n",
              "    <tr>\n",
              "      <th>3</th>\n",
              "      <td>36173</td>\n",
              "      <td>36173</td>\n",
              "      <td>36173</td>\n",
              "      <td>943D996273DC6043</td>\n",
              "      <td>docked_bike</td>\n",
              "      <td>2020-08-01 00:03:30</td>\n",
              "      <td>31131.0</td>\n",
              "      <td>2426.0</td>\n",
              "      <td>1.0</td>\n",
              "      <td>8.0</td>\n",
              "      <td>2020.0</td>\n",
              "    </tr>\n",
              "    <tr>\n",
              "      <th>4</th>\n",
              "      <td>36019</td>\n",
              "      <td>36019</td>\n",
              "      <td>36019</td>\n",
              "      <td>E43D340103773E59</td>\n",
              "      <td>docked_bike</td>\n",
              "      <td>2020-08-01 21:42:15</td>\n",
              "      <td>31131.0</td>\n",
              "      <td>2295.0</td>\n",
              "      <td>1.0</td>\n",
              "      <td>8.0</td>\n",
              "      <td>2020.0</td>\n",
              "    </tr>\n",
              "    <tr>\n",
              "      <th>...</th>\n",
              "      <td>...</td>\n",
              "      <td>...</td>\n",
              "      <td>...</td>\n",
              "      <td>...</td>\n",
              "      <td>...</td>\n",
              "      <td>...</td>\n",
              "      <td>...</td>\n",
              "      <td>...</td>\n",
              "      <td>...</td>\n",
              "      <td>...</td>\n",
              "      <td>...</td>\n",
              "    </tr>\n",
              "    <tr>\n",
              "      <th>1403</th>\n",
              "      <td>246055</td>\n",
              "      <td>246055</td>\n",
              "      <td>246055</td>\n",
              "      <td>3352CFAEFC8ACD69</td>\n",
              "      <td>docked_bike</td>\n",
              "      <td>2020-10-31 16:29:27</td>\n",
              "      <td>31131.0</td>\n",
              "      <td>1098.0</td>\n",
              "      <td>31.0</td>\n",
              "      <td>10.0</td>\n",
              "      <td>2020.0</td>\n",
              "    </tr>\n",
              "    <tr>\n",
              "      <th>1404</th>\n",
              "      <td>304533</td>\n",
              "      <td>304533</td>\n",
              "      <td>304533</td>\n",
              "      <td>8FBC536C2E61A697</td>\n",
              "      <td>electric_bike</td>\n",
              "      <td>2020-10-31 19:24:54</td>\n",
              "      <td>31131.0</td>\n",
              "      <td>921.0</td>\n",
              "      <td>31.0</td>\n",
              "      <td>10.0</td>\n",
              "      <td>2020.0</td>\n",
              "    </tr>\n",
              "    <tr>\n",
              "      <th>1405</th>\n",
              "      <td>79460</td>\n",
              "      <td>79460</td>\n",
              "      <td>79460</td>\n",
              "      <td>3AD9B5A6FAA680E1</td>\n",
              "      <td>electric_bike</td>\n",
              "      <td>2020-08-31 09:10:48</td>\n",
              "      <td>31131.0</td>\n",
              "      <td>453.0</td>\n",
              "      <td>31.0</td>\n",
              "      <td>8.0</td>\n",
              "      <td>2020.0</td>\n",
              "    </tr>\n",
              "    <tr>\n",
              "      <th>1406</th>\n",
              "      <td>306367</td>\n",
              "      <td>306367</td>\n",
              "      <td>306367</td>\n",
              "      <td>ACF1D06A305CED38</td>\n",
              "      <td>electric_bike</td>\n",
              "      <td>2020-10-31 22:28:56</td>\n",
              "      <td>31131.0</td>\n",
              "      <td>1413.0</td>\n",
              "      <td>31.0</td>\n",
              "      <td>10.0</td>\n",
              "      <td>2020.0</td>\n",
              "    </tr>\n",
              "    <tr>\n",
              "      <th>1407</th>\n",
              "      <td>304544</td>\n",
              "      <td>304544</td>\n",
              "      <td>304544</td>\n",
              "      <td>3CE21BD72ED7EB97</td>\n",
              "      <td>electric_bike</td>\n",
              "      <td>2020-10-31 09:23:21</td>\n",
              "      <td>31131.0</td>\n",
              "      <td>374.0</td>\n",
              "      <td>31.0</td>\n",
              "      <td>10.0</td>\n",
              "      <td>2020.0</td>\n",
              "    </tr>\n",
              "  </tbody>\n",
              "</table>\n",
              "<p>1408 rows × 11 columns</p>\n",
              "</div>"
            ],
            "text/plain": [
              "       index  Unnamed: 0  Unnamed: 0.1  ...    DY    MO    YEAR\n",
              "0     299374      299374        299374  ...   1.0  10.0  2020.0\n",
              "1     447234      447234        447234  ...   1.0  12.0  2020.0\n",
              "2     453615      453615        453615  ...   1.0  12.0  2020.0\n",
              "3      36173       36173         36173  ...   1.0   8.0  2020.0\n",
              "4      36019       36019         36019  ...   1.0   8.0  2020.0\n",
              "...      ...         ...           ...  ...   ...   ...     ...\n",
              "1403  246055      246055        246055  ...  31.0  10.0  2020.0\n",
              "1404  304533      304533        304533  ...  31.0  10.0  2020.0\n",
              "1405   79460       79460         79460  ...  31.0   8.0  2020.0\n",
              "1406  306367      306367        306367  ...  31.0  10.0  2020.0\n",
              "1407  304544      304544        304544  ...  31.0  10.0  2020.0\n",
              "\n",
              "[1408 rows x 11 columns]"
            ]
          },
          "metadata": {
            "tags": []
          },
          "execution_count": 6
        }
      ]
    },
    {
      "cell_type": "code",
      "metadata": {
        "id": "6KNSkHYlTgfm",
        "colab": {
          "base_uri": "https://localhost:8080/",
          "height": 605
        },
        "outputId": "090ced02-624a-4eae-d586-ca6cdaeb2bef"
      },
      "source": [
        "result = pd.merge(s1, temp, how='left', on=['DY', 'MO','YEAR'])\n",
        "result\n"
      ],
      "execution_count": 7,
      "outputs": [
        {
          "output_type": "execute_result",
          "data": {
            "text/html": [
              "<div>\n",
              "<style scoped>\n",
              "    .dataframe tbody tr th:only-of-type {\n",
              "        vertical-align: middle;\n",
              "    }\n",
              "\n",
              "    .dataframe tbody tr th {\n",
              "        vertical-align: top;\n",
              "    }\n",
              "\n",
              "    .dataframe thead th {\n",
              "        text-align: right;\n",
              "    }\n",
              "</style>\n",
              "<table border=\"1\" class=\"dataframe\">\n",
              "  <thead>\n",
              "    <tr style=\"text-align: right;\">\n",
              "      <th></th>\n",
              "      <th>index</th>\n",
              "      <th>Unnamed: 0</th>\n",
              "      <th>Unnamed: 0.1</th>\n",
              "      <th>ride_id</th>\n",
              "      <th>rideable_type</th>\n",
              "      <th>started_at</th>\n",
              "      <th>start_station_id</th>\n",
              "      <th>time_to_travel</th>\n",
              "      <th>DY</th>\n",
              "      <th>MO</th>\n",
              "      <th>YEAR</th>\n",
              "      <th>LAT</th>\n",
              "      <th>LON</th>\n",
              "      <th>PRECTOT</th>\n",
              "      <th>QV2M</th>\n",
              "      <th>RH2M</th>\n",
              "      <th>PS</th>\n",
              "      <th>T2M_RANGE</th>\n",
              "      <th>TS</th>\n",
              "      <th>T2MDEW</th>\n",
              "      <th>T2MWET</th>\n",
              "      <th>T2M_MAX</th>\n",
              "      <th>T2M_MIN</th>\n",
              "      <th>T2M</th>\n",
              "      <th>WS50M_RANGE</th>\n",
              "      <th>WS10M_RANGE</th>\n",
              "    </tr>\n",
              "  </thead>\n",
              "  <tbody>\n",
              "    <tr>\n",
              "      <th>0</th>\n",
              "      <td>299374</td>\n",
              "      <td>299374</td>\n",
              "      <td>299374</td>\n",
              "      <td>8118310677A1568A</td>\n",
              "      <td>electric_bike</td>\n",
              "      <td>2020-10-01 17:21:34</td>\n",
              "      <td>31131.0</td>\n",
              "      <td>1494.0</td>\n",
              "      <td>1.0</td>\n",
              "      <td>10.0</td>\n",
              "      <td>2020.0</td>\n",
              "      <td>39.07271</td>\n",
              "      <td>-76.98409</td>\n",
              "      <td>2.51</td>\n",
              "      <td>8.18</td>\n",
              "      <td>68.46</td>\n",
              "      <td>100.16</td>\n",
              "      <td>10.40</td>\n",
              "      <td>17.06</td>\n",
              "      <td>11.04</td>\n",
              "      <td>10.78</td>\n",
              "      <td>22.21</td>\n",
              "      <td>11.81</td>\n",
              "      <td>16.79</td>\n",
              "      <td>6.68</td>\n",
              "      <td>4.02</td>\n",
              "    </tr>\n",
              "    <tr>\n",
              "      <th>1</th>\n",
              "      <td>447234</td>\n",
              "      <td>447234</td>\n",
              "      <td>447234</td>\n",
              "      <td>6235AA96EC4B3342</td>\n",
              "      <td>electric_bike</td>\n",
              "      <td>2020-12-01 10:38:58</td>\n",
              "      <td>31131.0</td>\n",
              "      <td>777.0</td>\n",
              "      <td>1.0</td>\n",
              "      <td>12.0</td>\n",
              "      <td>2020.0</td>\n",
              "      <td>39.07271</td>\n",
              "      <td>-76.98409</td>\n",
              "      <td>0.11</td>\n",
              "      <td>3.89</td>\n",
              "      <td>78.08</td>\n",
              "      <td>99.43</td>\n",
              "      <td>4.72</td>\n",
              "      <td>3.82</td>\n",
              "      <td>0.21</td>\n",
              "      <td>0.09</td>\n",
              "      <td>6.16</td>\n",
              "      <td>1.44</td>\n",
              "      <td>3.66</td>\n",
              "      <td>4.70</td>\n",
              "      <td>5.63</td>\n",
              "    </tr>\n",
              "    <tr>\n",
              "      <th>2</th>\n",
              "      <td>453615</td>\n",
              "      <td>453615</td>\n",
              "      <td>453615</td>\n",
              "      <td>8671DC9C3EC477F3</td>\n",
              "      <td>docked_bike</td>\n",
              "      <td>2020-12-01 18:25:15</td>\n",
              "      <td>31131.0</td>\n",
              "      <td>268.0</td>\n",
              "      <td>1.0</td>\n",
              "      <td>12.0</td>\n",
              "      <td>2020.0</td>\n",
              "      <td>39.07271</td>\n",
              "      <td>-76.98409</td>\n",
              "      <td>0.11</td>\n",
              "      <td>3.89</td>\n",
              "      <td>78.08</td>\n",
              "      <td>99.43</td>\n",
              "      <td>4.72</td>\n",
              "      <td>3.82</td>\n",
              "      <td>0.21</td>\n",
              "      <td>0.09</td>\n",
              "      <td>6.16</td>\n",
              "      <td>1.44</td>\n",
              "      <td>3.66</td>\n",
              "      <td>4.70</td>\n",
              "      <td>5.63</td>\n",
              "    </tr>\n",
              "    <tr>\n",
              "      <th>3</th>\n",
              "      <td>36173</td>\n",
              "      <td>36173</td>\n",
              "      <td>36173</td>\n",
              "      <td>943D996273DC6043</td>\n",
              "      <td>docked_bike</td>\n",
              "      <td>2020-08-01 00:03:30</td>\n",
              "      <td>31131.0</td>\n",
              "      <td>2426.0</td>\n",
              "      <td>1.0</td>\n",
              "      <td>8.0</td>\n",
              "      <td>2020.0</td>\n",
              "      <td>39.07271</td>\n",
              "      <td>-76.98409</td>\n",
              "      <td>1.71</td>\n",
              "      <td>15.53</td>\n",
              "      <td>70.06</td>\n",
              "      <td>100.14</td>\n",
              "      <td>9.68</td>\n",
              "      <td>27.89</td>\n",
              "      <td>21.05</td>\n",
              "      <td>20.91</td>\n",
              "      <td>31.55</td>\n",
              "      <td>21.88</td>\n",
              "      <td>26.85</td>\n",
              "      <td>6.75</td>\n",
              "      <td>4.50</td>\n",
              "    </tr>\n",
              "    <tr>\n",
              "      <th>4</th>\n",
              "      <td>36019</td>\n",
              "      <td>36019</td>\n",
              "      <td>36019</td>\n",
              "      <td>E43D340103773E59</td>\n",
              "      <td>docked_bike</td>\n",
              "      <td>2020-08-01 21:42:15</td>\n",
              "      <td>31131.0</td>\n",
              "      <td>2295.0</td>\n",
              "      <td>1.0</td>\n",
              "      <td>8.0</td>\n",
              "      <td>2020.0</td>\n",
              "      <td>39.07271</td>\n",
              "      <td>-76.98409</td>\n",
              "      <td>1.71</td>\n",
              "      <td>15.53</td>\n",
              "      <td>70.06</td>\n",
              "      <td>100.14</td>\n",
              "      <td>9.68</td>\n",
              "      <td>27.89</td>\n",
              "      <td>21.05</td>\n",
              "      <td>20.91</td>\n",
              "      <td>31.55</td>\n",
              "      <td>21.88</td>\n",
              "      <td>26.85</td>\n",
              "      <td>6.75</td>\n",
              "      <td>4.50</td>\n",
              "    </tr>\n",
              "    <tr>\n",
              "      <th>...</th>\n",
              "      <td>...</td>\n",
              "      <td>...</td>\n",
              "      <td>...</td>\n",
              "      <td>...</td>\n",
              "      <td>...</td>\n",
              "      <td>...</td>\n",
              "      <td>...</td>\n",
              "      <td>...</td>\n",
              "      <td>...</td>\n",
              "      <td>...</td>\n",
              "      <td>...</td>\n",
              "      <td>...</td>\n",
              "      <td>...</td>\n",
              "      <td>...</td>\n",
              "      <td>...</td>\n",
              "      <td>...</td>\n",
              "      <td>...</td>\n",
              "      <td>...</td>\n",
              "      <td>...</td>\n",
              "      <td>...</td>\n",
              "      <td>...</td>\n",
              "      <td>...</td>\n",
              "      <td>...</td>\n",
              "      <td>...</td>\n",
              "      <td>...</td>\n",
              "      <td>...</td>\n",
              "    </tr>\n",
              "    <tr>\n",
              "      <th>1403</th>\n",
              "      <td>246055</td>\n",
              "      <td>246055</td>\n",
              "      <td>246055</td>\n",
              "      <td>3352CFAEFC8ACD69</td>\n",
              "      <td>docked_bike</td>\n",
              "      <td>2020-10-31 16:29:27</td>\n",
              "      <td>31131.0</td>\n",
              "      <td>1098.0</td>\n",
              "      <td>31.0</td>\n",
              "      <td>10.0</td>\n",
              "      <td>2020.0</td>\n",
              "      <td>39.07271</td>\n",
              "      <td>-76.98409</td>\n",
              "      <td>0.14</td>\n",
              "      <td>4.10</td>\n",
              "      <td>72.50</td>\n",
              "      <td>101.85</td>\n",
              "      <td>8.58</td>\n",
              "      <td>6.87</td>\n",
              "      <td>1.30</td>\n",
              "      <td>1.18</td>\n",
              "      <td>10.13</td>\n",
              "      <td>1.55</td>\n",
              "      <td>5.82</td>\n",
              "      <td>7.18</td>\n",
              "      <td>3.44</td>\n",
              "    </tr>\n",
              "    <tr>\n",
              "      <th>1404</th>\n",
              "      <td>304533</td>\n",
              "      <td>304533</td>\n",
              "      <td>304533</td>\n",
              "      <td>8FBC536C2E61A697</td>\n",
              "      <td>electric_bike</td>\n",
              "      <td>2020-10-31 19:24:54</td>\n",
              "      <td>31131.0</td>\n",
              "      <td>921.0</td>\n",
              "      <td>31.0</td>\n",
              "      <td>10.0</td>\n",
              "      <td>2020.0</td>\n",
              "      <td>39.07271</td>\n",
              "      <td>-76.98409</td>\n",
              "      <td>0.14</td>\n",
              "      <td>4.10</td>\n",
              "      <td>72.50</td>\n",
              "      <td>101.85</td>\n",
              "      <td>8.58</td>\n",
              "      <td>6.87</td>\n",
              "      <td>1.30</td>\n",
              "      <td>1.18</td>\n",
              "      <td>10.13</td>\n",
              "      <td>1.55</td>\n",
              "      <td>5.82</td>\n",
              "      <td>7.18</td>\n",
              "      <td>3.44</td>\n",
              "    </tr>\n",
              "    <tr>\n",
              "      <th>1405</th>\n",
              "      <td>79460</td>\n",
              "      <td>79460</td>\n",
              "      <td>79460</td>\n",
              "      <td>3AD9B5A6FAA680E1</td>\n",
              "      <td>electric_bike</td>\n",
              "      <td>2020-08-31 09:10:48</td>\n",
              "      <td>31131.0</td>\n",
              "      <td>453.0</td>\n",
              "      <td>31.0</td>\n",
              "      <td>8.0</td>\n",
              "      <td>2020.0</td>\n",
              "      <td>39.07271</td>\n",
              "      <td>-76.98409</td>\n",
              "      <td>7.10</td>\n",
              "      <td>12.33</td>\n",
              "      <td>80.48</td>\n",
              "      <td>100.51</td>\n",
              "      <td>5.10</td>\n",
              "      <td>20.75</td>\n",
              "      <td>17.36</td>\n",
              "      <td>17.29</td>\n",
              "      <td>23.45</td>\n",
              "      <td>18.35</td>\n",
              "      <td>20.80</td>\n",
              "      <td>2.39</td>\n",
              "      <td>1.63</td>\n",
              "    </tr>\n",
              "    <tr>\n",
              "      <th>1406</th>\n",
              "      <td>306367</td>\n",
              "      <td>306367</td>\n",
              "      <td>306367</td>\n",
              "      <td>ACF1D06A305CED38</td>\n",
              "      <td>electric_bike</td>\n",
              "      <td>2020-10-31 22:28:56</td>\n",
              "      <td>31131.0</td>\n",
              "      <td>1413.0</td>\n",
              "      <td>31.0</td>\n",
              "      <td>10.0</td>\n",
              "      <td>2020.0</td>\n",
              "      <td>39.07271</td>\n",
              "      <td>-76.98409</td>\n",
              "      <td>0.14</td>\n",
              "      <td>4.10</td>\n",
              "      <td>72.50</td>\n",
              "      <td>101.85</td>\n",
              "      <td>8.58</td>\n",
              "      <td>6.87</td>\n",
              "      <td>1.30</td>\n",
              "      <td>1.18</td>\n",
              "      <td>10.13</td>\n",
              "      <td>1.55</td>\n",
              "      <td>5.82</td>\n",
              "      <td>7.18</td>\n",
              "      <td>3.44</td>\n",
              "    </tr>\n",
              "    <tr>\n",
              "      <th>1407</th>\n",
              "      <td>304544</td>\n",
              "      <td>304544</td>\n",
              "      <td>304544</td>\n",
              "      <td>3CE21BD72ED7EB97</td>\n",
              "      <td>electric_bike</td>\n",
              "      <td>2020-10-31 09:23:21</td>\n",
              "      <td>31131.0</td>\n",
              "      <td>374.0</td>\n",
              "      <td>31.0</td>\n",
              "      <td>10.0</td>\n",
              "      <td>2020.0</td>\n",
              "      <td>39.07271</td>\n",
              "      <td>-76.98409</td>\n",
              "      <td>0.14</td>\n",
              "      <td>4.10</td>\n",
              "      <td>72.50</td>\n",
              "      <td>101.85</td>\n",
              "      <td>8.58</td>\n",
              "      <td>6.87</td>\n",
              "      <td>1.30</td>\n",
              "      <td>1.18</td>\n",
              "      <td>10.13</td>\n",
              "      <td>1.55</td>\n",
              "      <td>5.82</td>\n",
              "      <td>7.18</td>\n",
              "      <td>3.44</td>\n",
              "    </tr>\n",
              "  </tbody>\n",
              "</table>\n",
              "<p>1408 rows × 26 columns</p>\n",
              "</div>"
            ],
            "text/plain": [
              "       index  Unnamed: 0  Unnamed: 0.1  ...    T2M WS50M_RANGE WS10M_RANGE\n",
              "0     299374      299374        299374  ...  16.79        6.68        4.02\n",
              "1     447234      447234        447234  ...   3.66        4.70        5.63\n",
              "2     453615      453615        453615  ...   3.66        4.70        5.63\n",
              "3      36173       36173         36173  ...  26.85        6.75        4.50\n",
              "4      36019       36019         36019  ...  26.85        6.75        4.50\n",
              "...      ...         ...           ...  ...    ...         ...         ...\n",
              "1403  246055      246055        246055  ...   5.82        7.18        3.44\n",
              "1404  304533      304533        304533  ...   5.82        7.18        3.44\n",
              "1405   79460       79460         79460  ...  20.80        2.39        1.63\n",
              "1406  306367      306367        306367  ...   5.82        7.18        3.44\n",
              "1407  304544      304544        304544  ...   5.82        7.18        3.44\n",
              "\n",
              "[1408 rows x 26 columns]"
            ]
          },
          "metadata": {
            "tags": []
          },
          "execution_count": 7
        }
      ]
    },
    {
      "cell_type": "code",
      "metadata": {
        "id": "2crL3ateZ9AJ",
        "colab": {
          "base_uri": "https://localhost:8080/",
          "height": 194
        },
        "outputId": "476ef605-192f-4ca0-ae1e-60ef3cd828e4"
      },
      "source": [
        "s10 = df.query('start_station_id == 31233')\n",
        "s10 = s10.sort_values(by=['DY'])\n",
        "s10 = pd.DataFrame(s10)\n",
        "s10 = s10.reset_index()\n",
        "s10.head()"
      ],
      "execution_count": 8,
      "outputs": [
        {
          "output_type": "execute_result",
          "data": {
            "text/html": [
              "<div>\n",
              "<style scoped>\n",
              "    .dataframe tbody tr th:only-of-type {\n",
              "        vertical-align: middle;\n",
              "    }\n",
              "\n",
              "    .dataframe tbody tr th {\n",
              "        vertical-align: top;\n",
              "    }\n",
              "\n",
              "    .dataframe thead th {\n",
              "        text-align: right;\n",
              "    }\n",
              "</style>\n",
              "<table border=\"1\" class=\"dataframe\">\n",
              "  <thead>\n",
              "    <tr style=\"text-align: right;\">\n",
              "      <th></th>\n",
              "      <th>index</th>\n",
              "      <th>Unnamed: 0</th>\n",
              "      <th>Unnamed: 0.1</th>\n",
              "      <th>ride_id</th>\n",
              "      <th>rideable_type</th>\n",
              "      <th>started_at</th>\n",
              "      <th>start_station_id</th>\n",
              "      <th>time_to_travel</th>\n",
              "      <th>DY</th>\n",
              "      <th>MO</th>\n",
              "      <th>YEAR</th>\n",
              "    </tr>\n",
              "  </thead>\n",
              "  <tbody>\n",
              "    <tr>\n",
              "      <th>0</th>\n",
              "      <td>132213</td>\n",
              "      <td>132213</td>\n",
              "      <td>132213</td>\n",
              "      <td>BD6BFF57DDE40447</td>\n",
              "      <td>docked_bike</td>\n",
              "      <td>2020-09-01 22:06:42</td>\n",
              "      <td>31233.0</td>\n",
              "      <td>1778.0</td>\n",
              "      <td>1.0</td>\n",
              "      <td>9.0</td>\n",
              "      <td>2020.0</td>\n",
              "    </tr>\n",
              "    <tr>\n",
              "      <th>1</th>\n",
              "      <td>247692</td>\n",
              "      <td>247692</td>\n",
              "      <td>247692</td>\n",
              "      <td>EDAC85D8DC5DEA56</td>\n",
              "      <td>docked_bike</td>\n",
              "      <td>2020-10-01 17:53:20</td>\n",
              "      <td>31233.0</td>\n",
              "      <td>1079.0</td>\n",
              "      <td>1.0</td>\n",
              "      <td>10.0</td>\n",
              "      <td>2020.0</td>\n",
              "    </tr>\n",
              "    <tr>\n",
              "      <th>2</th>\n",
              "      <td>150331</td>\n",
              "      <td>150331</td>\n",
              "      <td>150331</td>\n",
              "      <td>FFC0780874C69228</td>\n",
              "      <td>docked_bike</td>\n",
              "      <td>2020-09-01 14:14:03</td>\n",
              "      <td>31233.0</td>\n",
              "      <td>557.0</td>\n",
              "      <td>1.0</td>\n",
              "      <td>9.0</td>\n",
              "      <td>2020.0</td>\n",
              "    </tr>\n",
              "    <tr>\n",
              "      <th>3</th>\n",
              "      <td>127406</td>\n",
              "      <td>127406</td>\n",
              "      <td>127406</td>\n",
              "      <td>CCAE8ECC7860399C</td>\n",
              "      <td>docked_bike</td>\n",
              "      <td>2020-09-01 22:07:18</td>\n",
              "      <td>31233.0</td>\n",
              "      <td>1736.0</td>\n",
              "      <td>1.0</td>\n",
              "      <td>9.0</td>\n",
              "      <td>2020.0</td>\n",
              "    </tr>\n",
              "    <tr>\n",
              "      <th>4</th>\n",
              "      <td>250177</td>\n",
              "      <td>250177</td>\n",
              "      <td>250177</td>\n",
              "      <td>592D38EB584B56C4</td>\n",
              "      <td>docked_bike</td>\n",
              "      <td>2020-10-01 12:57:58</td>\n",
              "      <td>31233.0</td>\n",
              "      <td>804.0</td>\n",
              "      <td>1.0</td>\n",
              "      <td>10.0</td>\n",
              "      <td>2020.0</td>\n",
              "    </tr>\n",
              "  </tbody>\n",
              "</table>\n",
              "</div>"
            ],
            "text/plain": [
              "    index  Unnamed: 0  Unnamed: 0.1  ...   DY    MO    YEAR\n",
              "0  132213      132213        132213  ...  1.0   9.0  2020.0\n",
              "1  247692      247692        247692  ...  1.0  10.0  2020.0\n",
              "2  150331      150331        150331  ...  1.0   9.0  2020.0\n",
              "3  127406      127406        127406  ...  1.0   9.0  2020.0\n",
              "4  250177      250177        250177  ...  1.0  10.0  2020.0\n",
              "\n",
              "[5 rows x 11 columns]"
            ]
          },
          "metadata": {
            "tags": []
          },
          "execution_count": 8
        }
      ]
    },
    {
      "cell_type": "code",
      "metadata": {
        "id": "nlosRnWmzatX",
        "colab": {
          "base_uri": "https://localhost:8080/"
        },
        "outputId": "155fe740-dda7-494b-ec10-1bd9fae717ae"
      },
      "source": [
        "s6 =s1.groupby([\"rideable_type\",\"DY\"])\n",
        "s6"
      ],
      "execution_count": 9,
      "outputs": [
        {
          "output_type": "execute_result",
          "data": {
            "text/plain": [
              "<pandas.core.groupby.generic.DataFrameGroupBy object at 0x7f27aef7ba90>"
            ]
          },
          "metadata": {
            "tags": []
          },
          "execution_count": 9
        }
      ]
    },
    {
      "cell_type": "code",
      "metadata": {
        "id": "sLuJhVyky92H",
        "colab": {
          "base_uri": "https://localhost:8080/",
          "height": 455
        },
        "outputId": "6969b7c5-c4f0-41af-fdba-817b7ba58ba6"
      },
      "source": [
        "sa =result.groupby([\"DY\",\"MO\",\"PS\",\"T2M_RANGE\",\"T2M_MAX\",\"T2M_MIN\",\"RH2M\",\"rideable_type\",\"WS50M_RANGE\",\"T2MDEW\",\"T2M\",\"QV2M\"]).size()\n",
        "s5 = []\n",
        "s6 = []\n",
        "sa = pd.DataFrame(sa,columns=['count'])\n",
        "modified = sa.reset_index()\n",
        "a = 0\n",
        "for i in range(len(modified)):\n",
        "  if(modified['rideable_type'][i] == 'docked_bike'):\n",
        "    s5.append(modified['count'][i])\n",
        "    s6.append(a)\n",
        "  else:\n",
        "    s6.append(modified['count'][i])\n",
        "    s5.append(a)\n",
        "print(s6)\n",
        "print(s5)\n",
        "sb = s1[['DY','MO','time_to_travel']]\n",
        "modified['docked_b'] = s5\n",
        "modified['electric_b'] = s6\n",
        "#modified = pd.merge(modified, sb, how=\"left\", on=[\"DY\", \"MO\"])\n",
        "#sb\n",
        "modified"
      ],
      "execution_count": 10,
      "outputs": [
        {
          "output_type": "stream",
          "text": [
            "[0, 5, 0, 4, 0, 4, 0, 8, 0, 1, 0, 6, 0, 3, 0, 7, 0, 2, 0, 0, 7, 0, 2, 0, 4, 0, 6, 0, 4, 0, 5, 0, 3, 0, 3, 0, 6, 0, 4, 0, 4, 0, 8, 0, 3, 0, 3, 0, 2, 0, 1, 0, 7, 0, 2, 0, 6, 0, 2, 0, 9, 0, 7, 0, 3, 0, 6, 0, 1, 0, 21, 0, 7, 0, 5, 0, 12, 0, 1, 0, 5, 12, 0, 5, 0, 4, 0, 6, 0, 9, 0, 5, 0, 13, 0, 6, 0, 4, 0, 6, 0, 3, 0, 2, 0, 3, 5, 0, 10, 0, 4, 0, 4, 0, 5, 0, 9, 0, 5, 0, 9, 0, 3, 0, 5, 4, 0, 7, 0, 2, 0, 5, 0, 3, 1, 0, 11, 0, 8, 0, 6, 0, 6, 0, 3, 0, 4, 0, 9, 0, 7, 0, 5, 2, 0, 6, 0, 5, 0, 6, 0, 4, 4, 0, 6, 0, 4, 0, 12, 0, 4, 4, 0, 1, 0, 7, 0, 4, 4, 0, 3, 0, 5, 0, 17, 0, 14, 0, 2, 5, 0, 3, 0, 5, 0, 8, 0, 7, 6, 0, 4, 0, 9, 0, 3, 0, 6, 1, 0, 2, 0, 10, 0, 4, 0, 4, 5, 0, 5, 0, 2, 0, 6, 0, 3, 1, 0, 7, 0, 4, 2, 0, 6, 6, 0, 5, 0, 5, 0, 9, 0, 5, 6, 0, 3, 0, 4, 0, 3, 0, 2, 5, 0, 6, 0, 5, 0, 2, 0, 1, 6, 0, 5, 0, 5, 0, 2, 0, 5, 4, 0, 6, 0, 8, 0, 4, 0, 8, 5, 0, 3, 0, 6, 2]\n",
            "[7, 0, 6, 0, 8, 0, 2, 0, 6, 0, 4, 0, 5, 0, 4, 0, 2, 0, 10, 3, 0, 5, 0, 12, 0, 6, 0, 5, 0, 2, 0, 4, 0, 2, 0, 2, 0, 6, 0, 6, 0, 9, 0, 4, 0, 4, 0, 11, 0, 3, 0, 5, 0, 12, 0, 3, 0, 12, 0, 3, 0, 7, 0, 8, 0, 8, 0, 4, 0, 6, 0, 5, 0, 6, 0, 7, 0, 5, 0, 2, 0, 0, 4, 0, 4, 0, 6, 0, 3, 0, 1, 0, 9, 0, 4, 0, 1, 0, 7, 0, 7, 0, 3, 0, 2, 0, 0, 5, 0, 7, 0, 5, 0, 3, 0, 1, 0, 4, 0, 9, 0, 3, 0, 6, 0, 0, 7, 0, 7, 0, 6, 0, 1, 0, 0, 4, 0, 4, 0, 6, 0, 1, 0, 2, 0, 3, 0, 3, 0, 5, 0, 7, 0, 0, 1, 0, 1, 0, 11, 0, 9, 0, 0, 4, 0, 6, 0, 4, 0, 6, 0, 0, 6, 0, 9, 0, 4, 0, 0, 1, 0, 1, 0, 6, 0, 2, 0, 5, 0, 0, 2, 0, 3, 0, 2, 0, 8, 0, 0, 9, 0, 5, 0, 6, 0, 1, 0, 0, 5, 0, 3, 0, 8, 0, 2, 0, 0, 3, 0, 4, 0, 6, 0, 7, 0, 0, 1, 0, 4, 0, 0, 3, 0, 0, 4, 0, 6, 0, 3, 0, 3, 0, 0, 3, 0, 9, 0, 4, 0, 3, 0, 0, 2, 0, 1, 0, 6, 0, 6, 0, 0, 2, 0, 3, 0, 2, 0, 2, 0, 0, 8, 0, 6, 0, 6, 0, 2, 0, 0, 1, 0, 2, 0, 0]\n"
          ],
          "name": "stdout"
        },
        {
          "output_type": "execute_result",
          "data": {
            "text/html": [
              "<div>\n",
              "<style scoped>\n",
              "    .dataframe tbody tr th:only-of-type {\n",
              "        vertical-align: middle;\n",
              "    }\n",
              "\n",
              "    .dataframe tbody tr th {\n",
              "        vertical-align: top;\n",
              "    }\n",
              "\n",
              "    .dataframe thead th {\n",
              "        text-align: right;\n",
              "    }\n",
              "</style>\n",
              "<table border=\"1\" class=\"dataframe\">\n",
              "  <thead>\n",
              "    <tr style=\"text-align: right;\">\n",
              "      <th></th>\n",
              "      <th>DY</th>\n",
              "      <th>MO</th>\n",
              "      <th>PS</th>\n",
              "      <th>T2M_RANGE</th>\n",
              "      <th>T2M_MAX</th>\n",
              "      <th>T2M_MIN</th>\n",
              "      <th>RH2M</th>\n",
              "      <th>rideable_type</th>\n",
              "      <th>WS50M_RANGE</th>\n",
              "      <th>T2MDEW</th>\n",
              "      <th>T2M</th>\n",
              "      <th>QV2M</th>\n",
              "      <th>count</th>\n",
              "      <th>docked_b</th>\n",
              "      <th>electric_b</th>\n",
              "    </tr>\n",
              "  </thead>\n",
              "  <tbody>\n",
              "    <tr>\n",
              "      <th>0</th>\n",
              "      <td>1.0</td>\n",
              "      <td>8.0</td>\n",
              "      <td>100.14</td>\n",
              "      <td>9.68</td>\n",
              "      <td>31.55</td>\n",
              "      <td>21.88</td>\n",
              "      <td>70.06</td>\n",
              "      <td>docked_bike</td>\n",
              "      <td>6.75</td>\n",
              "      <td>21.05</td>\n",
              "      <td>26.85</td>\n",
              "      <td>15.53</td>\n",
              "      <td>7</td>\n",
              "      <td>7</td>\n",
              "      <td>0</td>\n",
              "    </tr>\n",
              "    <tr>\n",
              "      <th>1</th>\n",
              "      <td>1.0</td>\n",
              "      <td>8.0</td>\n",
              "      <td>100.14</td>\n",
              "      <td>9.68</td>\n",
              "      <td>31.55</td>\n",
              "      <td>21.88</td>\n",
              "      <td>70.06</td>\n",
              "      <td>electric_bike</td>\n",
              "      <td>6.75</td>\n",
              "      <td>21.05</td>\n",
              "      <td>26.85</td>\n",
              "      <td>15.53</td>\n",
              "      <td>5</td>\n",
              "      <td>0</td>\n",
              "      <td>5</td>\n",
              "    </tr>\n",
              "    <tr>\n",
              "      <th>2</th>\n",
              "      <td>1.0</td>\n",
              "      <td>9.0</td>\n",
              "      <td>100.56</td>\n",
              "      <td>7.80</td>\n",
              "      <td>26.47</td>\n",
              "      <td>18.67</td>\n",
              "      <td>85.16</td>\n",
              "      <td>docked_bike</td>\n",
              "      <td>2.27</td>\n",
              "      <td>19.74</td>\n",
              "      <td>22.34</td>\n",
              "      <td>14.35</td>\n",
              "      <td>6</td>\n",
              "      <td>6</td>\n",
              "      <td>0</td>\n",
              "    </tr>\n",
              "    <tr>\n",
              "      <th>3</th>\n",
              "      <td>1.0</td>\n",
              "      <td>9.0</td>\n",
              "      <td>100.56</td>\n",
              "      <td>7.80</td>\n",
              "      <td>26.47</td>\n",
              "      <td>18.67</td>\n",
              "      <td>85.16</td>\n",
              "      <td>electric_bike</td>\n",
              "      <td>2.27</td>\n",
              "      <td>19.74</td>\n",
              "      <td>22.34</td>\n",
              "      <td>14.35</td>\n",
              "      <td>4</td>\n",
              "      <td>0</td>\n",
              "      <td>4</td>\n",
              "    </tr>\n",
              "    <tr>\n",
              "      <th>4</th>\n",
              "      <td>1.0</td>\n",
              "      <td>10.0</td>\n",
              "      <td>100.16</td>\n",
              "      <td>10.40</td>\n",
              "      <td>22.21</td>\n",
              "      <td>11.81</td>\n",
              "      <td>68.46</td>\n",
              "      <td>docked_bike</td>\n",
              "      <td>6.68</td>\n",
              "      <td>11.04</td>\n",
              "      <td>16.79</td>\n",
              "      <td>8.18</td>\n",
              "      <td>8</td>\n",
              "      <td>8</td>\n",
              "      <td>0</td>\n",
              "    </tr>\n",
              "    <tr>\n",
              "      <th>...</th>\n",
              "      <td>...</td>\n",
              "      <td>...</td>\n",
              "      <td>...</td>\n",
              "      <td>...</td>\n",
              "      <td>...</td>\n",
              "      <td>...</td>\n",
              "      <td>...</td>\n",
              "      <td>...</td>\n",
              "      <td>...</td>\n",
              "      <td>...</td>\n",
              "      <td>...</td>\n",
              "      <td>...</td>\n",
              "      <td>...</td>\n",
              "      <td>...</td>\n",
              "      <td>...</td>\n",
              "    </tr>\n",
              "    <tr>\n",
              "      <th>279</th>\n",
              "      <td>31.0</td>\n",
              "      <td>8.0</td>\n",
              "      <td>100.51</td>\n",
              "      <td>5.10</td>\n",
              "      <td>23.45</td>\n",
              "      <td>18.35</td>\n",
              "      <td>80.48</td>\n",
              "      <td>docked_bike</td>\n",
              "      <td>2.39</td>\n",
              "      <td>17.36</td>\n",
              "      <td>20.80</td>\n",
              "      <td>12.33</td>\n",
              "      <td>1</td>\n",
              "      <td>1</td>\n",
              "      <td>0</td>\n",
              "    </tr>\n",
              "    <tr>\n",
              "      <th>280</th>\n",
              "      <td>31.0</td>\n",
              "      <td>8.0</td>\n",
              "      <td>100.51</td>\n",
              "      <td>5.10</td>\n",
              "      <td>23.45</td>\n",
              "      <td>18.35</td>\n",
              "      <td>80.48</td>\n",
              "      <td>electric_bike</td>\n",
              "      <td>2.39</td>\n",
              "      <td>17.36</td>\n",
              "      <td>20.80</td>\n",
              "      <td>12.33</td>\n",
              "      <td>3</td>\n",
              "      <td>0</td>\n",
              "      <td>3</td>\n",
              "    </tr>\n",
              "    <tr>\n",
              "      <th>281</th>\n",
              "      <td>31.0</td>\n",
              "      <td>10.0</td>\n",
              "      <td>101.85</td>\n",
              "      <td>8.58</td>\n",
              "      <td>10.13</td>\n",
              "      <td>1.55</td>\n",
              "      <td>72.50</td>\n",
              "      <td>docked_bike</td>\n",
              "      <td>7.18</td>\n",
              "      <td>1.30</td>\n",
              "      <td>5.82</td>\n",
              "      <td>4.10</td>\n",
              "      <td>2</td>\n",
              "      <td>2</td>\n",
              "      <td>0</td>\n",
              "    </tr>\n",
              "    <tr>\n",
              "      <th>282</th>\n",
              "      <td>31.0</td>\n",
              "      <td>10.0</td>\n",
              "      <td>101.85</td>\n",
              "      <td>8.58</td>\n",
              "      <td>10.13</td>\n",
              "      <td>1.55</td>\n",
              "      <td>72.50</td>\n",
              "      <td>electric_bike</td>\n",
              "      <td>7.18</td>\n",
              "      <td>1.30</td>\n",
              "      <td>5.82</td>\n",
              "      <td>4.10</td>\n",
              "      <td>6</td>\n",
              "      <td>0</td>\n",
              "      <td>6</td>\n",
              "    </tr>\n",
              "    <tr>\n",
              "      <th>283</th>\n",
              "      <td>31.0</td>\n",
              "      <td>12.0</td>\n",
              "      <td>101.09</td>\n",
              "      <td>5.42</td>\n",
              "      <td>4.74</td>\n",
              "      <td>-0.68</td>\n",
              "      <td>93.72</td>\n",
              "      <td>electric_bike</td>\n",
              "      <td>5.56</td>\n",
              "      <td>2.06</td>\n",
              "      <td>3.00</td>\n",
              "      <td>4.38</td>\n",
              "      <td>2</td>\n",
              "      <td>0</td>\n",
              "      <td>2</td>\n",
              "    </tr>\n",
              "  </tbody>\n",
              "</table>\n",
              "<p>284 rows × 15 columns</p>\n",
              "</div>"
            ],
            "text/plain": [
              "       DY    MO      PS  T2M_RANGE  ...   QV2M  count  docked_b electric_b\n",
              "0     1.0   8.0  100.14       9.68  ...  15.53      7         7          0\n",
              "1     1.0   8.0  100.14       9.68  ...  15.53      5         0          5\n",
              "2     1.0   9.0  100.56       7.80  ...  14.35      6         6          0\n",
              "3     1.0   9.0  100.56       7.80  ...  14.35      4         0          4\n",
              "4     1.0  10.0  100.16      10.40  ...   8.18      8         8          0\n",
              "..    ...   ...     ...        ...  ...    ...    ...       ...        ...\n",
              "279  31.0   8.0  100.51       5.10  ...  12.33      1         1          0\n",
              "280  31.0   8.0  100.51       5.10  ...  12.33      3         0          3\n",
              "281  31.0  10.0  101.85       8.58  ...   4.10      2         2          0\n",
              "282  31.0  10.0  101.85       8.58  ...   4.10      6         0          6\n",
              "283  31.0  12.0  101.09       5.42  ...   4.38      2         0          2\n",
              "\n",
              "[284 rows x 15 columns]"
            ]
          },
          "metadata": {
            "tags": []
          },
          "execution_count": 10
        }
      ]
    },
    {
      "cell_type": "code",
      "metadata": {
        "id": "BA0tpEssfDUL",
        "colab": {
          "base_uri": "https://localhost:8080/",
          "height": 399
        },
        "outputId": "86986a46-f5ec-4810-df77-34a5bd4b2326"
      },
      "source": [
        " modified.reset_index(inplace=True, drop=True)\n",
        "modified.sort_values(['DY', 'MO'], ascending=[True, False])\n"
      ],
      "execution_count": 11,
      "outputs": [
        {
          "output_type": "execute_result",
          "data": {
            "text/html": [
              "<div>\n",
              "<style scoped>\n",
              "    .dataframe tbody tr th:only-of-type {\n",
              "        vertical-align: middle;\n",
              "    }\n",
              "\n",
              "    .dataframe tbody tr th {\n",
              "        vertical-align: top;\n",
              "    }\n",
              "\n",
              "    .dataframe thead th {\n",
              "        text-align: right;\n",
              "    }\n",
              "</style>\n",
              "<table border=\"1\" class=\"dataframe\">\n",
              "  <thead>\n",
              "    <tr style=\"text-align: right;\">\n",
              "      <th></th>\n",
              "      <th>DY</th>\n",
              "      <th>MO</th>\n",
              "      <th>PS</th>\n",
              "      <th>T2M_RANGE</th>\n",
              "      <th>T2M_MAX</th>\n",
              "      <th>T2M_MIN</th>\n",
              "      <th>RH2M</th>\n",
              "      <th>rideable_type</th>\n",
              "      <th>WS50M_RANGE</th>\n",
              "      <th>T2MDEW</th>\n",
              "      <th>T2M</th>\n",
              "      <th>QV2M</th>\n",
              "      <th>count</th>\n",
              "      <th>docked_b</th>\n",
              "      <th>electric_b</th>\n",
              "    </tr>\n",
              "  </thead>\n",
              "  <tbody>\n",
              "    <tr>\n",
              "      <th>8</th>\n",
              "      <td>1.0</td>\n",
              "      <td>12.0</td>\n",
              "      <td>99.43</td>\n",
              "      <td>4.72</td>\n",
              "      <td>6.16</td>\n",
              "      <td>1.44</td>\n",
              "      <td>78.08</td>\n",
              "      <td>docked_bike</td>\n",
              "      <td>4.70</td>\n",
              "      <td>0.21</td>\n",
              "      <td>3.66</td>\n",
              "      <td>3.89</td>\n",
              "      <td>6</td>\n",
              "      <td>6</td>\n",
              "      <td>0</td>\n",
              "    </tr>\n",
              "    <tr>\n",
              "      <th>9</th>\n",
              "      <td>1.0</td>\n",
              "      <td>12.0</td>\n",
              "      <td>99.43</td>\n",
              "      <td>4.72</td>\n",
              "      <td>6.16</td>\n",
              "      <td>1.44</td>\n",
              "      <td>78.08</td>\n",
              "      <td>electric_bike</td>\n",
              "      <td>4.70</td>\n",
              "      <td>0.21</td>\n",
              "      <td>3.66</td>\n",
              "      <td>3.89</td>\n",
              "      <td>1</td>\n",
              "      <td>0</td>\n",
              "      <td>1</td>\n",
              "    </tr>\n",
              "    <tr>\n",
              "      <th>6</th>\n",
              "      <td>1.0</td>\n",
              "      <td>11.0</td>\n",
              "      <td>100.38</td>\n",
              "      <td>11.16</td>\n",
              "      <td>14.52</td>\n",
              "      <td>3.36</td>\n",
              "      <td>86.56</td>\n",
              "      <td>docked_bike</td>\n",
              "      <td>6.63</td>\n",
              "      <td>6.88</td>\n",
              "      <td>9.02</td>\n",
              "      <td>6.19</td>\n",
              "      <td>2</td>\n",
              "      <td>2</td>\n",
              "      <td>0</td>\n",
              "    </tr>\n",
              "    <tr>\n",
              "      <th>7</th>\n",
              "      <td>1.0</td>\n",
              "      <td>11.0</td>\n",
              "      <td>100.38</td>\n",
              "      <td>11.16</td>\n",
              "      <td>14.52</td>\n",
              "      <td>3.36</td>\n",
              "      <td>86.56</td>\n",
              "      <td>electric_bike</td>\n",
              "      <td>6.63</td>\n",
              "      <td>6.88</td>\n",
              "      <td>9.02</td>\n",
              "      <td>6.19</td>\n",
              "      <td>8</td>\n",
              "      <td>0</td>\n",
              "      <td>8</td>\n",
              "    </tr>\n",
              "    <tr>\n",
              "      <th>4</th>\n",
              "      <td>1.0</td>\n",
              "      <td>10.0</td>\n",
              "      <td>100.16</td>\n",
              "      <td>10.40</td>\n",
              "      <td>22.21</td>\n",
              "      <td>11.81</td>\n",
              "      <td>68.46</td>\n",
              "      <td>docked_bike</td>\n",
              "      <td>6.68</td>\n",
              "      <td>11.04</td>\n",
              "      <td>16.79</td>\n",
              "      <td>8.18</td>\n",
              "      <td>8</td>\n",
              "      <td>8</td>\n",
              "      <td>0</td>\n",
              "    </tr>\n",
              "    <tr>\n",
              "      <th>...</th>\n",
              "      <td>...</td>\n",
              "      <td>...</td>\n",
              "      <td>...</td>\n",
              "      <td>...</td>\n",
              "      <td>...</td>\n",
              "      <td>...</td>\n",
              "      <td>...</td>\n",
              "      <td>...</td>\n",
              "      <td>...</td>\n",
              "      <td>...</td>\n",
              "      <td>...</td>\n",
              "      <td>...</td>\n",
              "      <td>...</td>\n",
              "      <td>...</td>\n",
              "      <td>...</td>\n",
              "    </tr>\n",
              "    <tr>\n",
              "      <th>283</th>\n",
              "      <td>31.0</td>\n",
              "      <td>12.0</td>\n",
              "      <td>101.09</td>\n",
              "      <td>5.42</td>\n",
              "      <td>4.74</td>\n",
              "      <td>-0.68</td>\n",
              "      <td>93.72</td>\n",
              "      <td>electric_bike</td>\n",
              "      <td>5.56</td>\n",
              "      <td>2.06</td>\n",
              "      <td>3.00</td>\n",
              "      <td>4.38</td>\n",
              "      <td>2</td>\n",
              "      <td>0</td>\n",
              "      <td>2</td>\n",
              "    </tr>\n",
              "    <tr>\n",
              "      <th>281</th>\n",
              "      <td>31.0</td>\n",
              "      <td>10.0</td>\n",
              "      <td>101.85</td>\n",
              "      <td>8.58</td>\n",
              "      <td>10.13</td>\n",
              "      <td>1.55</td>\n",
              "      <td>72.50</td>\n",
              "      <td>docked_bike</td>\n",
              "      <td>7.18</td>\n",
              "      <td>1.30</td>\n",
              "      <td>5.82</td>\n",
              "      <td>4.10</td>\n",
              "      <td>2</td>\n",
              "      <td>2</td>\n",
              "      <td>0</td>\n",
              "    </tr>\n",
              "    <tr>\n",
              "      <th>282</th>\n",
              "      <td>31.0</td>\n",
              "      <td>10.0</td>\n",
              "      <td>101.85</td>\n",
              "      <td>8.58</td>\n",
              "      <td>10.13</td>\n",
              "      <td>1.55</td>\n",
              "      <td>72.50</td>\n",
              "      <td>electric_bike</td>\n",
              "      <td>7.18</td>\n",
              "      <td>1.30</td>\n",
              "      <td>5.82</td>\n",
              "      <td>4.10</td>\n",
              "      <td>6</td>\n",
              "      <td>0</td>\n",
              "      <td>6</td>\n",
              "    </tr>\n",
              "    <tr>\n",
              "      <th>279</th>\n",
              "      <td>31.0</td>\n",
              "      <td>8.0</td>\n",
              "      <td>100.51</td>\n",
              "      <td>5.10</td>\n",
              "      <td>23.45</td>\n",
              "      <td>18.35</td>\n",
              "      <td>80.48</td>\n",
              "      <td>docked_bike</td>\n",
              "      <td>2.39</td>\n",
              "      <td>17.36</td>\n",
              "      <td>20.80</td>\n",
              "      <td>12.33</td>\n",
              "      <td>1</td>\n",
              "      <td>1</td>\n",
              "      <td>0</td>\n",
              "    </tr>\n",
              "    <tr>\n",
              "      <th>280</th>\n",
              "      <td>31.0</td>\n",
              "      <td>8.0</td>\n",
              "      <td>100.51</td>\n",
              "      <td>5.10</td>\n",
              "      <td>23.45</td>\n",
              "      <td>18.35</td>\n",
              "      <td>80.48</td>\n",
              "      <td>electric_bike</td>\n",
              "      <td>2.39</td>\n",
              "      <td>17.36</td>\n",
              "      <td>20.80</td>\n",
              "      <td>12.33</td>\n",
              "      <td>3</td>\n",
              "      <td>0</td>\n",
              "      <td>3</td>\n",
              "    </tr>\n",
              "  </tbody>\n",
              "</table>\n",
              "<p>284 rows × 15 columns</p>\n",
              "</div>"
            ],
            "text/plain": [
              "       DY    MO      PS  T2M_RANGE  ...   QV2M  count  docked_b electric_b\n",
              "8     1.0  12.0   99.43       4.72  ...   3.89      6         6          0\n",
              "9     1.0  12.0   99.43       4.72  ...   3.89      1         0          1\n",
              "6     1.0  11.0  100.38      11.16  ...   6.19      2         2          0\n",
              "7     1.0  11.0  100.38      11.16  ...   6.19      8         0          8\n",
              "4     1.0  10.0  100.16      10.40  ...   8.18      8         8          0\n",
              "..    ...   ...     ...        ...  ...    ...    ...       ...        ...\n",
              "283  31.0  12.0  101.09       5.42  ...   4.38      2         0          2\n",
              "281  31.0  10.0  101.85       8.58  ...   4.10      2         2          0\n",
              "282  31.0  10.0  101.85       8.58  ...   4.10      6         0          6\n",
              "279  31.0   8.0  100.51       5.10  ...  12.33      1         1          0\n",
              "280  31.0   8.0  100.51       5.10  ...  12.33      3         0          3\n",
              "\n",
              "[284 rows x 15 columns]"
            ]
          },
          "metadata": {
            "tags": []
          },
          "execution_count": 11
        }
      ]
    },
    {
      "cell_type": "code",
      "metadata": {
        "id": "7nO-1tHvkS-u",
        "colab": {
          "base_uri": "https://localhost:8080/",
          "height": 399
        },
        "outputId": "16a07a71-7208-44a3-c067-47319e45d18f"
      },
      "source": [
        "df1 = modified[modified['rideable_type'] == 'docked_bike']\n",
        "df1 = df1.drop(['rideable_type','count', 'electric_b'], axis=1)\n",
        "df1"
      ],
      "execution_count": 12,
      "outputs": [
        {
          "output_type": "execute_result",
          "data": {
            "text/html": [
              "<div>\n",
              "<style scoped>\n",
              "    .dataframe tbody tr th:only-of-type {\n",
              "        vertical-align: middle;\n",
              "    }\n",
              "\n",
              "    .dataframe tbody tr th {\n",
              "        vertical-align: top;\n",
              "    }\n",
              "\n",
              "    .dataframe thead th {\n",
              "        text-align: right;\n",
              "    }\n",
              "</style>\n",
              "<table border=\"1\" class=\"dataframe\">\n",
              "  <thead>\n",
              "    <tr style=\"text-align: right;\">\n",
              "      <th></th>\n",
              "      <th>DY</th>\n",
              "      <th>MO</th>\n",
              "      <th>PS</th>\n",
              "      <th>T2M_RANGE</th>\n",
              "      <th>T2M_MAX</th>\n",
              "      <th>T2M_MIN</th>\n",
              "      <th>RH2M</th>\n",
              "      <th>WS50M_RANGE</th>\n",
              "      <th>T2MDEW</th>\n",
              "      <th>T2M</th>\n",
              "      <th>QV2M</th>\n",
              "      <th>docked_b</th>\n",
              "    </tr>\n",
              "  </thead>\n",
              "  <tbody>\n",
              "    <tr>\n",
              "      <th>0</th>\n",
              "      <td>1.0</td>\n",
              "      <td>8.0</td>\n",
              "      <td>100.14</td>\n",
              "      <td>9.68</td>\n",
              "      <td>31.55</td>\n",
              "      <td>21.88</td>\n",
              "      <td>70.06</td>\n",
              "      <td>6.75</td>\n",
              "      <td>21.05</td>\n",
              "      <td>26.85</td>\n",
              "      <td>15.53</td>\n",
              "      <td>7</td>\n",
              "    </tr>\n",
              "    <tr>\n",
              "      <th>2</th>\n",
              "      <td>1.0</td>\n",
              "      <td>9.0</td>\n",
              "      <td>100.56</td>\n",
              "      <td>7.80</td>\n",
              "      <td>26.47</td>\n",
              "      <td>18.67</td>\n",
              "      <td>85.16</td>\n",
              "      <td>2.27</td>\n",
              "      <td>19.74</td>\n",
              "      <td>22.34</td>\n",
              "      <td>14.35</td>\n",
              "      <td>6</td>\n",
              "    </tr>\n",
              "    <tr>\n",
              "      <th>4</th>\n",
              "      <td>1.0</td>\n",
              "      <td>10.0</td>\n",
              "      <td>100.16</td>\n",
              "      <td>10.40</td>\n",
              "      <td>22.21</td>\n",
              "      <td>11.81</td>\n",
              "      <td>68.46</td>\n",
              "      <td>6.68</td>\n",
              "      <td>11.04</td>\n",
              "      <td>16.79</td>\n",
              "      <td>8.18</td>\n",
              "      <td>8</td>\n",
              "    </tr>\n",
              "    <tr>\n",
              "      <th>6</th>\n",
              "      <td>1.0</td>\n",
              "      <td>11.0</td>\n",
              "      <td>100.38</td>\n",
              "      <td>11.16</td>\n",
              "      <td>14.52</td>\n",
              "      <td>3.36</td>\n",
              "      <td>86.56</td>\n",
              "      <td>6.63</td>\n",
              "      <td>6.88</td>\n",
              "      <td>9.02</td>\n",
              "      <td>6.19</td>\n",
              "      <td>2</td>\n",
              "    </tr>\n",
              "    <tr>\n",
              "      <th>8</th>\n",
              "      <td>1.0</td>\n",
              "      <td>12.0</td>\n",
              "      <td>99.43</td>\n",
              "      <td>4.72</td>\n",
              "      <td>6.16</td>\n",
              "      <td>1.44</td>\n",
              "      <td>78.08</td>\n",
              "      <td>4.70</td>\n",
              "      <td>0.21</td>\n",
              "      <td>3.66</td>\n",
              "      <td>3.89</td>\n",
              "      <td>6</td>\n",
              "    </tr>\n",
              "    <tr>\n",
              "      <th>...</th>\n",
              "      <td>...</td>\n",
              "      <td>...</td>\n",
              "      <td>...</td>\n",
              "      <td>...</td>\n",
              "      <td>...</td>\n",
              "      <td>...</td>\n",
              "      <td>...</td>\n",
              "      <td>...</td>\n",
              "      <td>...</td>\n",
              "      <td>...</td>\n",
              "      <td>...</td>\n",
              "      <td>...</td>\n",
              "    </tr>\n",
              "    <tr>\n",
              "      <th>272</th>\n",
              "      <td>30.0</td>\n",
              "      <td>9.0</td>\n",
              "      <td>99.73</td>\n",
              "      <td>9.32</td>\n",
              "      <td>21.10</td>\n",
              "      <td>11.78</td>\n",
              "      <td>72.31</td>\n",
              "      <td>3.46</td>\n",
              "      <td>11.06</td>\n",
              "      <td>15.97</td>\n",
              "      <td>8.23</td>\n",
              "      <td>6</td>\n",
              "    </tr>\n",
              "    <tr>\n",
              "      <th>274</th>\n",
              "      <td>30.0</td>\n",
              "      <td>10.0</td>\n",
              "      <td>100.21</td>\n",
              "      <td>5.72</td>\n",
              "      <td>11.62</td>\n",
              "      <td>5.90</td>\n",
              "      <td>83.46</td>\n",
              "      <td>4.29</td>\n",
              "      <td>5.96</td>\n",
              "      <td>8.61</td>\n",
              "      <td>5.82</td>\n",
              "      <td>6</td>\n",
              "    </tr>\n",
              "    <tr>\n",
              "      <th>276</th>\n",
              "      <td>30.0</td>\n",
              "      <td>11.0</td>\n",
              "      <td>98.90</td>\n",
              "      <td>13.19</td>\n",
              "      <td>18.73</td>\n",
              "      <td>5.55</td>\n",
              "      <td>97.82</td>\n",
              "      <td>8.18</td>\n",
              "      <td>11.71</td>\n",
              "      <td>12.06</td>\n",
              "      <td>8.72</td>\n",
              "      <td>2</td>\n",
              "    </tr>\n",
              "    <tr>\n",
              "      <th>279</th>\n",
              "      <td>31.0</td>\n",
              "      <td>8.0</td>\n",
              "      <td>100.51</td>\n",
              "      <td>5.10</td>\n",
              "      <td>23.45</td>\n",
              "      <td>18.35</td>\n",
              "      <td>80.48</td>\n",
              "      <td>2.39</td>\n",
              "      <td>17.36</td>\n",
              "      <td>20.80</td>\n",
              "      <td>12.33</td>\n",
              "      <td>1</td>\n",
              "    </tr>\n",
              "    <tr>\n",
              "      <th>281</th>\n",
              "      <td>31.0</td>\n",
              "      <td>10.0</td>\n",
              "      <td>101.85</td>\n",
              "      <td>8.58</td>\n",
              "      <td>10.13</td>\n",
              "      <td>1.55</td>\n",
              "      <td>72.50</td>\n",
              "      <td>7.18</td>\n",
              "      <td>1.30</td>\n",
              "      <td>5.82</td>\n",
              "      <td>4.10</td>\n",
              "      <td>2</td>\n",
              "    </tr>\n",
              "  </tbody>\n",
              "</table>\n",
              "<p>132 rows × 12 columns</p>\n",
              "</div>"
            ],
            "text/plain": [
              "       DY    MO      PS  T2M_RANGE  ...  T2MDEW    T2M   QV2M  docked_b\n",
              "0     1.0   8.0  100.14       9.68  ...   21.05  26.85  15.53         7\n",
              "2     1.0   9.0  100.56       7.80  ...   19.74  22.34  14.35         6\n",
              "4     1.0  10.0  100.16      10.40  ...   11.04  16.79   8.18         8\n",
              "6     1.0  11.0  100.38      11.16  ...    6.88   9.02   6.19         2\n",
              "8     1.0  12.0   99.43       4.72  ...    0.21   3.66   3.89         6\n",
              "..    ...   ...     ...        ...  ...     ...    ...    ...       ...\n",
              "272  30.0   9.0   99.73       9.32  ...   11.06  15.97   8.23         6\n",
              "274  30.0  10.0  100.21       5.72  ...    5.96   8.61   5.82         6\n",
              "276  30.0  11.0   98.90      13.19  ...   11.71  12.06   8.72         2\n",
              "279  31.0   8.0  100.51       5.10  ...   17.36  20.80  12.33         1\n",
              "281  31.0  10.0  101.85       8.58  ...    1.30   5.82   4.10         2\n",
              "\n",
              "[132 rows x 12 columns]"
            ]
          },
          "metadata": {
            "tags": []
          },
          "execution_count": 12
        }
      ]
    },
    {
      "cell_type": "code",
      "metadata": {
        "id": "8xmydOfYkh_h",
        "colab": {
          "base_uri": "https://localhost:8080/",
          "height": 399
        },
        "outputId": "65dd9458-30b3-4b0b-f1b2-ef3eff215a65"
      },
      "source": [
        "df2 = modified[modified['rideable_type'] == 'electric_bike']\n",
        "df2 = df2.drop(['rideable_type','count', 'docked_b'], axis=1)\n",
        "df2"
      ],
      "execution_count": 13,
      "outputs": [
        {
          "output_type": "execute_result",
          "data": {
            "text/html": [
              "<div>\n",
              "<style scoped>\n",
              "    .dataframe tbody tr th:only-of-type {\n",
              "        vertical-align: middle;\n",
              "    }\n",
              "\n",
              "    .dataframe tbody tr th {\n",
              "        vertical-align: top;\n",
              "    }\n",
              "\n",
              "    .dataframe thead th {\n",
              "        text-align: right;\n",
              "    }\n",
              "</style>\n",
              "<table border=\"1\" class=\"dataframe\">\n",
              "  <thead>\n",
              "    <tr style=\"text-align: right;\">\n",
              "      <th></th>\n",
              "      <th>DY</th>\n",
              "      <th>MO</th>\n",
              "      <th>PS</th>\n",
              "      <th>T2M_RANGE</th>\n",
              "      <th>T2M_MAX</th>\n",
              "      <th>T2M_MIN</th>\n",
              "      <th>RH2M</th>\n",
              "      <th>WS50M_RANGE</th>\n",
              "      <th>T2MDEW</th>\n",
              "      <th>T2M</th>\n",
              "      <th>QV2M</th>\n",
              "      <th>electric_b</th>\n",
              "    </tr>\n",
              "  </thead>\n",
              "  <tbody>\n",
              "    <tr>\n",
              "      <th>1</th>\n",
              "      <td>1.0</td>\n",
              "      <td>8.0</td>\n",
              "      <td>100.14</td>\n",
              "      <td>9.68</td>\n",
              "      <td>31.55</td>\n",
              "      <td>21.88</td>\n",
              "      <td>70.06</td>\n",
              "      <td>6.75</td>\n",
              "      <td>21.05</td>\n",
              "      <td>26.85</td>\n",
              "      <td>15.53</td>\n",
              "      <td>5</td>\n",
              "    </tr>\n",
              "    <tr>\n",
              "      <th>3</th>\n",
              "      <td>1.0</td>\n",
              "      <td>9.0</td>\n",
              "      <td>100.56</td>\n",
              "      <td>7.80</td>\n",
              "      <td>26.47</td>\n",
              "      <td>18.67</td>\n",
              "      <td>85.16</td>\n",
              "      <td>2.27</td>\n",
              "      <td>19.74</td>\n",
              "      <td>22.34</td>\n",
              "      <td>14.35</td>\n",
              "      <td>4</td>\n",
              "    </tr>\n",
              "    <tr>\n",
              "      <th>5</th>\n",
              "      <td>1.0</td>\n",
              "      <td>10.0</td>\n",
              "      <td>100.16</td>\n",
              "      <td>10.40</td>\n",
              "      <td>22.21</td>\n",
              "      <td>11.81</td>\n",
              "      <td>68.46</td>\n",
              "      <td>6.68</td>\n",
              "      <td>11.04</td>\n",
              "      <td>16.79</td>\n",
              "      <td>8.18</td>\n",
              "      <td>4</td>\n",
              "    </tr>\n",
              "    <tr>\n",
              "      <th>7</th>\n",
              "      <td>1.0</td>\n",
              "      <td>11.0</td>\n",
              "      <td>100.38</td>\n",
              "      <td>11.16</td>\n",
              "      <td>14.52</td>\n",
              "      <td>3.36</td>\n",
              "      <td>86.56</td>\n",
              "      <td>6.63</td>\n",
              "      <td>6.88</td>\n",
              "      <td>9.02</td>\n",
              "      <td>6.19</td>\n",
              "      <td>8</td>\n",
              "    </tr>\n",
              "    <tr>\n",
              "      <th>9</th>\n",
              "      <td>1.0</td>\n",
              "      <td>12.0</td>\n",
              "      <td>99.43</td>\n",
              "      <td>4.72</td>\n",
              "      <td>6.16</td>\n",
              "      <td>1.44</td>\n",
              "      <td>78.08</td>\n",
              "      <td>4.70</td>\n",
              "      <td>0.21</td>\n",
              "      <td>3.66</td>\n",
              "      <td>3.89</td>\n",
              "      <td>1</td>\n",
              "    </tr>\n",
              "    <tr>\n",
              "      <th>...</th>\n",
              "      <td>...</td>\n",
              "      <td>...</td>\n",
              "      <td>...</td>\n",
              "      <td>...</td>\n",
              "      <td>...</td>\n",
              "      <td>...</td>\n",
              "      <td>...</td>\n",
              "      <td>...</td>\n",
              "      <td>...</td>\n",
              "      <td>...</td>\n",
              "      <td>...</td>\n",
              "      <td>...</td>\n",
              "    </tr>\n",
              "    <tr>\n",
              "      <th>277</th>\n",
              "      <td>30.0</td>\n",
              "      <td>11.0</td>\n",
              "      <td>98.90</td>\n",
              "      <td>13.19</td>\n",
              "      <td>18.73</td>\n",
              "      <td>5.55</td>\n",
              "      <td>97.82</td>\n",
              "      <td>8.18</td>\n",
              "      <td>11.71</td>\n",
              "      <td>12.06</td>\n",
              "      <td>8.72</td>\n",
              "      <td>8</td>\n",
              "    </tr>\n",
              "    <tr>\n",
              "      <th>278</th>\n",
              "      <td>30.0</td>\n",
              "      <td>12.0</td>\n",
              "      <td>101.57</td>\n",
              "      <td>5.46</td>\n",
              "      <td>3.18</td>\n",
              "      <td>-2.28</td>\n",
              "      <td>82.34</td>\n",
              "      <td>6.36</td>\n",
              "      <td>-2.06</td>\n",
              "      <td>0.61</td>\n",
              "      <td>3.23</td>\n",
              "      <td>5</td>\n",
              "    </tr>\n",
              "    <tr>\n",
              "      <th>280</th>\n",
              "      <td>31.0</td>\n",
              "      <td>8.0</td>\n",
              "      <td>100.51</td>\n",
              "      <td>5.10</td>\n",
              "      <td>23.45</td>\n",
              "      <td>18.35</td>\n",
              "      <td>80.48</td>\n",
              "      <td>2.39</td>\n",
              "      <td>17.36</td>\n",
              "      <td>20.80</td>\n",
              "      <td>12.33</td>\n",
              "      <td>3</td>\n",
              "    </tr>\n",
              "    <tr>\n",
              "      <th>282</th>\n",
              "      <td>31.0</td>\n",
              "      <td>10.0</td>\n",
              "      <td>101.85</td>\n",
              "      <td>8.58</td>\n",
              "      <td>10.13</td>\n",
              "      <td>1.55</td>\n",
              "      <td>72.50</td>\n",
              "      <td>7.18</td>\n",
              "      <td>1.30</td>\n",
              "      <td>5.82</td>\n",
              "      <td>4.10</td>\n",
              "      <td>6</td>\n",
              "    </tr>\n",
              "    <tr>\n",
              "      <th>283</th>\n",
              "      <td>31.0</td>\n",
              "      <td>12.0</td>\n",
              "      <td>101.09</td>\n",
              "      <td>5.42</td>\n",
              "      <td>4.74</td>\n",
              "      <td>-0.68</td>\n",
              "      <td>93.72</td>\n",
              "      <td>5.56</td>\n",
              "      <td>2.06</td>\n",
              "      <td>3.00</td>\n",
              "      <td>4.38</td>\n",
              "      <td>2</td>\n",
              "    </tr>\n",
              "  </tbody>\n",
              "</table>\n",
              "<p>152 rows × 12 columns</p>\n",
              "</div>"
            ],
            "text/plain": [
              "       DY    MO      PS  T2M_RANGE  ...  T2MDEW    T2M   QV2M  electric_b\n",
              "1     1.0   8.0  100.14       9.68  ...   21.05  26.85  15.53           5\n",
              "3     1.0   9.0  100.56       7.80  ...   19.74  22.34  14.35           4\n",
              "5     1.0  10.0  100.16      10.40  ...   11.04  16.79   8.18           4\n",
              "7     1.0  11.0  100.38      11.16  ...    6.88   9.02   6.19           8\n",
              "9     1.0  12.0   99.43       4.72  ...    0.21   3.66   3.89           1\n",
              "..    ...   ...     ...        ...  ...     ...    ...    ...         ...\n",
              "277  30.0  11.0   98.90      13.19  ...   11.71  12.06   8.72           8\n",
              "278  30.0  12.0  101.57       5.46  ...   -2.06   0.61   3.23           5\n",
              "280  31.0   8.0  100.51       5.10  ...   17.36  20.80  12.33           3\n",
              "282  31.0  10.0  101.85       8.58  ...    1.30   5.82   4.10           6\n",
              "283  31.0  12.0  101.09       5.42  ...    2.06   3.00   4.38           2\n",
              "\n",
              "[152 rows x 12 columns]"
            ]
          },
          "metadata": {
            "tags": []
          },
          "execution_count": 13
        }
      ]
    },
    {
      "cell_type": "code",
      "metadata": {
        "id": "3SCyjlRVeVkc",
        "colab": {
          "base_uri": "https://localhost:8080/",
          "height": 399
        },
        "outputId": "00a0e1cc-4832-4dad-a9b2-6d4ef5f3a2c8"
      },
      "source": [
        "df1['PS'] = df1['PS'] - 100\n",
        "modified = df1\n",
        "modified"
      ],
      "execution_count": 14,
      "outputs": [
        {
          "output_type": "execute_result",
          "data": {
            "text/html": [
              "<div>\n",
              "<style scoped>\n",
              "    .dataframe tbody tr th:only-of-type {\n",
              "        vertical-align: middle;\n",
              "    }\n",
              "\n",
              "    .dataframe tbody tr th {\n",
              "        vertical-align: top;\n",
              "    }\n",
              "\n",
              "    .dataframe thead th {\n",
              "        text-align: right;\n",
              "    }\n",
              "</style>\n",
              "<table border=\"1\" class=\"dataframe\">\n",
              "  <thead>\n",
              "    <tr style=\"text-align: right;\">\n",
              "      <th></th>\n",
              "      <th>DY</th>\n",
              "      <th>MO</th>\n",
              "      <th>PS</th>\n",
              "      <th>T2M_RANGE</th>\n",
              "      <th>T2M_MAX</th>\n",
              "      <th>T2M_MIN</th>\n",
              "      <th>RH2M</th>\n",
              "      <th>WS50M_RANGE</th>\n",
              "      <th>T2MDEW</th>\n",
              "      <th>T2M</th>\n",
              "      <th>QV2M</th>\n",
              "      <th>docked_b</th>\n",
              "    </tr>\n",
              "  </thead>\n",
              "  <tbody>\n",
              "    <tr>\n",
              "      <th>0</th>\n",
              "      <td>1.0</td>\n",
              "      <td>8.0</td>\n",
              "      <td>0.14</td>\n",
              "      <td>9.68</td>\n",
              "      <td>31.55</td>\n",
              "      <td>21.88</td>\n",
              "      <td>70.06</td>\n",
              "      <td>6.75</td>\n",
              "      <td>21.05</td>\n",
              "      <td>26.85</td>\n",
              "      <td>15.53</td>\n",
              "      <td>7</td>\n",
              "    </tr>\n",
              "    <tr>\n",
              "      <th>2</th>\n",
              "      <td>1.0</td>\n",
              "      <td>9.0</td>\n",
              "      <td>0.56</td>\n",
              "      <td>7.80</td>\n",
              "      <td>26.47</td>\n",
              "      <td>18.67</td>\n",
              "      <td>85.16</td>\n",
              "      <td>2.27</td>\n",
              "      <td>19.74</td>\n",
              "      <td>22.34</td>\n",
              "      <td>14.35</td>\n",
              "      <td>6</td>\n",
              "    </tr>\n",
              "    <tr>\n",
              "      <th>4</th>\n",
              "      <td>1.0</td>\n",
              "      <td>10.0</td>\n",
              "      <td>0.16</td>\n",
              "      <td>10.40</td>\n",
              "      <td>22.21</td>\n",
              "      <td>11.81</td>\n",
              "      <td>68.46</td>\n",
              "      <td>6.68</td>\n",
              "      <td>11.04</td>\n",
              "      <td>16.79</td>\n",
              "      <td>8.18</td>\n",
              "      <td>8</td>\n",
              "    </tr>\n",
              "    <tr>\n",
              "      <th>6</th>\n",
              "      <td>1.0</td>\n",
              "      <td>11.0</td>\n",
              "      <td>0.38</td>\n",
              "      <td>11.16</td>\n",
              "      <td>14.52</td>\n",
              "      <td>3.36</td>\n",
              "      <td>86.56</td>\n",
              "      <td>6.63</td>\n",
              "      <td>6.88</td>\n",
              "      <td>9.02</td>\n",
              "      <td>6.19</td>\n",
              "      <td>2</td>\n",
              "    </tr>\n",
              "    <tr>\n",
              "      <th>8</th>\n",
              "      <td>1.0</td>\n",
              "      <td>12.0</td>\n",
              "      <td>-0.57</td>\n",
              "      <td>4.72</td>\n",
              "      <td>6.16</td>\n",
              "      <td>1.44</td>\n",
              "      <td>78.08</td>\n",
              "      <td>4.70</td>\n",
              "      <td>0.21</td>\n",
              "      <td>3.66</td>\n",
              "      <td>3.89</td>\n",
              "      <td>6</td>\n",
              "    </tr>\n",
              "    <tr>\n",
              "      <th>...</th>\n",
              "      <td>...</td>\n",
              "      <td>...</td>\n",
              "      <td>...</td>\n",
              "      <td>...</td>\n",
              "      <td>...</td>\n",
              "      <td>...</td>\n",
              "      <td>...</td>\n",
              "      <td>...</td>\n",
              "      <td>...</td>\n",
              "      <td>...</td>\n",
              "      <td>...</td>\n",
              "      <td>...</td>\n",
              "    </tr>\n",
              "    <tr>\n",
              "      <th>272</th>\n",
              "      <td>30.0</td>\n",
              "      <td>9.0</td>\n",
              "      <td>-0.27</td>\n",
              "      <td>9.32</td>\n",
              "      <td>21.10</td>\n",
              "      <td>11.78</td>\n",
              "      <td>72.31</td>\n",
              "      <td>3.46</td>\n",
              "      <td>11.06</td>\n",
              "      <td>15.97</td>\n",
              "      <td>8.23</td>\n",
              "      <td>6</td>\n",
              "    </tr>\n",
              "    <tr>\n",
              "      <th>274</th>\n",
              "      <td>30.0</td>\n",
              "      <td>10.0</td>\n",
              "      <td>0.21</td>\n",
              "      <td>5.72</td>\n",
              "      <td>11.62</td>\n",
              "      <td>5.90</td>\n",
              "      <td>83.46</td>\n",
              "      <td>4.29</td>\n",
              "      <td>5.96</td>\n",
              "      <td>8.61</td>\n",
              "      <td>5.82</td>\n",
              "      <td>6</td>\n",
              "    </tr>\n",
              "    <tr>\n",
              "      <th>276</th>\n",
              "      <td>30.0</td>\n",
              "      <td>11.0</td>\n",
              "      <td>-1.10</td>\n",
              "      <td>13.19</td>\n",
              "      <td>18.73</td>\n",
              "      <td>5.55</td>\n",
              "      <td>97.82</td>\n",
              "      <td>8.18</td>\n",
              "      <td>11.71</td>\n",
              "      <td>12.06</td>\n",
              "      <td>8.72</td>\n",
              "      <td>2</td>\n",
              "    </tr>\n",
              "    <tr>\n",
              "      <th>279</th>\n",
              "      <td>31.0</td>\n",
              "      <td>8.0</td>\n",
              "      <td>0.51</td>\n",
              "      <td>5.10</td>\n",
              "      <td>23.45</td>\n",
              "      <td>18.35</td>\n",
              "      <td>80.48</td>\n",
              "      <td>2.39</td>\n",
              "      <td>17.36</td>\n",
              "      <td>20.80</td>\n",
              "      <td>12.33</td>\n",
              "      <td>1</td>\n",
              "    </tr>\n",
              "    <tr>\n",
              "      <th>281</th>\n",
              "      <td>31.0</td>\n",
              "      <td>10.0</td>\n",
              "      <td>1.85</td>\n",
              "      <td>8.58</td>\n",
              "      <td>10.13</td>\n",
              "      <td>1.55</td>\n",
              "      <td>72.50</td>\n",
              "      <td>7.18</td>\n",
              "      <td>1.30</td>\n",
              "      <td>5.82</td>\n",
              "      <td>4.10</td>\n",
              "      <td>2</td>\n",
              "    </tr>\n",
              "  </tbody>\n",
              "</table>\n",
              "<p>132 rows × 12 columns</p>\n",
              "</div>"
            ],
            "text/plain": [
              "       DY    MO    PS  T2M_RANGE  ...  T2MDEW    T2M   QV2M  docked_b\n",
              "0     1.0   8.0  0.14       9.68  ...   21.05  26.85  15.53         7\n",
              "2     1.0   9.0  0.56       7.80  ...   19.74  22.34  14.35         6\n",
              "4     1.0  10.0  0.16      10.40  ...   11.04  16.79   8.18         8\n",
              "6     1.0  11.0  0.38      11.16  ...    6.88   9.02   6.19         2\n",
              "8     1.0  12.0 -0.57       4.72  ...    0.21   3.66   3.89         6\n",
              "..    ...   ...   ...        ...  ...     ...    ...    ...       ...\n",
              "272  30.0   9.0 -0.27       9.32  ...   11.06  15.97   8.23         6\n",
              "274  30.0  10.0  0.21       5.72  ...    5.96   8.61   5.82         6\n",
              "276  30.0  11.0 -1.10      13.19  ...   11.71  12.06   8.72         2\n",
              "279  31.0   8.0  0.51       5.10  ...   17.36  20.80  12.33         1\n",
              "281  31.0  10.0  1.85       8.58  ...    1.30   5.82   4.10         2\n",
              "\n",
              "[132 rows x 12 columns]"
            ]
          },
          "metadata": {
            "tags": []
          },
          "execution_count": 14
        }
      ]
    },
    {
      "cell_type": "code",
      "metadata": {
        "id": "gr4wB5w9Xl_F",
        "colab": {
          "base_uri": "https://localhost:8080/",
          "height": 399
        },
        "outputId": "f918d731-8f86-4a0c-9d3c-d868157ab8e9"
      },
      "source": [
        "modified.corr()"
      ],
      "execution_count": 15,
      "outputs": [
        {
          "output_type": "execute_result",
          "data": {
            "text/html": [
              "<div>\n",
              "<style scoped>\n",
              "    .dataframe tbody tr th:only-of-type {\n",
              "        vertical-align: middle;\n",
              "    }\n",
              "\n",
              "    .dataframe tbody tr th {\n",
              "        vertical-align: top;\n",
              "    }\n",
              "\n",
              "    .dataframe thead th {\n",
              "        text-align: right;\n",
              "    }\n",
              "</style>\n",
              "<table border=\"1\" class=\"dataframe\">\n",
              "  <thead>\n",
              "    <tr style=\"text-align: right;\">\n",
              "      <th></th>\n",
              "      <th>DY</th>\n",
              "      <th>MO</th>\n",
              "      <th>PS</th>\n",
              "      <th>T2M_RANGE</th>\n",
              "      <th>T2M_MAX</th>\n",
              "      <th>T2M_MIN</th>\n",
              "      <th>RH2M</th>\n",
              "      <th>WS50M_RANGE</th>\n",
              "      <th>T2MDEW</th>\n",
              "      <th>T2M</th>\n",
              "      <th>QV2M</th>\n",
              "      <th>docked_b</th>\n",
              "    </tr>\n",
              "  </thead>\n",
              "  <tbody>\n",
              "    <tr>\n",
              "      <th>DY</th>\n",
              "      <td>1.000000</td>\n",
              "      <td>-0.172152</td>\n",
              "      <td>-0.063592</td>\n",
              "      <td>0.019183</td>\n",
              "      <td>0.032703</td>\n",
              "      <td>0.025834</td>\n",
              "      <td>0.152020</td>\n",
              "      <td>-0.067484</td>\n",
              "      <td>0.073608</td>\n",
              "      <td>0.035098</td>\n",
              "      <td>0.038676</td>\n",
              "      <td>-0.226833</td>\n",
              "    </tr>\n",
              "    <tr>\n",
              "      <th>MO</th>\n",
              "      <td>-0.172152</td>\n",
              "      <td>1.000000</td>\n",
              "      <td>0.256603</td>\n",
              "      <td>0.100245</td>\n",
              "      <td>-0.876840</td>\n",
              "      <td>-0.891898</td>\n",
              "      <td>0.221313</td>\n",
              "      <td>0.149491</td>\n",
              "      <td>-0.811397</td>\n",
              "      <td>-0.903732</td>\n",
              "      <td>-0.813181</td>\n",
              "      <td>0.080980</td>\n",
              "    </tr>\n",
              "    <tr>\n",
              "      <th>PS</th>\n",
              "      <td>-0.063592</td>\n",
              "      <td>0.256603</td>\n",
              "      <td>1.000000</td>\n",
              "      <td>0.236363</td>\n",
              "      <td>-0.279757</td>\n",
              "      <td>-0.351075</td>\n",
              "      <td>-0.189577</td>\n",
              "      <td>0.005269</td>\n",
              "      <td>-0.372534</td>\n",
              "      <td>-0.331334</td>\n",
              "      <td>-0.398756</td>\n",
              "      <td>0.044303</td>\n",
              "    </tr>\n",
              "    <tr>\n",
              "      <th>T2M_RANGE</th>\n",
              "      <td>0.019183</td>\n",
              "      <td>0.100245</td>\n",
              "      <td>0.236363</td>\n",
              "      <td>1.000000</td>\n",
              "      <td>0.103880</td>\n",
              "      <td>-0.223799</td>\n",
              "      <td>-0.392239</td>\n",
              "      <td>0.150810</td>\n",
              "      <td>-0.178483</td>\n",
              "      <td>-0.067213</td>\n",
              "      <td>-0.261263</td>\n",
              "      <td>0.117019</td>\n",
              "    </tr>\n",
              "    <tr>\n",
              "      <th>T2M_MAX</th>\n",
              "      <td>0.032703</td>\n",
              "      <td>-0.876840</td>\n",
              "      <td>-0.279757</td>\n",
              "      <td>0.103880</td>\n",
              "      <td>1.000000</td>\n",
              "      <td>0.946114</td>\n",
              "      <td>-0.068118</td>\n",
              "      <td>-0.162703</td>\n",
              "      <td>0.928612</td>\n",
              "      <td>0.983560</td>\n",
              "      <td>0.889448</td>\n",
              "      <td>-0.063619</td>\n",
              "    </tr>\n",
              "    <tr>\n",
              "      <th>T2M_MIN</th>\n",
              "      <td>0.025834</td>\n",
              "      <td>-0.891898</td>\n",
              "      <td>-0.351075</td>\n",
              "      <td>-0.223799</td>\n",
              "      <td>0.946114</td>\n",
              "      <td>1.000000</td>\n",
              "      <td>0.060960</td>\n",
              "      <td>-0.208450</td>\n",
              "      <td>0.968098</td>\n",
              "      <td>0.985717</td>\n",
              "      <td>0.956660</td>\n",
              "      <td>-0.100508</td>\n",
              "    </tr>\n",
              "    <tr>\n",
              "      <th>RH2M</th>\n",
              "      <td>0.152020</td>\n",
              "      <td>0.221313</td>\n",
              "      <td>-0.189577</td>\n",
              "      <td>-0.392239</td>\n",
              "      <td>-0.068118</td>\n",
              "      <td>0.060960</td>\n",
              "      <td>1.000000</td>\n",
              "      <td>-0.146668</td>\n",
              "      <td>0.264789</td>\n",
              "      <td>-0.009767</td>\n",
              "      <td>0.261966</td>\n",
              "      <td>-0.305012</td>\n",
              "    </tr>\n",
              "    <tr>\n",
              "      <th>WS50M_RANGE</th>\n",
              "      <td>-0.067484</td>\n",
              "      <td>0.149491</td>\n",
              "      <td>0.005269</td>\n",
              "      <td>0.150810</td>\n",
              "      <td>-0.162703</td>\n",
              "      <td>-0.208450</td>\n",
              "      <td>-0.146668</td>\n",
              "      <td>1.000000</td>\n",
              "      <td>-0.222468</td>\n",
              "      <td>-0.187277</td>\n",
              "      <td>-0.240712</td>\n",
              "      <td>-0.014602</td>\n",
              "    </tr>\n",
              "    <tr>\n",
              "      <th>T2MDEW</th>\n",
              "      <td>0.073608</td>\n",
              "      <td>-0.811397</td>\n",
              "      <td>-0.372534</td>\n",
              "      <td>-0.178483</td>\n",
              "      <td>0.928612</td>\n",
              "      <td>0.968098</td>\n",
              "      <td>0.264789</td>\n",
              "      <td>-0.222468</td>\n",
              "      <td>1.000000</td>\n",
              "      <td>0.961349</td>\n",
              "      <td>0.976435</td>\n",
              "      <td>-0.156516</td>\n",
              "    </tr>\n",
              "    <tr>\n",
              "      <th>T2M</th>\n",
              "      <td>0.035098</td>\n",
              "      <td>-0.903732</td>\n",
              "      <td>-0.331334</td>\n",
              "      <td>-0.067213</td>\n",
              "      <td>0.983560</td>\n",
              "      <td>0.985717</td>\n",
              "      <td>-0.009767</td>\n",
              "      <td>-0.187277</td>\n",
              "      <td>0.961349</td>\n",
              "      <td>1.000000</td>\n",
              "      <td>0.936176</td>\n",
              "      <td>-0.078853</td>\n",
              "    </tr>\n",
              "    <tr>\n",
              "      <th>QV2M</th>\n",
              "      <td>0.038676</td>\n",
              "      <td>-0.813181</td>\n",
              "      <td>-0.398756</td>\n",
              "      <td>-0.261263</td>\n",
              "      <td>0.889448</td>\n",
              "      <td>0.956660</td>\n",
              "      <td>0.261966</td>\n",
              "      <td>-0.240712</td>\n",
              "      <td>0.976435</td>\n",
              "      <td>0.936176</td>\n",
              "      <td>1.000000</td>\n",
              "      <td>-0.168932</td>\n",
              "    </tr>\n",
              "    <tr>\n",
              "      <th>docked_b</th>\n",
              "      <td>-0.226833</td>\n",
              "      <td>0.080980</td>\n",
              "      <td>0.044303</td>\n",
              "      <td>0.117019</td>\n",
              "      <td>-0.063619</td>\n",
              "      <td>-0.100508</td>\n",
              "      <td>-0.305012</td>\n",
              "      <td>-0.014602</td>\n",
              "      <td>-0.156516</td>\n",
              "      <td>-0.078853</td>\n",
              "      <td>-0.168932</td>\n",
              "      <td>1.000000</td>\n",
              "    </tr>\n",
              "  </tbody>\n",
              "</table>\n",
              "</div>"
            ],
            "text/plain": [
              "                   DY        MO        PS  ...       T2M      QV2M  docked_b\n",
              "DY           1.000000 -0.172152 -0.063592  ...  0.035098  0.038676 -0.226833\n",
              "MO          -0.172152  1.000000  0.256603  ... -0.903732 -0.813181  0.080980\n",
              "PS          -0.063592  0.256603  1.000000  ... -0.331334 -0.398756  0.044303\n",
              "T2M_RANGE    0.019183  0.100245  0.236363  ... -0.067213 -0.261263  0.117019\n",
              "T2M_MAX      0.032703 -0.876840 -0.279757  ...  0.983560  0.889448 -0.063619\n",
              "T2M_MIN      0.025834 -0.891898 -0.351075  ...  0.985717  0.956660 -0.100508\n",
              "RH2M         0.152020  0.221313 -0.189577  ... -0.009767  0.261966 -0.305012\n",
              "WS50M_RANGE -0.067484  0.149491  0.005269  ... -0.187277 -0.240712 -0.014602\n",
              "T2MDEW       0.073608 -0.811397 -0.372534  ...  0.961349  0.976435 -0.156516\n",
              "T2M          0.035098 -0.903732 -0.331334  ...  1.000000  0.936176 -0.078853\n",
              "QV2M         0.038676 -0.813181 -0.398756  ...  0.936176  1.000000 -0.168932\n",
              "docked_b    -0.226833  0.080980  0.044303  ... -0.078853 -0.168932  1.000000\n",
              "\n",
              "[12 rows x 12 columns]"
            ]
          },
          "metadata": {
            "tags": []
          },
          "execution_count": 15
        }
      ]
    },
    {
      "cell_type": "code",
      "metadata": {
        "id": "HtWcsYBPX5en",
        "colab": {
          "base_uri": "https://localhost:8080/",
          "height": 663
        },
        "outputId": "eef1ff5e-b780-46fa-b117-cdfb74973716"
      },
      "source": [
        "plt.figure(figsize=(16,10))\n",
        "sns.heatmap(modified.corr(), annot=True)\n",
        "plt.show()"
      ],
      "execution_count": 16,
      "outputs": [
        {
          "output_type": "display_data",
          "data": {
            "image/png": "[encoded data removed]",
            "text/plain": [
              "<Figure size 1152x720 with 2 Axes>"
            ]
          },
          "metadata": {
            "tags": [],
            "needs_background": "light"
          }
        }
      ]
    },
    {
      "cell_type": "code",
      "metadata": {
        "id": "PzALkvPMwWB0",
        "colab": {
          "base_uri": "https://localhost:8080/"
        },
        "outputId": "9e844780-a4a7-4c0f-b669-378161241983"
      },
      "source": [
        "docked_count = modified['docked_b'].sum()\n",
        "print (docked_count)\n",
        "electric_count = df2['electric_b'].sum()\n",
        "print (electric_count)\n"
      ],
      "execution_count": 17,
      "outputs": [
        {
          "output_type": "stream",
          "text": [
            "623\n",
            "785\n"
          ],
          "name": "stdout"
        }
      ]
    },
    {
      "cell_type": "code",
      "metadata": {
        "id": "qXHQbUwH-rBk",
        "colab": {
          "base_uri": "https://localhost:8080/"
        },
        "outputId": "78022dfc-b3af-4c4b-d136-ea57ecb92b47"
      },
      "source": [
        "index = modified.index\n",
        "number_of_rows = len(index)\n",
        "number_of_rows"
      ],
      "execution_count": 18,
      "outputs": [
        {
          "output_type": "execute_result",
          "data": {
            "text/plain": [
              "132"
            ]
          },
          "metadata": {
            "tags": []
          },
          "execution_count": 18
        }
      ]
    },
    {
      "cell_type": "code",
      "metadata": {
        "id": "mf2UoKUTRJCL",
        "colab": {
          "base_uri": "https://localhost:8080/"
        },
        "outputId": "b744b0a6-1703-4457-c9e8-82f06311010d"
      },
      "source": [
        "from sklearn.svm import SVC\n",
        "!pip3 install quandl\n",
        "!pip3 install sklearn\n",
        "import quandl, math\n",
        "from sklearn.model_selection import cross_validate\n",
        "from sklearn.model_selection import train_test_split\n",
        "from sklearn import preprocessing, svm\n",
        "from sklearn.linear_model import LinearRegression"
      ],
      "execution_count": 19,
      "outputs": [
        {
          "output_type": "stream",
          "text": [
            "Collecting quandl\n",
            "  Downloading https://files.pythonhosted.org/packages/8b/2b/feefb36015beaecc5c0f9f2533e815b409621d9fa7b50b2aac621796f828/Quandl-3.6.1-py2.py3-none-any.whl\n",
            "Requirement already satisfied: python-dateutil in /usr/local/lib/python3.7/dist-packages (from quandl) (2.8.1)\n",
            "Requirement already satisfied: six in /usr/local/lib/python3.7/dist-packages (from quandl) (1.15.0)\n",
            "Requirement already satisfied: pandas>=0.14 in /usr/local/lib/python3.7/dist-packages (from quandl) (1.1.5)\n",
            "Collecting inflection>=0.3.1\n",
            "  Downloading https://files.pythonhosted.org/packages/59/91/aa6bde563e0085a02a435aa99b49ef75b0a4b062635e606dab23ce18d720/inflection-0.5.1-py2.py3-none-any.whl\n",
            "Requirement already satisfied: more-itertools in /usr/local/lib/python3.7/dist-packages (from quandl) (8.7.0)\n",
            "Requirement already satisfied: requests>=2.7.0 in /usr/local/lib/python3.7/dist-packages (from quandl) (2.23.0)\n",
            "Requirement already satisfied: numpy>=1.8 in /usr/local/lib/python3.7/dist-packages (from quandl) (1.19.5)\n",
            "Requirement already satisfied: pytz>=2017.2 in /usr/local/lib/python3.7/dist-packages (from pandas>=0.14->quandl) (2018.9)\n",
            "Requirement already satisfied: chardet<4,>=3.0.2 in /usr/local/lib/python3.7/dist-packages (from requests>=2.7.0->quandl) (3.0.4)\n",
            "Requirement already satisfied: urllib3!=1.25.0,!=1.25.1,<1.26,>=1.21.1 in /usr/local/lib/python3.7/dist-packages (from requests>=2.7.0->quandl) (1.24.3)\n",
            "Requirement already satisfied: certifi>=2017.4.17 in /usr/local/lib/python3.7/dist-packages (from requests>=2.7.0->quandl) (2020.12.5)\n",
            "Requirement already satisfied: idna<3,>=2.5 in /usr/local/lib/python3.7/dist-packages (from requests>=2.7.0->quandl) (2.10)\n",
            "Installing collected packages: inflection, quandl\n",
            "Successfully installed inflection-0.5.1 quandl-3.6.1\n",
            "Requirement already satisfied: sklearn in /usr/local/lib/python3.7/dist-packages (0.0)\n",
            "Requirement already satisfied: scikit-learn in /usr/local/lib/python3.7/dist-packages (from sklearn) (0.22.2.post1)\n",
            "Requirement already satisfied: numpy>=1.11.0 in /usr/local/lib/python3.7/dist-packages (from scikit-learn->sklearn) (1.19.5)\n",
            "Requirement already satisfied: scipy>=0.17.0 in /usr/local/lib/python3.7/dist-packages (from scikit-learn->sklearn) (1.4.1)\n",
            "Requirement already satisfied: joblib>=0.11 in /usr/local/lib/python3.7/dist-packages (from scikit-learn->sklearn) (1.0.1)\n"
          ],
          "name": "stdout"
        }
      ]
    },
    {
      "cell_type": "code",
      "metadata": {
        "id": "eavCdbkDxcCn"
      },
      "source": [
        "\n",
        "X = modified.drop(['docked_b'], 1)\n",
        "y = modified['docked_b']"
      ],
      "execution_count": 20,
      "outputs": []
    },
    {
      "cell_type": "code",
      "metadata": {
        "id": "7cuW5NAZ7nKz"
      },
      "source": [
        "X = np.array(X)\n",
        "y = np.array(y)"
      ],
      "execution_count": 21,
      "outputs": []
    },
    {
      "cell_type": "code",
      "metadata": {
        "id": "pFwqmt0Rf9y4"
      },
      "source": [
        "from sklearn.model_selection import train_test_split\n",
        "\n",
        "X_train, X_test, y_train, y_test = train_test_split(X, y, test_size=0.2, random_state=0)"
      ],
      "execution_count": 22,
      "outputs": []
    },
    {
      "cell_type": "code",
      "metadata": {
        "id": "YLguCmauf_LM"
      },
      "source": [
        "from sklearn.preprocessing import StandardScaler\n",
        "\n",
        "sc = StandardScaler()\n",
        "X_train = sc.fit_transform(X_train)\n",
        "X_test = sc.transform(X_test)"
      ],
      "execution_count": 23,
      "outputs": []
    },
    {
      "cell_type": "code",
      "metadata": {
        "id": "9HAOsDs1gCuN"
      },
      "source": [
        "from sklearn.ensemble import RandomForestRegressor\n",
        "\n",
        "regressor = RandomForestRegressor(n_estimators=10, random_state=20)\n",
        "regressor.fit(X_train, y_train)\n",
        "y_pred = regressor.predict(X_test)"
      ],
      "execution_count": 24,
      "outputs": []
    },
    {
      "cell_type": "code",
      "metadata": {
        "id": "GvuxzML-gGsH",
        "colab": {
          "base_uri": "https://localhost:8080/"
        },
        "outputId": "c376fc36-9622-487b-e4a9-127cb7f16b02"
      },
      "source": [
        "from sklearn import metrics\n",
        "\n",
        "print('Mean Absolute Error:', metrics.mean_absolute_error(y_test, y_pred))\n",
        "print('Mean Squared Error:', metrics.mean_squared_error(y_test, y_pred))\n",
        "print('Root Mean Squared Error:', np.sqrt(metrics.mean_squared_error(y_test, y_pred)))"
      ],
      "execution_count": 25,
      "outputs": [
        {
          "output_type": "stream",
          "text": [
            "Mean Absolute Error: 2.1333333333333333\n",
            "Mean Squared Error: 7.350370370370371\n",
            "Root Mean Squared Error: 2.7111566480693017\n"
          ],
          "name": "stdout"
        }
      ]
    },
    {
      "cell_type": "code",
      "metadata": {
        "id": "pyo6K5ys2-mJ"
      },
      "source": [
        "#X = preprocessing.scale(X)"
      ],
      "execution_count": 26,
      "outputs": []
    },
    {
      "cell_type": "code",
      "metadata": {
        "id": "A3N7O-fl3Gg5"
      },
      "source": [
        "X_train, X_test, y_train, y_test = train_test_split(X, y, test_size=0.2,random_state=20)"
      ],
      "execution_count": 27,
      "outputs": []
    },
    {
      "cell_type": "code",
      "metadata": {
        "id": "pF6clCVG3LxE"
      },
      "source": [
        "clf = LinearRegression()"
      ],
      "execution_count": 28,
      "outputs": []
    },
    {
      "cell_type": "code",
      "metadata": {
        "id": "4m-grhQT3OW5",
        "colab": {
          "base_uri": "https://localhost:8080/"
        },
        "outputId": "5d80df4a-dee2-4c5e-8ac7-81bf7f489a0a"
      },
      "source": [
        "clf.fit(X_train, y_train)\n",
        "y_pred=clf.predict(X_test)\n",
        "y_pred = np.ceil(y_pred)\n",
        "y_pred"
      ],
      "execution_count": 29,
      "outputs": [
        {
          "output_type": "execute_result",
          "data": {
            "text/plain": [
              "array([6., 5., 5., 5., 5., 5., 6., 7., 5., 5., 5., 5., 3., 3., 4., 7., 6.,\n",
              "       6., 4., 4., 4., 6., 6., 4., 5., 6., 6.])"
            ]
          },
          "metadata": {
            "tags": []
          },
          "execution_count": 29
        }
      ]
    },
    {
      "cell_type": "code",
      "metadata": {
        "id": "3pFT0oXyhhst",
        "colab": {
          "base_uri": "https://localhost:8080/"
        },
        "outputId": "b7109fff-f184-473e-fed6-c79400eb6b3f"
      },
      "source": [
        "y_test"
      ],
      "execution_count": 30,
      "outputs": [
        {
          "output_type": "execute_result",
          "data": {
            "text/plain": [
              "array([4, 7, 4, 9, 7, 1, 6, 4, 5, 6, 6, 3, 2, 6, 3, 8, 4, 7, 8, 9, 4, 6,\n",
              "       5, 2, 9, 3, 6])"
            ]
          },
          "metadata": {
            "tags": []
          },
          "execution_count": 30
        }
      ]
    },
    {
      "cell_type": "code",
      "metadata": {
        "id": "Gcum_8hmBRGR",
        "colab": {
          "base_uri": "https://localhost:8080/"
        },
        "outputId": "c3ba21cb-28dc-4b83-c727-881d35007df8"
      },
      "source": [
        "#To retrieve the intercept:\n",
        "print(clf.intercept_)\n",
        "\n",
        "#For retrieving the slope:\n",
        "print(clf.coef_)"
      ],
      "execution_count": 31,
      "outputs": [
        {
          "output_type": "stream",
          "text": [
            "37.25369086409941\n",
            "[-5.27294663e-02  6.45457323e-01 -2.86179599e-02 -7.99856934e+01\n",
            "  7.97334229e+01 -8.02095887e+01 -4.00203570e-01 -1.99513568e-01\n",
            "  1.73727390e+00 -1.00607177e+00 -2.92864330e-01]\n"
          ],
          "name": "stdout"
        }
      ]
    },
    {
      "cell_type": "code",
      "metadata": {
        "id": "BTS_JvWklXmj",
        "colab": {
          "base_uri": "https://localhost:8080/"
        },
        "outputId": "831a45b1-ada9-4130-c335-128178d92947"
      },
      "source": [
        "from sklearn.metrics import mean_squared_log_error\n",
        "msleDT=mean_squared_log_error(y_pred,y_test)\n",
        "rmsleLR=np.sqrt(msleDT)\n",
        "print('RMLSE for the data:',rmsleLR)"
      ],
      "execution_count": 32,
      "outputs": [
        {
          "output_type": "stream",
          "text": [
            "RMLSE for the data: 0.4077083035461604\n"
          ],
          "name": "stdout"
        }
      ]
    },
    {
      "cell_type": "code",
      "metadata": {
        "id": "HjSm4CErenuX",
        "colab": {
          "base_uri": "https://localhost:8080/"
        },
        "outputId": "55543c61-7d5f-4597-8819-7377550a1742"
      },
      "source": [
        "from sklearn.preprocessing import StandardScaler\n",
        "from sklearn.ensemble import RandomForestRegressor\n",
        "from sklearn.metrics import mean_squared_error\n",
        "from sklearn.metrics import mean_squared_log_error\n",
        "ls = []\n",
        "mse_list=[]\n",
        "num_test = (number_of_rows*20)//100\n",
        "for i in range(0,number_of_rows):\n",
        "  u = (i)%number_of_rows\n",
        "  v = (num_test+i)%number_of_rows\n",
        "  if v >= num_test:\n",
        "    x = modified[u:v]\n",
        "    y = modified[v:]\n",
        "    z = modified[:u]\n",
        "    y = y.append(z)\n",
        "  else:\n",
        "    x = modified[v:u]\n",
        "    y = modified[u:]\n",
        "    z = modified[:v]\n",
        "    y = y.append(z)\n",
        "  y = pd.DataFrame(y)\n",
        "  x = pd.DataFrame(x)\n",
        "  X_train = np.array(x.drop(['docked_b'], 1))\n",
        "  y_train = np.array(x['docked_b'])\n",
        "  X_test = np.array(y.drop(['docked_b'], 1))\n",
        "  y_test = np.array(y['docked_b'])\n",
        "  sc = StandardScaler()\n",
        "  X_train = sc.fit_transform(X_train)\n",
        "  X_test = sc.transform(X_test)\n",
        "  regressor = LinearRegression()\n",
        "  regressor.fit(X_train, y_train)\n",
        "  y_pred = regressor.predict(X_test)\n",
        "  mse_reg = mean_squared_error(y_test, y_pred)\n",
        "  mse_reg=np.sqrt(mse_reg)\n",
        "  rmsleRF=np.sqrt(mse_reg)\n",
        "  ls.append(rmsleRF)\n",
        "  mse_list.append(mse_reg)\n",
        "LinearRegression_max_e = np.max(ls)\n",
        "LinearRegression_e = np.mean(ls)\n",
        "mean_mse_LinearRegression_e = np.mean(mse_reg)\n",
        "LinearRegression_max_e"
      ],
      "execution_count": 33,
      "outputs": [
        {
          "output_type": "execute_result",
          "data": {
            "text/plain": [
              "4.057942756719311"
            ]
          },
          "metadata": {
            "tags": []
          },
          "execution_count": 33
        }
      ]
    },
    {
      "cell_type": "code",
      "metadata": {
        "id": "qTfeG66E-EfJ"
      },
      "source": [
        "from sklearn.tree import DecisionTreeRegressor\n",
        "#DecisionTreeRegressor class has many parameters. Input only #random_state=0 or 42.\n",
        "regressor = DecisionTreeRegressor(random_state=0)\n",
        "#Fit the regressor object to the dataset.\n",
        "regressor.fit(X_train, y_train)\n",
        "y_pred = regressor.predict(X_test)\n",
        "confidence = regressor.score(X_test, y_test)"
      ],
      "execution_count": 34,
      "outputs": []
    },
    {
      "cell_type": "code",
      "metadata": {
        "id": "FACWpH7MJuKH",
        "colab": {
          "base_uri": "https://localhost:8080/"
        },
        "outputId": "4d251058-5c3b-4231-e615-6a966325536e"
      },
      "source": [
        "from sklearn.metrics import mean_squared_log_error\n",
        "msleDT=mean_squared_log_error(y_pred,y_test)\n",
        "rmsleDT=np.sqrt(msleDT)\n",
        "print('RMLSE for the data:',rmsleDT)"
      ],
      "execution_count": 35,
      "outputs": [
        {
          "output_type": "stream",
          "text": [
            "RMLSE for the data: 0.7617580277075211\n"
          ],
          "name": "stdout"
        }
      ]
    },
    {
      "cell_type": "code",
      "metadata": {
        "id": "eSqFg_dSZMrF",
        "colab": {
          "base_uri": "https://localhost:8080/"
        },
        "outputId": "d8ecf4e8-390f-4365-f11b-55720e8c16c7"
      },
      "source": [
        "from sklearn.preprocessing import StandardScaler\n",
        "from sklearn.ensemble import RandomForestRegressor\n",
        "from sklearn.metrics import mean_squared_error\n",
        "ls = []\n",
        "mse_list=[]\n",
        "num_test = (number_of_rows*20)//100\n",
        "for i in range(0,number_of_rows):\n",
        "  u = (i)%number_of_rows\n",
        "  v = (num_test+i)%number_of_rows\n",
        "  if v >= num_test:\n",
        "    x = modified[u:v]\n",
        "    y = modified[v:]\n",
        "    z = modified[:u]\n",
        "    y = y.append(z)\n",
        "  else:\n",
        "    x = modified[v:u]\n",
        "    y = modified[u:]\n",
        "    z = modified[:v]\n",
        "    y = y.append(z)\n",
        "  y = pd.DataFrame(y)\n",
        "  x = pd.DataFrame(x)\n",
        "  X_train = np.array(x.drop(['docked_b'], 1))\n",
        "  y_train = np.array(x['docked_b'])\n",
        "  X_test = np.array(y.drop(['docked_b'], 1))\n",
        "  y_test = np.array(y['docked_b'])\n",
        "  sc = StandardScaler()\n",
        "  X_train = sc.fit_transform(X_train)\n",
        "  X_test = sc.transform(X_test)\n",
        "  regressor = DecisionTreeRegressor(random_state=0)\n",
        "  regressor.fit(X_train, y_train)\n",
        "  y_pred = regressor.predict(X_test)\n",
        "  mse_reg = mean_squared_error(y_test, y_pred)\n",
        "  mse_reg=np.sqrt(mse_reg)\n",
        "  msleDT=mean_squared_log_error(y_pred,y_test)\n",
        "  rmsleRF=np.sqrt(msleDT)\n",
        "  ls.append(rmsleRF)\n",
        "  mse_list.append(mse_reg)\n",
        "Decision_tree_max_e = np.max(ls)\n",
        "Decision_tree_e = np.mean(ls)\n",
        "mean_mse_Decision_tree_e = np.mean(mse_reg)\n",
        "Decision_tree_max_e"
      ],
      "execution_count": 36,
      "outputs": [
        {
          "output_type": "execute_result",
          "data": {
            "text/plain": [
              "0.9292025835457134"
            ]
          },
          "metadata": {
            "tags": []
          },
          "execution_count": 36
        }
      ]
    },
    {
      "cell_type": "code",
      "metadata": {
        "id": "g4ibD40nBEr6",
        "colab": {
          "base_uri": "https://localhost:8080/"
        },
        "outputId": "5a2fe6bf-c96b-42fc-8d6f-539a1babf387"
      },
      "source": [
        "from sklearn.preprocessing import StandardScaler\n",
        "\n",
        "sc = StandardScaler()\n",
        "#X_train = sc.fit_transform(X_train)\n",
        "#X_test = sc.transform(X_test)\n",
        "from sklearn.ensemble import RandomForestRegressor\n",
        "\n",
        "regressor = RandomForestRegressor(n_estimators=20, random_state=0)\n",
        "regressor.fit(X_train, y_train)\n",
        "y_pred = regressor.predict(X_test)\n",
        "confidence = regressor.score(X_test, y_test)\n",
        "print(confidence)"
      ],
      "execution_count": 37,
      "outputs": [
        {
          "output_type": "stream",
          "text": [
            "-0.1542649540596288\n"
          ],
          "name": "stdout"
        }
      ]
    },
    {
      "cell_type": "code",
      "metadata": {
        "id": "2E-ZW_8gJrCg",
        "colab": {
          "base_uri": "https://localhost:8080/"
        },
        "outputId": "eeaa672d-70df-4c4e-f21c-f60fcfce3423"
      },
      "source": [
        "from sklearn.metrics import mean_squared_log_error\n",
        "msle=mean_squared_log_error(y_pred,y_test)\n",
        "rmsleRF=np.sqrt(msle)\n",
        "print('RMLSE for the data:',rmsleRF)"
      ],
      "execution_count": 38,
      "outputs": [
        {
          "output_type": "stream",
          "text": [
            "RMLSE for the data: 0.5026674751591478\n"
          ],
          "name": "stdout"
        }
      ]
    },
    {
      "cell_type": "code",
      "metadata": {
        "id": "cfuPfrp-rJZ9",
        "colab": {
          "base_uri": "https://localhost:8080/"
        },
        "outputId": "d5a03b77-8e37-4c90-f0ef-3b41efd22da2"
      },
      "source": [
        "from sklearn.preprocessing import StandardScaler\n",
        "from sklearn.ensemble import RandomForestRegressor\n",
        "from sklearn.metrics import mean_squared_error\n",
        "ls = []\n",
        "mse_list=[]\n",
        "num_test = (number_of_rows*20)//100\n",
        "for i in range(0,number_of_rows):\n",
        "  u = (i)%number_of_rows\n",
        "  v = (num_test+i)%number_of_rows\n",
        "  if v >= num_test:\n",
        "    x = modified[u:v]\n",
        "    y = modified[v:]\n",
        "    z = modified[:u]\n",
        "    y = y.append(z)\n",
        "  else:\n",
        "    x = modified[v:u]\n",
        "    y = modified[u:]\n",
        "    z = modified[:v]\n",
        "    y = y.append(z)\n",
        "  y = pd.DataFrame(y)\n",
        "  x = pd.DataFrame(x)\n",
        "  X_train = np.array(x.drop(['docked_b'], 1))\n",
        "  y_train = np.array(x['docked_b'])\n",
        "  X_test = np.array(y.drop(['docked_b'], 1))\n",
        "  y_test = np.array(y['docked_b'])\n",
        "  sc = StandardScaler()\n",
        "  X_train = sc.fit_transform(X_train)\n",
        "  X_test = sc.transform(X_test)\n",
        "  regressor = RandomForestRegressor(n_estimators=10, random_state=20)\n",
        "  regressor.fit(X_train, y_train)\n",
        "  y_pred = regressor.predict(X_test)\n",
        "  mse_reg = mean_squared_error(y_test, y_pred)\n",
        "  mse_reg=np.sqrt(mse_reg)\n",
        "  msleDT=mean_squared_log_error(y_pred,y_test)\n",
        "  rmsleRF=np.sqrt(msleDT)\n",
        "  ls.append(rmsleRF)\n",
        "  mse_list.append(mse_reg)\n",
        "Random_forest_max_e = np.max(ls)\n",
        "Random_regression_e = np.mean(ls)\n",
        "mean_mse_forest_e = np.mean(mse_reg)\n",
        "Random_forest_max_e"
      ],
      "execution_count": 39,
      "outputs": [
        {
          "output_type": "execute_result",
          "data": {
            "text/plain": [
              "0.6716611725701374"
            ]
          },
          "metadata": {
            "tags": []
          },
          "execution_count": 39
        }
      ]
    },
    {
      "cell_type": "code",
      "metadata": {
        "id": "oDh-mBdOEC29"
      },
      "source": [
        "# Load libraries\n",
        "from sklearn.ensemble import AdaBoostRegressor\n",
        "# Import train_test_split function\n",
        "from sklearn.model_selection import train_test_split\n",
        "from sklearn.datasets import make_regression\n",
        "#Import scikit-learn metrics module for accuracy calculation\n",
        "from sklearn import metrics\n",
        "X = modified.drop(['docked_b'], 1)\n",
        "y = modified['docked_b']\n",
        "X_train, X_test, y_train, y_test = train_test_split(X, y, test_size=0.3)\n",
        "X, y = make_regression(n_features=4, n_informative=2, random_state=0, shuffle=False)\n",
        "abc = AdaBoostRegressor(random_state=0, n_estimators=100)\n",
        "# Train Adaboost Classifer\n",
        "model = abc.fit(X_train, y_train)\n",
        "y_pred = abc.predict(X_test)\n",
        "confidence = abc.score(X_test, y_test)"
      ],
      "execution_count": 40,
      "outputs": []
    },
    {
      "cell_type": "code",
      "metadata": {
        "id": "0UTL-B6pFRQ1",
        "colab": {
          "base_uri": "https://localhost:8080/"
        },
        "outputId": "3a3d81fc-f702-4e8e-e7ae-b2ffe27c3edc"
      },
      "source": [
        "from sklearn.metrics import mean_squared_log_error\n",
        "msle=mean_squared_log_error(y_pred,y_test)\n",
        "rmsleADB=np.sqrt(msle)\n",
        "print('RMLSE for the data:',rmsleADB)"
      ],
      "execution_count": 41,
      "outputs": [
        {
          "output_type": "stream",
          "text": [
            "RMLSE for the data: 0.537149042543343\n"
          ],
          "name": "stdout"
        }
      ]
    },
    {
      "cell_type": "code",
      "metadata": {
        "id": "Iwt-bFVkc5JA",
        "colab": {
          "base_uri": "https://localhost:8080/"
        },
        "outputId": "b6dd1daa-5172-4bcc-f30d-6acc3455b30e"
      },
      "source": [
        "from sklearn.preprocessing import StandardScaler\n",
        "from sklearn.ensemble import RandomForestRegressor\n",
        "from sklearn.metrics import mean_squared_error\n",
        "ls = []\n",
        "mse_list=[]\n",
        "num_test = (number_of_rows*20)//100\n",
        "for i in range(0,number_of_rows):\n",
        "  u = (i)%number_of_rows\n",
        "  v = (num_test+i)%number_of_rows\n",
        "  if v >= num_test:\n",
        "    x = modified[u:v]\n",
        "    y = modified[v:]\n",
        "    z = modified[:u]\n",
        "    y = y.append(z)\n",
        "  else:\n",
        "    x = modified[v:u]\n",
        "    y = modified[u:]\n",
        "    z = modified[:v]\n",
        "    y = y.append(z)\n",
        "  y = pd.DataFrame(y)\n",
        "  x = pd.DataFrame(x)\n",
        "  X_train = np.array(x.drop(['docked_b'], 1))\n",
        "  y_train = np.array(x['docked_b'])\n",
        "  X_test = np.array(y.drop(['docked_b'], 1))\n",
        "  y_test = np.array(y['docked_b'])\n",
        "  sc = StandardScaler()\n",
        "  X_train = sc.fit_transform(X_train)\n",
        "  X_test = sc.transform(X_test)\n",
        "  regressor = AdaBoostRegressor(random_state=0, n_estimators=100)\n",
        "  regressor.fit(X_train, y_train)\n",
        "  y_pred = regressor.predict(X_test)\n",
        "  mse_reg = mean_squared_error(y_test, y_pred)\n",
        "  mse_reg=np.sqrt(mse_reg)\n",
        "  msleDT=mean_squared_log_error(y_pred,y_test)\n",
        "  rmsleRF=np.sqrt(msleDT)\n",
        "  ls.append(rmsleRF)\n",
        "  mse_list.append(mse_reg)\n",
        "AdaBoostClassifier_max_e = np.max(ls)\n",
        "AdaBoostClassifier_e = np.mean(ls)\n",
        "mean_mse_AdaBoostClassifier_e = np.mean(mse_reg)\n",
        "AdaBoostClassifier_max_e"
      ],
      "execution_count": 42,
      "outputs": [
        {
          "output_type": "execute_result",
          "data": {
            "text/plain": [
              "0.6960747662077411"
            ]
          },
          "metadata": {
            "tags": []
          },
          "execution_count": 42
        }
      ]
    },
    {
      "cell_type": "markdown",
      "metadata": {
        "id": "MwAGOkSZxrLv"
      },
      "source": [
        "-------------------Electric Bike--------------------"
      ]
    },
    {
      "cell_type": "code",
      "metadata": {
        "id": "moFU-diSA0mJ"
      },
      "source": [
        "modified = df2"
      ],
      "execution_count": 43,
      "outputs": []
    },
    {
      "cell_type": "code",
      "metadata": {
        "id": "AoX8qZv7eJuZ"
      },
      "source": [
        "X = modified.drop(['electric_b'], 1)\n",
        "y = modified['electric_b']"
      ],
      "execution_count": 44,
      "outputs": []
    },
    {
      "cell_type": "code",
      "metadata": {
        "id": "CvPHWcYMOrCT",
        "colab": {
          "base_uri": "https://localhost:8080/",
          "height": 663
        },
        "outputId": "c9c07833-ec33-4089-c86e-f81f13d5f12d"
      },
      "source": [
        "import seaborn as sns\n",
        "#Using Pearson Correlation\n",
        "plt.figure(figsize=(12,10))\n",
        "cor = X.corr()\n",
        "sns.heatmap(cor, annot=True, cmap=plt.cm.CMRmap_r)\n",
        "plt.show()"
      ],
      "execution_count": 45,
      "outputs": [
        {
          "output_type": "display_data",
          "data": {
            "image/png": "[encoded data removed]",
            "text/plain": [
              "<Figure size 864x720 with 2 Axes>"
            ]
          },
          "metadata": {
            "tags": [],
            "needs_background": "light"
          }
        }
      ]
    },
    {
      "cell_type": "code",
      "metadata": {
        "id": "qhjRLWMtOrCX"
      },
      "source": [
        "# with the following function we can select highly correlated features\n",
        "# it will remove the first feature that is correlated with anything other feature\n",
        "\n",
        "def correlation(dataset, threshold):\n",
        "    col_corr = set()  # Set of all the names of correlated columns\n",
        "    corr_matrix = dataset.corr()\n",
        "    for i in range(len(corr_matrix.columns)):\n",
        "        for j in range(i):\n",
        "            if abs(corr_matrix.iloc[i, j]) > threshold: # we are interested in absolute coeff value\n",
        "                colname = corr_matrix.columns[i]  # getting the name of column\n",
        "                col_corr.add(colname)\n",
        "    return col_corr"
      ],
      "execution_count": 46,
      "outputs": []
    },
    {
      "cell_type": "code",
      "metadata": {
        "id": "M1DdkuhlOrCZ"
      },
      "source": [
        "#corr_features = correlation(X, 0.7)\n",
        "#len(set(corr_features))"
      ],
      "execution_count": 47,
      "outputs": []
    },
    {
      "cell_type": "code",
      "metadata": {
        "id": "GCZFOGbcOrCa"
      },
      "source": [
        "#X.drop(corr_features,axis=1)"
      ],
      "execution_count": 48,
      "outputs": []
    },
    {
      "cell_type": "code",
      "metadata": {
        "id": "aBhsfHmROrCc"
      },
      "source": [
        "#corr_features"
      ],
      "execution_count": 49,
      "outputs": []
    },
    {
      "cell_type": "code",
      "metadata": {
        "id": "U8Gu9O_sejY-"
      },
      "source": [
        "X = preprocessing.scale(X)\n",
        "X_train, X_test, y_train, y_test = train_test_split(X, y, test_size=0.2)\n",
        "clf = LinearRegression()"
      ],
      "execution_count": 50,
      "outputs": []
    },
    {
      "cell_type": "code",
      "metadata": {
        "id": "jk5iRQNQejlD",
        "colab": {
          "base_uri": "https://localhost:8080/"
        },
        "outputId": "16c1efe5-76d6-4698-d996-e76bf0233c90"
      },
      "source": [
        "clf.fit(X_train, y_train)\n",
        "confidence = clf.score(X_test, y_test)\n",
        "print(confidence)\n"
      ],
      "execution_count": 51,
      "outputs": [
        {
          "output_type": "stream",
          "text": [
            "0.11466883741235312\n"
          ],
          "name": "stdout"
        }
      ]
    },
    {
      "cell_type": "code",
      "metadata": {
        "id": "huMRJyJUej09",
        "colab": {
          "base_uri": "https://localhost:8080/"
        },
        "outputId": "4fd68a5c-8377-4e59-c3ec-2a0ccabb4b37"
      },
      "source": [
        "U=clf.predict(X_test)\n",
        "U"
      ],
      "execution_count": 52,
      "outputs": [
        {
          "output_type": "execute_result",
          "data": {
            "text/plain": [
              "array([5.725191  , 2.43869946, 7.0450729 , 5.7375258 , 7.27684497,\n",
              "       6.73061167, 5.89156108, 5.90142443, 6.80029969, 4.59578308,\n",
              "       3.38330014, 5.46864017, 6.22304649, 4.70930584, 5.99156621,\n",
              "       5.13463206, 9.53749683, 6.73769297, 6.42448234, 3.08004712,\n",
              "       9.51861513, 6.37224658, 6.7414748 , 4.14194324, 4.32503075,\n",
              "       4.95303618, 5.30579004, 4.83729006, 4.50480515, 6.88479456,\n",
              "       6.26025182])"
            ]
          },
          "metadata": {
            "tags": []
          },
          "execution_count": 52
        }
      ]
    },
    {
      "cell_type": "code",
      "metadata": {
        "id": "gDWlpqaHgM6v",
        "colab": {
          "base_uri": "https://localhost:8080/"
        },
        "outputId": "667b57c0-6aaa-4d21-df4c-b68769d6347d"
      },
      "source": [
        "y_test"
      ],
      "execution_count": 53,
      "outputs": [
        {
          "output_type": "execute_result",
          "data": {
            "text/plain": [
              "260     6\n",
              "68      1\n",
              "148     9\n",
              "36      6\n",
              "235     5\n",
              "83      5\n",
              "280     3\n",
              "237     5\n",
              "52      7\n",
              "150     7\n",
              "283     2\n",
              "136    11\n",
              "197     7\n",
              "170     4\n",
              "99      6\n",
              "140     6\n",
              "202     9\n",
              "81     12\n",
              "209     2\n",
              "153     2\n",
              "193     5\n",
              "89      9\n",
              "180     3\n",
              "224     3\n",
              "133     3\n",
              "118     5\n",
              "1       5\n",
              "189     5\n",
              "26      6\n",
              "34      3\n",
              "173     1\n",
              "Name: electric_b, dtype: int64"
            ]
          },
          "metadata": {
            "tags": []
          },
          "execution_count": 53
        }
      ]
    },
    {
      "cell_type": "code",
      "metadata": {
        "id": "tp_cTCoagSNL",
        "colab": {
          "base_uri": "https://localhost:8080/"
        },
        "outputId": "ec78c4f6-3785-43e9-cdff-9ae5538e0108"
      },
      "source": [
        "clf.score(X_test,y_test)"
      ],
      "execution_count": 54,
      "outputs": [
        {
          "output_type": "execute_result",
          "data": {
            "text/plain": [
              "0.11466883741235312"
            ]
          },
          "metadata": {
            "tags": []
          },
          "execution_count": 54
        }
      ]
    },
    {
      "cell_type": "code",
      "metadata": {
        "id": "4jUiVWQNqWbJ",
        "colab": {
          "base_uri": "https://localhost:8080/"
        },
        "outputId": "e9693582-96f9-4e72-8fb9-e1c6b5ed1a0a"
      },
      "source": [
        "from sklearn.model_selection import KFold # import KFold\n",
        "#X = np.array([[1, 2], [3, 4], [1, 2], [3, 4]]) # create an array\n",
        "#y = np.array([1, 2, 3, 4]) # Create another array\n",
        "#X = modified.drop(['PS','electric_b','count'], 1)\n",
        "#y = modified['electric_b']\n",
        "kf = KFold(n_splits=5) # Define the split - into 2 folds \n",
        "kf.get_n_splits(X) # returns the number of splitting iterations in the cross-validator\n",
        "print(kf) \n",
        "KFold(n_splits=5, random_state=None, shuffle=False)"
      ],
      "execution_count": 55,
      "outputs": [
        {
          "output_type": "stream",
          "text": [
            "KFold(n_splits=5, random_state=None, shuffle=False)\n"
          ],
          "name": "stdout"
        },
        {
          "output_type": "execute_result",
          "data": {
            "text/plain": [
              "KFold(n_splits=5, random_state=None, shuffle=False)"
            ]
          },
          "metadata": {
            "tags": []
          },
          "execution_count": 55
        }
      ]
    },
    {
      "cell_type": "code",
      "metadata": {
        "id": "SQiqeZprqafm"
      },
      "source": [
        "# Necessary imports: \n",
        "from sklearn.model_selection import cross_val_score, cross_val_predict\n",
        "from sklearn import metrics"
      ],
      "execution_count": 56,
      "outputs": []
    },
    {
      "cell_type": "code",
      "metadata": {
        "id": "I3o_0mWtq5-t",
        "colab": {
          "base_uri": "https://localhost:8080/"
        },
        "outputId": "ab7ab582-f1c4-44ed-c7f3-c5c810c019ab"
      },
      "source": [
        "# Perform 6-fold cross validation\n",
        "cv_4_results = cross_val_score(clf, X, y, cv=25,)\n",
        "cv_4_results = abs(cv_4_results)\n",
        "print ('Cross-validated scores:', abs(cv_4_results))\n",
        "#print('mean score', mean(cv_4_results))\n"
      ],
      "execution_count": 57,
      "outputs": [
        {
          "output_type": "stream",
          "text": [
            "Cross-validated scores: [0.06404943 0.16615422 2.65658972 0.32798301 0.13585207 0.10267426\n",
            " 0.20146939 0.20924516 0.05725124 0.0549926  0.3721422  0.37181654\n",
            " 0.47337858 0.54347312 0.01351708 0.16839913 1.43748287 0.05885005\n",
            " 0.29633359 0.16911003 0.29286823 3.17878117 0.13340614 0.02576226\n",
            " 1.16044438]\n"
          ],
          "name": "stdout"
        }
      ]
    },
    {
      "cell_type": "code",
      "metadata": {
        "id": "qUsHM606wB6Q"
      },
      "source": [
        "import pandas\n",
        "from sklearn.model_selection import KFold\n",
        "from sklearn.preprocessing import MinMaxScaler\n",
        "from sklearn.svm import SVR\n",
        "import numpy as np"
      ],
      "execution_count": 58,
      "outputs": []
    },
    {
      "cell_type": "code",
      "metadata": {
        "id": "T5HmX9cMUePY"
      },
      "source": [
        "\n",
        "X = modified.drop(['electric_b'], 1)\n",
        "y = modified['electric_b']"
      ],
      "execution_count": 59,
      "outputs": []
    },
    {
      "cell_type": "code",
      "metadata": {
        "id": "7lAdBLPYFBj3",
        "colab": {
          "base_uri": "https://localhost:8080/"
        },
        "outputId": "d9f88cf5-5461-46f3-dc34-01ebef07226a"
      },
      "source": [
        "index = modified.index\n",
        "number_of_rows = len(index)\n",
        "number_of_rows"
      ],
      "execution_count": 60,
      "outputs": [
        {
          "output_type": "execute_result",
          "data": {
            "text/plain": [
              "152"
            ]
          },
          "metadata": {
            "tags": []
          },
          "execution_count": 60
        }
      ]
    },
    {
      "cell_type": "code",
      "metadata": {
        "colab": {
          "base_uri": "https://localhost:8080/",
          "height": 663
        },
        "id": "oCjO0HG0VURP",
        "outputId": "7f2fd7b0-de22-4c70-e22e-11cb8eedc70e"
      },
      "source": [
        "import seaborn as sns\n",
        "#Using Pearson Correlation\n",
        "plt.figure(figsize=(12,10))\n",
        "cor = X.corr()\n",
        "sns.heatmap(cor, annot=True, cmap=plt.cm.CMRmap_r)\n",
        "plt.show()"
      ],
      "execution_count": 61,
      "outputs": [
        {
          "output_type": "display_data",
          "data": {
            "image/png": "[encoded data removed]",
            "text/plain": [
              "<Figure size 864x720 with 2 Axes>"
            ]
          },
          "metadata": {
            "tags": [],
            "needs_background": "light"
          }
        }
      ]
    },
    {
      "cell_type": "code",
      "metadata": {
        "id": "InKsiE2UwdxT"
      },
      "source": [
        "\n",
        "X = np.array(X)\n",
        "y = np.array(y)"
      ],
      "execution_count": 62,
      "outputs": []
    },
    {
      "cell_type": "code",
      "metadata": {
        "id": "7co3VsKBl1V8"
      },
      "source": [
        "X = preprocessing.scale(X)\n",
        "X_train, X_test, y_train, y_test = train_test_split(X, y, test_size=0.2)\n",
        "clf = LinearRegression()"
      ],
      "execution_count": 63,
      "outputs": []
    },
    {
      "cell_type": "code",
      "metadata": {
        "id": "379g6Rt0l1V-"
      },
      "source": [
        "clf.fit(X_train, y_train)\n",
        "confidence = clf.score(X_test, y_test)"
      ],
      "execution_count": 64,
      "outputs": []
    },
    {
      "cell_type": "code",
      "metadata": {
        "id": "Y2eQia26mRvL"
      },
      "source": [
        "y_pred = clf.predict(X_test)"
      ],
      "execution_count": 65,
      "outputs": []
    },
    {
      "cell_type": "code",
      "metadata": {
        "colab": {
          "base_uri": "https://localhost:8080/"
        },
        "id": "FLqXzoZbmQAs",
        "outputId": "0719d01f-88fe-4722-a655-4274d1adddaa"
      },
      "source": [
        "from sklearn.metrics import mean_squared_log_error\n",
        "msle=mean_squared_log_error(y_pred,y_test)\n",
        "rmsleLR1=np.sqrt(msle)\n",
        "print('RMLSE for the data:',rmsleLR1)"
      ],
      "execution_count": 66,
      "outputs": [
        {
          "output_type": "stream",
          "text": [
            "RMLSE for the data: 0.39076206697782573\n"
          ],
          "name": "stdout"
        }
      ]
    },
    {
      "cell_type": "code",
      "metadata": {
        "colab": {
          "base_uri": "https://localhost:8080/"
        },
        "id": "kw25ZD0Kuv_2",
        "outputId": "a84122d9-c65d-4497-e963-a8b1b058ad22"
      },
      "source": [
        "from sklearn.preprocessing import StandardScaler\n",
        "from sklearn.metrics import mean_squared_error\n",
        "from sklearn.metrics import mean_squared_log_error\n",
        "ls = []\n",
        "mse_list=[]\n",
        "num_test = (number_of_rows*20)//100\n",
        "for i in range(0,number_of_rows):\n",
        "  u = (i)%number_of_rows\n",
        "  v = (num_test+i)%number_of_rows\n",
        "  if v >= num_test:\n",
        "    x = modified[u:v]\n",
        "    y = modified[v:]\n",
        "    z = modified[:u]\n",
        "    y = y.append(z)\n",
        "  else:\n",
        "    x = modified[v:u]\n",
        "    y = modified[u:]\n",
        "    z = modified[:v]\n",
        "    y = y.append(z)\n",
        "  y = pd.DataFrame(y)\n",
        "  x = pd.DataFrame(x)\n",
        "  X_train = np.array(x.drop(['electric_b'], 1))\n",
        "  y_train = np.array(x['electric_b'])\n",
        "  X_test = np.array(y.drop(['electric_b'], 1))\n",
        "  y_test = np.array(y['electric_b'])\n",
        "  sc = StandardScaler()\n",
        "  X_train = sc.fit_transform(X_train)\n",
        "  X_test = sc.transform(X_test)\n",
        "  regressor = LinearRegression()\n",
        "  regressor.fit(X_train, y_train)\n",
        "  y_pred = regressor.predict(X_test)\n",
        "  mse_reg = mean_squared_error(y_test, y_pred)\n",
        "  mse_reg=np.sqrt(mse_reg)\n",
        "  rmsleRF=np.sqrt(mse_reg)\n",
        "  ls.append(rmsleRF)\n",
        "  mse_list.append(mse_reg)\n",
        "LinearRegression_max_e1 = np.max(ls)\n",
        "LinearRegression_e1 = np.mean(ls)\n",
        "mean_mse_LinearRegression_e1 = np.mean(mse_reg)\n",
        "LinearRegression_max_e1"
      ],
      "execution_count": 67,
      "outputs": [
        {
          "output_type": "execute_result",
          "data": {
            "text/plain": [
              "4.155426444550552"
            ]
          },
          "metadata": {
            "tags": []
          },
          "execution_count": 67
        }
      ]
    },
    {
      "cell_type": "code",
      "metadata": {
        "id": "ur5s5yG5ePRn"
      },
      "source": [
        "from sklearn.tree import DecisionTreeRegressor\n",
        "#DecisionTreeRegressor class has many parameters. Input only #random_state=0 or 42.\n",
        "regressor = DecisionTreeRegressor(random_state=0)\n",
        "#Fit the regressor object to the dataset.\n",
        "regressor.fit(X_train, y_train)\n",
        "y_pred = regressor.predict(X_test)\n",
        "confidence = regressor.score(X_test, y_test)\n"
      ],
      "execution_count": 68,
      "outputs": []
    },
    {
      "cell_type": "code",
      "metadata": {
        "colab": {
          "base_uri": "https://localhost:8080/"
        },
        "id": "iMvQcM7TePRn",
        "outputId": "a84a9a51-2957-4772-ad4c-fa26cd38b598"
      },
      "source": [
        "from sklearn.metrics import mean_squared_log_error\n",
        "msle=mean_squared_log_error(y_pred,y_test)\n",
        "rmsleDT1=np.sqrt(msle)\n",
        "print('RMLSE for the data:',rmsleDT1)"
      ],
      "execution_count": 69,
      "outputs": [
        {
          "output_type": "stream",
          "text": [
            "RMLSE for the data: 0.9768931274412289\n"
          ],
          "name": "stdout"
        }
      ]
    },
    {
      "cell_type": "code",
      "metadata": {
        "id": "Wnjrrh7dvCKI",
        "colab": {
          "base_uri": "https://localhost:8080/"
        },
        "outputId": "0ea780df-0779-49dd-f0b5-961f010003b3"
      },
      "source": [
        "from sklearn.preprocessing import StandardScaler\n",
        "from sklearn.metrics import mean_squared_error\n",
        "ls = []\n",
        "mse_list=[]\n",
        "num_test = (number_of_rows*20)//100\n",
        "for i in range(0,number_of_rows):\n",
        "  u = (i)%number_of_rows\n",
        "  v = (num_test+i)%number_of_rows\n",
        "  if v >= num_test:\n",
        "    x = modified[u:v]\n",
        "    y = modified[v:]\n",
        "    z = modified[:u]\n",
        "    y = y.append(z)\n",
        "  else:\n",
        "    x = modified[v:u]\n",
        "    y = modified[u:]\n",
        "    z = modified[:v]\n",
        "    y = y.append(z)\n",
        "  y = pd.DataFrame(y)\n",
        "  x = pd.DataFrame(x)\n",
        "  X_train = np.array(x.drop(['electric_b'], 1))\n",
        "  y_train = np.array(x['electric_b'])\n",
        "  X_test = np.array(y.drop(['electric_b'], 1))\n",
        "  y_test = np.array(y['electric_b'])\n",
        "  sc = StandardScaler()\n",
        "  X_train = sc.fit_transform(X_train)\n",
        "  X_test = sc.transform(X_test)\n",
        "  regressor = DecisionTreeRegressor(random_state=0)\n",
        "  regressor.fit(X_train, y_train)\n",
        "  y_pred = regressor.predict(X_test)\n",
        "  mse_reg = mean_squared_error(y_test, y_pred)\n",
        "  mse_reg=np.sqrt(mse_reg)\n",
        "  msleDT=mean_squared_log_error(y_pred,y_test)\n",
        "  rmsleRF=np.sqrt(msleDT)\n",
        "  ls.append(rmsleRF)\n",
        "  mse_list.append(mse_reg)\n",
        "Decision_tree_max_e1 = np.max(ls)\n",
        "Decision_tree_e1 = np.mean(ls)\n",
        "mean_mse_Decision_tree_e1 = np.mean(mse_reg)\n",
        "Decision_tree_max_e1"
      ],
      "execution_count": 70,
      "outputs": [
        {
          "output_type": "execute_result",
          "data": {
            "text/plain": [
              "1.404812652233932"
            ]
          },
          "metadata": {
            "tags": []
          },
          "execution_count": 70
        }
      ]
    },
    {
      "cell_type": "code",
      "metadata": {
        "id": "ABGCmM0QePRo"
      },
      "source": [
        "from sklearn.preprocessing import StandardScaler\n",
        "\n",
        "sc = StandardScaler()\n",
        "#X_train = sc.fit_transform(X_train)\n",
        "#X_test = sc.transform(X_test)\n",
        "from sklearn.ensemble import RandomForestRegressor\n",
        "\n",
        "regressor = RandomForestRegressor(n_estimators=20, random_state=0)\n",
        "regressor.fit(X_train, y_train)\n",
        "y_pred = regressor.predict(X_test)\n"
      ],
      "execution_count": 71,
      "outputs": []
    },
    {
      "cell_type": "code",
      "metadata": {
        "id": "oWC2Hp3SePRp",
        "colab": {
          "base_uri": "https://localhost:8080/"
        },
        "outputId": "8c914b32-dfa1-40d7-8f47-3f64313b1bd3"
      },
      "source": [
        "from sklearn.metrics import mean_squared_log_error\n",
        "msle=mean_squared_log_error(y_pred,y_test)\n",
        "rmsleRF1=np.sqrt(msle)\n",
        "print('RMLSE for the data:',rmsleRF1)"
      ],
      "execution_count": 72,
      "outputs": [
        {
          "output_type": "stream",
          "text": [
            "RMLSE for the data: 0.6314469087492984\n"
          ],
          "name": "stdout"
        }
      ]
    },
    {
      "cell_type": "code",
      "metadata": {
        "id": "lB18ywYxvQdA",
        "colab": {
          "base_uri": "https://localhost:8080/"
        },
        "outputId": "b6b32365-5d12-46b8-b15e-ac5c93fddeac"
      },
      "source": [
        "from sklearn.preprocessing import StandardScaler\n",
        "from sklearn.metrics import mean_squared_error\n",
        "ls = []\n",
        "mse_list=[]\n",
        "num_test = (number_of_rows*20)//100\n",
        "for i in range(0,number_of_rows):\n",
        "  u = (i)%number_of_rows\n",
        "  v = (num_test+i)%number_of_rows\n",
        "  if v >= num_test:\n",
        "    x = modified[u:v]\n",
        "    y = modified[v:]\n",
        "    z = modified[:u]\n",
        "    y = y.append(z)\n",
        "  else:\n",
        "    x = modified[v:u]\n",
        "    y = modified[u:]\n",
        "    z = modified[:v]\n",
        "    y = y.append(z)\n",
        "  y = pd.DataFrame(y)\n",
        "  x = pd.DataFrame(x)\n",
        "  X_train = np.array(x.drop(['electric_b'], 1))\n",
        "  y_train = np.array(x['electric_b'])\n",
        "  X_test = np.array(y.drop(['electric_b'], 1))\n",
        "  y_test = np.array(y['electric_b'])\n",
        "  sc = StandardScaler()\n",
        "  X_train = sc.fit_transform(X_train)\n",
        "  X_test = sc.transform(X_test)\n",
        "  regressor = RandomForestRegressor(n_estimators=10, random_state=20)\n",
        "  regressor.fit(X_train, y_train)\n",
        "  y_pred = regressor.predict(X_test)\n",
        "  mse_reg = mean_squared_error(y_test, y_pred)\n",
        "  mse_reg=np.sqrt(mse_reg)\n",
        "  msleDT=mean_squared_log_error(y_pred,y_test)\n",
        "  rmsleRF=np.sqrt(msleDT)\n",
        "  ls.append(rmsleRF)\n",
        "  mse_list.append(mse_reg)\n",
        "Random_forest_max_e1 = np.max(ls)\n",
        "Random_regression_e1 = np.mean(ls)\n",
        "mean_mse_forest_e1 = np.mean(mse_reg)\n",
        "Random_forest_max_e1"
      ],
      "execution_count": 73,
      "outputs": [
        {
          "output_type": "execute_result",
          "data": {
            "text/plain": [
              "1.2377280983025623"
            ]
          },
          "metadata": {
            "tags": []
          },
          "execution_count": 73
        }
      ]
    },
    {
      "cell_type": "code",
      "metadata": {
        "id": "J1YDO3KCePRp"
      },
      "source": [
        "# Load libraries\n",
        "from sklearn.ensemble import AdaBoostRegressor\n",
        "# Import train_test_split function\n",
        "from sklearn.model_selection import train_test_split\n",
        "from sklearn.datasets import make_regression\n",
        "#Import scikit-learn metrics module for accuracy calculation\n",
        "from sklearn import metrics\n",
        "X = modified.drop(['electric_b'], 1)\n",
        "y = modified['electric_b']\n",
        "X_train, X_test, y_train, y_test = train_test_split(X, y, test_size=0.3)\n",
        "X, y = make_regression(n_features=4, n_informative=2, random_state=0, shuffle=False)\n",
        "abc = AdaBoostRegressor(random_state=0, n_estimators=100)\n",
        "# Train Adaboost Classifer\n",
        "model = abc.fit(X_train, y_train)\n",
        "y_pred = abc.predict(X_test)\n",
        "confidence = abc.score(X_test, y_test)"
      ],
      "execution_count": 74,
      "outputs": []
    },
    {
      "cell_type": "code",
      "metadata": {
        "id": "FdO6T1hlePRq",
        "colab": {
          "base_uri": "https://localhost:8080/"
        },
        "outputId": "75eb8103-f80c-4740-ff96-2ed69f6f2542"
      },
      "source": [
        "from sklearn.metrics import mean_squared_log_error\n",
        "msle=mean_squared_log_error(y_pred,y_test)\n",
        "rmsleADB1=np.sqrt(msle)\n",
        "print('RMLSE for the data:',rmsleADB1)"
      ],
      "execution_count": 75,
      "outputs": [
        {
          "output_type": "stream",
          "text": [
            "RMLSE for the data: 0.4238459771322847\n"
          ],
          "name": "stdout"
        }
      ]
    },
    {
      "cell_type": "code",
      "metadata": {
        "id": "rgI7Fyuevkml",
        "colab": {
          "base_uri": "https://localhost:8080/"
        },
        "outputId": "ab441820-03a3-4e17-8f14-e3b0dc86918a"
      },
      "source": [
        "from sklearn.preprocessing import StandardScaler\n",
        "from sklearn.metrics import mean_squared_error\n",
        "ls = []\n",
        "mse_list=[]\n",
        "num_test = (number_of_rows*20)//100\n",
        "for i in range(0,number_of_rows):\n",
        "  u = (i)%number_of_rows\n",
        "  v = (num_test+i)%number_of_rows\n",
        "  if v >= num_test:\n",
        "    x = modified[u:v]\n",
        "    y = modified[v:]\n",
        "    z = modified[:u]\n",
        "    y = y.append(z)\n",
        "  else:\n",
        "    x = modified[v:u]\n",
        "    y = modified[u:]\n",
        "    z = modified[:v]\n",
        "    y = y.append(z)\n",
        "  y = pd.DataFrame(y)\n",
        "  x = pd.DataFrame(x)\n",
        "  X_train = np.array(x.drop(['electric_b'], 1))\n",
        "  y_train = np.array(x['electric_b'])\n",
        "  X_test = np.array(y.drop(['electric_b'], 1))\n",
        "  y_test = np.array(y['electric_b'])\n",
        "  sc = StandardScaler()\n",
        "  X_train = sc.fit_transform(X_train)\n",
        "  X_test = sc.transform(X_test)\n",
        "  regressor = AdaBoostRegressor(random_state=0, n_estimators=100)\n",
        "  regressor.fit(X_train, y_train)\n",
        "  y_pred = regressor.predict(X_test)\n",
        "  mse_reg = mean_squared_error(y_test, y_pred)\n",
        "  mse_reg=np.sqrt(mse_reg)\n",
        "  msleDT=mean_squared_log_error(y_pred,y_test)\n",
        "  rmsleRF=np.sqrt(msleDT)\n",
        "  ls.append(rmsleRF)\n",
        "  mse_list.append(mse_reg)\n",
        "AdaBoostClassifier_max_e1 = np.max(ls)\n",
        "AdaBoostClassifier_e1 = np.mean(ls)\n",
        "mean_mse_AdaBoostClassifier_e1 = np.mean(mse_reg)\n",
        "AdaBoostClassifier_max_e1"
      ],
      "execution_count": 76,
      "outputs": [
        {
          "output_type": "execute_result",
          "data": {
            "text/plain": [
              "1.4000014333379582"
            ]
          },
          "metadata": {
            "tags": []
          },
          "execution_count": 76
        }
      ]
    },
    {
      "cell_type": "code",
      "metadata": {
        "id": "eUgl3iVDxAoS",
        "colab": {
          "base_uri": "https://localhost:8080/",
          "height": 164
        },
        "outputId": "e57d7d2d-c05b-45af-dfae-228fd091da4b"
      },
      "source": [
        "import pandas as pd\n",
        "\n",
        "cars = {'type': ['Linear Regression', 'Decision Tree','Random Forest','ADA Boost'],\n",
        "        'RMSLE(Docked Bike)': [rmsleLR,rmsleDT,rmsleRF,rmsleADB],\n",
        "        'RMSLE(Electric Bike]' : [rmsleLR1,rmsleDT1,rmsleRF1,rmsleADB1]\n",
        "        }\n",
        "\n",
        "df = pd.DataFrame(cars, columns = ['type', 'RMSLE(Docked Bike)','RMSLE(Electric Bike]'])\n",
        "df"
      ],
      "execution_count": 77,
      "outputs": [
        {
          "output_type": "execute_result",
          "data": {
            "text/html": [
              "<div>\n",
              "<style scoped>\n",
              "    .dataframe tbody tr th:only-of-type {\n",
              "        vertical-align: middle;\n",
              "    }\n",
              "\n",
              "    .dataframe tbody tr th {\n",
              "        vertical-align: top;\n",
              "    }\n",
              "\n",
              "    .dataframe thead th {\n",
              "        text-align: right;\n",
              "    }\n",
              "</style>\n",
              "<table border=\"1\" class=\"dataframe\">\n",
              "  <thead>\n",
              "    <tr style=\"text-align: right;\">\n",
              "      <th></th>\n",
              "      <th>type</th>\n",
              "      <th>RMSLE(Docked Bike)</th>\n",
              "      <th>RMSLE(Electric Bike]</th>\n",
              "    </tr>\n",
              "  </thead>\n",
              "  <tbody>\n",
              "    <tr>\n",
              "      <th>0</th>\n",
              "      <td>Linear Regression</td>\n",
              "      <td>0.407708</td>\n",
              "      <td>0.390762</td>\n",
              "    </tr>\n",
              "    <tr>\n",
              "      <th>1</th>\n",
              "      <td>Decision Tree</td>\n",
              "      <td>0.761758</td>\n",
              "      <td>0.976893</td>\n",
              "    </tr>\n",
              "    <tr>\n",
              "      <th>2</th>\n",
              "      <td>Random Forest</td>\n",
              "      <td>0.623190</td>\n",
              "      <td>0.631447</td>\n",
              "    </tr>\n",
              "    <tr>\n",
              "      <th>3</th>\n",
              "      <td>ADA Boost</td>\n",
              "      <td>0.537149</td>\n",
              "      <td>0.423846</td>\n",
              "    </tr>\n",
              "  </tbody>\n",
              "</table>\n",
              "</div>"
            ],
            "text/plain": [
              "                type  RMSLE(Docked Bike)  RMSLE(Electric Bike]\n",
              "0  Linear Regression            0.407708              0.390762\n",
              "1      Decision Tree            0.761758              0.976893\n",
              "2      Random Forest            0.623190              0.631447\n",
              "3          ADA Boost            0.537149              0.423846"
            ]
          },
          "metadata": {
            "tags": []
          },
          "execution_count": 77
        }
      ]
    },
    {
      "cell_type": "code",
      "metadata": {
        "id": "uzhNMNg992Qq",
        "colab": {
          "base_uri": "https://localhost:8080/",
          "height": 164
        },
        "outputId": "61dd5615-d111-47aa-aae5-f55d9279195c"
      },
      "source": [
        "# after cross validation\n",
        "import pandas as pd\n",
        "\n",
        "cars = {'type': ['Linear Regression', 'Decision Tree','Random Forest','ADA Boost'],\n",
        "        'RMSLE(Docked Bike)': [LinearRegression_e,Decision_tree_e,Random_regression_e,AdaBoostClassifier_e],\n",
        "        'RMSLE(Docked Bike)(Max)': [LinearRegression_max_e,Decision_tree_max_e,Random_forest_max_e,AdaBoostClassifier_max_e],\n",
        "        'Mean MSE(Docked Bike)' : [mean_mse_LinearRegression_e,mean_mse_Decision_tree_e,mean_mse_forest_e,mean_mse_AdaBoostClassifier_e],\n",
        "        'RMSLE(Electric Bike)' : [LinearRegression_e1,Decision_tree_e1,Random_regression_e1,AdaBoostClassifier_e1],\n",
        "        'RMSLE(Electric Bike)(Max)' : [LinearRegression_max_e1,Decision_tree_max_e1,Random_forest_max_e1,AdaBoostClassifier_max_e1],\n",
        "        'Mean MSE(Electric Bike)' : [mean_mse_LinearRegression_e1,mean_mse_Decision_tree_e1,mean_mse_forest_e1,mean_mse_AdaBoostClassifier_e1]\n",
        "        }\n",
        "\n",
        "df = pd.DataFrame(cars, columns = ['type', 'RMSLE(Docked Bike)','RMSLE(Docked Bike)(Max)','Mean MSE(Docked Bike)','RMSLE(Electric Bike)','RMSLE(Electric Bike)(Max)','Mean MSE(Electric Bike)'])\n",
        "df"
      ],
      "execution_count": 78,
      "outputs": [
        {
          "output_type": "execute_result",
          "data": {
            "text/html": [
              "<div>\n",
              "<style scoped>\n",
              "    .dataframe tbody tr th:only-of-type {\n",
              "        vertical-align: middle;\n",
              "    }\n",
              "\n",
              "    .dataframe tbody tr th {\n",
              "        vertical-align: top;\n",
              "    }\n",
              "\n",
              "    .dataframe thead th {\n",
              "        text-align: right;\n",
              "    }\n",
              "</style>\n",
              "<table border=\"1\" class=\"dataframe\">\n",
              "  <thead>\n",
              "    <tr style=\"text-align: right;\">\n",
              "      <th></th>\n",
              "      <th>type</th>\n",
              "      <th>RMSLE(Docked Bike)</th>\n",
              "      <th>RMSLE(Docked Bike)(Max)</th>\n",
              "      <th>Mean MSE(Docked Bike)</th>\n",
              "      <th>RMSLE(Electric Bike)</th>\n",
              "      <th>RMSLE(Electric Bike)(Max)</th>\n",
              "      <th>Mean MSE(Electric Bike)</th>\n",
              "    </tr>\n",
              "  </thead>\n",
              "  <tbody>\n",
              "    <tr>\n",
              "      <th>0</th>\n",
              "      <td>Linear Regression</td>\n",
              "      <td>2.293839</td>\n",
              "      <td>4.057943</td>\n",
              "      <td>2.909313</td>\n",
              "      <td>2.289163</td>\n",
              "      <td>4.155426</td>\n",
              "      <td>2.568843</td>\n",
              "    </tr>\n",
              "    <tr>\n",
              "      <th>1</th>\n",
              "      <td>Decision Tree</td>\n",
              "      <td>0.692618</td>\n",
              "      <td>0.929203</td>\n",
              "      <td>4.033513</td>\n",
              "      <td>0.655792</td>\n",
              "      <td>1.404813</td>\n",
              "      <td>8.538150</td>\n",
              "    </tr>\n",
              "    <tr>\n",
              "      <th>2</th>\n",
              "      <td>Random Forest</td>\n",
              "      <td>0.555437</td>\n",
              "      <td>0.671661</td>\n",
              "      <td>3.506094</td>\n",
              "      <td>0.522906</td>\n",
              "      <td>1.237728</td>\n",
              "      <td>3.642755</td>\n",
              "    </tr>\n",
              "    <tr>\n",
              "      <th>3</th>\n",
              "      <td>ADA Boost</td>\n",
              "      <td>0.559531</td>\n",
              "      <td>0.696075</td>\n",
              "      <td>3.347961</td>\n",
              "      <td>0.505629</td>\n",
              "      <td>1.400001</td>\n",
              "      <td>3.698184</td>\n",
              "    </tr>\n",
              "  </tbody>\n",
              "</table>\n",
              "</div>"
            ],
            "text/plain": [
              "                type  ...  Mean MSE(Electric Bike)\n",
              "0  Linear Regression  ...                 2.568843\n",
              "1      Decision Tree  ...                 8.538150\n",
              "2      Random Forest  ...                 3.642755\n",
              "3          ADA Boost  ...                 3.698184\n",
              "\n",
              "[4 rows x 7 columns]"
            ]
          },
          "metadata": {
            "tags": []
          },
          "execution_count": 78
        }
      ]
    },
    {
      "cell_type": "code",
      "metadata": {
        "id": "dxBJxj5ihiTB"
      },
      "source": [
        "modified = df1"
      ],
      "execution_count": 79,
      "outputs": []
    },
    {
      "cell_type": "code",
      "metadata": {
        "id": "jjJOA7Q0hwiC"
      },
      "source": [
        "\n",
        "X = modified.drop(['docked_b'], 1)\n",
        "y = modified['docked_b']"
      ],
      "execution_count": 80,
      "outputs": []
    },
    {
      "cell_type": "code",
      "metadata": {
        "id": "JqAVNq2ehwiD"
      },
      "source": [
        "X = np.array(X)\n",
        "y = np.array(y)"
      ],
      "execution_count": 81,
      "outputs": []
    },
    {
      "cell_type": "code",
      "metadata": {
        "id": "13lTXgMCiEEf"
      },
      "source": [
        "X_train, X_test, y_train, y_test = train_test_split(X, y, test_size=0.2,random_state=20)"
      ],
      "execution_count": 82,
      "outputs": []
    },
    {
      "cell_type": "code",
      "metadata": {
        "id": "LaWhUTc21duQ",
        "colab": {
          "base_uri": "https://localhost:8080/",
          "height": 857
        },
        "outputId": "8f5e2a15-fb30-48cc-99a7-e4e0755635f1"
      },
      "source": [
        "from sklearn.preprocessing import StandardScaler\n",
        "\n",
        "sc = StandardScaler()\n",
        "#X_train = sc.fit_transform(X_train)\n",
        "#X_test = sc.transform(X_test)\n",
        "from sklearn.ensemble import RandomForestRegressor\n",
        "\n",
        "regressor = RandomForestRegressor(n_estimators=20, random_state=20)\n",
        "regressor.fit(X_train, y_train)\n",
        "y_pred = regressor.predict(X_test)\n",
        "print(\"Actual and predicted value of Electric bike\")\n",
        "dfd = pd.DataFrame({'Actual': y_test.flatten(), 'Predicted': y_pred.flatten()})\n",
        "dfd"
      ],
      "execution_count": 83,
      "outputs": [
        {
          "output_type": "stream",
          "text": [
            "Actual and predicted value of Electric bike\n"
          ],
          "name": "stdout"
        },
        {
          "output_type": "execute_result",
          "data": {
            "text/html": [
              "<div>\n",
              "<style scoped>\n",
              "    .dataframe tbody tr th:only-of-type {\n",
              "        vertical-align: middle;\n",
              "    }\n",
              "\n",
              "    .dataframe tbody tr th {\n",
              "        vertical-align: top;\n",
              "    }\n",
              "\n",
              "    .dataframe thead th {\n",
              "        text-align: right;\n",
              "    }\n",
              "</style>\n",
              "<table border=\"1\" class=\"dataframe\">\n",
              "  <thead>\n",
              "    <tr style=\"text-align: right;\">\n",
              "      <th></th>\n",
              "      <th>Actual</th>\n",
              "      <th>Predicted</th>\n",
              "    </tr>\n",
              "  </thead>\n",
              "  <tbody>\n",
              "    <tr>\n",
              "      <th>0</th>\n",
              "      <td>4</td>\n",
              "      <td>5.80</td>\n",
              "    </tr>\n",
              "    <tr>\n",
              "      <th>1</th>\n",
              "      <td>7</td>\n",
              "      <td>5.50</td>\n",
              "    </tr>\n",
              "    <tr>\n",
              "      <th>2</th>\n",
              "      <td>4</td>\n",
              "      <td>4.85</td>\n",
              "    </tr>\n",
              "    <tr>\n",
              "      <th>3</th>\n",
              "      <td>9</td>\n",
              "      <td>5.95</td>\n",
              "    </tr>\n",
              "    <tr>\n",
              "      <th>4</th>\n",
              "      <td>7</td>\n",
              "      <td>4.00</td>\n",
              "    </tr>\n",
              "    <tr>\n",
              "      <th>5</th>\n",
              "      <td>1</td>\n",
              "      <td>3.80</td>\n",
              "    </tr>\n",
              "    <tr>\n",
              "      <th>6</th>\n",
              "      <td>6</td>\n",
              "      <td>4.00</td>\n",
              "    </tr>\n",
              "    <tr>\n",
              "      <th>7</th>\n",
              "      <td>4</td>\n",
              "      <td>6.60</td>\n",
              "    </tr>\n",
              "    <tr>\n",
              "      <th>8</th>\n",
              "      <td>5</td>\n",
              "      <td>3.00</td>\n",
              "    </tr>\n",
              "    <tr>\n",
              "      <th>9</th>\n",
              "      <td>6</td>\n",
              "      <td>4.65</td>\n",
              "    </tr>\n",
              "    <tr>\n",
              "      <th>10</th>\n",
              "      <td>6</td>\n",
              "      <td>4.80</td>\n",
              "    </tr>\n",
              "    <tr>\n",
              "      <th>11</th>\n",
              "      <td>3</td>\n",
              "      <td>4.85</td>\n",
              "    </tr>\n",
              "    <tr>\n",
              "      <th>12</th>\n",
              "      <td>2</td>\n",
              "      <td>3.25</td>\n",
              "    </tr>\n",
              "    <tr>\n",
              "      <th>13</th>\n",
              "      <td>6</td>\n",
              "      <td>4.00</td>\n",
              "    </tr>\n",
              "    <tr>\n",
              "      <th>14</th>\n",
              "      <td>3</td>\n",
              "      <td>4.05</td>\n",
              "    </tr>\n",
              "    <tr>\n",
              "      <th>15</th>\n",
              "      <td>8</td>\n",
              "      <td>4.45</td>\n",
              "    </tr>\n",
              "    <tr>\n",
              "      <th>16</th>\n",
              "      <td>4</td>\n",
              "      <td>3.95</td>\n",
              "    </tr>\n",
              "    <tr>\n",
              "      <th>17</th>\n",
              "      <td>7</td>\n",
              "      <td>4.55</td>\n",
              "    </tr>\n",
              "    <tr>\n",
              "      <th>18</th>\n",
              "      <td>8</td>\n",
              "      <td>4.05</td>\n",
              "    </tr>\n",
              "    <tr>\n",
              "      <th>19</th>\n",
              "      <td>9</td>\n",
              "      <td>4.75</td>\n",
              "    </tr>\n",
              "    <tr>\n",
              "      <th>20</th>\n",
              "      <td>4</td>\n",
              "      <td>3.95</td>\n",
              "    </tr>\n",
              "    <tr>\n",
              "      <th>21</th>\n",
              "      <td>6</td>\n",
              "      <td>5.00</td>\n",
              "    </tr>\n",
              "    <tr>\n",
              "      <th>22</th>\n",
              "      <td>5</td>\n",
              "      <td>5.20</td>\n",
              "    </tr>\n",
              "    <tr>\n",
              "      <th>23</th>\n",
              "      <td>2</td>\n",
              "      <td>5.95</td>\n",
              "    </tr>\n",
              "    <tr>\n",
              "      <th>24</th>\n",
              "      <td>9</td>\n",
              "      <td>5.35</td>\n",
              "    </tr>\n",
              "    <tr>\n",
              "      <th>25</th>\n",
              "      <td>3</td>\n",
              "      <td>6.65</td>\n",
              "    </tr>\n",
              "    <tr>\n",
              "      <th>26</th>\n",
              "      <td>6</td>\n",
              "      <td>5.75</td>\n",
              "    </tr>\n",
              "  </tbody>\n",
              "</table>\n",
              "</div>"
            ],
            "text/plain": [
              "    Actual  Predicted\n",
              "0        4       5.80\n",
              "1        7       5.50\n",
              "2        4       4.85\n",
              "3        9       5.95\n",
              "4        7       4.00\n",
              "5        1       3.80\n",
              "6        6       4.00\n",
              "7        4       6.60\n",
              "8        5       3.00\n",
              "9        6       4.65\n",
              "10       6       4.80\n",
              "11       3       4.85\n",
              "12       2       3.25\n",
              "13       6       4.00\n",
              "14       3       4.05\n",
              "15       8       4.45\n",
              "16       4       3.95\n",
              "17       7       4.55\n",
              "18       8       4.05\n",
              "19       9       4.75\n",
              "20       4       3.95\n",
              "21       6       5.00\n",
              "22       5       5.20\n",
              "23       2       5.95\n",
              "24       9       5.35\n",
              "25       3       6.65\n",
              "26       6       5.75"
            ]
          },
          "metadata": {
            "tags": []
          },
          "execution_count": 83
        }
      ]
    },
    {
      "cell_type": "code",
      "metadata": {
        "id": "cq5M47T4WS72",
        "colab": {
          "base_uri": "https://localhost:8080/",
          "height": 310
        },
        "outputId": "015edd8a-da64-43c2-9cd7-b821cd73eb47"
      },
      "source": [
        "import matplotlib.pyplot as plt\n",
        "ls = []\n",
        "for i in range(0,len(dfd)):\n",
        "  ls.append(i)\n",
        "plt.plot(ls,dfd['Actual'], label='Actual Data')\n",
        "plt.plot(ls,dfd['Predicted'], label='Actual Data')\n",
        "plt.xlabel('x')\n",
        "plt.ylabel('y')\n",
        "plt.title('Interesting Graph\\nCheck it out')\n",
        "plt.legend()\n",
        "plt.show()"
      ],
      "execution_count": 84,
      "outputs": [
        {
          "output_type": "display_data",
          "data": {
            "image/png": "[encoded data removed]",
            "text/plain": [
              "<Figure size 432x288 with 1 Axes>"
            ]
          },
          "metadata": {
            "tags": [],
            "needs_background": "light"
          }
        }
      ]
    },
    {
      "cell_type": "code",
      "metadata": {
        "id": "uFLJBOFRiUPV"
      },
      "source": [
        "modified = df2"
      ],
      "execution_count": 85,
      "outputs": []
    },
    {
      "cell_type": "code",
      "metadata": {
        "id": "epXPUQDoiUPW"
      },
      "source": [
        "\n",
        "X = modified.drop(['electric_b'], 1)\n",
        "y = modified['electric_b']"
      ],
      "execution_count": 86,
      "outputs": []
    },
    {
      "cell_type": "code",
      "metadata": {
        "id": "NEfyWY4RiUPX"
      },
      "source": [
        "X = np.array(X)\n",
        "y = np.array(y)"
      ],
      "execution_count": 87,
      "outputs": []
    },
    {
      "cell_type": "code",
      "metadata": {
        "id": "PNBAyMwKiUPY"
      },
      "source": [
        "X_train, X_test, y_train, y_test = train_test_split(X, y, test_size=0.2,random_state=20)"
      ],
      "execution_count": 88,
      "outputs": []
    },
    {
      "cell_type": "code",
      "metadata": {
        "id": "HvofMr2jiUPZ",
        "colab": {
          "base_uri": "https://localhost:8080/",
          "height": 974
        },
        "outputId": "eb2fc287-8a5f-4203-974e-52d6ea46356b"
      },
      "source": [
        "from sklearn.preprocessing import StandardScaler\n",
        "\n",
        "sc = StandardScaler()\n",
        "#X_train = sc.fit_transform(X_train)\n",
        "#X_test = sc.transform(X_test)\n",
        "from sklearn.ensemble import RandomForestRegressor\n",
        "\n",
        "regressor = RandomForestRegressor(n_estimators=20, random_state=20)\n",
        "regressor.fit(X_train, y_train)\n",
        "y_pred = regressor.predict(X_test)\n",
        "print(\"Actual and predicted value of Electric bike\")\n",
        "dfe = pd.DataFrame({'Actual': y_test.flatten(), 'Predicted': y_pred.flatten()})\n",
        "dfe"
      ],
      "execution_count": 89,
      "outputs": [
        {
          "output_type": "stream",
          "text": [
            "Actual and predicted value of Electric bike\n"
          ],
          "name": "stdout"
        },
        {
          "output_type": "execute_result",
          "data": {
            "text/html": [
              "<div>\n",
              "<style scoped>\n",
              "    .dataframe tbody tr th:only-of-type {\n",
              "        vertical-align: middle;\n",
              "    }\n",
              "\n",
              "    .dataframe tbody tr th {\n",
              "        vertical-align: top;\n",
              "    }\n",
              "\n",
              "    .dataframe thead th {\n",
              "        text-align: right;\n",
              "    }\n",
              "</style>\n",
              "<table border=\"1\" class=\"dataframe\">\n",
              "  <thead>\n",
              "    <tr style=\"text-align: right;\">\n",
              "      <th></th>\n",
              "      <th>Actual</th>\n",
              "      <th>Predicted</th>\n",
              "    </tr>\n",
              "  </thead>\n",
              "  <tbody>\n",
              "    <tr>\n",
              "      <th>0</th>\n",
              "      <td>4</td>\n",
              "      <td>3.70</td>\n",
              "    </tr>\n",
              "    <tr>\n",
              "      <th>1</th>\n",
              "      <td>5</td>\n",
              "      <td>6.95</td>\n",
              "    </tr>\n",
              "    <tr>\n",
              "      <th>2</th>\n",
              "      <td>3</td>\n",
              "      <td>4.45</td>\n",
              "    </tr>\n",
              "    <tr>\n",
              "      <th>3</th>\n",
              "      <td>4</td>\n",
              "      <td>4.25</td>\n",
              "    </tr>\n",
              "    <tr>\n",
              "      <th>4</th>\n",
              "      <td>6</td>\n",
              "      <td>6.05</td>\n",
              "    </tr>\n",
              "    <tr>\n",
              "      <th>5</th>\n",
              "      <td>4</td>\n",
              "      <td>7.20</td>\n",
              "    </tr>\n",
              "    <tr>\n",
              "      <th>6</th>\n",
              "      <td>6</td>\n",
              "      <td>7.10</td>\n",
              "    </tr>\n",
              "    <tr>\n",
              "      <th>7</th>\n",
              "      <td>3</td>\n",
              "      <td>5.25</td>\n",
              "    </tr>\n",
              "    <tr>\n",
              "      <th>8</th>\n",
              "      <td>6</td>\n",
              "      <td>6.25</td>\n",
              "    </tr>\n",
              "    <tr>\n",
              "      <th>9</th>\n",
              "      <td>6</td>\n",
              "      <td>5.30</td>\n",
              "    </tr>\n",
              "    <tr>\n",
              "      <th>10</th>\n",
              "      <td>6</td>\n",
              "      <td>3.65</td>\n",
              "    </tr>\n",
              "    <tr>\n",
              "      <th>11</th>\n",
              "      <td>5</td>\n",
              "      <td>6.95</td>\n",
              "    </tr>\n",
              "    <tr>\n",
              "      <th>12</th>\n",
              "      <td>4</td>\n",
              "      <td>3.70</td>\n",
              "    </tr>\n",
              "    <tr>\n",
              "      <th>13</th>\n",
              "      <td>7</td>\n",
              "      <td>6.00</td>\n",
              "    </tr>\n",
              "    <tr>\n",
              "      <th>14</th>\n",
              "      <td>2</td>\n",
              "      <td>3.70</td>\n",
              "    </tr>\n",
              "    <tr>\n",
              "      <th>15</th>\n",
              "      <td>4</td>\n",
              "      <td>3.60</td>\n",
              "    </tr>\n",
              "    <tr>\n",
              "      <th>16</th>\n",
              "      <td>4</td>\n",
              "      <td>6.30</td>\n",
              "    </tr>\n",
              "    <tr>\n",
              "      <th>17</th>\n",
              "      <td>5</td>\n",
              "      <td>3.60</td>\n",
              "    </tr>\n",
              "    <tr>\n",
              "      <th>18</th>\n",
              "      <td>2</td>\n",
              "      <td>4.10</td>\n",
              "    </tr>\n",
              "    <tr>\n",
              "      <th>19</th>\n",
              "      <td>5</td>\n",
              "      <td>5.00</td>\n",
              "    </tr>\n",
              "    <tr>\n",
              "      <th>20</th>\n",
              "      <td>3</td>\n",
              "      <td>3.80</td>\n",
              "    </tr>\n",
              "    <tr>\n",
              "      <th>21</th>\n",
              "      <td>5</td>\n",
              "      <td>3.05</td>\n",
              "    </tr>\n",
              "    <tr>\n",
              "      <th>22</th>\n",
              "      <td>5</td>\n",
              "      <td>3.85</td>\n",
              "    </tr>\n",
              "    <tr>\n",
              "      <th>23</th>\n",
              "      <td>8</td>\n",
              "      <td>6.65</td>\n",
              "    </tr>\n",
              "    <tr>\n",
              "      <th>24</th>\n",
              "      <td>4</td>\n",
              "      <td>2.20</td>\n",
              "    </tr>\n",
              "    <tr>\n",
              "      <th>25</th>\n",
              "      <td>2</td>\n",
              "      <td>4.35</td>\n",
              "    </tr>\n",
              "    <tr>\n",
              "      <th>26</th>\n",
              "      <td>5</td>\n",
              "      <td>7.95</td>\n",
              "    </tr>\n",
              "    <tr>\n",
              "      <th>27</th>\n",
              "      <td>21</td>\n",
              "      <td>5.10</td>\n",
              "    </tr>\n",
              "    <tr>\n",
              "      <th>28</th>\n",
              "      <td>17</td>\n",
              "      <td>10.65</td>\n",
              "    </tr>\n",
              "    <tr>\n",
              "      <th>29</th>\n",
              "      <td>4</td>\n",
              "      <td>6.35</td>\n",
              "    </tr>\n",
              "    <tr>\n",
              "      <th>30</th>\n",
              "      <td>2</td>\n",
              "      <td>7.40</td>\n",
              "    </tr>\n",
              "  </tbody>\n",
              "</table>\n",
              "</div>"
            ],
            "text/plain": [
              "    Actual  Predicted\n",
              "0        4       3.70\n",
              "1        5       6.95\n",
              "2        3       4.45\n",
              "3        4       4.25\n",
              "4        6       6.05\n",
              "5        4       7.20\n",
              "6        6       7.10\n",
              "7        3       5.25\n",
              "8        6       6.25\n",
              "9        6       5.30\n",
              "10       6       3.65\n",
              "11       5       6.95\n",
              "12       4       3.70\n",
              "13       7       6.00\n",
              "14       2       3.70\n",
              "15       4       3.60\n",
              "16       4       6.30\n",
              "17       5       3.60\n",
              "18       2       4.10\n",
              "19       5       5.00\n",
              "20       3       3.80\n",
              "21       5       3.05\n",
              "22       5       3.85\n",
              "23       8       6.65\n",
              "24       4       2.20\n",
              "25       2       4.35\n",
              "26       5       7.95\n",
              "27      21       5.10\n",
              "28      17      10.65\n",
              "29       4       6.35\n",
              "30       2       7.40"
            ]
          },
          "metadata": {
            "tags": []
          },
          "execution_count": 89
        }
      ]
    },
    {
      "cell_type": "code",
      "metadata": {
        "id": "5iTI1goqjxn4",
        "colab": {
          "base_uri": "https://localhost:8080/",
          "height": 310
        },
        "outputId": "d1ff1ecb-227d-4784-a206-a02d3df8a1bb"
      },
      "source": [
        "import matplotlib.pyplot as plt\n",
        "ls = []\n",
        "for i in range(0,len(dfe)):\n",
        "  ls.append(i)\n",
        "plt.plot(ls,dfe['Actual'], label='Actual Data')\n",
        "plt.plot(ls,dfe['Predicted'], label='Actual Data')\n",
        "plt.xlabel('x')\n",
        "plt.ylabel('y')\n",
        "plt.title('Interesting Graph\\nCheck it out')\n",
        "plt.legend()\n",
        "plt.show()"
      ],
      "execution_count": 90,
      "outputs": [
        {
          "output_type": "display_data",
          "data": {
            "image/png": "[encoded data removed]",
            "text/plain": [
              "<Figure size 432x288 with 1 Axes>"
            ]
          },
          "metadata": {
            "tags": [],
            "needs_background": "light"
          }
        }
      ]
    },
    {
      "cell_type": "code",
      "metadata": {
        "id": "O_FNyVr9cnfB"
      },
      "source": [
        ""
      ],
      "execution_count": 90,
      "outputs": []
    }
  ]
}